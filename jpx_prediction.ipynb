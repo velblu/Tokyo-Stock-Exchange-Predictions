{
  "cells": [
    {
      "cell_type": "markdown",
      "metadata": {
        "id": "view-in-github",
        "colab_type": "text"
      },
      "source": [
        "<a href=\"https://colab.research.google.com/github/velblu/Tokyo-Stock-Exchange-Predictions/blob/main/jpx_prediction.ipynb\" target=\"_parent\"><img src=\"https://colab.research.google.com/assets/colab-badge.svg\" alt=\"Open In Colab\"/></a>"
      ]
    },
    {
      "cell_type": "markdown",
      "metadata": {
        "id": "SUanD6vRgd88"
      },
      "source": [
        "# A. Task description\n",
        "This is an attempt to create technical classificator based only on technical values like OHLC. No fundamental information are taken into consideration (like business sectors or financial results). \n",
        "\n",
        "Classificator should point to buy, sell or do nothing (long or short or no position) on next day morning (on open). Stocks will be sold on close next day. \n",
        "\n",
        "Target value is based on a return of next day values: (Close - Open) / Open, if:\n",
        "- return <= -1%     then Short\n",
        "- -1% < return < 1%  then None\n",
        "- 1% <= return       then Long\n",
        "\n",
        "There is a target data in dataset but new target data will be created."
      ]
    },
    {
      "cell_type": "markdown",
      "metadata": {
        "id": "s6J_Qj2Kf2Yg"
      },
      "source": [
        "# B. Prerequisitions\n",
        "Importing right packages.."
      ]
    },
    {
      "cell_type": "code",
      "execution_count": 82,
      "metadata": {
        "id": "Oawj3iRVkOzT"
      },
      "outputs": [],
      "source": [
        "# basics\n",
        "import pandas\n",
        "import pandas as pd\n",
        "import numpy as np\n",
        "# from datetime import datetime\n",
        "\n",
        "# sklearn\n",
        "from sklearn.base import BaseEstimator, TransformerMixin\n",
        "from sklearn.linear_model import LogisticRegression\n",
        "from sklearn.metrics import accuracy_score, classification_report\n",
        "from sklearn.pipeline import Pipeline, FeatureUnion, make_pipeline\n",
        "from sklearn.model_selection import train_test_split\n",
        "from sklearn.preprocessing import OneHotEncoder, StandardScaler\n",
        "from sklearn.utils import resample\n",
        "\n",
        "# drawings\n",
        "import plotly.graph_objects as go\n",
        "import matplotlib.pyplot as plt\n",
        "import seaborn as sns"
      ]
    },
    {
      "cell_type": "markdown",
      "source": [
        ".. and downloading dataset"
      ],
      "metadata": {
        "id": "JPIHRJxxIgSx"
      }
    },
    {
      "cell_type": "code",
      "execution_count": 83,
      "metadata": {
        "colab": {
          "base_uri": "https://localhost:8080/"
        },
        "id": "NQgav-APaudJ",
        "outputId": "fa519b92-9fc3-45fb-c9e4-bb81d033086b"
      },
      "outputs": [
        {
          "output_type": "stream",
          "name": "stdout",
          "text": [
            "/usr/local/lib/python3.7/dist-packages/gdown/cli.py:131: FutureWarning: Option `--id` was deprecated in version 4.3.1 and will be removed in 5.0. You don't need to pass it anymore to use a file ID.\n",
            "  category=FutureWarning,\n",
            "Downloading...\n",
            "From: https://drive.google.com/uc?id=10ROR3xkve2Xr0mAoOiZoa-3p490LEwZt\n",
            "To: /content/stock_prices.csv\n",
            "100% 218M/218M [00:00<00:00, 323MB/s]\n"
          ]
        }
      ],
      "source": [
        "# downloading file with data (was to big for github)\n",
        "!gdown --id 10ROR3xkve2Xr0mAoOiZoa-3p490LEwZt"
      ]
    },
    {
      "cell_type": "markdown",
      "metadata": {
        "id": "SDUkJ-2yfviR"
      },
      "source": [
        "# C. Data preparation\n",
        "In this part data will be loaded and analysed. Transformers will be build and tested.\n",
        "\n",
        "## 1. Loading dataset "
      ]
    },
    {
      "cell_type": "code",
      "execution_count": 84,
      "metadata": {
        "id": "yXQUHicHkQfg"
      },
      "outputs": [],
      "source": [
        "# preparing function to load dataset\n",
        "def load_dataset(folder_name: str, file_name: str, index_col: list = None) -> pandas.DataFrame:\n",
        "    \"\"\"\n",
        "    Loading dataset. \n",
        "\n",
        "    :param folder_name: Folders path to file with data    \n",
        "    :param file_name: Name of file \n",
        "    :param index_col: List of columns that are indexes\n",
        "    :return: Dataframe with dataset\n",
        "    \"\"\"\n",
        "    dataset = pd.read_csv(f'{file_name}', index_col=index_col)\n",
        "    return dataset\n"
      ]
    },
    {
      "cell_type": "code",
      "execution_count": 85,
      "metadata": {
        "colab": {
          "base_uri": "https://localhost:8080/",
          "height": 204
        },
        "id": "TkMDy8uMkgxS",
        "outputId": "e3240171-4efb-4aef-db3a-9f7a27df57a8"
      },
      "outputs": [
        {
          "output_type": "execute_result",
          "data": {
            "text/plain": [
              "           RowId        Date  SecuritiesCode    Open    High     Low   Close  \\\n",
              "0  20170104_1301  2017-01-04            1301  2734.0  2755.0  2730.0  2742.0   \n",
              "1  20170104_1332  2017-01-04            1332   568.0   576.0   563.0   571.0   \n",
              "2  20170104_1333  2017-01-04            1333  3150.0  3210.0  3140.0  3210.0   \n",
              "3  20170104_1376  2017-01-04            1376  1510.0  1550.0  1510.0  1550.0   \n",
              "4  20170104_1377  2017-01-04            1377  3270.0  3350.0  3270.0  3330.0   \n",
              "\n",
              "    Volume  AdjustmentFactor  ExpectedDividend  SupervisionFlag    Target  \n",
              "0    31400               1.0               NaN            False  0.000730  \n",
              "1  2798500               1.0               NaN            False  0.012324  \n",
              "2   270800               1.0               NaN            False  0.006154  \n",
              "3    11300               1.0               NaN            False  0.011053  \n",
              "4   150800               1.0               NaN            False  0.003026  "
            ],
            "text/html": [
              "\n",
              "  <div id=\"df-48c822dc-d13f-4703-bf9e-6049cc0d3412\">\n",
              "    <div class=\"colab-df-container\">\n",
              "      <div>\n",
              "<style scoped>\n",
              "    .dataframe tbody tr th:only-of-type {\n",
              "        vertical-align: middle;\n",
              "    }\n",
              "\n",
              "    .dataframe tbody tr th {\n",
              "        vertical-align: top;\n",
              "    }\n",
              "\n",
              "    .dataframe thead th {\n",
              "        text-align: right;\n",
              "    }\n",
              "</style>\n",
              "<table border=\"1\" class=\"dataframe\">\n",
              "  <thead>\n",
              "    <tr style=\"text-align: right;\">\n",
              "      <th></th>\n",
              "      <th>RowId</th>\n",
              "      <th>Date</th>\n",
              "      <th>SecuritiesCode</th>\n",
              "      <th>Open</th>\n",
              "      <th>High</th>\n",
              "      <th>Low</th>\n",
              "      <th>Close</th>\n",
              "      <th>Volume</th>\n",
              "      <th>AdjustmentFactor</th>\n",
              "      <th>ExpectedDividend</th>\n",
              "      <th>SupervisionFlag</th>\n",
              "      <th>Target</th>\n",
              "    </tr>\n",
              "  </thead>\n",
              "  <tbody>\n",
              "    <tr>\n",
              "      <th>0</th>\n",
              "      <td>20170104_1301</td>\n",
              "      <td>2017-01-04</td>\n",
              "      <td>1301</td>\n",
              "      <td>2734.0</td>\n",
              "      <td>2755.0</td>\n",
              "      <td>2730.0</td>\n",
              "      <td>2742.0</td>\n",
              "      <td>31400</td>\n",
              "      <td>1.0</td>\n",
              "      <td>NaN</td>\n",
              "      <td>False</td>\n",
              "      <td>0.000730</td>\n",
              "    </tr>\n",
              "    <tr>\n",
              "      <th>1</th>\n",
              "      <td>20170104_1332</td>\n",
              "      <td>2017-01-04</td>\n",
              "      <td>1332</td>\n",
              "      <td>568.0</td>\n",
              "      <td>576.0</td>\n",
              "      <td>563.0</td>\n",
              "      <td>571.0</td>\n",
              "      <td>2798500</td>\n",
              "      <td>1.0</td>\n",
              "      <td>NaN</td>\n",
              "      <td>False</td>\n",
              "      <td>0.012324</td>\n",
              "    </tr>\n",
              "    <tr>\n",
              "      <th>2</th>\n",
              "      <td>20170104_1333</td>\n",
              "      <td>2017-01-04</td>\n",
              "      <td>1333</td>\n",
              "      <td>3150.0</td>\n",
              "      <td>3210.0</td>\n",
              "      <td>3140.0</td>\n",
              "      <td>3210.0</td>\n",
              "      <td>270800</td>\n",
              "      <td>1.0</td>\n",
              "      <td>NaN</td>\n",
              "      <td>False</td>\n",
              "      <td>0.006154</td>\n",
              "    </tr>\n",
              "    <tr>\n",
              "      <th>3</th>\n",
              "      <td>20170104_1376</td>\n",
              "      <td>2017-01-04</td>\n",
              "      <td>1376</td>\n",
              "      <td>1510.0</td>\n",
              "      <td>1550.0</td>\n",
              "      <td>1510.0</td>\n",
              "      <td>1550.0</td>\n",
              "      <td>11300</td>\n",
              "      <td>1.0</td>\n",
              "      <td>NaN</td>\n",
              "      <td>False</td>\n",
              "      <td>0.011053</td>\n",
              "    </tr>\n",
              "    <tr>\n",
              "      <th>4</th>\n",
              "      <td>20170104_1377</td>\n",
              "      <td>2017-01-04</td>\n",
              "      <td>1377</td>\n",
              "      <td>3270.0</td>\n",
              "      <td>3350.0</td>\n",
              "      <td>3270.0</td>\n",
              "      <td>3330.0</td>\n",
              "      <td>150800</td>\n",
              "      <td>1.0</td>\n",
              "      <td>NaN</td>\n",
              "      <td>False</td>\n",
              "      <td>0.003026</td>\n",
              "    </tr>\n",
              "  </tbody>\n",
              "</table>\n",
              "</div>\n",
              "      <button class=\"colab-df-convert\" onclick=\"convertToInteractive('df-48c822dc-d13f-4703-bf9e-6049cc0d3412')\"\n",
              "              title=\"Convert this dataframe to an interactive table.\"\n",
              "              style=\"display:none;\">\n",
              "        \n",
              "  <svg xmlns=\"http://www.w3.org/2000/svg\" height=\"24px\"viewBox=\"0 0 24 24\"\n",
              "       width=\"24px\">\n",
              "    <path d=\"M0 0h24v24H0V0z\" fill=\"none\"/>\n",
              "    <path d=\"M18.56 5.44l.94 2.06.94-2.06 2.06-.94-2.06-.94-.94-2.06-.94 2.06-2.06.94zm-11 1L8.5 8.5l.94-2.06 2.06-.94-2.06-.94L8.5 2.5l-.94 2.06-2.06.94zm10 10l.94 2.06.94-2.06 2.06-.94-2.06-.94-.94-2.06-.94 2.06-2.06.94z\"/><path d=\"M17.41 7.96l-1.37-1.37c-.4-.4-.92-.59-1.43-.59-.52 0-1.04.2-1.43.59L10.3 9.45l-7.72 7.72c-.78.78-.78 2.05 0 2.83L4 21.41c.39.39.9.59 1.41.59.51 0 1.02-.2 1.41-.59l7.78-7.78 2.81-2.81c.8-.78.8-2.07 0-2.86zM5.41 20L4 18.59l7.72-7.72 1.47 1.35L5.41 20z\"/>\n",
              "  </svg>\n",
              "      </button>\n",
              "      \n",
              "  <style>\n",
              "    .colab-df-container {\n",
              "      display:flex;\n",
              "      flex-wrap:wrap;\n",
              "      gap: 12px;\n",
              "    }\n",
              "\n",
              "    .colab-df-convert {\n",
              "      background-color: #E8F0FE;\n",
              "      border: none;\n",
              "      border-radius: 50%;\n",
              "      cursor: pointer;\n",
              "      display: none;\n",
              "      fill: #1967D2;\n",
              "      height: 32px;\n",
              "      padding: 0 0 0 0;\n",
              "      width: 32px;\n",
              "    }\n",
              "\n",
              "    .colab-df-convert:hover {\n",
              "      background-color: #E2EBFA;\n",
              "      box-shadow: 0px 1px 2px rgba(60, 64, 67, 0.3), 0px 1px 3px 1px rgba(60, 64, 67, 0.15);\n",
              "      fill: #174EA6;\n",
              "    }\n",
              "\n",
              "    [theme=dark] .colab-df-convert {\n",
              "      background-color: #3B4455;\n",
              "      fill: #D2E3FC;\n",
              "    }\n",
              "\n",
              "    [theme=dark] .colab-df-convert:hover {\n",
              "      background-color: #434B5C;\n",
              "      box-shadow: 0px 1px 3px 1px rgba(0, 0, 0, 0.15);\n",
              "      filter: drop-shadow(0px 1px 2px rgba(0, 0, 0, 0.3));\n",
              "      fill: #FFFFFF;\n",
              "    }\n",
              "  </style>\n",
              "\n",
              "      <script>\n",
              "        const buttonEl =\n",
              "          document.querySelector('#df-48c822dc-d13f-4703-bf9e-6049cc0d3412 button.colab-df-convert');\n",
              "        buttonEl.style.display =\n",
              "          google.colab.kernel.accessAllowed ? 'block' : 'none';\n",
              "\n",
              "        async function convertToInteractive(key) {\n",
              "          const element = document.querySelector('#df-48c822dc-d13f-4703-bf9e-6049cc0d3412');\n",
              "          const dataTable =\n",
              "            await google.colab.kernel.invokeFunction('convertToInteractive',\n",
              "                                                     [key], {});\n",
              "          if (!dataTable) return;\n",
              "\n",
              "          const docLinkHtml = 'Like what you see? Visit the ' +\n",
              "            '<a target=\"_blank\" href=https://colab.research.google.com/notebooks/data_table.ipynb>data table notebook</a>'\n",
              "            + ' to learn more about interactive tables.';\n",
              "          element.innerHTML = '';\n",
              "          dataTable['output_type'] = 'display_data';\n",
              "          await google.colab.output.renderOutput(dataTable, element);\n",
              "          const docLink = document.createElement('div');\n",
              "          docLink.innerHTML = docLinkHtml;\n",
              "          element.appendChild(docLink);\n",
              "        }\n",
              "      </script>\n",
              "    </div>\n",
              "  </div>\n",
              "  "
            ]
          },
          "metadata": {},
          "execution_count": 85
        }
      ],
      "source": [
        "FOLDER: str = ''\n",
        "FILE: str = 'stock_prices.csv'\n",
        "INDEX: list = []\n",
        "\n",
        "# Loading dataset with prices and volumes (and other)\n",
        "data = load_dataset(FOLDER, FILE, INDEX)\n",
        "data.head()"
      ]
    },
    {
      "cell_type": "markdown",
      "metadata": {
        "id": "WwERX_Kxig1W"
      },
      "source": [
        "## 2. Dataset specification\n",
        "High level analysis to understand the data with little summary on the end. \n",
        "But first lets check data types..\n"
      ]
    },
    {
      "cell_type": "code",
      "execution_count": 86,
      "metadata": {
        "colab": {
          "base_uri": "https://localhost:8080/"
        },
        "id": "qbtGkMNE9qsI",
        "outputId": "d15ecd34-0bb3-4b00-e1e5-3560206f7336"
      },
      "outputs": [
        {
          "output_type": "stream",
          "name": "stdout",
          "text": [
            "<class 'pandas.core.frame.DataFrame'>\n",
            "RangeIndex: 2332531 entries, 0 to 2332530\n",
            "Data columns (total 12 columns):\n",
            " #   Column            Dtype  \n",
            "---  ------            -----  \n",
            " 0   RowId             object \n",
            " 1   Date              object \n",
            " 2   SecuritiesCode    int64  \n",
            " 3   Open              float64\n",
            " 4   High              float64\n",
            " 5   Low               float64\n",
            " 6   Close             float64\n",
            " 7   Volume            int64  \n",
            " 8   AdjustmentFactor  float64\n",
            " 9   ExpectedDividend  float64\n",
            " 10  SupervisionFlag   bool   \n",
            " 11  Target            float64\n",
            "dtypes: bool(1), float64(7), int64(2), object(2)\n",
            "memory usage: 198.0+ MB\n"
          ]
        }
      ],
      "source": [
        "data.info()"
      ]
    },
    {
      "cell_type": "markdown",
      "source": [
        "Looks like most of data are numbers. Only RowId and Date are objects. "
      ],
      "metadata": {
        "id": "Wsau_cJGFboM"
      }
    },
    {
      "cell_type": "markdown",
      "metadata": {
        "id": "SVYWkI9iuqYv"
      },
      "source": [
        "### 2.1 SecuritiesCode \n",
        "- description: local securities code\n",
        "- type: Int64\n",
        "- sample value: 1301"
      ]
    },
    {
      "cell_type": "code",
      "execution_count": 87,
      "metadata": {
        "colab": {
          "base_uri": "https://localhost:8080/"
        },
        "id": "UC-ex869894P",
        "outputId": "34aa0629-bf23-49ab-8ae9-434058650f38"
      },
      "outputs": [
        {
          "output_type": "execute_result",
          "data": {
            "text/plain": [
              "count    2.332531e+06\n",
              "mean     5.894835e+03\n",
              "std      2.404161e+03\n",
              "min      1.301000e+03\n",
              "25%      3.891000e+03\n",
              "50%      6.238000e+03\n",
              "75%      7.965000e+03\n",
              "max      9.997000e+03\n",
              "Name: SecuritiesCode, dtype: float64"
            ]
          },
          "metadata": {},
          "execution_count": 87
        }
      ],
      "source": [
        "# description of this data\n",
        "data['SecuritiesCode'].describe()"
      ]
    },
    {
      "cell_type": "code",
      "execution_count": 88,
      "metadata": {
        "colab": {
          "base_uri": "https://localhost:8080/",
          "height": 268
        },
        "id": "d5wPpl-UwR8K",
        "outputId": "db9201d4-d8a1-4030-914a-2fb090b35782"
      },
      "outputs": [
        {
          "output_type": "display_data",
          "data": {
            "text/plain": [
              "<Figure size 432x288 with 1 Axes>"
            ],
            "image/png": "[encoded data removed]"
          },
          "metadata": {}
        }
      ],
      "source": [
        "# securieties codes list\n",
        "securieties_codes: list = list(data['SecuritiesCode'].unique())\n",
        "\n",
        "plt.hist(securieties_codes, bins=range(0, 10000, 1000), edgecolor='black')\n",
        "plt.show()"
      ]
    },
    {
      "cell_type": "markdown",
      "metadata": {
        "id": "hTA3bM_i7jRX"
      },
      "source": [
        "This is a column with securities id's and will be used as index.\n",
        "- minimal value is 1301\n",
        "- maximum value is 9997"
      ]
    },
    {
      "cell_type": "code",
      "execution_count": 89,
      "metadata": {
        "colab": {
          "base_uri": "https://localhost:8080/"
        },
        "id": "ZG11rudx35qC",
        "outputId": "e4d7e89b-c85d-4197-961d-bc663a689e1c"
      },
      "outputs": [
        {
          "output_type": "execute_result",
          "data": {
            "text/plain": [
              "                        RowId        Date    Open    High     Low   Close  \\\n",
              "SecuritiesCode                                                              \n",
              "1301            20170104_1301  2017-01-04  2734.0  2755.0  2730.0  2742.0   \n",
              "1332            20170104_1332  2017-01-04   568.0   576.0   563.0   571.0   \n",
              "1333            20170104_1333  2017-01-04  3150.0  3210.0  3140.0  3210.0   \n",
              "1376            20170104_1376  2017-01-04  1510.0  1550.0  1510.0  1550.0   \n",
              "1377            20170104_1377  2017-01-04  3270.0  3350.0  3270.0  3330.0   \n",
              "\n",
              "                 Volume  AdjustmentFactor  ExpectedDividend  SupervisionFlag  \\\n",
              "SecuritiesCode                                                                 \n",
              "1301              31400               1.0               NaN            False   \n",
              "1332            2798500               1.0               NaN            False   \n",
              "1333             270800               1.0               NaN            False   \n",
              "1376              11300               1.0               NaN            False   \n",
              "1377             150800               1.0               NaN            False   \n",
              "\n",
              "                  Target  \n",
              "SecuritiesCode            \n",
              "1301            0.000730  \n",
              "1332            0.012324  \n",
              "1333            0.006154  \n",
              "1376            0.011053  \n",
              "1377            0.003026  "
            ],
            "text/html": [
              "\n",
              "  <div id=\"df-ad2216ed-56d5-4636-bf75-642d92ba733e\">\n",
              "    <div class=\"colab-df-container\">\n",
              "      <div>\n",
              "<style scoped>\n",
              "    .dataframe tbody tr th:only-of-type {\n",
              "        vertical-align: middle;\n",
              "    }\n",
              "\n",
              "    .dataframe tbody tr th {\n",
              "        vertical-align: top;\n",
              "    }\n",
              "\n",
              "    .dataframe thead th {\n",
              "        text-align: right;\n",
              "    }\n",
              "</style>\n",
              "<table border=\"1\" class=\"dataframe\">\n",
              "  <thead>\n",
              "    <tr style=\"text-align: right;\">\n",
              "      <th></th>\n",
              "      <th>RowId</th>\n",
              "      <th>Date</th>\n",
              "      <th>Open</th>\n",
              "      <th>High</th>\n",
              "      <th>Low</th>\n",
              "      <th>Close</th>\n",
              "      <th>Volume</th>\n",
              "      <th>AdjustmentFactor</th>\n",
              "      <th>ExpectedDividend</th>\n",
              "      <th>SupervisionFlag</th>\n",
              "      <th>Target</th>\n",
              "    </tr>\n",
              "    <tr>\n",
              "      <th>SecuritiesCode</th>\n",
              "      <th></th>\n",
              "      <th></th>\n",
              "      <th></th>\n",
              "      <th></th>\n",
              "      <th></th>\n",
              "      <th></th>\n",
              "      <th></th>\n",
              "      <th></th>\n",
              "      <th></th>\n",
              "      <th></th>\n",
              "      <th></th>\n",
              "    </tr>\n",
              "  </thead>\n",
              "  <tbody>\n",
              "    <tr>\n",
              "      <th>1301</th>\n",
              "      <td>20170104_1301</td>\n",
              "      <td>2017-01-04</td>\n",
              "      <td>2734.0</td>\n",
              "      <td>2755.0</td>\n",
              "      <td>2730.0</td>\n",
              "      <td>2742.0</td>\n",
              "      <td>31400</td>\n",
              "      <td>1.0</td>\n",
              "      <td>NaN</td>\n",
              "      <td>False</td>\n",
              "      <td>0.000730</td>\n",
              "    </tr>\n",
              "    <tr>\n",
              "      <th>1332</th>\n",
              "      <td>20170104_1332</td>\n",
              "      <td>2017-01-04</td>\n",
              "      <td>568.0</td>\n",
              "      <td>576.0</td>\n",
              "      <td>563.0</td>\n",
              "      <td>571.0</td>\n",
              "      <td>2798500</td>\n",
              "      <td>1.0</td>\n",
              "      <td>NaN</td>\n",
              "      <td>False</td>\n",
              "      <td>0.012324</td>\n",
              "    </tr>\n",
              "    <tr>\n",
              "      <th>1333</th>\n",
              "      <td>20170104_1333</td>\n",
              "      <td>2017-01-04</td>\n",
              "      <td>3150.0</td>\n",
              "      <td>3210.0</td>\n",
              "      <td>3140.0</td>\n",
              "      <td>3210.0</td>\n",
              "      <td>270800</td>\n",
              "      <td>1.0</td>\n",
              "      <td>NaN</td>\n",
              "      <td>False</td>\n",
              "      <td>0.006154</td>\n",
              "    </tr>\n",
              "    <tr>\n",
              "      <th>1376</th>\n",
              "      <td>20170104_1376</td>\n",
              "      <td>2017-01-04</td>\n",
              "      <td>1510.0</td>\n",
              "      <td>1550.0</td>\n",
              "      <td>1510.0</td>\n",
              "      <td>1550.0</td>\n",
              "      <td>11300</td>\n",
              "      <td>1.0</td>\n",
              "      <td>NaN</td>\n",
              "      <td>False</td>\n",
              "      <td>0.011053</td>\n",
              "    </tr>\n",
              "    <tr>\n",
              "      <th>1377</th>\n",
              "      <td>20170104_1377</td>\n",
              "      <td>2017-01-04</td>\n",
              "      <td>3270.0</td>\n",
              "      <td>3350.0</td>\n",
              "      <td>3270.0</td>\n",
              "      <td>3330.0</td>\n",
              "      <td>150800</td>\n",
              "      <td>1.0</td>\n",
              "      <td>NaN</td>\n",
              "      <td>False</td>\n",
              "      <td>0.003026</td>\n",
              "    </tr>\n",
              "  </tbody>\n",
              "</table>\n",
              "</div>\n",
              "      <button class=\"colab-df-convert\" onclick=\"convertToInteractive('df-ad2216ed-56d5-4636-bf75-642d92ba733e')\"\n",
              "              title=\"Convert this dataframe to an interactive table.\"\n",
              "              style=\"display:none;\">\n",
              "        \n",
              "  <svg xmlns=\"http://www.w3.org/2000/svg\" height=\"24px\"viewBox=\"0 0 24 24\"\n",
              "       width=\"24px\">\n",
              "    <path d=\"M0 0h24v24H0V0z\" fill=\"none\"/>\n",
              "    <path d=\"M18.56 5.44l.94 2.06.94-2.06 2.06-.94-2.06-.94-.94-2.06-.94 2.06-2.06.94zm-11 1L8.5 8.5l.94-2.06 2.06-.94-2.06-.94L8.5 2.5l-.94 2.06-2.06.94zm10 10l.94 2.06.94-2.06 2.06-.94-2.06-.94-.94-2.06-.94 2.06-2.06.94z\"/><path d=\"M17.41 7.96l-1.37-1.37c-.4-.4-.92-.59-1.43-.59-.52 0-1.04.2-1.43.59L10.3 9.45l-7.72 7.72c-.78.78-.78 2.05 0 2.83L4 21.41c.39.39.9.59 1.41.59.51 0 1.02-.2 1.41-.59l7.78-7.78 2.81-2.81c.8-.78.8-2.07 0-2.86zM5.41 20L4 18.59l7.72-7.72 1.47 1.35L5.41 20z\"/>\n",
              "  </svg>\n",
              "      </button>\n",
              "      \n",
              "  <style>\n",
              "    .colab-df-container {\n",
              "      display:flex;\n",
              "      flex-wrap:wrap;\n",
              "      gap: 12px;\n",
              "    }\n",
              "\n",
              "    .colab-df-convert {\n",
              "      background-color: #E8F0FE;\n",
              "      border: none;\n",
              "      border-radius: 50%;\n",
              "      cursor: pointer;\n",
              "      display: none;\n",
              "      fill: #1967D2;\n",
              "      height: 32px;\n",
              "      padding: 0 0 0 0;\n",
              "      width: 32px;\n",
              "    }\n",
              "\n",
              "    .colab-df-convert:hover {\n",
              "      background-color: #E2EBFA;\n",
              "      box-shadow: 0px 1px 2px rgba(60, 64, 67, 0.3), 0px 1px 3px 1px rgba(60, 64, 67, 0.15);\n",
              "      fill: #174EA6;\n",
              "    }\n",
              "\n",
              "    [theme=dark] .colab-df-convert {\n",
              "      background-color: #3B4455;\n",
              "      fill: #D2E3FC;\n",
              "    }\n",
              "\n",
              "    [theme=dark] .colab-df-convert:hover {\n",
              "      background-color: #434B5C;\n",
              "      box-shadow: 0px 1px 3px 1px rgba(0, 0, 0, 0.15);\n",
              "      filter: drop-shadow(0px 1px 2px rgba(0, 0, 0, 0.3));\n",
              "      fill: #FFFFFF;\n",
              "    }\n",
              "  </style>\n",
              "\n",
              "      <script>\n",
              "        const buttonEl =\n",
              "          document.querySelector('#df-ad2216ed-56d5-4636-bf75-642d92ba733e button.colab-df-convert');\n",
              "        buttonEl.style.display =\n",
              "          google.colab.kernel.accessAllowed ? 'block' : 'none';\n",
              "\n",
              "        async function convertToInteractive(key) {\n",
              "          const element = document.querySelector('#df-ad2216ed-56d5-4636-bf75-642d92ba733e');\n",
              "          const dataTable =\n",
              "            await google.colab.kernel.invokeFunction('convertToInteractive',\n",
              "                                                     [key], {});\n",
              "          if (!dataTable) return;\n",
              "\n",
              "          const docLinkHtml = 'Like what you see? Visit the ' +\n",
              "            '<a target=\"_blank\" href=https://colab.research.google.com/notebooks/data_table.ipynb>data table notebook</a>'\n",
              "            + ' to learn more about interactive tables.';\n",
              "          element.innerHTML = '';\n",
              "          dataTable['output_type'] = 'display_data';\n",
              "          await google.colab.output.renderOutput(dataTable, element);\n",
              "          const docLink = document.createElement('div');\n",
              "          docLink.innerHTML = docLinkHtml;\n",
              "          element.appendChild(docLink);\n",
              "        }\n",
              "      </script>\n",
              "    </div>\n",
              "  </div>\n",
              "  "
            ]
          },
          "metadata": {},
          "execution_count": 89
        }
      ],
      "source": [
        "# setting as index\n",
        "data.set_index(keys=['SecuritiesCode'], inplace=True)\n",
        "data.head()"
      ]
    },
    {
      "cell_type": "markdown",
      "metadata": {
        "id": "_OOWE17-uLhx"
      },
      "source": [
        "### 2.2 Date\n",
        "\n",
        "- description: trade date\n",
        "- type: date\n",
        "- sample value: 2017-01-04 0:00:00\n"
      ]
    },
    {
      "cell_type": "code",
      "execution_count": 90,
      "metadata": {
        "colab": {
          "base_uri": "https://localhost:8080/"
        },
        "id": "g4DY-MNauqyh",
        "outputId": "7dc2ca16-149a-4e1d-ff2f-9a8a00564071"
      },
      "outputs": [
        {
          "output_type": "stream",
          "name": "stderr",
          "text": [
            "/usr/local/lib/python3.7/dist-packages/ipykernel_launcher.py:2: FutureWarning:\n",
            "\n",
            "Treating datetime data as categorical rather than numeric in `.describe` is deprecated and will be removed in a future version of pandas. Specify `datetime_is_numeric=True` to silence this warning and adopt the future behavior now.\n",
            "\n"
          ]
        },
        {
          "output_type": "execute_result",
          "data": {
            "text/plain": [
              "count                 2332531\n",
              "unique                   1202\n",
              "top       2021-12-03 00:00:00\n",
              "freq                     2000\n",
              "first     2017-01-04 00:00:00\n",
              "last      2021-12-03 00:00:00\n",
              "Name: Date, dtype: object"
            ]
          },
          "metadata": {},
          "execution_count": 90
        }
      ],
      "source": [
        "# describing column\n",
        "pd.to_datetime(data['Date']).describe()"
      ]
    },
    {
      "cell_type": "code",
      "execution_count": 91,
      "metadata": {
        "colab": {
          "base_uri": "https://localhost:8080/"
        },
        "id": "bsTogzoY3Fvg",
        "outputId": "79286d43-1527-48ed-b49e-fb374bae1eaf"
      },
      "outputs": [
        {
          "output_type": "execute_result",
          "data": {
            "text/plain": [
              "array(['Wednesday', 'Thursday', 'Friday', 'Tuesday', 'Monday'],\n",
              "      dtype=object)"
            ]
          },
          "metadata": {},
          "execution_count": 91
        }
      ],
      "source": [
        "# checking days of week\n",
        "pd.to_datetime(data['Date']).dt.day_name().unique()"
      ]
    },
    {
      "cell_type": "code",
      "execution_count": 92,
      "metadata": {
        "colab": {
          "base_uri": "https://localhost:8080/",
          "height": 270
        },
        "id": "3iOtUdN75mDK",
        "outputId": "377c8c41-fb76-482c-9df3-94d656504f15"
      },
      "outputs": [
        {
          "output_type": "display_data",
          "data": {
            "text/plain": [
              "<Figure size 432x288 with 1 Axes>"
            ],
            "image/png": "[encoded data removed]"
          },
          "metadata": {}
        }
      ],
      "source": [
        "# days of week histogram\n",
        "plt.hist(pd.to_datetime(data['Date']).dt.day_name(), \n",
        "         edgecolor='black')\n",
        "plt.show()"
      ]
    },
    {
      "cell_type": "markdown",
      "metadata": {
        "id": "FS7GeN9d6TSS"
      },
      "source": [
        "This is column with trade dates and it will be used as index. \n",
        "- Dates starts from 2017-01-04 and finishes at 2021-12-03. \n",
        "- Dates are only monday - friday days of week with even distribution of data"
      ]
    },
    {
      "cell_type": "code",
      "execution_count": 93,
      "metadata": {
        "colab": {
          "base_uri": "https://localhost:8080/",
          "height": 235
        },
        "id": "bV_pgwz90hBb",
        "outputId": "282a176d-83dc-4f2b-a129-4189abf213f3"
      },
      "outputs": [
        {
          "output_type": "execute_result",
          "data": {
            "text/plain": [
              "                                   RowId    Open    High     Low   Close  \\\n",
              "SecuritiesCode Date                                                        \n",
              "1301           2017-01-04  20170104_1301  2734.0  2755.0  2730.0  2742.0   \n",
              "1332           2017-01-04  20170104_1332   568.0   576.0   563.0   571.0   \n",
              "1333           2017-01-04  20170104_1333  3150.0  3210.0  3140.0  3210.0   \n",
              "1376           2017-01-04  20170104_1376  1510.0  1550.0  1510.0  1550.0   \n",
              "1377           2017-01-04  20170104_1377  3270.0  3350.0  3270.0  3330.0   \n",
              "\n",
              "                            Volume  AdjustmentFactor  ExpectedDividend  \\\n",
              "SecuritiesCode Date                                                      \n",
              "1301           2017-01-04    31400               1.0               NaN   \n",
              "1332           2017-01-04  2798500               1.0               NaN   \n",
              "1333           2017-01-04   270800               1.0               NaN   \n",
              "1376           2017-01-04    11300               1.0               NaN   \n",
              "1377           2017-01-04   150800               1.0               NaN   \n",
              "\n",
              "                           SupervisionFlag    Target  \n",
              "SecuritiesCode Date                                   \n",
              "1301           2017-01-04            False  0.000730  \n",
              "1332           2017-01-04            False  0.012324  \n",
              "1333           2017-01-04            False  0.006154  \n",
              "1376           2017-01-04            False  0.011053  \n",
              "1377           2017-01-04            False  0.003026  "
            ],
            "text/html": [
              "\n",
              "  <div id=\"df-fbda3b20-06c9-4172-8156-3094eec4485e\">\n",
              "    <div class=\"colab-df-container\">\n",
              "      <div>\n",
              "<style scoped>\n",
              "    .dataframe tbody tr th:only-of-type {\n",
              "        vertical-align: middle;\n",
              "    }\n",
              "\n",
              "    .dataframe tbody tr th {\n",
              "        vertical-align: top;\n",
              "    }\n",
              "\n",
              "    .dataframe thead th {\n",
              "        text-align: right;\n",
              "    }\n",
              "</style>\n",
              "<table border=\"1\" class=\"dataframe\">\n",
              "  <thead>\n",
              "    <tr style=\"text-align: right;\">\n",
              "      <th></th>\n",
              "      <th></th>\n",
              "      <th>RowId</th>\n",
              "      <th>Open</th>\n",
              "      <th>High</th>\n",
              "      <th>Low</th>\n",
              "      <th>Close</th>\n",
              "      <th>Volume</th>\n",
              "      <th>AdjustmentFactor</th>\n",
              "      <th>ExpectedDividend</th>\n",
              "      <th>SupervisionFlag</th>\n",
              "      <th>Target</th>\n",
              "    </tr>\n",
              "    <tr>\n",
              "      <th>SecuritiesCode</th>\n",
              "      <th>Date</th>\n",
              "      <th></th>\n",
              "      <th></th>\n",
              "      <th></th>\n",
              "      <th></th>\n",
              "      <th></th>\n",
              "      <th></th>\n",
              "      <th></th>\n",
              "      <th></th>\n",
              "      <th></th>\n",
              "      <th></th>\n",
              "    </tr>\n",
              "  </thead>\n",
              "  <tbody>\n",
              "    <tr>\n",
              "      <th>1301</th>\n",
              "      <th>2017-01-04</th>\n",
              "      <td>20170104_1301</td>\n",
              "      <td>2734.0</td>\n",
              "      <td>2755.0</td>\n",
              "      <td>2730.0</td>\n",
              "      <td>2742.0</td>\n",
              "      <td>31400</td>\n",
              "      <td>1.0</td>\n",
              "      <td>NaN</td>\n",
              "      <td>False</td>\n",
              "      <td>0.000730</td>\n",
              "    </tr>\n",
              "    <tr>\n",
              "      <th>1332</th>\n",
              "      <th>2017-01-04</th>\n",
              "      <td>20170104_1332</td>\n",
              "      <td>568.0</td>\n",
              "      <td>576.0</td>\n",
              "      <td>563.0</td>\n",
              "      <td>571.0</td>\n",
              "      <td>2798500</td>\n",
              "      <td>1.0</td>\n",
              "      <td>NaN</td>\n",
              "      <td>False</td>\n",
              "      <td>0.012324</td>\n",
              "    </tr>\n",
              "    <tr>\n",
              "      <th>1333</th>\n",
              "      <th>2017-01-04</th>\n",
              "      <td>20170104_1333</td>\n",
              "      <td>3150.0</td>\n",
              "      <td>3210.0</td>\n",
              "      <td>3140.0</td>\n",
              "      <td>3210.0</td>\n",
              "      <td>270800</td>\n",
              "      <td>1.0</td>\n",
              "      <td>NaN</td>\n",
              "      <td>False</td>\n",
              "      <td>0.006154</td>\n",
              "    </tr>\n",
              "    <tr>\n",
              "      <th>1376</th>\n",
              "      <th>2017-01-04</th>\n",
              "      <td>20170104_1376</td>\n",
              "      <td>1510.0</td>\n",
              "      <td>1550.0</td>\n",
              "      <td>1510.0</td>\n",
              "      <td>1550.0</td>\n",
              "      <td>11300</td>\n",
              "      <td>1.0</td>\n",
              "      <td>NaN</td>\n",
              "      <td>False</td>\n",
              "      <td>0.011053</td>\n",
              "    </tr>\n",
              "    <tr>\n",
              "      <th>1377</th>\n",
              "      <th>2017-01-04</th>\n",
              "      <td>20170104_1377</td>\n",
              "      <td>3270.0</td>\n",
              "      <td>3350.0</td>\n",
              "      <td>3270.0</td>\n",
              "      <td>3330.0</td>\n",
              "      <td>150800</td>\n",
              "      <td>1.0</td>\n",
              "      <td>NaN</td>\n",
              "      <td>False</td>\n",
              "      <td>0.003026</td>\n",
              "    </tr>\n",
              "  </tbody>\n",
              "</table>\n",
              "</div>\n",
              "      <button class=\"colab-df-convert\" onclick=\"convertToInteractive('df-fbda3b20-06c9-4172-8156-3094eec4485e')\"\n",
              "              title=\"Convert this dataframe to an interactive table.\"\n",
              "              style=\"display:none;\">\n",
              "        \n",
              "  <svg xmlns=\"http://www.w3.org/2000/svg\" height=\"24px\"viewBox=\"0 0 24 24\"\n",
              "       width=\"24px\">\n",
              "    <path d=\"M0 0h24v24H0V0z\" fill=\"none\"/>\n",
              "    <path d=\"M18.56 5.44l.94 2.06.94-2.06 2.06-.94-2.06-.94-.94-2.06-.94 2.06-2.06.94zm-11 1L8.5 8.5l.94-2.06 2.06-.94-2.06-.94L8.5 2.5l-.94 2.06-2.06.94zm10 10l.94 2.06.94-2.06 2.06-.94-2.06-.94-.94-2.06-.94 2.06-2.06.94z\"/><path d=\"M17.41 7.96l-1.37-1.37c-.4-.4-.92-.59-1.43-.59-.52 0-1.04.2-1.43.59L10.3 9.45l-7.72 7.72c-.78.78-.78 2.05 0 2.83L4 21.41c.39.39.9.59 1.41.59.51 0 1.02-.2 1.41-.59l7.78-7.78 2.81-2.81c.8-.78.8-2.07 0-2.86zM5.41 20L4 18.59l7.72-7.72 1.47 1.35L5.41 20z\"/>\n",
              "  </svg>\n",
              "      </button>\n",
              "      \n",
              "  <style>\n",
              "    .colab-df-container {\n",
              "      display:flex;\n",
              "      flex-wrap:wrap;\n",
              "      gap: 12px;\n",
              "    }\n",
              "\n",
              "    .colab-df-convert {\n",
              "      background-color: #E8F0FE;\n",
              "      border: none;\n",
              "      border-radius: 50%;\n",
              "      cursor: pointer;\n",
              "      display: none;\n",
              "      fill: #1967D2;\n",
              "      height: 32px;\n",
              "      padding: 0 0 0 0;\n",
              "      width: 32px;\n",
              "    }\n",
              "\n",
              "    .colab-df-convert:hover {\n",
              "      background-color: #E2EBFA;\n",
              "      box-shadow: 0px 1px 2px rgba(60, 64, 67, 0.3), 0px 1px 3px 1px rgba(60, 64, 67, 0.15);\n",
              "      fill: #174EA6;\n",
              "    }\n",
              "\n",
              "    [theme=dark] .colab-df-convert {\n",
              "      background-color: #3B4455;\n",
              "      fill: #D2E3FC;\n",
              "    }\n",
              "\n",
              "    [theme=dark] .colab-df-convert:hover {\n",
              "      background-color: #434B5C;\n",
              "      box-shadow: 0px 1px 3px 1px rgba(0, 0, 0, 0.15);\n",
              "      filter: drop-shadow(0px 1px 2px rgba(0, 0, 0, 0.3));\n",
              "      fill: #FFFFFF;\n",
              "    }\n",
              "  </style>\n",
              "\n",
              "      <script>\n",
              "        const buttonEl =\n",
              "          document.querySelector('#df-fbda3b20-06c9-4172-8156-3094eec4485e button.colab-df-convert');\n",
              "        buttonEl.style.display =\n",
              "          google.colab.kernel.accessAllowed ? 'block' : 'none';\n",
              "\n",
              "        async function convertToInteractive(key) {\n",
              "          const element = document.querySelector('#df-fbda3b20-06c9-4172-8156-3094eec4485e');\n",
              "          const dataTable =\n",
              "            await google.colab.kernel.invokeFunction('convertToInteractive',\n",
              "                                                     [key], {});\n",
              "          if (!dataTable) return;\n",
              "\n",
              "          const docLinkHtml = 'Like what you see? Visit the ' +\n",
              "            '<a target=\"_blank\" href=https://colab.research.google.com/notebooks/data_table.ipynb>data table notebook</a>'\n",
              "            + ' to learn more about interactive tables.';\n",
              "          element.innerHTML = '';\n",
              "          dataTable['output_type'] = 'display_data';\n",
              "          await google.colab.output.renderOutput(dataTable, element);\n",
              "          const docLink = document.createElement('div');\n",
              "          docLink.innerHTML = docLinkHtml;\n",
              "          element.appendChild(docLink);\n",
              "        }\n",
              "      </script>\n",
              "    </div>\n",
              "  </div>\n",
              "  "
            ]
          },
          "metadata": {},
          "execution_count": 93
        }
      ],
      "source": [
        "data.set_index(keys=['Date'], append=True, inplace=True)\n",
        "data.head()"
      ]
    },
    {
      "cell_type": "markdown",
      "metadata": {
        "id": "2kNsbZKP_ILb"
      },
      "source": [
        "### 2.3 RowID\n",
        "- description: unique ID of price records\n",
        "- type: string \n",
        "- sample value: 20170104_1301"
      ]
    },
    {
      "cell_type": "code",
      "execution_count": 94,
      "metadata": {
        "colab": {
          "base_uri": "https://localhost:8080/"
        },
        "id": "x_WwCCYLBIja",
        "outputId": "124d79c9-acaa-46e2-b703-e150e589357c"
      },
      "outputs": [
        {
          "output_type": "execute_result",
          "data": {
            "text/plain": [
              "count           2332531\n",
              "unique          2332531\n",
              "top       20170104_1301\n",
              "freq                  1\n",
              "Name: RowId, dtype: object"
            ]
          },
          "metadata": {},
          "execution_count": 94
        }
      ],
      "source": [
        "# description of this data\n",
        "data['RowId'].describe()"
      ]
    },
    {
      "cell_type": "code",
      "execution_count": 95,
      "metadata": {
        "colab": {
          "base_uri": "https://localhost:8080/"
        },
        "id": "H3UVCw2CDHhF",
        "outputId": "2d5c49cc-21cc-4699-8124-b764a1b6d55d"
      },
      "outputs": [
        {
          "output_type": "execute_result",
          "data": {
            "text/plain": [
              "0"
            ]
          },
          "metadata": {},
          "execution_count": 95
        }
      ],
      "source": [
        "# counting nulls \n",
        "data['RowId'].isnull().sum()"
      ]
    },
    {
      "cell_type": "code",
      "execution_count": 96,
      "metadata": {
        "colab": {
          "base_uri": "https://localhost:8080/"
        },
        "id": "2-D1RMGJBIuX",
        "outputId": "107af42d-2e9e-4a64-9a1a-07dbf5b8c894"
      },
      "outputs": [
        {
          "output_type": "execute_result",
          "data": {
            "text/plain": [
              "SecuritiesCode  Date      \n",
              "1301            2017-01-04    20170104_1301\n",
              "1332            2017-01-04    20170104_1332\n",
              "1333            2017-01-04    20170104_1333\n",
              "1376            2017-01-04    20170104_1376\n",
              "1377            2017-01-04    20170104_1377\n",
              "1379            2017-01-04    20170104_1379\n",
              "1381            2017-01-04    20170104_1381\n",
              "1407            2017-01-04    20170104_1407\n",
              "1414            2017-01-04    20170104_1414\n",
              "1417            2017-01-04    20170104_1417\n",
              "Name: RowId, dtype: object"
            ]
          },
          "metadata": {},
          "execution_count": 96
        }
      ],
      "source": [
        "# how does structure of row id looks like? \n",
        "data['RowId'][:10]"
      ]
    },
    {
      "cell_type": "markdown",
      "metadata": {
        "id": "uOSwJpsEBs60"
      },
      "source": [
        "This is column is an id for a row and brings no value for us. Will be deleted\n",
        "- one row id occurs only ones\n",
        "- there are no null values\n",
        "- structure of this data: YYYYMMDD_SecurietiesCode"
      ]
    },
    {
      "cell_type": "code",
      "execution_count": 97,
      "metadata": {
        "id": "XoiR2L6VEIKd"
      },
      "outputs": [],
      "source": [
        "# adding to remove \n",
        "prepering_data_remove_columns: list = ['RowId']"
      ]
    },
    {
      "cell_type": "markdown",
      "metadata": {
        "id": "zCxXMPnxDkCB"
      },
      "source": [
        "### 2.4 OHLC\n",
        "\n",
        "Open:\n",
        "- description: first traded price on a day\n",
        "- type: float\n",
        "- sample value: 2734\n",
        "\n",
        "High:\n",
        "- description: highest traded price on a day\n",
        "- type: float\n",
        "- sample value: 2755\n",
        "\n",
        "Low: \n",
        "- description: lowest traded price on a day\n",
        "- type: float\n",
        "- sample value: 2730\n",
        "\n",
        "Close:\n",
        "- description: last traded price on a day\n",
        "- type: float\n",
        "- sample value: 2742"
      ]
    },
    {
      "cell_type": "code",
      "execution_count": 98,
      "metadata": {
        "colab": {
          "base_uri": "https://localhost:8080/",
          "height": 297
        },
        "id": "Ee6tvC7EF8W1",
        "outputId": "3b0454cf-a477-48ac-c35c-75b5f8998f37"
      },
      "outputs": [
        {
          "output_type": "execute_result",
          "data": {
            "text/plain": [
              "               Open          High           Low         Close\n",
              "count  2.324923e+06  2.324923e+06  2.324923e+06  2.324923e+06\n",
              "mean   2.594511e+03  2.626540e+03  2.561227e+03  2.594023e+03\n",
              "std    3.577192e+03  3.619363e+03  3.533494e+03  3.576538e+03\n",
              "min    1.400000e+01  1.500000e+01  1.300000e+01  1.400000e+01\n",
              "25%    1.022000e+03  1.035000e+03  1.009000e+03  1.022000e+03\n",
              "50%    1.812000e+03  1.834000e+03  1.790000e+03  1.811000e+03\n",
              "75%    3.030000e+03  3.070000e+03  2.995000e+03  3.030000e+03\n",
              "max    1.099500e+05  1.105000e+05  1.072000e+05  1.095500e+05"
            ],
            "text/html": [
              "\n",
              "  <div id=\"df-edf53aee-4be8-46d4-8e03-4176e57aff87\">\n",
              "    <div class=\"colab-df-container\">\n",
              "      <div>\n",
              "<style scoped>\n",
              "    .dataframe tbody tr th:only-of-type {\n",
              "        vertical-align: middle;\n",
              "    }\n",
              "\n",
              "    .dataframe tbody tr th {\n",
              "        vertical-align: top;\n",
              "    }\n",
              "\n",
              "    .dataframe thead th {\n",
              "        text-align: right;\n",
              "    }\n",
              "</style>\n",
              "<table border=\"1\" class=\"dataframe\">\n",
              "  <thead>\n",
              "    <tr style=\"text-align: right;\">\n",
              "      <th></th>\n",
              "      <th>Open</th>\n",
              "      <th>High</th>\n",
              "      <th>Low</th>\n",
              "      <th>Close</th>\n",
              "    </tr>\n",
              "  </thead>\n",
              "  <tbody>\n",
              "    <tr>\n",
              "      <th>count</th>\n",
              "      <td>2.324923e+06</td>\n",
              "      <td>2.324923e+06</td>\n",
              "      <td>2.324923e+06</td>\n",
              "      <td>2.324923e+06</td>\n",
              "    </tr>\n",
              "    <tr>\n",
              "      <th>mean</th>\n",
              "      <td>2.594511e+03</td>\n",
              "      <td>2.626540e+03</td>\n",
              "      <td>2.561227e+03</td>\n",
              "      <td>2.594023e+03</td>\n",
              "    </tr>\n",
              "    <tr>\n",
              "      <th>std</th>\n",
              "      <td>3.577192e+03</td>\n",
              "      <td>3.619363e+03</td>\n",
              "      <td>3.533494e+03</td>\n",
              "      <td>3.576538e+03</td>\n",
              "    </tr>\n",
              "    <tr>\n",
              "      <th>min</th>\n",
              "      <td>1.400000e+01</td>\n",
              "      <td>1.500000e+01</td>\n",
              "      <td>1.300000e+01</td>\n",
              "      <td>1.400000e+01</td>\n",
              "    </tr>\n",
              "    <tr>\n",
              "      <th>25%</th>\n",
              "      <td>1.022000e+03</td>\n",
              "      <td>1.035000e+03</td>\n",
              "      <td>1.009000e+03</td>\n",
              "      <td>1.022000e+03</td>\n",
              "    </tr>\n",
              "    <tr>\n",
              "      <th>50%</th>\n",
              "      <td>1.812000e+03</td>\n",
              "      <td>1.834000e+03</td>\n",
              "      <td>1.790000e+03</td>\n",
              "      <td>1.811000e+03</td>\n",
              "    </tr>\n",
              "    <tr>\n",
              "      <th>75%</th>\n",
              "      <td>3.030000e+03</td>\n",
              "      <td>3.070000e+03</td>\n",
              "      <td>2.995000e+03</td>\n",
              "      <td>3.030000e+03</td>\n",
              "    </tr>\n",
              "    <tr>\n",
              "      <th>max</th>\n",
              "      <td>1.099500e+05</td>\n",
              "      <td>1.105000e+05</td>\n",
              "      <td>1.072000e+05</td>\n",
              "      <td>1.095500e+05</td>\n",
              "    </tr>\n",
              "  </tbody>\n",
              "</table>\n",
              "</div>\n",
              "      <button class=\"colab-df-convert\" onclick=\"convertToInteractive('df-edf53aee-4be8-46d4-8e03-4176e57aff87')\"\n",
              "              title=\"Convert this dataframe to an interactive table.\"\n",
              "              style=\"display:none;\">\n",
              "        \n",
              "  <svg xmlns=\"http://www.w3.org/2000/svg\" height=\"24px\"viewBox=\"0 0 24 24\"\n",
              "       width=\"24px\">\n",
              "    <path d=\"M0 0h24v24H0V0z\" fill=\"none\"/>\n",
              "    <path d=\"M18.56 5.44l.94 2.06.94-2.06 2.06-.94-2.06-.94-.94-2.06-.94 2.06-2.06.94zm-11 1L8.5 8.5l.94-2.06 2.06-.94-2.06-.94L8.5 2.5l-.94 2.06-2.06.94zm10 10l.94 2.06.94-2.06 2.06-.94-2.06-.94-.94-2.06-.94 2.06-2.06.94z\"/><path d=\"M17.41 7.96l-1.37-1.37c-.4-.4-.92-.59-1.43-.59-.52 0-1.04.2-1.43.59L10.3 9.45l-7.72 7.72c-.78.78-.78 2.05 0 2.83L4 21.41c.39.39.9.59 1.41.59.51 0 1.02-.2 1.41-.59l7.78-7.78 2.81-2.81c.8-.78.8-2.07 0-2.86zM5.41 20L4 18.59l7.72-7.72 1.47 1.35L5.41 20z\"/>\n",
              "  </svg>\n",
              "      </button>\n",
              "      \n",
              "  <style>\n",
              "    .colab-df-container {\n",
              "      display:flex;\n",
              "      flex-wrap:wrap;\n",
              "      gap: 12px;\n",
              "    }\n",
              "\n",
              "    .colab-df-convert {\n",
              "      background-color: #E8F0FE;\n",
              "      border: none;\n",
              "      border-radius: 50%;\n",
              "      cursor: pointer;\n",
              "      display: none;\n",
              "      fill: #1967D2;\n",
              "      height: 32px;\n",
              "      padding: 0 0 0 0;\n",
              "      width: 32px;\n",
              "    }\n",
              "\n",
              "    .colab-df-convert:hover {\n",
              "      background-color: #E2EBFA;\n",
              "      box-shadow: 0px 1px 2px rgba(60, 64, 67, 0.3), 0px 1px 3px 1px rgba(60, 64, 67, 0.15);\n",
              "      fill: #174EA6;\n",
              "    }\n",
              "\n",
              "    [theme=dark] .colab-df-convert {\n",
              "      background-color: #3B4455;\n",
              "      fill: #D2E3FC;\n",
              "    }\n",
              "\n",
              "    [theme=dark] .colab-df-convert:hover {\n",
              "      background-color: #434B5C;\n",
              "      box-shadow: 0px 1px 3px 1px rgba(0, 0, 0, 0.15);\n",
              "      filter: drop-shadow(0px 1px 2px rgba(0, 0, 0, 0.3));\n",
              "      fill: #FFFFFF;\n",
              "    }\n",
              "  </style>\n",
              "\n",
              "      <script>\n",
              "        const buttonEl =\n",
              "          document.querySelector('#df-edf53aee-4be8-46d4-8e03-4176e57aff87 button.colab-df-convert');\n",
              "        buttonEl.style.display =\n",
              "          google.colab.kernel.accessAllowed ? 'block' : 'none';\n",
              "\n",
              "        async function convertToInteractive(key) {\n",
              "          const element = document.querySelector('#df-edf53aee-4be8-46d4-8e03-4176e57aff87');\n",
              "          const dataTable =\n",
              "            await google.colab.kernel.invokeFunction('convertToInteractive',\n",
              "                                                     [key], {});\n",
              "          if (!dataTable) return;\n",
              "\n",
              "          const docLinkHtml = 'Like what you see? Visit the ' +\n",
              "            '<a target=\"_blank\" href=https://colab.research.google.com/notebooks/data_table.ipynb>data table notebook</a>'\n",
              "            + ' to learn more about interactive tables.';\n",
              "          element.innerHTML = '';\n",
              "          dataTable['output_type'] = 'display_data';\n",
              "          await google.colab.output.renderOutput(dataTable, element);\n",
              "          const docLink = document.createElement('div');\n",
              "          docLink.innerHTML = docLinkHtml;\n",
              "          element.appendChild(docLink);\n",
              "        }\n",
              "      </script>\n",
              "    </div>\n",
              "  </div>\n",
              "  "
            ]
          },
          "metadata": {},
          "execution_count": 98
        }
      ],
      "source": [
        "# description of this data\n",
        "data[['Open', 'High', 'Low', 'Close']].describe()"
      ]
    },
    {
      "cell_type": "code",
      "execution_count": 99,
      "metadata": {
        "colab": {
          "base_uri": "https://localhost:8080/",
          "height": 542
        },
        "id": "SL8Up4B7OZ8P",
        "outputId": "85169d78-ca27-41ee-cd4e-c4ac9aa4e87f"
      },
      "outputs": [
        {
          "output_type": "display_data",
          "data": {
            "text/html": [
              "<html>\n",
              "<head><meta charset=\"utf-8\" /></head>\n",
              "<body>\n",
              "    <div>            <script src=\"https://cdnjs.cloudflare.com/ajax/libs/mathjax/2.7.5/MathJax.js?config=TeX-AMS-MML_SVG\"></script><script type=\"text/javascript\">if (window.MathJax) {MathJax.Hub.Config({SVG: {font: \"STIX-Web\"}});}</script>                <script type=\"text/javascript\">window.PlotlyConfig = {MathJaxConfig: 'local'};</script>\n",
              "        <script src=\"https://cdn.plot.ly/plotly-2.8.3.min.js\"></script>                <div id=\"94a73ef3-a3d6-4fa5-b3a6-ce234dd033b3\" class=\"plotly-graph-div\" style=\"height:525px; width:100%;\"></div>            <script type=\"text/javascript\">                                    window.PLOTLYENV=window.PLOTLYENV || {};                                    if (document.getElementById(\"94a73ef3-a3d6-4fa5-b3a6-ce234dd033b3\")) {                    Plotly.newPlot(                        \"94a73ef3-a3d6-4fa5-b3a6-ce234dd033b3\",                        [{\"close\":[2742.0,2738.0,2740.0,2748.0,2745.0,2731.0,2722.0,2704.0,2686.0,2694.0,2699.0,2737.0,2720.0,2727.0,2731.0,2733.0,2727.0,2734.0,2722.0,2735.0,2729.0,2720.0,2725.0,2731.0,2737.0,2737.0,2745.0,2782.0,2801.0,2824.0,2825.0,2826.0,2851.0,2882.0,2927.0,2928.0,2945.0,2946.0,2971.0,3015.0,3020.0,3040.0,3110.0,3115.0,3135.0,3155.0,3135.0,3165.0,3200.0,3140.0,3160.0,3195.0,3185.0,3150.0,3115.0,3125.0,3120.0,3115.0,3010.0,2942.0,2936.0,3010.0,3010.0,3005.0,2942.0,2944.0,2926.0,2911.0,2895.0,2883.0,2860.0,2896.0,2880.0,2897.0,2871.0,2888.0,2919.0,2913.0,2935.0,2951.0,2935.0,2935.0,2945.0,2985.0,2969.0,2990.0,3040.0,3010.0,3040.0,3060.0,3075.0,3085.0,3100.0,3145.0,3140.0,3175.0,3130.0,3080.0,3065.0,3025.0,3055.0,3055.0,3060.0,3065.0,3060.0,3050.0,3090.0,3055.0,3110.0,3110.0,3095.0,3110.0,3130.0,3150.0,3185.0,3205.0,3185.0,3125.0,3085.0,3110.0,3070.0,3060.0,3090.0,3125.0,3130.0,3130.0,3115.0,3110.0,3110.0,3140.0,3095.0,3090.0,3075.0,3060.0,3075.0,3105.0,3125.0,3125.0,3110.0,3100.0,3130.0,3125.0,3105.0,3120.0,3110.0,3115.0,3220.0,3270.0,3270.0,3235.0,3235.0,3210.0,3250.0,3350.0,3340.0,3330.0,3330.0,3290.0,3250.0,3280.0,3265.0,3310.0,3380.0,3385.0,3360.0,3360.0,3300.0,3240.0,3260.0,3255.0,3240.0,3240.0,3220.0,3235.0,3205.0,3335.0,3340.0,3295.0,3255.0,3220.0,3240.0,3275.0,3295.0,3265.0,3340.0,3400.0,3480.0,3510.0,3590.0,3605.0,3575.0,3645.0,3585.0,3570.0,3650.0,3695.0,3665.0,3660.0,3675.0,3635.0,3630.0,3600.0,3560.0,3600.0,3675.0,3665.0,3695.0,3700.0,3850.0,3710.0,3625.0,3640.0,3620.0,3605.0,3540.0,3545.0,3675.0,3670.0,3735.0,3690.0,3645.0,3685.0,3635.0,3690.0,3790.0,3850.0,3815.0,3885.0,3860.0,3920.0,3940.0,3995.0,3975.0,4010.0,3970.0,3985.0,3970.0,4025.0,4065.0,4130.0,4175.0,4175.0,4275.0,4345.0,4270.0,4310.0,4295.0,4320.0,4340.0,4340.0,4430.0,4350.0,4270.0,4260.0,4305.0,4255.0,4170.0,4230.0,4190.0,4260.0,4260.0,4280.0,4290.0,4270.0,4190.0,4140.0,4170.0,4175.0,4085.0,3900.0,3880.0,3885.0,3810.0,3695.0,3700.0,3715.0,3820.0,3880.0,3895.0,3915.0,3870.0,3930.0,3915.0,3855.0,3835.0,3770.0,3740.0,3755.0,3815.0,3820.0,3865.0,3875.0,3905.0,3925.0,3900.0,3885.0,3895.0,3845.0,3865.0,3880.0,3815.0,3860.0,3930.0,3800.0,3820.0,3800.0,3750.0,3735.0,3805.0,3810.0,3790.0,3830.0,3830.0,3755.0,3760.0,3760.0,3800.0,3755.0,3750.0,3755.0,3755.0,3705.0,3725.0,3725.0,3725.0,3775.0,3785.0,3800.0,3785.0,3825.0,3825.0,3815.0,3805.0,3810.0,3845.0,3815.0,3830.0,3825.0,3795.0,3745.0,3745.0,3735.0,3715.0,3735.0,3775.0,3835.0,3780.0,3755.0,3805.0,3775.0,3725.0,3750.0,3755.0,3810.0,3790.0,3785.0,3780.0,3760.0,3720.0,3660.0,3705.0,3680.0,3640.0,3590.0,3615.0,3630.0,3605.0,3595.0,3520.0,3540.0,3575.0,3470.0,3435.0,3480.0,3405.0,3380.0,3400.0,3460.0,3485.0,3505.0,3505.0,3535.0,3530.0,3565.0,3570.0,3590.0,3585.0,3570.0,3480.0,3470.0,3435.0,3260.0,3265.0,3405.0,3315.0,3300.0,3290.0,3240.0,3295.0,3275.0,3255.0,3270.0,3255.0,3245.0,3290.0,3250.0,3260.0,3225.0,3225.0,3220.0,3195.0,3145.0,3115.0,3200.0,3215.0,3120.0,3115.0,3130.0,3095.0,3095.0,3140.0,3185.0,3280.0,3330.0,3320.0,3310.0,3385.0,3485.0,3395.0,3400.0,3380.0,3365.0,3340.0,3330.0,3315.0,3245.0,3300.0,3195.0,3175.0,3115.0,3120.0,3135.0,3145.0,3110.0,3110.0,3055.0,3145.0,3030.0,3070.0,2997.0,3005.0,3095.0,3090.0,3110.0,3025.0,3045.0,3020.0,3065.0,3055.0,3160.0,3040.0,3010.0,3015.0,3010.0,3030.0,3075.0,3040.0,3065.0,3100.0,3150.0,3155.0,3215.0,3225.0,3320.0,3250.0,3235.0,3180.0,3225.0,3105.0,3030.0,3055.0,3085.0,3055.0,3030.0,2975.0,2963.0,2872.0,2745.0,2607.0,2699.0,2874.0,2882.0,2852.0,2859.0,2867.0,2919.0,2901.0,2862.0,2849.0,2826.0,2828.0,2836.0,2847.0,2853.0,2837.0,2841.0,2828.0,2792.0,2782.0,2750.0,2752.0,2729.0,2799.0,2836.0,2841.0,2816.0,2814.0,2907.0,2909.0,2918.0,2935.0,2963.0,2972.0,2990.0,2998.0,2993.0,2982.0,2975.0,2990.0,3005.0,3000.0,3010.0,3020.0,3005.0,3000.0,2924.0,2959.0,3015.0,3015.0,3010.0,2996.0,3050.0,2994.0,3035.0,3015.0,3040.0,3000.0,2938.0,2796.0,2836.0,2861.0,2830.0,2789.0,2770.0,2771.0,2778.0,2768.0,2832.0,2790.0,2816.0,2861.0,2854.0,2800.0,2780.0,2772.0,2783.0,2781.0,2760.0,2766.0,2761.0,2783.0,2774.0,2722.0,2690.0,2786.0,2810.0,2824.0,2851.0,2884.0,2853.0,2821.0,2820.0,2808.0,2820.0,2807.0,2802.0,2755.0,2731.0,2708.0,2641.0,2652.0,2686.0,2652.0,2674.0,2667.0,2711.0,2699.0,2687.0,2693.0,2696.0,2691.0,2745.0,2744.0,2860.0,2825.0,2807.0,2839.0,2812.0,2866.0,2930.0,2963.0,2997.0,3030.0,3035.0,3040.0,3050.0,3035.0,3065.0,3060.0,3035.0,3050.0,2983.0,3025.0,3060.0,3105.0,3090.0,3060.0,3075.0,3105.0,3075.0,3060.0,3045.0,3015.0,2946.0,2933.0,2953.0,2925.0,2983.0,2928.0,2914.0,2892.0,2851.0,2861.0,2871.0,2820.0,2833.0,2817.0,2773.0,2758.0,2770.0,2798.0,2863.0,2838.0,2855.0,2793.0,2800.0,2799.0,2815.0,2818.0,2822.0,2850.0,2876.0,2943.0,2910.0,2919.0,2880.0,2910.0,2865.0,2863.0,2828.0,2778.0,2807.0,2836.0,2817.0,2792.0,2783.0,2876.0,2865.0,2865.0,2842.0,2902.0,2906.0,2883.0,2874.0,2884.0,2892.0,2899.0,2905.0,2923.0,2915.0,2913.0,2902.0,2936.0,2974.0,2949.0,2984.0,2917.0,2996.0,2980.0,2951.0,2927.0,2923.0,2935.0,2938.0,2895.0,2902.0,2893.0,2908.0,2907.0,2919.0,2929.0,2904.0,2905.0,2863.0,2869.0,2865.0,2874.0,2873.0,2880.0,2865.0,2863.0,2852.0,2858.0,2853.0,2851.0,2838.0,2835.0,2830.0,2838.0,2829.0,2839.0,2849.0,2875.0,2862.0,2898.0,2903.0,2933.0,2932.0,2913.0,2935.0,2936.0,2937.0,2942.0,2943.0,2936.0,2911.0,2885.0,2870.0,2863.0,2868.0,2824.0,2839.0,2825.0,2860.0,2872.0,2882.0,2888.0,2904.0,2883.0,2859.0,2874.0,2844.0,2815.0,2825.0,2800.0,2798.0,2719.0,2719.0,2676.0,2579.0,2660.0,2628.0,2614.0,2625.0,2606.0,2508.0,2521.0,2526.0,2446.0,2289.0,2296.0,2456.0,2431.0,2423.0,2546.0,2575.0,2663.0,2689.0,2757.0,2619.0,2545.0,2517.0,2512.0,2496.0,2504.0,2555.0,2597.0,2553.0,2539.0,2541.0,2547.0,2531.0,2601.0,2557.0,2541.0,2545.0,2538.0,2544.0,2530.0,2532.0,2548.0,2579.0,2526.0,2525.0,2547.0,2582.0,2612.0,2682.0,2630.0,2686.0,2692.0,2698.0,2689.0,2688.0,2670.0,2687.0,2690.0,2700.0,2727.0,2695.0,2701.0,2730.0,2750.0,2752.0,2787.0,2775.0,2771.0,2760.0,2704.0,2685.0,2656.0,2709.0,2713.0,2705.0,2680.0,2683.0,2713.0,2670.0,2682.0,2703.0,2728.0,2720.0,2680.0,2697.0,2731.0,2740.0,2739.0,2733.0,2712.0,2650.0,2725.0,2735.0,2748.0,2739.0,2756.0,2766.0,2773.0,2720.0,2720.0,2740.0,2728.0,2707.0,2640.0,2685.0,2693.0,2735.0,2744.0,2675.0,2672.0,2701.0,2712.0,2706.0,2685.0,2704.0,2706.0,2667.0,2699.0,2720.0,2736.0,2721.0,2718.0,2691.0,2687.0,2690.0,2700.0,2683.0,2693.0,2702.0,2737.0,2710.0,2721.0,2715.0,2726.0,2727.0,2747.0,2740.0,2748.0,2749.0,2710.0,2747.0,2799.0,2846.0,2798.0,null,2739.0,2819.0,2824.0,2780.0,2786.0,2799.0,2785.0,2790.0,2788.0,2771.0,2752.0,2777.0,2745.0,2745.0,2734.0,2721.0,2730.0,2734.0,2729.0,2738.0,2731.0,2767.0,2746.0,2671.0,2782.0,2795.0,2793.0,2850.0,2814.0,2784.0,2804.0,2813.0,2838.0,2838.0,2832.0,2807.0,2831.0,2809.0,2819.0,2795.0,2787.0,2811.0,2807.0,2811.0,2811.0,2816.0,2820.0,2815.0,2841.0,2888.0,2881.0,2871.0,2920.0,2937.0,2947.0,2913.0,2913.0,2917.0,2916.0,2950.0,2961.0,2951.0,2950.0,2956.0,2990.0,2989.0,2999.0,3130.0,3110.0,3065.0,3025.0,3050.0,3065.0,3020.0,3025.0,3085.0,3100.0,3040.0,3060.0,3080.0,3030.0,3020.0,3025.0,3055.0,3070.0,3100.0,3140.0,3130.0,3120.0,3080.0,3070.0,3065.0,3065.0,3060.0,3045.0,3050.0,3040.0,3035.0,3005.0,3045.0,3045.0,3080.0,3095.0,3105.0,3130.0,3165.0,3120.0,3095.0,3105.0,3165.0,3200.0,3220.0,3230.0,3220.0,3240.0,3270.0,3180.0,3240.0,3255.0,3210.0,3085.0,3055.0,3015.0,2965.0,3025.0,2988.0,3015.0,2968.0,2988.0,3010.0,3020.0,3025.0,3020.0,3015.0,2995.0,2975.0,2929.0,2929.0,2926.0,2933.0,2895.0,2870.0,2929.0,2985.0,3005.0,3005.0,2984.0,2956.0,2933.0,2948.0,2942.0,3015.0,3015.0,3005.0,2984.0,2947.0,2924.0,2946.0,2890.0,2869.0,2896.0,2974.0,2918.0,2936.0,2935.0,2942.0,2924.0,2950.0,2947.0,2924.0,2931.0,2949.0,2940.0,2934.0,2915.0,2900.0,2901.0,2906.0,2914.0,2916.0,2918.0,2915.0,2895.0,2898.0,2912.0,2905.0,2904.0,2884.0,2878.0,2872.0,2912.0,2943.0,2972.0,2954.0,2952.0,2917.0,2909.0,2954.0,2963.0,2981.0,2981.0,2970.0,2971.0,3010.0,3000.0,2989.0,3030.0,2996.0,2970.0,2992.0,3025.0,3020.0,3000.0,2996.0,3015.0,2991.0,3010.0,2991.0,3020.0,3025.0,3020.0,3015.0,3050.0,3015.0,3030.0,3040.0,3045.0,3060.0,3085.0,3085.0,3065.0,3095.0,3125.0,3135.0,3095.0,3120.0,3130.0,3050.0,3005.0,3065.0,3065.0,3070.0,3055.0,3020.0,2995.0,2998.0,2951.0,2977.0,3010.0,2998.0,3045.0,3010.0,2997.0,2993.0,3050.0,3035.0,3050.0,3030.0,3010.0,3010.0,2990.0,2992.0,3010.0,2996.0,3050.0,3085.0,3080.0,3250.0,3110.0,3065.0,3030.0,3050.0,3045.0,3110.0,3095.0,3120.0,3060.0,3045.0,3040.0,3045.0,3005.0,3005.0,2995.0,2951.0,2900.0,2911.0,2933.0,2982.0],\"high\":[2755.0,2747.0,2744.0,2754.0,2752.0,2747.0,2730.0,2725.0,2704.0,2695.0,2717.0,2737.0,2731.0,2728.0,2737.0,2739.0,2739.0,2734.0,2731.0,2735.0,2736.0,2733.0,2735.0,2736.0,2737.0,2747.0,2750.0,2789.0,2818.0,2826.0,2841.0,2833.0,2855.0,2883.0,2937.0,2939.0,2946.0,2978.0,2985.0,3015.0,3035.0,3045.0,3125.0,3150.0,3145.0,3175.0,3175.0,3180.0,3200.0,3210.0,3170.0,3195.0,3205.0,3175.0,3150.0,3140.0,3135.0,3150.0,3065.0,3010.0,2996.0,3025.0,3020.0,3030.0,2994.0,2980.0,2947.0,2928.0,2908.0,2898.0,2888.0,2903.0,2890.0,2899.0,2919.0,2890.0,2920.0,2936.0,2943.0,2951.0,2953.0,2948.0,2950.0,2987.0,2987.0,2996.0,3040.0,3070.0,3040.0,3065.0,3075.0,3085.0,3100.0,3145.0,3155.0,3175.0,3175.0,3120.0,3085.0,3065.0,3070.0,3075.0,3080.0,3075.0,3080.0,3070.0,3115.0,3090.0,3115.0,3130.0,3125.0,3130.0,3140.0,3175.0,3190.0,3215.0,3225.0,3160.0,3120.0,3115.0,3115.0,3080.0,3090.0,3125.0,3140.0,3135.0,3160.0,3130.0,3130.0,3140.0,3130.0,3110.0,3095.0,3080.0,3100.0,3105.0,3125.0,3130.0,3125.0,3120.0,3145.0,3130.0,3120.0,3125.0,3120.0,3115.0,3230.0,3280.0,3275.0,3265.0,3255.0,3230.0,3275.0,3370.0,3375.0,3335.0,3330.0,3320.0,3320.0,3285.0,3290.0,3310.0,3400.0,3400.0,3395.0,3375.0,3370.0,3300.0,3270.0,3280.0,3250.0,3280.0,3255.0,3245.0,3255.0,3340.0,3370.0,3340.0,3300.0,3280.0,3240.0,3275.0,3305.0,3300.0,3345.0,3415.0,3500.0,3510.0,3625.0,3615.0,3620.0,3665.0,3645.0,3595.0,3685.0,3715.0,3715.0,3675.0,3675.0,3710.0,3650.0,3635.0,3620.0,3605.0,3675.0,3685.0,3705.0,3700.0,3900.0,3810.0,3705.0,3680.0,3630.0,3610.0,3600.0,3570.0,3705.0,3685.0,3735.0,3740.0,3695.0,3685.0,3690.0,3695.0,3820.0,3880.0,3885.0,3935.0,3885.0,3945.0,3970.0,4020.0,4050.0,4025.0,4020.0,3990.0,3985.0,4035.0,4070.0,4165.0,4185.0,4220.0,4295.0,4415.0,4400.0,4325.0,4315.0,4335.0,4360.0,4360.0,4460.0,4430.0,4345.0,4285.0,4325.0,4315.0,4280.0,4250.0,4240.0,4305.0,4290.0,4300.0,4305.0,4345.0,4250.0,4210.0,4195.0,4180.0,4125.0,3910.0,4050.0,3925.0,3865.0,3860.0,3735.0,3730.0,3835.0,3890.0,3920.0,3945.0,3925.0,3930.0,3955.0,3920.0,3885.0,3825.0,3755.0,3815.0,3825.0,3860.0,3875.0,3920.0,3920.0,3925.0,3920.0,3895.0,3895.0,3895.0,3865.0,3885.0,3840.0,3860.0,3930.0,3815.0,3830.0,3840.0,3800.0,3755.0,3805.0,3830.0,3840.0,3850.0,3870.0,3815.0,3770.0,3785.0,3805.0,3815.0,3775.0,3760.0,3775.0,3730.0,3740.0,3740.0,3730.0,3775.0,3785.0,3800.0,3810.0,3845.0,3840.0,3870.0,3810.0,3845.0,3855.0,3845.0,3830.0,3850.0,3830.0,3785.0,3760.0,3765.0,3755.0,3745.0,3780.0,3850.0,3845.0,3795.0,3810.0,3830.0,3770.0,3750.0,3765.0,3820.0,3820.0,3800.0,3800.0,3785.0,3780.0,3710.0,3715.0,3700.0,3660.0,3640.0,3625.0,3655.0,3615.0,3650.0,3600.0,3560.0,3595.0,3560.0,3475.0,3485.0,3490.0,3420.0,3415.0,3460.0,3525.0,3525.0,3530.0,3560.0,3575.0,3615.0,3590.0,3620.0,3615.0,3575.0,3560.0,3575.0,3485.0,3445.0,3300.0,3410.0,3395.0,3310.0,3325.0,3305.0,3320.0,3315.0,3270.0,3275.0,3290.0,3265.0,3295.0,3280.0,3265.0,3260.0,3260.0,3235.0,3255.0,3210.0,3150.0,3240.0,3215.0,3195.0,3145.0,3150.0,3130.0,3110.0,3160.0,3195.0,3280.0,3350.0,3350.0,3340.0,3385.0,3495.0,3500.0,3445.0,3445.0,3415.0,3370.0,3365.0,3340.0,3295.0,3325.0,3225.0,3205.0,3185.0,3125.0,3165.0,3170.0,3145.0,3140.0,3120.0,3155.0,3085.0,3080.0,3090.0,3025.0,3105.0,3105.0,3130.0,3100.0,3115.0,3080.0,3085.0,3100.0,3175.0,3100.0,3060.0,3025.0,3025.0,3035.0,3100.0,3050.0,3070.0,3105.0,3165.0,3170.0,3250.0,3245.0,3335.0,3320.0,3240.0,3200.0,3235.0,3185.0,3115.0,3080.0,3090.0,3110.0,3040.0,3010.0,2986.0,2950.0,2852.0,2650.0,2753.0,2893.0,2908.0,2861.0,2937.0,2901.0,2942.0,2933.0,2906.0,2866.0,2868.0,2846.0,2855.0,2879.0,2868.0,2843.0,2857.0,2865.0,2825.0,2793.0,2789.0,2778.0,2752.0,2801.0,2848.0,2862.0,2830.0,2856.0,2909.0,2917.0,2941.0,2941.0,2978.0,2977.0,2998.0,3010.0,3015.0,2995.0,3000.0,3005.0,3030.0,3020.0,3035.0,3030.0,3025.0,3015.0,2975.0,2963.0,3020.0,3030.0,3030.0,3040.0,3050.0,3055.0,3035.0,3045.0,3040.0,3060.0,2950.0,2927.0,2848.0,2890.0,2878.0,2836.0,2801.0,2789.0,2778.0,2768.0,2845.0,2830.0,2816.0,2867.0,2876.0,2853.0,2834.0,2797.0,2790.0,2796.0,2789.0,2774.0,2772.0,2786.0,2780.0,2772.0,2740.0,2826.0,2818.0,2824.0,2888.0,2887.0,2908.0,2856.0,2858.0,2827.0,2839.0,2837.0,2808.0,2797.0,2742.0,2739.0,2691.0,2652.0,2702.0,2704.0,2675.0,2686.0,2715.0,2711.0,2699.0,2698.0,2708.0,2704.0,2747.0,2761.0,2892.0,2880.0,2848.0,2858.0,2853.0,2874.0,2930.0,2974.0,3010.0,3030.0,3040.0,3050.0,3055.0,3045.0,3065.0,3065.0,3050.0,3065.0,3045.0,3050.0,3080.0,3115.0,3115.0,3090.0,3095.0,3115.0,3105.0,3090.0,3045.0,3045.0,3030.0,2946.0,2969.0,2953.0,2985.0,2950.0,2930.0,2905.0,2886.0,2885.0,2874.0,2847.0,2850.0,2833.0,2793.0,2801.0,2782.0,2813.0,2863.0,2861.0,2866.0,2842.0,2824.0,2818.0,2815.0,2820.0,2829.0,2859.0,2878.0,2943.0,2933.0,2923.0,2919.0,2913.0,2910.0,2887.0,2863.0,2804.0,2825.0,2847.0,2817.0,2809.0,2800.0,2896.0,2865.0,2876.0,2879.0,2905.0,2932.0,2907.0,2913.0,2895.0,2908.0,2904.0,2912.0,2931.0,2943.0,2943.0,2931.0,2941.0,2990.0,2964.0,2993.0,2999.0,2997.0,2988.0,2994.0,2958.0,2953.0,2941.0,2948.0,2939.0,2910.0,2909.0,2925.0,2929.0,2935.0,2930.0,2939.0,2922.0,2903.0,2877.0,2886.0,2887.0,2892.0,2884.0,2874.0,2875.0,2900.0,2872.0,2862.0,2859.0,2858.0,2854.0,2840.0,2838.0,2847.0,2844.0,2868.0,2883.0,2873.0,2907.0,2908.0,2949.0,2942.0,2931.0,2937.0,2947.0,2947.0,2948.0,2950.0,2948.0,2939.0,2914.0,2890.0,2875.0,2874.0,2862.0,2856.0,2835.0,2860.0,2892.0,2898.0,2895.0,2909.0,2923.0,2890.0,2874.0,2861.0,2855.0,2840.0,2850.0,2810.0,2750.0,2727.0,2727.0,2623.0,2690.0,2749.0,2649.0,2731.0,2639.0,2580.0,2543.0,2568.0,2505.0,2326.0,2383.0,2467.0,2528.0,2458.0,2546.0,2595.0,2669.0,2714.0,2757.0,2624.0,2605.0,2557.0,2539.0,2530.0,2527.0,2560.0,2631.0,2600.0,2552.0,2550.0,2565.0,2560.0,2601.0,2615.0,2557.0,2563.0,2554.0,2546.0,2540.0,2536.0,2568.0,2592.0,2582.0,2539.0,2549.0,2582.0,2628.0,2684.0,2684.0,2686.0,2698.0,2705.0,2714.0,2700.0,2698.0,2693.0,2699.0,2700.0,2735.0,2744.0,2718.0,2737.0,2758.0,2755.0,2790.0,2787.0,2784.0,2773.0,2760.0,2704.0,2715.0,2731.0,2730.0,2707.0,2743.0,2704.0,2719.0,2718.0,2697.0,2720.0,2738.0,2759.0,2732.0,2710.0,2764.0,2740.0,2750.0,2764.0,2746.0,2707.0,2725.0,2739.0,2748.0,2747.0,2775.0,2780.0,2773.0,2770.0,2728.0,2742.0,2738.0,2749.0,2707.0,2687.0,2726.0,2737.0,2746.0,2763.0,2690.0,2716.0,2712.0,2727.0,2714.0,2705.0,2708.0,2706.0,2699.0,2731.0,2740.0,2729.0,2721.0,2721.0,2711.0,2696.0,2710.0,2722.0,2697.0,2709.0,2737.0,2722.0,2734.0,2738.0,2740.0,2740.0,2747.0,2752.0,2748.0,2749.0,2762.0,2750.0,2799.0,2857.0,2849.0,null,2810.0,2824.0,2834.0,2810.0,2809.0,2799.0,2799.0,2799.0,2793.0,2795.0,2771.0,2781.0,2777.0,2767.0,2744.0,2733.0,2737.0,2734.0,2740.0,2745.0,2759.0,2767.0,2768.0,2790.0,2786.0,2800.0,2819.0,2850.0,2839.0,2821.0,2820.0,2813.0,2838.0,2846.0,2848.0,2860.0,2846.0,2826.0,2825.0,2825.0,2824.0,2817.0,2816.0,2819.0,2830.0,2824.0,2827.0,2828.0,2846.0,2888.0,2897.0,2882.0,2920.0,2938.0,2947.0,2947.0,2920.0,2937.0,2930.0,2950.0,2963.0,2960.0,2951.0,2959.0,2990.0,2995.0,3020.0,3130.0,3140.0,3125.0,3060.0,3080.0,3145.0,3095.0,3065.0,3090.0,3140.0,3080.0,3070.0,3080.0,3080.0,3030.0,3040.0,3070.0,3085.0,3100.0,3160.0,3150.0,3135.0,3120.0,3080.0,3075.0,3095.0,3085.0,3065.0,3055.0,3055.0,3055.0,3040.0,3060.0,3060.0,3090.0,3095.0,3105.0,3135.0,3170.0,3155.0,3130.0,3105.0,3165.0,3200.0,3230.0,3230.0,3240.0,3305.0,3290.0,3245.0,3250.0,3285.0,3280.0,3120.0,3110.0,3060.0,3015.0,3025.0,3045.0,3025.0,2999.0,3010.0,3025.0,3045.0,3040.0,3045.0,3045.0,3060.0,3010.0,2966.0,2960.0,2938.0,2955.0,2956.0,2906.0,2963.0,2998.0,3010.0,3020.0,3020.0,2998.0,2973.0,3000.0,2964.0,3025.0,3030.0,3045.0,3010.0,2985.0,2965.0,2950.0,2943.0,2909.0,2912.0,2974.0,2974.0,2940.0,2945.0,2955.0,2952.0,2970.0,2960.0,2958.0,2938.0,2955.0,2952.0,2948.0,2940.0,2923.0,2922.0,2913.0,2931.0,2926.0,2918.0,2930.0,2924.0,2922.0,2916.0,2920.0,2915.0,2913.0,2906.0,2918.0,2923.0,2943.0,2972.0,2989.0,2985.0,2948.0,2919.0,2960.0,2988.0,2988.0,2989.0,2984.0,2983.0,3010.0,3020.0,2989.0,3035.0,3040.0,3025.0,2995.0,3030.0,3030.0,3025.0,3025.0,3040.0,3050.0,3035.0,3020.0,3020.0,3025.0,3020.0,3030.0,3050.0,3045.0,3030.0,3040.0,3055.0,3060.0,3090.0,3090.0,3085.0,3095.0,3125.0,3135.0,3115.0,3120.0,3130.0,3100.0,3060.0,3065.0,3085.0,3095.0,3055.0,3085.0,3020.0,3030.0,3005.0,2997.0,3025.0,3035.0,3050.0,3050.0,3030.0,3010.0,3050.0,3055.0,3060.0,3075.0,3040.0,3040.0,3005.0,3020.0,3015.0,3055.0,3050.0,3085.0,3100.0,3250.0,3160.0,3120.0,3085.0,3050.0,3055.0,3110.0,3130.0,3120.0,3130.0,3080.0,3055.0,3060.0,3060.0,3030.0,3010.0,2984.0,2997.0,2936.0,2973.0,2983.0],\"low\":[2730.0,2735.0,2720.0,2735.0,2737.0,2703.0,2707.0,2696.0,2682.0,2681.0,2694.0,2705.0,2712.0,2718.0,2724.0,2729.0,2726.0,2725.0,2715.0,2717.0,2725.0,2720.0,2718.0,2724.0,2725.0,2725.0,2737.0,2756.0,2776.0,2807.0,2825.0,2811.0,2831.0,2850.0,2895.0,2903.0,2919.0,2931.0,2949.0,2977.0,3015.0,3020.0,3050.0,3105.0,3095.0,3130.0,3110.0,3125.0,3160.0,3135.0,3110.0,3165.0,3175.0,3145.0,3110.0,3115.0,3110.0,3110.0,2999.0,2936.0,2936.0,2942.0,2983.0,2994.0,2941.0,2942.0,2915.0,2905.0,2873.0,2860.0,2853.0,2859.0,2859.0,2880.0,2866.0,2871.0,2875.0,2908.0,2916.0,2933.0,2922.0,2919.0,2931.0,2961.0,2964.0,2965.0,2972.0,2974.0,2960.0,3025.0,3030.0,3020.0,3060.0,3100.0,3135.0,3150.0,3115.0,3075.0,3060.0,3005.0,3010.0,3045.0,3040.0,3035.0,3050.0,3040.0,3055.0,3045.0,3040.0,3090.0,3095.0,3090.0,3110.0,3120.0,3160.0,3175.0,3180.0,3110.0,3085.0,3050.0,3065.0,3050.0,3030.0,3095.0,3110.0,3105.0,3100.0,3085.0,3095.0,3100.0,3090.0,3090.0,3075.0,3050.0,3060.0,3070.0,3095.0,3105.0,3095.0,3085.0,3085.0,3110.0,3100.0,3090.0,3090.0,3090.0,3100.0,3170.0,3245.0,3210.0,3225.0,3180.0,3225.0,3275.0,3310.0,3290.0,3285.0,3285.0,3250.0,3255.0,3260.0,3265.0,3310.0,3360.0,3350.0,3325.0,3295.0,3240.0,3205.0,3250.0,3220.0,3230.0,3215.0,3220.0,3200.0,3200.0,3315.0,3285.0,3235.0,3215.0,3215.0,3240.0,3275.0,3250.0,3295.0,3335.0,3405.0,3430.0,3495.0,3510.0,3560.0,3530.0,3585.0,3555.0,3560.0,3605.0,3645.0,3605.0,3600.0,3620.0,3605.0,3590.0,3540.0,3560.0,3585.0,3645.0,3620.0,3620.0,3655.0,3690.0,3610.0,3610.0,3590.0,3590.0,3540.0,3515.0,3550.0,3635.0,3680.0,3690.0,3645.0,3635.0,3630.0,3610.0,3690.0,3765.0,3815.0,3815.0,3835.0,3860.0,3880.0,3885.0,3945.0,3950.0,3945.0,3950.0,3960.0,3975.0,3995.0,4010.0,4090.0,4165.0,4215.0,4300.0,4250.0,4230.0,4280.0,4220.0,4285.0,4325.0,4340.0,4340.0,4265.0,4255.0,4230.0,4250.0,4160.0,4160.0,4160.0,4255.0,4250.0,4210.0,4275.0,4270.0,4170.0,4140.0,4130.0,4140.0,4055.0,3830.0,3875.0,3870.0,3770.0,3680.0,3645.0,3675.0,3740.0,3845.0,3870.0,3875.0,3825.0,3875.0,3905.0,3850.0,3835.0,3765.0,3700.0,3740.0,3780.0,3795.0,3830.0,3845.0,3870.0,3885.0,3890.0,3840.0,3860.0,3830.0,3785.0,3850.0,3800.0,3780.0,3880.0,3765.0,3785.0,3785.0,3740.0,3680.0,3720.0,3795.0,3790.0,3760.0,3805.0,3745.0,3740.0,3740.0,3740.0,3755.0,3735.0,3735.0,3745.0,3690.0,3705.0,3705.0,3705.0,3715.0,3755.0,3765.0,3775.0,3760.0,3790.0,3760.0,3770.0,3795.0,3820.0,3800.0,3790.0,3805.0,3785.0,3735.0,3725.0,3715.0,3715.0,3710.0,3725.0,3710.0,3775.0,3745.0,3765.0,3760.0,3725.0,3685.0,3705.0,3730.0,3790.0,3785.0,3775.0,3755.0,3710.0,3645.0,3665.0,3665.0,3610.0,3570.0,3535.0,3555.0,3555.0,3575.0,3510.0,3525.0,3495.0,3465.0,3405.0,3445.0,3405.0,3380.0,3365.0,3405.0,3440.0,3500.0,3495.0,3500.0,3515.0,3515.0,3565.0,3570.0,3580.0,3550.0,3475.0,3450.0,3435.0,3215.0,3215.0,3270.0,3305.0,3275.0,3275.0,3225.0,3265.0,3255.0,3210.0,3235.0,3250.0,3220.0,3245.0,3250.0,3250.0,3215.0,3225.0,3215.0,3195.0,3140.0,3100.0,3120.0,3180.0,3115.0,3085.0,3095.0,3075.0,3070.0,3100.0,3165.0,3180.0,3295.0,3300.0,3265.0,3300.0,3410.0,3390.0,3395.0,3380.0,3360.0,3340.0,3320.0,3300.0,3230.0,3235.0,3175.0,3145.0,3115.0,3080.0,3115.0,3135.0,3100.0,3100.0,3055.0,3060.0,3025.0,3015.0,2997.0,2981.0,3025.0,3070.0,3055.0,3015.0,3010.0,3010.0,3050.0,3045.0,3065.0,3030.0,3000.0,2995.0,3005.0,2983.0,3020.0,2987.0,3010.0,3055.0,3110.0,3130.0,3185.0,3195.0,3225.0,3250.0,3165.0,3170.0,3165.0,3105.0,3030.0,3035.0,3055.0,3050.0,3020.0,2975.0,2943.0,2853.0,2741.0,2581.0,2630.0,2784.0,2840.0,2760.0,2843.0,2861.0,2898.0,2875.0,2850.0,2844.0,2826.0,2808.0,2818.0,2838.0,2836.0,2816.0,2811.0,2821.0,2790.0,2768.0,2750.0,2749.0,2727.0,2744.0,2802.0,2825.0,2802.0,2788.0,2831.0,2871.0,2911.0,2900.0,2940.0,2964.0,2969.0,2977.0,2975.0,2966.0,2966.0,2972.0,2985.0,2998.0,2997.0,3005.0,3005.0,2998.0,2906.0,2930.0,2978.0,3005.0,3000.0,2993.0,3000.0,2991.0,2997.0,3000.0,2995.0,3000.0,2850.0,2796.0,2820.0,2839.0,2830.0,2773.0,2766.0,2759.0,2760.0,2748.0,2732.0,2789.0,2773.0,2820.0,2836.0,2784.0,2769.0,2766.0,2770.0,2764.0,2754.0,2758.0,2742.0,2742.0,2745.0,2716.0,2690.0,2656.0,2686.0,2766.0,2811.0,2833.0,2850.0,2808.0,2757.0,2796.0,2808.0,2805.0,2796.0,2720.0,2718.0,2703.0,2610.0,2623.0,2653.0,2652.0,2640.0,2662.0,2655.0,2689.0,2672.0,2671.0,2682.0,2674.0,2691.0,2732.0,2733.0,2825.0,2790.0,2775.0,2805.0,2816.0,2876.0,2917.0,2941.0,3010.0,3010.0,3015.0,3025.0,3030.0,3030.0,3030.0,3010.0,3015.0,2977.0,2998.0,3020.0,3065.0,3075.0,3050.0,3025.0,3070.0,3075.0,3045.0,3010.0,2985.0,2926.0,2885.0,2926.0,2921.0,2910.0,2906.0,2902.0,2863.0,2851.0,2850.0,2814.0,2816.0,2819.0,2806.0,2754.0,2756.0,2752.0,2766.0,2813.0,2831.0,2828.0,2793.0,2770.0,2796.0,2790.0,2795.0,2803.0,2828.0,2847.0,2876.0,2899.0,2881.0,2880.0,2880.0,2856.0,2852.0,2805.0,2770.0,2772.0,2801.0,2783.0,2773.0,2771.0,2813.0,2827.0,2844.0,2820.0,2845.0,2892.0,2878.0,2857.0,2867.0,2872.0,2879.0,2890.0,2900.0,2915.0,2893.0,2891.0,2873.0,2910.0,2902.0,2955.0,2913.0,2939.0,2957.0,2942.0,2913.0,2917.0,2923.0,2926.0,2883.0,2873.0,2886.0,2901.0,2906.0,2913.0,2898.0,2896.0,2899.0,2861.0,2837.0,2859.0,2864.0,2871.0,2868.0,2862.0,2862.0,2852.0,2855.0,2849.0,2847.0,2836.0,2830.0,2830.0,2827.0,2827.0,2825.0,2841.0,2845.0,2851.0,2864.0,2855.0,2911.0,2924.0,2912.0,2899.0,2925.0,2934.0,2935.0,2936.0,2934.0,2909.0,2885.0,2858.0,2847.0,2863.0,2808.0,2839.0,2800.0,2821.0,2866.0,2872.0,2871.0,2885.0,2883.0,2856.0,2841.0,2835.0,2810.0,2815.0,2800.0,2796.0,2687.0,2693.0,2676.0,2576.0,2554.0,2627.0,2601.0,2621.0,2606.0,2502.0,2373.0,2523.0,2403.0,2202.0,2290.0,2250.0,2416.0,2319.0,2394.0,2533.0,2589.0,2601.0,2687.0,2507.0,2510.0,2498.0,2446.0,2456.0,2450.0,2495.0,2532.0,2511.0,2494.0,2501.0,2527.0,2510.0,2530.0,2545.0,2526.0,2519.0,2514.0,2513.0,2514.0,2506.0,2511.0,2548.0,2525.0,2512.0,2520.0,2547.0,2570.0,2634.0,2630.0,2627.0,2669.0,2661.0,2679.0,2672.0,2668.0,2670.0,2674.0,2665.0,2684.0,2695.0,2679.0,2690.0,2725.0,2726.0,2760.0,2760.0,2761.0,2760.0,2704.0,2650.0,2654.0,2671.0,2696.0,2684.0,2680.0,2677.0,2670.0,2670.0,2659.0,2679.0,2700.0,2720.0,2673.0,2666.0,2689.0,2715.0,2720.0,2717.0,2712.0,2650.0,2651.0,2698.0,2724.0,2726.0,2742.0,2749.0,2750.0,2720.0,2700.0,2702.0,2708.0,2700.0,2640.0,2638.0,2677.0,2659.0,2706.0,2675.0,2607.0,2654.0,2680.0,2693.0,2685.0,2681.0,2694.0,2667.0,2672.0,2680.0,2710.0,2701.0,2705.0,2672.0,2687.0,2666.0,2674.0,2681.0,2676.0,2675.0,2699.0,2698.0,2711.0,2715.0,2716.0,2712.0,2719.0,2732.0,2720.0,2733.0,2704.0,2700.0,2739.0,2790.0,2798.0,null,2738.0,2769.0,2796.0,2778.0,2775.0,2762.0,2782.0,2783.0,2771.0,2771.0,2749.0,2765.0,2745.0,2745.0,2724.0,2720.0,2721.0,2710.0,2721.0,2721.0,2713.0,2731.0,2744.0,2671.0,2671.0,2757.0,2772.0,2796.0,2805.0,2771.0,2788.0,2785.0,2790.0,2812.0,2820.0,2806.0,2795.0,2801.0,2803.0,2795.0,2780.0,2789.0,2796.0,2800.0,2806.0,2805.0,2807.0,2806.0,2810.0,2830.0,2874.0,2871.0,2870.0,2907.0,2912.0,2907.0,2906.0,2909.0,2903.0,2910.0,2945.0,2923.0,2913.0,2935.0,2955.0,2975.0,2971.0,3070.0,3095.0,3055.0,3020.0,3010.0,3065.0,3015.0,3020.0,3035.0,3075.0,3030.0,3040.0,3030.0,3020.0,3005.0,3010.0,3030.0,3045.0,3065.0,3110.0,3090.0,3100.0,3080.0,3050.0,3060.0,3060.0,3050.0,3030.0,3040.0,3035.0,3015.0,3005.0,3005.0,3035.0,3045.0,3065.0,3065.0,3100.0,3110.0,3120.0,3085.0,3070.0,3105.0,3150.0,3185.0,3200.0,3210.0,3220.0,3250.0,3180.0,3215.0,3245.0,3205.0,3035.0,3030.0,3010.0,2959.0,2970.0,2985.0,3000.0,2968.0,2965.0,2985.0,3010.0,3020.0,3015.0,3015.0,2995.0,2975.0,2907.0,2913.0,2909.0,2923.0,2895.0,2858.0,2912.0,2943.0,2983.0,2994.0,2976.0,2926.0,2932.0,2938.0,2934.0,2939.0,2970.0,3005.0,2976.0,2943.0,2919.0,2919.0,2889.0,2851.0,2875.0,2892.0,2915.0,2924.0,2920.0,2929.0,2920.0,2934.0,2940.0,2920.0,2921.0,2928.0,2939.0,2928.0,2915.0,2895.0,2900.0,2901.0,2906.0,2907.0,2897.0,2895.0,2895.0,2891.0,2900.0,2893.0,2895.0,2883.0,2878.0,2850.0,2896.0,2913.0,2935.0,2954.0,2948.0,2908.0,2903.0,2930.0,2956.0,2967.0,2973.0,2965.0,2963.0,2985.0,3000.0,2972.0,2981.0,2996.0,2970.0,2969.0,2980.0,3005.0,3000.0,2990.0,2992.0,2991.0,2981.0,2991.0,2987.0,3005.0,2990.0,2998.0,3010.0,3015.0,3005.0,3015.0,3025.0,3035.0,3060.0,3070.0,3045.0,3035.0,3085.0,3105.0,3075.0,3085.0,3105.0,3050.0,3005.0,3010.0,3055.0,3040.0,3005.0,3020.0,2986.0,2991.0,2951.0,2968.0,2980.0,2974.0,3005.0,3010.0,2997.0,2985.0,3005.0,3020.0,3025.0,3020.0,3010.0,3005.0,2989.0,2980.0,2986.0,2986.0,2992.0,3055.0,3065.0,3075.0,3105.0,3065.0,3030.0,3035.0,3025.0,3035.0,3085.0,3095.0,3060.0,3035.0,3030.0,3030.0,3005.0,3000.0,2990.0,2951.0,2900.0,2909.0,2933.0,2965.0],\"open\":[2734.0,2743.0,2734.0,2745.0,2748.0,2745.0,2707.0,2725.0,2702.0,2689.0,2694.0,2724.0,2730.0,2718.0,2732.0,2738.0,2739.0,2726.0,2730.0,2717.0,2735.0,2722.0,2733.0,2725.0,2726.0,2725.0,2737.0,2760.0,2783.0,2820.0,2829.0,2825.0,2838.0,2853.0,2900.0,2903.0,2923.0,2950.0,2963.0,2984.0,3030.0,3030.0,3050.0,3120.0,3100.0,3135.0,3165.0,3135.0,3180.0,3210.0,3130.0,3170.0,3180.0,3155.0,3130.0,3115.0,3125.0,3120.0,3050.0,3005.0,2948.0,2946.0,3005.0,3015.0,2980.0,2960.0,2931.0,2906.0,2905.0,2861.0,2880.0,2860.0,2890.0,2880.0,2900.0,2890.0,2900.0,2936.0,2918.0,2940.0,2939.0,2930.0,2941.0,2973.0,2985.0,2965.0,2995.0,3050.0,3010.0,3050.0,3040.0,3040.0,3080.0,3105.0,3145.0,3150.0,3175.0,3120.0,3075.0,3055.0,3010.0,3070.0,3080.0,3035.0,3080.0,3060.0,3065.0,3090.0,3070.0,3095.0,3110.0,3095.0,3130.0,3125.0,3175.0,3185.0,3220.0,3160.0,3105.0,3080.0,3110.0,3080.0,3050.0,3105.0,3140.0,3110.0,3160.0,3125.0,3120.0,3120.0,3130.0,3105.0,3085.0,3060.0,3065.0,3090.0,3105.0,3130.0,3110.0,3105.0,3085.0,3130.0,3115.0,3110.0,3120.0,3095.0,3115.0,3250.0,3270.0,3265.0,3250.0,3220.0,3235.0,3280.0,3325.0,3300.0,3315.0,3295.0,3300.0,3280.0,3275.0,3265.0,3310.0,3400.0,3395.0,3355.0,3360.0,3300.0,3205.0,3265.0,3250.0,3245.0,3250.0,3225.0,3250.0,3200.0,3355.0,3340.0,3290.0,3260.0,3220.0,3250.0,3275.0,3300.0,3300.0,3370.0,3415.0,3490.0,3520.0,3585.0,3600.0,3565.0,3645.0,3585.0,3570.0,3650.0,3705.0,3645.0,3615.0,3680.0,3620.0,3610.0,3565.0,3560.0,3620.0,3675.0,3670.0,3675.0,3655.0,3810.0,3705.0,3635.0,3600.0,3600.0,3595.0,3535.0,3550.0,3650.0,3695.0,3740.0,3695.0,3650.0,3685.0,3635.0,3695.0,3770.0,3870.0,3825.0,3885.0,3865.0,3880.0,3885.0,4020.0,3975.0,4020.0,3960.0,3985.0,3990.0,4040.0,4040.0,4100.0,4190.0,4220.0,4300.0,4385.0,4270.0,4310.0,4270.0,4330.0,4340.0,4340.0,4430.0,4345.0,4280.0,4250.0,4300.0,4275.0,4165.0,4230.0,4300.0,4265.0,4260.0,4280.0,4290.0,4250.0,4160.0,4150.0,4150.0,4100.0,3910.0,3995.0,3880.0,3800.0,3850.0,3700.0,3705.0,3740.0,3850.0,3920.0,3920.0,3925.0,3875.0,3950.0,3915.0,3845.0,3825.0,3745.0,3770.0,3780.0,3815.0,3865.0,3895.0,3920.0,3895.0,3905.0,3890.0,3890.0,3890.0,3830.0,3855.0,3830.0,3785.0,3890.0,3800.0,3820.0,3840.0,3800.0,3690.0,3735.0,3805.0,3840.0,3765.0,3830.0,3810.0,3750.0,3770.0,3755.0,3800.0,3760.0,3750.0,3775.0,3730.0,3710.0,3705.0,3725.0,3725.0,3770.0,3785.0,3810.0,3765.0,3790.0,3840.0,3775.0,3800.0,3820.0,3825.0,3810.0,3850.0,3825.0,3785.0,3745.0,3730.0,3735.0,3745.0,3735.0,3730.0,3835.0,3795.0,3765.0,3805.0,3755.0,3725.0,3715.0,3750.0,3810.0,3785.0,3780.0,3780.0,3780.0,3710.0,3690.0,3680.0,3650.0,3640.0,3570.0,3610.0,3615.0,3650.0,3600.0,3550.0,3505.0,3550.0,3465.0,3470.0,3490.0,3405.0,3370.0,3430.0,3445.0,3515.0,3500.0,3545.0,3550.0,3515.0,3570.0,3570.0,3615.0,3570.0,3530.0,3575.0,3470.0,3420.0,3215.0,3305.0,3370.0,3300.0,3325.0,3290.0,3270.0,3295.0,3270.0,3240.0,3290.0,3230.0,3245.0,3280.0,3250.0,3260.0,3240.0,3225.0,3240.0,3210.0,3150.0,3130.0,3180.0,3195.0,3120.0,3120.0,3125.0,3105.0,3105.0,3190.0,3185.0,3330.0,3350.0,3340.0,3300.0,3420.0,3445.0,3440.0,3415.0,3385.0,3360.0,3340.0,3300.0,3295.0,3235.0,3190.0,3170.0,3185.0,3110.0,3150.0,3135.0,3145.0,3120.0,3120.0,3065.0,3085.0,3080.0,3070.0,2995.0,3025.0,3100.0,3100.0,3100.0,3015.0,3045.0,3060.0,3055.0,3065.0,3090.0,3050.0,3005.0,3025.0,3010.0,3035.0,2989.0,3035.0,3060.0,3110.0,3165.0,3185.0,3245.0,3225.0,3320.0,3190.0,3195.0,3230.0,3185.0,3110.0,3035.0,3080.0,3085.0,3035.0,3005.0,2972.0,2940.0,2852.0,2624.0,2630.0,2820.0,2874.0,2806.0,2890.0,2866.0,2900.0,2910.0,2893.0,2865.0,2838.0,2828.0,2828.0,2864.0,2865.0,2830.0,2837.0,2850.0,2825.0,2792.0,2789.0,2755.0,2752.0,2744.0,2802.0,2862.0,2815.0,2816.0,2831.0,2910.0,2915.0,2921.0,2940.0,2964.0,2980.0,2988.0,2990.0,2993.0,2985.0,2984.0,2990.0,2998.0,3020.0,3005.0,3020.0,3005.0,2975.0,2943.0,2986.0,3015.0,3030.0,3010.0,3030.0,3050.0,3010.0,3040.0,3015.0,3045.0,2860.0,2927.0,2828.0,2839.0,2878.0,2835.0,2793.0,2763.0,2773.0,2759.0,2751.0,2821.0,2790.0,2820.0,2850.0,2853.0,2834.0,2797.0,2788.0,2783.0,2781.0,2760.0,2751.0,2742.0,2777.0,2762.0,2725.0,2690.0,2712.0,2806.0,2824.0,2852.0,2894.0,2849.0,2838.0,2820.0,2808.0,2837.0,2803.0,2797.0,2742.0,2739.0,2690.0,2648.0,2702.0,2700.0,2675.0,2677.0,2670.0,2708.0,2699.0,2694.0,2690.0,2700.0,2691.0,2761.0,2733.0,2871.0,2815.0,2797.0,2853.0,2822.0,2912.0,2944.0,2952.0,3030.0,3035.0,3025.0,3025.0,3030.0,3030.0,3065.0,3030.0,3020.0,3045.0,3000.0,3035.0,3070.0,3110.0,3085.0,3060.0,3075.0,3090.0,3060.0,3040.0,3025.0,3025.0,2900.0,2960.0,2953.0,2944.0,2948.0,2929.0,2863.0,2862.0,2851.0,2862.0,2838.0,2820.0,2829.0,2788.0,2800.0,2756.0,2770.0,2848.0,2861.0,2828.0,2824.0,2798.0,2816.0,2797.0,2816.0,2817.0,2828.0,2861.0,2885.0,2923.0,2881.0,2919.0,2880.0,2910.0,2878.0,2863.0,2800.0,2773.0,2804.0,2789.0,2804.0,2800.0,2813.0,2850.0,2876.0,2879.0,2845.0,2902.0,2907.0,2886.0,2882.0,2905.0,2897.0,2899.0,2905.0,2935.0,2915.0,2929.0,2901.0,2947.0,2961.0,2973.0,2998.0,2942.0,2972.0,2994.0,2951.0,2939.0,2941.0,2930.0,2939.0,2908.0,2905.0,2915.0,2924.0,2932.0,2919.0,2930.0,2904.0,2903.0,2862.0,2879.0,2887.0,2885.0,2875.0,2870.0,2872.0,2899.0,2870.0,2850.0,2859.0,2845.0,2854.0,2835.0,2830.0,2847.0,2831.0,2841.0,2865.0,2860.0,2864.0,2892.0,2911.0,2940.0,2930.0,2910.0,2925.0,2945.0,2948.0,2950.0,2943.0,2932.0,2912.0,2880.0,2865.0,2864.0,2862.0,2845.0,2830.0,2824.0,2877.0,2872.0,2887.0,2885.0,2909.0,2884.0,2860.0,2860.0,2855.0,2815.0,2850.0,2798.0,2750.0,2709.0,2727.0,2610.0,2562.0,2749.0,2628.0,2657.0,2620.0,2575.0,2410.0,2533.0,2505.0,2255.0,2339.0,2289.0,2502.0,2439.0,2424.0,2575.0,2625.0,2650.0,2718.0,2600.0,2600.0,2517.0,2467.0,2481.0,2450.0,2550.0,2556.0,2584.0,2543.0,2501.0,2553.0,2540.0,2531.0,2600.0,2557.0,2534.0,2547.0,2521.0,2527.0,2530.0,2534.0,2584.0,2579.0,2526.0,2527.0,2555.0,2590.0,2634.0,2684.0,2655.0,2686.0,2699.0,2710.0,2689.0,2690.0,2670.0,2687.0,2690.0,2704.0,2727.0,2709.0,2703.0,2730.0,2751.0,2790.0,2787.0,2767.0,2769.0,2760.0,2701.0,2672.0,2698.0,2696.0,2707.0,2743.0,2686.0,2701.0,2705.0,2659.0,2720.0,2719.0,2743.0,2716.0,2699.0,2764.0,2734.0,2750.0,2717.0,2733.0,2701.0,2651.0,2725.0,2742.0,2747.0,2750.0,2780.0,2762.0,2770.0,2720.0,2736.0,2718.0,2721.0,2707.0,2638.0,2685.0,2680.0,2712.0,2750.0,2661.0,2672.0,2712.0,2711.0,2714.0,2685.0,2694.0,2706.0,2672.0,2700.0,2710.0,2712.0,2721.0,2700.0,2704.0,2683.0,2710.0,2700.0,2680.0,2675.0,2699.0,2698.0,2734.0,2725.0,2722.0,2738.0,2720.0,2749.0,2741.0,2739.0,2732.0,2711.0,2761.0,2800.0,2828.0,null,2799.0,2769.0,2805.0,2796.0,2809.0,2799.0,2799.0,2799.0,2784.0,2788.0,2771.0,2777.0,2777.0,2745.0,2741.0,2725.0,2721.0,2721.0,2734.0,2725.0,2758.0,2743.0,2763.0,2745.0,2771.0,2800.0,2795.0,2810.0,2807.0,2821.0,2820.0,2800.0,2813.0,2834.0,2848.0,2850.0,2839.0,2820.0,2807.0,2816.0,2824.0,2806.0,2810.0,2819.0,2820.0,2807.0,2816.0,2812.0,2810.0,2830.0,2880.0,2882.0,2872.0,2935.0,2939.0,2947.0,2913.0,2913.0,2903.0,2929.0,2948.0,2947.0,2951.0,2950.0,2958.0,2990.0,2988.0,3100.0,3135.0,3125.0,3050.0,3010.0,3100.0,3095.0,3050.0,3045.0,3140.0,3080.0,3060.0,3035.0,3080.0,3025.0,3020.0,3030.0,3055.0,3080.0,3115.0,3150.0,3135.0,3120.0,3055.0,3070.0,3060.0,3070.0,3065.0,3040.0,3050.0,3045.0,3030.0,3005.0,3050.0,3045.0,3080.0,3090.0,3110.0,3130.0,3140.0,3120.0,3080.0,3105.0,3165.0,3200.0,3215.0,3215.0,3220.0,3260.0,3240.0,3215.0,3250.0,3280.0,3120.0,3065.0,3060.0,3015.0,2970.0,3005.0,3000.0,2991.0,2968.0,2990.0,3010.0,3040.0,3015.0,3045.0,3040.0,3010.0,2951.0,2959.0,2938.0,2935.0,2940.0,2900.0,2913.0,2947.0,2998.0,3000.0,2981.0,2971.0,2943.0,2998.0,2964.0,2939.0,2992.0,3025.0,3005.0,2971.0,2961.0,2930.0,2929.0,2905.0,2875.0,2892.0,2961.0,2924.0,2936.0,2940.0,2934.0,2942.0,2960.0,2958.0,2938.0,2931.0,2949.0,2938.0,2939.0,2915.0,2901.0,2901.0,2931.0,2914.0,2918.0,2904.0,2912.0,2922.0,2910.0,2907.0,2895.0,2896.0,2906.0,2918.0,2901.0,2917.0,2935.0,2961.0,2948.0,2948.0,2917.0,2930.0,2977.0,2972.0,2979.0,2980.0,2979.0,2985.0,3015.0,2985.0,2989.0,3035.0,3025.0,2980.0,2992.0,3030.0,3010.0,2995.0,2992.0,3030.0,3035.0,3020.0,2992.0,3010.0,3015.0,3020.0,3010.0,3045.0,3025.0,3030.0,3030.0,3045.0,3065.0,3090.0,3085.0,3035.0,3090.0,3125.0,3110.0,3095.0,3125.0,3100.0,3050.0,3010.0,3065.0,3055.0,3015.0,3060.0,3010.0,3010.0,2982.0,2983.0,2980.0,3035.0,3025.0,3050.0,3030.0,3000.0,3020.0,3045.0,3035.0,3075.0,3030.0,3010.0,2995.0,2980.0,2986.0,3010.0,2997.0,3085.0,3085.0,3075.0,3150.0,3075.0,3065.0,3035.0,3035.0,3035.0,3100.0,3100.0,3130.0,3060.0,3040.0,3030.0,3045.0,3010.0,3005.0,2975.0,2953.0,2909.0,2949.0,2983.0],\"x\":[\"2017-01-04\",\"2017-01-05\",\"2017-01-06\",\"2017-01-10\",\"2017-01-11\",\"2017-01-12\",\"2017-01-13\",\"2017-01-16\",\"2017-01-17\",\"2017-01-18\",\"2017-01-19\",\"2017-01-20\",\"2017-01-23\",\"2017-01-24\",\"2017-01-25\",\"2017-01-26\",\"2017-01-27\",\"2017-01-30\",\"2017-01-31\",\"2017-02-01\",\"2017-02-02\",\"2017-02-03\",\"2017-02-06\",\"2017-02-07\",\"2017-02-08\",\"2017-02-09\",\"2017-02-10\",\"2017-02-13\",\"2017-02-14\",\"2017-02-15\",\"2017-02-16\",\"2017-02-17\",\"2017-02-20\",\"2017-02-21\",\"2017-02-22\",\"2017-02-23\",\"2017-02-24\",\"2017-02-27\",\"2017-02-28\",\"2017-03-01\",\"2017-03-02\",\"2017-03-03\",\"2017-03-06\",\"2017-03-07\",\"2017-03-08\",\"2017-03-09\",\"2017-03-10\",\"2017-03-13\",\"2017-03-14\",\"2017-03-15\",\"2017-03-16\",\"2017-03-17\",\"2017-03-21\",\"2017-03-22\",\"2017-03-23\",\"2017-03-24\",\"2017-03-27\",\"2017-03-28\",\"2017-03-29\",\"2017-03-30\",\"2017-03-31\",\"2017-04-03\",\"2017-04-04\",\"2017-04-05\",\"2017-04-06\",\"2017-04-07\",\"2017-04-10\",\"2017-04-11\",\"2017-04-12\",\"2017-04-13\",\"2017-04-14\",\"2017-04-17\",\"2017-04-18\",\"2017-04-19\",\"2017-04-20\",\"2017-04-21\",\"2017-04-24\",\"2017-04-25\",\"2017-04-26\",\"2017-04-27\",\"2017-04-28\",\"2017-05-01\",\"2017-05-02\",\"2017-05-08\",\"2017-05-09\",\"2017-05-10\",\"2017-05-11\",\"2017-05-12\",\"2017-05-15\",\"2017-05-16\",\"2017-05-17\",\"2017-05-18\",\"2017-05-19\",\"2017-05-22\",\"2017-05-23\",\"2017-05-24\",\"2017-05-25\",\"2017-05-26\",\"2017-05-29\",\"2017-05-30\",\"2017-05-31\",\"2017-06-01\",\"2017-06-02\",\"2017-06-05\",\"2017-06-06\",\"2017-06-07\",\"2017-06-08\",\"2017-06-09\",\"2017-06-12\",\"2017-06-13\",\"2017-06-14\",\"2017-06-15\",\"2017-06-16\",\"2017-06-19\",\"2017-06-20\",\"2017-06-21\",\"2017-06-22\",\"2017-06-23\",\"2017-06-26\",\"2017-06-27\",\"2017-06-28\",\"2017-06-29\",\"2017-06-30\",\"2017-07-03\",\"2017-07-04\",\"2017-07-05\",\"2017-07-06\",\"2017-07-07\",\"2017-07-10\",\"2017-07-11\",\"2017-07-12\",\"2017-07-13\",\"2017-07-14\",\"2017-07-18\",\"2017-07-19\",\"2017-07-20\",\"2017-07-21\",\"2017-07-24\",\"2017-07-25\",\"2017-07-26\",\"2017-07-27\",\"2017-07-28\",\"2017-07-31\",\"2017-08-01\",\"2017-08-02\",\"2017-08-03\",\"2017-08-04\",\"2017-08-07\",\"2017-08-08\",\"2017-08-09\",\"2017-08-10\",\"2017-08-14\",\"2017-08-15\",\"2017-08-16\",\"2017-08-17\",\"2017-08-18\",\"2017-08-21\",\"2017-08-22\",\"2017-08-23\",\"2017-08-24\",\"2017-08-25\",\"2017-08-28\",\"2017-08-29\",\"2017-08-30\",\"2017-08-31\",\"2017-09-01\",\"2017-09-04\",\"2017-09-05\",\"2017-09-06\",\"2017-09-07\",\"2017-09-08\",\"2017-09-11\",\"2017-09-12\",\"2017-09-13\",\"2017-09-14\",\"2017-09-15\",\"2017-09-19\",\"2017-09-20\",\"2017-09-21\",\"2017-09-22\",\"2017-09-25\",\"2017-09-26\",\"2017-09-27\",\"2017-09-28\",\"2017-09-29\",\"2017-10-02\",\"2017-10-03\",\"2017-10-04\",\"2017-10-05\",\"2017-10-06\",\"2017-10-10\",\"2017-10-11\",\"2017-10-12\",\"2017-10-13\",\"2017-10-16\",\"2017-10-17\",\"2017-10-18\",\"2017-10-19\",\"2017-10-20\",\"2017-10-23\",\"2017-10-24\",\"2017-10-25\",\"2017-10-26\",\"2017-10-27\",\"2017-10-30\",\"2017-10-31\",\"2017-11-01\",\"2017-11-02\",\"2017-11-06\",\"2017-11-07\",\"2017-11-08\",\"2017-11-09\",\"2017-11-10\",\"2017-11-13\",\"2017-11-14\",\"2017-11-15\",\"2017-11-16\",\"2017-11-17\",\"2017-11-20\",\"2017-11-21\",\"2017-11-22\",\"2017-11-24\",\"2017-11-27\",\"2017-11-28\",\"2017-11-29\",\"2017-11-30\",\"2017-12-01\",\"2017-12-04\",\"2017-12-05\",\"2017-12-06\",\"2017-12-07\",\"2017-12-08\",\"2017-12-11\",\"2017-12-12\",\"2017-12-13\",\"2017-12-14\",\"2017-12-15\",\"2017-12-18\",\"2017-12-19\",\"2017-12-20\",\"2017-12-21\",\"2017-12-22\",\"2017-12-25\",\"2017-12-26\",\"2017-12-27\",\"2017-12-28\",\"2017-12-29\",\"2018-01-04\",\"2018-01-05\",\"2018-01-09\",\"2018-01-10\",\"2018-01-11\",\"2018-01-12\",\"2018-01-15\",\"2018-01-16\",\"2018-01-17\",\"2018-01-18\",\"2018-01-19\",\"2018-01-22\",\"2018-01-23\",\"2018-01-24\",\"2018-01-25\",\"2018-01-26\",\"2018-01-29\",\"2018-01-30\",\"2018-01-31\",\"2018-02-01\",\"2018-02-02\",\"2018-02-05\",\"2018-02-06\",\"2018-02-07\",\"2018-02-08\",\"2018-02-09\",\"2018-02-13\",\"2018-02-14\",\"2018-02-15\",\"2018-02-16\",\"2018-02-19\",\"2018-02-20\",\"2018-02-21\",\"2018-02-22\",\"2018-02-23\",\"2018-02-26\",\"2018-02-27\",\"2018-02-28\",\"2018-03-01\",\"2018-03-02\",\"2018-03-05\",\"2018-03-06\",\"2018-03-07\",\"2018-03-08\",\"2018-03-09\",\"2018-03-12\",\"2018-03-13\",\"2018-03-14\",\"2018-03-15\",\"2018-03-16\",\"2018-03-19\",\"2018-03-20\",\"2018-03-22\",\"2018-03-23\",\"2018-03-26\",\"2018-03-27\",\"2018-03-28\",\"2018-03-29\",\"2018-03-30\",\"2018-04-02\",\"2018-04-03\",\"2018-04-04\",\"2018-04-05\",\"2018-04-06\",\"2018-04-09\",\"2018-04-10\",\"2018-04-11\",\"2018-04-12\",\"2018-04-13\",\"2018-04-16\",\"2018-04-17\",\"2018-04-18\",\"2018-04-19\",\"2018-04-20\",\"2018-04-23\",\"2018-04-24\",\"2018-04-25\",\"2018-04-26\",\"2018-04-27\",\"2018-05-01\",\"2018-05-02\",\"2018-05-07\",\"2018-05-08\",\"2018-05-09\",\"2018-05-10\",\"2018-05-11\",\"2018-05-14\",\"2018-05-15\",\"2018-05-16\",\"2018-05-17\",\"2018-05-18\",\"2018-05-21\",\"2018-05-22\",\"2018-05-23\",\"2018-05-24\",\"2018-05-25\",\"2018-05-28\",\"2018-05-29\",\"2018-05-30\",\"2018-05-31\",\"2018-06-01\",\"2018-06-04\",\"2018-06-05\",\"2018-06-06\",\"2018-06-07\",\"2018-06-08\",\"2018-06-11\",\"2018-06-12\",\"2018-06-13\",\"2018-06-14\",\"2018-06-15\",\"2018-06-18\",\"2018-06-19\",\"2018-06-20\",\"2018-06-21\",\"2018-06-22\",\"2018-06-25\",\"2018-06-26\",\"2018-06-27\",\"2018-06-28\",\"2018-06-29\",\"2018-07-02\",\"2018-07-03\",\"2018-07-04\",\"2018-07-05\",\"2018-07-06\",\"2018-07-09\",\"2018-07-10\",\"2018-07-11\",\"2018-07-12\",\"2018-07-13\",\"2018-07-17\",\"2018-07-18\",\"2018-07-19\",\"2018-07-20\",\"2018-07-23\",\"2018-07-24\",\"2018-07-25\",\"2018-07-26\",\"2018-07-27\",\"2018-07-30\",\"2018-07-31\",\"2018-08-01\",\"2018-08-02\",\"2018-08-03\",\"2018-08-06\",\"2018-08-07\",\"2018-08-08\",\"2018-08-09\",\"2018-08-10\",\"2018-08-13\",\"2018-08-14\",\"2018-08-15\",\"2018-08-16\",\"2018-08-17\",\"2018-08-20\",\"2018-08-21\",\"2018-08-22\",\"2018-08-23\",\"2018-08-24\",\"2018-08-27\",\"2018-08-28\",\"2018-08-29\",\"2018-08-30\",\"2018-08-31\",\"2018-09-03\",\"2018-09-04\",\"2018-09-05\",\"2018-09-06\",\"2018-09-07\",\"2018-09-10\",\"2018-09-11\",\"2018-09-12\",\"2018-09-13\",\"2018-09-14\",\"2018-09-18\",\"2018-09-19\",\"2018-09-20\",\"2018-09-21\",\"2018-09-25\",\"2018-09-26\",\"2018-09-27\",\"2018-09-28\",\"2018-10-01\",\"2018-10-02\",\"2018-10-03\",\"2018-10-04\",\"2018-10-05\",\"2018-10-09\",\"2018-10-10\",\"2018-10-11\",\"2018-10-12\",\"2018-10-15\",\"2018-10-16\",\"2018-10-17\",\"2018-10-18\",\"2018-10-19\",\"2018-10-22\",\"2018-10-23\",\"2018-10-24\",\"2018-10-25\",\"2018-10-26\",\"2018-10-29\",\"2018-10-30\",\"2018-10-31\",\"2018-11-01\",\"2018-11-02\",\"2018-11-05\",\"2018-11-06\",\"2018-11-07\",\"2018-11-08\",\"2018-11-09\",\"2018-11-12\",\"2018-11-13\",\"2018-11-14\",\"2018-11-15\",\"2018-11-16\",\"2018-11-19\",\"2018-11-20\",\"2018-11-21\",\"2018-11-22\",\"2018-11-26\",\"2018-11-27\",\"2018-11-28\",\"2018-11-29\",\"2018-11-30\",\"2018-12-03\",\"2018-12-04\",\"2018-12-05\",\"2018-12-06\",\"2018-12-07\",\"2018-12-10\",\"2018-12-11\",\"2018-12-12\",\"2018-12-13\",\"2018-12-14\",\"2018-12-17\",\"2018-12-18\",\"2018-12-19\",\"2018-12-20\",\"2018-12-21\",\"2018-12-25\",\"2018-12-26\",\"2018-12-27\",\"2018-12-28\",\"2019-01-04\",\"2019-01-07\",\"2019-01-08\",\"2019-01-09\",\"2019-01-10\",\"2019-01-11\",\"2019-01-15\",\"2019-01-16\",\"2019-01-17\",\"2019-01-18\",\"2019-01-21\",\"2019-01-22\",\"2019-01-23\",\"2019-01-24\",\"2019-01-25\",\"2019-01-28\",\"2019-01-29\",\"2019-01-30\",\"2019-01-31\",\"2019-02-01\",\"2019-02-04\",\"2019-02-05\",\"2019-02-06\",\"2019-02-07\",\"2019-02-08\",\"2019-02-12\",\"2019-02-13\",\"2019-02-14\",\"2019-02-15\",\"2019-02-18\",\"2019-02-19\",\"2019-02-20\",\"2019-02-21\",\"2019-02-22\",\"2019-02-25\",\"2019-02-26\",\"2019-02-27\",\"2019-02-28\",\"2019-03-01\",\"2019-03-04\",\"2019-03-05\",\"2019-03-06\",\"2019-03-07\",\"2019-03-08\",\"2019-03-11\",\"2019-03-12\",\"2019-03-13\",\"2019-03-14\",\"2019-03-15\",\"2019-03-18\",\"2019-03-19\",\"2019-03-20\",\"2019-03-22\",\"2019-03-25\",\"2019-03-26\",\"2019-03-27\",\"2019-03-28\",\"2019-03-29\",\"2019-04-01\",\"2019-04-02\",\"2019-04-03\",\"2019-04-04\",\"2019-04-05\",\"2019-04-08\",\"2019-04-09\",\"2019-04-10\",\"2019-04-11\",\"2019-04-12\",\"2019-04-15\",\"2019-04-16\",\"2019-04-17\",\"2019-04-18\",\"2019-04-19\",\"2019-04-22\",\"2019-04-23\",\"2019-04-24\",\"2019-04-25\",\"2019-04-26\",\"2019-05-07\",\"2019-05-08\",\"2019-05-09\",\"2019-05-10\",\"2019-05-13\",\"2019-05-14\",\"2019-05-15\",\"2019-05-16\",\"2019-05-17\",\"2019-05-20\",\"2019-05-21\",\"2019-05-22\",\"2019-05-23\",\"2019-05-24\",\"2019-05-27\",\"2019-05-28\",\"2019-05-29\",\"2019-05-30\",\"2019-05-31\",\"2019-06-03\",\"2019-06-04\",\"2019-06-05\",\"2019-06-06\",\"2019-06-07\",\"2019-06-10\",\"2019-06-11\",\"2019-06-12\",\"2019-06-13\",\"2019-06-14\",\"2019-06-17\",\"2019-06-18\",\"2019-06-19\",\"2019-06-20\",\"2019-06-21\",\"2019-06-24\",\"2019-06-25\",\"2019-06-26\",\"2019-06-27\",\"2019-06-28\",\"2019-07-01\",\"2019-07-02\",\"2019-07-03\",\"2019-07-04\",\"2019-07-05\",\"2019-07-08\",\"2019-07-09\",\"2019-07-10\",\"2019-07-11\",\"2019-07-12\",\"2019-07-16\",\"2019-07-17\",\"2019-07-18\",\"2019-07-19\",\"2019-07-22\",\"2019-07-23\",\"2019-07-24\",\"2019-07-25\",\"2019-07-26\",\"2019-07-29\",\"2019-07-30\",\"2019-07-31\",\"2019-08-01\",\"2019-08-02\",\"2019-08-05\",\"2019-08-06\",\"2019-08-07\",\"2019-08-08\",\"2019-08-09\",\"2019-08-13\",\"2019-08-14\",\"2019-08-15\",\"2019-08-16\",\"2019-08-19\",\"2019-08-20\",\"2019-08-21\",\"2019-08-22\",\"2019-08-23\",\"2019-08-26\",\"2019-08-27\",\"2019-08-28\",\"2019-08-29\",\"2019-08-30\",\"2019-09-02\",\"2019-09-03\",\"2019-09-04\",\"2019-09-05\",\"2019-09-06\",\"2019-09-09\",\"2019-09-10\",\"2019-09-11\",\"2019-09-12\",\"2019-09-13\",\"2019-09-17\",\"2019-09-18\",\"2019-09-19\",\"2019-09-20\",\"2019-09-24\",\"2019-09-25\",\"2019-09-26\",\"2019-09-27\",\"2019-09-30\",\"2019-10-01\",\"2019-10-02\",\"2019-10-03\",\"2019-10-04\",\"2019-10-07\",\"2019-10-08\",\"2019-10-09\",\"2019-10-10\",\"2019-10-11\",\"2019-10-15\",\"2019-10-16\",\"2019-10-17\",\"2019-10-18\",\"2019-10-21\",\"2019-10-23\",\"2019-10-24\",\"2019-10-25\",\"2019-10-28\",\"2019-10-29\",\"2019-10-30\",\"2019-10-31\",\"2019-11-01\",\"2019-11-05\",\"2019-11-06\",\"2019-11-07\",\"2019-11-08\",\"2019-11-11\",\"2019-11-12\",\"2019-11-13\",\"2019-11-14\",\"2019-11-15\",\"2019-11-18\",\"2019-11-19\",\"2019-11-20\",\"2019-11-21\",\"2019-11-22\",\"2019-11-25\",\"2019-11-26\",\"2019-11-27\",\"2019-11-28\",\"2019-11-29\",\"2019-12-02\",\"2019-12-03\",\"2019-12-04\",\"2019-12-05\",\"2019-12-06\",\"2019-12-09\",\"2019-12-10\",\"2019-12-11\",\"2019-12-12\",\"2019-12-13\",\"2019-12-16\",\"2019-12-17\",\"2019-12-18\",\"2019-12-19\",\"2019-12-20\",\"2019-12-23\",\"2019-12-24\",\"2019-12-25\",\"2019-12-26\",\"2019-12-27\",\"2019-12-30\",\"2020-01-06\",\"2020-01-07\",\"2020-01-08\",\"2020-01-09\",\"2020-01-10\",\"2020-01-14\",\"2020-01-15\",\"2020-01-16\",\"2020-01-17\",\"2020-01-20\",\"2020-01-21\",\"2020-01-22\",\"2020-01-23\",\"2020-01-24\",\"2020-01-27\",\"2020-01-28\",\"2020-01-29\",\"2020-01-30\",\"2020-01-31\",\"2020-02-03\",\"2020-02-04\",\"2020-02-05\",\"2020-02-06\",\"2020-02-07\",\"2020-02-10\",\"2020-02-12\",\"2020-02-13\",\"2020-02-14\",\"2020-02-17\",\"2020-02-18\",\"2020-02-19\",\"2020-02-20\",\"2020-02-21\",\"2020-02-25\",\"2020-02-26\",\"2020-02-27\",\"2020-02-28\",\"2020-03-02\",\"2020-03-03\",\"2020-03-04\",\"2020-03-05\",\"2020-03-06\",\"2020-03-09\",\"2020-03-10\",\"2020-03-11\",\"2020-03-12\",\"2020-03-13\",\"2020-03-16\",\"2020-03-17\",\"2020-03-18\",\"2020-03-19\",\"2020-03-23\",\"2020-03-24\",\"2020-03-25\",\"2020-03-26\",\"2020-03-27\",\"2020-03-30\",\"2020-03-31\",\"2020-04-01\",\"2020-04-02\",\"2020-04-03\",\"2020-04-06\",\"2020-04-07\",\"2020-04-08\",\"2020-04-09\",\"2020-04-10\",\"2020-04-13\",\"2020-04-14\",\"2020-04-15\",\"2020-04-16\",\"2020-04-17\",\"2020-04-20\",\"2020-04-21\",\"2020-04-22\",\"2020-04-23\",\"2020-04-24\",\"2020-04-27\",\"2020-04-28\",\"2020-04-30\",\"2020-05-01\",\"2020-05-07\",\"2020-05-08\",\"2020-05-11\",\"2020-05-12\",\"2020-05-13\",\"2020-05-14\",\"2020-05-15\",\"2020-05-18\",\"2020-05-19\",\"2020-05-20\",\"2020-05-21\",\"2020-05-22\",\"2020-05-25\",\"2020-05-26\",\"2020-05-27\",\"2020-05-28\",\"2020-05-29\",\"2020-06-01\",\"2020-06-02\",\"2020-06-03\",\"2020-06-04\",\"2020-06-05\",\"2020-06-08\",\"2020-06-09\",\"2020-06-10\",\"2020-06-11\",\"2020-06-12\",\"2020-06-15\",\"2020-06-16\",\"2020-06-17\",\"2020-06-18\",\"2020-06-19\",\"2020-06-22\",\"2020-06-23\",\"2020-06-24\",\"2020-06-25\",\"2020-06-26\",\"2020-06-29\",\"2020-06-30\",\"2020-07-01\",\"2020-07-02\",\"2020-07-03\",\"2020-07-06\",\"2020-07-07\",\"2020-07-08\",\"2020-07-09\",\"2020-07-10\",\"2020-07-13\",\"2020-07-14\",\"2020-07-15\",\"2020-07-16\",\"2020-07-17\",\"2020-07-20\",\"2020-07-21\",\"2020-07-22\",\"2020-07-27\",\"2020-07-28\",\"2020-07-29\",\"2020-07-30\",\"2020-07-31\",\"2020-08-03\",\"2020-08-04\",\"2020-08-05\",\"2020-08-06\",\"2020-08-07\",\"2020-08-11\",\"2020-08-12\",\"2020-08-13\",\"2020-08-14\",\"2020-08-17\",\"2020-08-18\",\"2020-08-19\",\"2020-08-20\",\"2020-08-21\",\"2020-08-24\",\"2020-08-25\",\"2020-08-26\",\"2020-08-27\",\"2020-08-28\",\"2020-08-31\",\"2020-09-01\",\"2020-09-02\",\"2020-09-03\",\"2020-09-04\",\"2020-09-07\",\"2020-09-08\",\"2020-09-09\",\"2020-09-10\",\"2020-09-11\",\"2020-09-14\",\"2020-09-15\",\"2020-09-16\",\"2020-09-17\",\"2020-09-18\",\"2020-09-23\",\"2020-09-24\",\"2020-09-25\",\"2020-09-28\",\"2020-09-29\",\"2020-09-30\",\"2020-10-01\",\"2020-10-02\",\"2020-10-05\",\"2020-10-06\",\"2020-10-07\",\"2020-10-08\",\"2020-10-09\",\"2020-10-12\",\"2020-10-13\",\"2020-10-14\",\"2020-10-15\",\"2020-10-16\",\"2020-10-19\",\"2020-10-20\",\"2020-10-21\",\"2020-10-22\",\"2020-10-23\",\"2020-10-26\",\"2020-10-27\",\"2020-10-28\",\"2020-10-29\",\"2020-10-30\",\"2020-11-02\",\"2020-11-04\",\"2020-11-05\",\"2020-11-06\",\"2020-11-09\",\"2020-11-10\",\"2020-11-11\",\"2020-11-12\",\"2020-11-13\",\"2020-11-16\",\"2020-11-17\",\"2020-11-18\",\"2020-11-19\",\"2020-11-20\",\"2020-11-24\",\"2020-11-25\",\"2020-11-26\",\"2020-11-27\",\"2020-11-30\",\"2020-12-01\",\"2020-12-02\",\"2020-12-03\",\"2020-12-04\",\"2020-12-07\",\"2020-12-08\",\"2020-12-09\",\"2020-12-10\",\"2020-12-11\",\"2020-12-14\",\"2020-12-15\",\"2020-12-16\",\"2020-12-17\",\"2020-12-18\",\"2020-12-21\",\"2020-12-22\",\"2020-12-23\",\"2020-12-24\",\"2020-12-25\",\"2020-12-28\",\"2020-12-29\",\"2020-12-30\",\"2021-01-04\",\"2021-01-05\",\"2021-01-06\",\"2021-01-07\",\"2021-01-08\",\"2021-01-12\",\"2021-01-13\",\"2021-01-14\",\"2021-01-15\",\"2021-01-18\",\"2021-01-19\",\"2021-01-20\",\"2021-01-21\",\"2021-01-22\",\"2021-01-25\",\"2021-01-26\",\"2021-01-27\",\"2021-01-28\",\"2021-01-29\",\"2021-02-01\",\"2021-02-02\",\"2021-02-03\",\"2021-02-04\",\"2021-02-05\",\"2021-02-08\",\"2021-02-09\",\"2021-02-10\",\"2021-02-12\",\"2021-02-15\",\"2021-02-16\",\"2021-02-17\",\"2021-02-18\",\"2021-02-19\",\"2021-02-22\",\"2021-02-24\",\"2021-02-25\",\"2021-02-26\",\"2021-03-01\",\"2021-03-02\",\"2021-03-03\",\"2021-03-04\",\"2021-03-05\",\"2021-03-08\",\"2021-03-09\",\"2021-03-10\",\"2021-03-11\",\"2021-03-12\",\"2021-03-15\",\"2021-03-16\",\"2021-03-17\",\"2021-03-18\",\"2021-03-19\",\"2021-03-22\",\"2021-03-23\",\"2021-03-24\",\"2021-03-25\",\"2021-03-26\",\"2021-03-29\",\"2021-03-30\",\"2021-03-31\",\"2021-04-01\",\"2021-04-02\",\"2021-04-05\",\"2021-04-06\",\"2021-04-07\",\"2021-04-08\",\"2021-04-09\",\"2021-04-12\",\"2021-04-13\",\"2021-04-14\",\"2021-04-15\",\"2021-04-16\",\"2021-04-19\",\"2021-04-20\",\"2021-04-21\",\"2021-04-22\",\"2021-04-23\",\"2021-04-26\",\"2021-04-27\",\"2021-04-28\",\"2021-04-30\",\"2021-05-06\",\"2021-05-07\",\"2021-05-10\",\"2021-05-11\",\"2021-05-12\",\"2021-05-13\",\"2021-05-14\",\"2021-05-17\",\"2021-05-18\",\"2021-05-19\",\"2021-05-20\",\"2021-05-21\",\"2021-05-24\",\"2021-05-25\",\"2021-05-26\",\"2021-05-27\",\"2021-05-28\",\"2021-05-31\",\"2021-06-01\",\"2021-06-02\",\"2021-06-03\",\"2021-06-04\",\"2021-06-07\",\"2021-06-08\",\"2021-06-09\",\"2021-06-10\",\"2021-06-11\",\"2021-06-14\",\"2021-06-15\",\"2021-06-16\",\"2021-06-17\",\"2021-06-18\",\"2021-06-21\",\"2021-06-22\",\"2021-06-23\",\"2021-06-24\",\"2021-06-25\",\"2021-06-28\",\"2021-06-29\",\"2021-06-30\",\"2021-07-01\",\"2021-07-02\",\"2021-07-05\",\"2021-07-06\",\"2021-07-07\",\"2021-07-08\",\"2021-07-09\",\"2021-07-12\",\"2021-07-13\",\"2021-07-14\",\"2021-07-15\",\"2021-07-16\",\"2021-07-19\",\"2021-07-20\",\"2021-07-21\",\"2021-07-26\",\"2021-07-27\",\"2021-07-28\",\"2021-07-29\",\"2021-07-30\",\"2021-08-02\",\"2021-08-03\",\"2021-08-04\",\"2021-08-05\",\"2021-08-06\",\"2021-08-10\",\"2021-08-11\",\"2021-08-12\",\"2021-08-13\",\"2021-08-16\",\"2021-08-17\",\"2021-08-18\",\"2021-08-19\",\"2021-08-20\",\"2021-08-23\",\"2021-08-24\",\"2021-08-25\",\"2021-08-26\",\"2021-08-27\",\"2021-08-30\",\"2021-08-31\",\"2021-09-01\",\"2021-09-02\",\"2021-09-03\",\"2021-09-06\",\"2021-09-07\",\"2021-09-08\",\"2021-09-09\",\"2021-09-10\",\"2021-09-13\",\"2021-09-14\",\"2021-09-15\",\"2021-09-16\",\"2021-09-17\",\"2021-09-21\",\"2021-09-22\",\"2021-09-24\",\"2021-09-27\",\"2021-09-28\",\"2021-09-29\",\"2021-09-30\",\"2021-10-01\",\"2021-10-04\",\"2021-10-05\",\"2021-10-06\",\"2021-10-07\",\"2021-10-08\",\"2021-10-11\",\"2021-10-12\",\"2021-10-13\",\"2021-10-14\",\"2021-10-15\",\"2021-10-18\",\"2021-10-19\",\"2021-10-20\",\"2021-10-21\",\"2021-10-22\",\"2021-10-25\",\"2021-10-26\",\"2021-10-27\",\"2021-10-28\",\"2021-10-29\",\"2021-11-01\",\"2021-11-02\",\"2021-11-04\",\"2021-11-05\",\"2021-11-08\",\"2021-11-09\",\"2021-11-10\",\"2021-11-11\",\"2021-11-12\",\"2021-11-15\",\"2021-11-16\",\"2021-11-17\",\"2021-11-18\",\"2021-11-19\",\"2021-11-22\",\"2021-11-24\",\"2021-11-25\",\"2021-11-26\",\"2021-11-29\",\"2021-11-30\",\"2021-12-01\",\"2021-12-02\",\"2021-12-03\"],\"type\":\"candlestick\"},{\"close\":[571.0,568.0,575.0,562.0,553.0,544.0,553.0,538.0,520.0,537.0,554.0,545.0,535.0,539.0,547.0,554.0,563.0,567.0,556.0,548.0,541.0,546.0,593.0,589.0,579.0,574.0,573.0,583.0,571.0,576.0,567.0,569.0,562.0,562.0,574.0,569.0,558.0,562.0,568.0,561.0,567.0,567.0,554.0,548.0,546.0,548.0,561.0,565.0,576.0,570.0,571.0,571.0,568.0,566.0,570.0,576.0,568.0,577.0,582.0,566.0,555.0,559.0,543.0,540.0,527.0,526.0,527.0,528.0,528.0,536.0,529.0,537.0,516.0,520.0,515.0,517.0,527.0,530.0,533.0,542.0,537.0,542.0,543.0,558.0,559.0,561.0,555.0,540.0,594.0,593.0,584.0,585.0,580.0,587.0,592.0,598.0,601.0,587.0,582.0,579.0,578.0,591.0,594.0,588.0,591.0,610.0,654.0,674.0,675.0,672.0,678.0,691.0,682.0,682.0,679.0,671.0,678.0,666.0,668.0,669.0,672.0,678.0,657.0,666.0,660.0,655.0,643.0,633.0,638.0,637.0,628.0,635.0,632.0,633.0,654.0,655.0,653.0,650.0,641.0,639.0,641.0,647.0,644.0,657.0,653.0,666.0,633.0,613.0,626.0,626.0,630.0,625.0,633.0,639.0,637.0,629.0,619.0,609.0,619.0,611.0,603.0,606.0,608.0,625.0,619.0,613.0,609.0,600.0,608.0,615.0,613.0,616.0,623.0,617.0,620.0,614.0,616.0,625.0,620.0,611.0,615.0,618.0,623.0,628.0,629.0,622.0,622.0,622.0,660.0,652.0,650.0,653.0,649.0,649.0,662.0,661.0,660.0,659.0,677.0,678.0,685.0,687.0,684.0,685.0,687.0,690.0,709.0,670.0,652.0,645.0,638.0,639.0,617.0,610.0,587.0,579.0,589.0,586.0,582.0,585.0,581.0,584.0,584.0,589.0,599.0,614.0,604.0,601.0,598.0,586.0,589.0,590.0,599.0,597.0,600.0,600.0,616.0,619.0,619.0,617.0,613.0,616.0,613.0,611.0,612.0,591.0,589.0,590.0,590.0,596.0,606.0,604.0,594.0,594.0,593.0,589.0,586.0,587.0,588.0,593.0,595.0,591.0,595.0,589.0,582.0,580.0,586.0,581.0,570.0,548.0,543.0,539.0,523.0,523.0,518.0,514.0,522.0,538.0,538.0,544.0,535.0,549.0,553.0,555.0,553.0,543.0,531.0,529.0,542.0,532.0,537.0,545.0,543.0,547.0,545.0,536.0,538.0,536.0,535.0,538.0,528.0,529.0,548.0,541.0,549.0,552.0,556.0,556.0,563.0,563.0,567.0,573.0,571.0,573.0,575.0,572.0,573.0,574.0,576.0,582.0,589.0,583.0,585.0,587.0,591.0,594.0,596.0,598.0,600.0,599.0,600.0,602.0,606.0,585.0,569.0,564.0,571.0,572.0,570.0,571.0,562.0,551.0,547.0,539.0,536.0,532.0,533.0,533.0,538.0,532.0,533.0,537.0,536.0,538.0,541.0,543.0,546.0,545.0,544.0,533.0,544.0,537.0,536.0,540.0,548.0,546.0,544.0,546.0,537.0,534.0,537.0,536.0,537.0,538.0,531.0,516.0,520.0,528.0,538.0,538.0,536.0,530.0,527.0,535.0,535.0,544.0,546.0,547.0,549.0,541.0,543.0,568.0,581.0,579.0,580.0,581.0,581.0,574.0,584.0,587.0,588.0,592.0,600.0,605.0,604.0,604.0,605.0,605.0,605.0,606.0,612.0,610.0,618.0,619.0,624.0,631.0,635.0,632.0,621.0,640.0,639.0,640.0,647.0,641.0,643.0,654.0,673.0,694.0,721.0,740.0,735.0,719.0,713.0,718.0,713.0,702.0,725.0,715.0,714.0,719.0,731.0,737.0,730.0,736.0,738.0,720.0,741.0,715.0,720.0,721.0,718.0,721.0,724.0,714.0,694.0,708.0,680.0,705.0,708.0,712.0,700.0,698.0,701.0,706.0,708.0,711.0,701.0,713.0,720.0,708.0,707.0,692.0,686.0,686.0,686.0,694.0,685.0,681.0,666.0,677.0,696.0,676.0,673.0,669.0,649.0,639.0,634.0,629.0,597.0,599.0,615.0,614.0,615.0,623.0,633.0,647.0,651.0,643.0,650.0,650.0,640.0,658.0,664.0,670.0,669.0,669.0,672.0,663.0,675.0,672.0,670.0,665.0,673.0,722.0,736.0,737.0,727.0,724.0,716.0,716.0,725.0,732.0,729.0,726.0,716.0,715.0,716.0,717.0,720.0,729.0,761.0,774.0,776.0,775.0,789.0,775.0,793.0,800.0,790.0,804.0,812.0,808.0,804.0,800.0,805.0,797.0,817.0,821.0,849.0,845.0,841.0,825.0,816.0,800.0,781.0,779.0,776.0,768.0,765.0,764.0,787.0,778.0,758.0,747.0,754.0,763.0,766.0,775.0,777.0,777.0,774.0,753.0,724.0,718.0,720.0,681.0,676.0,681.0,665.0,681.0,670.0,683.0,694.0,685.0,667.0,655.0,650.0,656.0,660.0,640.0,630.0,651.0,641.0,654.0,654.0,655.0,656.0,664.0,652.0,667.0,667.0,679.0,694.0,690.0,690.0,681.0,673.0,659.0,668.0,674.0,669.0,696.0,702.0,696.0,681.0,690.0,698.0,711.0,710.0,708.0,704.0,678.0,711.0,696.0,700.0,697.0,690.0,695.0,708.0,708.0,689.0,683.0,670.0,623.0,650.0,617.0,612.0,617.0,598.0,597.0,588.0,588.0,597.0,601.0,602.0,610.0,611.0,598.0,591.0,587.0,600.0,616.0,604.0,603.0,599.0,606.0,604.0,611.0,623.0,633.0,625.0,639.0,639.0,629.0,631.0,629.0,627.0,633.0,639.0,624.0,611.0,620.0,611.0,582.0,585.0,586.0,603.0,608.0,616.0,612.0,622.0,609.0,601.0,610.0,605.0,607.0,598.0,612.0,603.0,612.0,617.0,621.0,615.0,636.0,636.0,641.0,644.0,640.0,635.0,635.0,644.0,676.0,653.0,641.0,618.0,612.0,615.0,634.0,641.0,662.0,656.0,657.0,666.0,647.0,642.0,632.0,620.0,619.0,639.0,661.0,631.0,652.0,670.0,667.0,651.0,637.0,641.0,645.0,657.0,648.0,654.0,655.0,652.0,629.0,637.0,620.0,629.0,627.0,626.0,620.0,616.0,618.0,616.0,611.0,619.0,604.0,601.0,596.0,601.0,608.0,593.0,602.0,596.0,584.0,618.0,616.0,609.0,620.0,620.0,622.0,616.0,616.0,617.0,617.0,610.0,594.0,570.0,549.0,538.0,511.0,529.0,516.0,508.0,511.0,492.0,457.0,470.0,469.0,444.0,411.0,412.0,442.0,459.0,465.0,460.0,480.0,493.0,511.0,515.0,517.0,478.0,435.0,414.0,418.0,451.0,456.0,470.0,477.0,471.0,472.0,477.0,459.0,464.0,468.0,468.0,464.0,458.0,475.0,465.0,471.0,471.0,480.0,461.0,458.0,472.0,479.0,476.0,473.0,462.0,446.0,457.0,463.0,485.0,475.0,467.0,488.0,499.0,504.0,510.0,499.0,497.0,504.0,505.0,503.0,512.0,517.0,518.0,521.0,492.0,489.0,473.0,503.0,486.0,492.0,492.0,485.0,488.0,479.0,469.0,472.0,456.0,468.0,461.0,467.0,463.0,473.0,467.0,467.0,460.0,449.0,466.0,463.0,474.0,477.0,471.0,474.0,473.0,463.0,468.0,462.0,458.0,454.0,439.0,465.0,472.0,467.0,466.0,462.0,477.0,489.0,490.0,489.0,483.0,484.0,487.0,482.0,477.0,476.0,488.0,484.0,471.0,471.0,476.0,468.0,468.0,461.0,457.0,454.0,463.0,454.0,463.0,474.0,479.0,468.0,461.0,457.0,459.0,456.0,445.0,448.0,461.0,459.0,447.0,null,441.0,453.0,450.0,446.0,443.0,436.0,429.0,433.0,437.0,427.0,420.0,423.0,412.0,421.0,418.0,421.0,422.0,421.0,415.0,413.0,401.0,414.0,417.0,417.0,421.0,423.0,441.0,444.0,434.0,424.0,430.0,431.0,420.0,418.0,428.0,425.0,418.0,418.0,418.0,401.0,409.0,418.0,419.0,424.0,421.0,419.0,422.0,423.0,424.0,427.0,428.0,431.0,425.0,428.0,427.0,417.0,419.0,420.0,423.0,420.0,428.0,426.0,421.0,419.0,427.0,428.0,436.0,443.0,445.0,446.0,441.0,431.0,432.0,426.0,433.0,437.0,434.0,441.0,445.0,444.0,437.0,443.0,442.0,453.0,452.0,493.0,512.0,510.0,515.0,506.0,510.0,505.0,506.0,495.0,497.0,502.0,512.0,515.0,507.0,518.0,519.0,541.0,534.0,542.0,552.0,572.0,550.0,556.0,557.0,560.0,559.0,561.0,565.0,567.0,568.0,561.0,539.0,556.0,560.0,548.0,548.0,532.0,527.0,522.0,530.0,525.0,533.0,524.0,529.0,529.0,522.0,517.0,522.0,523.0,520.0,508.0,499.0,502.0,502.0,501.0,504.0,505.0,511.0,529.0,535.0,540.0,530.0,524.0,537.0,518.0,532.0,532.0,525.0,521.0,516.0,519.0,513.0,511.0,504.0,514.0,507.0,514.0,516.0,534.0,540.0,548.0,561.0,560.0,547.0,543.0,542.0,546.0,546.0,543.0,535.0,521.0,539.0,533.0,529.0,534.0,536.0,529.0,529.0,524.0,536.0,539.0,540.0,528.0,521.0,520.0,537.0,547.0,546.0,549.0,559.0,549.0,543.0,556.0,555.0,577.0,580.0,579.0,567.0,579.0,577.0,607.0,602.0,594.0,582.0,587.0,581.0,583.0,578.0,580.0,597.0,583.0,581.0,593.0,599.0,602.0,600.0,597.0,609.0,606.0,604.0,606.0,624.0,625.0,627.0,624.0,624.0,632.0,640.0,641.0,636.0,644.0,647.0,642.0,635.0,659.0,663.0,658.0,654.0,651.0,630.0,634.0,618.0,625.0,627.0,627.0,630.0,622.0,629.0,679.0,671.0,655.0,655.0,648.0,645.0,645.0,643.0,655.0,644.0,650.0,647.0,659.0,649.0,635.0,661.0,629.0,618.0,618.0,621.0,622.0,622.0,619.0,603.0,593.0,591.0,601.0,594.0,593.0,585.0,567.0,573.0,574.0,573.0,585.0],\"high\":[576.0,573.0,576.0,576.0,562.0,556.0,554.0,549.0,538.0,544.0,556.0,552.0,542.0,545.0,552.0,557.0,569.0,568.0,562.0,555.0,552.0,568.0,608.0,590.0,591.0,576.0,587.0,585.0,586.0,579.0,572.0,571.0,568.0,567.0,590.0,574.0,567.0,567.0,569.0,568.0,568.0,573.0,569.0,554.0,553.0,556.0,562.0,567.0,578.0,575.0,573.0,574.0,573.0,572.0,572.0,579.0,576.0,578.0,582.0,581.0,570.0,561.0,561.0,546.0,540.0,533.0,537.0,529.0,529.0,537.0,544.0,538.0,530.0,526.0,518.0,519.0,527.0,531.0,534.0,543.0,545.0,548.0,547.0,559.0,565.0,562.0,564.0,556.0,596.0,595.0,591.0,586.0,583.0,588.0,594.0,598.0,602.0,600.0,587.0,585.0,579.0,593.0,595.0,591.0,593.0,612.0,658.0,680.0,675.0,676.0,685.0,700.0,696.0,685.0,688.0,681.0,684.0,677.0,673.0,674.0,675.0,679.0,672.0,668.0,672.0,660.0,659.0,646.0,643.0,638.0,638.0,653.0,640.0,642.0,654.0,667.0,655.0,652.0,650.0,641.0,645.0,650.0,648.0,657.0,657.0,667.0,688.0,633.0,628.0,626.0,634.0,625.0,635.0,645.0,642.0,633.0,634.0,620.0,619.0,622.0,612.0,608.0,613.0,626.0,626.0,623.0,614.0,611.0,609.0,619.0,621.0,621.0,625.0,623.0,630.0,622.0,618.0,629.0,625.0,620.0,616.0,620.0,624.0,629.0,638.0,630.0,623.0,625.0,665.0,655.0,661.0,656.0,655.0,651.0,672.0,670.0,673.0,664.0,678.0,685.0,688.0,696.0,685.0,691.0,692.0,693.0,710.0,719.0,679.0,647.0,650.0,648.0,630.0,624.0,607.0,589.0,591.0,599.0,587.0,588.0,594.0,584.0,589.0,592.0,600.0,614.0,618.0,608.0,599.0,597.0,593.0,593.0,601.0,599.0,602.0,607.0,622.0,628.0,624.0,620.0,619.0,619.0,617.0,618.0,614.0,607.0,592.0,596.0,594.0,598.0,609.0,606.0,604.0,600.0,596.0,594.0,595.0,592.0,591.0,596.0,599.0,597.0,597.0,594.0,588.0,588.0,586.0,583.0,579.0,555.0,564.0,543.0,526.0,539.0,528.0,522.0,524.0,539.0,543.0,546.0,542.0,552.0,555.0,560.0,558.0,551.0,535.0,536.0,547.0,539.0,540.0,555.0,549.0,548.0,548.0,541.0,539.0,538.0,536.0,539.0,533.0,531.0,549.0,544.0,550.0,554.0,560.0,558.0,566.0,570.0,570.0,575.0,577.0,574.0,578.0,578.0,575.0,577.0,577.0,583.0,591.0,591.0,589.0,588.0,592.0,595.0,598.0,600.0,601.0,600.0,602.0,606.0,607.0,610.0,577.0,571.0,573.0,576.0,575.0,573.0,571.0,559.0,551.0,550.0,537.0,533.0,539.0,534.0,540.0,542.0,536.0,541.0,542.0,541.0,547.0,547.0,548.0,553.0,549.0,542.0,545.0,543.0,537.0,547.0,551.0,549.0,549.0,548.0,552.0,541.0,540.0,544.0,545.0,543.0,538.0,530.0,524.0,532.0,541.0,546.0,540.0,535.0,529.0,538.0,538.0,545.0,547.0,550.0,552.0,548.0,546.0,595.0,587.0,583.0,583.0,586.0,588.0,582.0,584.0,590.0,591.0,594.0,605.0,612.0,608.0,609.0,607.0,607.0,607.0,608.0,617.0,615.0,619.0,623.0,625.0,638.0,636.0,640.0,630.0,640.0,645.0,644.0,648.0,646.0,644.0,657.0,700.0,697.0,730.0,746.0,746.0,728.0,719.0,723.0,720.0,712.0,728.0,717.0,715.0,725.0,734.0,743.0,738.0,740.0,745.0,736.0,744.0,729.0,724.0,728.0,724.0,722.0,729.0,720.0,713.0,714.0,708.0,707.0,725.0,720.0,712.0,700.0,704.0,709.0,714.0,712.0,711.0,720.0,725.0,720.0,714.0,708.0,697.0,695.0,696.0,694.0,688.0,696.0,681.0,685.0,696.0,695.0,682.0,675.0,661.0,654.0,645.0,651.0,607.0,609.0,618.0,621.0,615.0,632.0,635.0,655.0,655.0,653.0,653.0,664.0,647.0,663.0,669.0,673.0,672.0,675.0,674.0,667.0,676.0,677.0,681.0,676.0,676.0,727.0,740.0,740.0,733.0,732.0,730.0,720.0,727.0,735.0,742.0,734.0,720.0,717.0,723.0,724.0,724.0,736.0,762.0,780.0,785.0,777.0,790.0,789.0,795.0,810.0,802.0,806.0,815.0,814.0,809.0,803.0,806.0,802.0,819.0,824.0,863.0,858.0,852.0,843.0,822.0,810.0,795.0,794.0,783.0,777.0,778.0,773.0,791.0,787.0,777.0,760.0,764.0,771.0,771.0,780.0,777.0,780.0,782.0,767.0,740.0,724.0,723.0,737.0,678.0,695.0,685.0,688.0,694.0,685.0,698.0,693.0,691.0,674.0,656.0,658.0,673.0,657.0,638.0,653.0,650.0,660.0,665.0,659.0,659.0,667.0,666.0,671.0,672.0,683.0,699.0,696.0,697.0,695.0,675.0,667.0,670.0,683.0,681.0,698.0,711.0,708.0,694.0,700.0,700.0,712.0,720.0,710.0,710.0,698.0,715.0,706.0,703.0,702.0,697.0,696.0,708.0,712.0,701.0,684.0,686.0,660.0,653.0,641.0,618.0,622.0,609.0,602.0,591.0,592.0,601.0,608.0,605.0,616.0,617.0,599.0,604.0,596.0,602.0,618.0,612.0,606.0,602.0,614.0,613.0,613.0,625.0,635.0,639.0,645.0,644.0,640.0,639.0,633.0,636.0,633.0,643.0,629.0,619.0,624.0,616.0,595.0,588.0,592.0,605.0,610.0,617.0,623.0,630.0,624.0,616.0,618.0,610.0,610.0,608.0,613.0,612.0,615.0,617.0,626.0,617.0,647.0,655.0,653.0,651.0,650.0,639.0,638.0,649.0,685.0,666.0,659.0,639.0,624.0,623.0,634.0,644.0,662.0,662.0,661.0,667.0,658.0,649.0,644.0,632.0,625.0,642.0,665.0,658.0,652.0,689.0,684.0,664.0,648.0,649.0,651.0,659.0,658.0,655.0,659.0,662.0,639.0,639.0,626.0,633.0,630.0,628.0,626.0,624.0,622.0,621.0,618.0,620.0,614.0,608.0,597.0,603.0,609.0,604.0,606.0,601.0,592.0,620.0,632.0,616.0,625.0,626.0,623.0,623.0,617.0,618.0,621.0,618.0,610.0,582.0,563.0,548.0,528.0,538.0,543.0,513.0,521.0,507.0,474.0,473.0,489.0,468.0,427.0,438.0,450.0,487.0,498.0,464.0,481.0,501.0,521.0,515.0,517.0,516.0,456.0,430.0,424.0,453.0,471.0,472.0,480.0,480.0,482.0,478.0,471.0,464.0,473.0,468.0,470.0,462.0,475.0,471.0,472.0,474.0,488.0,480.0,463.0,472.0,479.0,480.0,475.0,473.0,461.0,460.0,471.0,488.0,492.0,475.0,488.0,505.0,506.0,517.0,511.0,506.0,509.0,514.0,511.0,512.0,517.0,532.0,526.0,515.0,492.0,496.0,504.0,497.0,492.0,494.0,489.0,492.0,487.0,475.0,473.0,470.0,471.0,471.0,471.0,470.0,474.0,471.0,475.0,466.0,463.0,467.0,469.0,475.0,486.0,478.0,474.0,476.0,475.0,468.0,469.0,461.0,458.0,451.0,467.0,472.0,468.0,473.0,463.0,478.0,492.0,501.0,491.0,486.0,485.0,489.0,487.0,488.0,483.0,489.0,486.0,481.0,484.0,484.0,471.0,469.0,470.0,460.0,458.0,463.0,459.0,464.0,474.0,482.0,474.0,468.0,464.0,461.0,458.0,451.0,451.0,461.0,459.0,457.0,null,451.0,455.0,453.0,447.0,448.0,443.0,437.0,436.0,438.0,436.0,426.0,426.0,420.0,422.0,420.0,423.0,427.0,422.0,420.0,416.0,411.0,415.0,424.0,421.0,423.0,429.0,441.0,450.0,440.0,433.0,434.0,439.0,424.0,421.0,428.0,434.0,428.0,422.0,422.0,420.0,410.0,420.0,423.0,425.0,430.0,424.0,425.0,428.0,426.0,432.0,431.0,432.0,432.0,430.0,430.0,423.0,421.0,426.0,424.0,424.0,428.0,430.0,429.0,421.0,427.0,431.0,436.0,444.0,446.0,447.0,446.0,438.0,438.0,432.0,436.0,439.0,440.0,442.0,447.0,446.0,450.0,445.0,444.0,453.0,457.0,494.0,528.0,530.0,518.0,519.0,513.0,508.0,511.0,507.0,500.0,509.0,518.0,525.0,519.0,519.0,526.0,542.0,546.0,543.0,558.0,573.0,567.0,567.0,560.0,566.0,562.0,561.0,566.0,572.0,570.0,566.0,556.0,561.0,569.0,567.0,550.0,540.0,538.0,532.0,534.0,533.0,534.0,533.0,537.0,536.0,532.0,521.0,525.0,525.0,526.0,519.0,504.0,505.0,504.0,507.0,511.0,509.0,514.0,530.0,540.0,543.0,543.0,530.0,558.0,550.0,537.0,535.0,533.0,525.0,521.0,526.0,520.0,514.0,515.0,517.0,511.0,516.0,517.0,534.0,544.0,553.0,562.0,574.0,551.0,548.0,548.0,549.0,551.0,549.0,538.0,525.0,540.0,539.0,532.0,534.0,537.0,535.0,533.0,530.0,540.0,539.0,544.0,533.0,527.0,521.0,539.0,549.0,548.0,557.0,560.0,555.0,546.0,557.0,564.0,579.0,580.0,582.0,576.0,582.0,578.0,617.0,612.0,599.0,597.0,591.0,593.0,583.0,580.0,585.0,598.0,597.0,584.0,598.0,600.0,607.0,602.0,604.0,610.0,613.0,606.0,607.0,627.0,632.0,630.0,625.0,626.0,632.0,640.0,649.0,645.0,645.0,647.0,645.0,655.0,660.0,666.0,665.0,655.0,659.0,643.0,638.0,629.0,629.0,639.0,639.0,631.0,630.0,632.0,689.0,683.0,666.0,662.0,666.0,655.0,653.0,652.0,656.0,657.0,653.0,649.0,670.0,656.0,656.0,670.0,683.0,632.0,628.0,625.0,627.0,624.0,632.0,621.0,600.0,592.0,601.0,601.0,595.0,591.0,579.0,590.0,578.0,577.0,585.0],\"low\":[563.0,565.0,563.0,561.0,551.0,543.0,541.0,535.0,520.0,523.0,537.0,538.0,533.0,533.0,543.0,545.0,556.0,561.0,551.0,546.0,538.0,536.0,568.0,577.0,572.0,567.0,570.0,574.0,571.0,569.0,563.0,560.0,556.0,560.0,572.0,563.0,558.0,554.0,562.0,561.0,562.0,565.0,552.0,547.0,545.0,544.0,550.0,561.0,564.0,567.0,564.0,567.0,565.0,562.0,561.0,569.0,565.0,568.0,570.0,566.0,555.0,546.0,539.0,538.0,525.0,519.0,522.0,521.0,521.0,525.0,527.0,528.0,512.0,510.0,512.0,513.0,521.0,524.0,522.0,529.0,537.0,538.0,541.0,550.0,558.0,554.0,553.0,540.0,533.0,577.0,580.0,570.0,576.0,578.0,588.0,591.0,592.0,586.0,579.0,575.0,572.0,581.0,590.0,584.0,581.0,593.0,630.0,659.0,656.0,669.0,673.0,678.0,677.0,674.0,676.0,671.0,667.0,663.0,663.0,668.0,669.0,671.0,656.0,651.0,656.0,649.0,642.0,632.0,636.0,633.0,628.0,630.0,631.0,632.0,635.0,654.0,648.0,645.0,640.0,636.0,634.0,644.0,638.0,642.0,648.0,649.0,630.0,611.0,617.0,612.0,624.0,619.0,627.0,634.0,633.0,627.0,618.0,608.0,606.0,611.0,603.0,602.0,605.0,611.0,617.0,612.0,605.0,598.0,596.0,611.0,612.0,612.0,617.0,614.0,617.0,612.0,613.0,618.0,619.0,606.0,610.0,613.0,611.0,617.0,623.0,621.0,614.0,618.0,628.0,646.0,648.0,649.0,648.0,645.0,655.0,660.0,659.0,658.0,663.0,673.0,678.0,681.0,682.0,682.0,681.0,682.0,695.0,665.0,647.0,640.0,633.0,633.0,612.0,609.0,583.0,576.0,578.0,583.0,578.0,582.0,581.0,575.0,580.0,582.0,585.0,604.0,600.0,599.0,591.0,582.0,587.0,584.0,590.0,592.0,594.0,598.0,611.0,617.0,615.0,615.0,609.0,610.0,612.0,609.0,607.0,589.0,585.0,587.0,588.0,591.0,597.0,600.0,591.0,592.0,592.0,588.0,585.0,584.0,585.0,592.0,593.0,590.0,592.0,588.0,580.0,580.0,582.0,578.0,550.0,537.0,542.0,536.0,516.0,521.0,514.0,513.0,513.0,523.0,536.0,536.0,531.0,543.0,550.0,555.0,553.0,541.0,527.0,526.0,537.0,526.0,530.0,542.0,539.0,540.0,541.0,531.0,533.0,531.0,528.0,533.0,525.0,521.0,529.0,536.0,542.0,545.0,550.0,544.0,556.0,562.0,560.0,566.0,564.0,564.0,570.0,572.0,570.0,573.0,573.0,571.0,583.0,582.0,584.0,581.0,585.0,589.0,590.0,592.0,593.0,596.0,597.0,599.0,602.0,577.0,565.0,562.0,565.0,570.0,569.0,568.0,560.0,548.0,545.0,538.0,531.0,528.0,530.0,527.0,535.0,528.0,529.0,536.0,534.0,536.0,540.0,542.0,541.0,544.0,541.0,531.0,533.0,537.0,532.0,539.0,537.0,538.0,542.0,540.0,537.0,530.0,534.0,531.0,537.0,537.0,531.0,515.0,517.0,520.0,526.0,538.0,533.0,525.0,526.0,532.0,534.0,538.0,542.0,540.0,543.0,537.0,540.0,531.0,573.0,574.0,564.0,579.0,580.0,573.0,576.0,582.0,583.0,586.0,595.0,600.0,600.0,601.0,603.0,602.0,601.0,604.0,608.0,607.0,611.0,617.0,610.0,626.0,628.0,631.0,618.0,624.0,638.0,635.0,638.0,639.0,633.0,644.0,672.0,666.0,698.0,726.0,735.0,711.0,701.0,711.0,709.0,694.0,710.0,705.0,704.0,707.0,711.0,732.0,730.0,728.0,732.0,720.0,725.0,712.0,708.0,710.0,713.0,706.0,715.0,703.0,658.0,670.0,679.0,676.0,708.0,705.0,692.0,693.0,687.0,695.0,703.0,699.0,700.0,701.0,711.0,707.0,704.0,691.0,684.0,686.0,685.0,677.0,676.0,676.0,664.0,672.0,681.0,674.0,670.0,666.0,646.0,633.0,626.0,625.0,594.0,588.0,605.0,612.0,595.0,621.0,624.0,640.0,640.0,640.0,639.0,644.0,639.0,635.0,651.0,662.0,661.0,666.0,667.0,659.0,664.0,666.0,666.0,664.0,660.0,668.0,719.0,725.0,724.0,721.0,714.0,709.0,714.0,722.0,729.0,725.0,712.0,707.0,714.0,716.0,717.0,721.0,738.0,767.0,774.0,768.0,779.0,773.0,779.0,797.0,786.0,788.0,804.0,803.0,801.0,788.0,797.0,792.0,798.0,806.0,831.0,838.0,835.0,823.0,795.0,799.0,775.0,774.0,772.0,767.0,764.0,757.0,765.0,774.0,758.0,744.0,738.0,755.0,756.0,771.0,766.0,771.0,769.0,749.0,721.0,710.0,712.0,656.0,657.0,675.0,659.0,670.0,668.0,670.0,679.0,679.0,664.0,655.0,645.0,648.0,652.0,639.0,625.0,639.0,632.0,644.0,653.0,648.0,650.0,653.0,652.0,654.0,657.0,672.0,681.0,686.0,687.0,678.0,664.0,656.0,650.0,671.0,667.0,677.0,689.0,693.0,679.0,687.0,681.0,697.0,705.0,700.0,700.0,676.0,685.0,695.0,690.0,695.0,689.0,687.0,695.0,705.0,688.0,675.0,669.0,600.0,603.0,611.0,603.0,612.0,596.0,592.0,581.0,583.0,591.0,595.0,597.0,602.0,607.0,589.0,591.0,585.0,585.0,599.0,601.0,596.0,596.0,597.0,601.0,603.0,609.0,623.0,624.0,628.0,637.0,628.0,628.0,623.0,625.0,620.0,635.0,615.0,608.0,610.0,607.0,578.0,576.0,583.0,591.0,598.0,603.0,609.0,618.0,606.0,599.0,605.0,604.0,598.0,597.0,599.0,600.0,605.0,608.0,618.0,608.0,608.0,630.0,636.0,641.0,635.0,630.0,632.0,637.0,649.0,648.0,639.0,618.0,607.0,611.0,620.0,635.0,647.0,645.0,653.0,656.0,647.0,637.0,624.0,618.0,614.0,625.0,642.0,631.0,637.0,666.0,667.0,649.0,637.0,641.0,644.0,649.0,644.0,649.0,652.0,652.0,628.0,629.0,615.0,626.0,625.0,624.0,619.0,613.0,613.0,616.0,610.0,611.0,604.0,600.0,584.0,589.0,597.0,590.0,594.0,589.0,583.0,577.0,615.0,605.0,613.0,616.0,616.0,614.0,606.0,612.0,612.0,608.0,594.0,567.0,542.0,534.0,506.0,506.0,514.0,505.0,508.0,486.0,454.0,436.0,468.0,440.0,398.0,411.0,400.0,442.0,463.0,435.0,453.0,477.0,486.0,494.0,497.0,467.0,431.0,410.0,408.0,424.0,446.0,456.0,469.0,461.0,469.0,469.0,456.0,451.0,462.0,459.0,461.0,454.0,458.0,462.0,460.0,463.0,479.0,461.0,454.0,461.0,471.0,472.0,466.0,461.0,434.0,447.0,463.0,462.0,474.0,465.0,478.0,490.0,492.0,504.0,498.0,495.0,499.0,503.0,499.0,502.0,505.0,515.0,517.0,492.0,474.0,472.0,489.0,479.0,482.0,488.0,483.0,482.0,475.0,466.0,461.0,455.0,464.0,457.0,461.0,458.0,460.0,463.0,462.0,459.0,448.0,457.0,460.0,468.0,472.0,469.0,466.0,468.0,463.0,456.0,462.0,454.0,451.0,439.0,443.0,459.0,456.0,462.0,456.0,465.0,481.0,484.0,485.0,477.0,476.0,475.0,479.0,477.0,475.0,483.0,482.0,471.0,466.0,475.0,464.0,463.0,460.0,454.0,453.0,453.0,453.0,454.0,461.0,476.0,466.0,459.0,455.0,456.0,450.0,444.0,443.0,449.0,451.0,446.0,null,441.0,445.0,447.0,440.0,441.0,436.0,426.0,427.0,430.0,425.0,417.0,420.0,411.0,412.0,414.0,415.0,418.0,416.0,413.0,408.0,400.0,407.0,413.0,410.0,409.0,421.0,431.0,437.0,430.0,420.0,428.0,427.0,418.0,415.0,419.0,425.0,418.0,415.0,417.0,401.0,405.0,408.0,415.0,420.0,420.0,419.0,420.0,422.0,419.0,425.0,425.0,428.0,424.0,424.0,423.0,416.0,416.0,419.0,421.0,417.0,419.0,425.0,416.0,417.0,419.0,426.0,426.0,434.0,440.0,440.0,440.0,429.0,431.0,425.0,429.0,430.0,432.0,433.0,442.0,435.0,437.0,439.0,439.0,442.0,451.0,452.0,498.0,505.0,502.0,503.0,506.0,497.0,503.0,487.0,495.0,499.0,502.0,512.0,507.0,505.0,515.0,519.0,529.0,529.0,546.0,557.0,549.0,554.0,546.0,558.0,553.0,554.0,556.0,562.0,563.0,559.0,536.0,542.0,559.0,543.0,538.0,532.0,525.0,518.0,523.0,522.0,525.0,523.0,528.0,526.0,522.0,516.0,513.0,517.0,519.0,507.0,494.0,497.0,495.0,499.0,498.0,500.0,504.0,515.0,525.0,533.0,527.0,516.0,513.0,515.0,521.0,528.0,523.0,517.0,513.0,518.0,512.0,506.0,504.0,508.0,504.0,507.0,507.0,522.0,534.0,547.0,551.0,559.0,541.0,541.0,540.0,538.0,545.0,541.0,530.0,517.0,527.0,530.0,527.0,530.0,531.0,528.0,528.0,523.0,528.0,532.0,540.0,527.0,521.0,511.0,533.0,538.0,539.0,547.0,545.0,546.0,539.0,547.0,553.0,561.0,568.0,571.0,565.0,568.0,572.0,556.0,594.0,587.0,579.0,582.0,580.0,574.0,574.0,576.0,584.0,580.0,571.0,586.0,593.0,600.0,592.0,597.0,600.0,602.0,594.0,599.0,614.0,624.0,619.0,617.0,618.0,623.0,631.0,636.0,634.0,639.0,638.0,633.0,635.0,648.0,658.0,652.0,641.0,647.0,627.0,630.0,616.0,611.0,626.0,626.0,623.0,621.0,621.0,623.0,656.0,652.0,653.0,645.0,641.0,637.0,641.0,647.0,643.0,644.0,634.0,656.0,646.0,634.0,624.0,628.0,618.0,617.0,618.0,619.0,619.0,619.0,603.0,589.0,585.0,587.0,592.0,588.0,578.0,567.0,573.0,568.0,565.0,570.0],\"open\":[568.0,572.0,567.0,573.0,559.0,553.0,543.0,547.0,536.0,524.0,537.0,550.0,542.0,534.0,548.0,546.0,557.0,566.0,559.0,552.0,548.0,544.0,569.0,587.0,589.0,575.0,585.0,580.0,580.0,578.0,570.0,567.0,567.0,562.0,588.0,573.0,567.0,557.0,565.0,566.0,565.0,567.0,567.0,553.0,547.0,551.0,553.0,562.0,566.0,572.0,567.0,569.0,570.0,562.0,564.0,570.0,572.0,570.0,573.0,580.0,569.0,555.0,557.0,541.0,533.0,529.0,533.0,526.0,522.0,529.0,541.0,528.0,530.0,510.0,517.0,516.0,522.0,526.0,533.0,530.0,544.0,540.0,542.0,550.0,560.0,561.0,562.0,552.0,536.0,584.0,590.0,575.0,579.0,581.0,589.0,594.0,599.0,598.0,586.0,583.0,578.0,584.0,591.0,590.0,585.0,594.0,630.0,659.0,662.0,670.0,678.0,678.0,696.0,678.0,685.0,679.0,671.0,675.0,664.0,669.0,669.0,676.0,670.0,651.0,668.0,658.0,655.0,639.0,639.0,635.0,634.0,648.0,640.0,637.0,637.0,657.0,652.0,650.0,649.0,641.0,635.0,645.0,645.0,646.0,657.0,652.0,671.0,632.0,617.0,624.0,629.0,623.0,627.0,641.0,642.0,630.0,632.0,619.0,611.0,618.0,610.0,607.0,605.0,615.0,622.0,622.0,613.0,609.0,596.0,612.0,618.0,614.0,619.0,623.0,619.0,620.0,617.0,619.0,624.0,619.0,613.0,616.0,616.0,622.0,628.0,629.0,622.0,622.0,629.0,655.0,651.0,651.0,654.0,646.0,655.0,669.0,662.0,663.0,667.0,682.0,680.0,686.0,685.0,685.0,685.0,685.0,697.0,718.0,678.0,644.0,646.0,640.0,629.0,621.0,606.0,588.0,582.0,597.0,583.0,586.0,593.0,581.0,586.0,584.0,587.0,605.0,616.0,607.0,597.0,590.0,589.0,588.0,593.0,599.0,595.0,602.0,612.0,625.0,620.0,620.0,618.0,610.0,615.0,614.0,612.0,607.0,591.0,595.0,593.0,593.0,598.0,605.0,604.0,596.0,594.0,593.0,591.0,587.0,589.0,592.0,596.0,596.0,594.0,594.0,587.0,582.0,584.0,581.0,578.0,550.0,564.0,540.0,524.0,535.0,520.0,518.0,515.0,523.0,541.0,538.0,541.0,544.0,552.0,558.0,555.0,550.0,533.0,530.0,537.0,534.0,534.0,547.0,548.0,542.0,545.0,540.0,536.0,535.0,532.0,537.0,526.0,529.0,529.0,538.0,544.0,549.0,550.0,550.0,560.0,567.0,564.0,567.0,571.0,572.0,572.0,576.0,572.0,573.0,574.0,576.0,583.0,589.0,585.0,584.0,588.0,590.0,594.0,596.0,597.0,597.0,599.0,599.0,604.0,606.0,572.0,566.0,566.0,571.0,572.0,572.0,571.0,559.0,546.0,547.0,536.0,528.0,535.0,530.0,537.0,541.0,530.0,537.0,540.0,538.0,543.0,542.0,541.0,549.0,547.0,542.0,533.0,537.0,534.0,540.0,540.0,548.0,544.0,545.0,547.0,538.0,535.0,541.0,540.0,537.0,537.0,530.0,518.0,522.0,529.0,544.0,538.0,533.0,529.0,534.0,536.0,541.0,545.0,545.0,547.0,547.0,540.0,546.0,573.0,577.0,575.0,580.0,584.0,580.0,578.0,583.0,587.0,590.0,598.0,605.0,603.0,604.0,604.0,602.0,604.0,605.0,608.0,608.0,611.0,618.0,619.0,630.0,630.0,635.0,629.0,625.0,641.0,643.0,638.0,645.0,642.0,645.0,684.0,668.0,699.0,735.0,743.0,727.0,719.0,712.0,714.0,705.0,711.0,710.0,706.0,709.0,721.0,739.0,737.0,730.0,742.0,732.0,730.0,727.0,713.0,715.0,718.0,719.0,716.0,719.0,710.0,678.0,705.0,680.0,709.0,705.0,706.0,693.0,693.0,697.0,708.0,705.0,706.0,702.0,722.0,715.0,708.0,708.0,692.0,688.0,690.0,678.0,686.0,688.0,677.0,676.0,682.0,693.0,671.0,669.0,660.0,642.0,631.0,647.0,605.0,595.0,611.0,616.0,598.0,625.0,628.0,643.0,648.0,651.0,644.0,660.0,646.0,636.0,664.0,668.0,669.0,671.0,667.0,667.0,666.0,667.0,678.0,670.0,663.0,681.0,722.0,728.0,729.0,730.0,730.0,712.0,721.0,730.0,735.0,732.0,718.0,712.0,717.0,718.0,717.0,725.0,739.0,771.0,775.0,775.0,780.0,784.0,780.0,800.0,800.0,790.0,809.0,812.0,808.0,791.0,804.0,800.0,802.0,813.0,836.0,852.0,850.0,840.0,820.0,804.0,790.0,775.0,780.0,772.0,773.0,772.0,771.0,781.0,777.0,759.0,744.0,759.0,766.0,777.0,773.0,778.0,780.0,765.0,739.0,719.0,717.0,703.0,672.0,677.0,684.0,673.0,689.0,673.0,680.0,691.0,691.0,664.0,648.0,654.0,656.0,653.0,635.0,640.0,649.0,656.0,664.0,654.0,652.0,660.0,665.0,654.0,664.0,674.0,697.0,693.0,696.0,693.0,674.0,665.0,659.0,681.0,676.0,677.0,710.0,705.0,694.0,688.0,683.0,702.0,717.0,706.0,710.0,696.0,685.0,701.0,696.0,702.0,694.0,689.0,696.0,710.0,700.0,680.0,675.0,660.0,604.0,639.0,615.0,614.0,607.0,598.0,583.0,586.0,598.0,600.0,599.0,603.0,611.0,593.0,604.0,590.0,585.0,602.0,612.0,601.0,601.0,599.0,611.0,604.0,613.0,629.0,639.0,634.0,640.0,639.0,629.0,630.0,629.0,626.0,636.0,626.0,619.0,610.0,610.0,593.0,581.0,590.0,592.0,598.0,608.0,621.0,622.0,624.0,602.0,605.0,605.0,608.0,608.0,600.0,612.0,606.0,610.0,622.0,616.0,625.0,649.0,642.0,651.0,650.0,638.0,637.0,639.0,650.0,666.0,659.0,639.0,619.0,612.0,622.0,636.0,648.0,655.0,656.0,656.0,658.0,639.0,643.0,632.0,625.0,627.0,644.0,658.0,640.0,672.0,672.0,661.0,645.0,646.0,646.0,649.0,654.0,649.0,656.0,658.0,639.0,634.0,624.0,628.0,627.0,627.0,624.0,621.0,618.0,618.0,615.0,616.0,614.0,608.0,591.0,591.0,598.0,602.0,597.0,591.0,591.0,590.0,624.0,613.0,614.0,625.0,622.0,622.0,610.0,615.0,615.0,617.0,608.0,571.0,562.0,548.0,514.0,506.0,543.0,510.0,518.0,502.0,471.0,451.0,475.0,455.0,407.0,421.0,404.0,447.0,483.0,457.0,459.0,499.0,486.0,510.0,497.0,507.0,454.0,430.0,410.0,426.0,463.0,464.0,472.0,480.0,475.0,469.0,469.0,454.0,471.0,464.0,467.0,459.0,458.0,469.0,468.0,473.0,479.0,480.0,455.0,466.0,475.0,475.0,470.0,471.0,461.0,450.0,469.0,464.0,487.0,474.0,480.0,491.0,502.0,510.0,510.0,501.0,504.0,511.0,508.0,503.0,517.0,524.0,521.0,515.0,484.0,491.0,494.0,496.0,484.0,493.0,489.0,488.0,485.0,475.0,471.0,468.0,464.0,471.0,461.0,468.0,463.0,470.0,467.0,466.0,463.0,457.0,466.0,469.0,474.0,478.0,474.0,470.0,475.0,462.0,467.0,459.0,458.0,451.0,445.0,463.0,463.0,465.0,462.0,465.0,481.0,499.0,491.0,481.0,484.0,478.0,485.0,483.0,483.0,484.0,486.0,481.0,474.0,475.0,471.0,468.0,469.0,458.0,455.0,454.0,455.0,458.0,464.0,478.0,474.0,465.0,463.0,460.0,455.0,451.0,447.0,451.0,457.0,455.0,null,449.0,445.0,450.0,442.0,447.0,441.0,437.0,428.0,434.0,433.0,425.0,420.0,419.0,412.0,417.0,421.0,423.0,418.0,419.0,410.0,411.0,407.0,420.0,416.0,413.0,427.0,433.0,447.0,439.0,433.0,432.0,438.0,424.0,419.0,420.0,432.0,428.0,420.0,419.0,420.0,409.0,410.0,415.0,420.0,428.0,423.0,420.0,425.0,424.0,425.0,427.0,431.0,432.0,426.0,430.0,422.0,419.0,421.0,422.0,422.0,420.0,430.0,428.0,419.0,420.0,427.0,428.0,436.0,441.0,445.0,445.0,438.0,435.0,432.0,429.0,432.0,440.0,435.0,445.0,436.0,445.0,439.0,442.0,442.0,453.0,454.0,498.0,521.0,507.0,519.0,511.0,507.0,504.0,506.0,497.0,500.0,507.0,520.0,515.0,511.0,521.0,523.0,537.0,538.0,548.0,562.0,565.0,556.0,553.0,560.0,560.0,556.0,560.0,564.0,565.0,566.0,556.0,542.0,564.0,566.0,542.0,539.0,532.0,528.0,525.0,531.0,525.0,533.0,529.0,531.0,532.0,519.0,514.0,522.0,522.0,519.0,502.0,502.0,497.0,504.0,501.0,505.0,507.0,516.0,532.0,538.0,538.0,525.0,517.0,540.0,522.0,533.0,529.0,518.0,520.0,518.0,520.0,509.0,514.0,509.0,508.0,511.0,508.0,522.0,534.0,547.0,553.0,564.0,550.0,548.0,547.0,540.0,547.0,549.0,537.0,525.0,530.0,537.0,530.0,530.0,537.0,535.0,531.0,530.0,529.0,534.0,542.0,530.0,523.0,515.0,537.0,539.0,539.0,547.0,548.0,554.0,542.0,551.0,564.0,565.0,576.0,578.0,575.0,569.0,577.0,574.0,606.0,599.0,597.0,589.0,592.0,580.0,580.0,579.0,584.0,597.0,575.0,586.0,598.0,600.0,597.0,601.0,600.0,613.0,596.0,602.0,615.0,630.0,629.0,622.0,624.0,627.0,633.0,644.0,643.0,640.0,641.0,635.0,652.0,653.0,660.0,664.0,648.0,655.0,642.0,634.0,625.0,614.0,633.0,634.0,626.0,628.0,628.0,626.0,677.0,661.0,657.0,661.0,655.0,640.0,648.0,650.0,657.0,645.0,645.0,666.0,651.0,655.0,637.0,661.0,628.0,624.0,620.0,623.0,623.0,625.0,621.0,600.0,589.0,587.0,598.0,595.0,591.0,579.0,580.0,568.0,566.0,579.0],\"x\":[\"2017-01-04\",\"2017-01-05\",\"2017-01-06\",\"2017-01-10\",\"2017-01-11\",\"2017-01-12\",\"2017-01-13\",\"2017-01-16\",\"2017-01-17\",\"2017-01-18\",\"2017-01-19\",\"2017-01-20\",\"2017-01-23\",\"2017-01-24\",\"2017-01-25\",\"2017-01-26\",\"2017-01-27\",\"2017-01-30\",\"2017-01-31\",\"2017-02-01\",\"2017-02-02\",\"2017-02-03\",\"2017-02-06\",\"2017-02-07\",\"2017-02-08\",\"2017-02-09\",\"2017-02-10\",\"2017-02-13\",\"2017-02-14\",\"2017-02-15\",\"2017-02-16\",\"2017-02-17\",\"2017-02-20\",\"2017-02-21\",\"2017-02-22\",\"2017-02-23\",\"2017-02-24\",\"2017-02-27\",\"2017-02-28\",\"2017-03-01\",\"2017-03-02\",\"2017-03-03\",\"2017-03-06\",\"2017-03-07\",\"2017-03-08\",\"2017-03-09\",\"2017-03-10\",\"2017-03-13\",\"2017-03-14\",\"2017-03-15\",\"2017-03-16\",\"2017-03-17\",\"2017-03-21\",\"2017-03-22\",\"2017-03-23\",\"2017-03-24\",\"2017-03-27\",\"2017-03-28\",\"2017-03-29\",\"2017-03-30\",\"2017-03-31\",\"2017-04-03\",\"2017-04-04\",\"2017-04-05\",\"2017-04-06\",\"2017-04-07\",\"2017-04-10\",\"2017-04-11\",\"2017-04-12\",\"2017-04-13\",\"2017-04-14\",\"2017-04-17\",\"2017-04-18\",\"2017-04-19\",\"2017-04-20\",\"2017-04-21\",\"2017-04-24\",\"2017-04-25\",\"2017-04-26\",\"2017-04-27\",\"2017-04-28\",\"2017-05-01\",\"2017-05-02\",\"2017-05-08\",\"2017-05-09\",\"2017-05-10\",\"2017-05-11\",\"2017-05-12\",\"2017-05-15\",\"2017-05-16\",\"2017-05-17\",\"2017-05-18\",\"2017-05-19\",\"2017-05-22\",\"2017-05-23\",\"2017-05-24\",\"2017-05-25\",\"2017-05-26\",\"2017-05-29\",\"2017-05-30\",\"2017-05-31\",\"2017-06-01\",\"2017-06-02\",\"2017-06-05\",\"2017-06-06\",\"2017-06-07\",\"2017-06-08\",\"2017-06-09\",\"2017-06-12\",\"2017-06-13\",\"2017-06-14\",\"2017-06-15\",\"2017-06-16\",\"2017-06-19\",\"2017-06-20\",\"2017-06-21\",\"2017-06-22\",\"2017-06-23\",\"2017-06-26\",\"2017-06-27\",\"2017-06-28\",\"2017-06-29\",\"2017-06-30\",\"2017-07-03\",\"2017-07-04\",\"2017-07-05\",\"2017-07-06\",\"2017-07-07\",\"2017-07-10\",\"2017-07-11\",\"2017-07-12\",\"2017-07-13\",\"2017-07-14\",\"2017-07-18\",\"2017-07-19\",\"2017-07-20\",\"2017-07-21\",\"2017-07-24\",\"2017-07-25\",\"2017-07-26\",\"2017-07-27\",\"2017-07-28\",\"2017-07-31\",\"2017-08-01\",\"2017-08-02\",\"2017-08-03\",\"2017-08-04\",\"2017-08-07\",\"2017-08-08\",\"2017-08-09\",\"2017-08-10\",\"2017-08-14\",\"2017-08-15\",\"2017-08-16\",\"2017-08-17\",\"2017-08-18\",\"2017-08-21\",\"2017-08-22\",\"2017-08-23\",\"2017-08-24\",\"2017-08-25\",\"2017-08-28\",\"2017-08-29\",\"2017-08-30\",\"2017-08-31\",\"2017-09-01\",\"2017-09-04\",\"2017-09-05\",\"2017-09-06\",\"2017-09-07\",\"2017-09-08\",\"2017-09-11\",\"2017-09-12\",\"2017-09-13\",\"2017-09-14\",\"2017-09-15\",\"2017-09-19\",\"2017-09-20\",\"2017-09-21\",\"2017-09-22\",\"2017-09-25\",\"2017-09-26\",\"2017-09-27\",\"2017-09-28\",\"2017-09-29\",\"2017-10-02\",\"2017-10-03\",\"2017-10-04\",\"2017-10-05\",\"2017-10-06\",\"2017-10-10\",\"2017-10-11\",\"2017-10-12\",\"2017-10-13\",\"2017-10-16\",\"2017-10-17\",\"2017-10-18\",\"2017-10-19\",\"2017-10-20\",\"2017-10-23\",\"2017-10-24\",\"2017-10-25\",\"2017-10-26\",\"2017-10-27\",\"2017-10-30\",\"2017-10-31\",\"2017-11-01\",\"2017-11-02\",\"2017-11-06\",\"2017-11-07\",\"2017-11-08\",\"2017-11-09\",\"2017-11-10\",\"2017-11-13\",\"2017-11-14\",\"2017-11-15\",\"2017-11-16\",\"2017-11-17\",\"2017-11-20\",\"2017-11-21\",\"2017-11-22\",\"2017-11-24\",\"2017-11-27\",\"2017-11-28\",\"2017-11-29\",\"2017-11-30\",\"2017-12-01\",\"2017-12-04\",\"2017-12-05\",\"2017-12-06\",\"2017-12-07\",\"2017-12-08\",\"2017-12-11\",\"2017-12-12\",\"2017-12-13\",\"2017-12-14\",\"2017-12-15\",\"2017-12-18\",\"2017-12-19\",\"2017-12-20\",\"2017-12-21\",\"2017-12-22\",\"2017-12-25\",\"2017-12-26\",\"2017-12-27\",\"2017-12-28\",\"2017-12-29\",\"2018-01-04\",\"2018-01-05\",\"2018-01-09\",\"2018-01-10\",\"2018-01-11\",\"2018-01-12\",\"2018-01-15\",\"2018-01-16\",\"2018-01-17\",\"2018-01-18\",\"2018-01-19\",\"2018-01-22\",\"2018-01-23\",\"2018-01-24\",\"2018-01-25\",\"2018-01-26\",\"2018-01-29\",\"2018-01-30\",\"2018-01-31\",\"2018-02-01\",\"2018-02-02\",\"2018-02-05\",\"2018-02-06\",\"2018-02-07\",\"2018-02-08\",\"2018-02-09\",\"2018-02-13\",\"2018-02-14\",\"2018-02-15\",\"2018-02-16\",\"2018-02-19\",\"2018-02-20\",\"2018-02-21\",\"2018-02-22\",\"2018-02-23\",\"2018-02-26\",\"2018-02-27\",\"2018-02-28\",\"2018-03-01\",\"2018-03-02\",\"2018-03-05\",\"2018-03-06\",\"2018-03-07\",\"2018-03-08\",\"2018-03-09\",\"2018-03-12\",\"2018-03-13\",\"2018-03-14\",\"2018-03-15\",\"2018-03-16\",\"2018-03-19\",\"2018-03-20\",\"2018-03-22\",\"2018-03-23\",\"2018-03-26\",\"2018-03-27\",\"2018-03-28\",\"2018-03-29\",\"2018-03-30\",\"2018-04-02\",\"2018-04-03\",\"2018-04-04\",\"2018-04-05\",\"2018-04-06\",\"2018-04-09\",\"2018-04-10\",\"2018-04-11\",\"2018-04-12\",\"2018-04-13\",\"2018-04-16\",\"2018-04-17\",\"2018-04-18\",\"2018-04-19\",\"2018-04-20\",\"2018-04-23\",\"2018-04-24\",\"2018-04-25\",\"2018-04-26\",\"2018-04-27\",\"2018-05-01\",\"2018-05-02\",\"2018-05-07\",\"2018-05-08\",\"2018-05-09\",\"2018-05-10\",\"2018-05-11\",\"2018-05-14\",\"2018-05-15\",\"2018-05-16\",\"2018-05-17\",\"2018-05-18\",\"2018-05-21\",\"2018-05-22\",\"2018-05-23\",\"2018-05-24\",\"2018-05-25\",\"2018-05-28\",\"2018-05-29\",\"2018-05-30\",\"2018-05-31\",\"2018-06-01\",\"2018-06-04\",\"2018-06-05\",\"2018-06-06\",\"2018-06-07\",\"2018-06-08\",\"2018-06-11\",\"2018-06-12\",\"2018-06-13\",\"2018-06-14\",\"2018-06-15\",\"2018-06-18\",\"2018-06-19\",\"2018-06-20\",\"2018-06-21\",\"2018-06-22\",\"2018-06-25\",\"2018-06-26\",\"2018-06-27\",\"2018-06-28\",\"2018-06-29\",\"2018-07-02\",\"2018-07-03\",\"2018-07-04\",\"2018-07-05\",\"2018-07-06\",\"2018-07-09\",\"2018-07-10\",\"2018-07-11\",\"2018-07-12\",\"2018-07-13\",\"2018-07-17\",\"2018-07-18\",\"2018-07-19\",\"2018-07-20\",\"2018-07-23\",\"2018-07-24\",\"2018-07-25\",\"2018-07-26\",\"2018-07-27\",\"2018-07-30\",\"2018-07-31\",\"2018-08-01\",\"2018-08-02\",\"2018-08-03\",\"2018-08-06\",\"2018-08-07\",\"2018-08-08\",\"2018-08-09\",\"2018-08-10\",\"2018-08-13\",\"2018-08-14\",\"2018-08-15\",\"2018-08-16\",\"2018-08-17\",\"2018-08-20\",\"2018-08-21\",\"2018-08-22\",\"2018-08-23\",\"2018-08-24\",\"2018-08-27\",\"2018-08-28\",\"2018-08-29\",\"2018-08-30\",\"2018-08-31\",\"2018-09-03\",\"2018-09-04\",\"2018-09-05\",\"2018-09-06\",\"2018-09-07\",\"2018-09-10\",\"2018-09-11\",\"2018-09-12\",\"2018-09-13\",\"2018-09-14\",\"2018-09-18\",\"2018-09-19\",\"2018-09-20\",\"2018-09-21\",\"2018-09-25\",\"2018-09-26\",\"2018-09-27\",\"2018-09-28\",\"2018-10-01\",\"2018-10-02\",\"2018-10-03\",\"2018-10-04\",\"2018-10-05\",\"2018-10-09\",\"2018-10-10\",\"2018-10-11\",\"2018-10-12\",\"2018-10-15\",\"2018-10-16\",\"2018-10-17\",\"2018-10-18\",\"2018-10-19\",\"2018-10-22\",\"2018-10-23\",\"2018-10-24\",\"2018-10-25\",\"2018-10-26\",\"2018-10-29\",\"2018-10-30\",\"2018-10-31\",\"2018-11-01\",\"2018-11-02\",\"2018-11-05\",\"2018-11-06\",\"2018-11-07\",\"2018-11-08\",\"2018-11-09\",\"2018-11-12\",\"2018-11-13\",\"2018-11-14\",\"2018-11-15\",\"2018-11-16\",\"2018-11-19\",\"2018-11-20\",\"2018-11-21\",\"2018-11-22\",\"2018-11-26\",\"2018-11-27\",\"2018-11-28\",\"2018-11-29\",\"2018-11-30\",\"2018-12-03\",\"2018-12-04\",\"2018-12-05\",\"2018-12-06\",\"2018-12-07\",\"2018-12-10\",\"2018-12-11\",\"2018-12-12\",\"2018-12-13\",\"2018-12-14\",\"2018-12-17\",\"2018-12-18\",\"2018-12-19\",\"2018-12-20\",\"2018-12-21\",\"2018-12-25\",\"2018-12-26\",\"2018-12-27\",\"2018-12-28\",\"2019-01-04\",\"2019-01-07\",\"2019-01-08\",\"2019-01-09\",\"2019-01-10\",\"2019-01-11\",\"2019-01-15\",\"2019-01-16\",\"2019-01-17\",\"2019-01-18\",\"2019-01-21\",\"2019-01-22\",\"2019-01-23\",\"2019-01-24\",\"2019-01-25\",\"2019-01-28\",\"2019-01-29\",\"2019-01-30\",\"2019-01-31\",\"2019-02-01\",\"2019-02-04\",\"2019-02-05\",\"2019-02-06\",\"2019-02-07\",\"2019-02-08\",\"2019-02-12\",\"2019-02-13\",\"2019-02-14\",\"2019-02-15\",\"2019-02-18\",\"2019-02-19\",\"2019-02-20\",\"2019-02-21\",\"2019-02-22\",\"2019-02-25\",\"2019-02-26\",\"2019-02-27\",\"2019-02-28\",\"2019-03-01\",\"2019-03-04\",\"2019-03-05\",\"2019-03-06\",\"2019-03-07\",\"2019-03-08\",\"2019-03-11\",\"2019-03-12\",\"2019-03-13\",\"2019-03-14\",\"2019-03-15\",\"2019-03-18\",\"2019-03-19\",\"2019-03-20\",\"2019-03-22\",\"2019-03-25\",\"2019-03-26\",\"2019-03-27\",\"2019-03-28\",\"2019-03-29\",\"2019-04-01\",\"2019-04-02\",\"2019-04-03\",\"2019-04-04\",\"2019-04-05\",\"2019-04-08\",\"2019-04-09\",\"2019-04-10\",\"2019-04-11\",\"2019-04-12\",\"2019-04-15\",\"2019-04-16\",\"2019-04-17\",\"2019-04-18\",\"2019-04-19\",\"2019-04-22\",\"2019-04-23\",\"2019-04-24\",\"2019-04-25\",\"2019-04-26\",\"2019-05-07\",\"2019-05-08\",\"2019-05-09\",\"2019-05-10\",\"2019-05-13\",\"2019-05-14\",\"2019-05-15\",\"2019-05-16\",\"2019-05-17\",\"2019-05-20\",\"2019-05-21\",\"2019-05-22\",\"2019-05-23\",\"2019-05-24\",\"2019-05-27\",\"2019-05-28\",\"2019-05-29\",\"2019-05-30\",\"2019-05-31\",\"2019-06-03\",\"2019-06-04\",\"2019-06-05\",\"2019-06-06\",\"2019-06-07\",\"2019-06-10\",\"2019-06-11\",\"2019-06-12\",\"2019-06-13\",\"2019-06-14\",\"2019-06-17\",\"2019-06-18\",\"2019-06-19\",\"2019-06-20\",\"2019-06-21\",\"2019-06-24\",\"2019-06-25\",\"2019-06-26\",\"2019-06-27\",\"2019-06-28\",\"2019-07-01\",\"2019-07-02\",\"2019-07-03\",\"2019-07-04\",\"2019-07-05\",\"2019-07-08\",\"2019-07-09\",\"2019-07-10\",\"2019-07-11\",\"2019-07-12\",\"2019-07-16\",\"2019-07-17\",\"2019-07-18\",\"2019-07-19\",\"2019-07-22\",\"2019-07-23\",\"2019-07-24\",\"2019-07-25\",\"2019-07-26\",\"2019-07-29\",\"2019-07-30\",\"2019-07-31\",\"2019-08-01\",\"2019-08-02\",\"2019-08-05\",\"2019-08-06\",\"2019-08-07\",\"2019-08-08\",\"2019-08-09\",\"2019-08-13\",\"2019-08-14\",\"2019-08-15\",\"2019-08-16\",\"2019-08-19\",\"2019-08-20\",\"2019-08-21\",\"2019-08-22\",\"2019-08-23\",\"2019-08-26\",\"2019-08-27\",\"2019-08-28\",\"2019-08-29\",\"2019-08-30\",\"2019-09-02\",\"2019-09-03\",\"2019-09-04\",\"2019-09-05\",\"2019-09-06\",\"2019-09-09\",\"2019-09-10\",\"2019-09-11\",\"2019-09-12\",\"2019-09-13\",\"2019-09-17\",\"2019-09-18\",\"2019-09-19\",\"2019-09-20\",\"2019-09-24\",\"2019-09-25\",\"2019-09-26\",\"2019-09-27\",\"2019-09-30\",\"2019-10-01\",\"2019-10-02\",\"2019-10-03\",\"2019-10-04\",\"2019-10-07\",\"2019-10-08\",\"2019-10-09\",\"2019-10-10\",\"2019-10-11\",\"2019-10-15\",\"2019-10-16\",\"2019-10-17\",\"2019-10-18\",\"2019-10-21\",\"2019-10-23\",\"2019-10-24\",\"2019-10-25\",\"2019-10-28\",\"2019-10-29\",\"2019-10-30\",\"2019-10-31\",\"2019-11-01\",\"2019-11-05\",\"2019-11-06\",\"2019-11-07\",\"2019-11-08\",\"2019-11-11\",\"2019-11-12\",\"2019-11-13\",\"2019-11-14\",\"2019-11-15\",\"2019-11-18\",\"2019-11-19\",\"2019-11-20\",\"2019-11-21\",\"2019-11-22\",\"2019-11-25\",\"2019-11-26\",\"2019-11-27\",\"2019-11-28\",\"2019-11-29\",\"2019-12-02\",\"2019-12-03\",\"2019-12-04\",\"2019-12-05\",\"2019-12-06\",\"2019-12-09\",\"2019-12-10\",\"2019-12-11\",\"2019-12-12\",\"2019-12-13\",\"2019-12-16\",\"2019-12-17\",\"2019-12-18\",\"2019-12-19\",\"2019-12-20\",\"2019-12-23\",\"2019-12-24\",\"2019-12-25\",\"2019-12-26\",\"2019-12-27\",\"2019-12-30\",\"2020-01-06\",\"2020-01-07\",\"2020-01-08\",\"2020-01-09\",\"2020-01-10\",\"2020-01-14\",\"2020-01-15\",\"2020-01-16\",\"2020-01-17\",\"2020-01-20\",\"2020-01-21\",\"2020-01-22\",\"2020-01-23\",\"2020-01-24\",\"2020-01-27\",\"2020-01-28\",\"2020-01-29\",\"2020-01-30\",\"2020-01-31\",\"2020-02-03\",\"2020-02-04\",\"2020-02-05\",\"2020-02-06\",\"2020-02-07\",\"2020-02-10\",\"2020-02-12\",\"2020-02-13\",\"2020-02-14\",\"2020-02-17\",\"2020-02-18\",\"2020-02-19\",\"2020-02-20\",\"2020-02-21\",\"2020-02-25\",\"2020-02-26\",\"2020-02-27\",\"2020-02-28\",\"2020-03-02\",\"2020-03-03\",\"2020-03-04\",\"2020-03-05\",\"2020-03-06\",\"2020-03-09\",\"2020-03-10\",\"2020-03-11\",\"2020-03-12\",\"2020-03-13\",\"2020-03-16\",\"2020-03-17\",\"2020-03-18\",\"2020-03-19\",\"2020-03-23\",\"2020-03-24\",\"2020-03-25\",\"2020-03-26\",\"2020-03-27\",\"2020-03-30\",\"2020-03-31\",\"2020-04-01\",\"2020-04-02\",\"2020-04-03\",\"2020-04-06\",\"2020-04-07\",\"2020-04-08\",\"2020-04-09\",\"2020-04-10\",\"2020-04-13\",\"2020-04-14\",\"2020-04-15\",\"2020-04-16\",\"2020-04-17\",\"2020-04-20\",\"2020-04-21\",\"2020-04-22\",\"2020-04-23\",\"2020-04-24\",\"2020-04-27\",\"2020-04-28\",\"2020-04-30\",\"2020-05-01\",\"2020-05-07\",\"2020-05-08\",\"2020-05-11\",\"2020-05-12\",\"2020-05-13\",\"2020-05-14\",\"2020-05-15\",\"2020-05-18\",\"2020-05-19\",\"2020-05-20\",\"2020-05-21\",\"2020-05-22\",\"2020-05-25\",\"2020-05-26\",\"2020-05-27\",\"2020-05-28\",\"2020-05-29\",\"2020-06-01\",\"2020-06-02\",\"2020-06-03\",\"2020-06-04\",\"2020-06-05\",\"2020-06-08\",\"2020-06-09\",\"2020-06-10\",\"2020-06-11\",\"2020-06-12\",\"2020-06-15\",\"2020-06-16\",\"2020-06-17\",\"2020-06-18\",\"2020-06-19\",\"2020-06-22\",\"2020-06-23\",\"2020-06-24\",\"2020-06-25\",\"2020-06-26\",\"2020-06-29\",\"2020-06-30\",\"2020-07-01\",\"2020-07-02\",\"2020-07-03\",\"2020-07-06\",\"2020-07-07\",\"2020-07-08\",\"2020-07-09\",\"2020-07-10\",\"2020-07-13\",\"2020-07-14\",\"2020-07-15\",\"2020-07-16\",\"2020-07-17\",\"2020-07-20\",\"2020-07-21\",\"2020-07-22\",\"2020-07-27\",\"2020-07-28\",\"2020-07-29\",\"2020-07-30\",\"2020-07-31\",\"2020-08-03\",\"2020-08-04\",\"2020-08-05\",\"2020-08-06\",\"2020-08-07\",\"2020-08-11\",\"2020-08-12\",\"2020-08-13\",\"2020-08-14\",\"2020-08-17\",\"2020-08-18\",\"2020-08-19\",\"2020-08-20\",\"2020-08-21\",\"2020-08-24\",\"2020-08-25\",\"2020-08-26\",\"2020-08-27\",\"2020-08-28\",\"2020-08-31\",\"2020-09-01\",\"2020-09-02\",\"2020-09-03\",\"2020-09-04\",\"2020-09-07\",\"2020-09-08\",\"2020-09-09\",\"2020-09-10\",\"2020-09-11\",\"2020-09-14\",\"2020-09-15\",\"2020-09-16\",\"2020-09-17\",\"2020-09-18\",\"2020-09-23\",\"2020-09-24\",\"2020-09-25\",\"2020-09-28\",\"2020-09-29\",\"2020-09-30\",\"2020-10-01\",\"2020-10-02\",\"2020-10-05\",\"2020-10-06\",\"2020-10-07\",\"2020-10-08\",\"2020-10-09\",\"2020-10-12\",\"2020-10-13\",\"2020-10-14\",\"2020-10-15\",\"2020-10-16\",\"2020-10-19\",\"2020-10-20\",\"2020-10-21\",\"2020-10-22\",\"2020-10-23\",\"2020-10-26\",\"2020-10-27\",\"2020-10-28\",\"2020-10-29\",\"2020-10-30\",\"2020-11-02\",\"2020-11-04\",\"2020-11-05\",\"2020-11-06\",\"2020-11-09\",\"2020-11-10\",\"2020-11-11\",\"2020-11-12\",\"2020-11-13\",\"2020-11-16\",\"2020-11-17\",\"2020-11-18\",\"2020-11-19\",\"2020-11-20\",\"2020-11-24\",\"2020-11-25\",\"2020-11-26\",\"2020-11-27\",\"2020-11-30\",\"2020-12-01\",\"2020-12-02\",\"2020-12-03\",\"2020-12-04\",\"2020-12-07\",\"2020-12-08\",\"2020-12-09\",\"2020-12-10\",\"2020-12-11\",\"2020-12-14\",\"2020-12-15\",\"2020-12-16\",\"2020-12-17\",\"2020-12-18\",\"2020-12-21\",\"2020-12-22\",\"2020-12-23\",\"2020-12-24\",\"2020-12-25\",\"2020-12-28\",\"2020-12-29\",\"2020-12-30\",\"2021-01-04\",\"2021-01-05\",\"2021-01-06\",\"2021-01-07\",\"2021-01-08\",\"2021-01-12\",\"2021-01-13\",\"2021-01-14\",\"2021-01-15\",\"2021-01-18\",\"2021-01-19\",\"2021-01-20\",\"2021-01-21\",\"2021-01-22\",\"2021-01-25\",\"2021-01-26\",\"2021-01-27\",\"2021-01-28\",\"2021-01-29\",\"2021-02-01\",\"2021-02-02\",\"2021-02-03\",\"2021-02-04\",\"2021-02-05\",\"2021-02-08\",\"2021-02-09\",\"2021-02-10\",\"2021-02-12\",\"2021-02-15\",\"2021-02-16\",\"2021-02-17\",\"2021-02-18\",\"2021-02-19\",\"2021-02-22\",\"2021-02-24\",\"2021-02-25\",\"2021-02-26\",\"2021-03-01\",\"2021-03-02\",\"2021-03-03\",\"2021-03-04\",\"2021-03-05\",\"2021-03-08\",\"2021-03-09\",\"2021-03-10\",\"2021-03-11\",\"2021-03-12\",\"2021-03-15\",\"2021-03-16\",\"2021-03-17\",\"2021-03-18\",\"2021-03-19\",\"2021-03-22\",\"2021-03-23\",\"2021-03-24\",\"2021-03-25\",\"2021-03-26\",\"2021-03-29\",\"2021-03-30\",\"2021-03-31\",\"2021-04-01\",\"2021-04-02\",\"2021-04-05\",\"2021-04-06\",\"2021-04-07\",\"2021-04-08\",\"2021-04-09\",\"2021-04-12\",\"2021-04-13\",\"2021-04-14\",\"2021-04-15\",\"2021-04-16\",\"2021-04-19\",\"2021-04-20\",\"2021-04-21\",\"2021-04-22\",\"2021-04-23\",\"2021-04-26\",\"2021-04-27\",\"2021-04-28\",\"2021-04-30\",\"2021-05-06\",\"2021-05-07\",\"2021-05-10\",\"2021-05-11\",\"2021-05-12\",\"2021-05-13\",\"2021-05-14\",\"2021-05-17\",\"2021-05-18\",\"2021-05-19\",\"2021-05-20\",\"2021-05-21\",\"2021-05-24\",\"2021-05-25\",\"2021-05-26\",\"2021-05-27\",\"2021-05-28\",\"2021-05-31\",\"2021-06-01\",\"2021-06-02\",\"2021-06-03\",\"2021-06-04\",\"2021-06-07\",\"2021-06-08\",\"2021-06-09\",\"2021-06-10\",\"2021-06-11\",\"2021-06-14\",\"2021-06-15\",\"2021-06-16\",\"2021-06-17\",\"2021-06-18\",\"2021-06-21\",\"2021-06-22\",\"2021-06-23\",\"2021-06-24\",\"2021-06-25\",\"2021-06-28\",\"2021-06-29\",\"2021-06-30\",\"2021-07-01\",\"2021-07-02\",\"2021-07-05\",\"2021-07-06\",\"2021-07-07\",\"2021-07-08\",\"2021-07-09\",\"2021-07-12\",\"2021-07-13\",\"2021-07-14\",\"2021-07-15\",\"2021-07-16\",\"2021-07-19\",\"2021-07-20\",\"2021-07-21\",\"2021-07-26\",\"2021-07-27\",\"2021-07-28\",\"2021-07-29\",\"2021-07-30\",\"2021-08-02\",\"2021-08-03\",\"2021-08-04\",\"2021-08-05\",\"2021-08-06\",\"2021-08-10\",\"2021-08-11\",\"2021-08-12\",\"2021-08-13\",\"2021-08-16\",\"2021-08-17\",\"2021-08-18\",\"2021-08-19\",\"2021-08-20\",\"2021-08-23\",\"2021-08-24\",\"2021-08-25\",\"2021-08-26\",\"2021-08-27\",\"2021-08-30\",\"2021-08-31\",\"2021-09-01\",\"2021-09-02\",\"2021-09-03\",\"2021-09-06\",\"2021-09-07\",\"2021-09-08\",\"2021-09-09\",\"2021-09-10\",\"2021-09-13\",\"2021-09-14\",\"2021-09-15\",\"2021-09-16\",\"2021-09-17\",\"2021-09-21\",\"2021-09-22\",\"2021-09-24\",\"2021-09-27\",\"2021-09-28\",\"2021-09-29\",\"2021-09-30\",\"2021-10-01\",\"2021-10-04\",\"2021-10-05\",\"2021-10-06\",\"2021-10-07\",\"2021-10-08\",\"2021-10-11\",\"2021-10-12\",\"2021-10-13\",\"2021-10-14\",\"2021-10-15\",\"2021-10-18\",\"2021-10-19\",\"2021-10-20\",\"2021-10-21\",\"2021-10-22\",\"2021-10-25\",\"2021-10-26\",\"2021-10-27\",\"2021-10-28\",\"2021-10-29\",\"2021-11-01\",\"2021-11-02\",\"2021-11-04\",\"2021-11-05\",\"2021-11-08\",\"2021-11-09\",\"2021-11-10\",\"2021-11-11\",\"2021-11-12\",\"2021-11-15\",\"2021-11-16\",\"2021-11-17\",\"2021-11-18\",\"2021-11-19\",\"2021-11-22\",\"2021-11-24\",\"2021-11-25\",\"2021-11-26\",\"2021-11-29\",\"2021-11-30\",\"2021-12-01\",\"2021-12-02\",\"2021-12-03\"],\"type\":\"candlestick\"},{\"close\":[3210.0,3250.0,3270.0,3235.0,3185.0,3180.0,3230.0,3240.0,3170.0,3235.0,3245.0,3190.0,3165.0,3130.0,3135.0,3165.0,3160.0,3155.0,3120.0,3125.0,3110.0,3135.0,3195.0,3380.0,3335.0,3390.0,3385.0,3350.0,3275.0,3285.0,3255.0,3290.0,3285.0,3280.0,3290.0,3360.0,3340.0,3345.0,3365.0,3400.0,3400.0,3455.0,3495.0,3495.0,3485.0,3465.0,3490.0,3495.0,3530.0,3465.0,3480.0,3480.0,3580.0,3500.0,3500.0,3505.0,3475.0,3490.0,3510.0,3435.0,3370.0,3395.0,3320.0,3350.0,3270.0,3270.0,3255.0,3265.0,3265.0,3315.0,3240.0,3280.0,2996.0,3070.0,3020.0,3045.0,3050.0,3090.0,3115.0,3160.0,3185.0,3150.0,3190.0,3270.0,3160.0,3130.0,3140.0,3120.0,3130.0,3215.0,3185.0,3135.0,3135.0,3120.0,3125.0,3165.0,3175.0,3125.0,3220.0,3185.0,3170.0,3190.0,3160.0,3185.0,3135.0,3120.0,3120.0,3075.0,3100.0,3115.0,3145.0,3155.0,3120.0,3100.0,3090.0,3070.0,3035.0,3010.0,3020.0,3005.0,2998.0,3015.0,2968.0,2948.0,2951.0,2933.0,2981.0,2925.0,2915.0,2914.0,2921.0,2934.0,2929.0,2919.0,2921.0,3160.0,3120.0,3095.0,3050.0,3050.0,3075.0,3060.0,3010.0,3060.0,3035.0,3040.0,3040.0,3030.0,3100.0,3105.0,3145.0,3155.0,3150.0,3180.0,3160.0,3140.0,3145.0,3090.0,3100.0,3090.0,3055.0,3090.0,3065.0,3125.0,3190.0,3180.0,3125.0,3060.0,3145.0,3145.0,3160.0,3310.0,3275.0,3295.0,3240.0,3265.0,3315.0,3285.0,3270.0,3270.0,3280.0,3295.0,3285.0,3295.0,3310.0,3335.0,3430.0,3475.0,3535.0,3495.0,3500.0,3455.0,3460.0,3495.0,3525.0,3490.0,3410.0,3365.0,3395.0,3410.0,3425.0,3395.0,3385.0,3425.0,3415.0,3495.0,3520.0,3490.0,3475.0,3220.0,3200.0,3190.0,3170.0,3140.0,3100.0,3085.0,3130.0,3135.0,3130.0,3140.0,3105.0,3095.0,3095.0,3115.0,3160.0,3230.0,3195.0,3225.0,3260.0,3250.0,3345.0,3420.0,3425.0,3380.0,3350.0,3360.0,3350.0,3445.0,3435.0,3415.0,3400.0,3390.0,3405.0,3410.0,3415.0,3370.0,3400.0,3415.0,3415.0,3390.0,3390.0,3325.0,3270.0,3260.0,3260.0,3235.0,3180.0,3190.0,3255.0,3240.0,3245.0,3280.0,3285.0,3255.0,3240.0,3215.0,3245.0,3210.0,3135.0,3255.0,3325.0,3360.0,3275.0,3210.0,3175.0,3165.0,3250.0,3330.0,3345.0,3310.0,3225.0,3215.0,3220.0,3195.0,3160.0,3180.0,3175.0,3200.0,3285.0,3300.0,3275.0,3260.0,3250.0,3270.0,3315.0,3270.0,3275.0,3275.0,3285.0,3290.0,3265.0,3275.0,3355.0,3320.0,3355.0,3400.0,3390.0,3465.0,3565.0,3550.0,3570.0,3610.0,3595.0,3560.0,3560.0,3545.0,3630.0,3630.0,3685.0,3715.0,3780.0,3695.0,3620.0,3635.0,3670.0,3685.0,3665.0,3690.0,3690.0,3900.0,4005.0,4010.0,4100.0,4095.0,4080.0,4080.0,4175.0,4175.0,4125.0,4065.0,4060.0,4110.0,4090.0,4090.0,4115.0,4115.0,4155.0,4140.0,4160.0,4125.0,4100.0,3970.0,3995.0,4085.0,4195.0,4270.0,4305.0,4355.0,4315.0,4230.0,4225.0,4240.0,4385.0,4265.0,4390.0,4490.0,4510.0,4455.0,4290.0,4250.0,4230.0,4170.0,4210.0,4155.0,4045.0,3980.0,4005.0,4035.0,4090.0,4120.0,4035.0,4050.0,4005.0,4055.0,4085.0,4165.0,4120.0,4120.0,4155.0,4125.0,4060.0,3995.0,4025.0,3820.0,3785.0,3835.0,3815.0,3760.0,3835.0,3875.0,3875.0,3880.0,3850.0,3860.0,3880.0,3835.0,3875.0,3855.0,3755.0,3755.0,3890.0,3855.0,3930.0,3900.0,3800.0,3775.0,3815.0,3805.0,3825.0,3855.0,3915.0,3915.0,4040.0,4065.0,4095.0,4145.0,4085.0,4175.0,4125.0,4190.0,4180.0,4195.0,4170.0,4180.0,4175.0,4105.0,4140.0,4100.0,4085.0,4080.0,4035.0,4090.0,4015.0,3970.0,4030.0,3970.0,4030.0,3900.0,3910.0,4025.0,4140.0,4090.0,4060.0,3995.0,4070.0,4045.0,4070.0,4200.0,4350.0,4395.0,4310.0,4300.0,4285.0,4280.0,4290.0,4265.0,4205.0,4340.0,4280.0,4185.0,4180.0,4055.0,4105.0,4095.0,4005.0,4025.0,3970.0,4020.0,3905.0,3865.0,3875.0,3880.0,3870.0,3860.0,3775.0,3745.0,3775.0,3795.0,3510.0,3585.0,3735.0,3695.0,3670.0,3725.0,3730.0,3805.0,3790.0,3790.0,3725.0,3775.0,3735.0,3780.0,3790.0,3805.0,3775.0,3760.0,3700.0,3650.0,3695.0,3650.0,3700.0,3745.0,3740.0,3750.0,3670.0,3615.0,3555.0,3555.0,3615.0,3625.0,3640.0,3705.0,3725.0,3700.0,3710.0,3705.0,3705.0,3695.0,3690.0,3715.0,3745.0,3765.0,3745.0,3740.0,3820.0,3760.0,3770.0,3810.0,3845.0,3930.0,3990.0,4050.0,4040.0,4050.0,4050.0,4005.0,4075.0,4005.0,3970.0,3960.0,3985.0,3900.0,3820.0,3815.0,3795.0,3805.0,3735.0,3700.0,3685.0,3635.0,3665.0,3675.0,3615.0,3565.0,3580.0,3580.0,3585.0,3500.0,3550.0,3520.0,3560.0,3525.0,3385.0,3410.0,3410.0,3220.0,3305.0,3255.0,3220.0,3335.0,3330.0,3405.0,3535.0,3605.0,3530.0,3435.0,3420.0,3305.0,3305.0,3240.0,3210.0,3285.0,3270.0,3215.0,3255.0,3265.0,3285.0,3245.0,3175.0,3165.0,3100.0,3090.0,3125.0,3160.0,3160.0,3160.0,3135.0,3125.0,3165.0,3200.0,3190.0,3245.0,3285.0,3270.0,3205.0,3255.0,3285.0,3290.0,3290.0,3245.0,3240.0,3175.0,3260.0,3175.0,3205.0,3120.0,3135.0,3130.0,3140.0,3215.0,3195.0,3180.0,3100.0,3015.0,2790.0,2721.0,2748.0,2724.0,2667.0,2671.0,2655.0,2654.0,2667.0,2647.0,2647.0,2682.0,2706.0,2732.0,2714.0,2680.0,2707.0,2743.0,2698.0,2730.0,2675.0,2720.0,2701.0,2703.0,2697.0,2748.0,2738.0,2818.0,2815.0,2773.0,2787.0,2767.0,2752.0,2774.0,2802.0,2771.0,2724.0,2791.0,2816.0,2724.0,2772.0,2774.0,2778.0,2765.0,2740.0,2755.0,2788.0,2803.0,2763.0,2770.0,2808.0,2836.0,2857.0,2854.0,2812.0,2775.0,2799.0,2813.0,2800.0,2823.0,2947.0,2945.0,2939.0,2910.0,2924.0,2907.0,2918.0,2956.0,2915.0,2924.0,2924.0,2897.0,2863.0,2897.0,2891.0,2885.0,2897.0,2888.0,2938.0,2823.0,2860.0,2866.0,2841.0,2829.0,2812.0,2826.0,2803.0,2836.0,2825.0,2829.0,2787.0,2766.0,2800.0,2817.0,2817.0,2780.0,2801.0,2820.0,2795.0,2690.0,2750.0,2711.0,2749.0,2755.0,2759.0,2754.0,2762.0,2747.0,2758.0,2737.0,2748.0,2714.0,2682.0,2647.0,2617.0,2641.0,2590.0,2629.0,2648.0,2532.0,2596.0,2619.0,2596.0,2608.0,2579.0,2570.0,2542.0,2571.0,2604.0,2585.0,2565.0,2544.0,2438.0,2428.0,2380.0,2266.0,2305.0,2259.0,2256.0,2240.0,2173.0,2066.0,2093.0,2124.0,2040.0,1889.0,1897.0,2008.0,2003.0,1967.0,2137.0,2214.0,2263.0,2342.0,2398.0,2329.0,2258.0,2251.0,2206.0,2160.0,2258.0,2256.0,2287.0,2257.0,2272.0,2269.0,2290.0,2258.0,2277.0,2252.0,2260.0,2262.0,2231.0,2287.0,2260.0,2278.0,2277.0,2264.0,2215.0,2212.0,2250.0,2317.0,2319.0,2307.0,2305.0,2171.0,2288.0,2246.0,2246.0,2224.0,2189.0,2213.0,2279.0,2336.0,2349.0,2331.0,2301.0,2327.0,2333.0,2349.0,2368.0,2401.0,2383.0,2343.0,2264.0,2201.0,2129.0,2215.0,2207.0,2198.0,2250.0,2216.0,2239.0,2213.0,2152.0,2179.0,2161.0,2207.0,2162.0,2168.0,2132.0,2196.0,2131.0,2138.0,2102.0,2064.0,2129.0,2130.0,2155.0,2173.0,2158.0,2159.0,2167.0,2138.0,2142.0,2132.0,2116.0,2096.0,2021.0,2077.0,2323.0,2304.0,2278.0,2265.0,2314.0,2339.0,2324.0,2321.0,2308.0,2286.0,2279.0,2276.0,2255.0,2228.0,2271.0,2276.0,2332.0,2337.0,2398.0,2367.0,2385.0,2353.0,2348.0,2336.0,2350.0,2362.0,2417.0,2450.0,2485.0,2462.0,2466.0,2419.0,2451.0,2467.0,2424.0,2425.0,2480.0,2472.0,2412.0,null,2347.0,2412.0,2398.0,2345.0,2345.0,2336.0,2304.0,2315.0,2307.0,2272.0,2240.0,2248.0,2193.0,2254.0,2226.0,2237.0,2238.0,2237.0,2224.0,2206.0,2182.0,2269.0,2240.0,2211.0,2219.0,2252.0,2317.0,2329.0,2290.0,2246.0,2285.0,2311.0,2299.0,2280.0,2297.0,2275.0,2232.0,2221.0,2223.0,2124.0,2130.0,2167.0,2191.0,2212.0,2184.0,2152.0,2184.0,2183.0,2190.0,2187.0,2161.0,2168.0,2162.0,2215.0,2209.0,2175.0,2165.0,2178.0,2189.0,2206.0,2236.0,2220.0,2202.0,2189.0,2222.0,2219.0,2234.0,2261.0,2283.0,2288.0,2293.0,2260.0,2278.0,2308.0,2334.0,2315.0,2350.0,2355.0,2371.0,2384.0,2354.0,2337.0,2348.0,2395.0,2395.0,2446.0,2567.0,2502.0,2521.0,2464.0,2488.0,2477.0,2472.0,2444.0,2430.0,2480.0,2496.0,2529.0,2464.0,2542.0,2560.0,2647.0,2650.0,2717.0,2718.0,2790.0,2713.0,2713.0,2703.0,2718.0,2713.0,2732.0,2740.0,2725.0,2748.0,2730.0,2641.0,2701.0,2727.0,2706.0,2676.0,2625.0,2598.0,2578.0,2610.0,2598.0,2640.0,2578.0,2601.0,2610.0,2601.0,2563.0,2569.0,2583.0,2546.0,2486.0,2457.0,2457.0,2450.0,2451.0,2459.0,2463.0,2498.0,2606.0,2641.0,2662.0,2674.0,2604.0,2559.0,2568.0,2561.0,2574.0,2509.0,2477.0,2459.0,2473.0,2455.0,2430.0,2383.0,2415.0,2395.0,2435.0,2435.0,2465.0,2455.0,2448.0,2494.0,2513.0,2477.0,2431.0,2425.0,2457.0,2431.0,2419.0,2391.0,2328.0,2427.0,2403.0,2395.0,2415.0,2432.0,2404.0,2361.0,2366.0,2395.0,2402.0,2405.0,2365.0,2349.0,2352.0,2379.0,2406.0,2412.0,2407.0,2430.0,2390.0,2384.0,2403.0,2412.0,2447.0,2463.0,2432.0,2426.0,2466.0,2454.0,2430.0,2430.0,2434.0,2422.0,2458.0,2392.0,2390.0,2351.0,2353.0,2379.0,2386.0,2364.0,2436.0,2464.0,2493.0,2494.0,2502.0,2551.0,2536.0,2554.0,2510.0,2516.0,2485.0,2624.0,2591.0,2635.0,2646.0,2705.0,2714.0,2664.0,2700.0,2693.0,2654.0,2620.0,2684.0,2707.0,2705.0,2686.0,2656.0,2609.0,2644.0,2603.0,2644.0,2625.0,2606.0,2619.0,2610.0,2615.0,2627.0,2683.0,2672.0,2653.0,2622.0,2604.0,2593.0,2561.0,2590.0,2581.0,2583.0,2568.0,2648.0,2614.0,2608.0,2603.0,2588.0,2465.0,2452.0,2422.0,2440.0,2444.0,2439.0,2378.0,2364.0,2364.0,2376.0,2373.0,2355.0,2330.0,2269.0,2277.0,2299.0,2303.0,2358.0],\"high\":[3210.0,3265.0,3290.0,3260.0,3245.0,3200.0,3240.0,3270.0,3235.0,3240.0,3260.0,3315.0,3185.0,3160.0,3170.0,3170.0,3180.0,3175.0,3150.0,3145.0,3150.0,3175.0,3195.0,3415.0,3400.0,3390.0,3400.0,3400.0,3365.0,3335.0,3290.0,3295.0,3285.0,3285.0,3325.0,3365.0,3385.0,3360.0,3380.0,3405.0,3435.0,3480.0,3500.0,3520.0,3540.0,3500.0,3495.0,3515.0,3530.0,3505.0,3485.0,3495.0,3580.0,3565.0,3505.0,3520.0,3500.0,3495.0,3525.0,3520.0,3450.0,3410.0,3395.0,3395.0,3355.0,3290.0,3280.0,3295.0,3265.0,3335.0,3355.0,3285.0,3080.0,3090.0,3065.0,3045.0,3065.0,3090.0,3155.0,3175.0,3225.0,3190.0,3205.0,3280.0,3235.0,3170.0,3160.0,3150.0,3135.0,3225.0,3205.0,3155.0,3140.0,3130.0,3150.0,3165.0,3195.0,3180.0,3225.0,3225.0,3210.0,3190.0,3185.0,3195.0,3180.0,3140.0,3155.0,3120.0,3110.0,3135.0,3160.0,3185.0,3175.0,3130.0,3110.0,3095.0,3070.0,3040.0,3025.0,3020.0,3015.0,3015.0,2999.0,2983.0,2960.0,2950.0,2981.0,3005.0,2934.0,2924.0,2933.0,2989.0,2952.0,2959.0,2939.0,3175.0,3135.0,3125.0,3090.0,3055.0,3105.0,3085.0,3050.0,3070.0,3070.0,3050.0,3045.0,3060.0,3170.0,3120.0,3145.0,3175.0,3175.0,3185.0,3195.0,3145.0,3150.0,3145.0,3115.0,3110.0,3090.0,3090.0,3090.0,3135.0,3190.0,3185.0,3175.0,3130.0,3165.0,3175.0,3180.0,3345.0,3325.0,3305.0,3250.0,3295.0,3320.0,3310.0,3295.0,3280.0,3280.0,3295.0,3345.0,3305.0,3325.0,3355.0,3445.0,3500.0,3560.0,3530.0,3540.0,3510.0,3490.0,3510.0,3535.0,3520.0,3455.0,3435.0,3395.0,3430.0,3450.0,3425.0,3415.0,3455.0,3450.0,3495.0,3560.0,3540.0,3545.0,3245.0,3215.0,3230.0,3190.0,3180.0,3155.0,3130.0,3150.0,3170.0,3165.0,3170.0,3165.0,3115.0,3125.0,3135.0,3180.0,3235.0,3245.0,3270.0,3265.0,3320.0,3345.0,3435.0,3440.0,3465.0,3410.0,3390.0,3385.0,3460.0,3450.0,3445.0,3420.0,3420.0,3415.0,3440.0,3425.0,3420.0,3405.0,3435.0,3440.0,3410.0,3430.0,3375.0,3310.0,3280.0,3265.0,3260.0,3245.0,3220.0,3285.0,3255.0,3255.0,3290.0,3305.0,3300.0,3265.0,3270.0,3255.0,3240.0,3220.0,3285.0,3385.0,3380.0,3295.0,3300.0,3230.0,3225.0,3275.0,3340.0,3355.0,3330.0,3255.0,3240.0,3260.0,3245.0,3210.0,3215.0,3200.0,3210.0,3305.0,3330.0,3295.0,3335.0,3280.0,3285.0,3325.0,3315.0,3300.0,3295.0,3300.0,3300.0,3290.0,3280.0,3360.0,3325.0,3360.0,3420.0,3415.0,3475.0,3585.0,3600.0,3600.0,3620.0,3685.0,3585.0,3565.0,3565.0,3635.0,3645.0,3695.0,3720.0,3800.0,3785.0,3680.0,3665.0,3675.0,3695.0,3675.0,3715.0,3715.0,4010.0,4045.0,4035.0,4105.0,4140.0,4145.0,4110.0,4200.0,4230.0,4170.0,4085.0,4085.0,4140.0,4105.0,4125.0,4115.0,4130.0,4185.0,4245.0,4215.0,4190.0,4145.0,4060.0,4025.0,4095.0,4205.0,4325.0,4365.0,4415.0,4395.0,4285.0,4245.0,4300.0,4400.0,4375.0,4425.0,4500.0,4580.0,4490.0,4435.0,4295.0,4240.0,4225.0,4270.0,4240.0,4190.0,4045.0,4085.0,4070.0,4125.0,4180.0,4100.0,4135.0,4075.0,4080.0,4105.0,4175.0,4185.0,4145.0,4170.0,4200.0,4135.0,4110.0,4065.0,3900.0,3895.0,3850.0,3880.0,3810.0,3845.0,3885.0,3990.0,3900.0,3915.0,3870.0,3895.0,3880.0,3880.0,3895.0,3835.0,3780.0,3945.0,3885.0,3945.0,3980.0,3880.0,3815.0,3825.0,3845.0,3860.0,3860.0,3950.0,3975.0,4045.0,4080.0,4125.0,4205.0,4140.0,4185.0,4170.0,4220.0,4210.0,4220.0,4225.0,4195.0,4195.0,4170.0,4155.0,4130.0,4110.0,4125.0,4065.0,4090.0,4075.0,4050.0,4065.0,4065.0,4050.0,3975.0,3925.0,4065.0,4145.0,4165.0,4095.0,4075.0,4085.0,4135.0,4125.0,4210.0,4360.0,4405.0,4325.0,4330.0,4325.0,4295.0,4345.0,4305.0,4235.0,4350.0,4360.0,4305.0,4225.0,4180.0,4130.0,4145.0,4075.0,4045.0,4030.0,4025.0,3980.0,3930.0,3940.0,3935.0,3890.0,3885.0,3810.0,3795.0,3815.0,3835.0,3645.0,3645.0,3750.0,3750.0,3695.0,3740.0,3740.0,3815.0,3830.0,3830.0,3775.0,3785.0,3790.0,3815.0,3860.0,3820.0,3795.0,3780.0,3770.0,3690.0,3705.0,3710.0,3725.0,3750.0,3770.0,3770.0,3735.0,3700.0,3625.0,3635.0,3630.0,3655.0,3640.0,3720.0,3790.0,3730.0,3725.0,3740.0,3740.0,3725.0,3725.0,3750.0,3750.0,3775.0,3775.0,3755.0,3830.0,3805.0,3795.0,3820.0,3875.0,3950.0,4035.0,4055.0,4045.0,4050.0,4085.0,4025.0,4075.0,4040.0,4005.0,3995.0,4025.0,4000.0,3870.0,3845.0,3830.0,3830.0,3785.0,3735.0,3715.0,3690.0,3685.0,3690.0,3670.0,3610.0,3595.0,3595.0,3615.0,3595.0,3560.0,3530.0,3595.0,3555.0,3490.0,3425.0,3435.0,3350.0,3320.0,3330.0,3280.0,3375.0,3375.0,3410.0,3580.0,3630.0,3590.0,3500.0,3440.0,3335.0,3330.0,3260.0,3275.0,3285.0,3310.0,3265.0,3270.0,3280.0,3305.0,3300.0,3215.0,3180.0,3170.0,3105.0,3130.0,3170.0,3195.0,3205.0,3155.0,3150.0,3175.0,3230.0,3215.0,3290.0,3285.0,3305.0,3260.0,3280.0,3300.0,3305.0,3320.0,3265.0,3270.0,3255.0,3260.0,3210.0,3215.0,3190.0,3150.0,3150.0,3150.0,3215.0,3240.0,3180.0,3155.0,3085.0,2797.0,2766.0,2783.0,2758.0,2692.0,2680.0,2674.0,2676.0,2689.0,2647.0,2652.0,2708.0,2718.0,2739.0,2780.0,2722.0,2714.0,2749.0,2732.0,2746.0,2733.0,2736.0,2740.0,2708.0,2710.0,2753.0,2788.0,2820.0,2833.0,2848.0,2819.0,2800.0,2789.0,2775.0,2824.0,2807.0,2751.0,2809.0,2827.0,2753.0,2773.0,2792.0,2816.0,2766.0,2768.0,2761.0,2808.0,2828.0,2799.0,2797.0,2815.0,2844.0,2857.0,2873.0,2864.0,2807.0,2807.0,2830.0,2819.0,2844.0,3025.0,2987.0,2985.0,2953.0,2929.0,2937.0,2939.0,2980.0,2948.0,2936.0,2959.0,2929.0,2896.0,2906.0,2930.0,2910.0,2898.0,2918.0,2940.0,2912.0,2870.0,2876.0,2877.0,2846.0,2831.0,2834.0,2829.0,2854.0,2857.0,2837.0,2807.0,2790.0,2800.0,2827.0,2824.0,2809.0,2801.0,2824.0,2832.0,2776.0,2751.0,2727.0,2756.0,2773.0,2771.0,2766.0,2774.0,2780.0,2763.0,2765.0,2748.0,2741.0,2720.0,2665.0,2641.0,2641.0,2632.0,2638.0,2650.0,2563.0,2597.0,2655.0,2624.0,2612.0,2644.0,2588.0,2571.0,2575.0,2610.0,2628.0,2604.0,2570.0,2478.0,2433.0,2427.0,2325.0,2327.0,2359.0,2275.0,2285.0,2229.0,2110.0,2108.0,2141.0,2094.0,1952.0,1963.0,2029.0,2089.0,2058.0,2139.0,2235.0,2285.0,2365.0,2398.0,2332.0,2355.0,2296.0,2260.0,2223.0,2271.0,2323.0,2309.0,2314.0,2277.0,2290.0,2301.0,2293.0,2279.0,2293.0,2273.0,2263.0,2261.0,2287.0,2274.0,2292.0,2281.0,2305.0,2264.0,2222.0,2252.0,2323.0,2328.0,2313.0,2338.0,2250.0,2288.0,2319.0,2272.0,2253.0,2229.0,2237.0,2279.0,2337.0,2359.0,2357.0,2348.0,2342.0,2352.0,2351.0,2372.0,2405.0,2443.0,2369.0,2322.0,2211.0,2217.0,2215.0,2222.0,2211.0,2261.0,2253.0,2258.0,2244.0,2190.0,2180.0,2193.0,2225.0,2201.0,2187.0,2169.0,2196.0,2174.0,2166.0,2135.0,2102.0,2140.0,2144.0,2167.0,2207.0,2170.0,2159.0,2176.0,2174.0,2142.0,2142.0,2137.0,2116.0,2085.0,2084.0,2336.0,2322.0,2300.0,2278.0,2319.0,2353.0,2360.0,2335.0,2324.0,2304.0,2287.0,2285.0,2291.0,2255.0,2290.0,2294.0,2333.0,2402.0,2403.0,2409.0,2385.0,2390.0,2363.0,2377.0,2350.0,2367.0,2417.0,2459.0,2485.0,2494.0,2481.0,2452.0,2470.0,2494.0,2448.0,2448.0,2480.0,2480.0,2460.0,null,2433.0,2418.0,2440.0,2375.0,2367.0,2350.0,2343.0,2328.0,2317.0,2314.0,2271.0,2258.0,2238.0,2260.0,2255.0,2266.0,2245.0,2238.0,2226.0,2215.0,2196.0,2284.0,2326.0,2232.0,2237.0,2256.0,2333.0,2360.0,2316.0,2290.0,2296.0,2313.0,2307.0,2292.0,2297.0,2309.0,2292.0,2230.0,2232.0,2221.0,2163.0,2168.0,2192.0,2224.0,2224.0,2183.0,2184.0,2195.0,2191.0,2215.0,2174.0,2172.0,2167.0,2215.0,2239.0,2189.0,2195.0,2199.0,2194.0,2216.0,2239.0,2246.0,2231.0,2209.0,2225.0,2255.0,2234.0,2281.0,2286.0,2301.0,2307.0,2293.0,2285.0,2309.0,2347.0,2329.0,2350.0,2362.0,2411.0,2386.0,2393.0,2370.0,2349.0,2395.0,2408.0,2449.0,2569.0,2588.0,2526.0,2511.0,2508.0,2489.0,2490.0,2500.0,2447.0,2504.0,2538.0,2538.0,2515.0,2549.0,2564.0,2647.0,2667.0,2717.0,2757.0,2795.0,2770.0,2752.0,2705.0,2738.0,2714.0,2738.0,2752.0,2737.0,2753.0,2755.0,2720.0,2718.0,2738.0,2761.0,2680.0,2656.0,2625.0,2618.0,2615.0,2636.0,2640.0,2625.0,2620.0,2623.0,2622.0,2585.0,2595.0,2592.0,2581.0,2533.0,2460.0,2486.0,2459.0,2463.0,2480.0,2467.0,2505.0,2610.0,2646.0,2697.0,2725.0,2666.0,2614.0,2593.0,2599.0,2580.0,2545.0,2508.0,2483.0,2493.0,2481.0,2450.0,2447.0,2420.0,2431.0,2448.0,2438.0,2469.0,2474.0,2468.0,2499.0,2533.0,2499.0,2462.0,2447.0,2462.0,2477.0,2453.0,2409.0,2370.0,2438.0,2420.0,2404.0,2419.0,2439.0,2418.0,2411.0,2379.0,2403.0,2407.0,2430.0,2390.0,2386.0,2357.0,2391.0,2413.0,2421.0,2434.0,2438.0,2406.0,2390.0,2429.0,2445.0,2453.0,2475.0,2483.0,2444.0,2477.0,2474.0,2453.0,2433.0,2447.0,2465.0,2524.0,2461.0,2398.0,2378.0,2359.0,2396.0,2399.0,2395.0,2439.0,2468.0,2517.0,2500.0,2502.0,2564.0,2547.0,2568.0,2547.0,2536.0,2528.0,2624.0,2617.0,2635.0,2652.0,2705.0,2716.0,2694.0,2704.0,2704.0,2673.0,2665.0,2684.0,2711.0,2722.0,2686.0,2704.0,2634.0,2644.0,2631.0,2656.0,2648.0,2642.0,2634.0,2620.0,2621.0,2628.0,2690.0,2688.0,2676.0,2668.0,2622.0,2610.0,2589.0,2599.0,2599.0,2590.0,2573.0,2653.0,2634.0,2647.0,2605.0,2625.0,2529.0,2485.0,2469.0,2447.0,2459.0,2464.0,2427.0,2375.0,2380.0,2381.0,2414.0,2378.0,2351.0,2310.0,2338.0,2307.0,2314.0,2358.0],\"low\":[3140.0,3195.0,3250.0,3220.0,3165.0,3160.0,3180.0,3225.0,3170.0,3195.0,3225.0,3185.0,3125.0,3125.0,3115.0,3120.0,3150.0,3145.0,3115.0,3110.0,3110.0,3125.0,3145.0,3235.0,3310.0,3255.0,3355.0,3350.0,3270.0,3275.0,3250.0,3235.0,3260.0,3250.0,3270.0,3290.0,3330.0,3300.0,3330.0,3365.0,3390.0,3410.0,3465.0,3485.0,3465.0,3430.0,3440.0,3480.0,3475.0,3460.0,3455.0,3445.0,3480.0,3500.0,3450.0,3475.0,3455.0,3435.0,3445.0,3430.0,3370.0,3375.0,3310.0,3335.0,3255.0,3230.0,3230.0,3225.0,3215.0,3260.0,3225.0,3235.0,2987.0,3000.0,3000.0,3015.0,3030.0,3030.0,3100.0,3105.0,3150.0,3140.0,3165.0,3230.0,3045.0,3080.0,3110.0,3100.0,3095.0,3165.0,3170.0,3130.0,3100.0,3090.0,3110.0,3145.0,3165.0,3120.0,3115.0,3165.0,3140.0,3145.0,3155.0,3145.0,3125.0,3090.0,3100.0,3070.0,3065.0,3090.0,3120.0,3140.0,3110.0,3095.0,3080.0,3070.0,3030.0,3000.0,3000.0,3000.0,2990.0,2961.0,2965.0,2942.0,2932.0,2905.0,2914.0,2920.0,2911.0,2903.0,2905.0,2933.0,2926.0,2916.0,2917.0,3095.0,3105.0,3090.0,3045.0,3015.0,3045.0,3040.0,3010.0,3005.0,3030.0,3015.0,3000.0,3025.0,3055.0,3075.0,3095.0,3110.0,3135.0,3155.0,3155.0,3120.0,3125.0,3085.0,3095.0,3085.0,3045.0,3060.0,3055.0,3060.0,3135.0,3160.0,3125.0,3060.0,3065.0,3120.0,3095.0,3200.0,3255.0,3260.0,3205.0,3255.0,3270.0,3275.0,3265.0,3235.0,3255.0,3265.0,3270.0,3235.0,3280.0,3310.0,3340.0,3430.0,3460.0,3475.0,3475.0,3455.0,3455.0,3455.0,3495.0,3465.0,3390.0,3350.0,3350.0,3370.0,3355.0,3385.0,3380.0,3405.0,3405.0,3390.0,3490.0,3485.0,3475.0,3100.0,3175.0,3170.0,3160.0,3130.0,3100.0,3070.0,3075.0,3120.0,3130.0,3135.0,3100.0,3075.0,3080.0,3090.0,3135.0,3180.0,3185.0,3225.0,3230.0,3235.0,3280.0,3345.0,3385.0,3355.0,3350.0,3325.0,3335.0,3375.0,3395.0,3400.0,3355.0,3385.0,3385.0,3390.0,3400.0,3365.0,3360.0,3385.0,3405.0,3370.0,3390.0,3320.0,3260.0,3220.0,3240.0,3215.0,3175.0,3160.0,3200.0,3225.0,3230.0,3210.0,3265.0,3250.0,3215.0,3210.0,3220.0,3200.0,3135.0,3095.0,3270.0,3320.0,3210.0,3205.0,3150.0,3160.0,3185.0,3270.0,3310.0,3280.0,3220.0,3205.0,3220.0,3190.0,3155.0,3160.0,3160.0,3165.0,3230.0,3275.0,3255.0,3255.0,3230.0,3235.0,3275.0,3240.0,3265.0,3260.0,3250.0,3265.0,3255.0,3255.0,3275.0,3250.0,3325.0,3340.0,3365.0,3375.0,3465.0,3540.0,3525.0,3570.0,3575.0,3505.0,3505.0,3525.0,3555.0,3610.0,3635.0,3660.0,3715.0,3690.0,3605.0,3580.0,3625.0,3645.0,3640.0,3670.0,3665.0,3775.0,3950.0,3935.0,4000.0,4085.0,4055.0,4055.0,4095.0,4160.0,4105.0,4030.0,4020.0,4050.0,4040.0,4080.0,4075.0,4055.0,4100.0,4140.0,4130.0,4095.0,4060.0,3965.0,3945.0,4025.0,4080.0,4205.0,4260.0,4350.0,4300.0,4220.0,4175.0,4225.0,4255.0,4255.0,4320.0,4355.0,4475.0,4395.0,4285.0,4200.0,4145.0,4140.0,4185.0,4140.0,4045.0,3970.0,3915.0,3965.0,4000.0,4110.0,4030.0,4005.0,3995.0,4025.0,3980.0,4090.0,4100.0,4100.0,4065.0,4085.0,4040.0,3985.0,4010.0,3605.0,3705.0,3720.0,3810.0,3760.0,3765.0,3845.0,3825.0,3870.0,3840.0,3820.0,3835.0,3835.0,3840.0,3825.0,3750.0,3730.0,3810.0,3835.0,3855.0,3875.0,3790.0,3775.0,3750.0,3780.0,3800.0,3790.0,3870.0,3905.0,3895.0,4030.0,4060.0,4105.0,4045.0,4060.0,4090.0,4125.0,4150.0,4160.0,4155.0,4130.0,4135.0,4095.0,4085.0,4065.0,4060.0,4045.0,4000.0,4035.0,4015.0,3955.0,3985.0,3940.0,3975.0,3890.0,3865.0,3925.0,4010.0,4070.0,4030.0,3985.0,3925.0,4010.0,4045.0,4070.0,4220.0,4320.0,4265.0,4270.0,4250.0,4235.0,4285.0,4230.0,4180.0,4165.0,4275.0,4185.0,4180.0,4055.0,4085.0,4085.0,4005.0,3965.0,3945.0,3960.0,3890.0,3855.0,3870.0,3875.0,3840.0,3830.0,3755.0,3730.0,3710.0,3725.0,3490.0,3510.0,3665.0,3660.0,3620.0,3665.0,3695.0,3740.0,3740.0,3780.0,3705.0,3735.0,3720.0,3735.0,3775.0,3770.0,3750.0,3750.0,3695.0,3640.0,3640.0,3650.0,3665.0,3700.0,3715.0,3690.0,3655.0,3615.0,3555.0,3525.0,3530.0,3610.0,3575.0,3655.0,3720.0,3685.0,3660.0,3700.0,3700.0,3680.0,3680.0,3700.0,3715.0,3750.0,3735.0,3730.0,3745.0,3755.0,3750.0,3775.0,3820.0,3875.0,3950.0,4005.0,3990.0,4010.0,4015.0,3975.0,4020.0,3975.0,3930.0,3950.0,3970.0,3900.0,3800.0,3785.0,3785.0,3795.0,3720.0,3685.0,3680.0,3620.0,3645.0,3635.0,3615.0,3560.0,3570.0,3560.0,3575.0,3500.0,3510.0,3490.0,3545.0,3510.0,3365.0,3360.0,3390.0,3160.0,3235.0,3240.0,3210.0,3280.0,3320.0,3335.0,3440.0,3540.0,3510.0,3400.0,3320.0,3285.0,3290.0,3230.0,3200.0,3225.0,3270.0,3215.0,3220.0,3250.0,3280.0,3240.0,3155.0,3135.0,3075.0,3050.0,3100.0,3105.0,3140.0,3145.0,3115.0,3095.0,3125.0,3180.0,3180.0,3220.0,3250.0,3230.0,3195.0,3235.0,3245.0,3255.0,3270.0,3220.0,3210.0,3170.0,3175.0,3170.0,3145.0,3120.0,3060.0,3105.0,3115.0,3160.0,3190.0,3110.0,3090.0,3010.0,2660.0,2687.0,2720.0,2720.0,2659.0,2643.0,2622.0,2641.0,2651.0,2601.0,2601.0,2669.0,2696.0,2650.0,2698.0,2673.0,2653.0,2696.0,2698.0,2698.0,2673.0,2665.0,2696.0,2683.0,2687.0,2692.0,2737.0,2746.0,2782.0,2773.0,2777.0,2758.0,2750.0,2746.0,2777.0,2748.0,2714.0,2733.0,2773.0,2712.0,2718.0,2756.0,2771.0,2731.0,2711.0,2734.0,2779.0,2787.0,2761.0,2762.0,2771.0,2814.0,2833.0,2842.0,2806.0,2773.0,2777.0,2808.0,2784.0,2793.0,2850.0,2913.0,2920.0,2884.0,2895.0,2900.0,2904.0,2928.0,2896.0,2914.0,2916.0,2857.0,2859.0,2881.0,2867.0,2876.0,2865.0,2881.0,2872.0,2823.0,2829.0,2852.0,2834.0,2826.0,2812.0,2807.0,2803.0,2821.0,2825.0,2814.0,2757.0,2766.0,2762.0,2797.0,2803.0,2775.0,2773.0,2802.0,2795.0,2690.0,2709.0,2692.0,2732.0,2753.0,2739.0,2737.0,2747.0,2746.0,2747.0,2736.0,2714.0,2707.0,2677.0,2611.0,2604.0,2607.0,2577.0,2607.0,2573.0,2456.0,2529.0,2619.0,2592.0,2574.0,2578.0,2548.0,2540.0,2527.0,2565.0,2585.0,2565.0,2544.0,2428.0,2390.0,2369.0,2252.0,2224.0,2259.0,2212.0,2232.0,2163.0,2043.0,1966.0,2087.0,2019.0,1846.0,1891.0,1856.0,1995.0,1956.0,1988.0,2150.0,2177.0,2202.0,2297.0,2225.0,2255.0,2234.0,2204.0,2148.0,2142.0,2213.0,2254.0,2232.0,2219.0,2235.0,2257.0,2248.0,2224.0,2246.0,2240.0,2232.0,2223.0,2237.0,2243.0,2263.0,2255.0,2264.0,2209.0,2168.0,2205.0,2265.0,2304.0,2273.0,2302.0,2156.0,2170.0,2246.0,2246.0,2224.0,2188.0,2195.0,2220.0,2268.0,2317.0,2323.0,2292.0,2312.0,2320.0,2324.0,2341.0,2377.0,2367.0,2336.0,2264.0,2157.0,2128.0,2157.0,2190.0,2179.0,2209.0,2197.0,2210.0,2207.0,2144.0,2156.0,2150.0,2189.0,2161.0,2155.0,2119.0,2102.0,2124.0,2115.0,2095.0,2057.0,2090.0,2111.0,2130.0,2164.0,2148.0,2132.0,2143.0,2138.0,2091.0,2117.0,2108.0,2086.0,2021.0,2049.0,2255.0,2273.0,2263.0,2247.0,2275.0,2317.0,2317.0,2311.0,2300.0,2281.0,2267.0,2262.0,2255.0,2228.0,2257.0,2265.0,2280.0,2315.0,2348.0,2364.0,2347.0,2353.0,2320.0,2333.0,2321.0,2286.0,2366.0,2417.0,2449.0,2455.0,2431.0,2414.0,2402.0,2446.0,2423.0,2415.0,2419.0,2439.0,2407.0,null,2335.0,2363.0,2388.0,2344.0,2341.0,2316.0,2303.0,2304.0,2297.0,2272.0,2233.0,2217.0,2186.0,2196.0,2222.0,2224.0,2225.0,2213.0,2204.0,2203.0,2166.0,2205.0,2232.0,2193.0,2198.0,2222.0,2270.0,2308.0,2278.0,2242.0,2260.0,2275.0,2286.0,2261.0,2268.0,2275.0,2231.0,2203.0,2212.0,2124.0,2123.0,2123.0,2153.0,2184.0,2182.0,2152.0,2145.0,2161.0,2164.0,2183.0,2154.0,2154.0,2145.0,2165.0,2194.0,2171.0,2158.0,2170.0,2178.0,2190.0,2212.0,2220.0,2179.0,2187.0,2173.0,2213.0,2188.0,2229.0,2259.0,2264.0,2289.0,2260.0,2252.0,2276.0,2313.0,2301.0,2306.0,2337.0,2364.0,2330.0,2342.0,2333.0,2323.0,2349.0,2381.0,2383.0,2488.0,2481.0,2460.0,2461.0,2476.0,2467.0,2470.0,2431.0,2420.0,2451.0,2488.0,2504.0,2464.0,2469.0,2521.0,2579.0,2622.0,2667.0,2698.0,2725.0,2710.0,2706.0,2671.0,2711.0,2688.0,2699.0,2723.0,2695.0,2710.0,2730.0,2631.0,2661.0,2711.0,2696.0,2625.0,2620.0,2575.0,2570.0,2585.0,2593.0,2597.0,2572.0,2585.0,2601.0,2592.0,2555.0,2563.0,2555.0,2544.0,2486.0,2425.0,2441.0,2436.0,2434.0,2438.0,2448.0,2471.0,2535.0,2610.0,2644.0,2664.0,2569.0,2554.0,2547.0,2553.0,2541.0,2503.0,2470.0,2457.0,2460.0,2455.0,2430.0,2381.0,2400.0,2395.0,2402.0,2402.0,2431.0,2446.0,2436.0,2459.0,2475.0,2462.0,2430.0,2425.0,2428.0,2431.0,2418.0,2383.0,2323.0,2376.0,2395.0,2378.0,2405.0,2416.0,2401.0,2360.0,2358.0,2376.0,2374.0,2398.0,2365.0,2349.0,2320.0,2371.0,2389.0,2380.0,2400.0,2403.0,2369.0,2363.0,2396.0,2404.0,2429.0,2436.0,2427.0,2419.0,2438.0,2442.0,2407.0,2395.0,2420.0,2420.0,2457.0,2392.0,2362.0,2343.0,2332.0,2360.0,2358.0,2353.0,2390.0,2430.0,2478.0,2462.0,2480.0,2502.0,2513.0,2533.0,2498.0,2500.0,2478.0,2564.0,2573.0,2565.0,2621.0,2657.0,2693.0,2661.0,2664.0,2681.0,2625.0,2620.0,2660.0,2675.0,2690.0,2645.0,2653.0,2594.0,2616.0,2591.0,2581.0,2620.0,2606.0,2610.0,2600.0,2595.0,2581.0,2629.0,2662.0,2653.0,2620.0,2595.0,2585.0,2561.0,2563.0,2576.0,2543.0,2522.0,2604.0,2608.0,2600.0,2570.0,2583.0,2465.0,2451.0,2421.0,2414.0,2434.0,2439.0,2378.0,2351.0,2358.0,2346.0,2372.0,2351.0,2320.0,2265.0,2277.0,2264.0,2267.0,2315.0],\"open\":[3150.0,3225.0,3265.0,3230.0,3210.0,3185.0,3180.0,3230.0,3230.0,3220.0,3235.0,3300.0,3170.0,3135.0,3150.0,3145.0,3165.0,3155.0,3130.0,3115.0,3125.0,3135.0,3180.0,3260.0,3400.0,3300.0,3400.0,3395.0,3365.0,3305.0,3280.0,3255.0,3280.0,3275.0,3310.0,3295.0,3355.0,3335.0,3350.0,3390.0,3415.0,3425.0,3475.0,3500.0,3510.0,3495.0,3440.0,3495.0,3495.0,3500.0,3465.0,3465.0,3490.0,3555.0,3450.0,3485.0,3480.0,3470.0,3460.0,3495.0,3435.0,3375.0,3380.0,3335.0,3330.0,3270.0,3255.0,3225.0,3230.0,3260.0,3340.0,3240.0,3005.0,3005.0,3065.0,3035.0,3065.0,3060.0,3145.0,3105.0,3175.0,3165.0,3175.0,3250.0,3235.0,3160.0,3135.0,3135.0,3105.0,3165.0,3185.0,3150.0,3125.0,3125.0,3120.0,3150.0,3170.0,3180.0,3125.0,3215.0,3190.0,3155.0,3185.0,3160.0,3170.0,3130.0,3135.0,3115.0,3080.0,3105.0,3125.0,3145.0,3175.0,3125.0,3100.0,3085.0,3070.0,3040.0,3015.0,3020.0,3000.0,2998.0,2999.0,2981.0,2958.0,2950.0,2922.0,2978.0,2926.0,2915.0,2914.0,2943.0,2936.0,2942.0,2920.0,3120.0,3125.0,3110.0,3080.0,3050.0,3045.0,3055.0,3035.0,3010.0,3065.0,3025.0,3010.0,3045.0,3065.0,3105.0,3115.0,3135.0,3160.0,3155.0,3180.0,3130.0,3125.0,3135.0,3110.0,3100.0,3085.0,3065.0,3075.0,3070.0,3150.0,3185.0,3165.0,3130.0,3090.0,3145.0,3100.0,3200.0,3325.0,3285.0,3250.0,3260.0,3285.0,3290.0,3280.0,3270.0,3280.0,3285.0,3320.0,3265.0,3285.0,3325.0,3350.0,3440.0,3495.0,3530.0,3490.0,3480.0,3460.0,3455.0,3500.0,3520.0,3455.0,3425.0,3355.0,3420.0,3410.0,3420.0,3395.0,3430.0,3410.0,3415.0,3500.0,3530.0,3535.0,3155.0,3215.0,3210.0,3175.0,3170.0,3150.0,3110.0,3085.0,3135.0,3130.0,3145.0,3160.0,3110.0,3115.0,3090.0,3135.0,3200.0,3235.0,3230.0,3260.0,3270.0,3285.0,3375.0,3400.0,3430.0,3370.0,3350.0,3360.0,3395.0,3440.0,3435.0,3385.0,3405.0,3390.0,3405.0,3425.0,3420.0,3370.0,3430.0,3430.0,3385.0,3400.0,3370.0,3305.0,3255.0,3250.0,3250.0,3235.0,3170.0,3220.0,3240.0,3245.0,3220.0,3280.0,3285.0,3255.0,3240.0,3225.0,3230.0,3185.0,3100.0,3280.0,3330.0,3270.0,3300.0,3210.0,3180.0,3200.0,3275.0,3320.0,3300.0,3255.0,3225.0,3255.0,3245.0,3190.0,3175.0,3165.0,3165.0,3230.0,3290.0,3275.0,3290.0,3275.0,3245.0,3280.0,3310.0,3280.0,3270.0,3270.0,3270.0,3260.0,3255.0,3275.0,3285.0,3335.0,3350.0,3365.0,3380.0,3480.0,3585.0,3550.0,3590.0,3620.0,3585.0,3545.0,3565.0,3565.0,3620.0,3635.0,3685.0,3730.0,3780.0,3675.0,3585.0,3645.0,3690.0,3665.0,3680.0,3700.0,3785.0,3955.0,3980.0,4030.0,4100.0,4090.0,4065.0,4110.0,4180.0,4150.0,4085.0,4050.0,4060.0,4065.0,4115.0,4090.0,4075.0,4100.0,4140.0,4155.0,4190.0,4105.0,4030.0,3960.0,4025.0,4105.0,4205.0,4290.0,4350.0,4370.0,4270.0,4220.0,4225.0,4255.0,4375.0,4320.0,4385.0,4520.0,4460.0,4435.0,4255.0,4195.0,4215.0,4240.0,4230.0,4155.0,4040.0,3935.0,4015.0,4010.0,4130.0,4075.0,4050.0,4050.0,4060.0,3985.0,4105.0,4180.0,4110.0,4120.0,4165.0,4125.0,4110.0,4010.0,3895.0,3805.0,3785.0,3875.0,3810.0,3770.0,3845.0,3900.0,3890.0,3890.0,3840.0,3835.0,3840.0,3855.0,3855.0,3830.0,3735.0,3825.0,3870.0,3855.0,3980.0,3880.0,3780.0,3775.0,3845.0,3800.0,3800.0,3875.0,3935.0,3920.0,4060.0,4115.0,4140.0,4110.0,4090.0,4165.0,4145.0,4195.0,4210.0,4220.0,4165.0,4165.0,4170.0,4085.0,4070.0,4060.0,4065.0,4060.0,4050.0,4050.0,4015.0,4000.0,4030.0,4010.0,3965.0,3900.0,3945.0,4020.0,4130.0,4050.0,4060.0,3950.0,4130.0,4055.0,4090.0,4220.0,4340.0,4305.0,4300.0,4265.0,4250.0,4310.0,4270.0,4225.0,4175.0,4335.0,4280.0,4215.0,4180.0,4085.0,4125.0,4065.0,3980.0,4020.0,3970.0,3965.0,3890.0,3930.0,3900.0,3860.0,3870.0,3800.0,3775.0,3785.0,3775.0,3640.0,3535.0,3680.0,3735.0,3640.0,3710.0,3720.0,3750.0,3780.0,3810.0,3725.0,3760.0,3775.0,3745.0,3835.0,3810.0,3760.0,3770.0,3745.0,3680.0,3640.0,3710.0,3665.0,3730.0,3750.0,3765.0,3735.0,3685.0,3600.0,3570.0,3555.0,3615.0,3600.0,3670.0,3730.0,3700.0,3680.0,3735.0,3730.0,3710.0,3705.0,3720.0,3730.0,3770.0,3760.0,3735.0,3755.0,3790.0,3780.0,3795.0,3820.0,3885.0,3955.0,4030.0,4045.0,4030.0,4075.0,4015.0,4050.0,4015.0,3990.0,3975.0,4005.0,4000.0,3860.0,3845.0,3820.0,3820.0,3785.0,3705.0,3680.0,3690.0,3670.0,3645.0,3660.0,3600.0,3595.0,3560.0,3595.0,3595.0,3530.0,3515.0,3550.0,3525.0,3480.0,3380.0,3390.0,3340.0,3240.0,3315.0,3260.0,3280.0,3330.0,3350.0,3445.0,3580.0,3590.0,3490.0,3365.0,3330.0,3295.0,3260.0,3265.0,3255.0,3305.0,3260.0,3220.0,3270.0,3290.0,3290.0,3215.0,3150.0,3155.0,3085.0,3125.0,3125.0,3190.0,3160.0,3155.0,3115.0,3125.0,3190.0,3190.0,3260.0,3265.0,3305.0,3250.0,3235.0,3260.0,3300.0,3300.0,3255.0,3230.0,3250.0,3180.0,3210.0,3160.0,3190.0,3100.0,3120.0,3140.0,3185.0,3200.0,3140.0,3130.0,3075.0,2695.0,2763.0,2724.0,2749.0,2688.0,2653.0,2630.0,2649.0,2679.0,2617.0,2610.0,2680.0,2700.0,2666.0,2768.0,2697.0,2660.0,2707.0,2731.0,2709.0,2722.0,2675.0,2736.0,2694.0,2694.0,2698.0,2787.0,2761.0,2831.0,2835.0,2784.0,2797.0,2766.0,2753.0,2792.0,2795.0,2747.0,2739.0,2787.0,2750.0,2735.0,2783.0,2782.0,2766.0,2763.0,2751.0,2783.0,2800.0,2795.0,2765.0,2777.0,2836.0,2849.0,2867.0,2864.0,2789.0,2778.0,2825.0,2811.0,2805.0,2873.0,2960.0,2981.0,2951.0,2904.0,2932.0,2906.0,2934.0,2948.0,2923.0,2931.0,2924.0,2872.0,2884.0,2923.0,2910.0,2880.0,2897.0,2884.0,2907.0,2830.0,2866.0,2877.0,2846.0,2830.0,2812.0,2829.0,2843.0,2846.0,2827.0,2807.0,2781.0,2782.0,2803.0,2808.0,2809.0,2776.0,2802.0,2820.0,2770.0,2725.0,2714.0,2734.0,2765.0,2771.0,2740.0,2765.0,2775.0,2750.0,2748.0,2728.0,2730.0,2719.0,2665.0,2640.0,2620.0,2615.0,2619.0,2583.0,2548.0,2532.0,2633.0,2617.0,2584.0,2637.0,2578.0,2560.0,2542.0,2570.0,2615.0,2585.0,2558.0,2478.0,2415.0,2415.0,2283.0,2232.0,2355.0,2240.0,2281.0,2226.0,2100.0,2011.0,2093.0,2087.0,1915.0,1932.0,1880.0,2019.0,2053.0,2007.0,2196.0,2285.0,2239.0,2337.0,2278.0,2340.0,2243.0,2214.0,2195.0,2150.0,2300.0,2265.0,2312.0,2256.0,2251.0,2260.0,2293.0,2229.0,2290.0,2251.0,2251.0,2250.0,2245.0,2264.0,2289.0,2270.0,2295.0,2261.0,2182.0,2230.0,2278.0,2305.0,2294.0,2320.0,2248.0,2171.0,2309.0,2258.0,2246.0,2226.0,2210.0,2225.0,2271.0,2352.0,2344.0,2347.0,2315.0,2343.0,2340.0,2364.0,2392.0,2429.0,2369.0,2322.0,2190.0,2200.0,2171.0,2215.0,2207.0,2214.0,2250.0,2240.0,2241.0,2190.0,2176.0,2170.0,2189.0,2195.0,2163.0,2168.0,2116.0,2174.0,2129.0,2133.0,2098.0,2094.0,2140.0,2152.0,2179.0,2160.0,2157.0,2151.0,2167.0,2110.0,2135.0,2117.0,2111.0,2080.0,2051.0,2259.0,2313.0,2288.0,2259.0,2280.0,2320.0,2355.0,2335.0,2312.0,2300.0,2281.0,2274.0,2270.0,2255.0,2265.0,2294.0,2294.0,2357.0,2348.0,2409.0,2368.0,2390.0,2328.0,2358.0,2334.0,2300.0,2387.0,2437.0,2460.0,2494.0,2451.0,2444.0,2410.0,2464.0,2448.0,2448.0,2426.0,2480.0,2451.0,null,2430.0,2363.0,2429.0,2371.0,2355.0,2345.0,2343.0,2325.0,2317.0,2296.0,2271.0,2225.0,2233.0,2196.0,2253.0,2258.0,2231.0,2235.0,2212.0,2208.0,2195.0,2205.0,2296.0,2223.0,2207.0,2235.0,2291.0,2355.0,2315.0,2290.0,2262.0,2296.0,2307.0,2288.0,2277.0,2301.0,2292.0,2230.0,2231.0,2207.0,2151.0,2125.0,2160.0,2200.0,2213.0,2176.0,2150.0,2161.0,2186.0,2187.0,2169.0,2159.0,2158.0,2170.0,2221.0,2187.0,2187.0,2182.0,2185.0,2200.0,2226.0,2244.0,2229.0,2190.0,2188.0,2237.0,2208.0,2239.0,2265.0,2269.0,2298.0,2289.0,2260.0,2289.0,2321.0,2314.0,2319.0,2356.0,2386.0,2337.0,2380.0,2350.0,2340.0,2351.0,2386.0,2395.0,2499.0,2587.0,2476.0,2505.0,2499.0,2486.0,2474.0,2496.0,2441.0,2459.0,2525.0,2524.0,2515.0,2484.0,2536.0,2590.0,2648.0,2678.0,2740.0,2744.0,2759.0,2731.0,2700.0,2713.0,2706.0,2706.0,2735.0,2715.0,2717.0,2744.0,2715.0,2675.0,2730.0,2760.0,2653.0,2648.0,2615.0,2617.0,2608.0,2611.0,2599.0,2625.0,2594.0,2610.0,2620.0,2585.0,2582.0,2579.0,2581.0,2533.0,2450.0,2480.0,2438.0,2458.0,2452.0,2464.0,2471.0,2535.0,2630.0,2648.0,2673.0,2650.0,2593.0,2574.0,2576.0,2553.0,2535.0,2490.0,2470.0,2461.0,2480.0,2446.0,2432.0,2405.0,2424.0,2420.0,2425.0,2438.0,2462.0,2460.0,2459.0,2476.0,2499.0,2462.0,2428.0,2428.0,2460.0,2434.0,2398.0,2370.0,2389.0,2415.0,2404.0,2408.0,2432.0,2418.0,2404.0,2373.0,2380.0,2380.0,2410.0,2380.0,2372.0,2330.0,2384.0,2399.0,2386.0,2428.0,2416.0,2401.0,2370.0,2408.0,2444.0,2432.0,2440.0,2475.0,2444.0,2439.0,2465.0,2445.0,2400.0,2432.0,2438.0,2498.0,2445.0,2370.0,2375.0,2340.0,2361.0,2371.0,2371.0,2395.0,2440.0,2482.0,2489.0,2485.0,2505.0,2520.0,2535.0,2547.0,2519.0,2525.0,2578.0,2608.0,2570.0,2645.0,2657.0,2708.0,2687.0,2669.0,2700.0,2631.0,2653.0,2683.0,2684.0,2714.0,2662.0,2695.0,2634.0,2634.0,2613.0,2595.0,2638.0,2632.0,2625.0,2606.0,2612.0,2596.0,2637.0,2688.0,2670.0,2651.0,2620.0,2593.0,2581.0,2572.0,2582.0,2552.0,2557.0,2604.0,2630.0,2647.0,2580.0,2613.0,2510.0,2476.0,2455.0,2415.0,2456.0,2447.0,2427.0,2370.0,2367.0,2360.0,2391.0,2371.0,2351.0,2306.0,2299.0,2265.0,2276.0,2333.0],\"x\":[\"2017-01-04\",\"2017-01-05\",\"2017-01-06\",\"2017-01-10\",\"2017-01-11\",\"2017-01-12\",\"2017-01-13\",\"2017-01-16\",\"2017-01-17\",\"2017-01-18\",\"2017-01-19\",\"2017-01-20\",\"2017-01-23\",\"2017-01-24\",\"2017-01-25\",\"2017-01-26\",\"2017-01-27\",\"2017-01-30\",\"2017-01-31\",\"2017-02-01\",\"2017-02-02\",\"2017-02-03\",\"2017-02-06\",\"2017-02-07\",\"2017-02-08\",\"2017-02-09\",\"2017-02-10\",\"2017-02-13\",\"2017-02-14\",\"2017-02-15\",\"2017-02-16\",\"2017-02-17\",\"2017-02-20\",\"2017-02-21\",\"2017-02-22\",\"2017-02-23\",\"2017-02-24\",\"2017-02-27\",\"2017-02-28\",\"2017-03-01\",\"2017-03-02\",\"2017-03-03\",\"2017-03-06\",\"2017-03-07\",\"2017-03-08\",\"2017-03-09\",\"2017-03-10\",\"2017-03-13\",\"2017-03-14\",\"2017-03-15\",\"2017-03-16\",\"2017-03-17\",\"2017-03-21\",\"2017-03-22\",\"2017-03-23\",\"2017-03-24\",\"2017-03-27\",\"2017-03-28\",\"2017-03-29\",\"2017-03-30\",\"2017-03-31\",\"2017-04-03\",\"2017-04-04\",\"2017-04-05\",\"2017-04-06\",\"2017-04-07\",\"2017-04-10\",\"2017-04-11\",\"2017-04-12\",\"2017-04-13\",\"2017-04-14\",\"2017-04-17\",\"2017-04-18\",\"2017-04-19\",\"2017-04-20\",\"2017-04-21\",\"2017-04-24\",\"2017-04-25\",\"2017-04-26\",\"2017-04-27\",\"2017-04-28\",\"2017-05-01\",\"2017-05-02\",\"2017-05-08\",\"2017-05-09\",\"2017-05-10\",\"2017-05-11\",\"2017-05-12\",\"2017-05-15\",\"2017-05-16\",\"2017-05-17\",\"2017-05-18\",\"2017-05-19\",\"2017-05-22\",\"2017-05-23\",\"2017-05-24\",\"2017-05-25\",\"2017-05-26\",\"2017-05-29\",\"2017-05-30\",\"2017-05-31\",\"2017-06-01\",\"2017-06-02\",\"2017-06-05\",\"2017-06-06\",\"2017-06-07\",\"2017-06-08\",\"2017-06-09\",\"2017-06-12\",\"2017-06-13\",\"2017-06-14\",\"2017-06-15\",\"2017-06-16\",\"2017-06-19\",\"2017-06-20\",\"2017-06-21\",\"2017-06-22\",\"2017-06-23\",\"2017-06-26\",\"2017-06-27\",\"2017-06-28\",\"2017-06-29\",\"2017-06-30\",\"2017-07-03\",\"2017-07-04\",\"2017-07-05\",\"2017-07-06\",\"2017-07-07\",\"2017-07-10\",\"2017-07-11\",\"2017-07-12\",\"2017-07-13\",\"2017-07-14\",\"2017-07-18\",\"2017-07-19\",\"2017-07-20\",\"2017-07-21\",\"2017-07-24\",\"2017-07-25\",\"2017-07-26\",\"2017-07-27\",\"2017-07-28\",\"2017-07-31\",\"2017-08-01\",\"2017-08-02\",\"2017-08-03\",\"2017-08-04\",\"2017-08-07\",\"2017-08-08\",\"2017-08-09\",\"2017-08-10\",\"2017-08-14\",\"2017-08-15\",\"2017-08-16\",\"2017-08-17\",\"2017-08-18\",\"2017-08-21\",\"2017-08-22\",\"2017-08-23\",\"2017-08-24\",\"2017-08-25\",\"2017-08-28\",\"2017-08-29\",\"2017-08-30\",\"2017-08-31\",\"2017-09-01\",\"2017-09-04\",\"2017-09-05\",\"2017-09-06\",\"2017-09-07\",\"2017-09-08\",\"2017-09-11\",\"2017-09-12\",\"2017-09-13\",\"2017-09-14\",\"2017-09-15\",\"2017-09-19\",\"2017-09-20\",\"2017-09-21\",\"2017-09-22\",\"2017-09-25\",\"2017-09-26\",\"2017-09-27\",\"2017-09-28\",\"2017-09-29\",\"2017-10-02\",\"2017-10-03\",\"2017-10-04\",\"2017-10-05\",\"2017-10-06\",\"2017-10-10\",\"2017-10-11\",\"2017-10-12\",\"2017-10-13\",\"2017-10-16\",\"2017-10-17\",\"2017-10-18\",\"2017-10-19\",\"2017-10-20\",\"2017-10-23\",\"2017-10-24\",\"2017-10-25\",\"2017-10-26\",\"2017-10-27\",\"2017-10-30\",\"2017-10-31\",\"2017-11-01\",\"2017-11-02\",\"2017-11-06\",\"2017-11-07\",\"2017-11-08\",\"2017-11-09\",\"2017-11-10\",\"2017-11-13\",\"2017-11-14\",\"2017-11-15\",\"2017-11-16\",\"2017-11-17\",\"2017-11-20\",\"2017-11-21\",\"2017-11-22\",\"2017-11-24\",\"2017-11-27\",\"2017-11-28\",\"2017-11-29\",\"2017-11-30\",\"2017-12-01\",\"2017-12-04\",\"2017-12-05\",\"2017-12-06\",\"2017-12-07\",\"2017-12-08\",\"2017-12-11\",\"2017-12-12\",\"2017-12-13\",\"2017-12-14\",\"2017-12-15\",\"2017-12-18\",\"2017-12-19\",\"2017-12-20\",\"2017-12-21\",\"2017-12-22\",\"2017-12-25\",\"2017-12-26\",\"2017-12-27\",\"2017-12-28\",\"2017-12-29\",\"2018-01-04\",\"2018-01-05\",\"2018-01-09\",\"2018-01-10\",\"2018-01-11\",\"2018-01-12\",\"2018-01-15\",\"2018-01-16\",\"2018-01-17\",\"2018-01-18\",\"2018-01-19\",\"2018-01-22\",\"2018-01-23\",\"2018-01-24\",\"2018-01-25\",\"2018-01-26\",\"2018-01-29\",\"2018-01-30\",\"2018-01-31\",\"2018-02-01\",\"2018-02-02\",\"2018-02-05\",\"2018-02-06\",\"2018-02-07\",\"2018-02-08\",\"2018-02-09\",\"2018-02-13\",\"2018-02-14\",\"2018-02-15\",\"2018-02-16\",\"2018-02-19\",\"2018-02-20\",\"2018-02-21\",\"2018-02-22\",\"2018-02-23\",\"2018-02-26\",\"2018-02-27\",\"2018-02-28\",\"2018-03-01\",\"2018-03-02\",\"2018-03-05\",\"2018-03-06\",\"2018-03-07\",\"2018-03-08\",\"2018-03-09\",\"2018-03-12\",\"2018-03-13\",\"2018-03-14\",\"2018-03-15\",\"2018-03-16\",\"2018-03-19\",\"2018-03-20\",\"2018-03-22\",\"2018-03-23\",\"2018-03-26\",\"2018-03-27\",\"2018-03-28\",\"2018-03-29\",\"2018-03-30\",\"2018-04-02\",\"2018-04-03\",\"2018-04-04\",\"2018-04-05\",\"2018-04-06\",\"2018-04-09\",\"2018-04-10\",\"2018-04-11\",\"2018-04-12\",\"2018-04-13\",\"2018-04-16\",\"2018-04-17\",\"2018-04-18\",\"2018-04-19\",\"2018-04-20\",\"2018-04-23\",\"2018-04-24\",\"2018-04-25\",\"2018-04-26\",\"2018-04-27\",\"2018-05-01\",\"2018-05-02\",\"2018-05-07\",\"2018-05-08\",\"2018-05-09\",\"2018-05-10\",\"2018-05-11\",\"2018-05-14\",\"2018-05-15\",\"2018-05-16\",\"2018-05-17\",\"2018-05-18\",\"2018-05-21\",\"2018-05-22\",\"2018-05-23\",\"2018-05-24\",\"2018-05-25\",\"2018-05-28\",\"2018-05-29\",\"2018-05-30\",\"2018-05-31\",\"2018-06-01\",\"2018-06-04\",\"2018-06-05\",\"2018-06-06\",\"2018-06-07\",\"2018-06-08\",\"2018-06-11\",\"2018-06-12\",\"2018-06-13\",\"2018-06-14\",\"2018-06-15\",\"2018-06-18\",\"2018-06-19\",\"2018-06-20\",\"2018-06-21\",\"2018-06-22\",\"2018-06-25\",\"2018-06-26\",\"2018-06-27\",\"2018-06-28\",\"2018-06-29\",\"2018-07-02\",\"2018-07-03\",\"2018-07-04\",\"2018-07-05\",\"2018-07-06\",\"2018-07-09\",\"2018-07-10\",\"2018-07-11\",\"2018-07-12\",\"2018-07-13\",\"2018-07-17\",\"2018-07-18\",\"2018-07-19\",\"2018-07-20\",\"2018-07-23\",\"2018-07-24\",\"2018-07-25\",\"2018-07-26\",\"2018-07-27\",\"2018-07-30\",\"2018-07-31\",\"2018-08-01\",\"2018-08-02\",\"2018-08-03\",\"2018-08-06\",\"2018-08-07\",\"2018-08-08\",\"2018-08-09\",\"2018-08-10\",\"2018-08-13\",\"2018-08-14\",\"2018-08-15\",\"2018-08-16\",\"2018-08-17\",\"2018-08-20\",\"2018-08-21\",\"2018-08-22\",\"2018-08-23\",\"2018-08-24\",\"2018-08-27\",\"2018-08-28\",\"2018-08-29\",\"2018-08-30\",\"2018-08-31\",\"2018-09-03\",\"2018-09-04\",\"2018-09-05\",\"2018-09-06\",\"2018-09-07\",\"2018-09-10\",\"2018-09-11\",\"2018-09-12\",\"2018-09-13\",\"2018-09-14\",\"2018-09-18\",\"2018-09-19\",\"2018-09-20\",\"2018-09-21\",\"2018-09-25\",\"2018-09-26\",\"2018-09-27\",\"2018-09-28\",\"2018-10-01\",\"2018-10-02\",\"2018-10-03\",\"2018-10-04\",\"2018-10-05\",\"2018-10-09\",\"2018-10-10\",\"2018-10-11\",\"2018-10-12\",\"2018-10-15\",\"2018-10-16\",\"2018-10-17\",\"2018-10-18\",\"2018-10-19\",\"2018-10-22\",\"2018-10-23\",\"2018-10-24\",\"2018-10-25\",\"2018-10-26\",\"2018-10-29\",\"2018-10-30\",\"2018-10-31\",\"2018-11-01\",\"2018-11-02\",\"2018-11-05\",\"2018-11-06\",\"2018-11-07\",\"2018-11-08\",\"2018-11-09\",\"2018-11-12\",\"2018-11-13\",\"2018-11-14\",\"2018-11-15\",\"2018-11-16\",\"2018-11-19\",\"2018-11-20\",\"2018-11-21\",\"2018-11-22\",\"2018-11-26\",\"2018-11-27\",\"2018-11-28\",\"2018-11-29\",\"2018-11-30\",\"2018-12-03\",\"2018-12-04\",\"2018-12-05\",\"2018-12-06\",\"2018-12-07\",\"2018-12-10\",\"2018-12-11\",\"2018-12-12\",\"2018-12-13\",\"2018-12-14\",\"2018-12-17\",\"2018-12-18\",\"2018-12-19\",\"2018-12-20\",\"2018-12-21\",\"2018-12-25\",\"2018-12-26\",\"2018-12-27\",\"2018-12-28\",\"2019-01-04\",\"2019-01-07\",\"2019-01-08\",\"2019-01-09\",\"2019-01-10\",\"2019-01-11\",\"2019-01-15\",\"2019-01-16\",\"2019-01-17\",\"2019-01-18\",\"2019-01-21\",\"2019-01-22\",\"2019-01-23\",\"2019-01-24\",\"2019-01-25\",\"2019-01-28\",\"2019-01-29\",\"2019-01-30\",\"2019-01-31\",\"2019-02-01\",\"2019-02-04\",\"2019-02-05\",\"2019-02-06\",\"2019-02-07\",\"2019-02-08\",\"2019-02-12\",\"2019-02-13\",\"2019-02-14\",\"2019-02-15\",\"2019-02-18\",\"2019-02-19\",\"2019-02-20\",\"2019-02-21\",\"2019-02-22\",\"2019-02-25\",\"2019-02-26\",\"2019-02-27\",\"2019-02-28\",\"2019-03-01\",\"2019-03-04\",\"2019-03-05\",\"2019-03-06\",\"2019-03-07\",\"2019-03-08\",\"2019-03-11\",\"2019-03-12\",\"2019-03-13\",\"2019-03-14\",\"2019-03-15\",\"2019-03-18\",\"2019-03-19\",\"2019-03-20\",\"2019-03-22\",\"2019-03-25\",\"2019-03-26\",\"2019-03-27\",\"2019-03-28\",\"2019-03-29\",\"2019-04-01\",\"2019-04-02\",\"2019-04-03\",\"2019-04-04\",\"2019-04-05\",\"2019-04-08\",\"2019-04-09\",\"2019-04-10\",\"2019-04-11\",\"2019-04-12\",\"2019-04-15\",\"2019-04-16\",\"2019-04-17\",\"2019-04-18\",\"2019-04-19\",\"2019-04-22\",\"2019-04-23\",\"2019-04-24\",\"2019-04-25\",\"2019-04-26\",\"2019-05-07\",\"2019-05-08\",\"2019-05-09\",\"2019-05-10\",\"2019-05-13\",\"2019-05-14\",\"2019-05-15\",\"2019-05-16\",\"2019-05-17\",\"2019-05-20\",\"2019-05-21\",\"2019-05-22\",\"2019-05-23\",\"2019-05-24\",\"2019-05-27\",\"2019-05-28\",\"2019-05-29\",\"2019-05-30\",\"2019-05-31\",\"2019-06-03\",\"2019-06-04\",\"2019-06-05\",\"2019-06-06\",\"2019-06-07\",\"2019-06-10\",\"2019-06-11\",\"2019-06-12\",\"2019-06-13\",\"2019-06-14\",\"2019-06-17\",\"2019-06-18\",\"2019-06-19\",\"2019-06-20\",\"2019-06-21\",\"2019-06-24\",\"2019-06-25\",\"2019-06-26\",\"2019-06-27\",\"2019-06-28\",\"2019-07-01\",\"2019-07-02\",\"2019-07-03\",\"2019-07-04\",\"2019-07-05\",\"2019-07-08\",\"2019-07-09\",\"2019-07-10\",\"2019-07-11\",\"2019-07-12\",\"2019-07-16\",\"2019-07-17\",\"2019-07-18\",\"2019-07-19\",\"2019-07-22\",\"2019-07-23\",\"2019-07-24\",\"2019-07-25\",\"2019-07-26\",\"2019-07-29\",\"2019-07-30\",\"2019-07-31\",\"2019-08-01\",\"2019-08-02\",\"2019-08-05\",\"2019-08-06\",\"2019-08-07\",\"2019-08-08\",\"2019-08-09\",\"2019-08-13\",\"2019-08-14\",\"2019-08-15\",\"2019-08-16\",\"2019-08-19\",\"2019-08-20\",\"2019-08-21\",\"2019-08-22\",\"2019-08-23\",\"2019-08-26\",\"2019-08-27\",\"2019-08-28\",\"2019-08-29\",\"2019-08-30\",\"2019-09-02\",\"2019-09-03\",\"2019-09-04\",\"2019-09-05\",\"2019-09-06\",\"2019-09-09\",\"2019-09-10\",\"2019-09-11\",\"2019-09-12\",\"2019-09-13\",\"2019-09-17\",\"2019-09-18\",\"2019-09-19\",\"2019-09-20\",\"2019-09-24\",\"2019-09-25\",\"2019-09-26\",\"2019-09-27\",\"2019-09-30\",\"2019-10-01\",\"2019-10-02\",\"2019-10-03\",\"2019-10-04\",\"2019-10-07\",\"2019-10-08\",\"2019-10-09\",\"2019-10-10\",\"2019-10-11\",\"2019-10-15\",\"2019-10-16\",\"2019-10-17\",\"2019-10-18\",\"2019-10-21\",\"2019-10-23\",\"2019-10-24\",\"2019-10-25\",\"2019-10-28\",\"2019-10-29\",\"2019-10-30\",\"2019-10-31\",\"2019-11-01\",\"2019-11-05\",\"2019-11-06\",\"2019-11-07\",\"2019-11-08\",\"2019-11-11\",\"2019-11-12\",\"2019-11-13\",\"2019-11-14\",\"2019-11-15\",\"2019-11-18\",\"2019-11-19\",\"2019-11-20\",\"2019-11-21\",\"2019-11-22\",\"2019-11-25\",\"2019-11-26\",\"2019-11-27\",\"2019-11-28\",\"2019-11-29\",\"2019-12-02\",\"2019-12-03\",\"2019-12-04\",\"2019-12-05\",\"2019-12-06\",\"2019-12-09\",\"2019-12-10\",\"2019-12-11\",\"2019-12-12\",\"2019-12-13\",\"2019-12-16\",\"2019-12-17\",\"2019-12-18\",\"2019-12-19\",\"2019-12-20\",\"2019-12-23\",\"2019-12-24\",\"2019-12-25\",\"2019-12-26\",\"2019-12-27\",\"2019-12-30\",\"2020-01-06\",\"2020-01-07\",\"2020-01-08\",\"2020-01-09\",\"2020-01-10\",\"2020-01-14\",\"2020-01-15\",\"2020-01-16\",\"2020-01-17\",\"2020-01-20\",\"2020-01-21\",\"2020-01-22\",\"2020-01-23\",\"2020-01-24\",\"2020-01-27\",\"2020-01-28\",\"2020-01-29\",\"2020-01-30\",\"2020-01-31\",\"2020-02-03\",\"2020-02-04\",\"2020-02-05\",\"2020-02-06\",\"2020-02-07\",\"2020-02-10\",\"2020-02-12\",\"2020-02-13\",\"2020-02-14\",\"2020-02-17\",\"2020-02-18\",\"2020-02-19\",\"2020-02-20\",\"2020-02-21\",\"2020-02-25\",\"2020-02-26\",\"2020-02-27\",\"2020-02-28\",\"2020-03-02\",\"2020-03-03\",\"2020-03-04\",\"2020-03-05\",\"2020-03-06\",\"2020-03-09\",\"2020-03-10\",\"2020-03-11\",\"2020-03-12\",\"2020-03-13\",\"2020-03-16\",\"2020-03-17\",\"2020-03-18\",\"2020-03-19\",\"2020-03-23\",\"2020-03-24\",\"2020-03-25\",\"2020-03-26\",\"2020-03-27\",\"2020-03-30\",\"2020-03-31\",\"2020-04-01\",\"2020-04-02\",\"2020-04-03\",\"2020-04-06\",\"2020-04-07\",\"2020-04-08\",\"2020-04-09\",\"2020-04-10\",\"2020-04-13\",\"2020-04-14\",\"2020-04-15\",\"2020-04-16\",\"2020-04-17\",\"2020-04-20\",\"2020-04-21\",\"2020-04-22\",\"2020-04-23\",\"2020-04-24\",\"2020-04-27\",\"2020-04-28\",\"2020-04-30\",\"2020-05-01\",\"2020-05-07\",\"2020-05-08\",\"2020-05-11\",\"2020-05-12\",\"2020-05-13\",\"2020-05-14\",\"2020-05-15\",\"2020-05-18\",\"2020-05-19\",\"2020-05-20\",\"2020-05-21\",\"2020-05-22\",\"2020-05-25\",\"2020-05-26\",\"2020-05-27\",\"2020-05-28\",\"2020-05-29\",\"2020-06-01\",\"2020-06-02\",\"2020-06-03\",\"2020-06-04\",\"2020-06-05\",\"2020-06-08\",\"2020-06-09\",\"2020-06-10\",\"2020-06-11\",\"2020-06-12\",\"2020-06-15\",\"2020-06-16\",\"2020-06-17\",\"2020-06-18\",\"2020-06-19\",\"2020-06-22\",\"2020-06-23\",\"2020-06-24\",\"2020-06-25\",\"2020-06-26\",\"2020-06-29\",\"2020-06-30\",\"2020-07-01\",\"2020-07-02\",\"2020-07-03\",\"2020-07-06\",\"2020-07-07\",\"2020-07-08\",\"2020-07-09\",\"2020-07-10\",\"2020-07-13\",\"2020-07-14\",\"2020-07-15\",\"2020-07-16\",\"2020-07-17\",\"2020-07-20\",\"2020-07-21\",\"2020-07-22\",\"2020-07-27\",\"2020-07-28\",\"2020-07-29\",\"2020-07-30\",\"2020-07-31\",\"2020-08-03\",\"2020-08-04\",\"2020-08-05\",\"2020-08-06\",\"2020-08-07\",\"2020-08-11\",\"2020-08-12\",\"2020-08-13\",\"2020-08-14\",\"2020-08-17\",\"2020-08-18\",\"2020-08-19\",\"2020-08-20\",\"2020-08-21\",\"2020-08-24\",\"2020-08-25\",\"2020-08-26\",\"2020-08-27\",\"2020-08-28\",\"2020-08-31\",\"2020-09-01\",\"2020-09-02\",\"2020-09-03\",\"2020-09-04\",\"2020-09-07\",\"2020-09-08\",\"2020-09-09\",\"2020-09-10\",\"2020-09-11\",\"2020-09-14\",\"2020-09-15\",\"2020-09-16\",\"2020-09-17\",\"2020-09-18\",\"2020-09-23\",\"2020-09-24\",\"2020-09-25\",\"2020-09-28\",\"2020-09-29\",\"2020-09-30\",\"2020-10-01\",\"2020-10-02\",\"2020-10-05\",\"2020-10-06\",\"2020-10-07\",\"2020-10-08\",\"2020-10-09\",\"2020-10-12\",\"2020-10-13\",\"2020-10-14\",\"2020-10-15\",\"2020-10-16\",\"2020-10-19\",\"2020-10-20\",\"2020-10-21\",\"2020-10-22\",\"2020-10-23\",\"2020-10-26\",\"2020-10-27\",\"2020-10-28\",\"2020-10-29\",\"2020-10-30\",\"2020-11-02\",\"2020-11-04\",\"2020-11-05\",\"2020-11-06\",\"2020-11-09\",\"2020-11-10\",\"2020-11-11\",\"2020-11-12\",\"2020-11-13\",\"2020-11-16\",\"2020-11-17\",\"2020-11-18\",\"2020-11-19\",\"2020-11-20\",\"2020-11-24\",\"2020-11-25\",\"2020-11-26\",\"2020-11-27\",\"2020-11-30\",\"2020-12-01\",\"2020-12-02\",\"2020-12-03\",\"2020-12-04\",\"2020-12-07\",\"2020-12-08\",\"2020-12-09\",\"2020-12-10\",\"2020-12-11\",\"2020-12-14\",\"2020-12-15\",\"2020-12-16\",\"2020-12-17\",\"2020-12-18\",\"2020-12-21\",\"2020-12-22\",\"2020-12-23\",\"2020-12-24\",\"2020-12-25\",\"2020-12-28\",\"2020-12-29\",\"2020-12-30\",\"2021-01-04\",\"2021-01-05\",\"2021-01-06\",\"2021-01-07\",\"2021-01-08\",\"2021-01-12\",\"2021-01-13\",\"2021-01-14\",\"2021-01-15\",\"2021-01-18\",\"2021-01-19\",\"2021-01-20\",\"2021-01-21\",\"2021-01-22\",\"2021-01-25\",\"2021-01-26\",\"2021-01-27\",\"2021-01-28\",\"2021-01-29\",\"2021-02-01\",\"2021-02-02\",\"2021-02-03\",\"2021-02-04\",\"2021-02-05\",\"2021-02-08\",\"2021-02-09\",\"2021-02-10\",\"2021-02-12\",\"2021-02-15\",\"2021-02-16\",\"2021-02-17\",\"2021-02-18\",\"2021-02-19\",\"2021-02-22\",\"2021-02-24\",\"2021-02-25\",\"2021-02-26\",\"2021-03-01\",\"2021-03-02\",\"2021-03-03\",\"2021-03-04\",\"2021-03-05\",\"2021-03-08\",\"2021-03-09\",\"2021-03-10\",\"2021-03-11\",\"2021-03-12\",\"2021-03-15\",\"2021-03-16\",\"2021-03-17\",\"2021-03-18\",\"2021-03-19\",\"2021-03-22\",\"2021-03-23\",\"2021-03-24\",\"2021-03-25\",\"2021-03-26\",\"2021-03-29\",\"2021-03-30\",\"2021-03-31\",\"2021-04-01\",\"2021-04-02\",\"2021-04-05\",\"2021-04-06\",\"2021-04-07\",\"2021-04-08\",\"2021-04-09\",\"2021-04-12\",\"2021-04-13\",\"2021-04-14\",\"2021-04-15\",\"2021-04-16\",\"2021-04-19\",\"2021-04-20\",\"2021-04-21\",\"2021-04-22\",\"2021-04-23\",\"2021-04-26\",\"2021-04-27\",\"2021-04-28\",\"2021-04-30\",\"2021-05-06\",\"2021-05-07\",\"2021-05-10\",\"2021-05-11\",\"2021-05-12\",\"2021-05-13\",\"2021-05-14\",\"2021-05-17\",\"2021-05-18\",\"2021-05-19\",\"2021-05-20\",\"2021-05-21\",\"2021-05-24\",\"2021-05-25\",\"2021-05-26\",\"2021-05-27\",\"2021-05-28\",\"2021-05-31\",\"2021-06-01\",\"2021-06-02\",\"2021-06-03\",\"2021-06-04\",\"2021-06-07\",\"2021-06-08\",\"2021-06-09\",\"2021-06-10\",\"2021-06-11\",\"2021-06-14\",\"2021-06-15\",\"2021-06-16\",\"2021-06-17\",\"2021-06-18\",\"2021-06-21\",\"2021-06-22\",\"2021-06-23\",\"2021-06-24\",\"2021-06-25\",\"2021-06-28\",\"2021-06-29\",\"2021-06-30\",\"2021-07-01\",\"2021-07-02\",\"2021-07-05\",\"2021-07-06\",\"2021-07-07\",\"2021-07-08\",\"2021-07-09\",\"2021-07-12\",\"2021-07-13\",\"2021-07-14\",\"2021-07-15\",\"2021-07-16\",\"2021-07-19\",\"2021-07-20\",\"2021-07-21\",\"2021-07-26\",\"2021-07-27\",\"2021-07-28\",\"2021-07-29\",\"2021-07-30\",\"2021-08-02\",\"2021-08-03\",\"2021-08-04\",\"2021-08-05\",\"2021-08-06\",\"2021-08-10\",\"2021-08-11\",\"2021-08-12\",\"2021-08-13\",\"2021-08-16\",\"2021-08-17\",\"2021-08-18\",\"2021-08-19\",\"2021-08-20\",\"2021-08-23\",\"2021-08-24\",\"2021-08-25\",\"2021-08-26\",\"2021-08-27\",\"2021-08-30\",\"2021-08-31\",\"2021-09-01\",\"2021-09-02\",\"2021-09-03\",\"2021-09-06\",\"2021-09-07\",\"2021-09-08\",\"2021-09-09\",\"2021-09-10\",\"2021-09-13\",\"2021-09-14\",\"2021-09-15\",\"2021-09-16\",\"2021-09-17\",\"2021-09-21\",\"2021-09-22\",\"2021-09-24\",\"2021-09-27\",\"2021-09-28\",\"2021-09-29\",\"2021-09-30\",\"2021-10-01\",\"2021-10-04\",\"2021-10-05\",\"2021-10-06\",\"2021-10-07\",\"2021-10-08\",\"2021-10-11\",\"2021-10-12\",\"2021-10-13\",\"2021-10-14\",\"2021-10-15\",\"2021-10-18\",\"2021-10-19\",\"2021-10-20\",\"2021-10-21\",\"2021-10-22\",\"2021-10-25\",\"2021-10-26\",\"2021-10-27\",\"2021-10-28\",\"2021-10-29\",\"2021-11-01\",\"2021-11-02\",\"2021-11-04\",\"2021-11-05\",\"2021-11-08\",\"2021-11-09\",\"2021-11-10\",\"2021-11-11\",\"2021-11-12\",\"2021-11-15\",\"2021-11-16\",\"2021-11-17\",\"2021-11-18\",\"2021-11-19\",\"2021-11-22\",\"2021-11-24\",\"2021-11-25\",\"2021-11-26\",\"2021-11-29\",\"2021-11-30\",\"2021-12-01\",\"2021-12-02\",\"2021-12-03\"],\"type\":\"candlestick\"},{\"close\":[1550.0,1538.0,1555.0,1563.0,1563.0,1521.0,1538.0,1524.0,1512.0,1491.0,1496.0,1512.0,1502.0,1493.0,1504.0,1513.0,1517.0,1492.0,1481.0,1487.0,1456.0,1441.0,1448.0,1453.0,1442.0,1465.0,1466.0,1450.0,1441.0,1444.0,1432.0,1425.0,1435.0,1448.0,1447.0,1452.0,1434.0,1438.0,1450.0,1463.0,1471.0,1463.0,1470.0,1455.0,1445.0,1453.0,1473.0,1467.0,1473.0,1469.0,1472.0,1479.0,1469.0,1460.0,1464.0,1454.0,1442.0,1472.0,1486.0,1493.0,1463.0,1461.0,1431.0,1433.0,1400.0,1389.0,1441.0,1436.0,1429.0,1397.0,1401.0,1410.0,1410.0,1400.0,1384.0,1377.0,1392.0,1407.0,1440.0,1454.0,1429.0,1443.0,1452.0,1471.0,1460.0,1471.0,1474.0,1465.0,1478.0,1488.0,1501.0,1491.0,1484.0,1481.0,1477.0,1477.0,1492.0,1497.0,1468.0,1462.0,1446.0,1464.0,1484.0,1474.0,1474.0,1488.0,1468.0,1470.0,1478.0,1473.0,1452.0,1460.0,1473.0,1479.0,1492.0,1475.0,1475.0,1490.0,1486.0,1482.0,1462.0,1458.0,1454.0,1438.0,1448.0,1452.0,1451.0,1449.0,1451.0,1453.0,1476.0,1489.0,1491.0,1482.0,1479.0,1476.0,1459.0,1449.0,1477.0,1453.0,1453.0,1474.0,1442.0,1461.0,1453.0,1456.0,1457.0,1460.0,1473.0,1454.0,1472.0,1465.0,1467.0,1473.0,1462.0,1459.0,1474.0,1454.0,1455.0,1456.0,1469.0,1489.0,1498.0,1494.0,1490.0,1495.0,1475.0,1469.0,1488.0,1534.0,1517.0,1511.0,1510.0,1502.0,1515.0,1506.0,1514.0,1526.0,1546.0,1542.0,1550.0,1560.0,1575.0,1560.0,1554.0,1556.0,1568.0,1621.0,1606.0,1597.0,1564.0,1551.0,1572.0,1583.0,1603.0,1609.0,1610.0,1588.0,1589.0,1598.0,1613.0,1620.0,1640.0,1660.0,1683.0,1694.0,1730.0,1730.0,1732.0,1716.0,1737.0,1747.0,1709.0,1634.0,1643.0,1660.0,1669.0,1686.0,1692.0,1716.0,1730.0,1758.0,1749.0,1754.0,1737.0,1683.0,1675.0,1692.0,1740.0,1724.0,1750.0,1768.0,1768.0,1744.0,1729.0,1740.0,1757.0,1725.0,1722.0,1721.0,1726.0,1706.0,1709.0,1710.0,1733.0,1723.0,1702.0,1725.0,1769.0,1753.0,1769.0,1754.0,1748.0,1733.0,1707.0,1705.0,1699.0,1704.0,1715.0,1710.0,1707.0,1697.0,1705.0,1707.0,1662.0,1635.0,1656.0,1639.0,1619.0,1546.0,1582.0,1544.0,1528.0,1552.0,1562.0,1552.0,1567.0,1605.0,1594.0,1604.0,1589.0,1602.0,1641.0,1659.0,1656.0,1620.0,1569.0,1546.0,1563.0,1535.0,1552.0,1572.0,1591.0,1597.0,1588.0,1592.0,1574.0,1580.0,1574.0,1559.0,1536.0,1550.0,1562.0,1546.0,1551.0,1574.0,1571.0,1549.0,1578.0,1580.0,1571.0,1580.0,1598.0,1596.0,1618.0,1616.0,1625.0,1608.0,1596.0,1594.0,1601.0,1598.0,1649.0,1642.0,1663.0,1667.0,1642.0,1666.0,1671.0,1663.0,1670.0,1655.0,1664.0,1667.0,1683.0,1677.0,1686.0,1680.0,1684.0,1698.0,1713.0,1711.0,1708.0,1666.0,1636.0,1604.0,1612.0,1614.0,1656.0,1593.0,1585.0,1610.0,1609.0,1599.0,1612.0,1615.0,1621.0,1590.0,1550.0,1544.0,1561.0,1574.0,1644.0,1645.0,1669.0,1675.0,1693.0,1686.0,1678.0,1678.0,1660.0,1640.0,1646.0,1662.0,1661.0,1611.0,1648.0,1676.0,1679.0,1687.0,1672.0,1650.0,1665.0,1663.0,1655.0,1658.0,1672.0,1628.0,1614.0,1594.0,1596.0,1582.0,1541.0,1544.0,1537.0,1502.0,1503.0,1508.0,1527.0,1513.0,1516.0,1501.0,1490.0,1470.0,1436.0,1458.0,1502.0,1526.0,1551.0,1554.0,1545.0,1521.0,1526.0,1514.0,1513.0,1509.0,1521.0,1527.0,1560.0,1571.0,1554.0,1544.0,1578.0,1584.0,1597.0,1579.0,1650.0,1640.0,1536.0,1550.0,1590.0,1597.0,1576.0,1626.0,1613.0,1572.0,1561.0,1525.0,1519.0,1483.0,1453.0,1451.0,1460.0,1450.0,1451.0,1450.0,1466.0,1430.0,1420.0,1415.0,1420.0,1454.0,1436.0,1426.0,1420.0,1430.0,1428.0,1455.0,1466.0,1455.0,1420.0,1395.0,1434.0,1420.0,1419.0,1438.0,1440.0,1440.0,1448.0,1449.0,1433.0,1417.0,1437.0,1433.0,1412.0,1402.0,1401.0,1385.0,1378.0,1359.0,1358.0,1364.0,1361.0,1357.0,1341.0,1323.0,1308.0,1290.0,1275.0,1239.0,1307.0,1354.0,1373.0,1372.0,1369.0,1356.0,1309.0,1296.0,1315.0,1313.0,1308.0,1286.0,1279.0,1270.0,1267.0,1262.0,1269.0,1268.0,1252.0,1286.0,1276.0,1263.0,1285.0,1314.0,1329.0,1312.0,1288.0,1317.0,1295.0,1300.0,1296.0,1324.0,1335.0,1328.0,1334.0,1332.0,1362.0,1365.0,1358.0,1357.0,1364.0,1368.0,1368.0,1361.0,1374.0,1336.0,1339.0,1359.0,1337.0,1393.0,1360.0,1378.0,1379.0,1384.0,1394.0,1344.0,1428.0,1400.0,1442.0,1405.0,1428.0,1434.0,1441.0,1449.0,1437.0,1444.0,1460.0,1444.0,1450.0,1455.0,1442.0,1418.0,1409.0,1375.0,1372.0,1353.0,1352.0,1317.0,1344.0,1352.0,1378.0,1332.0,1338.0,1318.0,1318.0,1355.0,1321.0,1329.0,1370.0,1382.0,1393.0,1379.0,1399.0,1395.0,1400.0,1372.0,1321.0,1351.0,1351.0,1330.0,1299.0,1284.0,1291.0,1279.0,1284.0,1307.0,1302.0,1300.0,1290.0,1277.0,1262.0,1289.0,1305.0,1312.0,1317.0,1320.0,1300.0,1303.0,1301.0,1306.0,1320.0,1317.0,1329.0,1359.0,1356.0,1364.0,1312.0,1328.0,1310.0,1299.0,1295.0,1267.0,1286.0,1278.0,1293.0,1303.0,1290.0,1275.0,1284.0,1305.0,1279.0,1287.0,1265.0,1241.0,1253.0,1224.0,1194.0,1194.0,1132.0,1163.0,1167.0,1141.0,1137.0,1137.0,1134.0,1134.0,1133.0,1116.0,1121.0,1126.0,1144.0,1140.0,1134.0,1139.0,1134.0,1140.0,1141.0,1140.0,1140.0,1170.0,1193.0,1235.0,1256.0,1252.0,1253.0,1283.0,1305.0,1307.0,1313.0,1323.0,1288.0,1285.0,1316.0,1308.0,1307.0,1293.0,1306.0,1305.0,1303.0,1305.0,1309.0,1338.0,1342.0,1336.0,1344.0,1336.0,1338.0,1349.0,1349.0,1357.0,1459.0,1518.0,1494.0,1498.0,1494.0,1500.0,1506.0,1508.0,1502.0,1509.0,1494.0,1550.0,1542.0,1532.0,1535.0,1538.0,1549.0,1548.0,1522.0,1535.0,1538.0,1530.0,1522.0,1508.0,1506.0,1499.0,1515.0,1568.0,1499.0,1483.0,1499.0,1474.0,1497.0,1497.0,1494.0,1490.0,1484.0,1487.0,1483.0,1471.0,1491.0,1484.0,1463.0,1400.0,1432.0,1410.0,1419.0,1425.0,1439.0,1405.0,1417.0,1392.0,1396.0,1409.0,1404.0,1375.0,1372.0,1311.0,1299.0,1252.0,1265.0,1279.0,1276.0,1276.0,1298.0,1331.0,1333.0,1331.0,1335.0,1334.0,1339.0,1347.0,1337.0,1325.0,1325.0,1272.0,1201.0,1207.0,1180.0,1149.0,1192.0,1156.0,1163.0,1175.0,1151.0,1090.0,1068.0,1047.0,980.0,900.0,957.0,993.0,1018.0,1014.0,1105.0,1193.0,1191.0,1198.0,1437.0,1350.0,1335.0,1261.0,1243.0,1253.0,1450.0,1421.0,1450.0,1477.0,1443.0,1453.0,1439.0,1416.0,1500.0,1473.0,1469.0,1500.0,1472.0,1490.0,1469.0,1485.0,1450.0,1478.0,1485.0,1495.0,1421.0,1429.0,1440.0,1470.0,1481.0,1480.0,1477.0,1494.0,1479.0,1484.0,1489.0,1497.0,1500.0,1500.0,1491.0,1426.0,1393.0,1422.0,1431.0,1424.0,1430.0,1423.0,1429.0,1436.0,1422.0,1422.0,1436.0,1456.0,1467.0,1473.0,1500.0,1497.0,1504.0,1459.0,1464.0,1431.0,1428.0,1432.0,1486.0,1478.0,1496.0,1490.0,1477.0,1440.0,1410.0,1311.0,1321.0,1320.0,1466.0,1443.0,1433.0,1458.0,1460.0,1413.0,1450.0,1433.0,1422.0,1431.0,1400.0,1382.0,1418.0,1445.0,1430.0,1409.0,1450.0,1476.0,1488.0,1491.0,1487.0,1422.0,1412.0,1405.0,1405.0,1412.0,1410.0,1408.0,1411.0,1410.0,1424.0,1391.0,1417.0,1421.0,1370.0,1395.0,1430.0,1419.0,1439.0,1466.0,1500.0,1500.0,1537.0,1555.0,1533.0,1559.0,1575.0,1597.0,1627.0,1602.0,1622.0,null,1580.0,1615.0,1588.0,1541.0,1502.0,1510.0,1549.0,1532.0,1594.0,1583.0,1577.0,1549.0,1533.0,1542.0,1541.0,1526.0,1532.0,1532.0,1527.0,1513.0,1512.0,1518.0,1505.0,1541.0,1530.0,1550.0,1584.0,1608.0,1593.0,1591.0,1594.0,1585.0,1550.0,1545.0,1547.0,1586.0,1557.0,1547.0,1558.0,1543.0,1529.0,1537.0,1548.0,1532.0,1515.0,1495.0,1506.0,1545.0,1555.0,1563.0,1551.0,1553.0,1575.0,1568.0,1596.0,1585.0,1586.0,1580.0,1565.0,1552.0,1596.0,1575.0,1588.0,1579.0,1560.0,1579.0,1598.0,1590.0,1590.0,1624.0,1567.0,1555.0,1547.0,1540.0,1551.0,1534.0,1553.0,1590.0,1582.0,1604.0,1584.0,1568.0,1573.0,1578.0,1553.0,1559.0,1602.0,1599.0,1575.0,1592.0,1596.0,1597.0,1590.0,1580.0,1577.0,1597.0,1598.0,1590.0,1580.0,1590.0,1573.0,1578.0,1593.0,1600.0,1609.0,1603.0,1602.0,1603.0,1591.0,1614.0,1627.0,1630.0,1620.0,1658.0,1662.0,1630.0,1639.0,1642.0,1625.0,1644.0,1614.0,1627.0,1669.0,1670.0,1688.0,1614.0,1642.0,1650.0,1657.0,1637.0,1650.0,1655.0,1665.0,1666.0,1665.0,1651.0,1644.0,1653.0,1630.0,1595.0,1568.0,1580.0,1571.0,1552.0,1554.0,1573.0,1560.0,1560.0,1530.0,1544.0,1541.0,1553.0,1546.0,1554.0,1550.0,1564.0,1550.0,1545.0,1540.0,1524.0,1476.0,1485.0,1486.0,1492.0,1496.0,1500.0,1492.0,1491.0,1501.0,1483.0,1496.0,1480.0,1484.0,1483.0,1481.0,1450.0,1454.0,1461.0,1490.0,1486.0,1485.0,1475.0,1481.0,1475.0,1480.0,1477.0,1483.0,1475.0,1445.0,1449.0,1467.0,1469.0,1471.0,1436.0,1438.0,1420.0,1410.0,1425.0,1431.0,1441.0,1427.0,1452.0,1426.0,1450.0,1444.0,1440.0,1444.0,1453.0,1460.0,1470.0,1478.0,1483.0,1481.0,1481.0,1479.0,1461.0,1466.0,1500.0,1509.0,1496.0,1504.0,1500.0,1502.0,1494.0,1500.0,1482.0,1483.0,1487.0,1513.0,1511.0,1515.0,1545.0,1560.0,1580.0,1580.0,1576.0,1585.0,1542.0,1554.0,1580.0,1574.0,1576.0,1565.0,1550.0,1512.0,1517.0,1430.0,1435.0,1430.0,1438.0,1448.0,1440.0,1443.0,1455.0,1488.0,1461.0,1474.0,1479.0,1479.0,1475.0,1472.0,1459.0,1462.0,1518.0,1502.0,1518.0,1510.0,1516.0,1500.0,1494.0,1473.0,1454.0,1418.0,1448.0,1421.0,1435.0,1426.0,1425.0,1420.0,1414.0,1413.0,1415.0,1407.0,1381.0,1348.0,1353.0,1327.0,1332.0],\"high\":[1550.0,1579.0,1564.0,1563.0,1569.0,1564.0,1548.0,1536.0,1548.0,1508.0,1518.0,1515.0,1510.0,1515.0,1514.0,1520.0,1527.0,1529.0,1498.0,1498.0,1480.0,1457.0,1471.0,1460.0,1457.0,1476.0,1473.0,1470.0,1450.0,1447.0,1447.0,1434.0,1436.0,1448.0,1460.0,1477.0,1456.0,1478.0,1460.0,1463.0,1480.0,1472.0,1476.0,1470.0,1461.0,1471.0,1483.0,1499.0,1482.0,1478.0,1481.0,1485.0,1476.0,1474.0,1474.0,1470.0,1460.0,1480.0,1489.0,1494.0,1497.0,1486.0,1474.0,1441.0,1433.0,1409.0,1463.0,1462.0,1456.0,1438.0,1427.0,1414.0,1433.0,1426.0,1415.0,1392.0,1407.0,1412.0,1441.0,1461.0,1454.0,1452.0,1467.0,1475.0,1465.0,1475.0,1475.0,1477.0,1480.0,1489.0,1503.0,1499.0,1489.0,1487.0,1480.0,1483.0,1496.0,1500.0,1482.0,1468.0,1467.0,1471.0,1497.0,1484.0,1485.0,1491.0,1492.0,1480.0,1480.0,1478.0,1473.0,1462.0,1473.0,1480.0,1499.0,1499.0,1477.0,1498.0,1494.0,1486.0,1474.0,1463.0,1477.0,1463.0,1450.0,1463.0,1464.0,1460.0,1457.0,1458.0,1479.0,1493.0,1495.0,1492.0,1479.0,1486.0,1478.0,1450.0,1478.0,1481.0,1467.0,1474.0,1474.0,1462.0,1460.0,1458.0,1458.0,1461.0,1474.0,1465.0,1477.0,1471.0,1474.0,1479.0,1485.0,1476.0,1474.0,1470.0,1465.0,1468.0,1469.0,1489.0,1500.0,1498.0,1499.0,1500.0,1484.0,1485.0,1499.0,1539.0,1538.0,1527.0,1525.0,1510.0,1515.0,1515.0,1519.0,1530.0,1549.0,1549.0,1560.0,1560.0,1575.0,1575.0,1563.0,1561.0,1568.0,1780.0,1640.0,1597.0,1600.0,1576.0,1579.0,1591.0,1635.0,1610.0,1610.0,1610.0,1596.0,1616.0,1615.0,1625.0,1645.0,1668.0,1690.0,1695.0,1745.0,1731.0,1748.0,1718.0,1739.0,1770.0,1734.0,1725.0,1658.0,1699.0,1699.0,1697.0,1698.0,1734.0,1760.0,1769.0,1762.0,1757.0,1747.0,1715.0,1699.0,1700.0,1741.0,1820.0,1776.0,1783.0,1770.0,1770.0,1747.0,1745.0,1758.0,1758.0,1734.0,1721.0,1729.0,1723.0,1728.0,1715.0,1739.0,1736.0,1725.0,1740.0,1781.0,1753.0,1784.0,1769.0,1760.0,1765.0,1729.0,1719.0,1716.0,1714.0,1715.0,1726.0,1717.0,1720.0,1715.0,1719.0,1707.0,1665.0,1665.0,1661.0,1671.0,1620.0,1648.0,1597.0,1548.0,1575.0,1582.0,1591.0,1600.0,1624.0,1608.0,1615.0,1612.0,1699.0,1643.0,1679.0,1683.0,1650.0,1607.0,1570.0,1596.0,1600.0,1566.0,1636.0,1617.0,1606.0,1600.0,1628.0,1600.0,1585.0,1580.0,1573.0,1553.0,1574.0,1583.0,1595.0,1580.0,1599.0,1600.0,1595.0,1600.0,1600.0,1599.0,1600.0,1624.0,1610.0,1629.0,1635.0,1667.0,1650.0,1631.0,1596.0,1602.0,1635.0,1649.0,1660.0,1665.0,1670.0,1664.0,1670.0,1680.0,1674.0,1675.0,1674.0,1664.0,1674.0,1691.0,1686.0,1689.0,1689.0,1684.0,1700.0,1713.0,1711.0,1724.0,1725.0,1645.0,1642.0,1623.0,1628.0,1656.0,1677.0,1607.0,1610.0,1613.0,1603.0,1615.0,1615.0,1627.0,1678.0,1590.0,1555.0,1562.0,1593.0,1650.0,1666.0,1682.0,1685.0,1694.0,1697.0,1697.0,1692.0,1667.0,1674.0,1656.0,1670.0,1710.0,1668.0,1669.0,1690.0,1700.0,1695.0,1677.0,1672.0,1673.0,1665.0,1672.0,1668.0,1674.0,1664.0,1630.0,1615.0,1615.0,1618.0,1582.0,1555.0,1557.0,1538.0,1545.0,1520.0,1527.0,1567.0,1527.0,1547.0,1502.0,1494.0,1457.0,1466.0,1514.0,1544.0,1554.0,1565.0,1563.0,1557.0,1548.0,1540.0,1549.0,1536.0,1524.0,1531.0,1560.0,1578.0,1579.0,1548.0,1581.0,1584.0,1597.0,1599.0,1670.0,1666.0,1639.0,1616.0,1591.0,1600.0,1590.0,1628.0,1623.0,1581.0,1582.0,1561.0,1551.0,1554.0,1480.0,1470.0,1475.0,1468.0,1472.0,1451.0,1466.0,1467.0,1445.0,1446.0,1433.0,1456.0,1464.0,1439.0,1462.0,1443.0,1457.0,1467.0,1475.0,1464.0,1455.0,1422.0,1436.0,1431.0,1432.0,1439.0,1465.0,1453.0,1493.0,1478.0,1441.0,1457.0,1446.0,1452.0,1459.0,1436.0,1427.0,1401.0,1444.0,1378.0,1370.0,1374.0,1371.0,1363.0,1364.0,1339.0,1332.0,1309.0,1275.0,1308.0,1314.0,1356.0,1396.0,1400.0,1404.0,1368.0,1357.0,1320.0,1348.0,1326.0,1327.0,1313.0,1307.0,1286.0,1277.0,1277.0,1284.0,1284.0,1278.0,1290.0,1307.0,1285.0,1288.0,1314.0,1332.0,1314.0,1308.0,1317.0,1324.0,1320.0,1325.0,1326.0,1347.0,1343.0,1336.0,1338.0,1379.0,1365.0,1365.0,1365.0,1364.0,1381.0,1378.0,1368.0,1374.0,1365.0,1348.0,1362.0,1358.0,1396.0,1389.0,1387.0,1384.0,1384.0,1394.0,1381.0,1428.0,1429.0,1444.0,1448.0,1428.0,1448.0,1443.0,1450.0,1440.0,1448.0,1460.0,1458.0,1451.0,1455.0,1445.0,1441.0,1429.0,1401.0,1385.0,1367.0,1361.0,1345.0,1349.0,1359.0,1404.0,1349.0,1349.0,1371.0,1356.0,1355.0,1396.0,1380.0,1377.0,1408.0,1400.0,1400.0,1400.0,1420.0,1400.0,1397.0,1356.0,1351.0,1366.0,1351.0,1319.0,1292.0,1303.0,1293.0,1297.0,1308.0,1312.0,1308.0,1294.0,1306.0,1285.0,1290.0,1309.0,1329.0,1321.0,1324.0,1317.0,1323.0,1316.0,1310.0,1347.0,1337.0,1345.0,1377.0,1375.0,1367.0,1400.0,1329.0,1327.0,1325.0,1296.0,1304.0,1289.0,1299.0,1296.0,1303.0,1300.0,1300.0,1285.0,1305.0,1299.0,1287.0,1294.0,1273.0,1264.0,1241.0,1245.0,1233.0,1197.0,1166.0,1169.0,1150.0,1158.0,1140.0,1138.0,1140.0,1140.0,1139.0,1139.0,1128.0,1144.0,1148.0,1145.0,1140.0,1140.0,1140.0,1143.0,1159.0,1140.0,1170.0,1208.0,1236.0,1281.0,1260.0,1253.0,1290.0,1305.0,1309.0,1313.0,1323.0,1311.0,1299.0,1319.0,1308.0,1308.0,1310.0,1313.0,1309.0,1312.0,1320.0,1321.0,1338.0,1350.0,1346.0,1349.0,1340.0,1345.0,1350.0,1349.0,1360.0,1519.0,1526.0,1503.0,1500.0,1498.0,1500.0,1510.0,1508.0,1508.0,1509.0,1509.0,1550.0,1560.0,1539.0,1536.0,1543.0,1549.0,1550.0,1549.0,1542.0,1538.0,1532.0,1528.0,1513.0,1507.0,1507.0,1515.0,1573.0,1567.0,1500.0,1503.0,1521.0,1497.0,1497.0,1494.0,1497.0,1492.0,1498.0,1492.0,1477.0,1491.0,1490.0,1486.0,1462.0,1447.0,1439.0,1435.0,1427.0,1447.0,1424.0,1429.0,1438.0,1405.0,1420.0,1409.0,1412.0,1389.0,1378.0,1357.0,1310.0,1267.0,1293.0,1279.0,1278.0,1299.0,1344.0,1338.0,1339.0,1343.0,1344.0,1339.0,1399.0,1348.0,1350.0,1336.0,1331.0,1257.0,1215.0,1230.0,1200.0,1197.0,1218.0,1194.0,1220.0,1187.0,1151.0,1070.0,1063.0,1040.0,917.0,988.0,994.0,1035.0,1086.0,1105.0,1195.0,1194.0,1198.0,1437.0,1380.0,1350.0,1325.0,1281.0,1280.0,1527.0,1449.0,1450.0,1477.0,1479.0,1460.0,1466.0,1455.0,1500.0,1500.0,1500.0,1500.0,1500.0,1493.0,1488.0,1487.0,1474.0,1490.0,1494.0,1495.0,1497.0,1430.0,1440.0,1470.0,1481.0,1493.0,1477.0,1495.0,1494.0,1488.0,1489.0,1497.0,1500.0,1500.0,1514.0,1480.0,1422.0,1447.0,1443.0,1431.0,1443.0,1431.0,1431.0,1442.0,1433.0,1431.0,1451.0,1456.0,1474.0,1479.0,1500.0,1500.0,1526.0,1516.0,1485.0,1469.0,1474.0,1461.0,1500.0,1493.0,1498.0,1502.0,1502.0,1488.0,1450.0,1430.0,1347.0,1381.0,1469.0,1475.0,1461.0,1458.0,1460.0,1467.0,1459.0,1459.0,1449.0,1450.0,1422.0,1430.0,1418.0,1445.0,1435.0,1435.0,1450.0,1478.0,1488.0,1491.0,1496.0,1477.0,1418.0,1405.0,1419.0,1417.0,1425.0,1417.0,1418.0,1430.0,1435.0,1426.0,1434.0,1438.0,1425.0,1400.0,1430.0,1444.0,1450.0,1466.0,1500.0,1500.0,1539.0,1555.0,1576.0,1559.0,1575.0,1598.0,1627.0,1625.0,1622.0,null,1626.0,1639.0,1601.0,1590.0,1543.0,1510.0,1554.0,1550.0,1594.0,1597.0,1583.0,1552.0,1548.0,1544.0,1549.0,1530.0,1532.0,1532.0,1527.0,1527.0,1514.0,1522.0,1515.0,1545.0,1554.0,1572.0,1584.0,1611.0,1605.0,1592.0,1595.0,1594.0,1584.0,1550.0,1547.0,1591.0,1589.0,1557.0,1594.0,1555.0,1532.0,1549.0,1549.0,1548.0,1535.0,1512.0,1520.0,1548.0,1555.0,1566.0,1577.0,1579.0,1576.0,1570.0,1596.0,1599.0,1589.0,1580.0,1579.0,1560.0,1596.0,1590.0,1597.0,1597.0,1595.0,1579.0,1598.0,1595.0,1593.0,1624.0,1621.0,1579.0,1568.0,1553.0,1561.0,1558.0,1560.0,1590.0,1590.0,1604.0,1597.0,1596.0,1578.0,1583.0,1587.0,1566.0,1602.0,1617.0,1600.0,1596.0,1600.0,1597.0,1598.0,1588.0,1581.0,1597.0,1598.0,1600.0,1598.0,1590.0,1589.0,1578.0,1593.0,1600.0,1609.0,1638.0,1610.0,1612.0,1603.0,1614.0,1629.0,1633.0,1620.0,1658.0,1662.0,1669.0,1649.0,1651.0,1635.0,1644.0,1647.0,1644.0,1669.0,1670.0,1688.0,1695.0,1656.0,1668.0,1657.0,1671.0,1657.0,1667.0,1669.0,1666.0,1673.0,1668.0,1654.0,1666.0,1658.0,1630.0,1580.0,1589.0,1602.0,1554.0,1563.0,1573.0,1587.0,1572.0,1556.0,1559.0,1565.0,1553.0,1566.0,1562.0,1560.0,1564.0,1564.0,1551.0,1545.0,1540.0,1524.0,1490.0,1506.0,1500.0,1514.0,1506.0,1507.0,1495.0,1506.0,1500.0,1496.0,1505.0,1484.0,1489.0,1485.0,1475.0,1465.0,1461.0,1490.0,1499.0,1490.0,1485.0,1486.0,1481.0,1480.0,1485.0,1485.0,1499.0,1485.0,1467.0,1472.0,1492.0,1474.0,1471.0,1444.0,1438.0,1417.0,1433.0,1432.0,1441.0,1441.0,1452.0,1449.0,1450.0,1450.0,1447.0,1452.0,1453.0,1462.0,1470.0,1478.0,1483.0,1490.0,1487.0,1487.0,1484.0,1474.0,1500.0,1513.0,1507.0,1509.0,1502.0,1508.0,1502.0,1501.0,1500.0,1500.0,1487.0,1513.0,1513.0,1515.0,1545.0,1560.0,1580.0,1580.0,1576.0,1585.0,1575.0,1554.0,1580.0,1575.0,1576.0,1569.0,1562.0,1550.0,1529.0,1500.0,1488.0,1449.0,1447.0,1448.0,1448.0,1458.0,1455.0,1488.0,1503.0,1475.0,1487.0,1499.0,1487.0,1481.0,1475.0,1471.0,1518.0,1508.0,1524.0,1518.0,1517.0,1516.0,1499.0,1490.0,1479.0,1458.0,1448.0,1468.0,1443.0,1434.0,1426.0,1428.0,1421.0,1429.0,1422.0,1418.0,1403.0,1387.0,1374.0,1373.0,1370.0],\"low\":[1510.0,1477.0,1540.0,1535.0,1553.0,1482.0,1499.0,1513.0,1505.0,1484.0,1491.0,1496.0,1501.0,1481.0,1497.0,1504.0,1500.0,1474.0,1476.0,1470.0,1427.0,1440.0,1444.0,1450.0,1439.0,1441.0,1466.0,1440.0,1439.0,1441.0,1430.0,1412.0,1422.0,1429.0,1445.0,1447.0,1431.0,1436.0,1449.0,1450.0,1470.0,1443.0,1466.0,1447.0,1440.0,1453.0,1467.0,1463.0,1467.0,1466.0,1469.0,1461.0,1461.0,1460.0,1449.0,1449.0,1442.0,1443.0,1466.0,1488.0,1463.0,1458.0,1430.0,1433.0,1399.0,1365.0,1409.0,1415.0,1427.0,1397.0,1400.0,1401.0,1410.0,1400.0,1383.0,1377.0,1386.0,1393.0,1420.0,1440.0,1429.0,1438.0,1417.0,1452.0,1451.0,1460.0,1461.0,1445.0,1465.0,1478.0,1490.0,1488.0,1478.0,1480.0,1470.0,1470.0,1489.0,1492.0,1462.0,1435.0,1446.0,1442.0,1453.0,1474.0,1465.0,1438.0,1464.0,1470.0,1449.0,1471.0,1452.0,1455.0,1460.0,1473.0,1479.0,1455.0,1444.0,1490.0,1486.0,1482.0,1458.0,1455.0,1450.0,1438.0,1440.0,1448.0,1451.0,1445.0,1451.0,1451.0,1459.0,1480.0,1489.0,1476.0,1470.0,1463.0,1450.0,1433.0,1450.0,1440.0,1451.0,1450.0,1442.0,1439.0,1448.0,1445.0,1448.0,1455.0,1459.0,1451.0,1456.0,1407.0,1465.0,1468.0,1458.0,1446.0,1460.0,1452.0,1452.0,1455.0,1457.0,1469.0,1484.0,1485.0,1484.0,1480.0,1464.0,1455.0,1467.0,1462.0,1512.0,1455.0,1494.0,1500.0,1503.0,1496.0,1500.0,1512.0,1531.0,1507.0,1543.0,1550.0,1560.0,1560.0,1550.0,1552.0,1558.0,1605.0,1601.0,1578.0,1506.0,1551.0,1555.0,1572.0,1583.0,1603.0,1599.0,1588.0,1588.0,1589.0,1599.0,1614.0,1629.0,1649.0,1650.0,1684.0,1699.0,1718.0,1728.0,1679.0,1713.0,1717.0,1699.0,1621.0,1639.0,1651.0,1644.0,1675.0,1682.0,1700.0,1720.0,1732.0,1722.0,1727.0,1726.0,1682.0,1667.0,1675.0,1707.0,1720.0,1723.0,1757.0,1752.0,1729.0,1725.0,1720.0,1731.0,1724.0,1719.0,1708.0,1706.0,1705.0,1701.0,1702.0,1719.0,1721.0,1700.0,1700.0,1726.0,1730.0,1729.0,1742.0,1745.0,1728.0,1707.0,1700.0,1699.0,1696.0,1705.0,1708.0,1699.0,1696.0,1700.0,1705.0,1657.0,1635.0,1637.0,1639.0,1619.0,1531.0,1555.0,1544.0,1504.0,1544.0,1552.0,1550.0,1554.0,1582.0,1594.0,1595.0,1585.0,1601.0,1602.0,1650.0,1631.0,1610.0,1566.0,1546.0,1556.0,1533.0,1544.0,1555.0,1577.0,1589.0,1575.0,1586.0,1574.0,1574.0,1572.0,1558.0,1524.0,1536.0,1542.0,1543.0,1545.0,1574.0,1571.0,1549.0,1572.0,1578.0,1556.0,1559.0,1585.0,1592.0,1603.0,1600.0,1618.0,1603.0,1596.0,1580.0,1594.0,1589.0,1605.0,1631.0,1643.0,1648.0,1640.0,1660.0,1663.0,1654.0,1644.0,1643.0,1633.0,1649.0,1666.0,1667.0,1657.0,1677.0,1666.0,1680.0,1699.0,1700.0,1680.0,1664.0,1614.0,1604.0,1611.0,1604.0,1619.0,1590.0,1585.0,1586.0,1593.0,1584.0,1598.0,1608.0,1607.0,1590.0,1550.0,1535.0,1537.0,1574.0,1588.0,1645.0,1666.0,1669.0,1646.0,1670.0,1678.0,1670.0,1643.0,1638.0,1611.0,1647.0,1661.0,1611.0,1636.0,1640.0,1650.0,1653.0,1672.0,1648.0,1626.0,1655.0,1643.0,1648.0,1646.0,1622.0,1605.0,1592.0,1594.0,1581.0,1541.0,1542.0,1537.0,1502.0,1503.0,1500.0,1511.0,1513.0,1509.0,1500.0,1488.0,1470.0,1421.0,1443.0,1488.0,1526.0,1523.0,1505.0,1535.0,1521.0,1521.0,1513.0,1513.0,1505.0,1499.0,1498.0,1527.0,1560.0,1524.0,1524.0,1549.0,1552.0,1576.0,1561.0,1630.0,1640.0,1536.0,1540.0,1540.0,1584.0,1576.0,1587.0,1612.0,1568.0,1561.0,1513.0,1519.0,1480.0,1451.0,1450.0,1451.0,1450.0,1450.0,1418.0,1422.0,1428.0,1420.0,1410.0,1419.0,1434.0,1435.0,1426.0,1420.0,1423.0,1421.0,1448.0,1449.0,1454.0,1420.0,1395.0,1396.0,1415.0,1404.0,1420.0,1423.0,1439.0,1448.0,1444.0,1419.0,1417.0,1418.0,1422.0,1412.0,1385.0,1401.0,1382.0,1378.0,1359.0,1352.0,1361.0,1356.0,1351.0,1330.0,1320.0,1308.0,1290.0,1208.0,1236.0,1254.0,1289.0,1324.0,1372.0,1361.0,1355.0,1308.0,1289.0,1301.0,1304.0,1301.0,1258.0,1276.0,1270.0,1265.0,1258.0,1268.0,1268.0,1251.0,1251.0,1272.0,1263.0,1275.0,1280.0,1312.0,1289.0,1288.0,1288.0,1295.0,1284.0,1291.0,1302.0,1314.0,1324.0,1314.0,1325.0,1342.0,1356.0,1357.0,1355.0,1357.0,1356.0,1350.0,1348.0,1337.0,1336.0,1322.0,1339.0,1336.0,1350.0,1360.0,1361.0,1362.0,1370.0,1382.0,1343.0,1383.0,1391.0,1390.0,1401.0,1401.0,1418.0,1406.0,1441.0,1433.0,1442.0,1438.0,1433.0,1440.0,1449.0,1422.0,1410.0,1406.0,1364.0,1369.0,1324.0,1337.0,1315.0,1330.0,1344.0,1375.0,1329.0,1330.0,1318.0,1318.0,1275.0,1309.0,1315.0,1334.0,1377.0,1378.0,1373.0,1389.0,1393.0,1365.0,1372.0,1321.0,1321.0,1332.0,1330.0,1267.0,1260.0,1286.0,1266.0,1282.0,1300.0,1300.0,1296.0,1265.0,1277.0,1262.0,1269.0,1289.0,1312.0,1309.0,1317.0,1300.0,1300.0,1301.0,1300.0,1303.0,1311.0,1315.0,1341.0,1351.0,1345.0,1306.0,1313.0,1310.0,1291.0,1278.0,1267.0,1275.0,1278.0,1286.0,1271.0,1285.0,1275.0,1277.0,1276.0,1279.0,1278.0,1265.0,1230.0,1224.0,1224.0,1192.0,1192.0,1111.0,1149.0,1158.0,1128.0,1135.0,1135.0,1132.0,1131.0,1131.0,1116.0,1116.0,1122.0,1130.0,1138.0,1132.0,1133.0,1133.0,1135.0,1133.0,1138.0,1138.0,1140.0,1171.0,1178.0,1211.0,1244.0,1235.0,1260.0,1283.0,1277.0,1297.0,1285.0,1288.0,1285.0,1292.0,1283.0,1302.0,1290.0,1303.0,1299.0,1300.0,1270.0,1300.0,1309.0,1326.0,1326.0,1332.0,1326.0,1334.0,1337.0,1339.0,1345.0,1373.0,1428.0,1483.0,1486.0,1471.0,1479.0,1476.0,1485.0,1495.0,1496.0,1491.0,1506.0,1538.0,1529.0,1504.0,1503.0,1536.0,1535.0,1520.0,1519.0,1495.0,1519.0,1510.0,1501.0,1481.0,1489.0,1494.0,1549.0,1499.0,1482.0,1483.0,1471.0,1475.0,1490.0,1482.0,1487.0,1482.0,1487.0,1479.0,1456.0,1460.0,1460.0,1463.0,1400.0,1379.0,1391.0,1412.0,1420.0,1432.0,1401.0,1405.0,1391.0,1380.0,1409.0,1394.0,1375.0,1370.0,1311.0,1299.0,1251.0,1253.0,1279.0,1273.0,1270.0,1275.0,1308.0,1330.0,1321.0,1332.0,1331.0,1321.0,1347.0,1325.0,1325.0,1325.0,1253.0,1201.0,1202.0,1180.0,1149.0,1148.0,1156.0,1156.0,1175.0,1151.0,1086.0,1010.0,1047.0,980.0,869.0,953.0,925.0,994.0,1001.0,1044.0,1106.0,1159.0,1169.0,1215.0,1320.0,1300.0,1216.0,1239.0,1244.0,1265.0,1344.0,1430.0,1427.0,1425.0,1434.0,1435.0,1402.0,1396.0,1472.0,1467.0,1479.0,1451.0,1450.0,1455.0,1476.0,1445.0,1464.0,1466.0,1478.0,1421.0,1422.0,1429.0,1440.0,1461.0,1462.0,1463.0,1475.0,1465.0,1474.0,1471.0,1485.0,1480.0,1482.0,1477.0,1420.0,1386.0,1380.0,1408.0,1412.0,1424.0,1406.0,1413.0,1424.0,1422.0,1403.0,1428.0,1428.0,1463.0,1466.0,1479.0,1487.0,1499.0,1459.0,1441.0,1417.0,1428.0,1432.0,1472.0,1463.0,1483.0,1475.0,1477.0,1440.0,1410.0,1300.0,1311.0,1320.0,1347.0,1436.0,1418.0,1439.0,1440.0,1413.0,1420.0,1422.0,1422.0,1418.0,1400.0,1373.0,1375.0,1393.0,1409.0,1379.0,1409.0,1450.0,1462.0,1475.0,1480.0,1411.0,1411.0,1393.0,1405.0,1406.0,1383.0,1408.0,1398.0,1399.0,1410.0,1391.0,1408.0,1408.0,1370.0,1387.0,1394.0,1409.0,1415.0,1445.0,1458.0,1477.0,1482.0,1523.0,1497.0,1500.0,1543.0,1579.0,1598.0,1602.0,1587.0,null,1580.0,1593.0,1582.0,1530.0,1500.0,1482.0,1518.0,1525.0,1531.0,1545.0,1565.0,1542.0,1533.0,1505.0,1531.0,1517.0,1519.0,1518.0,1518.0,1512.0,1512.0,1498.0,1501.0,1515.0,1484.0,1532.0,1538.0,1562.0,1563.0,1551.0,1575.0,1572.0,1520.0,1532.0,1547.0,1585.0,1557.0,1547.0,1530.0,1543.0,1516.0,1515.0,1530.0,1511.0,1515.0,1480.0,1485.0,1513.0,1532.0,1546.0,1551.0,1541.0,1550.0,1555.0,1555.0,1570.0,1575.0,1570.0,1561.0,1545.0,1556.0,1555.0,1577.0,1541.0,1550.0,1566.0,1570.0,1582.0,1580.0,1584.0,1556.0,1555.0,1540.0,1540.0,1541.0,1532.0,1534.0,1550.0,1573.0,1551.0,1569.0,1562.0,1564.0,1571.0,1553.0,1556.0,1563.0,1590.0,1562.0,1565.0,1585.0,1581.0,1584.0,1576.0,1574.0,1577.0,1592.0,1586.0,1580.0,1558.0,1570.0,1573.0,1578.0,1587.0,1586.0,1595.0,1590.0,1596.0,1579.0,1583.0,1593.0,1601.0,1604.0,1609.0,1641.0,1630.0,1620.0,1630.0,1616.0,1605.0,1614.0,1618.0,1637.0,1658.0,1670.0,1612.0,1626.0,1637.0,1645.0,1637.0,1638.0,1644.0,1661.0,1665.0,1664.0,1649.0,1642.0,1645.0,1628.0,1595.0,1564.0,1565.0,1571.0,1531.0,1550.0,1560.0,1560.0,1560.0,1530.0,1531.0,1538.0,1544.0,1546.0,1550.0,1550.0,1551.0,1550.0,1544.0,1540.0,1506.0,1476.0,1476.0,1475.0,1486.0,1496.0,1498.0,1490.0,1490.0,1483.0,1483.0,1481.0,1477.0,1462.0,1483.0,1480.0,1450.0,1432.0,1455.0,1468.0,1477.0,1480.0,1475.0,1478.0,1475.0,1475.0,1475.0,1477.0,1475.0,1445.0,1445.0,1455.0,1469.0,1431.0,1436.0,1433.0,1420.0,1402.0,1410.0,1423.0,1426.0,1426.0,1430.0,1426.0,1440.0,1440.0,1440.0,1444.0,1442.0,1456.0,1457.0,1465.0,1472.0,1457.0,1479.0,1478.0,1461.0,1453.0,1470.0,1491.0,1495.0,1486.0,1493.0,1495.0,1492.0,1491.0,1465.0,1465.0,1473.0,1480.0,1492.0,1502.0,1514.0,1533.0,1547.0,1548.0,1557.0,1553.0,1542.0,1532.0,1566.0,1564.0,1557.0,1552.0,1550.0,1512.0,1504.0,1430.0,1435.0,1427.0,1436.0,1437.0,1437.0,1437.0,1438.0,1451.0,1461.0,1466.0,1474.0,1478.0,1467.0,1465.0,1444.0,1455.0,1457.0,1482.0,1467.0,1510.0,1500.0,1495.0,1481.0,1473.0,1445.0,1418.0,1428.0,1421.0,1425.0,1426.0,1425.0,1420.0,1414.0,1406.0,1413.0,1407.0,1357.0,1336.0,1326.0,1327.0,1321.0],\"open\":[1510.0,1550.0,1540.0,1555.0,1569.0,1545.0,1515.0,1518.0,1505.0,1508.0,1518.0,1496.0,1510.0,1510.0,1514.0,1510.0,1513.0,1529.0,1486.0,1470.0,1475.0,1450.0,1471.0,1455.0,1454.0,1441.0,1468.0,1470.0,1450.0,1442.0,1445.0,1427.0,1430.0,1429.0,1448.0,1477.0,1456.0,1478.0,1449.0,1450.0,1480.0,1471.0,1476.0,1470.0,1451.0,1471.0,1483.0,1499.0,1472.0,1473.0,1470.0,1479.0,1469.0,1469.0,1460.0,1450.0,1458.0,1458.0,1489.0,1490.0,1493.0,1458.0,1469.0,1434.0,1433.0,1381.0,1440.0,1415.0,1456.0,1419.0,1427.0,1401.0,1413.0,1410.0,1402.0,1385.0,1407.0,1412.0,1420.0,1440.0,1454.0,1449.0,1458.0,1466.0,1454.0,1460.0,1461.0,1464.0,1465.0,1478.0,1495.0,1497.0,1489.0,1480.0,1480.0,1470.0,1491.0,1492.0,1482.0,1468.0,1462.0,1442.0,1477.0,1484.0,1474.0,1491.0,1491.0,1480.0,1449.0,1478.0,1473.0,1456.0,1461.0,1473.0,1479.0,1499.0,1473.0,1490.0,1490.0,1486.0,1458.0,1462.0,1470.0,1454.0,1448.0,1448.0,1454.0,1450.0,1452.0,1451.0,1464.0,1480.0,1489.0,1491.0,1472.0,1472.0,1465.0,1445.0,1450.0,1479.0,1467.0,1450.0,1474.0,1442.0,1453.0,1458.0,1455.0,1458.0,1461.0,1465.0,1460.0,1471.0,1465.0,1478.0,1479.0,1446.0,1460.0,1470.0,1452.0,1468.0,1468.0,1470.0,1489.0,1498.0,1494.0,1492.0,1480.0,1459.0,1499.0,1497.0,1535.0,1505.0,1525.0,1510.0,1510.0,1515.0,1501.0,1514.0,1531.0,1549.0,1548.0,1559.0,1569.0,1565.0,1560.0,1561.0,1565.0,1605.0,1627.0,1591.0,1600.0,1576.0,1555.0,1572.0,1583.0,1603.0,1609.0,1610.0,1588.0,1600.0,1599.0,1616.0,1629.0,1650.0,1650.0,1687.0,1700.0,1718.0,1731.0,1718.0,1715.0,1730.0,1725.0,1725.0,1644.0,1699.0,1651.0,1681.0,1682.0,1700.0,1721.0,1747.0,1758.0,1728.0,1744.0,1700.0,1673.0,1675.0,1715.0,1750.0,1727.0,1767.0,1768.0,1770.0,1744.0,1725.0,1755.0,1758.0,1725.0,1714.0,1721.0,1723.0,1728.0,1709.0,1719.0,1734.0,1725.0,1703.0,1738.0,1730.0,1784.0,1769.0,1750.0,1765.0,1729.0,1706.0,1706.0,1700.0,1705.0,1725.0,1708.0,1719.0,1700.0,1715.0,1707.0,1650.0,1637.0,1655.0,1671.0,1620.0,1555.0,1582.0,1504.0,1546.0,1554.0,1567.0,1554.0,1596.0,1605.0,1595.0,1597.0,1699.0,1602.0,1650.0,1672.0,1650.0,1593.0,1569.0,1556.0,1563.0,1566.0,1567.0,1577.0,1591.0,1600.0,1628.0,1600.0,1574.0,1580.0,1573.0,1553.0,1536.0,1551.0,1563.0,1580.0,1591.0,1600.0,1595.0,1587.0,1600.0,1557.0,1579.0,1585.0,1601.0,1603.0,1620.0,1667.0,1650.0,1631.0,1596.0,1594.0,1614.0,1605.0,1655.0,1660.0,1670.0,1659.0,1666.0,1668.0,1667.0,1675.0,1667.0,1645.0,1666.0,1683.0,1680.0,1689.0,1688.0,1675.0,1684.0,1699.0,1701.0,1724.0,1708.0,1615.0,1620.0,1620.0,1620.0,1619.0,1677.0,1588.0,1589.0,1593.0,1590.0,1599.0,1608.0,1607.0,1678.0,1590.0,1550.0,1544.0,1576.0,1588.0,1650.0,1680.0,1680.0,1650.0,1680.0,1685.0,1678.0,1662.0,1648.0,1656.0,1647.0,1710.0,1663.0,1636.0,1640.0,1696.0,1679.0,1674.0,1672.0,1639.0,1665.0,1671.0,1655.0,1670.0,1656.0,1623.0,1610.0,1594.0,1618.0,1582.0,1542.0,1545.0,1537.0,1513.0,1503.0,1526.0,1567.0,1509.0,1517.0,1501.0,1480.0,1457.0,1466.0,1500.0,1528.0,1554.0,1551.0,1563.0,1557.0,1521.0,1540.0,1549.0,1519.0,1509.0,1521.0,1527.0,1572.0,1579.0,1532.0,1580.0,1578.0,1592.0,1561.0,1659.0,1666.0,1639.0,1616.0,1550.0,1599.0,1580.0,1600.0,1623.0,1581.0,1580.0,1561.0,1551.0,1554.0,1476.0,1470.0,1453.0,1460.0,1451.0,1451.0,1457.0,1467.0,1430.0,1420.0,1433.0,1434.0,1452.0,1436.0,1456.0,1430.0,1429.0,1467.0,1449.0,1464.0,1455.0,1422.0,1411.0,1421.0,1404.0,1420.0,1423.0,1453.0,1493.0,1478.0,1438.0,1457.0,1418.0,1441.0,1436.0,1436.0,1403.0,1401.0,1444.0,1378.0,1352.0,1361.0,1358.0,1361.0,1347.0,1339.0,1321.0,1305.0,1211.0,1297.0,1285.0,1289.0,1324.0,1397.0,1398.0,1365.0,1356.0,1313.0,1348.0,1311.0,1327.0,1308.0,1294.0,1281.0,1265.0,1277.0,1284.0,1273.0,1251.0,1266.0,1292.0,1276.0,1285.0,1285.0,1328.0,1314.0,1302.0,1288.0,1317.0,1295.0,1325.0,1326.0,1321.0,1329.0,1328.0,1333.0,1379.0,1362.0,1357.0,1358.0,1357.0,1366.0,1378.0,1348.0,1337.0,1338.0,1336.0,1344.0,1347.0,1361.0,1389.0,1361.0,1370.0,1379.0,1382.0,1381.0,1383.0,1429.0,1390.0,1448.0,1410.0,1448.0,1434.0,1448.0,1440.0,1442.0,1446.0,1433.0,1442.0,1450.0,1425.0,1441.0,1406.0,1401.0,1384.0,1367.0,1354.0,1344.0,1340.0,1344.0,1404.0,1339.0,1331.0,1368.0,1341.0,1275.0,1396.0,1380.0,1351.0,1399.0,1395.0,1394.0,1393.0,1420.0,1365.0,1372.0,1350.0,1321.0,1366.0,1331.0,1309.0,1276.0,1303.0,1286.0,1282.0,1300.0,1312.0,1300.0,1265.0,1306.0,1282.0,1269.0,1289.0,1329.0,1309.0,1324.0,1317.0,1300.0,1303.0,1310.0,1306.0,1320.0,1315.0,1341.0,1359.0,1356.0,1400.0,1313.0,1327.0,1325.0,1278.0,1286.0,1275.0,1299.0,1289.0,1283.0,1300.0,1281.0,1282.0,1284.0,1299.0,1278.0,1280.0,1273.0,1224.0,1241.0,1240.0,1204.0,1193.0,1149.0,1165.0,1150.0,1140.0,1140.0,1132.0,1138.0,1140.0,1127.0,1116.0,1123.0,1144.0,1140.0,1145.0,1134.0,1135.0,1139.0,1140.0,1159.0,1140.0,1140.0,1179.0,1202.0,1279.0,1244.0,1252.0,1274.0,1283.0,1309.0,1305.0,1315.0,1305.0,1286.0,1295.0,1305.0,1308.0,1307.0,1313.0,1308.0,1312.0,1313.0,1300.0,1309.0,1340.0,1326.0,1346.0,1332.0,1345.0,1337.0,1339.0,1350.0,1387.0,1459.0,1503.0,1500.0,1475.0,1494.0,1499.0,1485.0,1508.0,1500.0,1506.0,1506.0,1560.0,1533.0,1519.0,1541.0,1540.0,1550.0,1548.0,1519.0,1511.0,1519.0,1510.0,1501.0,1489.0,1507.0,1494.0,1554.0,1567.0,1500.0,1483.0,1519.0,1476.0,1496.0,1494.0,1497.0,1492.0,1498.0,1491.0,1456.0,1460.0,1490.0,1486.0,1440.0,1390.0,1439.0,1420.0,1420.0,1432.0,1424.0,1405.0,1438.0,1399.0,1420.0,1409.0,1412.0,1389.0,1372.0,1327.0,1300.0,1266.0,1293.0,1274.0,1275.0,1276.0,1328.0,1331.0,1333.0,1332.0,1344.0,1324.0,1399.0,1347.0,1350.0,1325.0,1331.0,1257.0,1214.0,1210.0,1161.0,1149.0,1193.0,1156.0,1218.0,1187.0,1150.0,1030.0,1050.0,1040.0,875.0,986.0,942.0,1000.0,1039.0,1074.0,1195.0,1189.0,1176.0,1215.0,1377.0,1350.0,1305.0,1262.0,1273.0,1289.0,1449.0,1447.0,1450.0,1476.0,1434.0,1457.0,1451.0,1461.0,1500.0,1493.0,1484.0,1460.0,1493.0,1488.0,1486.0,1473.0,1464.0,1486.0,1494.0,1495.0,1422.0,1429.0,1440.0,1464.0,1493.0,1471.0,1495.0,1494.0,1479.0,1471.0,1489.0,1481.0,1497.0,1492.0,1480.0,1422.0,1380.0,1443.0,1431.0,1443.0,1426.0,1429.0,1429.0,1423.0,1421.0,1451.0,1439.0,1463.0,1479.0,1492.0,1487.0,1500.0,1516.0,1485.0,1463.0,1431.0,1461.0,1492.0,1486.0,1498.0,1500.0,1502.0,1464.0,1442.0,1421.0,1317.0,1381.0,1397.0,1436.0,1431.0,1457.0,1460.0,1467.0,1459.0,1459.0,1449.0,1450.0,1421.0,1430.0,1375.0,1418.0,1435.0,1434.0,1438.0,1450.0,1464.0,1490.0,1496.0,1477.0,1417.0,1400.0,1419.0,1417.0,1425.0,1410.0,1418.0,1420.0,1410.0,1426.0,1434.0,1420.0,1395.0,1400.0,1406.0,1444.0,1443.0,1465.0,1470.0,1500.0,1500.0,1536.0,1566.0,1525.0,1558.0,1583.0,1610.0,1625.0,1616.0,null,1622.0,1639.0,1601.0,1580.0,1543.0,1482.0,1518.0,1550.0,1532.0,1597.0,1583.0,1542.0,1548.0,1533.0,1549.0,1530.0,1526.0,1532.0,1518.0,1527.0,1512.0,1508.0,1515.0,1545.0,1541.0,1545.0,1550.0,1590.0,1590.0,1576.0,1591.0,1590.0,1584.0,1550.0,1547.0,1587.0,1571.0,1557.0,1536.0,1555.0,1531.0,1529.0,1531.0,1548.0,1535.0,1512.0,1520.0,1534.0,1541.0,1559.0,1574.0,1579.0,1553.0,1570.0,1568.0,1599.0,1589.0,1579.0,1579.0,1560.0,1564.0,1590.0,1597.0,1595.0,1594.0,1576.0,1578.0,1594.0,1593.0,1584.0,1608.0,1579.0,1559.0,1549.0,1541.0,1558.0,1549.0,1553.0,1589.0,1565.0,1596.0,1575.0,1568.0,1572.0,1587.0,1565.0,1579.0,1617.0,1596.0,1565.0,1600.0,1596.0,1588.0,1588.0,1580.0,1577.0,1596.0,1600.0,1590.0,1558.0,1589.0,1573.0,1578.0,1593.0,1600.0,1630.0,1604.0,1602.0,1603.0,1605.0,1600.0,1630.0,1610.0,1620.0,1658.0,1667.0,1643.0,1639.0,1635.0,1611.0,1647.0,1618.0,1640.0,1669.0,1675.0,1688.0,1626.0,1637.0,1650.0,1670.0,1638.0,1667.0,1666.0,1665.0,1673.0,1667.0,1651.0,1666.0,1658.0,1630.0,1568.0,1566.0,1602.0,1531.0,1552.0,1560.0,1587.0,1572.0,1554.0,1531.0,1554.0,1544.0,1566.0,1562.0,1560.0,1551.0,1564.0,1544.0,1544.0,1540.0,1524.0,1477.0,1485.0,1488.0,1514.0,1506.0,1500.0,1495.0,1489.0,1500.0,1481.0,1505.0,1480.0,1486.0,1483.0,1471.0,1465.0,1460.0,1470.0,1499.0,1486.0,1485.0,1478.0,1481.0,1479.0,1482.0,1477.0,1478.0,1481.0,1445.0,1455.0,1471.0,1470.0,1471.0,1444.0,1437.0,1402.0,1433.0,1425.0,1430.0,1441.0,1438.0,1436.0,1440.0,1450.0,1447.0,1446.0,1450.0,1459.0,1461.0,1478.0,1472.0,1490.0,1481.0,1487.0,1484.0,1474.0,1470.0,1513.0,1507.0,1509.0,1502.0,1508.0,1492.0,1501.0,1500.0,1488.0,1483.0,1489.0,1513.0,1502.0,1516.0,1540.0,1560.0,1563.0,1562.0,1578.0,1575.0,1550.0,1570.0,1568.0,1574.0,1553.0,1560.0,1550.0,1529.0,1500.0,1473.0,1446.0,1443.0,1438.0,1448.0,1440.0,1443.0,1466.0,1503.0,1466.0,1474.0,1480.0,1485.0,1472.0,1475.0,1455.0,1457.0,1508.0,1502.0,1518.0,1517.0,1516.0,1481.0,1490.0,1473.0,1458.0,1430.0,1468.0,1425.0,1434.0,1426.0,1425.0,1420.0,1429.0,1422.0,1407.0,1403.0,1380.0,1326.0,1353.0,1370.0],\"x\":[\"2017-01-04\",\"2017-01-05\",\"2017-01-06\",\"2017-01-10\",\"2017-01-11\",\"2017-01-12\",\"2017-01-13\",\"2017-01-16\",\"2017-01-17\",\"2017-01-18\",\"2017-01-19\",\"2017-01-20\",\"2017-01-23\",\"2017-01-24\",\"2017-01-25\",\"2017-01-26\",\"2017-01-27\",\"2017-01-30\",\"2017-01-31\",\"2017-02-01\",\"2017-02-02\",\"2017-02-03\",\"2017-02-06\",\"2017-02-07\",\"2017-02-08\",\"2017-02-09\",\"2017-02-10\",\"2017-02-13\",\"2017-02-14\",\"2017-02-15\",\"2017-02-16\",\"2017-02-17\",\"2017-02-20\",\"2017-02-21\",\"2017-02-22\",\"2017-02-23\",\"2017-02-24\",\"2017-02-27\",\"2017-02-28\",\"2017-03-01\",\"2017-03-02\",\"2017-03-03\",\"2017-03-06\",\"2017-03-07\",\"2017-03-08\",\"2017-03-09\",\"2017-03-10\",\"2017-03-13\",\"2017-03-14\",\"2017-03-15\",\"2017-03-16\",\"2017-03-17\",\"2017-03-21\",\"2017-03-22\",\"2017-03-23\",\"2017-03-24\",\"2017-03-27\",\"2017-03-28\",\"2017-03-29\",\"2017-03-30\",\"2017-03-31\",\"2017-04-03\",\"2017-04-04\",\"2017-04-05\",\"2017-04-06\",\"2017-04-07\",\"2017-04-10\",\"2017-04-11\",\"2017-04-12\",\"2017-04-13\",\"2017-04-14\",\"2017-04-17\",\"2017-04-18\",\"2017-04-19\",\"2017-04-20\",\"2017-04-21\",\"2017-04-24\",\"2017-04-25\",\"2017-04-26\",\"2017-04-27\",\"2017-04-28\",\"2017-05-01\",\"2017-05-02\",\"2017-05-08\",\"2017-05-09\",\"2017-05-10\",\"2017-05-11\",\"2017-05-12\",\"2017-05-15\",\"2017-05-16\",\"2017-05-17\",\"2017-05-18\",\"2017-05-19\",\"2017-05-22\",\"2017-05-23\",\"2017-05-24\",\"2017-05-25\",\"2017-05-26\",\"2017-05-29\",\"2017-05-30\",\"2017-05-31\",\"2017-06-01\",\"2017-06-02\",\"2017-06-05\",\"2017-06-06\",\"2017-06-07\",\"2017-06-08\",\"2017-06-09\",\"2017-06-12\",\"2017-06-13\",\"2017-06-14\",\"2017-06-15\",\"2017-06-16\",\"2017-06-19\",\"2017-06-20\",\"2017-06-21\",\"2017-06-22\",\"2017-06-23\",\"2017-06-26\",\"2017-06-27\",\"2017-06-28\",\"2017-06-29\",\"2017-06-30\",\"2017-07-03\",\"2017-07-04\",\"2017-07-05\",\"2017-07-06\",\"2017-07-07\",\"2017-07-10\",\"2017-07-11\",\"2017-07-12\",\"2017-07-13\",\"2017-07-14\",\"2017-07-18\",\"2017-07-19\",\"2017-07-20\",\"2017-07-21\",\"2017-07-24\",\"2017-07-25\",\"2017-07-26\",\"2017-07-27\",\"2017-07-28\",\"2017-07-31\",\"2017-08-01\",\"2017-08-02\",\"2017-08-03\",\"2017-08-04\",\"2017-08-07\",\"2017-08-08\",\"2017-08-09\",\"2017-08-10\",\"2017-08-14\",\"2017-08-15\",\"2017-08-16\",\"2017-08-17\",\"2017-08-18\",\"2017-08-21\",\"2017-08-22\",\"2017-08-23\",\"2017-08-24\",\"2017-08-25\",\"2017-08-28\",\"2017-08-29\",\"2017-08-30\",\"2017-08-31\",\"2017-09-01\",\"2017-09-04\",\"2017-09-05\",\"2017-09-06\",\"2017-09-07\",\"2017-09-08\",\"2017-09-11\",\"2017-09-12\",\"2017-09-13\",\"2017-09-14\",\"2017-09-15\",\"2017-09-19\",\"2017-09-20\",\"2017-09-21\",\"2017-09-22\",\"2017-09-25\",\"2017-09-26\",\"2017-09-27\",\"2017-09-28\",\"2017-09-29\",\"2017-10-02\",\"2017-10-03\",\"2017-10-04\",\"2017-10-05\",\"2017-10-06\",\"2017-10-10\",\"2017-10-11\",\"2017-10-12\",\"2017-10-13\",\"2017-10-16\",\"2017-10-17\",\"2017-10-18\",\"2017-10-19\",\"2017-10-20\",\"2017-10-23\",\"2017-10-24\",\"2017-10-25\",\"2017-10-26\",\"2017-10-27\",\"2017-10-30\",\"2017-10-31\",\"2017-11-01\",\"2017-11-02\",\"2017-11-06\",\"2017-11-07\",\"2017-11-08\",\"2017-11-09\",\"2017-11-10\",\"2017-11-13\",\"2017-11-14\",\"2017-11-15\",\"2017-11-16\",\"2017-11-17\",\"2017-11-20\",\"2017-11-21\",\"2017-11-22\",\"2017-11-24\",\"2017-11-27\",\"2017-11-28\",\"2017-11-29\",\"2017-11-30\",\"2017-12-01\",\"2017-12-04\",\"2017-12-05\",\"2017-12-06\",\"2017-12-07\",\"2017-12-08\",\"2017-12-11\",\"2017-12-12\",\"2017-12-13\",\"2017-12-14\",\"2017-12-15\",\"2017-12-18\",\"2017-12-19\",\"2017-12-20\",\"2017-12-21\",\"2017-12-22\",\"2017-12-25\",\"2017-12-26\",\"2017-12-27\",\"2017-12-28\",\"2017-12-29\",\"2018-01-04\",\"2018-01-05\",\"2018-01-09\",\"2018-01-10\",\"2018-01-11\",\"2018-01-12\",\"2018-01-15\",\"2018-01-16\",\"2018-01-17\",\"2018-01-18\",\"2018-01-19\",\"2018-01-22\",\"2018-01-23\",\"2018-01-24\",\"2018-01-25\",\"2018-01-26\",\"2018-01-29\",\"2018-01-30\",\"2018-01-31\",\"2018-02-01\",\"2018-02-02\",\"2018-02-05\",\"2018-02-06\",\"2018-02-07\",\"2018-02-08\",\"2018-02-09\",\"2018-02-13\",\"2018-02-14\",\"2018-02-15\",\"2018-02-16\",\"2018-02-19\",\"2018-02-20\",\"2018-02-21\",\"2018-02-22\",\"2018-02-23\",\"2018-02-26\",\"2018-02-27\",\"2018-02-28\",\"2018-03-01\",\"2018-03-02\",\"2018-03-05\",\"2018-03-06\",\"2018-03-07\",\"2018-03-08\",\"2018-03-09\",\"2018-03-12\",\"2018-03-13\",\"2018-03-14\",\"2018-03-15\",\"2018-03-16\",\"2018-03-19\",\"2018-03-20\",\"2018-03-22\",\"2018-03-23\",\"2018-03-26\",\"2018-03-27\",\"2018-03-28\",\"2018-03-29\",\"2018-03-30\",\"2018-04-02\",\"2018-04-03\",\"2018-04-04\",\"2018-04-05\",\"2018-04-06\",\"2018-04-09\",\"2018-04-10\",\"2018-04-11\",\"2018-04-12\",\"2018-04-13\",\"2018-04-16\",\"2018-04-17\",\"2018-04-18\",\"2018-04-19\",\"2018-04-20\",\"2018-04-23\",\"2018-04-24\",\"2018-04-25\",\"2018-04-26\",\"2018-04-27\",\"2018-05-01\",\"2018-05-02\",\"2018-05-07\",\"2018-05-08\",\"2018-05-09\",\"2018-05-10\",\"2018-05-11\",\"2018-05-14\",\"2018-05-15\",\"2018-05-16\",\"2018-05-17\",\"2018-05-18\",\"2018-05-21\",\"2018-05-22\",\"2018-05-23\",\"2018-05-24\",\"2018-05-25\",\"2018-05-28\",\"2018-05-29\",\"2018-05-30\",\"2018-05-31\",\"2018-06-01\",\"2018-06-04\",\"2018-06-05\",\"2018-06-06\",\"2018-06-07\",\"2018-06-08\",\"2018-06-11\",\"2018-06-12\",\"2018-06-13\",\"2018-06-14\",\"2018-06-15\",\"2018-06-18\",\"2018-06-19\",\"2018-06-20\",\"2018-06-21\",\"2018-06-22\",\"2018-06-25\",\"2018-06-26\",\"2018-06-27\",\"2018-06-28\",\"2018-06-29\",\"2018-07-02\",\"2018-07-03\",\"2018-07-04\",\"2018-07-05\",\"2018-07-06\",\"2018-07-09\",\"2018-07-10\",\"2018-07-11\",\"2018-07-12\",\"2018-07-13\",\"2018-07-17\",\"2018-07-18\",\"2018-07-19\",\"2018-07-20\",\"2018-07-23\",\"2018-07-24\",\"2018-07-25\",\"2018-07-26\",\"2018-07-27\",\"2018-07-30\",\"2018-07-31\",\"2018-08-01\",\"2018-08-02\",\"2018-08-03\",\"2018-08-06\",\"2018-08-07\",\"2018-08-08\",\"2018-08-09\",\"2018-08-10\",\"2018-08-13\",\"2018-08-14\",\"2018-08-15\",\"2018-08-16\",\"2018-08-17\",\"2018-08-20\",\"2018-08-21\",\"2018-08-22\",\"2018-08-23\",\"2018-08-24\",\"2018-08-27\",\"2018-08-28\",\"2018-08-29\",\"2018-08-30\",\"2018-08-31\",\"2018-09-03\",\"2018-09-04\",\"2018-09-05\",\"2018-09-06\",\"2018-09-07\",\"2018-09-10\",\"2018-09-11\",\"2018-09-12\",\"2018-09-13\",\"2018-09-14\",\"2018-09-18\",\"2018-09-19\",\"2018-09-20\",\"2018-09-21\",\"2018-09-25\",\"2018-09-26\",\"2018-09-27\",\"2018-09-28\",\"2018-10-01\",\"2018-10-02\",\"2018-10-03\",\"2018-10-04\",\"2018-10-05\",\"2018-10-09\",\"2018-10-10\",\"2018-10-11\",\"2018-10-12\",\"2018-10-15\",\"2018-10-16\",\"2018-10-17\",\"2018-10-18\",\"2018-10-19\",\"2018-10-22\",\"2018-10-23\",\"2018-10-24\",\"2018-10-25\",\"2018-10-26\",\"2018-10-29\",\"2018-10-30\",\"2018-10-31\",\"2018-11-01\",\"2018-11-02\",\"2018-11-05\",\"2018-11-06\",\"2018-11-07\",\"2018-11-08\",\"2018-11-09\",\"2018-11-12\",\"2018-11-13\",\"2018-11-14\",\"2018-11-15\",\"2018-11-16\",\"2018-11-19\",\"2018-11-20\",\"2018-11-21\",\"2018-11-22\",\"2018-11-26\",\"2018-11-27\",\"2018-11-28\",\"2018-11-29\",\"2018-11-30\",\"2018-12-03\",\"2018-12-04\",\"2018-12-05\",\"2018-12-06\",\"2018-12-07\",\"2018-12-10\",\"2018-12-11\",\"2018-12-12\",\"2018-12-13\",\"2018-12-14\",\"2018-12-17\",\"2018-12-18\",\"2018-12-19\",\"2018-12-20\",\"2018-12-21\",\"2018-12-25\",\"2018-12-26\",\"2018-12-27\",\"2018-12-28\",\"2019-01-04\",\"2019-01-07\",\"2019-01-08\",\"2019-01-09\",\"2019-01-10\",\"2019-01-11\",\"2019-01-15\",\"2019-01-16\",\"2019-01-17\",\"2019-01-18\",\"2019-01-21\",\"2019-01-22\",\"2019-01-23\",\"2019-01-24\",\"2019-01-25\",\"2019-01-28\",\"2019-01-29\",\"2019-01-30\",\"2019-01-31\",\"2019-02-01\",\"2019-02-04\",\"2019-02-05\",\"2019-02-06\",\"2019-02-07\",\"2019-02-08\",\"2019-02-12\",\"2019-02-13\",\"2019-02-14\",\"2019-02-15\",\"2019-02-18\",\"2019-02-19\",\"2019-02-20\",\"2019-02-21\",\"2019-02-22\",\"2019-02-25\",\"2019-02-26\",\"2019-02-27\",\"2019-02-28\",\"2019-03-01\",\"2019-03-04\",\"2019-03-05\",\"2019-03-06\",\"2019-03-07\",\"2019-03-08\",\"2019-03-11\",\"2019-03-12\",\"2019-03-13\",\"2019-03-14\",\"2019-03-15\",\"2019-03-18\",\"2019-03-19\",\"2019-03-20\",\"2019-03-22\",\"2019-03-25\",\"2019-03-26\",\"2019-03-27\",\"2019-03-28\",\"2019-03-29\",\"2019-04-01\",\"2019-04-02\",\"2019-04-03\",\"2019-04-04\",\"2019-04-05\",\"2019-04-08\",\"2019-04-09\",\"2019-04-10\",\"2019-04-11\",\"2019-04-12\",\"2019-04-15\",\"2019-04-16\",\"2019-04-17\",\"2019-04-18\",\"2019-04-19\",\"2019-04-22\",\"2019-04-23\",\"2019-04-24\",\"2019-04-25\",\"2019-04-26\",\"2019-05-07\",\"2019-05-08\",\"2019-05-09\",\"2019-05-10\",\"2019-05-13\",\"2019-05-14\",\"2019-05-15\",\"2019-05-16\",\"2019-05-17\",\"2019-05-20\",\"2019-05-21\",\"2019-05-22\",\"2019-05-23\",\"2019-05-24\",\"2019-05-27\",\"2019-05-28\",\"2019-05-29\",\"2019-05-30\",\"2019-05-31\",\"2019-06-03\",\"2019-06-04\",\"2019-06-05\",\"2019-06-06\",\"2019-06-07\",\"2019-06-10\",\"2019-06-11\",\"2019-06-12\",\"2019-06-13\",\"2019-06-14\",\"2019-06-17\",\"2019-06-18\",\"2019-06-19\",\"2019-06-20\",\"2019-06-21\",\"2019-06-24\",\"2019-06-25\",\"2019-06-26\",\"2019-06-27\",\"2019-06-28\",\"2019-07-01\",\"2019-07-02\",\"2019-07-03\",\"2019-07-04\",\"2019-07-05\",\"2019-07-08\",\"2019-07-09\",\"2019-07-10\",\"2019-07-11\",\"2019-07-12\",\"2019-07-16\",\"2019-07-17\",\"2019-07-18\",\"2019-07-19\",\"2019-07-22\",\"2019-07-23\",\"2019-07-24\",\"2019-07-25\",\"2019-07-26\",\"2019-07-29\",\"2019-07-30\",\"2019-07-31\",\"2019-08-01\",\"2019-08-02\",\"2019-08-05\",\"2019-08-06\",\"2019-08-07\",\"2019-08-08\",\"2019-08-09\",\"2019-08-13\",\"2019-08-14\",\"2019-08-15\",\"2019-08-16\",\"2019-08-19\",\"2019-08-20\",\"2019-08-21\",\"2019-08-22\",\"2019-08-23\",\"2019-08-26\",\"2019-08-27\",\"2019-08-28\",\"2019-08-29\",\"2019-08-30\",\"2019-09-02\",\"2019-09-03\",\"2019-09-04\",\"2019-09-05\",\"2019-09-06\",\"2019-09-09\",\"2019-09-10\",\"2019-09-11\",\"2019-09-12\",\"2019-09-13\",\"2019-09-17\",\"2019-09-18\",\"2019-09-19\",\"2019-09-20\",\"2019-09-24\",\"2019-09-25\",\"2019-09-26\",\"2019-09-27\",\"2019-09-30\",\"2019-10-01\",\"2019-10-02\",\"2019-10-03\",\"2019-10-04\",\"2019-10-07\",\"2019-10-08\",\"2019-10-09\",\"2019-10-10\",\"2019-10-11\",\"2019-10-15\",\"2019-10-16\",\"2019-10-17\",\"2019-10-18\",\"2019-10-21\",\"2019-10-23\",\"2019-10-24\",\"2019-10-25\",\"2019-10-28\",\"2019-10-29\",\"2019-10-30\",\"2019-10-31\",\"2019-11-01\",\"2019-11-05\",\"2019-11-06\",\"2019-11-07\",\"2019-11-08\",\"2019-11-11\",\"2019-11-12\",\"2019-11-13\",\"2019-11-14\",\"2019-11-15\",\"2019-11-18\",\"2019-11-19\",\"2019-11-20\",\"2019-11-21\",\"2019-11-22\",\"2019-11-25\",\"2019-11-26\",\"2019-11-27\",\"2019-11-28\",\"2019-11-29\",\"2019-12-02\",\"2019-12-03\",\"2019-12-04\",\"2019-12-05\",\"2019-12-06\",\"2019-12-09\",\"2019-12-10\",\"2019-12-11\",\"2019-12-12\",\"2019-12-13\",\"2019-12-16\",\"2019-12-17\",\"2019-12-18\",\"2019-12-19\",\"2019-12-20\",\"2019-12-23\",\"2019-12-24\",\"2019-12-25\",\"2019-12-26\",\"2019-12-27\",\"2019-12-30\",\"2020-01-06\",\"2020-01-07\",\"2020-01-08\",\"2020-01-09\",\"2020-01-10\",\"2020-01-14\",\"2020-01-15\",\"2020-01-16\",\"2020-01-17\",\"2020-01-20\",\"2020-01-21\",\"2020-01-22\",\"2020-01-23\",\"2020-01-24\",\"2020-01-27\",\"2020-01-28\",\"2020-01-29\",\"2020-01-30\",\"2020-01-31\",\"2020-02-03\",\"2020-02-04\",\"2020-02-05\",\"2020-02-06\",\"2020-02-07\",\"2020-02-10\",\"2020-02-12\",\"2020-02-13\",\"2020-02-14\",\"2020-02-17\",\"2020-02-18\",\"2020-02-19\",\"2020-02-20\",\"2020-02-21\",\"2020-02-25\",\"2020-02-26\",\"2020-02-27\",\"2020-02-28\",\"2020-03-02\",\"2020-03-03\",\"2020-03-04\",\"2020-03-05\",\"2020-03-06\",\"2020-03-09\",\"2020-03-10\",\"2020-03-11\",\"2020-03-12\",\"2020-03-13\",\"2020-03-16\",\"2020-03-17\",\"2020-03-18\",\"2020-03-19\",\"2020-03-23\",\"2020-03-24\",\"2020-03-25\",\"2020-03-26\",\"2020-03-27\",\"2020-03-30\",\"2020-03-31\",\"2020-04-01\",\"2020-04-02\",\"2020-04-03\",\"2020-04-06\",\"2020-04-07\",\"2020-04-08\",\"2020-04-09\",\"2020-04-10\",\"2020-04-13\",\"2020-04-14\",\"2020-04-15\",\"2020-04-16\",\"2020-04-17\",\"2020-04-20\",\"2020-04-21\",\"2020-04-22\",\"2020-04-23\",\"2020-04-24\",\"2020-04-27\",\"2020-04-28\",\"2020-04-30\",\"2020-05-01\",\"2020-05-07\",\"2020-05-08\",\"2020-05-11\",\"2020-05-12\",\"2020-05-13\",\"2020-05-14\",\"2020-05-15\",\"2020-05-18\",\"2020-05-19\",\"2020-05-20\",\"2020-05-21\",\"2020-05-22\",\"2020-05-25\",\"2020-05-26\",\"2020-05-27\",\"2020-05-28\",\"2020-05-29\",\"2020-06-01\",\"2020-06-02\",\"2020-06-03\",\"2020-06-04\",\"2020-06-05\",\"2020-06-08\",\"2020-06-09\",\"2020-06-10\",\"2020-06-11\",\"2020-06-12\",\"2020-06-15\",\"2020-06-16\",\"2020-06-17\",\"2020-06-18\",\"2020-06-19\",\"2020-06-22\",\"2020-06-23\",\"2020-06-24\",\"2020-06-25\",\"2020-06-26\",\"2020-06-29\",\"2020-06-30\",\"2020-07-01\",\"2020-07-02\",\"2020-07-03\",\"2020-07-06\",\"2020-07-07\",\"2020-07-08\",\"2020-07-09\",\"2020-07-10\",\"2020-07-13\",\"2020-07-14\",\"2020-07-15\",\"2020-07-16\",\"2020-07-17\",\"2020-07-20\",\"2020-07-21\",\"2020-07-22\",\"2020-07-27\",\"2020-07-28\",\"2020-07-29\",\"2020-07-30\",\"2020-07-31\",\"2020-08-03\",\"2020-08-04\",\"2020-08-05\",\"2020-08-06\",\"2020-08-07\",\"2020-08-11\",\"2020-08-12\",\"2020-08-13\",\"2020-08-14\",\"2020-08-17\",\"2020-08-18\",\"2020-08-19\",\"2020-08-20\",\"2020-08-21\",\"2020-08-24\",\"2020-08-25\",\"2020-08-26\",\"2020-08-27\",\"2020-08-28\",\"2020-08-31\",\"2020-09-01\",\"2020-09-02\",\"2020-09-03\",\"2020-09-04\",\"2020-09-07\",\"2020-09-08\",\"2020-09-09\",\"2020-09-10\",\"2020-09-11\",\"2020-09-14\",\"2020-09-15\",\"2020-09-16\",\"2020-09-17\",\"2020-09-18\",\"2020-09-23\",\"2020-09-24\",\"2020-09-25\",\"2020-09-28\",\"2020-09-29\",\"2020-09-30\",\"2020-10-01\",\"2020-10-02\",\"2020-10-05\",\"2020-10-06\",\"2020-10-07\",\"2020-10-08\",\"2020-10-09\",\"2020-10-12\",\"2020-10-13\",\"2020-10-14\",\"2020-10-15\",\"2020-10-16\",\"2020-10-19\",\"2020-10-20\",\"2020-10-21\",\"2020-10-22\",\"2020-10-23\",\"2020-10-26\",\"2020-10-27\",\"2020-10-28\",\"2020-10-29\",\"2020-10-30\",\"2020-11-02\",\"2020-11-04\",\"2020-11-05\",\"2020-11-06\",\"2020-11-09\",\"2020-11-10\",\"2020-11-11\",\"2020-11-12\",\"2020-11-13\",\"2020-11-16\",\"2020-11-17\",\"2020-11-18\",\"2020-11-19\",\"2020-11-20\",\"2020-11-24\",\"2020-11-25\",\"2020-11-26\",\"2020-11-27\",\"2020-11-30\",\"2020-12-01\",\"2020-12-02\",\"2020-12-03\",\"2020-12-04\",\"2020-12-07\",\"2020-12-08\",\"2020-12-09\",\"2020-12-10\",\"2020-12-11\",\"2020-12-14\",\"2020-12-15\",\"2020-12-16\",\"2020-12-17\",\"2020-12-18\",\"2020-12-21\",\"2020-12-22\",\"2020-12-23\",\"2020-12-24\",\"2020-12-25\",\"2020-12-28\",\"2020-12-29\",\"2020-12-30\",\"2021-01-04\",\"2021-01-05\",\"2021-01-06\",\"2021-01-07\",\"2021-01-08\",\"2021-01-12\",\"2021-01-13\",\"2021-01-14\",\"2021-01-15\",\"2021-01-18\",\"2021-01-19\",\"2021-01-20\",\"2021-01-21\",\"2021-01-22\",\"2021-01-25\",\"2021-01-26\",\"2021-01-27\",\"2021-01-28\",\"2021-01-29\",\"2021-02-01\",\"2021-02-02\",\"2021-02-03\",\"2021-02-04\",\"2021-02-05\",\"2021-02-08\",\"2021-02-09\",\"2021-02-10\",\"2021-02-12\",\"2021-02-15\",\"2021-02-16\",\"2021-02-17\",\"2021-02-18\",\"2021-02-19\",\"2021-02-22\",\"2021-02-24\",\"2021-02-25\",\"2021-02-26\",\"2021-03-01\",\"2021-03-02\",\"2021-03-03\",\"2021-03-04\",\"2021-03-05\",\"2021-03-08\",\"2021-03-09\",\"2021-03-10\",\"2021-03-11\",\"2021-03-12\",\"2021-03-15\",\"2021-03-16\",\"2021-03-17\",\"2021-03-18\",\"2021-03-19\",\"2021-03-22\",\"2021-03-23\",\"2021-03-24\",\"2021-03-25\",\"2021-03-26\",\"2021-03-29\",\"2021-03-30\",\"2021-03-31\",\"2021-04-01\",\"2021-04-02\",\"2021-04-05\",\"2021-04-06\",\"2021-04-07\",\"2021-04-08\",\"2021-04-09\",\"2021-04-12\",\"2021-04-13\",\"2021-04-14\",\"2021-04-15\",\"2021-04-16\",\"2021-04-19\",\"2021-04-20\",\"2021-04-21\",\"2021-04-22\",\"2021-04-23\",\"2021-04-26\",\"2021-04-27\",\"2021-04-28\",\"2021-04-30\",\"2021-05-06\",\"2021-05-07\",\"2021-05-10\",\"2021-05-11\",\"2021-05-12\",\"2021-05-13\",\"2021-05-14\",\"2021-05-17\",\"2021-05-18\",\"2021-05-19\",\"2021-05-20\",\"2021-05-21\",\"2021-05-24\",\"2021-05-25\",\"2021-05-26\",\"2021-05-27\",\"2021-05-28\",\"2021-05-31\",\"2021-06-01\",\"2021-06-02\",\"2021-06-03\",\"2021-06-04\",\"2021-06-07\",\"2021-06-08\",\"2021-06-09\",\"2021-06-10\",\"2021-06-11\",\"2021-06-14\",\"2021-06-15\",\"2021-06-16\",\"2021-06-17\",\"2021-06-18\",\"2021-06-21\",\"2021-06-22\",\"2021-06-23\",\"2021-06-24\",\"2021-06-25\",\"2021-06-28\",\"2021-06-29\",\"2021-06-30\",\"2021-07-01\",\"2021-07-02\",\"2021-07-05\",\"2021-07-06\",\"2021-07-07\",\"2021-07-08\",\"2021-07-09\",\"2021-07-12\",\"2021-07-13\",\"2021-07-14\",\"2021-07-15\",\"2021-07-16\",\"2021-07-19\",\"2021-07-20\",\"2021-07-21\",\"2021-07-26\",\"2021-07-27\",\"2021-07-28\",\"2021-07-29\",\"2021-07-30\",\"2021-08-02\",\"2021-08-03\",\"2021-08-04\",\"2021-08-05\",\"2021-08-06\",\"2021-08-10\",\"2021-08-11\",\"2021-08-12\",\"2021-08-13\",\"2021-08-16\",\"2021-08-17\",\"2021-08-18\",\"2021-08-19\",\"2021-08-20\",\"2021-08-23\",\"2021-08-24\",\"2021-08-25\",\"2021-08-26\",\"2021-08-27\",\"2021-08-30\",\"2021-08-31\",\"2021-09-01\",\"2021-09-02\",\"2021-09-03\",\"2021-09-06\",\"2021-09-07\",\"2021-09-08\",\"2021-09-09\",\"2021-09-10\",\"2021-09-13\",\"2021-09-14\",\"2021-09-15\",\"2021-09-16\",\"2021-09-17\",\"2021-09-21\",\"2021-09-22\",\"2021-09-24\",\"2021-09-27\",\"2021-09-28\",\"2021-09-29\",\"2021-09-30\",\"2021-10-01\",\"2021-10-04\",\"2021-10-05\",\"2021-10-06\",\"2021-10-07\",\"2021-10-08\",\"2021-10-11\",\"2021-10-12\",\"2021-10-13\",\"2021-10-14\",\"2021-10-15\",\"2021-10-18\",\"2021-10-19\",\"2021-10-20\",\"2021-10-21\",\"2021-10-22\",\"2021-10-25\",\"2021-10-26\",\"2021-10-27\",\"2021-10-28\",\"2021-10-29\",\"2021-11-01\",\"2021-11-02\",\"2021-11-04\",\"2021-11-05\",\"2021-11-08\",\"2021-11-09\",\"2021-11-10\",\"2021-11-11\",\"2021-11-12\",\"2021-11-15\",\"2021-11-16\",\"2021-11-17\",\"2021-11-18\",\"2021-11-19\",\"2021-11-22\",\"2021-11-24\",\"2021-11-25\",\"2021-11-26\",\"2021-11-29\",\"2021-11-30\",\"2021-12-01\",\"2021-12-02\",\"2021-12-03\"],\"type\":\"candlestick\"},{\"close\":[3330.0,3305.0,3315.0,3330.0,3220.0,3370.0,3335.0,3330.0,3215.0,3280.0,3310.0,3300.0,3260.0,3245.0,3250.0,3260.0,3210.0,3270.0,3235.0,3275.0,3215.0,3260.0,3230.0,3140.0,3175.0,3150.0,3180.0,3200.0,3160.0,3175.0,3175.0,3175.0,3185.0,3165.0,3175.0,3195.0,3220.0,3200.0,3165.0,3190.0,3235.0,3230.0,3215.0,3250.0,3280.0,3280.0,3325.0,3325.0,3335.0,3295.0,3400.0,3380.0,3395.0,3380.0,3425.0,3480.0,3505.0,3540.0,3570.0,3555.0,3485.0,3585.0,3565.0,3565.0,3480.0,3475.0,3405.0,3435.0,3485.0,3440.0,3350.0,3375.0,3350.0,3355.0,3365.0,3430.0,3500.0,3555.0,3590.0,3565.0,3515.0,3490.0,3400.0,3455.0,3415.0,3380.0,3390.0,3425.0,3475.0,3430.0,3460.0,3425.0,3390.0,3425.0,3495.0,3485.0,3565.0,3565.0,3560.0,3550.0,3535.0,3570.0,3560.0,3560.0,3535.0,3460.0,3435.0,3395.0,3380.0,3415.0,3420.0,3400.0,3410.0,3470.0,3460.0,3495.0,3520.0,3470.0,3510.0,3550.0,3485.0,3505.0,3495.0,3530.0,3560.0,3590.0,3730.0,3560.0,3495.0,3485.0,3520.0,3550.0,3500.0,3655.0,3695.0,3615.0,3575.0,3600.0,3570.0,3440.0,3420.0,3430.0,3365.0,3400.0,3385.0,3355.0,3360.0,3320.0,3340.0,3335.0,3345.0,3310.0,3325.0,3360.0,3360.0,3355.0,3445.0,3420.0,3420.0,3470.0,3450.0,3440.0,3455.0,3445.0,3410.0,3445.0,3440.0,3360.0,3385.0,3355.0,3230.0,3190.0,3215.0,3215.0,3215.0,3225.0,3170.0,3130.0,3135.0,3120.0,3160.0,3140.0,3130.0,3150.0,3200.0,3170.0,3270.0,3340.0,3295.0,3320.0,3390.0,3480.0,3560.0,3620.0,3570.0,3565.0,3560.0,3560.0,3555.0,3605.0,3595.0,3560.0,3530.0,3510.0,3455.0,3425.0,3485.0,3520.0,3545.0,3610.0,3675.0,3640.0,3570.0,3595.0,3610.0,3560.0,3615.0,3610.0,3675.0,3685.0,3595.0,3585.0,3640.0,3605.0,3690.0,3715.0,3740.0,3755.0,3785.0,3785.0,3865.0,3880.0,3925.0,3895.0,3905.0,3885.0,3955.0,3955.0,3945.0,3915.0,3930.0,3975.0,3940.0,3950.0,3940.0,3935.0,3910.0,3915.0,4030.0,3960.0,3955.0,3925.0,3955.0,3765.0,4050.0,4035.0,3925.0,3890.0,3910.0,3915.0,3955.0,3900.0,3895.0,3885.0,3795.0,3830.0,3885.0,3875.0,3790.0,3655.0,3610.0,3625.0,3575.0,3500.0,3500.0,3515.0,3620.0,3690.0,3680.0,3710.0,3615.0,3625.0,3675.0,3700.0,3720.0,3605.0,3565.0,3570.0,3675.0,3590.0,3545.0,3585.0,3640.0,3695.0,3720.0,3715.0,3725.0,3660.0,3660.0,3675.0,3530.0,3520.0,3600.0,3610.0,3715.0,3765.0,3760.0,3840.0,3915.0,3875.0,3845.0,4045.0,4035.0,3930.0,3930.0,3960.0,4045.0,4025.0,4020.0,4015.0,3990.0,3950.0,3925.0,3915.0,3945.0,4015.0,4005.0,3955.0,3980.0,3980.0,3975.0,3990.0,4025.0,4080.0,4105.0,4185.0,4225.0,4175.0,4185.0,4150.0,4165.0,4165.0,4180.0,4145.0,4085.0,4035.0,4090.0,4075.0,4110.0,4095.0,4115.0,4180.0,4190.0,4295.0,4325.0,4280.0,4255.0,4220.0,4165.0,4045.0,4075.0,4045.0,4090.0,4045.0,4175.0,4245.0,4235.0,4190.0,4055.0,4095.0,4095.0,4100.0,4070.0,4100.0,4080.0,4095.0,4445.0,4320.0,4245.0,4360.0,4340.0,4310.0,4300.0,4230.0,4120.0,4150.0,4175.0,4210.0,4180.0,4135.0,4060.0,3980.0,3920.0,3850.0,3805.0,3875.0,3825.0,3695.0,3785.0,3760.0,3680.0,3615.0,3560.0,3505.0,3595.0,3605.0,3675.0,3785.0,3760.0,3805.0,3775.0,3845.0,3805.0,3855.0,3835.0,3765.0,3760.0,3750.0,3740.0,3780.0,3820.0,3795.0,3850.0,3910.0,3985.0,4090.0,4230.0,4195.0,4115.0,4090.0,4020.0,4025.0,4045.0,4035.0,4075.0,3905.0,4015.0,3850.0,3800.0,3710.0,3720.0,3780.0,3695.0,3620.0,3695.0,3650.0,3645.0,3560.0,3445.0,3430.0,3430.0,3570.0,3640.0,3635.0,3655.0,3670.0,3670.0,3755.0,3725.0,3750.0,3680.0,3665.0,3715.0,3720.0,3740.0,3745.0,3670.0,3740.0,3760.0,3800.0,3800.0,3795.0,3895.0,3955.0,3860.0,3930.0,3880.0,3940.0,3855.0,3740.0,3850.0,3750.0,3765.0,3705.0,3605.0,3585.0,3420.0,3290.0,3080.0,3155.0,3395.0,3370.0,3380.0,3470.0,3390.0,3500.0,3395.0,3360.0,3525.0,3520.0,3495.0,3565.0,3605.0,3545.0,3555.0,3560.0,3535.0,3560.0,3620.0,3615.0,3585.0,3610.0,3670.0,3725.0,3665.0,3615.0,3595.0,3590.0,3645.0,3645.0,3625.0,3725.0,3760.0,3725.0,3795.0,3735.0,3780.0,3755.0,3745.0,3775.0,3775.0,3875.0,3880.0,3860.0,3855.0,3795.0,3810.0,3875.0,3845.0,3860.0,3945.0,3960.0,3935.0,3990.0,3860.0,3715.0,3840.0,3845.0,3705.0,3765.0,3790.0,3730.0,3680.0,3735.0,3655.0,3640.0,3635.0,3640.0,3650.0,3560.0,3635.0,3600.0,3565.0,3455.0,3480.0,3500.0,3620.0,3525.0,3575.0,3535.0,3595.0,3570.0,3425.0,3380.0,3375.0,3425.0,3460.0,3495.0,3485.0,3450.0,3435.0,3400.0,3475.0,3485.0,3450.0,3425.0,3380.0,3315.0,3300.0,3195.0,3180.0,3285.0,3320.0,3310.0,3385.0,3360.0,3355.0,3340.0,3295.0,3265.0,3205.0,3250.0,3295.0,3280.0,3250.0,3200.0,3145.0,3160.0,3145.0,3230.0,3245.0,3220.0,3270.0,3250.0,3205.0,3215.0,3190.0,3335.0,3400.0,3440.0,3460.0,3385.0,3450.0,3440.0,3470.0,3475.0,3485.0,3480.0,3535.0,3585.0,3545.0,3525.0,3450.0,3435.0,3430.0,3440.0,3460.0,3500.0,3475.0,3495.0,3485.0,3500.0,3420.0,3480.0,3465.0,3445.0,3475.0,3390.0,3420.0,3405.0,3490.0,3595.0,3605.0,3655.0,3630.0,3715.0,3680.0,3750.0,3675.0,3780.0,3785.0,3800.0,3760.0,3770.0,3810.0,3795.0,3765.0,3745.0,3770.0,3710.0,3690.0,3735.0,3785.0,3705.0,3660.0,3485.0,3495.0,3520.0,3505.0,3510.0,3525.0,3530.0,3470.0,3435.0,3490.0,3505.0,3505.0,3510.0,3485.0,3525.0,3575.0,3590.0,3595.0,3635.0,3610.0,3605.0,3615.0,3660.0,3675.0,3635.0,3590.0,3640.0,3665.0,3670.0,3625.0,3670.0,3620.0,3630.0,3645.0,3530.0,3535.0,3500.0,3535.0,3505.0,3500.0,3525.0,3530.0,3540.0,3535.0,3535.0,3520.0,3545.0,3570.0,3620.0,3665.0,3670.0,3825.0,3715.0,3710.0,3665.0,3670.0,3720.0,3665.0,3615.0,3690.0,3625.0,3710.0,3590.0,3565.0,3590.0,3610.0,3570.0,3565.0,3590.0,3655.0,3615.0,3570.0,3515.0,3510.0,3560.0,3490.0,3515.0,3455.0,3435.0,3450.0,3475.0,3485.0,3415.0,3425.0,3365.0,3415.0,3405.0,3350.0,3330.0,3335.0,3335.0,3200.0,3225.0,3145.0,3005.0,3065.0,2986.0,2964.0,3000.0,2857.0,2709.0,2714.0,2778.0,2679.0,2468.0,2492.0,2645.0,2813.0,2917.0,3020.0,2941.0,3050.0,3130.0,3350.0,3365.0,3280.0,3125.0,3080.0,3030.0,3170.0,3160.0,3210.0,3215.0,3340.0,3330.0,3460.0,3490.0,3580.0,3520.0,3475.0,3535.0,3510.0,3555.0,3590.0,3570.0,3580.0,3495.0,3565.0,3580.0,3640.0,3600.0,3650.0,3700.0,3640.0,3735.0,3715.0,3720.0,3670.0,3660.0,3590.0,3590.0,3595.0,3600.0,3645.0,3700.0,3635.0,3620.0,3640.0,3625.0,3590.0,3625.0,3560.0,3510.0,3540.0,3445.0,3415.0,3405.0,3460.0,3410.0,3445.0,3435.0,3445.0,3410.0,3415.0,3440.0,3435.0,3440.0,3315.0,3285.0,3255.0,3250.0,3315.0,3260.0,3305.0,3275.0,3315.0,3075.0,3135.0,3215.0,3220.0,3230.0,3270.0,3275.0,3335.0,3310.0,3260.0,3295.0,3225.0,3320.0,3365.0,3385.0,3370.0,3315.0,3415.0,3500.0,3535.0,3520.0,3515.0,3545.0,3510.0,3445.0,3480.0,3435.0,3435.0,3490.0,3505.0,3460.0,3485.0,3470.0,3550.0,3525.0,3485.0,3475.0,3535.0,3495.0,3550.0,3580.0,3675.0,3590.0,3670.0,3670.0,3695.0,3650.0,3610.0,3665.0,3760.0,3895.0,3770.0,null,3800.0,3775.0,3785.0,3730.0,3800.0,3745.0,3990.0,3955.0,3895.0,3855.0,3845.0,3850.0,3795.0,3840.0,3760.0,3770.0,3725.0,3780.0,3825.0,3765.0,3680.0,3635.0,3670.0,3660.0,3665.0,3685.0,3645.0,3690.0,3685.0,3605.0,3585.0,3530.0,3495.0,3510.0,3505.0,3495.0,3515.0,3530.0,3480.0,3365.0,3375.0,3420.0,3460.0,3430.0,3375.0,3350.0,3375.0,3470.0,3530.0,3510.0,3525.0,3515.0,3500.0,3515.0,3535.0,3465.0,3525.0,3555.0,3595.0,3615.0,3625.0,3575.0,3560.0,3555.0,3610.0,3615.0,3655.0,3650.0,3720.0,3810.0,3800.0,3775.0,3745.0,3720.0,3675.0,3610.0,3630.0,3730.0,3775.0,3745.0,3695.0,3645.0,3745.0,3740.0,3735.0,3830.0,3935.0,3980.0,3935.0,3935.0,3985.0,3980.0,3980.0,4025.0,3915.0,3880.0,3780.0,3805.0,3700.0,3775.0,3835.0,3805.0,3870.0,3920.0,3885.0,3905.0,3880.0,3920.0,3980.0,4065.0,4045.0,4080.0,4095.0,4045.0,4035.0,4005.0,3935.0,4075.0,4075.0,4130.0,4115.0,4090.0,4040.0,4010.0,4045.0,4010.0,4025.0,3970.0,4060.0,3935.0,3860.0,3925.0,3925.0,3975.0,4000.0,3975.0,3925.0,4015.0,4005.0,3925.0,3930.0,3855.0,3855.0,3860.0,3850.0,3825.0,3795.0,3765.0,3740.0,3845.0,3790.0,3805.0,3830.0,3815.0,3800.0,3770.0,3725.0,3720.0,3630.0,3680.0,3715.0,3735.0,3720.0,3775.0,3740.0,3775.0,3760.0,3840.0,3865.0,3850.0,3855.0,3850.0,3795.0,3765.0,3740.0,3690.0,3755.0,3750.0,3735.0,3745.0,3720.0,3675.0,3650.0,3720.0,3760.0,3745.0,3735.0,3710.0,3695.0,3650.0,3755.0,3835.0,3855.0,3830.0,3730.0,3690.0,3655.0,3685.0,3710.0,3735.0,3700.0,3670.0,3580.0,3675.0,3655.0,3645.0,3635.0,3565.0,3600.0,3615.0,3645.0,3685.0,3625.0,3600.0,3615.0,3605.0,3550.0,3615.0,3625.0,3635.0,3625.0,3605.0,3635.0,3600.0,3625.0,3620.0,3630.0,3650.0,3665.0,3675.0,3655.0,3685.0,3670.0,3685.0,3595.0,3660.0,3680.0,3620.0,3550.0,3600.0,3560.0,3550.0,3510.0,3510.0,3430.0,3430.0,3405.0,3455.0,3425.0,3465.0,3470.0,3440.0,3500.0,3505.0,3525.0,3470.0,3450.0,3440.0,3425.0,3430.0,3400.0,3400.0,3395.0,3390.0,3430.0,3500.0,3455.0,3435.0,3420.0,3370.0,3350.0,3365.0,3385.0,3410.0,3355.0,3345.0,3315.0,3265.0,3270.0,3245.0,3235.0,3215.0,3175.0,3125.0,3125.0,3135.0,3110.0,3170.0],\"high\":[3350.0,3355.0,3335.0,3360.0,3295.0,3395.0,3390.0,3390.0,3325.0,3290.0,3340.0,3340.0,3310.0,3260.0,3310.0,3290.0,3260.0,3275.0,3270.0,3285.0,3255.0,3270.0,3265.0,3205.0,3175.0,3165.0,3190.0,3220.0,3235.0,3185.0,3190.0,3175.0,3195.0,3180.0,3180.0,3200.0,3235.0,3220.0,3180.0,3210.0,3245.0,3255.0,3240.0,3255.0,3290.0,3300.0,3345.0,3365.0,3340.0,3325.0,3465.0,3395.0,3440.0,3430.0,3430.0,3490.0,3525.0,3545.0,3615.0,3560.0,3565.0,3600.0,3670.0,3595.0,3545.0,3535.0,3525.0,3435.0,3515.0,3460.0,3445.0,3375.0,3415.0,3395.0,3385.0,3445.0,3510.0,3580.0,3620.0,3585.0,3560.0,3525.0,3525.0,3455.0,3455.0,3425.0,3415.0,3445.0,3500.0,3490.0,3485.0,3450.0,3450.0,3440.0,3515.0,3515.0,3570.0,3635.0,3575.0,3560.0,3590.0,3580.0,3595.0,3570.0,3580.0,3535.0,3465.0,3430.0,3415.0,3425.0,3495.0,3445.0,3445.0,3470.0,3485.0,3510.0,3545.0,3535.0,3525.0,3620.0,3555.0,3520.0,3515.0,3555.0,3610.0,3610.0,3780.0,3645.0,3585.0,3490.0,3560.0,3555.0,3605.0,3665.0,3730.0,3705.0,3625.0,3605.0,3610.0,3580.0,3455.0,3460.0,3420.0,3415.0,3395.0,3400.0,3395.0,3360.0,3375.0,3345.0,3380.0,3370.0,3335.0,3380.0,3370.0,3365.0,3460.0,3460.0,3445.0,3505.0,3470.0,3470.0,3465.0,3465.0,3425.0,3450.0,3480.0,3440.0,3410.0,3395.0,3335.0,3220.0,3225.0,3230.0,3265.0,3225.0,3230.0,3175.0,3160.0,3170.0,3165.0,3185.0,3155.0,3155.0,3215.0,3210.0,3280.0,3370.0,3355.0,3350.0,3430.0,3530.0,3570.0,3630.0,3610.0,3565.0,3565.0,3570.0,3570.0,3620.0,3620.0,3590.0,3555.0,3520.0,3485.0,3455.0,3495.0,3545.0,3550.0,3610.0,3680.0,3700.0,3580.0,3605.0,3635.0,3605.0,3635.0,3630.0,3685.0,3720.0,3710.0,3600.0,3650.0,3635.0,3715.0,3715.0,3755.0,3780.0,3800.0,3825.0,3875.0,3880.0,3930.0,3950.0,3920.0,3985.0,3985.0,4000.0,3980.0,3940.0,3940.0,3995.0,3980.0,3980.0,3950.0,3965.0,3935.0,3915.0,4060.0,4050.0,3995.0,3960.0,3970.0,3930.0,4080.0,4060.0,4095.0,3980.0,3920.0,3965.0,4060.0,3985.0,3945.0,3920.0,3890.0,3920.0,3900.0,3895.0,3845.0,3735.0,3755.0,3660.0,3585.0,3615.0,3530.0,3570.0,3660.0,3690.0,3705.0,3750.0,3660.0,3665.0,3690.0,3740.0,3750.0,3690.0,3605.0,3605.0,3685.0,3650.0,3600.0,3650.0,3655.0,3695.0,3740.0,3725.0,3755.0,3720.0,3680.0,3685.0,3650.0,3520.0,3670.0,3620.0,3725.0,3775.0,3810.0,3850.0,3935.0,3940.0,3905.0,4085.0,4115.0,4000.0,3950.0,3980.0,4045.0,4080.0,4080.0,4055.0,4025.0,3985.0,3960.0,3935.0,3965.0,4015.0,4010.0,4000.0,4005.0,4020.0,4010.0,3990.0,4030.0,4085.0,4115.0,4190.0,4250.0,4225.0,4210.0,4190.0,4180.0,4205.0,4215.0,4210.0,4145.0,4060.0,4095.0,4095.0,4145.0,4125.0,4115.0,4180.0,4210.0,4310.0,4355.0,4345.0,4295.0,4290.0,4200.0,4155.0,4095.0,4070.0,4090.0,4060.0,4180.0,4270.0,4240.0,4250.0,4245.0,4120.0,4115.0,4170.0,4140.0,4100.0,4145.0,4125.0,4475.0,4440.0,4330.0,4380.0,4360.0,4370.0,4320.0,4335.0,4210.0,4165.0,4175.0,4220.0,4195.0,4200.0,4135.0,4035.0,3985.0,3895.0,3895.0,3890.0,3865.0,3815.0,3810.0,3810.0,3745.0,3650.0,3615.0,3540.0,3615.0,3620.0,3680.0,3800.0,3780.0,3850.0,3805.0,3865.0,3850.0,3865.0,3890.0,3810.0,3770.0,3795.0,3760.0,3795.0,3875.0,3885.0,3850.0,3930.0,4000.0,4100.0,4235.0,4195.0,4225.0,4175.0,4075.0,4060.0,4060.0,4080.0,4095.0,4050.0,4075.0,3965.0,3915.0,3790.0,3735.0,3830.0,3805.0,3655.0,3720.0,3715.0,3690.0,3610.0,3575.0,3515.0,3440.0,3575.0,3675.0,3635.0,3675.0,3690.0,3730.0,3770.0,3790.0,3775.0,3700.0,3720.0,3715.0,3750.0,3790.0,3745.0,3685.0,3745.0,3805.0,3810.0,3825.0,3840.0,3920.0,3995.0,3945.0,3930.0,3905.0,3940.0,3890.0,3890.0,3900.0,3850.0,3780.0,3760.0,3650.0,3620.0,3540.0,3410.0,3170.0,3230.0,3405.0,3460.0,3395.0,3520.0,3495.0,3505.0,3495.0,3455.0,3565.0,3565.0,3525.0,3590.0,3620.0,3615.0,3600.0,3580.0,3580.0,3570.0,3635.0,3640.0,3665.0,3645.0,3675.0,3730.0,3740.0,3630.0,3650.0,3605.0,3680.0,3715.0,3655.0,3745.0,3780.0,3785.0,3800.0,3765.0,3785.0,3795.0,3770.0,3775.0,3820.0,3885.0,3880.0,3895.0,3900.0,3825.0,3820.0,3905.0,3885.0,3900.0,3965.0,3975.0,3960.0,3990.0,3975.0,3815.0,3855.0,3860.0,3790.0,3795.0,3825.0,3825.0,3715.0,3830.0,3665.0,3690.0,3685.0,3650.0,3665.0,3665.0,3660.0,3630.0,3615.0,3545.0,3515.0,3515.0,3630.0,3620.0,3580.0,3570.0,3610.0,3580.0,3540.0,3435.0,3440.0,3435.0,3465.0,3515.0,3535.0,3475.0,3450.0,3450.0,3485.0,3495.0,3485.0,3455.0,3410.0,3355.0,3355.0,3250.0,3265.0,3285.0,3360.0,3355.0,3400.0,3365.0,3380.0,3355.0,3330.0,3305.0,3285.0,3275.0,3320.0,3295.0,3275.0,3270.0,3190.0,3210.0,3160.0,3230.0,3270.0,3245.0,3295.0,3260.0,3235.0,3240.0,3215.0,3495.0,3415.0,3470.0,3480.0,3470.0,3460.0,3465.0,3495.0,3495.0,3490.0,3495.0,3540.0,3595.0,3615.0,3530.0,3515.0,3470.0,3435.0,3460.0,3485.0,3505.0,3495.0,3500.0,3510.0,3530.0,3480.0,3520.0,3475.0,3480.0,3485.0,3430.0,3455.0,3455.0,3490.0,3595.0,3630.0,3655.0,3670.0,3740.0,3725.0,3750.0,3735.0,3780.0,3825.0,3805.0,3795.0,3805.0,3820.0,3835.0,3840.0,3780.0,3815.0,3765.0,3725.0,3750.0,3795.0,3745.0,3750.0,3505.0,3535.0,3525.0,3560.0,3540.0,3555.0,3555.0,3515.0,3515.0,3495.0,3540.0,3520.0,3515.0,3520.0,3540.0,3605.0,3655.0,3610.0,3635.0,3650.0,3615.0,3655.0,3660.0,3680.0,3715.0,3650.0,3685.0,3685.0,3685.0,3670.0,3675.0,3660.0,3655.0,3665.0,3575.0,3545.0,3545.0,3555.0,3515.0,3510.0,3530.0,3545.0,3580.0,3555.0,3565.0,3545.0,3580.0,3570.0,3620.0,3665.0,3690.0,3825.0,3730.0,3775.0,3700.0,3695.0,3720.0,3715.0,3645.0,3720.0,3675.0,3740.0,3625.0,3625.0,3615.0,3620.0,3605.0,3600.0,3595.0,3675.0,3650.0,3625.0,3545.0,3530.0,3560.0,3555.0,3555.0,3510.0,3435.0,3480.0,3500.0,3520.0,3440.0,3475.0,3405.0,3430.0,3420.0,3415.0,3375.0,3375.0,3385.0,3280.0,3225.0,3230.0,3090.0,3115.0,3120.0,2993.0,3035.0,2960.0,2785.0,2715.0,2835.0,2744.0,2551.0,2593.0,2664.0,2886.0,2957.0,3045.0,3090.0,3065.0,3140.0,3350.0,3365.0,3385.0,3305.0,3160.0,3150.0,3200.0,3190.0,3250.0,3245.0,3350.0,3380.0,3465.0,3545.0,3580.0,3620.0,3530.0,3545.0,3540.0,3585.0,3590.0,3620.0,3585.0,3605.0,3610.0,3600.0,3660.0,3660.0,3670.0,3725.0,3730.0,3735.0,3745.0,3755.0,3735.0,3680.0,3655.0,3610.0,3620.0,3615.0,3645.0,3730.0,3695.0,3640.0,3675.0,3660.0,3635.0,3635.0,3665.0,3530.0,3585.0,3505.0,3510.0,3420.0,3490.0,3450.0,3445.0,3475.0,3460.0,3430.0,3450.0,3460.0,3455.0,3480.0,3430.0,3315.0,3295.0,3265.0,3320.0,3325.0,3330.0,3315.0,3330.0,3210.0,3160.0,3235.0,3285.0,3250.0,3305.0,3310.0,3340.0,3355.0,3310.0,3320.0,3305.0,3335.0,3385.0,3410.0,3385.0,3380.0,3415.0,3515.0,3595.0,3550.0,3570.0,3585.0,3545.0,3520.0,3535.0,3485.0,3485.0,3490.0,3560.0,3550.0,3550.0,3490.0,3550.0,3565.0,3505.0,3510.0,3540.0,3505.0,3550.0,3590.0,3675.0,3635.0,3670.0,3695.0,3700.0,3660.0,3670.0,3680.0,3765.0,3915.0,3870.0,null,3825.0,3840.0,3805.0,3785.0,3800.0,3775.0,4095.0,3955.0,3955.0,3885.0,3885.0,3885.0,3850.0,3845.0,3815.0,3805.0,3785.0,3780.0,3830.0,3805.0,3740.0,3670.0,3690.0,3690.0,3755.0,3720.0,3760.0,3715.0,3705.0,3650.0,3640.0,3600.0,3525.0,3555.0,3520.0,3560.0,3555.0,3550.0,3525.0,3495.0,3420.0,3455.0,3495.0,3495.0,3445.0,3375.0,3380.0,3475.0,3530.0,3555.0,3545.0,3565.0,3520.0,3530.0,3560.0,3510.0,3545.0,3570.0,3650.0,3630.0,3635.0,3610.0,3575.0,3600.0,3620.0,3640.0,3655.0,3665.0,3735.0,3850.0,3860.0,3795.0,3810.0,3720.0,3755.0,3645.0,3640.0,3730.0,3790.0,3770.0,3795.0,3700.0,3755.0,3775.0,3770.0,3850.0,3940.0,3995.0,3995.0,3955.0,4000.0,4025.0,4020.0,4045.0,4005.0,3910.0,3865.0,3830.0,3785.0,3785.0,3845.0,3830.0,3885.0,3925.0,3975.0,3930.0,3915.0,3925.0,3990.0,4065.0,4045.0,4080.0,4115.0,4065.0,4045.0,4040.0,4005.0,4075.0,4115.0,4145.0,4130.0,4130.0,4130.0,4090.0,4085.0,4130.0,4035.0,4020.0,4070.0,4040.0,3940.0,3960.0,3935.0,3995.0,4040.0,3990.0,3970.0,4025.0,4045.0,4015.0,3955.0,3915.0,3885.0,3890.0,3890.0,3850.0,3820.0,3790.0,3775.0,3850.0,3870.0,3810.0,3845.0,3840.0,3875.0,3820.0,3785.0,3735.0,3725.0,3720.0,3820.0,3765.0,3730.0,3780.0,3760.0,3775.0,3780.0,3855.0,3880.0,3895.0,3875.0,3855.0,3835.0,3795.0,3795.0,3710.0,3790.0,3785.0,3735.0,3770.0,3745.0,3690.0,3715.0,3720.0,3765.0,3765.0,3770.0,3755.0,3755.0,3660.0,3770.0,3845.0,3875.0,3920.0,3800.0,3725.0,3675.0,3720.0,3750.0,3745.0,3740.0,3710.0,3660.0,3700.0,3720.0,3685.0,3670.0,3660.0,3630.0,3635.0,3655.0,3700.0,3675.0,3655.0,3640.0,3630.0,3630.0,3635.0,3650.0,3645.0,3640.0,3635.0,3635.0,3620.0,3650.0,3625.0,3640.0,3655.0,3685.0,3680.0,3685.0,3685.0,3685.0,3705.0,3660.0,3665.0,3685.0,3640.0,3630.0,3610.0,3620.0,3555.0,3520.0,3540.0,3480.0,3440.0,3450.0,3480.0,3485.0,3490.0,3470.0,3465.0,3505.0,3525.0,3535.0,3505.0,3475.0,3460.0,3435.0,3440.0,3415.0,3425.0,3425.0,3395.0,3430.0,3500.0,3475.0,3450.0,3435.0,3415.0,3380.0,3385.0,3405.0,3440.0,3430.0,3385.0,3365.0,3315.0,3275.0,3265.0,3265.0,3240.0,3215.0,3160.0,3190.0,3145.0,3150.0,3175.0],\"low\":[3270.0,3295.0,3260.0,3310.0,3180.0,3265.0,3305.0,3320.0,3205.0,3210.0,3280.0,3290.0,3260.0,3220.0,3220.0,3240.0,3195.0,3225.0,3225.0,3245.0,3210.0,3200.0,3225.0,3130.0,3110.0,3130.0,3160.0,3175.0,3160.0,3150.0,3155.0,3135.0,3175.0,3150.0,3150.0,3155.0,3175.0,3145.0,3145.0,3170.0,3190.0,3215.0,3205.0,3215.0,3255.0,3255.0,3305.0,3315.0,3295.0,3290.0,3375.0,3330.0,3375.0,3360.0,3365.0,3410.0,3475.0,3515.0,3545.0,3520.0,3485.0,3460.0,3550.0,3540.0,3465.0,3465.0,3350.0,3395.0,3450.0,3395.0,3350.0,3295.0,3335.0,3330.0,3345.0,3385.0,3470.0,3515.0,3545.0,3545.0,3500.0,3465.0,3380.0,3405.0,3410.0,3375.0,3380.0,3390.0,3425.0,3415.0,3430.0,3400.0,3380.0,3390.0,3445.0,3460.0,3495.0,3550.0,3485.0,3490.0,3530.0,3525.0,3550.0,3525.0,3530.0,3450.0,3420.0,3395.0,3365.0,3375.0,3420.0,3385.0,3395.0,3405.0,3450.0,3435.0,3500.0,3460.0,3480.0,3530.0,3485.0,3440.0,3460.0,3495.0,3550.0,3545.0,3615.0,3510.0,3480.0,3450.0,3505.0,3490.0,3425.0,3515.0,3570.0,3610.0,3565.0,3555.0,3560.0,3440.0,3380.0,3410.0,3360.0,3375.0,3360.0,3345.0,3335.0,3295.0,3325.0,3285.0,3315.0,3305.0,3305.0,3320.0,3310.0,3275.0,3360.0,3400.0,3395.0,3425.0,3410.0,3410.0,3405.0,3420.0,3405.0,3380.0,3395.0,3350.0,3340.0,3350.0,3215.0,3170.0,3175.0,3180.0,3210.0,3195.0,3115.0,3115.0,3120.0,3115.0,3110.0,3130.0,3110.0,3115.0,3140.0,3170.0,3210.0,3285.0,3275.0,3305.0,3290.0,3410.0,3505.0,3555.0,3540.0,3510.0,3535.0,3515.0,3515.0,3580.0,3575.0,3545.0,3525.0,3485.0,3455.0,3415.0,3420.0,3505.0,3490.0,3525.0,3605.0,3615.0,3535.0,3570.0,3585.0,3550.0,3560.0,3585.0,3590.0,3640.0,3595.0,3555.0,3585.0,3575.0,3650.0,3670.0,3700.0,3735.0,3710.0,3770.0,3740.0,3810.0,3865.0,3875.0,3855.0,3880.0,3870.0,3950.0,3915.0,3910.0,3870.0,3920.0,3895.0,3910.0,3930.0,3885.0,3890.0,3880.0,3965.0,3950.0,3950.0,3885.0,3885.0,3695.0,3895.0,3945.0,3915.0,3890.0,3875.0,3910.0,3950.0,3895.0,3885.0,3875.0,3795.0,3830.0,3820.0,3835.0,3780.0,3640.0,3610.0,3585.0,3515.0,3495.0,3445.0,3505.0,3555.0,3640.0,3650.0,3660.0,3610.0,3610.0,3630.0,3670.0,3720.0,3595.0,3545.0,3530.0,3595.0,3580.0,3530.0,3560.0,3615.0,3630.0,3675.0,3670.0,3705.0,3640.0,3625.0,3640.0,3520.0,3465.0,3575.0,3560.0,3620.0,3720.0,3755.0,3725.0,3885.0,3865.0,3825.0,3955.0,4005.0,3865.0,3880.0,3905.0,3920.0,3995.0,3985.0,4010.0,3965.0,3935.0,3910.0,3900.0,3915.0,3965.0,3955.0,3930.0,3945.0,3965.0,3965.0,3950.0,3980.0,4015.0,4060.0,4110.0,4200.0,4170.0,4170.0,4125.0,4125.0,4165.0,4165.0,4130.0,4075.0,4025.0,4035.0,4055.0,4090.0,4075.0,4065.0,4115.0,4150.0,4230.0,4265.0,4250.0,4250.0,4220.0,4135.0,4045.0,4030.0,4040.0,4015.0,4015.0,4045.0,4210.0,4180.0,4155.0,4040.0,4060.0,4045.0,4075.0,4045.0,4055.0,4075.0,4015.0,4100.0,4320.0,4235.0,4250.0,4295.0,4285.0,4260.0,4210.0,4110.0,4110.0,4110.0,4170.0,4095.0,4120.0,4030.0,3960.0,3905.0,3830.0,3795.0,3770.0,3815.0,3695.0,3710.0,3745.0,3655.0,3595.0,3555.0,3480.0,3540.0,3575.0,3600.0,3700.0,3720.0,3785.0,3730.0,3795.0,3770.0,3805.0,3830.0,3760.0,3700.0,3735.0,3705.0,3745.0,3800.0,3785.0,3740.0,3875.0,3915.0,3995.0,4110.0,4130.0,4115.0,4060.0,4005.0,4010.0,4015.0,4000.0,4010.0,3875.0,3930.0,3835.0,3795.0,3660.0,3660.0,3755.0,3685.0,3595.0,3600.0,3645.0,3630.0,3540.0,3440.0,3430.0,3355.0,3460.0,3580.0,3575.0,3580.0,3630.0,3665.0,3710.0,3715.0,3715.0,3615.0,3650.0,3650.0,3675.0,3730.0,3690.0,3645.0,3645.0,3750.0,3775.0,3765.0,3770.0,3830.0,3935.0,3855.0,3780.0,3835.0,3870.0,3835.0,3740.0,3790.0,3710.0,3715.0,3685.0,3575.0,3565.0,3400.0,3280.0,3060.0,3115.0,3305.0,3345.0,3255.0,3455.0,3365.0,3440.0,3390.0,3320.0,3400.0,3460.0,3470.0,3495.0,3565.0,3545.0,3505.0,3535.0,3530.0,3500.0,3565.0,3580.0,3570.0,3595.0,3615.0,3670.0,3650.0,3565.0,3565.0,3540.0,3600.0,3630.0,3590.0,3660.0,3735.0,3720.0,3735.0,3715.0,3745.0,3740.0,3720.0,3720.0,3765.0,3790.0,3820.0,3850.0,3820.0,3785.0,3765.0,3850.0,3815.0,3860.0,3910.0,3915.0,3910.0,3930.0,3850.0,3705.0,3745.0,3795.0,3705.0,3740.0,3775.0,3720.0,3665.0,3690.0,3540.0,3605.0,3625.0,3600.0,3625.0,3550.0,3600.0,3580.0,3545.0,3455.0,3470.0,3460.0,3530.0,3515.0,3535.0,3520.0,3555.0,3540.0,3425.0,3350.0,3340.0,3300.0,3415.0,3460.0,3475.0,3435.0,3410.0,3400.0,3400.0,3445.0,3450.0,3420.0,3325.0,3285.0,3295.0,3195.0,3165.0,3220.0,3295.0,3300.0,3335.0,3340.0,3340.0,3300.0,3275.0,3260.0,3200.0,3230.0,3270.0,3245.0,3240.0,3180.0,3140.0,3145.0,3120.0,3155.0,3210.0,3205.0,3235.0,3225.0,3175.0,3200.0,3130.0,3290.0,3280.0,3425.0,3440.0,3375.0,3400.0,3390.0,3405.0,3455.0,3445.0,3455.0,3470.0,3535.0,3545.0,3485.0,3445.0,3375.0,3320.0,3390.0,3425.0,3460.0,3405.0,3450.0,3415.0,3480.0,3370.0,3415.0,3435.0,3410.0,3460.0,3375.0,3400.0,3395.0,3410.0,3520.0,3575.0,3565.0,3615.0,3635.0,3670.0,3670.0,3655.0,3675.0,3770.0,3755.0,3735.0,3760.0,3785.0,3790.0,3750.0,3735.0,3750.0,3685.0,3650.0,3665.0,3745.0,3680.0,3640.0,3385.0,3455.0,3475.0,3490.0,3465.0,3495.0,3505.0,3450.0,3435.0,3465.0,3470.0,3495.0,3475.0,3465.0,3510.0,3520.0,3570.0,3570.0,3585.0,3610.0,3595.0,3605.0,3600.0,3645.0,3635.0,3585.0,3605.0,3650.0,3650.0,3615.0,3625.0,3615.0,3615.0,3640.0,3515.0,3510.0,3480.0,3525.0,3470.0,3475.0,3495.0,3520.0,3525.0,3530.0,3520.0,3505.0,3525.0,3525.0,3570.0,3605.0,3650.0,3625.0,3680.0,3710.0,3660.0,3655.0,3685.0,3665.0,3595.0,3660.0,3590.0,3695.0,3560.0,3555.0,3570.0,3575.0,3570.0,3565.0,3555.0,3590.0,3610.0,3570.0,3510.0,3480.0,3515.0,3475.0,3510.0,3440.0,3390.0,3410.0,3445.0,3485.0,3400.0,3415.0,3355.0,3340.0,3360.0,3335.0,3330.0,3335.0,3330.0,3200.0,3185.0,3145.0,2964.0,2955.0,2983.0,2941.0,2977.0,2854.0,2667.0,2565.0,2714.0,2641.0,2403.0,2475.0,2380.0,2651.0,2884.0,2817.0,2898.0,2995.0,2953.0,3185.0,3205.0,3265.0,3115.0,3080.0,3000.0,2990.0,3095.0,3140.0,3135.0,3215.0,3305.0,3400.0,3460.0,3445.0,3510.0,3455.0,3425.0,3475.0,3520.0,3485.0,3550.0,3525.0,3495.0,3470.0,3515.0,3595.0,3600.0,3635.0,3630.0,3640.0,3630.0,3715.0,3705.0,3670.0,3625.0,3565.0,3535.0,3565.0,3535.0,3545.0,3640.0,3605.0,3600.0,3605.0,3565.0,3590.0,3575.0,3550.0,3480.0,3500.0,3435.0,3415.0,3355.0,3385.0,3365.0,3380.0,3425.0,3390.0,3375.0,3410.0,3425.0,3420.0,3430.0,3300.0,3215.0,3225.0,3215.0,3210.0,3260.0,3260.0,3260.0,3285.0,3035.0,3045.0,3155.0,3205.0,3220.0,3240.0,3260.0,3275.0,3290.0,3250.0,3260.0,3225.0,3250.0,3335.0,3340.0,3335.0,3300.0,3340.0,3405.0,3530.0,3500.0,3505.0,3520.0,3500.0,3435.0,3445.0,3410.0,3430.0,3440.0,3490.0,3420.0,3480.0,3430.0,3465.0,3520.0,3470.0,3465.0,3450.0,3450.0,3485.0,3550.0,3600.0,3550.0,3620.0,3625.0,3655.0,3600.0,3610.0,3640.0,3685.0,3725.0,3770.0,null,3760.0,3745.0,3765.0,3720.0,3735.0,3725.0,3880.0,3855.0,3875.0,3820.0,3830.0,3815.0,3770.0,3790.0,3745.0,3720.0,3710.0,3675.0,3740.0,3735.0,3665.0,3600.0,3605.0,3640.0,3650.0,3660.0,3645.0,3650.0,3650.0,3575.0,3555.0,3525.0,3495.0,3450.0,3480.0,3475.0,3490.0,3495.0,3475.0,3360.0,3355.0,3390.0,3415.0,3430.0,3360.0,3335.0,3310.0,3395.0,3475.0,3505.0,3485.0,3490.0,3465.0,3465.0,3505.0,3455.0,3500.0,3535.0,3595.0,3585.0,3585.0,3565.0,3490.0,3555.0,3575.0,3590.0,3595.0,3625.0,3635.0,3745.0,3750.0,3740.0,3725.0,3670.0,3670.0,3610.0,3600.0,3620.0,3725.0,3680.0,3695.0,3645.0,3665.0,3720.0,3725.0,3770.0,3870.0,3880.0,3905.0,3885.0,3915.0,3950.0,3960.0,3960.0,3905.0,3860.0,3780.0,3765.0,3700.0,3725.0,3780.0,3760.0,3765.0,3810.0,3855.0,3865.0,3860.0,3870.0,3880.0,3985.0,4000.0,4020.0,4075.0,4015.0,4000.0,4000.0,3935.0,3995.0,4050.0,4075.0,4095.0,4075.0,4035.0,3985.0,4030.0,3990.0,3995.0,3960.0,4010.0,3910.0,3860.0,3880.0,3895.0,3940.0,3980.0,3935.0,3910.0,3960.0,3995.0,3920.0,3920.0,3855.0,3850.0,3860.0,3845.0,3805.0,3780.0,3755.0,3735.0,3755.0,3790.0,3775.0,3785.0,3805.0,3785.0,3770.0,3710.0,3690.0,3630.0,3630.0,3710.0,3685.0,3675.0,3710.0,3720.0,3745.0,3745.0,3770.0,3815.0,3835.0,3835.0,3825.0,3775.0,3750.0,3740.0,3670.0,3710.0,3740.0,3695.0,3730.0,3700.0,3660.0,3650.0,3660.0,3730.0,3730.0,3735.0,3705.0,3695.0,3595.0,3705.0,3805.0,3765.0,3775.0,3725.0,3680.0,3650.0,3660.0,3700.0,3700.0,3695.0,3665.0,3565.0,3620.0,3640.0,3635.0,3615.0,3555.0,3570.0,3600.0,3630.0,3650.0,3620.0,3595.0,3590.0,3595.0,3545.0,3600.0,3610.0,3620.0,3620.0,3595.0,3610.0,3585.0,3615.0,3595.0,3600.0,3630.0,3660.0,3640.0,3645.0,3640.0,3660.0,3660.0,3590.0,3620.0,3645.0,3610.0,3550.0,3575.0,3555.0,3515.0,3480.0,3505.0,3415.0,3405.0,3390.0,3430.0,3425.0,3450.0,3435.0,3435.0,3455.0,3480.0,3490.0,3450.0,3445.0,3435.0,3420.0,3415.0,3395.0,3390.0,3390.0,3365.0,3375.0,3460.0,3440.0,3420.0,3420.0,3365.0,3345.0,3335.0,3375.0,3385.0,3355.0,3335.0,3315.0,3250.0,3255.0,3230.0,3235.0,3215.0,3155.0,3110.0,3115.0,3110.0,3110.0,3115.0],\"open\":[3270.0,3340.0,3320.0,3325.0,3260.0,3290.0,3380.0,3350.0,3280.0,3225.0,3310.0,3300.0,3300.0,3250.0,3305.0,3290.0,3245.0,3255.0,3240.0,3250.0,3255.0,3215.0,3260.0,3200.0,3160.0,3155.0,3175.0,3200.0,3235.0,3165.0,3175.0,3175.0,3190.0,3180.0,3175.0,3165.0,3200.0,3220.0,3155.0,3190.0,3205.0,3220.0,3240.0,3225.0,3260.0,3300.0,3320.0,3320.0,3300.0,3310.0,3400.0,3370.0,3380.0,3360.0,3380.0,3420.0,3480.0,3520.0,3570.0,3560.0,3565.0,3460.0,3625.0,3550.0,3545.0,3495.0,3505.0,3430.0,3470.0,3455.0,3440.0,3300.0,3415.0,3375.0,3350.0,3385.0,3485.0,3520.0,3620.0,3585.0,3545.0,3515.0,3500.0,3445.0,3455.0,3415.0,3395.0,3400.0,3425.0,3490.0,3435.0,3405.0,3450.0,3400.0,3450.0,3500.0,3500.0,3600.0,3555.0,3540.0,3540.0,3535.0,3570.0,3545.0,3575.0,3525.0,3460.0,3410.0,3405.0,3380.0,3450.0,3420.0,3425.0,3450.0,3460.0,3460.0,3500.0,3520.0,3490.0,3530.0,3550.0,3510.0,3470.0,3495.0,3555.0,3560.0,3620.0,3590.0,3585.0,3485.0,3530.0,3555.0,3480.0,3520.0,3645.0,3685.0,3615.0,3575.0,3590.0,3560.0,3440.0,3420.0,3410.0,3375.0,3385.0,3390.0,3340.0,3360.0,3345.0,3320.0,3350.0,3350.0,3330.0,3330.0,3360.0,3325.0,3370.0,3455.0,3415.0,3430.0,3465.0,3460.0,3415.0,3465.0,3410.0,3430.0,3445.0,3440.0,3385.0,3385.0,3305.0,3210.0,3185.0,3220.0,3215.0,3220.0,3225.0,3160.0,3125.0,3155.0,3135.0,3185.0,3145.0,3130.0,3140.0,3200.0,3220.0,3285.0,3355.0,3315.0,3300.0,3410.0,3505.0,3560.0,3580.0,3540.0,3535.0,3540.0,3530.0,3600.0,3580.0,3585.0,3535.0,3515.0,3480.0,3445.0,3430.0,3515.0,3500.0,3555.0,3610.0,3685.0,3580.0,3570.0,3595.0,3590.0,3565.0,3630.0,3590.0,3665.0,3710.0,3585.0,3600.0,3610.0,3650.0,3690.0,3705.0,3735.0,3755.0,3780.0,3775.0,3845.0,3880.0,3950.0,3920.0,3975.0,3880.0,4000.0,3930.0,3930.0,3915.0,3920.0,3980.0,3940.0,3945.0,3915.0,3935.0,3910.0,3970.0,4030.0,3980.0,3950.0,3950.0,3840.0,3900.0,4020.0,4060.0,3925.0,3890.0,3925.0,3980.0,3985.0,3900.0,3895.0,3870.0,3845.0,3835.0,3875.0,3830.0,3695.0,3725.0,3610.0,3550.0,3605.0,3495.0,3525.0,3585.0,3670.0,3695.0,3660.0,3645.0,3660.0,3690.0,3740.0,3735.0,3690.0,3545.0,3530.0,3595.0,3650.0,3590.0,3600.0,3655.0,3655.0,3695.0,3690.0,3720.0,3720.0,3630.0,3640.0,3605.0,3500.0,3600.0,3580.0,3645.0,3740.0,3800.0,3735.0,3900.0,3935.0,3875.0,3990.0,4005.0,3995.0,3930.0,3945.0,3950.0,4035.0,4055.0,4025.0,3980.0,3975.0,3960.0,3930.0,3925.0,3980.0,4000.0,4000.0,3950.0,3985.0,3980.0,3970.0,3980.0,4030.0,4060.0,4120.0,4200.0,4225.0,4190.0,4185.0,4170.0,4190.0,4165.0,4200.0,4130.0,4045.0,4055.0,4070.0,4125.0,4125.0,4080.0,4145.0,4155.0,4240.0,4315.0,4280.0,4280.0,4275.0,4185.0,4120.0,4060.0,4050.0,4025.0,4050.0,4050.0,4215.0,4240.0,4250.0,4245.0,4070.0,4060.0,4100.0,4080.0,4070.0,4110.0,4070.0,4145.0,4440.0,4295.0,4250.0,4315.0,4330.0,4270.0,4325.0,4190.0,4150.0,4155.0,4180.0,4180.0,4190.0,4120.0,4020.0,3985.0,3880.0,3850.0,3790.0,3865.0,3810.0,3730.0,3785.0,3730.0,3650.0,3600.0,3525.0,3555.0,3575.0,3660.0,3720.0,3780.0,3785.0,3800.0,3795.0,3845.0,3840.0,3860.0,3805.0,3710.0,3755.0,3710.0,3765.0,3800.0,3845.0,3780.0,3895.0,3975.0,4020.0,4110.0,4180.0,4155.0,4140.0,4050.0,4010.0,4015.0,4070.0,4010.0,3935.0,3965.0,3945.0,3820.0,3730.0,3670.0,3790.0,3790.0,3650.0,3620.0,3715.0,3690.0,3550.0,3565.0,3440.0,3400.0,3460.0,3585.0,3630.0,3605.0,3655.0,3730.0,3730.0,3770.0,3715.0,3700.0,3690.0,3650.0,3710.0,3760.0,3700.0,3680.0,3670.0,3770.0,3780.0,3820.0,3830.0,3830.0,3965.0,3940.0,3790.0,3870.0,3880.0,3890.0,3890.0,3810.0,3785.0,3740.0,3760.0,3650.0,3570.0,3515.0,3395.0,3130.0,3150.0,3330.0,3460.0,3285.0,3480.0,3470.0,3450.0,3495.0,3455.0,3495.0,3510.0,3500.0,3525.0,3590.0,3610.0,3530.0,3560.0,3530.0,3520.0,3600.0,3615.0,3650.0,3600.0,3615.0,3670.0,3740.0,3600.0,3565.0,3590.0,3605.0,3670.0,3640.0,3745.0,3750.0,3785.0,3750.0,3765.0,3770.0,3780.0,3770.0,3760.0,3775.0,3800.0,3840.0,3880.0,3820.0,3805.0,3780.0,3850.0,3835.0,3885.0,3910.0,3935.0,3960.0,3950.0,3945.0,3815.0,3745.0,3840.0,3780.0,3750.0,3790.0,3815.0,3715.0,3730.0,3550.0,3630.0,3680.0,3630.0,3640.0,3665.0,3610.0,3605.0,3580.0,3540.0,3490.0,3470.0,3530.0,3620.0,3550.0,3565.0,3590.0,3555.0,3540.0,3390.0,3380.0,3320.0,3450.0,3465.0,3535.0,3465.0,3440.0,3445.0,3410.0,3445.0,3485.0,3430.0,3395.0,3340.0,3330.0,3235.0,3255.0,3250.0,3300.0,3325.0,3350.0,3350.0,3350.0,3335.0,3330.0,3290.0,3245.0,3240.0,3270.0,3295.0,3260.0,3230.0,3180.0,3155.0,3130.0,3180.0,3220.0,3235.0,3235.0,3260.0,3230.0,3205.0,3200.0,3330.0,3335.0,3435.0,3450.0,3470.0,3400.0,3435.0,3405.0,3485.0,3450.0,3475.0,3490.0,3540.0,3585.0,3495.0,3470.0,3435.0,3325.0,3410.0,3430.0,3485.0,3470.0,3500.0,3425.0,3495.0,3480.0,3420.0,3440.0,3480.0,3465.0,3405.0,3455.0,3440.0,3440.0,3540.0,3585.0,3595.0,3665.0,3650.0,3710.0,3680.0,3735.0,3680.0,3785.0,3800.0,3770.0,3790.0,3790.0,3805.0,3815.0,3760.0,3810.0,3765.0,3650.0,3665.0,3745.0,3730.0,3735.0,3470.0,3465.0,3490.0,3530.0,3540.0,3530.0,3530.0,3500.0,3480.0,3470.0,3525.0,3520.0,3515.0,3520.0,3520.0,3525.0,3645.0,3595.0,3600.0,3650.0,3610.0,3655.0,3600.0,3665.0,3680.0,3630.0,3605.0,3660.0,3650.0,3645.0,3640.0,3650.0,3630.0,3650.0,3555.0,3545.0,3535.0,3535.0,3490.0,3480.0,3500.0,3520.0,3555.0,3540.0,3565.0,3530.0,3570.0,3525.0,3575.0,3645.0,3660.0,3670.0,3720.0,3760.0,3695.0,3660.0,3700.0,3700.0,3635.0,3715.0,3635.0,3725.0,3570.0,3595.0,3605.0,3615.0,3600.0,3570.0,3580.0,3590.0,3645.0,3615.0,3540.0,3500.0,3515.0,3535.0,3525.0,3460.0,3425.0,3465.0,3480.0,3490.0,3435.0,3440.0,3400.0,3350.0,3405.0,3415.0,3375.0,3340.0,3330.0,3230.0,3190.0,3215.0,3035.0,2965.0,3120.0,2951.0,3005.0,2951.0,2773.0,2659.0,2715.0,2728.0,2502.0,2486.0,2400.0,2668.0,2895.0,2817.0,3070.0,2998.0,3055.0,3250.0,3350.0,3370.0,3250.0,3100.0,3085.0,2994.0,3160.0,3190.0,3205.0,3285.0,3340.0,3400.0,3460.0,3455.0,3600.0,3475.0,3445.0,3500.0,3560.0,3530.0,3590.0,3560.0,3600.0,3475.0,3530.0,3620.0,3635.0,3640.0,3640.0,3710.0,3630.0,3720.0,3735.0,3715.0,3670.0,3645.0,3610.0,3590.0,3595.0,3560.0,3645.0,3695.0,3640.0,3660.0,3660.0,3635.0,3600.0,3650.0,3505.0,3505.0,3465.0,3440.0,3400.0,3385.0,3440.0,3430.0,3470.0,3440.0,3430.0,3445.0,3460.0,3430.0,3460.0,3430.0,3305.0,3295.0,3250.0,3250.0,3305.0,3275.0,3300.0,3305.0,3190.0,3090.0,3180.0,3250.0,3220.0,3250.0,3280.0,3275.0,3335.0,3300.0,3270.0,3265.0,3255.0,3340.0,3360.0,3380.0,3375.0,3340.0,3420.0,3535.0,3535.0,3550.0,3540.0,3545.0,3510.0,3485.0,3450.0,3485.0,3450.0,3495.0,3485.0,3510.0,3470.0,3495.0,3565.0,3480.0,3470.0,3450.0,3450.0,3510.0,3575.0,3600.0,3620.0,3625.0,3660.0,3680.0,3600.0,3625.0,3640.0,3700.0,3770.0,3865.0,null,3770.0,3790.0,3800.0,3785.0,3780.0,3765.0,3900.0,3920.0,3955.0,3870.0,3885.0,3850.0,3850.0,3795.0,3805.0,3770.0,3765.0,3700.0,3745.0,3775.0,3725.0,3635.0,3650.0,3670.0,3685.0,3690.0,3725.0,3685.0,3690.0,3645.0,3640.0,3600.0,3525.0,3460.0,3510.0,3560.0,3530.0,3505.0,3520.0,3480.0,3400.0,3410.0,3440.0,3490.0,3445.0,3360.0,3335.0,3410.0,3485.0,3530.0,3490.0,3565.0,3515.0,3485.0,3530.0,3490.0,3525.0,3550.0,3610.0,3630.0,3620.0,3610.0,3575.0,3565.0,3590.0,3610.0,3605.0,3655.0,3665.0,3780.0,3795.0,3790.0,3800.0,3715.0,3720.0,3640.0,3640.0,3635.0,3780.0,3735.0,3745.0,3675.0,3675.0,3745.0,3740.0,3785.0,3875.0,3945.0,3995.0,3945.0,3970.0,4000.0,4000.0,3980.0,4005.0,3910.0,3850.0,3800.0,3770.0,3745.0,3800.0,3810.0,3765.0,3895.0,3975.0,3930.0,3915.0,3880.0,3920.0,3995.0,4010.0,4040.0,4100.0,4060.0,4045.0,4040.0,4005.0,4005.0,4100.0,4075.0,4125.0,4075.0,4080.0,4045.0,4080.0,4095.0,4005.0,4020.0,4025.0,4040.0,3940.0,3910.0,3925.0,3965.0,4020.0,3965.0,3950.0,3990.0,4030.0,4015.0,3935.0,3910.0,3865.0,3885.0,3875.0,3850.0,3810.0,3775.0,3765.0,3785.0,3860.0,3810.0,3800.0,3815.0,3875.0,3820.0,3770.0,3725.0,3705.0,3645.0,3710.0,3725.0,3730.0,3720.0,3740.0,3760.0,3765.0,3780.0,3840.0,3890.0,3865.0,3845.0,3810.0,3795.0,3795.0,3700.0,3740.0,3770.0,3710.0,3750.0,3745.0,3685.0,3715.0,3665.0,3730.0,3760.0,3770.0,3725.0,3725.0,3650.0,3720.0,3810.0,3790.0,3785.0,3795.0,3720.0,3665.0,3690.0,3745.0,3720.0,3725.0,3710.0,3660.0,3635.0,3700.0,3670.0,3615.0,3655.0,3570.0,3605.0,3645.0,3650.0,3650.0,3655.0,3590.0,3605.0,3605.0,3600.0,3620.0,3625.0,3630.0,3620.0,3635.0,3590.0,3620.0,3600.0,3600.0,3640.0,3675.0,3640.0,3650.0,3640.0,3680.0,3700.0,3655.0,3620.0,3680.0,3610.0,3630.0,3595.0,3620.0,3555.0,3515.0,3510.0,3480.0,3420.0,3425.0,3430.0,3475.0,3455.0,3465.0,3450.0,3465.0,3500.0,3530.0,3505.0,3470.0,3450.0,3420.0,3425.0,3405.0,3420.0,3400.0,3375.0,3375.0,3485.0,3475.0,3450.0,3420.0,3405.0,3370.0,3360.0,3390.0,3385.0,3420.0,3375.0,3360.0,3305.0,3265.0,3265.0,3250.0,3240.0,3215.0,3140.0,3130.0,3120.0,3110.0,3130.0],\"x\":[\"2017-01-04\",\"2017-01-05\",\"2017-01-06\",\"2017-01-10\",\"2017-01-11\",\"2017-01-12\",\"2017-01-13\",\"2017-01-16\",\"2017-01-17\",\"2017-01-18\",\"2017-01-19\",\"2017-01-20\",\"2017-01-23\",\"2017-01-24\",\"2017-01-25\",\"2017-01-26\",\"2017-01-27\",\"2017-01-30\",\"2017-01-31\",\"2017-02-01\",\"2017-02-02\",\"2017-02-03\",\"2017-02-06\",\"2017-02-07\",\"2017-02-08\",\"2017-02-09\",\"2017-02-10\",\"2017-02-13\",\"2017-02-14\",\"2017-02-15\",\"2017-02-16\",\"2017-02-17\",\"2017-02-20\",\"2017-02-21\",\"2017-02-22\",\"2017-02-23\",\"2017-02-24\",\"2017-02-27\",\"2017-02-28\",\"2017-03-01\",\"2017-03-02\",\"2017-03-03\",\"2017-03-06\",\"2017-03-07\",\"2017-03-08\",\"2017-03-09\",\"2017-03-10\",\"2017-03-13\",\"2017-03-14\",\"2017-03-15\",\"2017-03-16\",\"2017-03-17\",\"2017-03-21\",\"2017-03-22\",\"2017-03-23\",\"2017-03-24\",\"2017-03-27\",\"2017-03-28\",\"2017-03-29\",\"2017-03-30\",\"2017-03-31\",\"2017-04-03\",\"2017-04-04\",\"2017-04-05\",\"2017-04-06\",\"2017-04-07\",\"2017-04-10\",\"2017-04-11\",\"2017-04-12\",\"2017-04-13\",\"2017-04-14\",\"2017-04-17\",\"2017-04-18\",\"2017-04-19\",\"2017-04-20\",\"2017-04-21\",\"2017-04-24\",\"2017-04-25\",\"2017-04-26\",\"2017-04-27\",\"2017-04-28\",\"2017-05-01\",\"2017-05-02\",\"2017-05-08\",\"2017-05-09\",\"2017-05-10\",\"2017-05-11\",\"2017-05-12\",\"2017-05-15\",\"2017-05-16\",\"2017-05-17\",\"2017-05-18\",\"2017-05-19\",\"2017-05-22\",\"2017-05-23\",\"2017-05-24\",\"2017-05-25\",\"2017-05-26\",\"2017-05-29\",\"2017-05-30\",\"2017-05-31\",\"2017-06-01\",\"2017-06-02\",\"2017-06-05\",\"2017-06-06\",\"2017-06-07\",\"2017-06-08\",\"2017-06-09\",\"2017-06-12\",\"2017-06-13\",\"2017-06-14\",\"2017-06-15\",\"2017-06-16\",\"2017-06-19\",\"2017-06-20\",\"2017-06-21\",\"2017-06-22\",\"2017-06-23\",\"2017-06-26\",\"2017-06-27\",\"2017-06-28\",\"2017-06-29\",\"2017-06-30\",\"2017-07-03\",\"2017-07-04\",\"2017-07-05\",\"2017-07-06\",\"2017-07-07\",\"2017-07-10\",\"2017-07-11\",\"2017-07-12\",\"2017-07-13\",\"2017-07-14\",\"2017-07-18\",\"2017-07-19\",\"2017-07-20\",\"2017-07-21\",\"2017-07-24\",\"2017-07-25\",\"2017-07-26\",\"2017-07-27\",\"2017-07-28\",\"2017-07-31\",\"2017-08-01\",\"2017-08-02\",\"2017-08-03\",\"2017-08-04\",\"2017-08-07\",\"2017-08-08\",\"2017-08-09\",\"2017-08-10\",\"2017-08-14\",\"2017-08-15\",\"2017-08-16\",\"2017-08-17\",\"2017-08-18\",\"2017-08-21\",\"2017-08-22\",\"2017-08-23\",\"2017-08-24\",\"2017-08-25\",\"2017-08-28\",\"2017-08-29\",\"2017-08-30\",\"2017-08-31\",\"2017-09-01\",\"2017-09-04\",\"2017-09-05\",\"2017-09-06\",\"2017-09-07\",\"2017-09-08\",\"2017-09-11\",\"2017-09-12\",\"2017-09-13\",\"2017-09-14\",\"2017-09-15\",\"2017-09-19\",\"2017-09-20\",\"2017-09-21\",\"2017-09-22\",\"2017-09-25\",\"2017-09-26\",\"2017-09-27\",\"2017-09-28\",\"2017-09-29\",\"2017-10-02\",\"2017-10-03\",\"2017-10-04\",\"2017-10-05\",\"2017-10-06\",\"2017-10-10\",\"2017-10-11\",\"2017-10-12\",\"2017-10-13\",\"2017-10-16\",\"2017-10-17\",\"2017-10-18\",\"2017-10-19\",\"2017-10-20\",\"2017-10-23\",\"2017-10-24\",\"2017-10-25\",\"2017-10-26\",\"2017-10-27\",\"2017-10-30\",\"2017-10-31\",\"2017-11-01\",\"2017-11-02\",\"2017-11-06\",\"2017-11-07\",\"2017-11-08\",\"2017-11-09\",\"2017-11-10\",\"2017-11-13\",\"2017-11-14\",\"2017-11-15\",\"2017-11-16\",\"2017-11-17\",\"2017-11-20\",\"2017-11-21\",\"2017-11-22\",\"2017-11-24\",\"2017-11-27\",\"2017-11-28\",\"2017-11-29\",\"2017-11-30\",\"2017-12-01\",\"2017-12-04\",\"2017-12-05\",\"2017-12-06\",\"2017-12-07\",\"2017-12-08\",\"2017-12-11\",\"2017-12-12\",\"2017-12-13\",\"2017-12-14\",\"2017-12-15\",\"2017-12-18\",\"2017-12-19\",\"2017-12-20\",\"2017-12-21\",\"2017-12-22\",\"2017-12-25\",\"2017-12-26\",\"2017-12-27\",\"2017-12-28\",\"2017-12-29\",\"2018-01-04\",\"2018-01-05\",\"2018-01-09\",\"2018-01-10\",\"2018-01-11\",\"2018-01-12\",\"2018-01-15\",\"2018-01-16\",\"2018-01-17\",\"2018-01-18\",\"2018-01-19\",\"2018-01-22\",\"2018-01-23\",\"2018-01-24\",\"2018-01-25\",\"2018-01-26\",\"2018-01-29\",\"2018-01-30\",\"2018-01-31\",\"2018-02-01\",\"2018-02-02\",\"2018-02-05\",\"2018-02-06\",\"2018-02-07\",\"2018-02-08\",\"2018-02-09\",\"2018-02-13\",\"2018-02-14\",\"2018-02-15\",\"2018-02-16\",\"2018-02-19\",\"2018-02-20\",\"2018-02-21\",\"2018-02-22\",\"2018-02-23\",\"2018-02-26\",\"2018-02-27\",\"2018-02-28\",\"2018-03-01\",\"2018-03-02\",\"2018-03-05\",\"2018-03-06\",\"2018-03-07\",\"2018-03-08\",\"2018-03-09\",\"2018-03-12\",\"2018-03-13\",\"2018-03-14\",\"2018-03-15\",\"2018-03-16\",\"2018-03-19\",\"2018-03-20\",\"2018-03-22\",\"2018-03-23\",\"2018-03-26\",\"2018-03-27\",\"2018-03-28\",\"2018-03-29\",\"2018-03-30\",\"2018-04-02\",\"2018-04-03\",\"2018-04-04\",\"2018-04-05\",\"2018-04-06\",\"2018-04-09\",\"2018-04-10\",\"2018-04-11\",\"2018-04-12\",\"2018-04-13\",\"2018-04-16\",\"2018-04-17\",\"2018-04-18\",\"2018-04-19\",\"2018-04-20\",\"2018-04-23\",\"2018-04-24\",\"2018-04-25\",\"2018-04-26\",\"2018-04-27\",\"2018-05-01\",\"2018-05-02\",\"2018-05-07\",\"2018-05-08\",\"2018-05-09\",\"2018-05-10\",\"2018-05-11\",\"2018-05-14\",\"2018-05-15\",\"2018-05-16\",\"2018-05-17\",\"2018-05-18\",\"2018-05-21\",\"2018-05-22\",\"2018-05-23\",\"2018-05-24\",\"2018-05-25\",\"2018-05-28\",\"2018-05-29\",\"2018-05-30\",\"2018-05-31\",\"2018-06-01\",\"2018-06-04\",\"2018-06-05\",\"2018-06-06\",\"2018-06-07\",\"2018-06-08\",\"2018-06-11\",\"2018-06-12\",\"2018-06-13\",\"2018-06-14\",\"2018-06-15\",\"2018-06-18\",\"2018-06-19\",\"2018-06-20\",\"2018-06-21\",\"2018-06-22\",\"2018-06-25\",\"2018-06-26\",\"2018-06-27\",\"2018-06-28\",\"2018-06-29\",\"2018-07-02\",\"2018-07-03\",\"2018-07-04\",\"2018-07-05\",\"2018-07-06\",\"2018-07-09\",\"2018-07-10\",\"2018-07-11\",\"2018-07-12\",\"2018-07-13\",\"2018-07-17\",\"2018-07-18\",\"2018-07-19\",\"2018-07-20\",\"2018-07-23\",\"2018-07-24\",\"2018-07-25\",\"2018-07-26\",\"2018-07-27\",\"2018-07-30\",\"2018-07-31\",\"2018-08-01\",\"2018-08-02\",\"2018-08-03\",\"2018-08-06\",\"2018-08-07\",\"2018-08-08\",\"2018-08-09\",\"2018-08-10\",\"2018-08-13\",\"2018-08-14\",\"2018-08-15\",\"2018-08-16\",\"2018-08-17\",\"2018-08-20\",\"2018-08-21\",\"2018-08-22\",\"2018-08-23\",\"2018-08-24\",\"2018-08-27\",\"2018-08-28\",\"2018-08-29\",\"2018-08-30\",\"2018-08-31\",\"2018-09-03\",\"2018-09-04\",\"2018-09-05\",\"2018-09-06\",\"2018-09-07\",\"2018-09-10\",\"2018-09-11\",\"2018-09-12\",\"2018-09-13\",\"2018-09-14\",\"2018-09-18\",\"2018-09-19\",\"2018-09-20\",\"2018-09-21\",\"2018-09-25\",\"2018-09-26\",\"2018-09-27\",\"2018-09-28\",\"2018-10-01\",\"2018-10-02\",\"2018-10-03\",\"2018-10-04\",\"2018-10-05\",\"2018-10-09\",\"2018-10-10\",\"2018-10-11\",\"2018-10-12\",\"2018-10-15\",\"2018-10-16\",\"2018-10-17\",\"2018-10-18\",\"2018-10-19\",\"2018-10-22\",\"2018-10-23\",\"2018-10-24\",\"2018-10-25\",\"2018-10-26\",\"2018-10-29\",\"2018-10-30\",\"2018-10-31\",\"2018-11-01\",\"2018-11-02\",\"2018-11-05\",\"2018-11-06\",\"2018-11-07\",\"2018-11-08\",\"2018-11-09\",\"2018-11-12\",\"2018-11-13\",\"2018-11-14\",\"2018-11-15\",\"2018-11-16\",\"2018-11-19\",\"2018-11-20\",\"2018-11-21\",\"2018-11-22\",\"2018-11-26\",\"2018-11-27\",\"2018-11-28\",\"2018-11-29\",\"2018-11-30\",\"2018-12-03\",\"2018-12-04\",\"2018-12-05\",\"2018-12-06\",\"2018-12-07\",\"2018-12-10\",\"2018-12-11\",\"2018-12-12\",\"2018-12-13\",\"2018-12-14\",\"2018-12-17\",\"2018-12-18\",\"2018-12-19\",\"2018-12-20\",\"2018-12-21\",\"2018-12-25\",\"2018-12-26\",\"2018-12-27\",\"2018-12-28\",\"2019-01-04\",\"2019-01-07\",\"2019-01-08\",\"2019-01-09\",\"2019-01-10\",\"2019-01-11\",\"2019-01-15\",\"2019-01-16\",\"2019-01-17\",\"2019-01-18\",\"2019-01-21\",\"2019-01-22\",\"2019-01-23\",\"2019-01-24\",\"2019-01-25\",\"2019-01-28\",\"2019-01-29\",\"2019-01-30\",\"2019-01-31\",\"2019-02-01\",\"2019-02-04\",\"2019-02-05\",\"2019-02-06\",\"2019-02-07\",\"2019-02-08\",\"2019-02-12\",\"2019-02-13\",\"2019-02-14\",\"2019-02-15\",\"2019-02-18\",\"2019-02-19\",\"2019-02-20\",\"2019-02-21\",\"2019-02-22\",\"2019-02-25\",\"2019-02-26\",\"2019-02-27\",\"2019-02-28\",\"2019-03-01\",\"2019-03-04\",\"2019-03-05\",\"2019-03-06\",\"2019-03-07\",\"2019-03-08\",\"2019-03-11\",\"2019-03-12\",\"2019-03-13\",\"2019-03-14\",\"2019-03-15\",\"2019-03-18\",\"2019-03-19\",\"2019-03-20\",\"2019-03-22\",\"2019-03-25\",\"2019-03-26\",\"2019-03-27\",\"2019-03-28\",\"2019-03-29\",\"2019-04-01\",\"2019-04-02\",\"2019-04-03\",\"2019-04-04\",\"2019-04-05\",\"2019-04-08\",\"2019-04-09\",\"2019-04-10\",\"2019-04-11\",\"2019-04-12\",\"2019-04-15\",\"2019-04-16\",\"2019-04-17\",\"2019-04-18\",\"2019-04-19\",\"2019-04-22\",\"2019-04-23\",\"2019-04-24\",\"2019-04-25\",\"2019-04-26\",\"2019-05-07\",\"2019-05-08\",\"2019-05-09\",\"2019-05-10\",\"2019-05-13\",\"2019-05-14\",\"2019-05-15\",\"2019-05-16\",\"2019-05-17\",\"2019-05-20\",\"2019-05-21\",\"2019-05-22\",\"2019-05-23\",\"2019-05-24\",\"2019-05-27\",\"2019-05-28\",\"2019-05-29\",\"2019-05-30\",\"2019-05-31\",\"2019-06-03\",\"2019-06-04\",\"2019-06-05\",\"2019-06-06\",\"2019-06-07\",\"2019-06-10\",\"2019-06-11\",\"2019-06-12\",\"2019-06-13\",\"2019-06-14\",\"2019-06-17\",\"2019-06-18\",\"2019-06-19\",\"2019-06-20\",\"2019-06-21\",\"2019-06-24\",\"2019-06-25\",\"2019-06-26\",\"2019-06-27\",\"2019-06-28\",\"2019-07-01\",\"2019-07-02\",\"2019-07-03\",\"2019-07-04\",\"2019-07-05\",\"2019-07-08\",\"2019-07-09\",\"2019-07-10\",\"2019-07-11\",\"2019-07-12\",\"2019-07-16\",\"2019-07-17\",\"2019-07-18\",\"2019-07-19\",\"2019-07-22\",\"2019-07-23\",\"2019-07-24\",\"2019-07-25\",\"2019-07-26\",\"2019-07-29\",\"2019-07-30\",\"2019-07-31\",\"2019-08-01\",\"2019-08-02\",\"2019-08-05\",\"2019-08-06\",\"2019-08-07\",\"2019-08-08\",\"2019-08-09\",\"2019-08-13\",\"2019-08-14\",\"2019-08-15\",\"2019-08-16\",\"2019-08-19\",\"2019-08-20\",\"2019-08-21\",\"2019-08-22\",\"2019-08-23\",\"2019-08-26\",\"2019-08-27\",\"2019-08-28\",\"2019-08-29\",\"2019-08-30\",\"2019-09-02\",\"2019-09-03\",\"2019-09-04\",\"2019-09-05\",\"2019-09-06\",\"2019-09-09\",\"2019-09-10\",\"2019-09-11\",\"2019-09-12\",\"2019-09-13\",\"2019-09-17\",\"2019-09-18\",\"2019-09-19\",\"2019-09-20\",\"2019-09-24\",\"2019-09-25\",\"2019-09-26\",\"2019-09-27\",\"2019-09-30\",\"2019-10-01\",\"2019-10-02\",\"2019-10-03\",\"2019-10-04\",\"2019-10-07\",\"2019-10-08\",\"2019-10-09\",\"2019-10-10\",\"2019-10-11\",\"2019-10-15\",\"2019-10-16\",\"2019-10-17\",\"2019-10-18\",\"2019-10-21\",\"2019-10-23\",\"2019-10-24\",\"2019-10-25\",\"2019-10-28\",\"2019-10-29\",\"2019-10-30\",\"2019-10-31\",\"2019-11-01\",\"2019-11-05\",\"2019-11-06\",\"2019-11-07\",\"2019-11-08\",\"2019-11-11\",\"2019-11-12\",\"2019-11-13\",\"2019-11-14\",\"2019-11-15\",\"2019-11-18\",\"2019-11-19\",\"2019-11-20\",\"2019-11-21\",\"2019-11-22\",\"2019-11-25\",\"2019-11-26\",\"2019-11-27\",\"2019-11-28\",\"2019-11-29\",\"2019-12-02\",\"2019-12-03\",\"2019-12-04\",\"2019-12-05\",\"2019-12-06\",\"2019-12-09\",\"2019-12-10\",\"2019-12-11\",\"2019-12-12\",\"2019-12-13\",\"2019-12-16\",\"2019-12-17\",\"2019-12-18\",\"2019-12-19\",\"2019-12-20\",\"2019-12-23\",\"2019-12-24\",\"2019-12-25\",\"2019-12-26\",\"2019-12-27\",\"2019-12-30\",\"2020-01-06\",\"2020-01-07\",\"2020-01-08\",\"2020-01-09\",\"2020-01-10\",\"2020-01-14\",\"2020-01-15\",\"2020-01-16\",\"2020-01-17\",\"2020-01-20\",\"2020-01-21\",\"2020-01-22\",\"2020-01-23\",\"2020-01-24\",\"2020-01-27\",\"2020-01-28\",\"2020-01-29\",\"2020-01-30\",\"2020-01-31\",\"2020-02-03\",\"2020-02-04\",\"2020-02-05\",\"2020-02-06\",\"2020-02-07\",\"2020-02-10\",\"2020-02-12\",\"2020-02-13\",\"2020-02-14\",\"2020-02-17\",\"2020-02-18\",\"2020-02-19\",\"2020-02-20\",\"2020-02-21\",\"2020-02-25\",\"2020-02-26\",\"2020-02-27\",\"2020-02-28\",\"2020-03-02\",\"2020-03-03\",\"2020-03-04\",\"2020-03-05\",\"2020-03-06\",\"2020-03-09\",\"2020-03-10\",\"2020-03-11\",\"2020-03-12\",\"2020-03-13\",\"2020-03-16\",\"2020-03-17\",\"2020-03-18\",\"2020-03-19\",\"2020-03-23\",\"2020-03-24\",\"2020-03-25\",\"2020-03-26\",\"2020-03-27\",\"2020-03-30\",\"2020-03-31\",\"2020-04-01\",\"2020-04-02\",\"2020-04-03\",\"2020-04-06\",\"2020-04-07\",\"2020-04-08\",\"2020-04-09\",\"2020-04-10\",\"2020-04-13\",\"2020-04-14\",\"2020-04-15\",\"2020-04-16\",\"2020-04-17\",\"2020-04-20\",\"2020-04-21\",\"2020-04-22\",\"2020-04-23\",\"2020-04-24\",\"2020-04-27\",\"2020-04-28\",\"2020-04-30\",\"2020-05-01\",\"2020-05-07\",\"2020-05-08\",\"2020-05-11\",\"2020-05-12\",\"2020-05-13\",\"2020-05-14\",\"2020-05-15\",\"2020-05-18\",\"2020-05-19\",\"2020-05-20\",\"2020-05-21\",\"2020-05-22\",\"2020-05-25\",\"2020-05-26\",\"2020-05-27\",\"2020-05-28\",\"2020-05-29\",\"2020-06-01\",\"2020-06-02\",\"2020-06-03\",\"2020-06-04\",\"2020-06-05\",\"2020-06-08\",\"2020-06-09\",\"2020-06-10\",\"2020-06-11\",\"2020-06-12\",\"2020-06-15\",\"2020-06-16\",\"2020-06-17\",\"2020-06-18\",\"2020-06-19\",\"2020-06-22\",\"2020-06-23\",\"2020-06-24\",\"2020-06-25\",\"2020-06-26\",\"2020-06-29\",\"2020-06-30\",\"2020-07-01\",\"2020-07-02\",\"2020-07-03\",\"2020-07-06\",\"2020-07-07\",\"2020-07-08\",\"2020-07-09\",\"2020-07-10\",\"2020-07-13\",\"2020-07-14\",\"2020-07-15\",\"2020-07-16\",\"2020-07-17\",\"2020-07-20\",\"2020-07-21\",\"2020-07-22\",\"2020-07-27\",\"2020-07-28\",\"2020-07-29\",\"2020-07-30\",\"2020-07-31\",\"2020-08-03\",\"2020-08-04\",\"2020-08-05\",\"2020-08-06\",\"2020-08-07\",\"2020-08-11\",\"2020-08-12\",\"2020-08-13\",\"2020-08-14\",\"2020-08-17\",\"2020-08-18\",\"2020-08-19\",\"2020-08-20\",\"2020-08-21\",\"2020-08-24\",\"2020-08-25\",\"2020-08-26\",\"2020-08-27\",\"2020-08-28\",\"2020-08-31\",\"2020-09-01\",\"2020-09-02\",\"2020-09-03\",\"2020-09-04\",\"2020-09-07\",\"2020-09-08\",\"2020-09-09\",\"2020-09-10\",\"2020-09-11\",\"2020-09-14\",\"2020-09-15\",\"2020-09-16\",\"2020-09-17\",\"2020-09-18\",\"2020-09-23\",\"2020-09-24\",\"2020-09-25\",\"2020-09-28\",\"2020-09-29\",\"2020-09-30\",\"2020-10-01\",\"2020-10-02\",\"2020-10-05\",\"2020-10-06\",\"2020-10-07\",\"2020-10-08\",\"2020-10-09\",\"2020-10-12\",\"2020-10-13\",\"2020-10-14\",\"2020-10-15\",\"2020-10-16\",\"2020-10-19\",\"2020-10-20\",\"2020-10-21\",\"2020-10-22\",\"2020-10-23\",\"2020-10-26\",\"2020-10-27\",\"2020-10-28\",\"2020-10-29\",\"2020-10-30\",\"2020-11-02\",\"2020-11-04\",\"2020-11-05\",\"2020-11-06\",\"2020-11-09\",\"2020-11-10\",\"2020-11-11\",\"2020-11-12\",\"2020-11-13\",\"2020-11-16\",\"2020-11-17\",\"2020-11-18\",\"2020-11-19\",\"2020-11-20\",\"2020-11-24\",\"2020-11-25\",\"2020-11-26\",\"2020-11-27\",\"2020-11-30\",\"2020-12-01\",\"2020-12-02\",\"2020-12-03\",\"2020-12-04\",\"2020-12-07\",\"2020-12-08\",\"2020-12-09\",\"2020-12-10\",\"2020-12-11\",\"2020-12-14\",\"2020-12-15\",\"2020-12-16\",\"2020-12-17\",\"2020-12-18\",\"2020-12-21\",\"2020-12-22\",\"2020-12-23\",\"2020-12-24\",\"2020-12-25\",\"2020-12-28\",\"2020-12-29\",\"2020-12-30\",\"2021-01-04\",\"2021-01-05\",\"2021-01-06\",\"2021-01-07\",\"2021-01-08\",\"2021-01-12\",\"2021-01-13\",\"2021-01-14\",\"2021-01-15\",\"2021-01-18\",\"2021-01-19\",\"2021-01-20\",\"2021-01-21\",\"2021-01-22\",\"2021-01-25\",\"2021-01-26\",\"2021-01-27\",\"2021-01-28\",\"2021-01-29\",\"2021-02-01\",\"2021-02-02\",\"2021-02-03\",\"2021-02-04\",\"2021-02-05\",\"2021-02-08\",\"2021-02-09\",\"2021-02-10\",\"2021-02-12\",\"2021-02-15\",\"2021-02-16\",\"2021-02-17\",\"2021-02-18\",\"2021-02-19\",\"2021-02-22\",\"2021-02-24\",\"2021-02-25\",\"2021-02-26\",\"2021-03-01\",\"2021-03-02\",\"2021-03-03\",\"2021-03-04\",\"2021-03-05\",\"2021-03-08\",\"2021-03-09\",\"2021-03-10\",\"2021-03-11\",\"2021-03-12\",\"2021-03-15\",\"2021-03-16\",\"2021-03-17\",\"2021-03-18\",\"2021-03-19\",\"2021-03-22\",\"2021-03-23\",\"2021-03-24\",\"2021-03-25\",\"2021-03-26\",\"2021-03-29\",\"2021-03-30\",\"2021-03-31\",\"2021-04-01\",\"2021-04-02\",\"2021-04-05\",\"2021-04-06\",\"2021-04-07\",\"2021-04-08\",\"2021-04-09\",\"2021-04-12\",\"2021-04-13\",\"2021-04-14\",\"2021-04-15\",\"2021-04-16\",\"2021-04-19\",\"2021-04-20\",\"2021-04-21\",\"2021-04-22\",\"2021-04-23\",\"2021-04-26\",\"2021-04-27\",\"2021-04-28\",\"2021-04-30\",\"2021-05-06\",\"2021-05-07\",\"2021-05-10\",\"2021-05-11\",\"2021-05-12\",\"2021-05-13\",\"2021-05-14\",\"2021-05-17\",\"2021-05-18\",\"2021-05-19\",\"2021-05-20\",\"2021-05-21\",\"2021-05-24\",\"2021-05-25\",\"2021-05-26\",\"2021-05-27\",\"2021-05-28\",\"2021-05-31\",\"2021-06-01\",\"2021-06-02\",\"2021-06-03\",\"2021-06-04\",\"2021-06-07\",\"2021-06-08\",\"2021-06-09\",\"2021-06-10\",\"2021-06-11\",\"2021-06-14\",\"2021-06-15\",\"2021-06-16\",\"2021-06-17\",\"2021-06-18\",\"2021-06-21\",\"2021-06-22\",\"2021-06-23\",\"2021-06-24\",\"2021-06-25\",\"2021-06-28\",\"2021-06-29\",\"2021-06-30\",\"2021-07-01\",\"2021-07-02\",\"2021-07-05\",\"2021-07-06\",\"2021-07-07\",\"2021-07-08\",\"2021-07-09\",\"2021-07-12\",\"2021-07-13\",\"2021-07-14\",\"2021-07-15\",\"2021-07-16\",\"2021-07-19\",\"2021-07-20\",\"2021-07-21\",\"2021-07-26\",\"2021-07-27\",\"2021-07-28\",\"2021-07-29\",\"2021-07-30\",\"2021-08-02\",\"2021-08-03\",\"2021-08-04\",\"2021-08-05\",\"2021-08-06\",\"2021-08-10\",\"2021-08-11\",\"2021-08-12\",\"2021-08-13\",\"2021-08-16\",\"2021-08-17\",\"2021-08-18\",\"2021-08-19\",\"2021-08-20\",\"2021-08-23\",\"2021-08-24\",\"2021-08-25\",\"2021-08-26\",\"2021-08-27\",\"2021-08-30\",\"2021-08-31\",\"2021-09-01\",\"2021-09-02\",\"2021-09-03\",\"2021-09-06\",\"2021-09-07\",\"2021-09-08\",\"2021-09-09\",\"2021-09-10\",\"2021-09-13\",\"2021-09-14\",\"2021-09-15\",\"2021-09-16\",\"2021-09-17\",\"2021-09-21\",\"2021-09-22\",\"2021-09-24\",\"2021-09-27\",\"2021-09-28\",\"2021-09-29\",\"2021-09-30\",\"2021-10-01\",\"2021-10-04\",\"2021-10-05\",\"2021-10-06\",\"2021-10-07\",\"2021-10-08\",\"2021-10-11\",\"2021-10-12\",\"2021-10-13\",\"2021-10-14\",\"2021-10-15\",\"2021-10-18\",\"2021-10-19\",\"2021-10-20\",\"2021-10-21\",\"2021-10-22\",\"2021-10-25\",\"2021-10-26\",\"2021-10-27\",\"2021-10-28\",\"2021-10-29\",\"2021-11-01\",\"2021-11-02\",\"2021-11-04\",\"2021-11-05\",\"2021-11-08\",\"2021-11-09\",\"2021-11-10\",\"2021-11-11\",\"2021-11-12\",\"2021-11-15\",\"2021-11-16\",\"2021-11-17\",\"2021-11-18\",\"2021-11-19\",\"2021-11-22\",\"2021-11-24\",\"2021-11-25\",\"2021-11-26\",\"2021-11-29\",\"2021-11-30\",\"2021-12-01\",\"2021-12-02\",\"2021-12-03\"],\"type\":\"candlestick\"},{\"close\":[2143.0,2128.0,2139.0,2120.0,2109.0,2094.0,2077.0,2049.0,2024.0,2030.0,2076.0,2053.0,2011.0,2012.0,2020.0,2034.0,2028.0,2051.0,2043.0,2046.0,2043.0,2110.0,2126.0,2131.0,2137.0,2130.0,2153.0,2179.0,2160.0,2153.0,2162.0,2167.0,2136.0,2149.0,2164.0,2186.0,2185.0,2165.0,2173.0,2178.0,2217.0,2208.0,2194.0,2190.0,2184.0,2165.0,2210.0,2214.0,2208.0,2188.0,2176.0,2156.0,2166.0,2132.0,2125.0,2126.0,2103.0,2128.0,2063.0,2055.0,2007.0,2047.0,2055.0,2092.0,2042.0,2133.0,2096.0,2053.0,2048.0,2034.0,2010.0,2034.0,2030.0,2018.0,2030.0,2048.0,2067.0,2087.0,2108.0,2108.0,2092.0,2086.0,2103.0,2165.0,2170.0,2170.0,2170.0,2157.0,2038.0,2052.0,2061.0,2039.0,2032.0,2047.0,2048.0,2051.0,2040.0,2026.0,2023.0,2005.0,2007.0,2027.0,2040.0,2047.0,2039.0,2039.0,2013.0,2021.0,2018.0,2012.0,1997.0,1986.0,1998.0,2000.0,1998.0,1989.0,1956.0,1969.0,1978.0,1982.0,1973.0,1984.0,1975.0,1985.0,1985.0,1995.0,1989.0,1967.0,1969.0,1977.0,1976.0,1960.0,1962.0,1965.0,1960.0,1961.0,1956.0,1955.0,1955.0,1953.0,1964.0,1981.0,1967.0,1980.0,1972.0,1941.0,1925.0,1931.0,1930.0,1922.0,1927.0,1902.0,1901.0,1912.0,1925.0,1928.0,1945.0,1951.0,1946.0,1935.0,1935.0,1951.0,1952.0,1976.0,1969.0,1964.0,1944.0,1922.0,1912.0,1919.0,1912.0,1920.0,1932.0,1948.0,1941.0,1931.0,1942.0,1946.0,1969.0,1960.0,1970.0,1977.0,1965.0,1963.0,1959.0,1963.0,1968.0,1932.0,1957.0,1950.0,1950.0,1932.0,1941.0,1951.0,1961.0,1982.0,1990.0,2005.0,2010.0,2024.0,2028.0,2006.0,1998.0,1992.0,1984.0,1978.0,1990.0,2006.0,1994.0,1975.0,1977.0,1991.0,2013.0,1992.0,1974.0,1933.0,1941.0,1949.0,1982.0,2001.0,1996.0,2000.0,2004.0,2011.0,2018.0,2018.0,2006.0,2008.0,2034.0,2027.0,2044.0,2038.0,2052.0,2041.0,2025.0,2040.0,2034.0,2018.0,2012.0,2013.0,2011.0,2012.0,2022.0,2021.0,2030.0,2049.0,2051.0,2075.0,2079.0,2087.0,2068.0,2052.0,2039.0,2075.0,2068.0,2065.0,2021.0,2026.0,2029.0,2041.0,2050.0,2066.0,2069.0,2076.0,2049.0,2015.0,2039.0,2050.0,2002.0,1994.0,1995.0,2008.0,1973.0,1979.0,1999.0,1983.0,2042.0,2080.0,2065.0,2084.0,2061.0,2089.0,2108.0,2108.0,2114.0,2079.0,2059.0,2059.0,2054.0,2055.0,2042.0,2042.0,2055.0,2071.0,2062.0,2060.0,2059.0,2024.0,2006.0,2006.0,1985.0,2021.0,2063.0,2015.0,2035.0,2025.0,2023.0,2037.0,2061.0,2056.0,2071.0,2079.0,2060.0,2053.0,2045.0,2034.0,2043.0,2023.0,2017.0,2009.0,1994.0,1964.0,1967.0,1947.0,1937.0,1932.0,1916.0,1913.0,1938.0,1953.0,1989.0,1953.0,1941.0,2026.0,2092.0,2105.0,2144.0,2141.0,2089.0,2078.0,2061.0,2062.0,2060.0,2070.0,2043.0,2009.0,2033.0,2022.0,2042.0,2031.0,2028.0,2027.0,2021.0,2012.0,2017.0,1995.0,1995.0,1994.0,1957.0,1930.0,1976.0,1960.0,1942.0,1926.0,1953.0,1968.0,1928.0,1977.0,1914.0,1981.0,2017.0,2003.0,1992.0,1966.0,1952.0,1940.0,1930.0,1940.0,1973.0,1966.0,1971.0,1980.0,1985.0,2006.0,1994.0,2004.0,2010.0,2005.0,1986.0,1972.0,1968.0,1900.0,1904.0,1933.0,1925.0,1916.0,1913.0,1891.0,1911.0,1910.0,1918.0,1919.0,1905.0,1907.0,1919.0,1919.0,1911.0,1914.0,1910.0,1911.0,1916.0,1907.0,1949.0,1925.0,1906.0,1912.0,1909.0,1909.0,1911.0,1907.0,1908.0,1922.0,1941.0,1939.0,1935.0,1952.0,1971.0,1961.0,1936.0,1941.0,1957.0,1953.0,1949.0,1948.0,1947.0,1939.0,1943.0,1928.0,1917.0,1900.0,1903.0,1935.0,1936.0,1933.0,1941.0,1912.0,1925.0,1901.0,1911.0,1928.0,1915.0,1927.0,1906.0,1923.0,2011.0,2063.0,2034.0,2062.0,2070.0,2058.0,2007.0,1989.0,2009.0,2010.0,2011.0,2020.0,2004.0,2020.0,2005.0,2009.0,2027.0,2026.0,2019.0,2017.0,1994.0,1999.0,1998.0,2017.0,2014.0,1997.0,2007.0,2001.0,2000.0,2009.0,1980.0,1968.0,1941.0,1894.0,1845.0,1866.0,1907.0,1926.0,1932.0,1970.0,1954.0,1972.0,1985.0,1972.0,1972.0,1977.0,1980.0,1981.0,1970.0,1986.0,1990.0,2012.0,1998.0,1991.0,1999.0,1971.0,1983.0,1970.0,1982.0,2015.0,1966.0,1958.0,1936.0,1958.0,1926.0,1919.0,1919.0,1935.0,1945.0,1947.0,1953.0,1949.0,1956.0,1962.0,1973.0,1983.0,1979.0,1969.0,1990.0,1978.0,1966.0,1958.0,1960.0,1980.0,1970.0,1966.0,1972.0,1992.0,1996.0,1999.0,2002.0,1969.0,2002.0,1954.0,1919.0,1918.0,1940.0,1939.0,1945.0,1952.0,1955.0,1938.0,1929.0,1907.0,1913.0,1910.0,1926.0,1919.0,1918.0,1904.0,1913.0,1924.0,1923.0,1909.0,1919.0,1914.0,1909.0,1897.0,1874.0,1857.0,1829.0,1835.0,1818.0,1810.0,1829.0,1833.0,1838.0,1839.0,1848.0,1849.0,1834.0,1813.0,1812.0,1797.0,1788.0,1784.0,1791.0,1794.0,1792.0,1783.0,1815.0,1815.0,1809.0,1800.0,1816.0,1816.0,1787.0,1800.0,1788.0,1827.0,1824.0,1836.0,1840.0,1819.0,1817.0,1831.0,1825.0,1839.0,1846.0,1842.0,1822.0,1821.0,1852.0,1879.0,1886.0,1872.0,1875.0,1832.0,1851.0,1828.0,1829.0,1829.0,1846.0,1837.0,1855.0,1885.0,1860.0,1868.0,1861.0,1871.0,1873.0,1864.0,1853.0,1869.0,1838.0,1854.0,1834.0,1822.0,1837.0,1827.0,1813.0,1826.0,1837.0,1818.0,1851.0,1863.0,1884.0,1898.0,1857.0,1924.0,1905.0,1919.0,1908.0,1911.0,1918.0,1926.0,1922.0,1934.0,1947.0,1952.0,1968.0,1960.0,1945.0,1960.0,1984.0,1980.0,1984.0,1982.0,1976.0,1959.0,1942.0,1923.0,1939.0,1956.0,1943.0,1948.0,1933.0,1949.0,1908.0,1895.0,1923.0,1934.0,1917.0,1933.0,1918.0,1921.0,1942.0,1947.0,1936.0,1928.0,1906.0,1932.0,1920.0,1941.0,1939.0,1915.0,1917.0,1926.0,1923.0,1933.0,1937.0,1953.0,1957.0,1963.0,1964.0,1980.0,1988.0,1975.0,2001.0,1979.0,1991.0,2001.0,2008.0,2021.0,2009.0,2001.0,1988.0,1993.0,1992.0,2011.0,2004.0,1994.0,2000.0,1995.0,2012.0,2002.0,1997.0,2006.0,1978.0,1957.0,1949.0,1944.0,1963.0,1955.0,1954.0,1965.0,1963.0,1957.0,1953.0,1948.0,1955.0,1949.0,1930.0,1938.0,1931.0,1930.0,1921.0,1935.0,1930.0,2012.0,2015.0,2014.0,2010.0,1993.0,1990.0,2009.0,2003.0,1996.0,1973.0,1982.0,1974.0,1970.0,1930.0,1924.0,1884.0,1838.0,1872.0,1855.0,1846.0,1865.0,1830.0,1736.0,1727.0,1765.0,1707.0,1647.0,1651.0,1736.0,1751.0,1814.0,1785.0,1777.0,1868.0,1892.0,1961.0,1915.0,1885.0,1871.0,1857.0,1817.0,1883.0,1902.0,1879.0,1869.0,1876.0,1901.0,1941.0,1941.0,1989.0,1964.0,1959.0,1973.0,1937.0,1961.0,1976.0,1947.0,1944.0,1929.0,1944.0,1958.0,1958.0,1964.0,1953.0,1975.0,1960.0,1959.0,1987.0,1996.0,2010.0,1986.0,1988.0,1996.0,2007.0,2013.0,2015.0,2007.0,2008.0,2014.0,2019.0,2000.0,1984.0,1974.0,1983.0,1975.0,1983.0,1979.0,1983.0,2018.0,2040.0,2019.0,2015.0,2030.0,2018.0,2029.0,2020.0,2021.0,2039.0,2030.0,1997.0,1989.0,1980.0,2018.0,2007.0,2004.0,2016.0,1981.0,2011.0,2021.0,2041.0,2088.0,2076.0,2086.0,2095.0,2068.0,2100.0,2104.0,2119.0,2128.0,2089.0,2110.0,2149.0,2119.0,2136.0,2090.0,2129.0,2149.0,2155.0,2162.0,2150.0,2194.0,2185.0,2145.0,2162.0,2150.0,2142.0,2151.0,2158.0,2135.0,2152.0,2152.0,2157.0,2164.0,2157.0,2152.0,2143.0,2154.0,2170.0,2187.0,2200.0,2205.0,2237.0,2239.0,2221.0,2251.0,2232.0,2259.0,2296.0,2282.0,2243.0,null,2230.0,2238.0,2236.0,2243.0,2254.0,2244.0,2260.0,2285.0,2264.0,2274.0,2264.0,2267.0,2229.0,2221.0,2208.0,2198.0,2201.0,2230.0,2233.0,2242.0,2197.0,2217.0,2180.0,2151.0,2142.0,2145.0,2100.0,2134.0,2105.0,2084.0,2128.0,2124.0,2119.0,2117.0,2134.0,2119.0,2105.0,2092.0,2074.0,2060.0,2066.0,2080.0,2092.0,2088.0,2069.0,2058.0,2073.0,2101.0,2112.0,2118.0,2111.0,2139.0,2109.0,2119.0,2130.0,2092.0,2109.0,2107.0,2112.0,2095.0,2107.0,2087.0,2097.0,2102.0,2103.0,2109.0,2126.0,2136.0,2146.0,2114.0,2109.0,2096.0,2099.0,2165.0,2152.0,2144.0,2176.0,2170.0,2185.0,2165.0,2161.0,2156.0,2185.0,2173.0,2162.0,2185.0,2180.0,2164.0,2164.0,2150.0,2149.0,2154.0,2149.0,2146.0,2153.0,2145.0,2100.0,2106.0,2116.0,2139.0,2139.0,2138.0,2136.0,2146.0,2156.0,2165.0,2149.0,2137.0,2139.0,2166.0,2170.0,2178.0,2188.0,2179.0,2188.0,2175.0,2155.0,2160.0,2163.0,2164.0,2096.0,2087.0,2063.0,2063.0,2072.0,2065.0,2078.0,2041.0,2035.0,2042.0,2039.0,2034.0,2040.0,2045.0,2024.0,2024.0,2004.0,2019.0,2034.0,2000.0,1989.0,1992.0,1987.0,2008.0,2015.0,2030.0,2017.0,2008.0,2002.0,2036.0,1982.0,1985.0,1986.0,1977.0,1965.0,1980.0,1965.0,1954.0,1936.0,1941.0,1933.0,1937.0,1915.0,1932.0,1940.0,1954.0,1953.0,1947.0,1936.0,1943.0,1937.0,1936.0,1946.0,1926.0,1912.0,1905.0,1918.0,1914.0,1924.0,1931.0,1934.0,1918.0,1919.0,1920.0,1965.0,1945.0,1937.0,1920.0,1918.0,1921.0,1937.0,1952.0,1960.0,1936.0,1949.0,1931.0,1931.0,1950.0,1932.0,1942.0,1952.0,1943.0,1922.0,1956.0,1939.0,1935.0,1922.0,1914.0,1912.0,1924.0,1925.0,1927.0,1895.0,1894.0,1929.0,1919.0,1927.0,1946.0,1945.0,1952.0,1953.0,1963.0,1987.0,1993.0,2003.0,1988.0,1991.0,1995.0,1997.0,2005.0,1983.0,1979.0,1988.0,2004.0,1992.0,2003.0,1995.0,1978.0,1950.0,1986.0,1963.0,1967.0,1960.0,1967.0,1944.0,1960.0,1952.0,1956.0,1963.0,1965.0,1980.0,1958.0,1941.0,1947.0,1960.0,1947.0,1935.0,1935.0,1941.0,1944.0,1953.0,1939.0,1948.0,1975.0,1967.0,1992.0,1960.0,1955.0,1956.0,1957.0,1951.0,1960.0,1968.0,1963.0,1940.0,1944.0,1922.0,1916.0,1922.0,1915.0,1901.0,1886.0,1896.0,1889.0,1842.0,1889.0,1867.0,1891.0],\"high\":[2147.0,2135.0,2145.0,2138.0,2151.0,2110.0,2093.0,2077.0,2045.0,2037.0,2095.0,2056.0,2056.0,2022.0,2040.0,2049.0,2041.0,2069.0,2056.0,2057.0,2070.0,2129.0,2157.0,2147.0,2137.0,2135.0,2160.0,2187.0,2194.0,2164.0,2175.0,2167.0,2159.0,2154.0,2170.0,2187.0,2197.0,2179.0,2195.0,2178.0,2219.0,2217.0,2208.0,2196.0,2193.0,2185.0,2210.0,2214.0,2227.0,2201.0,2183.0,2168.0,2173.0,2152.0,2140.0,2128.0,2122.0,2138.0,2090.0,2063.0,2055.0,2069.0,2070.0,2098.0,2094.0,2140.0,2141.0,2065.0,2054.0,2044.0,2035.0,2042.0,2047.0,2030.0,2040.0,2053.0,2075.0,2091.0,2109.0,2117.0,2108.0,2092.0,2122.0,2165.0,2182.0,2177.0,2172.0,2166.0,2088.0,2064.0,2063.0,2041.0,2045.0,2061.0,2062.0,2065.0,2055.0,2050.0,2045.0,2023.0,2017.0,2027.0,2045.0,2057.0,2062.0,2039.0,2041.0,2047.0,2035.0,2027.0,2020.0,2009.0,2006.0,2013.0,2008.0,2000.0,1989.0,1970.0,1982.0,1990.0,1985.0,1984.0,1979.0,1995.0,1995.0,1995.0,2003.0,1985.0,1985.0,1979.0,1979.0,1980.0,1968.0,1965.0,1965.0,1964.0,1959.0,1955.0,1961.0,1954.0,1979.0,1981.0,1982.0,1982.0,1984.0,1971.0,1943.0,1931.0,1936.0,1928.0,1928.0,1924.0,1914.0,1920.0,1926.0,1930.0,1961.0,1958.0,1968.0,1944.0,1943.0,1954.0,1959.0,1982.0,1980.0,1978.0,1970.0,1944.0,1916.0,1924.0,1931.0,1927.0,1935.0,1949.0,1952.0,1941.0,1944.0,1950.0,1976.0,1976.0,1974.0,1978.0,1979.0,1973.0,1971.0,1969.0,1973.0,1967.0,1958.0,1955.0,1953.0,1948.0,1946.0,1956.0,1966.0,1985.0,1991.0,2008.0,2017.0,2029.0,2033.0,2026.0,2014.0,2015.0,1991.0,1987.0,1996.0,2008.0,2027.0,1988.0,1984.0,2000.0,2019.0,2007.0,1993.0,1979.0,1951.0,1958.0,1987.0,2007.0,2011.0,2002.0,2008.0,2014.0,2020.0,2026.0,2023.0,2021.0,2035.0,2043.0,2048.0,2039.0,2053.0,2052.0,2039.0,2040.0,2040.0,2045.0,2024.0,2014.0,2011.0,2015.0,2023.0,2023.0,2030.0,2049.0,2053.0,2075.0,2080.0,2094.0,2088.0,2056.0,2063.0,2080.0,2079.0,2072.0,2063.0,2028.0,2029.0,2044.0,2054.0,2070.0,2080.0,2083.0,2075.0,2054.0,2039.0,2051.0,2041.0,2006.0,2032.0,2018.0,1987.0,1997.0,2012.0,2003.0,2047.0,2080.0,2075.0,2115.0,2079.0,2094.0,2113.0,2118.0,2132.0,2120.0,2062.0,2074.0,2077.0,2068.0,2061.0,2077.0,2060.0,2071.0,2066.0,2060.0,2065.0,2041.0,2012.0,2020.0,1996.0,2021.0,2063.0,2017.0,2037.0,2036.0,2036.0,2047.0,2067.0,2071.0,2084.0,2083.0,2087.0,2063.0,2059.0,2054.0,2045.0,2041.0,2032.0,2018.0,2017.0,1991.0,1979.0,1968.0,1957.0,1953.0,1935.0,1926.0,1945.0,1956.0,2022.0,1988.0,1953.0,2026.0,2107.0,2117.0,2150.0,2148.0,2142.0,2093.0,2081.0,2092.0,2071.0,2095.0,2054.0,2027.0,2034.0,2042.0,2048.0,2045.0,2030.0,2039.0,2025.0,2032.0,2019.0,2008.0,1998.0,1998.0,1986.0,1950.0,1977.0,1976.0,1961.0,1944.0,1953.0,1980.0,1970.0,1996.0,1967.0,1981.0,2021.0,2037.0,2037.0,1983.0,1969.0,1949.0,1961.0,1941.0,1978.0,1989.0,1974.0,1985.0,1994.0,2010.0,2006.0,2009.0,2018.0,2007.0,2000.0,1996.0,1986.0,1950.0,1921.0,1943.0,1935.0,1926.0,1927.0,1911.0,1914.0,1926.0,1928.0,1931.0,1915.0,1925.0,1920.0,1924.0,1931.0,1922.0,1922.0,1921.0,1921.0,1917.0,1978.0,1954.0,1920.0,1928.0,1916.0,1917.0,1926.0,1909.0,1922.0,1933.0,1948.0,1944.0,1944.0,1954.0,1974.0,1963.0,1961.0,1970.0,1961.0,1963.0,1977.0,1953.0,1955.0,1957.0,1955.0,1931.0,1930.0,1926.0,1909.0,1936.0,1944.0,1936.0,1949.0,1941.0,1933.0,1911.0,1919.0,1939.0,1929.0,1940.0,1932.0,1931.0,2034.0,2086.0,2079.0,2068.0,2079.0,2094.0,2030.0,2015.0,2024.0,2016.0,2016.0,2025.0,2018.0,2021.0,2029.0,2014.0,2047.0,2042.0,2035.0,2031.0,2022.0,2002.0,2002.0,2022.0,2016.0,2033.0,2011.0,2012.0,2020.0,2012.0,2007.0,1991.0,1947.0,1924.0,1854.0,1899.0,1918.0,1947.0,1940.0,1988.0,1976.0,1980.0,1986.0,1989.0,1972.0,1981.0,1990.0,1992.0,1981.0,2024.0,1994.0,2013.0,2018.0,2018.0,2001.0,2001.0,1996.0,1993.0,1995.0,2020.0,2005.0,1986.0,1952.0,1958.0,1949.0,1926.0,1924.0,1959.0,1948.0,1954.0,1954.0,1953.0,1959.0,1972.0,1975.0,1991.0,1988.0,1989.0,1990.0,1995.0,1974.0,1969.0,1965.0,1980.0,1984.0,1979.0,1980.0,1995.0,1999.0,1999.0,2004.0,1993.0,2004.0,1956.0,1965.0,1923.0,1945.0,1961.0,1945.0,1956.0,1957.0,1950.0,1942.0,1921.0,1921.0,1926.0,1931.0,1933.0,1920.0,1911.0,1917.0,1925.0,1932.0,1926.0,1924.0,1932.0,1918.0,1905.0,1895.0,1876.0,1851.0,1837.0,1843.0,1821.0,1831.0,1838.0,1841.0,1846.0,1852.0,1862.0,1857.0,1840.0,1822.0,1805.0,1798.0,1798.0,1793.0,1808.0,1798.0,1802.0,1820.0,1829.0,1819.0,1812.0,1820.0,1824.0,1818.0,1800.0,1804.0,1834.0,1837.0,1843.0,1852.0,1833.0,1845.0,1832.0,1843.0,1841.0,1854.0,1843.0,1838.0,1831.0,1853.0,1891.0,1896.0,1891.0,1892.0,1874.0,1861.0,1851.0,1834.0,1833.0,1850.0,1878.0,1856.0,1885.0,1874.0,1868.0,1874.0,1916.0,1877.0,1875.0,1862.0,1882.0,1851.0,1855.0,1837.0,1835.0,1839.0,1835.0,1820.0,1828.0,1844.0,1826.0,1862.0,1878.0,1901.0,1904.0,1897.0,1932.0,1918.0,1923.0,1927.0,1912.0,1923.0,1927.0,1928.0,1934.0,1952.0,1962.0,1968.0,1975.0,1962.0,1961.0,2003.0,1995.0,1997.0,1994.0,1984.0,1961.0,1951.0,1945.0,1942.0,1956.0,1966.0,1958.0,1951.0,1957.0,1935.0,1911.0,1939.0,1939.0,1949.0,1934.0,1936.0,1933.0,1942.0,1949.0,1943.0,1949.0,1933.0,1944.0,1949.0,1957.0,1966.0,1940.0,1931.0,1939.0,1931.0,1936.0,1939.0,1956.0,1958.0,1964.0,1966.0,1988.0,1994.0,1990.0,2002.0,1995.0,1994.0,2001.0,2017.0,2027.0,2024.0,2016.0,2003.0,2012.0,2007.0,2011.0,2010.0,2002.0,2010.0,2009.0,2017.0,2015.0,2002.0,2025.0,2004.0,1964.0,1972.0,1956.0,1965.0,1979.0,1959.0,1965.0,1970.0,1971.0,1966.0,1952.0,1959.0,1960.0,1945.0,1940.0,1936.0,1934.0,1927.0,1943.0,1937.0,2026.0,2024.0,2027.0,2021.0,2003.0,1994.0,2014.0,2017.0,1998.0,1996.0,1990.0,1991.0,1986.0,1946.0,1930.0,1922.0,1869.0,1900.0,1914.0,1858.0,1867.0,1857.0,1794.0,1735.0,1774.0,1755.0,1704.0,1691.0,1753.0,1782.0,1822.0,1798.0,1798.0,1868.0,1898.0,1961.0,1915.0,1948.0,1918.0,1889.0,1898.0,1895.0,1907.0,1914.0,1877.0,1882.0,1903.0,1942.0,1952.0,1989.0,1989.0,1966.0,1978.0,1971.0,1965.0,1976.0,1976.0,1952.0,1963.0,1954.0,1962.0,1968.0,1972.0,1970.0,1984.0,1983.0,1971.0,1991.0,2005.0,2013.0,2010.0,2003.0,1997.0,2016.0,2015.0,2017.0,2026.0,2012.0,2019.0,2019.0,2019.0,2007.0,1995.0,1989.0,1998.0,1995.0,1992.0,2014.0,2025.0,2047.0,2039.0,2032.0,2036.0,2035.0,2032.0,2037.0,2032.0,2042.0,2043.0,2025.0,2005.0,1981.0,2018.0,2015.0,2036.0,2026.0,2020.0,2019.0,2023.0,2060.0,2095.0,2084.0,2088.0,2114.0,2100.0,2105.0,2132.0,2125.0,2138.0,2127.0,2126.0,2179.0,2148.0,2142.0,2142.0,2137.0,2158.0,2161.0,2172.0,2171.0,2196.0,2193.0,2179.0,2168.0,2168.0,2162.0,2161.0,2159.0,2163.0,2157.0,2177.0,2170.0,2177.0,2169.0,2165.0,2153.0,2162.0,2174.0,2195.0,2212.0,2210.0,2246.0,2245.0,2246.0,2258.0,2239.0,2268.0,2296.0,2288.0,2282.0,null,2268.0,2269.0,2255.0,2247.0,2259.0,2253.0,2273.0,2285.0,2298.0,2288.0,2275.0,2280.0,2259.0,2228.0,2221.0,2207.0,2226.0,2230.0,2248.0,2246.0,2232.0,2229.0,2236.0,2181.0,2148.0,2162.0,2140.0,2143.0,2141.0,2105.0,2143.0,2133.0,2135.0,2121.0,2139.0,2147.0,2141.0,2113.0,2103.0,2070.0,2084.0,2093.0,2106.0,2096.0,2096.0,2071.0,2077.0,2101.0,2112.0,2140.0,2139.0,2150.0,2147.0,2121.0,2134.0,2123.0,2114.0,2122.0,2118.0,2137.0,2110.0,2102.0,2101.0,2114.0,2113.0,2128.0,2144.0,2139.0,2150.0,2144.0,2117.0,2106.0,2112.0,2165.0,2189.0,2159.0,2185.0,2182.0,2203.0,2183.0,2188.0,2164.0,2186.0,2185.0,2192.0,2187.0,2189.0,2181.0,2167.0,2163.0,2155.0,2164.0,2151.0,2150.0,2158.0,2173.0,2146.0,2132.0,2128.0,2142.0,2143.0,2156.0,2142.0,2146.0,2163.0,2169.0,2166.0,2149.0,2139.0,2166.0,2177.0,2189.0,2192.0,2198.0,2190.0,2190.0,2178.0,2170.0,2168.0,2176.0,2111.0,2117.0,2094.0,2077.0,2076.0,2087.0,2080.0,2071.0,2053.0,2047.0,2056.0,2045.0,2045.0,2045.0,2037.0,2036.0,2016.0,2027.0,2037.0,2024.0,1999.0,2004.0,2000.0,2011.0,2025.0,2034.0,2023.0,2020.0,2013.0,2038.0,2004.0,1998.0,1988.0,1995.0,1980.0,1986.0,1984.0,1968.0,1963.0,1953.0,1954.0,1940.0,1940.0,1932.0,1940.0,1955.0,1958.0,1955.0,1950.0,1958.0,1947.0,1948.0,1955.0,1946.0,1933.0,1921.0,1937.0,1928.0,1926.0,1933.0,1939.0,1936.0,1931.0,1928.0,1968.0,1960.0,1955.0,1935.0,1933.0,1924.0,1940.0,1958.0,1965.0,1971.0,1953.0,1944.0,1937.0,1957.0,1952.0,1947.0,1957.0,1953.0,1944.0,1959.0,1954.0,1937.0,1934.0,1925.0,1926.0,1925.0,1935.0,1930.0,1922.0,1903.0,1934.0,1929.0,1941.0,1955.0,1955.0,1953.0,1953.0,1963.0,1987.0,2002.0,2010.0,2001.0,1999.0,2000.0,2007.0,2005.0,2009.0,1995.0,1989.0,2007.0,1999.0,2006.0,2005.0,1990.0,1981.0,1987.0,1977.0,1971.0,1960.0,1974.0,1957.0,1964.0,1970.0,1967.0,1971.0,1987.0,1981.0,1984.0,1955.0,1947.0,1966.0,1952.0,1953.0,1944.0,1947.0,1952.0,1959.0,1958.0,1953.0,1978.0,1973.0,1992.0,1989.0,1980.0,1965.0,1968.0,1963.0,1962.0,1975.0,1973.0,1967.0,1957.0,1942.0,1922.0,1926.0,1920.0,1918.0,1899.0,1897.0,1901.0,1909.0,1903.0,1904.0,1893.0],\"low\":[2101.0,2111.0,2120.0,2107.0,2105.0,2068.0,2061.0,2039.0,2023.0,2014.0,2030.0,2031.0,2011.0,2004.0,2012.0,2026.0,2021.0,2027.0,2036.0,2031.0,2035.0,2033.0,2105.0,2109.0,2110.0,2112.0,2136.0,2152.0,2160.0,2142.0,2150.0,2137.0,2121.0,2128.0,2146.0,2164.0,2174.0,2151.0,2173.0,2156.0,2197.0,2197.0,2189.0,2185.0,2177.0,2162.0,2186.0,2200.0,2205.0,2181.0,2161.0,2141.0,2146.0,2123.0,2118.0,2115.0,2102.0,2110.0,2048.0,2051.0,2007.0,2028.0,2038.0,2046.0,2041.0,2071.0,2070.0,2047.0,2028.0,2030.0,2007.0,2010.0,2022.0,2009.0,2006.0,2027.0,2045.0,2055.0,2083.0,2087.0,2081.0,2071.0,2092.0,2120.0,2153.0,2159.0,2158.0,2140.0,2034.0,2042.0,2035.0,2016.0,2022.0,2018.0,2035.0,2046.0,2040.0,2026.0,2023.0,2001.0,2000.0,2004.0,2021.0,2032.0,2033.0,2023.0,2010.0,2014.0,2012.0,2011.0,1995.0,1981.0,1988.0,1995.0,1993.0,1988.0,1955.0,1956.0,1968.0,1973.0,1970.0,1967.0,1961.0,1973.0,1976.0,1972.0,1978.0,1966.0,1965.0,1963.0,1967.0,1955.0,1953.0,1954.0,1951.0,1954.0,1952.0,1945.0,1945.0,1941.0,1947.0,1965.0,1965.0,1961.0,1967.0,1923.0,1921.0,1917.0,1922.0,1911.0,1918.0,1902.0,1896.0,1904.0,1913.0,1917.0,1930.0,1942.0,1946.0,1934.0,1930.0,1940.0,1941.0,1955.0,1967.0,1957.0,1942.0,1921.0,1906.0,1912.0,1906.0,1910.0,1923.0,1934.0,1941.0,1918.0,1933.0,1939.0,1946.0,1956.0,1957.0,1966.0,1961.0,1952.0,1957.0,1956.0,1962.0,1915.0,1936.0,1942.0,1944.0,1927.0,1933.0,1938.0,1951.0,1962.0,1979.0,1987.0,1995.0,2012.0,2022.0,2003.0,1991.0,1986.0,1977.0,1964.0,1982.0,1991.0,1987.0,1964.0,1967.0,1978.0,1980.0,1992.0,1974.0,1931.0,1923.0,1942.0,1955.0,1975.0,1995.0,1975.0,1997.0,2004.0,2000.0,2009.0,2006.0,2000.0,2010.0,2022.0,2028.0,2008.0,2020.0,2031.0,2024.0,2025.0,2021.0,2015.0,2011.0,2001.0,2002.0,2001.0,2009.0,2016.0,2017.0,2028.0,2042.0,2049.0,2071.0,2082.0,2066.0,2036.0,2038.0,2042.0,2065.0,2057.0,2020.0,2020.0,2017.0,2032.0,2037.0,2051.0,2069.0,2072.0,2042.0,2013.0,2011.0,2031.0,1976.0,1955.0,1995.0,1992.0,1944.0,1971.0,1976.0,1982.0,1993.0,2041.0,2052.0,2061.0,2055.0,2075.0,2086.0,2103.0,2112.0,2076.0,2051.0,2052.0,2052.0,2047.0,2041.0,2033.0,2037.0,2041.0,2049.0,2034.0,2038.0,2013.0,1993.0,1997.0,1978.0,1977.0,2022.0,1978.0,2013.0,2014.0,2016.0,1997.0,2036.0,2055.0,2053.0,2061.0,2058.0,2044.0,2029.0,2030.0,2023.0,2020.0,2010.0,2000.0,1989.0,1962.0,1945.0,1942.0,1922.0,1922.0,1908.0,1911.0,1915.0,1939.0,1988.0,1947.0,1931.0,1935.0,2020.0,2090.0,2110.0,2123.0,2083.0,2074.0,2050.0,2057.0,2047.0,2058.0,2030.0,2001.0,2009.0,2020.0,2032.0,2020.0,2004.0,2012.0,2008.0,2010.0,2002.0,1990.0,1987.0,1983.0,1953.0,1927.0,1937.0,1953.0,1932.0,1922.0,1927.0,1960.0,1922.0,1912.0,1911.0,1933.0,1973.0,1998.0,1987.0,1953.0,1952.0,1931.0,1928.0,1925.0,1940.0,1958.0,1960.0,1968.0,1973.0,1991.0,1991.0,1994.0,1995.0,1987.0,1980.0,1971.0,1966.0,1896.0,1901.0,1901.0,1922.0,1911.0,1910.0,1891.0,1894.0,1909.0,1906.0,1906.0,1904.0,1897.0,1903.0,1915.0,1911.0,1913.0,1907.0,1910.0,1911.0,1907.0,1926.0,1924.0,1906.0,1903.0,1902.0,1907.0,1908.0,1900.0,1901.0,1908.0,1924.0,1933.0,1928.0,1938.0,1953.0,1941.0,1932.0,1937.0,1936.0,1946.0,1949.0,1938.0,1940.0,1938.0,1938.0,1915.0,1913.0,1900.0,1892.0,1908.0,1916.0,1920.0,1927.0,1912.0,1914.0,1896.0,1904.0,1892.0,1906.0,1911.0,1899.0,1906.0,1950.0,2015.0,2027.0,2035.0,2049.0,2052.0,2004.0,1984.0,1989.0,1984.0,1996.0,2001.0,1997.0,1988.0,1996.0,1998.0,2017.0,2023.0,2009.0,2002.0,1994.0,1965.0,1974.0,1984.0,1987.0,1992.0,1991.0,1997.0,1993.0,1981.0,1980.0,1957.0,1916.0,1878.0,1821.0,1844.0,1863.0,1901.0,1902.0,1953.0,1949.0,1950.0,1953.0,1963.0,1956.0,1960.0,1970.0,1980.0,1965.0,1982.0,1967.0,1991.0,1994.0,1988.0,1988.0,1964.0,1968.0,1967.0,1977.0,1986.0,1964.0,1945.0,1936.0,1936.0,1920.0,1912.0,1900.0,1925.0,1924.0,1936.0,1938.0,1934.0,1940.0,1952.0,1966.0,1972.0,1977.0,1966.0,1959.0,1978.0,1961.0,1952.0,1953.0,1964.0,1969.0,1966.0,1968.0,1977.0,1987.0,1992.0,1993.0,1967.0,1975.0,1936.0,1916.0,1911.0,1920.0,1932.0,1921.0,1935.0,1950.0,1933.0,1921.0,1905.0,1904.0,1907.0,1917.0,1919.0,1910.0,1902.0,1906.0,1908.0,1918.0,1909.0,1906.0,1910.0,1906.0,1893.0,1874.0,1856.0,1778.0,1800.0,1808.0,1802.0,1813.0,1824.0,1826.0,1832.0,1836.0,1840.0,1833.0,1811.0,1800.0,1792.0,1784.0,1776.0,1777.0,1782.0,1785.0,1778.0,1791.0,1808.0,1808.0,1793.0,1791.0,1805.0,1786.0,1785.0,1788.0,1781.0,1815.0,1826.0,1833.0,1812.0,1814.0,1820.0,1822.0,1824.0,1837.0,1830.0,1822.0,1814.0,1814.0,1854.0,1881.0,1863.0,1866.0,1830.0,1831.0,1820.0,1821.0,1822.0,1823.0,1830.0,1843.0,1861.0,1857.0,1838.0,1851.0,1862.0,1830.0,1856.0,1850.0,1858.0,1837.0,1828.0,1816.0,1817.0,1821.0,1818.0,1803.0,1806.0,1833.0,1800.0,1838.0,1854.0,1865.0,1888.0,1855.0,1857.0,1895.0,1902.0,1906.0,1896.0,1896.0,1903.0,1907.0,1909.0,1930.0,1936.0,1950.0,1954.0,1937.0,1922.0,1959.0,1960.0,1949.0,1971.0,1958.0,1943.0,1927.0,1911.0,1914.0,1927.0,1936.0,1932.0,1911.0,1905.0,1901.0,1887.0,1908.0,1921.0,1905.0,1915.0,1909.0,1916.0,1915.0,1934.0,1927.0,1928.0,1902.0,1906.0,1914.0,1927.0,1932.0,1915.0,1908.0,1919.0,1916.0,1918.0,1924.0,1936.0,1941.0,1953.0,1946.0,1962.0,1976.0,1973.0,1980.0,1976.0,1971.0,1976.0,1999.0,2008.0,2005.0,1992.0,1982.0,1986.0,1990.0,1982.0,1988.0,1990.0,1993.0,1993.0,1992.0,1997.0,1987.0,1998.0,1978.0,1951.0,1942.0,1926.0,1948.0,1953.0,1943.0,1949.0,1956.0,1956.0,1952.0,1941.0,1944.0,1947.0,1928.0,1912.0,1922.0,1921.0,1910.0,1926.0,1918.0,1945.0,1993.0,2014.0,1999.0,1987.0,1975.0,1974.0,1992.0,1978.0,1966.0,1976.0,1973.0,1969.0,1922.0,1911.0,1883.0,1824.0,1825.0,1851.0,1824.0,1848.0,1830.0,1723.0,1653.0,1721.0,1695.0,1602.0,1646.0,1608.0,1728.0,1744.0,1734.0,1751.0,1810.0,1794.0,1902.0,1857.0,1875.0,1853.0,1846.0,1813.0,1829.0,1860.0,1864.0,1838.0,1831.0,1871.0,1903.0,1926.0,1948.0,1960.0,1939.0,1940.0,1928.0,1928.0,1938.0,1936.0,1928.0,1928.0,1928.0,1945.0,1951.0,1955.0,1944.0,1944.0,1957.0,1949.0,1950.0,1986.0,1986.0,1981.0,1984.0,1983.0,1989.0,1995.0,1998.0,2001.0,1991.0,2005.0,1998.0,1998.0,1979.0,1965.0,1969.0,1975.0,1976.0,1960.0,1981.0,1992.0,2003.0,2010.0,1998.0,2000.0,2015.0,2005.0,2016.0,2012.0,2001.0,2023.0,1984.0,1967.0,1967.0,1984.0,1993.0,1994.0,1996.0,1971.0,1992.0,2012.0,2031.0,2054.0,2056.0,2064.0,2072.0,2067.0,2062.0,2097.0,2096.0,2111.0,2087.0,2104.0,2120.0,2108.0,2093.0,2084.0,2083.0,2134.0,2150.0,2154.0,2146.0,2159.0,2177.0,2143.0,2152.0,2150.0,2137.0,2149.0,2144.0,2120.0,2131.0,2152.0,2148.0,2161.0,2138.0,2135.0,2132.0,2126.0,2147.0,2154.0,2190.0,2187.0,2206.0,2223.0,2217.0,2211.0,2213.0,2241.0,2264.0,2253.0,2243.0,null,2229.0,2230.0,2232.0,2211.0,2231.0,2227.0,2248.0,2260.0,2263.0,2261.0,2254.0,2259.0,2221.0,2205.0,2186.0,2166.0,2201.0,2195.0,2217.0,2214.0,2188.0,2200.0,2155.0,2138.0,2111.0,2141.0,2095.0,2106.0,2102.0,2082.0,2102.0,2114.0,2113.0,2096.0,2115.0,2119.0,2105.0,2091.0,2074.0,2043.0,2052.0,2060.0,2075.0,2076.0,2054.0,2054.0,2052.0,2079.0,2087.0,2118.0,2111.0,2128.0,2106.0,2098.0,2109.0,2090.0,2096.0,2105.0,2100.0,2087.0,2082.0,2086.0,2067.0,2093.0,2088.0,2107.0,2102.0,2121.0,2127.0,2113.0,2091.0,2089.0,2092.0,2116.0,2146.0,2132.0,2154.0,2169.0,2176.0,2162.0,2157.0,2139.0,2161.0,2137.0,2156.0,2159.0,2171.0,2151.0,2152.0,2148.0,2133.0,2143.0,2134.0,2127.0,2138.0,2140.0,2099.0,2100.0,2085.0,2118.0,2123.0,2133.0,2126.0,2125.0,2143.0,2155.0,2142.0,2133.0,2116.0,2138.0,2161.0,2165.0,2172.0,2173.0,2167.0,2175.0,2147.0,2160.0,2155.0,2159.0,2081.0,2082.0,2062.0,2062.0,2056.0,2065.0,2066.0,2041.0,2030.0,2036.0,2038.0,2027.0,2031.0,2016.0,2022.0,2018.0,1999.0,2003.0,1999.0,1995.0,1981.0,1986.0,1986.0,1997.0,2012.0,2020.0,2012.0,1998.0,1997.0,2014.0,1952.0,1975.0,1976.0,1977.0,1965.0,1967.0,1965.0,1950.0,1936.0,1936.0,1930.0,1928.0,1903.0,1911.0,1923.0,1943.0,1949.0,1938.0,1933.0,1939.0,1934.0,1934.0,1939.0,1926.0,1912.0,1900.0,1914.0,1912.0,1907.0,1921.0,1926.0,1917.0,1917.0,1915.0,1931.0,1941.0,1937.0,1917.0,1918.0,1907.0,1930.0,1941.0,1946.0,1936.0,1933.0,1926.0,1921.0,1936.0,1932.0,1932.0,1942.0,1938.0,1922.0,1940.0,1933.0,1927.0,1921.0,1914.0,1912.0,1911.0,1919.0,1901.0,1882.0,1888.0,1904.0,1909.0,1923.0,1932.0,1938.0,1940.0,1935.0,1941.0,1958.0,1967.0,1994.0,1973.0,1967.0,1985.0,1994.0,1993.0,1981.0,1971.0,1965.0,1983.0,1986.0,1990.0,1991.0,1974.0,1950.0,1964.0,1961.0,1962.0,1941.0,1957.0,1934.0,1939.0,1945.0,1941.0,1951.0,1965.0,1971.0,1952.0,1941.0,1931.0,1952.0,1938.0,1935.0,1934.0,1936.0,1936.0,1941.0,1939.0,1939.0,1947.0,1960.0,1970.0,1960.0,1955.0,1951.0,1955.0,1951.0,1945.0,1949.0,1960.0,1928.0,1941.0,1922.0,1912.0,1914.0,1912.0,1894.0,1886.0,1884.0,1885.0,1842.0,1850.0,1867.0,1870.0],\"open\":[2105.0,2135.0,2121.0,2138.0,2144.0,2110.0,2061.0,2076.0,2039.0,2022.0,2030.0,2043.0,2056.0,2011.0,2034.0,2048.0,2039.0,2044.0,2036.0,2038.0,2060.0,2034.0,2110.0,2126.0,2134.0,2135.0,2142.0,2156.0,2180.0,2156.0,2159.0,2154.0,2159.0,2137.0,2151.0,2164.0,2179.0,2173.0,2179.0,2172.0,2198.0,2217.0,2208.0,2191.0,2190.0,2184.0,2203.0,2210.0,2214.0,2200.0,2183.0,2165.0,2167.0,2152.0,2130.0,2120.0,2120.0,2111.0,2081.0,2055.0,2055.0,2032.0,2054.0,2055.0,2092.0,2076.0,2133.0,2058.0,2049.0,2040.0,2033.0,2010.0,2044.0,2019.0,2040.0,2039.0,2048.0,2065.0,2087.0,2087.0,2108.0,2071.0,2100.0,2123.0,2162.0,2168.0,2170.0,2166.0,2065.0,2050.0,2052.0,2034.0,2044.0,2024.0,2045.0,2063.0,2046.0,2050.0,2045.0,2020.0,2005.0,2005.0,2034.0,2040.0,2057.0,2030.0,2041.0,2022.0,2020.0,2015.0,2012.0,2001.0,1991.0,2001.0,2004.0,1996.0,1989.0,1969.0,1979.0,1981.0,1984.0,1970.0,1977.0,1976.0,1995.0,1985.0,1982.0,1982.0,1985.0,1976.0,1973.0,1980.0,1965.0,1961.0,1965.0,1960.0,1958.0,1955.0,1950.0,1950.0,1955.0,1969.0,1981.0,1967.0,1984.0,1965.0,1942.0,1926.0,1931.0,1925.0,1920.0,1919.0,1914.0,1904.0,1920.0,1922.0,1930.0,1956.0,1962.0,1944.0,1936.0,1947.0,1950.0,1958.0,1979.0,1978.0,1968.0,1944.0,1910.0,1919.0,1919.0,1912.0,1932.0,1941.0,1945.0,1940.0,1940.0,1942.0,1950.0,1972.0,1961.0,1972.0,1975.0,1973.0,1962.0,1966.0,1968.0,1967.0,1936.0,1955.0,1950.0,1938.0,1936.0,1943.0,1954.0,1967.0,1985.0,1994.0,2000.0,2020.0,2023.0,2020.0,1995.0,2015.0,1990.0,1987.0,1992.0,2000.0,2010.0,1988.0,1975.0,1985.0,1982.0,2007.0,1993.0,1974.0,1933.0,1949.0,1957.0,1981.0,2000.0,1982.0,2000.0,2008.0,2007.0,2015.0,2010.0,2000.0,2015.0,2031.0,2030.0,2009.0,2037.0,2049.0,2039.0,2030.0,2036.0,2045.0,2018.0,2012.0,2008.0,2010.0,2010.0,2020.0,2024.0,2040.0,2049.0,2055.0,2077.0,2085.0,2088.0,2056.0,2050.0,2042.0,2070.0,2065.0,2062.0,2021.0,2025.0,2035.0,2037.0,2051.0,2076.0,2072.0,2075.0,2048.0,2016.0,2038.0,2015.0,1975.0,2002.0,2000.0,1985.0,1975.0,1982.0,1991.0,2000.0,2048.0,2075.0,2070.0,2079.0,2075.0,2090.0,2111.0,2120.0,2114.0,2058.0,2058.0,2064.0,2050.0,2061.0,2067.0,2060.0,2053.0,2055.0,2056.0,2060.0,2038.0,2011.0,2007.0,1995.0,1981.0,2023.0,1978.0,2015.0,2030.0,2028.0,2008.0,2038.0,2067.0,2056.0,2065.0,2080.0,2059.0,2053.0,2048.0,2036.0,2026.0,2025.0,2010.0,2009.0,1991.0,1971.0,1960.0,1957.0,1950.0,1935.0,1920.0,1915.0,1945.0,1993.0,1988.0,1953.0,1940.0,2024.0,2090.0,2110.0,2146.0,2141.0,2082.0,2075.0,2065.0,2050.0,2094.0,2051.0,2022.0,2015.0,2033.0,2032.0,2042.0,2027.0,2034.0,2019.0,2023.0,2008.0,2002.0,1995.0,1992.0,1982.0,1950.0,1949.0,1973.0,1955.0,1942.0,1945.0,1975.0,1968.0,1928.0,1965.0,1952.0,1979.0,2017.0,2009.0,1981.0,1952.0,1948.0,1960.0,1932.0,1940.0,1980.0,1966.0,1973.0,1975.0,1999.0,2005.0,2005.0,2018.0,2000.0,2000.0,1996.0,1970.0,1950.0,1912.0,1906.0,1926.0,1920.0,1919.0,1908.0,1897.0,1911.0,1910.0,1910.0,1912.0,1905.0,1907.0,1917.0,1925.0,1915.0,1922.0,1910.0,1921.0,1917.0,1930.0,1951.0,1920.0,1906.0,1909.0,1913.0,1919.0,1907.0,1907.0,1908.0,1928.0,1943.0,1937.0,1944.0,1958.0,1958.0,1960.0,1970.0,1943.0,1960.0,1960.0,1953.0,1948.0,1947.0,1946.0,1927.0,1915.0,1921.0,1900.0,1912.0,1922.0,1920.0,1933.0,1941.0,1916.0,1910.0,1918.0,1900.0,1928.0,1917.0,1912.0,1910.0,1950.0,2015.0,2054.0,2035.0,2062.0,2070.0,2025.0,2007.0,1989.0,2004.0,2005.0,2011.0,2007.0,2003.0,2029.0,2014.0,2030.0,2038.0,2035.0,2019.0,2006.0,1975.0,2000.0,1985.0,2000.0,2020.0,2003.0,2012.0,2010.0,2000.0,2001.0,1991.0,1941.0,1920.0,1854.0,1844.0,1906.0,1947.0,1920.0,1972.0,1972.0,1954.0,1972.0,1988.0,1962.0,1981.0,1980.0,1984.0,1981.0,1993.0,1973.0,1998.0,2012.0,2018.0,1999.0,2001.0,1992.0,1993.0,1989.0,2000.0,2003.0,1962.0,1950.0,1938.0,1948.0,1921.0,1912.0,1936.0,1934.0,1945.0,1947.0,1949.0,1940.0,1956.0,1974.0,1983.0,1983.0,1987.0,1965.0,1989.0,1968.0,1956.0,1958.0,1970.0,1975.0,1974.0,1970.0,1980.0,1994.0,1994.0,1999.0,1993.0,1984.0,1941.0,1961.0,1919.0,1924.0,1955.0,1933.0,1945.0,1951.0,1945.0,1941.0,1919.0,1920.0,1926.0,1925.0,1930.0,1917.0,1910.0,1913.0,1913.0,1926.0,1925.0,1910.0,1932.0,1914.0,1903.0,1895.0,1874.0,1851.0,1801.0,1841.0,1821.0,1822.0,1829.0,1827.0,1838.0,1838.0,1840.0,1850.0,1840.0,1808.0,1802.0,1795.0,1781.0,1785.0,1805.0,1794.0,1799.0,1791.0,1818.0,1815.0,1807.0,1798.0,1809.0,1814.0,1789.0,1795.0,1787.0,1827.0,1828.0,1840.0,1833.0,1845.0,1824.0,1838.0,1825.0,1843.0,1843.0,1836.0,1827.0,1817.0,1862.0,1889.0,1891.0,1881.0,1871.0,1831.0,1851.0,1825.0,1830.0,1829.0,1878.0,1850.0,1861.0,1869.0,1851.0,1860.0,1875.0,1834.0,1856.0,1858.0,1860.0,1850.0,1842.0,1823.0,1825.0,1826.0,1830.0,1820.0,1813.0,1836.0,1809.0,1847.0,1865.0,1865.0,1895.0,1897.0,1866.0,1918.0,1908.0,1926.0,1907.0,1909.0,1914.0,1926.0,1916.0,1938.0,1953.0,1952.0,1969.0,1960.0,1939.0,1964.0,1994.0,1956.0,1976.0,1977.0,1951.0,1950.0,1942.0,1925.0,1932.0,1960.0,1948.0,1944.0,1909.0,1923.0,1900.0,1911.0,1932.0,1945.0,1925.0,1935.0,1928.0,1930.0,1936.0,1939.0,1940.0,1919.0,1906.0,1949.0,1933.0,1945.0,1939.0,1920.0,1925.0,1923.0,1920.0,1937.0,1944.0,1950.0,1960.0,1965.0,1962.0,1992.0,1990.0,1989.0,1987.0,1975.0,1995.0,2004.0,2015.0,2024.0,2002.0,2001.0,2011.0,1995.0,1997.0,2010.0,1998.0,2004.0,2005.0,2001.0,2002.0,2002.0,2000.0,1998.0,1956.0,1965.0,1943.0,1948.0,1971.0,1956.0,1959.0,1960.0,1970.0,1965.0,1952.0,1948.0,1960.0,1945.0,1921.0,1930.0,1923.0,1923.0,1930.0,1920.0,1957.0,2010.0,2022.0,2021.0,1999.0,1985.0,1980.0,2009.0,1989.0,1996.0,1984.0,1982.0,1974.0,1940.0,1918.0,1919.0,1869.0,1829.0,1912.0,1840.0,1848.0,1850.0,1793.0,1705.0,1724.0,1733.0,1674.0,1646.0,1627.0,1739.0,1757.0,1787.0,1790.0,1825.0,1839.0,1907.0,1876.0,1927.0,1884.0,1869.0,1870.0,1853.0,1897.0,1890.0,1865.0,1853.0,1880.0,1920.0,1943.0,1955.0,1989.0,1960.0,1942.0,1953.0,1930.0,1950.0,1976.0,1949.0,1963.0,1929.0,1958.0,1964.0,1968.0,1964.0,1950.0,1972.0,1960.0,1950.0,1995.0,1989.0,2010.0,1996.0,1995.0,1996.0,1995.0,2013.0,2015.0,2000.0,2012.0,2019.0,2019.0,2000.0,1995.0,1985.0,1983.0,1991.0,1970.0,1981.0,1992.0,2003.0,2037.0,2016.0,2015.0,2031.0,2018.0,2016.0,2030.0,2001.0,2039.0,2024.0,2005.0,1979.0,1984.0,2005.0,1997.0,2006.0,2016.0,1999.0,2016.0,2037.0,2054.0,2084.0,2064.0,2085.0,2085.0,2062.0,2105.0,2102.0,2129.0,2124.0,2117.0,2150.0,2135.0,2124.0,2140.0,2090.0,2134.0,2160.0,2159.0,2166.0,2160.0,2190.0,2177.0,2160.0,2160.0,2157.0,2152.0,2150.0,2158.0,2135.0,2165.0,2152.0,2175.0,2138.0,2147.0,2151.0,2130.0,2162.0,2163.0,2194.0,2205.0,2207.0,2242.0,2239.0,2211.0,2216.0,2241.0,2282.0,2286.0,2280.0,null,2268.0,2235.0,2237.0,2226.0,2245.0,2249.0,2253.0,2263.0,2287.0,2285.0,2265.0,2260.0,2257.0,2221.0,2200.0,2190.0,2209.0,2200.0,2225.0,2222.0,2220.0,2219.0,2230.0,2180.0,2145.0,2158.0,2140.0,2133.0,2136.0,2105.0,2106.0,2133.0,2124.0,2117.0,2120.0,2146.0,2132.0,2110.0,2103.0,2070.0,2075.0,2092.0,2089.0,2092.0,2088.0,2061.0,2063.0,2085.0,2090.0,2120.0,2124.0,2128.0,2145.0,2111.0,2126.0,2118.0,2106.0,2120.0,2100.0,2120.0,2108.0,2099.0,2090.0,2098.0,2092.0,2119.0,2105.0,2134.0,2133.0,2140.0,2117.0,2100.0,2105.0,2119.0,2173.0,2150.0,2162.0,2176.0,2185.0,2168.0,2185.0,2156.0,2174.0,2185.0,2173.0,2170.0,2181.0,2180.0,2155.0,2154.0,2151.0,2152.0,2143.0,2149.0,2146.0,2160.0,2142.0,2124.0,2101.0,2126.0,2143.0,2139.0,2135.0,2142.0,2160.0,2162.0,2166.0,2149.0,2137.0,2140.0,2165.0,2175.0,2185.0,2189.0,2179.0,2188.0,2172.0,2170.0,2162.0,2170.0,2108.0,2093.0,2087.0,2075.0,2066.0,2080.0,2066.0,2066.0,2052.0,2042.0,2043.0,2033.0,2039.0,2033.0,2037.0,2028.0,2015.0,2008.0,2014.0,2024.0,1996.0,2004.0,1987.0,2000.0,2015.0,2033.0,2021.0,2017.0,1997.0,2020.0,2000.0,1991.0,1980.0,1989.0,1977.0,1979.0,1975.0,1965.0,1952.0,1948.0,1945.0,1931.0,1931.0,1917.0,1930.0,1947.0,1954.0,1945.0,1947.0,1957.0,1946.0,1939.0,1939.0,1946.0,1930.0,1910.0,1933.0,1924.0,1914.0,1927.0,1934.0,1930.0,1931.0,1919.0,1938.0,1960.0,1955.0,1935.0,1922.0,1911.0,1934.0,1943.0,1952.0,1970.0,1937.0,1940.0,1925.0,1945.0,1950.0,1932.0,1946.0,1952.0,1943.0,1947.0,1945.0,1936.0,1928.0,1921.0,1918.0,1919.0,1933.0,1910.0,1918.0,1895.0,1905.0,1922.0,1928.0,1940.0,1943.0,1947.0,1952.0,1953.0,1967.0,1974.0,1999.0,1998.0,1988.0,2000.0,1998.0,1997.0,2000.0,1990.0,1978.0,1988.0,1989.0,2000.0,2005.0,1984.0,1976.0,1968.0,1971.0,1968.0,1951.0,1970.0,1957.0,1948.0,1945.0,1945.0,1951.0,1980.0,1976.0,1984.0,1950.0,1941.0,1966.0,1951.0,1948.0,1941.0,1936.0,1936.0,1941.0,1952.0,1939.0,1952.0,1967.0,1980.0,1985.0,1963.0,1956.0,1956.0,1958.0,1951.0,1958.0,1966.0,1963.0,1945.0,1942.0,1921.0,1916.0,1916.0,1915.0,1895.0,1887.0,1896.0,1889.0,1850.0,1881.0,1870.0],\"x\":[\"2017-01-04\",\"2017-01-05\",\"2017-01-06\",\"2017-01-10\",\"2017-01-11\",\"2017-01-12\",\"2017-01-13\",\"2017-01-16\",\"2017-01-17\",\"2017-01-18\",\"2017-01-19\",\"2017-01-20\",\"2017-01-23\",\"2017-01-24\",\"2017-01-25\",\"2017-01-26\",\"2017-01-27\",\"2017-01-30\",\"2017-01-31\",\"2017-02-01\",\"2017-02-02\",\"2017-02-03\",\"2017-02-06\",\"2017-02-07\",\"2017-02-08\",\"2017-02-09\",\"2017-02-10\",\"2017-02-13\",\"2017-02-14\",\"2017-02-15\",\"2017-02-16\",\"2017-02-17\",\"2017-02-20\",\"2017-02-21\",\"2017-02-22\",\"2017-02-23\",\"2017-02-24\",\"2017-02-27\",\"2017-02-28\",\"2017-03-01\",\"2017-03-02\",\"2017-03-03\",\"2017-03-06\",\"2017-03-07\",\"2017-03-08\",\"2017-03-09\",\"2017-03-10\",\"2017-03-13\",\"2017-03-14\",\"2017-03-15\",\"2017-03-16\",\"2017-03-17\",\"2017-03-21\",\"2017-03-22\",\"2017-03-23\",\"2017-03-24\",\"2017-03-27\",\"2017-03-28\",\"2017-03-29\",\"2017-03-30\",\"2017-03-31\",\"2017-04-03\",\"2017-04-04\",\"2017-04-05\",\"2017-04-06\",\"2017-04-07\",\"2017-04-10\",\"2017-04-11\",\"2017-04-12\",\"2017-04-13\",\"2017-04-14\",\"2017-04-17\",\"2017-04-18\",\"2017-04-19\",\"2017-04-20\",\"2017-04-21\",\"2017-04-24\",\"2017-04-25\",\"2017-04-26\",\"2017-04-27\",\"2017-04-28\",\"2017-05-01\",\"2017-05-02\",\"2017-05-08\",\"2017-05-09\",\"2017-05-10\",\"2017-05-11\",\"2017-05-12\",\"2017-05-15\",\"2017-05-16\",\"2017-05-17\",\"2017-05-18\",\"2017-05-19\",\"2017-05-22\",\"2017-05-23\",\"2017-05-24\",\"2017-05-25\",\"2017-05-26\",\"2017-05-29\",\"2017-05-30\",\"2017-05-31\",\"2017-06-01\",\"2017-06-02\",\"2017-06-05\",\"2017-06-06\",\"2017-06-07\",\"2017-06-08\",\"2017-06-09\",\"2017-06-12\",\"2017-06-13\",\"2017-06-14\",\"2017-06-15\",\"2017-06-16\",\"2017-06-19\",\"2017-06-20\",\"2017-06-21\",\"2017-06-22\",\"2017-06-23\",\"2017-06-26\",\"2017-06-27\",\"2017-06-28\",\"2017-06-29\",\"2017-06-30\",\"2017-07-03\",\"2017-07-04\",\"2017-07-05\",\"2017-07-06\",\"2017-07-07\",\"2017-07-10\",\"2017-07-11\",\"2017-07-12\",\"2017-07-13\",\"2017-07-14\",\"2017-07-18\",\"2017-07-19\",\"2017-07-20\",\"2017-07-21\",\"2017-07-24\",\"2017-07-25\",\"2017-07-26\",\"2017-07-27\",\"2017-07-28\",\"2017-07-31\",\"2017-08-01\",\"2017-08-02\",\"2017-08-03\",\"2017-08-04\",\"2017-08-07\",\"2017-08-08\",\"2017-08-09\",\"2017-08-10\",\"2017-08-14\",\"2017-08-15\",\"2017-08-16\",\"2017-08-17\",\"2017-08-18\",\"2017-08-21\",\"2017-08-22\",\"2017-08-23\",\"2017-08-24\",\"2017-08-25\",\"2017-08-28\",\"2017-08-29\",\"2017-08-30\",\"2017-08-31\",\"2017-09-01\",\"2017-09-04\",\"2017-09-05\",\"2017-09-06\",\"2017-09-07\",\"2017-09-08\",\"2017-09-11\",\"2017-09-12\",\"2017-09-13\",\"2017-09-14\",\"2017-09-15\",\"2017-09-19\",\"2017-09-20\",\"2017-09-21\",\"2017-09-22\",\"2017-09-25\",\"2017-09-26\",\"2017-09-27\",\"2017-09-28\",\"2017-09-29\",\"2017-10-02\",\"2017-10-03\",\"2017-10-04\",\"2017-10-05\",\"2017-10-06\",\"2017-10-10\",\"2017-10-11\",\"2017-10-12\",\"2017-10-13\",\"2017-10-16\",\"2017-10-17\",\"2017-10-18\",\"2017-10-19\",\"2017-10-20\",\"2017-10-23\",\"2017-10-24\",\"2017-10-25\",\"2017-10-26\",\"2017-10-27\",\"2017-10-30\",\"2017-10-31\",\"2017-11-01\",\"2017-11-02\",\"2017-11-06\",\"2017-11-07\",\"2017-11-08\",\"2017-11-09\",\"2017-11-10\",\"2017-11-13\",\"2017-11-14\",\"2017-11-15\",\"2017-11-16\",\"2017-11-17\",\"2017-11-20\",\"2017-11-21\",\"2017-11-22\",\"2017-11-24\",\"2017-11-27\",\"2017-11-28\",\"2017-11-29\",\"2017-11-30\",\"2017-12-01\",\"2017-12-04\",\"2017-12-05\",\"2017-12-06\",\"2017-12-07\",\"2017-12-08\",\"2017-12-11\",\"2017-12-12\",\"2017-12-13\",\"2017-12-14\",\"2017-12-15\",\"2017-12-18\",\"2017-12-19\",\"2017-12-20\",\"2017-12-21\",\"2017-12-22\",\"2017-12-25\",\"2017-12-26\",\"2017-12-27\",\"2017-12-28\",\"2017-12-29\",\"2018-01-04\",\"2018-01-05\",\"2018-01-09\",\"2018-01-10\",\"2018-01-11\",\"2018-01-12\",\"2018-01-15\",\"2018-01-16\",\"2018-01-17\",\"2018-01-18\",\"2018-01-19\",\"2018-01-22\",\"2018-01-23\",\"2018-01-24\",\"2018-01-25\",\"2018-01-26\",\"2018-01-29\",\"2018-01-30\",\"2018-01-31\",\"2018-02-01\",\"2018-02-02\",\"2018-02-05\",\"2018-02-06\",\"2018-02-07\",\"2018-02-08\",\"2018-02-09\",\"2018-02-13\",\"2018-02-14\",\"2018-02-15\",\"2018-02-16\",\"2018-02-19\",\"2018-02-20\",\"2018-02-21\",\"2018-02-22\",\"2018-02-23\",\"2018-02-26\",\"2018-02-27\",\"2018-02-28\",\"2018-03-01\",\"2018-03-02\",\"2018-03-05\",\"2018-03-06\",\"2018-03-07\",\"2018-03-08\",\"2018-03-09\",\"2018-03-12\",\"2018-03-13\",\"2018-03-14\",\"2018-03-15\",\"2018-03-16\",\"2018-03-19\",\"2018-03-20\",\"2018-03-22\",\"2018-03-23\",\"2018-03-26\",\"2018-03-27\",\"2018-03-28\",\"2018-03-29\",\"2018-03-30\",\"2018-04-02\",\"2018-04-03\",\"2018-04-04\",\"2018-04-05\",\"2018-04-06\",\"2018-04-09\",\"2018-04-10\",\"2018-04-11\",\"2018-04-12\",\"2018-04-13\",\"2018-04-16\",\"2018-04-17\",\"2018-04-18\",\"2018-04-19\",\"2018-04-20\",\"2018-04-23\",\"2018-04-24\",\"2018-04-25\",\"2018-04-26\",\"2018-04-27\",\"2018-05-01\",\"2018-05-02\",\"2018-05-07\",\"2018-05-08\",\"2018-05-09\",\"2018-05-10\",\"2018-05-11\",\"2018-05-14\",\"2018-05-15\",\"2018-05-16\",\"2018-05-17\",\"2018-05-18\",\"2018-05-21\",\"2018-05-22\",\"2018-05-23\",\"2018-05-24\",\"2018-05-25\",\"2018-05-28\",\"2018-05-29\",\"2018-05-30\",\"2018-05-31\",\"2018-06-01\",\"2018-06-04\",\"2018-06-05\",\"2018-06-06\",\"2018-06-07\",\"2018-06-08\",\"2018-06-11\",\"2018-06-12\",\"2018-06-13\",\"2018-06-14\",\"2018-06-15\",\"2018-06-18\",\"2018-06-19\",\"2018-06-20\",\"2018-06-21\",\"2018-06-22\",\"2018-06-25\",\"2018-06-26\",\"2018-06-27\",\"2018-06-28\",\"2018-06-29\",\"2018-07-02\",\"2018-07-03\",\"2018-07-04\",\"2018-07-05\",\"2018-07-06\",\"2018-07-09\",\"2018-07-10\",\"2018-07-11\",\"2018-07-12\",\"2018-07-13\",\"2018-07-17\",\"2018-07-18\",\"2018-07-19\",\"2018-07-20\",\"2018-07-23\",\"2018-07-24\",\"2018-07-25\",\"2018-07-26\",\"2018-07-27\",\"2018-07-30\",\"2018-07-31\",\"2018-08-01\",\"2018-08-02\",\"2018-08-03\",\"2018-08-06\",\"2018-08-07\",\"2018-08-08\",\"2018-08-09\",\"2018-08-10\",\"2018-08-13\",\"2018-08-14\",\"2018-08-15\",\"2018-08-16\",\"2018-08-17\",\"2018-08-20\",\"2018-08-21\",\"2018-08-22\",\"2018-08-23\",\"2018-08-24\",\"2018-08-27\",\"2018-08-28\",\"2018-08-29\",\"2018-08-30\",\"2018-08-31\",\"2018-09-03\",\"2018-09-04\",\"2018-09-05\",\"2018-09-06\",\"2018-09-07\",\"2018-09-10\",\"2018-09-11\",\"2018-09-12\",\"2018-09-13\",\"2018-09-14\",\"2018-09-18\",\"2018-09-19\",\"2018-09-20\",\"2018-09-21\",\"2018-09-25\",\"2018-09-26\",\"2018-09-27\",\"2018-09-28\",\"2018-10-01\",\"2018-10-02\",\"2018-10-03\",\"2018-10-04\",\"2018-10-05\",\"2018-10-09\",\"2018-10-10\",\"2018-10-11\",\"2018-10-12\",\"2018-10-15\",\"2018-10-16\",\"2018-10-17\",\"2018-10-18\",\"2018-10-19\",\"2018-10-22\",\"2018-10-23\",\"2018-10-24\",\"2018-10-25\",\"2018-10-26\",\"2018-10-29\",\"2018-10-30\",\"2018-10-31\",\"2018-11-01\",\"2018-11-02\",\"2018-11-05\",\"2018-11-06\",\"2018-11-07\",\"2018-11-08\",\"2018-11-09\",\"2018-11-12\",\"2018-11-13\",\"2018-11-14\",\"2018-11-15\",\"2018-11-16\",\"2018-11-19\",\"2018-11-20\",\"2018-11-21\",\"2018-11-22\",\"2018-11-26\",\"2018-11-27\",\"2018-11-28\",\"2018-11-29\",\"2018-11-30\",\"2018-12-03\",\"2018-12-04\",\"2018-12-05\",\"2018-12-06\",\"2018-12-07\",\"2018-12-10\",\"2018-12-11\",\"2018-12-12\",\"2018-12-13\",\"2018-12-14\",\"2018-12-17\",\"2018-12-18\",\"2018-12-19\",\"2018-12-20\",\"2018-12-21\",\"2018-12-25\",\"2018-12-26\",\"2018-12-27\",\"2018-12-28\",\"2019-01-04\",\"2019-01-07\",\"2019-01-08\",\"2019-01-09\",\"2019-01-10\",\"2019-01-11\",\"2019-01-15\",\"2019-01-16\",\"2019-01-17\",\"2019-01-18\",\"2019-01-21\",\"2019-01-22\",\"2019-01-23\",\"2019-01-24\",\"2019-01-25\",\"2019-01-28\",\"2019-01-29\",\"2019-01-30\",\"2019-01-31\",\"2019-02-01\",\"2019-02-04\",\"2019-02-05\",\"2019-02-06\",\"2019-02-07\",\"2019-02-08\",\"2019-02-12\",\"2019-02-13\",\"2019-02-14\",\"2019-02-15\",\"2019-02-18\",\"2019-02-19\",\"2019-02-20\",\"2019-02-21\",\"2019-02-22\",\"2019-02-25\",\"2019-02-26\",\"2019-02-27\",\"2019-02-28\",\"2019-03-01\",\"2019-03-04\",\"2019-03-05\",\"2019-03-06\",\"2019-03-07\",\"2019-03-08\",\"2019-03-11\",\"2019-03-12\",\"2019-03-13\",\"2019-03-14\",\"2019-03-15\",\"2019-03-18\",\"2019-03-19\",\"2019-03-20\",\"2019-03-22\",\"2019-03-25\",\"2019-03-26\",\"2019-03-27\",\"2019-03-28\",\"2019-03-29\",\"2019-04-01\",\"2019-04-02\",\"2019-04-03\",\"2019-04-04\",\"2019-04-05\",\"2019-04-08\",\"2019-04-09\",\"2019-04-10\",\"2019-04-11\",\"2019-04-12\",\"2019-04-15\",\"2019-04-16\",\"2019-04-17\",\"2019-04-18\",\"2019-04-19\",\"2019-04-22\",\"2019-04-23\",\"2019-04-24\",\"2019-04-25\",\"2019-04-26\",\"2019-05-07\",\"2019-05-08\",\"2019-05-09\",\"2019-05-10\",\"2019-05-13\",\"2019-05-14\",\"2019-05-15\",\"2019-05-16\",\"2019-05-17\",\"2019-05-20\",\"2019-05-21\",\"2019-05-22\",\"2019-05-23\",\"2019-05-24\",\"2019-05-27\",\"2019-05-28\",\"2019-05-29\",\"2019-05-30\",\"2019-05-31\",\"2019-06-03\",\"2019-06-04\",\"2019-06-05\",\"2019-06-06\",\"2019-06-07\",\"2019-06-10\",\"2019-06-11\",\"2019-06-12\",\"2019-06-13\",\"2019-06-14\",\"2019-06-17\",\"2019-06-18\",\"2019-06-19\",\"2019-06-20\",\"2019-06-21\",\"2019-06-24\",\"2019-06-25\",\"2019-06-26\",\"2019-06-27\",\"2019-06-28\",\"2019-07-01\",\"2019-07-02\",\"2019-07-03\",\"2019-07-04\",\"2019-07-05\",\"2019-07-08\",\"2019-07-09\",\"2019-07-10\",\"2019-07-11\",\"2019-07-12\",\"2019-07-16\",\"2019-07-17\",\"2019-07-18\",\"2019-07-19\",\"2019-07-22\",\"2019-07-23\",\"2019-07-24\",\"2019-07-25\",\"2019-07-26\",\"2019-07-29\",\"2019-07-30\",\"2019-07-31\",\"2019-08-01\",\"2019-08-02\",\"2019-08-05\",\"2019-08-06\",\"2019-08-07\",\"2019-08-08\",\"2019-08-09\",\"2019-08-13\",\"2019-08-14\",\"2019-08-15\",\"2019-08-16\",\"2019-08-19\",\"2019-08-20\",\"2019-08-21\",\"2019-08-22\",\"2019-08-23\",\"2019-08-26\",\"2019-08-27\",\"2019-08-28\",\"2019-08-29\",\"2019-08-30\",\"2019-09-02\",\"2019-09-03\",\"2019-09-04\",\"2019-09-05\",\"2019-09-06\",\"2019-09-09\",\"2019-09-10\",\"2019-09-11\",\"2019-09-12\",\"2019-09-13\",\"2019-09-17\",\"2019-09-18\",\"2019-09-19\",\"2019-09-20\",\"2019-09-24\",\"2019-09-25\",\"2019-09-26\",\"2019-09-27\",\"2019-09-30\",\"2019-10-01\",\"2019-10-02\",\"2019-10-03\",\"2019-10-04\",\"2019-10-07\",\"2019-10-08\",\"2019-10-09\",\"2019-10-10\",\"2019-10-11\",\"2019-10-15\",\"2019-10-16\",\"2019-10-17\",\"2019-10-18\",\"2019-10-21\",\"2019-10-23\",\"2019-10-24\",\"2019-10-25\",\"2019-10-28\",\"2019-10-29\",\"2019-10-30\",\"2019-10-31\",\"2019-11-01\",\"2019-11-05\",\"2019-11-06\",\"2019-11-07\",\"2019-11-08\",\"2019-11-11\",\"2019-11-12\",\"2019-11-13\",\"2019-11-14\",\"2019-11-15\",\"2019-11-18\",\"2019-11-19\",\"2019-11-20\",\"2019-11-21\",\"2019-11-22\",\"2019-11-25\",\"2019-11-26\",\"2019-11-27\",\"2019-11-28\",\"2019-11-29\",\"2019-12-02\",\"2019-12-03\",\"2019-12-04\",\"2019-12-05\",\"2019-12-06\",\"2019-12-09\",\"2019-12-10\",\"2019-12-11\",\"2019-12-12\",\"2019-12-13\",\"2019-12-16\",\"2019-12-17\",\"2019-12-18\",\"2019-12-19\",\"2019-12-20\",\"2019-12-23\",\"2019-12-24\",\"2019-12-25\",\"2019-12-26\",\"2019-12-27\",\"2019-12-30\",\"2020-01-06\",\"2020-01-07\",\"2020-01-08\",\"2020-01-09\",\"2020-01-10\",\"2020-01-14\",\"2020-01-15\",\"2020-01-16\",\"2020-01-17\",\"2020-01-20\",\"2020-01-21\",\"2020-01-22\",\"2020-01-23\",\"2020-01-24\",\"2020-01-27\",\"2020-01-28\",\"2020-01-29\",\"2020-01-30\",\"2020-01-31\",\"2020-02-03\",\"2020-02-04\",\"2020-02-05\",\"2020-02-06\",\"2020-02-07\",\"2020-02-10\",\"2020-02-12\",\"2020-02-13\",\"2020-02-14\",\"2020-02-17\",\"2020-02-18\",\"2020-02-19\",\"2020-02-20\",\"2020-02-21\",\"2020-02-25\",\"2020-02-26\",\"2020-02-27\",\"2020-02-28\",\"2020-03-02\",\"2020-03-03\",\"2020-03-04\",\"2020-03-05\",\"2020-03-06\",\"2020-03-09\",\"2020-03-10\",\"2020-03-11\",\"2020-03-12\",\"2020-03-13\",\"2020-03-16\",\"2020-03-17\",\"2020-03-18\",\"2020-03-19\",\"2020-03-23\",\"2020-03-24\",\"2020-03-25\",\"2020-03-26\",\"2020-03-27\",\"2020-03-30\",\"2020-03-31\",\"2020-04-01\",\"2020-04-02\",\"2020-04-03\",\"2020-04-06\",\"2020-04-07\",\"2020-04-08\",\"2020-04-09\",\"2020-04-10\",\"2020-04-13\",\"2020-04-14\",\"2020-04-15\",\"2020-04-16\",\"2020-04-17\",\"2020-04-20\",\"2020-04-21\",\"2020-04-22\",\"2020-04-23\",\"2020-04-24\",\"2020-04-27\",\"2020-04-28\",\"2020-04-30\",\"2020-05-01\",\"2020-05-07\",\"2020-05-08\",\"2020-05-11\",\"2020-05-12\",\"2020-05-13\",\"2020-05-14\",\"2020-05-15\",\"2020-05-18\",\"2020-05-19\",\"2020-05-20\",\"2020-05-21\",\"2020-05-22\",\"2020-05-25\",\"2020-05-26\",\"2020-05-27\",\"2020-05-28\",\"2020-05-29\",\"2020-06-01\",\"2020-06-02\",\"2020-06-03\",\"2020-06-04\",\"2020-06-05\",\"2020-06-08\",\"2020-06-09\",\"2020-06-10\",\"2020-06-11\",\"2020-06-12\",\"2020-06-15\",\"2020-06-16\",\"2020-06-17\",\"2020-06-18\",\"2020-06-19\",\"2020-06-22\",\"2020-06-23\",\"2020-06-24\",\"2020-06-25\",\"2020-06-26\",\"2020-06-29\",\"2020-06-30\",\"2020-07-01\",\"2020-07-02\",\"2020-07-03\",\"2020-07-06\",\"2020-07-07\",\"2020-07-08\",\"2020-07-09\",\"2020-07-10\",\"2020-07-13\",\"2020-07-14\",\"2020-07-15\",\"2020-07-16\",\"2020-07-17\",\"2020-07-20\",\"2020-07-21\",\"2020-07-22\",\"2020-07-27\",\"2020-07-28\",\"2020-07-29\",\"2020-07-30\",\"2020-07-31\",\"2020-08-03\",\"2020-08-04\",\"2020-08-05\",\"2020-08-06\",\"2020-08-07\",\"2020-08-11\",\"2020-08-12\",\"2020-08-13\",\"2020-08-14\",\"2020-08-17\",\"2020-08-18\",\"2020-08-19\",\"2020-08-20\",\"2020-08-21\",\"2020-08-24\",\"2020-08-25\",\"2020-08-26\",\"2020-08-27\",\"2020-08-28\",\"2020-08-31\",\"2020-09-01\",\"2020-09-02\",\"2020-09-03\",\"2020-09-04\",\"2020-09-07\",\"2020-09-08\",\"2020-09-09\",\"2020-09-10\",\"2020-09-11\",\"2020-09-14\",\"2020-09-15\",\"2020-09-16\",\"2020-09-17\",\"2020-09-18\",\"2020-09-23\",\"2020-09-24\",\"2020-09-25\",\"2020-09-28\",\"2020-09-29\",\"2020-09-30\",\"2020-10-01\",\"2020-10-02\",\"2020-10-05\",\"2020-10-06\",\"2020-10-07\",\"2020-10-08\",\"2020-10-09\",\"2020-10-12\",\"2020-10-13\",\"2020-10-14\",\"2020-10-15\",\"2020-10-16\",\"2020-10-19\",\"2020-10-20\",\"2020-10-21\",\"2020-10-22\",\"2020-10-23\",\"2020-10-26\",\"2020-10-27\",\"2020-10-28\",\"2020-10-29\",\"2020-10-30\",\"2020-11-02\",\"2020-11-04\",\"2020-11-05\",\"2020-11-06\",\"2020-11-09\",\"2020-11-10\",\"2020-11-11\",\"2020-11-12\",\"2020-11-13\",\"2020-11-16\",\"2020-11-17\",\"2020-11-18\",\"2020-11-19\",\"2020-11-20\",\"2020-11-24\",\"2020-11-25\",\"2020-11-26\",\"2020-11-27\",\"2020-11-30\",\"2020-12-01\",\"2020-12-02\",\"2020-12-03\",\"2020-12-04\",\"2020-12-07\",\"2020-12-08\",\"2020-12-09\",\"2020-12-10\",\"2020-12-11\",\"2020-12-14\",\"2020-12-15\",\"2020-12-16\",\"2020-12-17\",\"2020-12-18\",\"2020-12-21\",\"2020-12-22\",\"2020-12-23\",\"2020-12-24\",\"2020-12-25\",\"2020-12-28\",\"2020-12-29\",\"2020-12-30\",\"2021-01-04\",\"2021-01-05\",\"2021-01-06\",\"2021-01-07\",\"2021-01-08\",\"2021-01-12\",\"2021-01-13\",\"2021-01-14\",\"2021-01-15\",\"2021-01-18\",\"2021-01-19\",\"2021-01-20\",\"2021-01-21\",\"2021-01-22\",\"2021-01-25\",\"2021-01-26\",\"2021-01-27\",\"2021-01-28\",\"2021-01-29\",\"2021-02-01\",\"2021-02-02\",\"2021-02-03\",\"2021-02-04\",\"2021-02-05\",\"2021-02-08\",\"2021-02-09\",\"2021-02-10\",\"2021-02-12\",\"2021-02-15\",\"2021-02-16\",\"2021-02-17\",\"2021-02-18\",\"2021-02-19\",\"2021-02-22\",\"2021-02-24\",\"2021-02-25\",\"2021-02-26\",\"2021-03-01\",\"2021-03-02\",\"2021-03-03\",\"2021-03-04\",\"2021-03-05\",\"2021-03-08\",\"2021-03-09\",\"2021-03-10\",\"2021-03-11\",\"2021-03-12\",\"2021-03-15\",\"2021-03-16\",\"2021-03-17\",\"2021-03-18\",\"2021-03-19\",\"2021-03-22\",\"2021-03-23\",\"2021-03-24\",\"2021-03-25\",\"2021-03-26\",\"2021-03-29\",\"2021-03-30\",\"2021-03-31\",\"2021-04-01\",\"2021-04-02\",\"2021-04-05\",\"2021-04-06\",\"2021-04-07\",\"2021-04-08\",\"2021-04-09\",\"2021-04-12\",\"2021-04-13\",\"2021-04-14\",\"2021-04-15\",\"2021-04-16\",\"2021-04-19\",\"2021-04-20\",\"2021-04-21\",\"2021-04-22\",\"2021-04-23\",\"2021-04-26\",\"2021-04-27\",\"2021-04-28\",\"2021-04-30\",\"2021-05-06\",\"2021-05-07\",\"2021-05-10\",\"2021-05-11\",\"2021-05-12\",\"2021-05-13\",\"2021-05-14\",\"2021-05-17\",\"2021-05-18\",\"2021-05-19\",\"2021-05-20\",\"2021-05-21\",\"2021-05-24\",\"2021-05-25\",\"2021-05-26\",\"2021-05-27\",\"2021-05-28\",\"2021-05-31\",\"2021-06-01\",\"2021-06-02\",\"2021-06-03\",\"2021-06-04\",\"2021-06-07\",\"2021-06-08\",\"2021-06-09\",\"2021-06-10\",\"2021-06-11\",\"2021-06-14\",\"2021-06-15\",\"2021-06-16\",\"2021-06-17\",\"2021-06-18\",\"2021-06-21\",\"2021-06-22\",\"2021-06-23\",\"2021-06-24\",\"2021-06-25\",\"2021-06-28\",\"2021-06-29\",\"2021-06-30\",\"2021-07-01\",\"2021-07-02\",\"2021-07-05\",\"2021-07-06\",\"2021-07-07\",\"2021-07-08\",\"2021-07-09\",\"2021-07-12\",\"2021-07-13\",\"2021-07-14\",\"2021-07-15\",\"2021-07-16\",\"2021-07-19\",\"2021-07-20\",\"2021-07-21\",\"2021-07-26\",\"2021-07-27\",\"2021-07-28\",\"2021-07-29\",\"2021-07-30\",\"2021-08-02\",\"2021-08-03\",\"2021-08-04\",\"2021-08-05\",\"2021-08-06\",\"2021-08-10\",\"2021-08-11\",\"2021-08-12\",\"2021-08-13\",\"2021-08-16\",\"2021-08-17\",\"2021-08-18\",\"2021-08-19\",\"2021-08-20\",\"2021-08-23\",\"2021-08-24\",\"2021-08-25\",\"2021-08-26\",\"2021-08-27\",\"2021-08-30\",\"2021-08-31\",\"2021-09-01\",\"2021-09-02\",\"2021-09-03\",\"2021-09-06\",\"2021-09-07\",\"2021-09-08\",\"2021-09-09\",\"2021-09-10\",\"2021-09-13\",\"2021-09-14\",\"2021-09-15\",\"2021-09-16\",\"2021-09-17\",\"2021-09-21\",\"2021-09-22\",\"2021-09-24\",\"2021-09-27\",\"2021-09-28\",\"2021-09-29\",\"2021-09-30\",\"2021-10-01\",\"2021-10-04\",\"2021-10-05\",\"2021-10-06\",\"2021-10-07\",\"2021-10-08\",\"2021-10-11\",\"2021-10-12\",\"2021-10-13\",\"2021-10-14\",\"2021-10-15\",\"2021-10-18\",\"2021-10-19\",\"2021-10-20\",\"2021-10-21\",\"2021-10-22\",\"2021-10-25\",\"2021-10-26\",\"2021-10-27\",\"2021-10-28\",\"2021-10-29\",\"2021-11-01\",\"2021-11-02\",\"2021-11-04\",\"2021-11-05\",\"2021-11-08\",\"2021-11-09\",\"2021-11-10\",\"2021-11-11\",\"2021-11-12\",\"2021-11-15\",\"2021-11-16\",\"2021-11-17\",\"2021-11-18\",\"2021-11-19\",\"2021-11-22\",\"2021-11-24\",\"2021-11-25\",\"2021-11-26\",\"2021-11-29\",\"2021-11-30\",\"2021-12-01\",\"2021-12-02\",\"2021-12-03\"],\"type\":\"candlestick\"},{\"close\":[1960.0,1930.0,1912.0,1950.0,1935.0,1935.0,1937.0,1939.0,1921.0,1921.0,1912.0,2170.0,2061.0,2045.0,2031.0,2039.0,2044.0,2014.0,2004.0,2009.0,2038.0,2030.0,2030.0,2048.0,2070.0,2099.0,2056.0,2030.0,2076.0,2081.0,2071.0,2065.0,2064.0,2090.0,2118.0,2138.0,2156.0,2160.0,2150.0,2163.0,2160.0,2203.0,2209.0,2250.0,2241.0,2243.0,2230.0,2186.0,2218.0,2167.0,2189.0,2201.0,2255.0,2323.0,2339.0,2385.0,2399.0,2397.0,2365.0,2325.0,2361.0,2410.0,2386.0,2396.0,2311.0,2340.0,2367.0,2365.0,2356.0,2330.0,2332.0,2350.0,2490.0,2440.0,2460.0,2645.0,2637.0,2587.0,2621.0,2631.0,2601.0,2645.0,2644.0,2635.0,2607.0,2621.0,2680.0,2690.0,2700.0,2749.0,2800.0,2788.0,2924.0,2998.0,2930.0,2870.0,2880.0,2872.0,3000.0,2964.0,3000.0,3070.0,3155.0,3400.0,3560.0,3585.0,3675.0,3510.0,3345.0,3450.0,3505.0,3465.0,3430.0,3550.0,3500.0,3440.0,3430.0,3345.0,3360.0,3280.0,3245.0,3250.0,3390.0,3220.0,3165.0,3175.0,3200.0,3165.0,3185.0,3210.0,3250.0,3290.0,3250.0,3300.0,3340.0,3340.0,3300.0,3350.0,3305.0,3320.0,3300.0,3300.0,3300.0,3300.0,3300.0,3350.0,3345.0,3360.0,3395.0,3375.0,3315.0,3205.0,3250.0,3290.0,3290.0,3210.0,3105.0,3160.0,3115.0,3150.0,3140.0,3120.0,3120.0,3130.0,3330.0,3370.0,3370.0,3170.0,3200.0,3195.0,3165.0,3300.0,3445.0,3385.0,3300.0,3340.0,3440.0,3440.0,3440.0,3440.0,3560.0,3530.0,3610.0,3610.0,3705.0,3935.0,4140.0,4080.0,4015.0,3860.0,3830.0,3815.0,3855.0,3940.0,4015.0,4005.0,3990.0,3795.0,3810.0,3720.0,3840.0,3770.0,3700.0,3720.0,3795.0,3825.0,3905.0,3920.0,3900.0,3900.0,3815.0,3810.0,3860.0,3855.0,3680.0,3685.0,3705.0,3710.0,3705.0,null,3700.0,3750.0,3780.0,3755.0,3800.0,3725.0,3725.0,3790.0,3785.0,3890.0,3910.0,3920.0,3930.0,3820.0,3915.0,3860.0,4040.0,4100.0,4145.0,4080.0,4030.0,3950.0,3885.0,3955.0,3945.0,3950.0,3960.0,4025.0,4020.0,3995.0,4010.0,3995.0,4000.0,4015.0,4100.0,4115.0,4100.0,4090.0,4100.0,4140.0,4155.0,4320.0,4335.0,4345.0,4310.0,4480.0,4545.0,4860.0,4705.0,4135.0,4360.0,4450.0,4270.0,4505.0,4360.0,4470.0,4680.0,4840.0,4725.0,4715.0,4565.0,4540.0,5240.0,6240.0,5530.0,5300.0,5130.0,4950.0,4780.0,4920.0,4870.0,4925.0,4800.0,4735.0,4750.0,4765.0,4705.0,4650.0,4555.0,4545.0,4450.0,4375.0,4445.0,4590.0,4715.0,4680.0,4720.0,4660.0,4620.0,4630.0,4605.0,4540.0,4590.0,4580.0,4585.0,4590.0,4490.0,4425.0,4420.0,4490.0,4620.0,4760.0,4750.0,4760.0,4730.0,4745.0,4620.0,4670.0,4675.0,4700.0,4700.0,4745.0,4690.0,4735.0,4695.0,4650.0,4670.0,4695.0,4690.0,4695.0,4645.0,4650.0,4610.0,4645.0,4570.0,4535.0,4565.0,4530.0,4555.0,4510.0,4430.0,4470.0,4465.0,4405.0,4405.0,4395.0,4415.0,4440.0,4440.0,4360.0,4280.0,4355.0,4355.0,4315.0,4275.0,4275.0,4280.0,4200.0,4140.0,4090.0,4025.0,3865.0,3920.0,3855.0,3900.0,3810.0,3720.0,3755.0,3720.0,3705.0,3690.0,3605.0,3565.0,3620.0,3605.0,3610.0,3665.0,3730.0,3800.0,3710.0,3650.0,3610.0,3615.0,3450.0,3425.0,3455.0,3230.0,3060.0,3140.0,3130.0,2955.0,2987.0,2900.0,2851.0,2872.0,2978.0,3025.0,3100.0,3165.0,3155.0,3095.0,3140.0,3115.0,3045.0,2965.0,2894.0,2879.0,2877.0,2925.0,2873.0,2859.0,2852.0,2851.0,2815.0,2831.0,2970.0,3075.0,3050.0,3030.0,3075.0,3005.0,2960.0,2983.0,2900.0,2871.0,2850.0,2934.0,2842.0,2900.0,2884.0,2924.0,2950.0,2965.0,2944.0,2903.0,2866.0,2853.0,2734.0,2611.0,2765.0,2823.0,2845.0,2871.0,2832.0,2850.0,2850.0,2887.0,2975.0,2992.0,3015.0,2951.0,2950.0,2910.0,2900.0,2909.0,2906.0,2899.0,2873.0,2898.0,2918.0,2940.0,2881.0,2908.0,2939.0,2871.0,2840.0,2835.0,2780.0,2753.0,2715.0,2728.0,2829.0,2750.0,2653.0,2625.0,2600.0,2520.0,2388.0,2150.0,2231.0,2311.0,2320.0,2385.0,2401.0,2403.0,2404.0,2353.0,2446.0,2450.0,2460.0,2505.0,2503.0,2496.0,2501.0,2496.0,2501.0,2528.0,2286.0,2266.0,2244.0,2197.0,2227.0,2173.0,2186.0,2205.0,2232.0,2195.0,2238.0,2165.0,2230.0,2204.0,2220.0,2208.0,2213.0,2219.0,2216.0,2225.0,2300.0,2309.0,2300.0,2296.0,2390.0,2390.0,2366.0,2381.0,2313.0,2306.0,2322.0,2317.0,2316.0,2317.0,2294.0,2290.0,2255.0,2248.0,2247.0,2294.0,2299.0,2300.0,2298.0,2285.0,2290.0,2322.0,2320.0,2333.0,2322.0,2309.0,2295.0,2338.0,2307.0,2301.0,2340.0,2331.0,2360.0,2437.0,2447.0,2415.0,2438.0,2431.0,2443.0,2461.0,2469.0,2508.0,2480.0,2449.0,2460.0,2460.0,2437.0,2425.0,2450.0,2457.0,2498.0,2495.0,2469.0,2491.0,2639.0,2605.0,2605.0,2563.0,2541.0,2570.0,2520.0,2546.0,2555.0,2525.0,2504.0,2550.0,2521.0,2517.0,2490.0,2492.0,2494.0,2470.0,2574.0,2566.0,2545.0,2452.0,2440.0,2458.0,2469.0,2440.0,2435.0,2410.0,2427.0,2421.0,2421.0,2420.0,2420.0,2438.0,2460.0,2480.0,2490.0,2530.0,2514.0,2506.0,2558.0,2543.0,2536.0,2514.0,2530.0,2530.0,2485.0,2460.0,2444.0,2429.0,2460.0,2440.0,2438.0,2196.0,2259.0,2250.0,2182.0,2193.0,2218.0,2203.0,2232.0,2190.0,2205.0,2210.0,2225.0,2219.0,2211.0,2210.0,2201.0,2192.0,2197.0,2182.0,2170.0,2152.0,2204.0,2237.0,2249.0,2269.0,2278.0,2284.0,2269.0,2254.0,2233.0,2246.0,2286.0,2277.0,2261.0,2276.0,2266.0,2249.0,2251.0,2258.0,2260.0,2269.0,2277.0,2295.0,2278.0,2257.0,2249.0,2278.0,2270.0,2318.0,2310.0,2306.0,2350.0,2434.0,2394.0,2364.0,2383.0,2352.0,2362.0,2355.0,2360.0,2348.0,2327.0,2324.0,2339.0,2385.0,2370.0,2378.0,2382.0,2373.0,2385.0,2390.0,2381.0,2395.0,2395.0,2411.0,2394.0,2382.0,2376.0,2416.0,2491.0,2484.0,2470.0,2440.0,2426.0,2412.0,2370.0,2380.0,2346.0,2340.0,2334.0,2328.0,2329.0,2325.0,2325.0,2363.0,2370.0,2365.0,2360.0,2356.0,2347.0,2357.0,2333.0,2323.0,2325.0,2347.0,2339.0,2369.0,2339.0,2339.0,2369.0,2349.0,2730.0,2729.0,2736.0,2564.0,2600.0,2592.0,2576.0,2599.0,2622.0,2640.0,2565.0,2588.0,2600.0,2593.0,2601.0,2617.0,2621.0,2534.0,2539.0,2482.0,2306.0,2370.0,2377.0,2380.0,2372.0,2284.0,2166.0,2156.0,2220.0,2160.0,2004.0,2025.0,2121.0,2050.0,1800.0,1815.0,2015.0,2124.0,2149.0,2190.0,2091.0,2091.0,2086.0,2040.0,2025.0,2136.0,2190.0,2250.0,2280.0,2280.0,2302.0,2290.0,2288.0,2423.0,2410.0,2480.0,2420.0,2395.0,2464.0,2472.0,2420.0,2486.0,2462.0,2470.0,2394.0,2400.0,2418.0,2489.0,2460.0,2465.0,2470.0,2476.0,2490.0,2474.0,2464.0,2515.0,2530.0,2536.0,2517.0,2629.0,2666.0,2736.0,2707.0,2705.0,2726.0,2757.0,2780.0,2795.0,2755.0,2758.0,2691.0,2701.0,2765.0,2769.0,2770.0,2732.0,2775.0,2794.0,2798.0,2807.0,2877.0,2691.0,2754.0,2749.0,2735.0,2714.0,2704.0,2632.0,2633.0,2580.0,2533.0,2538.0,2538.0,2551.0,null,2538.0,2550.0,2525.0,2520.0,2551.0,2630.0,2671.0,2740.0,2883.0,2855.0,2830.0,2817.0,2893.0,2960.0,2929.0,2902.0,2945.0,2905.0,2850.0,2787.0,2808.0,2810.0,2814.0,2868.0,2980.0,3005.0,2926.0,2821.0,2899.0,2915.0,2923.0,2932.0,2947.0,3010.0,3000.0,2960.0,2933.0,3000.0,3000.0,2983.0,2987.0,3055.0,3120.0,3195.0,3290.0,3375.0,3395.0,3350.0,3425.0,null,3385.0,3330.0,3355.0,3300.0,3250.0,3300.0,3375.0,3300.0,3310.0,3350.0,3305.0,3345.0,3465.0,3490.0,3550.0,3580.0,3495.0,3420.0,3460.0,3415.0,3340.0,3300.0,3235.0,3250.0,3240.0,3250.0,3155.0,3165.0,3190.0,3125.0,3165.0,3160.0,3105.0,3105.0,3110.0,3190.0,3165.0,3130.0,3200.0,3230.0,3180.0,3195.0,3230.0,3190.0,3205.0,3225.0,3240.0,3265.0,3215.0,3270.0,3255.0,3300.0,3295.0,3290.0,3270.0,3270.0,3280.0,3320.0,3310.0,3360.0,3385.0,3450.0,3490.0,3480.0,3400.0,3395.0,3400.0,3345.0,3365.0,3370.0,3395.0,3410.0,3440.0,3430.0,3585.0,3415.0,3395.0,3370.0,3365.0,3305.0,3275.0,3300.0,3285.0,3270.0,3280.0,3280.0,3280.0,3275.0,3265.0,3230.0,3280.0,3295.0,3295.0,3275.0,3275.0,3280.0,3285.0,3275.0,3275.0,3275.0,3320.0,3315.0,3345.0,3380.0,3405.0,3325.0,3340.0,3320.0,3350.0,3370.0,3345.0,3385.0,3390.0,3450.0,3490.0,3460.0,3450.0,3450.0,3475.0,3435.0,3525.0,3505.0,3530.0,3520.0,3535.0,3550.0,3545.0,3520.0,3535.0,3565.0,3500.0,3520.0,3540.0,3520.0,3560.0,3535.0,3455.0,3520.0,3535.0,3550.0,3495.0,3525.0,3500.0,3495.0,3505.0,3475.0,3450.0,3365.0,3405.0,3410.0,3390.0,3295.0,3320.0,3390.0,3390.0,3415.0,3415.0,3400.0,3420.0,3420.0,3415.0,3395.0,3435.0,3425.0,3395.0,3450.0,3430.0,3430.0,3440.0,3440.0,3440.0,3415.0,3440.0,3415.0,3405.0,3390.0,3420.0,3420.0,3440.0,3410.0,3435.0,3260.0,3330.0,3285.0,3280.0,3255.0,3235.0,3215.0,3195.0,3105.0,3235.0,3250.0,3255.0,3175.0,3150.0,3145.0,3140.0,3155.0,3165.0,3195.0,3180.0,3190.0,3230.0,3175.0,3160.0,3105.0,3085.0,3100.0,3150.0,3110.0,3120.0,3245.0,3145.0,3155.0,3170.0,3160.0,3100.0,3115.0,3115.0,3105.0,3145.0,3150.0,3180.0,3190.0,3240.0,3240.0,3240.0,3210.0,3170.0,3160.0,3170.0,3180.0,3220.0,3180.0,3195.0,3180.0,3195.0,3185.0,3210.0,3160.0,3195.0,3185.0,3225.0,3230.0,3205.0,3260.0,3265.0,3250.0,3235.0,3280.0,3390.0,3300.0,3345.0,3315.0,3310.0,3265.0,3270.0,3270.0,3280.0,3380.0,3300.0,3310.0,3260.0,3255.0,3225.0,3225.0,3225.0,3225.0,3205.0,3235.0,3195.0,3190.0,3205.0,3195.0,3205.0,3205.0,3235.0,3195.0,3200.0,3200.0,3185.0,3195.0,3160.0,3160.0,3135.0,3185.0,3150.0,3200.0],\"high\":[1960.0,2000.0,1935.0,1972.0,1955.0,1950.0,1938.0,1951.0,1948.0,1921.0,1914.0,2220.0,2148.0,2060.0,2066.0,2057.0,2055.0,2048.0,2020.0,2040.0,2038.0,2038.0,2035.0,2048.0,2070.0,2105.0,2056.0,2080.0,2080.0,2094.0,2090.0,2070.0,2067.0,2090.0,2118.0,2150.0,2156.0,2165.0,2165.0,2163.0,2227.0,2226.0,2209.0,2250.0,2255.0,2243.0,2241.0,2235.0,2219.0,2218.0,2200.0,2217.0,2267.0,2379.0,2403.0,2391.0,2404.0,2400.0,2382.0,2365.0,2377.0,2539.0,2439.0,2396.0,2395.0,2366.0,2380.0,2374.0,2372.0,2330.0,2370.0,2350.0,2490.0,2490.0,2475.0,2680.0,2745.0,2628.0,2645.0,2644.0,2644.0,2649.0,2645.0,2665.0,2635.0,2621.0,2700.0,2700.0,2704.0,2750.0,2888.0,2788.0,2950.0,2999.0,3000.0,2925.0,2909.0,2881.0,3000.0,2973.0,3000.0,3200.0,3340.0,3400.0,3565.0,3715.0,3690.0,3630.0,3450.0,3450.0,3540.0,3510.0,3550.0,3575.0,3560.0,3500.0,3495.0,3495.0,3440.0,3430.0,3250.0,3250.0,3390.0,3475.0,3200.0,3175.0,3200.0,3215.0,3190.0,3210.0,3250.0,3295.0,3290.0,3365.0,3340.0,3345.0,3350.0,3360.0,3360.0,3325.0,3320.0,3330.0,3375.0,3300.0,3350.0,3350.0,3360.0,3490.0,3405.0,3385.0,3320.0,3300.0,3270.0,3290.0,3290.0,3280.0,3210.0,3165.0,3140.0,3150.0,3150.0,3165.0,3120.0,3170.0,3375.0,3370.0,3425.0,3335.0,3200.0,3255.0,3275.0,3300.0,3490.0,3420.0,3430.0,3370.0,3455.0,3465.0,3440.0,3450.0,3585.0,3560.0,3615.0,3680.0,3705.0,4320.0,4315.0,4210.0,4120.0,4065.0,3930.0,3835.0,3905.0,3940.0,4110.0,4100.0,4075.0,3975.0,3870.0,3810.0,3865.0,3850.0,3755.0,3720.0,3865.0,3855.0,3935.0,3920.0,4000.0,3995.0,3960.0,3885.0,3865.0,3865.0,3795.0,3755.0,3705.0,3780.0,3745.0,null,3700.0,3750.0,3780.0,3800.0,3800.0,3800.0,3760.0,3790.0,3800.0,3890.0,3915.0,3920.0,4100.0,4000.0,3915.0,3970.0,4045.0,4200.0,4150.0,4145.0,4060.0,4025.0,3950.0,3960.0,4015.0,4050.0,3970.0,4025.0,4025.0,4010.0,4025.0,3995.0,4000.0,4050.0,4190.0,4145.0,4150.0,4100.0,4100.0,4145.0,4155.0,4320.0,4365.0,4400.0,4395.0,4650.0,4545.0,4895.0,4780.0,4505.0,4435.0,4470.0,4290.0,4520.0,4550.0,4500.0,4700.0,5000.0,4785.0,4795.0,4770.0,4620.0,5240.0,6240.0,5870.0,5600.0,5250.0,5150.0,4915.0,5160.0,5020.0,5000.0,4995.0,4780.0,4750.0,4790.0,4780.0,4715.0,4605.0,4560.0,4500.0,4450.0,4500.0,4590.0,4715.0,4755.0,4785.0,4715.0,4690.0,4690.0,4675.0,4605.0,4595.0,4650.0,4640.0,4640.0,4640.0,4470.0,4500.0,4490.0,4620.0,4760.0,4775.0,4760.0,4770.0,4745.0,4760.0,4700.0,4740.0,4735.0,4740.0,4745.0,4745.0,4745.0,4735.0,4730.0,4720.0,4715.0,4730.0,4720.0,4695.0,4675.0,4690.0,4645.0,4635.0,4535.0,4580.0,4580.0,4640.0,4545.0,4540.0,4495.0,4505.0,4510.0,4420.0,4450.0,4445.0,4455.0,4475.0,4440.0,4340.0,4385.0,4420.0,4370.0,4310.0,4300.0,4320.0,4280.0,4245.0,4165.0,4065.0,4025.0,3920.0,3985.0,3900.0,3860.0,3830.0,3805.0,3765.0,3755.0,3730.0,3675.0,3680.0,3665.0,3640.0,3620.0,3670.0,3775.0,3800.0,3800.0,3730.0,3680.0,3655.0,3585.0,3510.0,3545.0,3515.0,3205.0,3190.0,3165.0,3115.0,3055.0,2988.0,2909.0,2903.0,2978.0,3035.0,3115.0,3165.0,3245.0,3155.0,3155.0,3210.0,3115.0,3020.0,2970.0,2944.0,2898.0,2945.0,2912.0,2899.0,2898.0,2860.0,2836.0,2851.0,2975.0,3080.0,3095.0,3050.0,3080.0,3090.0,3020.0,3000.0,2980.0,2931.0,2882.0,2939.0,2870.0,2905.0,2900.0,2938.0,2974.0,2965.0,2960.0,2961.0,2903.0,2866.0,2833.0,2787.0,2802.0,2887.0,2923.0,2871.0,2887.0,2900.0,2888.0,2900.0,2975.0,3020.0,3145.0,3000.0,2970.0,2960.0,2926.0,2947.0,2955.0,2900.0,2949.0,2899.0,2933.0,2940.0,2948.0,2909.0,2939.0,2905.0,2870.0,2841.0,2829.0,2754.0,2733.0,2751.0,2830.0,2777.0,2750.0,2675.0,2625.0,2600.0,2495.0,2200.0,2262.0,2388.0,2346.0,2385.0,2492.0,2449.0,2439.0,2402.0,2449.0,2450.0,2480.0,2510.0,2515.0,2521.0,2548.0,2530.0,2520.0,2528.0,2305.0,2296.0,2256.0,2249.0,2227.0,2209.0,2187.0,2219.0,2305.0,2215.0,2238.0,2230.0,2239.0,2221.0,2234.0,2227.0,2233.0,2234.0,2233.0,2245.0,2303.0,2330.0,2330.0,2335.0,2400.0,2400.0,2390.0,2412.0,2362.0,2370.0,2344.0,2340.0,2321.0,2317.0,2317.0,2300.0,2256.0,2266.0,2249.0,2295.0,2350.0,2300.0,2329.0,2329.0,2328.0,2322.0,2330.0,2349.0,2350.0,2309.0,2313.0,2338.0,2338.0,2316.0,2340.0,2345.0,2367.0,2460.0,2485.0,2433.0,2475.0,2474.0,2448.0,2470.0,2600.0,2519.0,2513.0,2480.0,2460.0,2460.0,2459.0,2440.0,2450.0,2499.0,2500.0,2500.0,2494.0,2565.0,2669.0,2638.0,2605.0,2599.0,2611.0,2592.0,2580.0,2559.0,2555.0,2555.0,2549.0,2562.0,2530.0,2523.0,2504.0,2492.0,2494.0,2521.0,2574.0,2574.0,2560.0,2499.0,2480.0,2473.0,2469.0,2450.0,2462.0,2435.0,2427.0,2427.0,2424.0,2423.0,2420.0,2470.0,2500.0,2485.0,2499.0,2530.0,2530.0,2525.0,2558.0,2543.0,2541.0,2530.0,2530.0,2530.0,2522.0,2480.0,2472.0,2429.0,2466.0,2440.0,2460.0,2288.0,2295.0,2290.0,2214.0,2201.0,2218.0,2203.0,2232.0,2227.0,2218.0,2233.0,2227.0,2219.0,2219.0,2220.0,2207.0,2200.0,2200.0,2202.0,2185.0,2176.0,2207.0,2237.0,2250.0,2269.0,2295.0,2287.0,2285.0,2280.0,2256.0,2276.0,2288.0,2285.0,2279.0,2278.0,2300.0,2267.0,2259.0,2285.0,2262.0,2281.0,2280.0,2297.0,2299.0,2278.0,2275.0,2279.0,2278.0,2320.0,2330.0,2386.0,2350.0,2434.0,2430.0,2394.0,2405.0,2376.0,2388.0,2385.0,2360.0,2348.0,2356.0,2345.0,2405.0,2388.0,2399.0,2417.0,2382.0,2382.0,2385.0,2390.0,2389.0,2395.0,2395.0,2416.0,2409.0,2398.0,2388.0,2418.0,2579.0,2522.0,2494.0,2475.0,2450.0,2425.0,2410.0,2439.0,2397.0,2369.0,2350.0,2380.0,2345.0,2335.0,2343.0,2388.0,2389.0,2375.0,2373.0,2380.0,2368.0,2369.0,2358.0,2333.0,2326.0,2357.0,2353.0,2420.0,2384.0,2368.0,2378.0,2359.0,2823.0,2798.0,2773.0,2699.0,2614.0,2597.0,2605.0,2627.0,2646.0,2651.0,2654.0,2619.0,2637.0,2620.0,2603.0,2650.0,2648.0,2621.0,2554.0,2540.0,2440.0,2413.0,2419.0,2394.0,2405.0,2371.0,2300.0,2226.0,2286.0,2226.0,2014.0,2134.0,2121.0,2261.0,2011.0,1887.0,2049.0,2175.0,2174.0,2199.0,2180.0,2137.0,2141.0,2079.0,2065.0,2197.0,2190.0,2270.0,2350.0,2310.0,2302.0,2314.0,2305.0,2423.0,2427.0,2496.0,2531.0,2529.0,2464.0,2498.0,2491.0,2534.0,2500.0,2487.0,2474.0,2417.0,2426.0,2489.0,2495.0,2510.0,2470.0,2498.0,2528.0,2509.0,2481.0,2515.0,2530.0,2540.0,2549.0,2630.0,2666.0,2749.0,2770.0,2731.0,2749.0,2757.0,2788.0,2795.0,2794.0,2798.0,2757.0,2756.0,2765.0,2770.0,2770.0,2767.0,2795.0,2794.0,2808.0,2807.0,2899.0,2790.0,2797.0,2756.0,2752.0,2735.0,2730.0,2710.0,2682.0,2679.0,2550.0,2540.0,2568.0,2551.0,null,2546.0,2560.0,2550.0,2520.0,2588.0,2630.0,2682.0,2749.0,3080.0,2914.0,2870.0,2848.0,2893.0,2960.0,3000.0,2980.0,2985.0,2931.0,2922.0,2850.0,2816.0,2835.0,2830.0,2890.0,2980.0,3050.0,3010.0,2951.0,2901.0,2978.0,2950.0,2998.0,2948.0,3035.0,3010.0,3020.0,2960.0,3000.0,3020.0,3000.0,3020.0,3055.0,3120.0,3235.0,3330.0,3415.0,3575.0,3395.0,3430.0,null,3430.0,3420.0,3355.0,3330.0,3290.0,3300.0,3375.0,3395.0,3395.0,3355.0,3395.0,3395.0,3495.0,3495.0,3550.0,3615.0,3500.0,3490.0,3530.0,3435.0,3415.0,3360.0,3355.0,3290.0,3295.0,3275.0,3230.0,3175.0,3190.0,3150.0,3230.0,3170.0,3120.0,3190.0,3145.0,3210.0,3170.0,3170.0,3265.0,3270.0,3260.0,3250.0,3235.0,3200.0,3250.0,3225.0,3240.0,3300.0,3260.0,3275.0,3295.0,3300.0,3295.0,3290.0,3270.0,3290.0,3280.0,3320.0,3330.0,3370.0,3395.0,3490.0,3490.0,3490.0,3460.0,3405.0,3430.0,3405.0,3375.0,3400.0,3405.0,3440.0,3440.0,3440.0,3585.0,3560.0,3405.0,3370.0,3390.0,3355.0,3315.0,3300.0,3300.0,3305.0,3300.0,3310.0,3280.0,3310.0,3275.0,3270.0,3290.0,3295.0,3300.0,3305.0,3295.0,3290.0,3295.0,3295.0,3290.0,3300.0,3485.0,3370.0,3385.0,3395.0,3405.0,3425.0,3370.0,3355.0,3365.0,3370.0,3395.0,3385.0,3410.0,3450.0,3500.0,3485.0,3485.0,3450.0,3490.0,3485.0,3525.0,3550.0,3530.0,3535.0,3545.0,3550.0,3545.0,3550.0,3550.0,3575.0,3565.0,3550.0,3540.0,3535.0,3560.0,3550.0,3530.0,3520.0,3540.0,3580.0,3540.0,3540.0,3500.0,3510.0,3520.0,3510.0,3495.0,3450.0,3430.0,3410.0,3430.0,3400.0,3340.0,3390.0,3395.0,3415.0,3420.0,3415.0,3420.0,3430.0,3415.0,3415.0,3435.0,3440.0,3410.0,3450.0,3460.0,3450.0,3445.0,3445.0,3450.0,3440.0,3445.0,3440.0,3440.0,3400.0,3450.0,3450.0,3450.0,3450.0,3480.0,3370.0,3330.0,3340.0,3280.0,3255.0,3255.0,3235.0,3220.0,3195.0,3240.0,3290.0,3290.0,3225.0,3205.0,3210.0,3140.0,3170.0,3250.0,3225.0,3210.0,3220.0,3230.0,3175.0,3180.0,3130.0,3125.0,3155.0,3150.0,3170.0,3155.0,3245.0,3205.0,3225.0,3195.0,3180.0,3175.0,3130.0,3130.0,3170.0,3190.0,3150.0,3180.0,3190.0,3265.0,3250.0,3250.0,3240.0,3220.0,3170.0,3170.0,3200.0,3220.0,3230.0,3235.0,3215.0,3200.0,3195.0,3210.0,3210.0,3200.0,3210.0,3225.0,3235.0,3230.0,3270.0,3300.0,3310.0,3265.0,3290.0,3410.0,3385.0,3345.0,3330.0,3315.0,3305.0,3270.0,3290.0,3295.0,3380.0,3380.0,3315.0,3310.0,3325.0,3280.0,3285.0,3225.0,3230.0,3220.0,3245.0,3220.0,3205.0,3245.0,3215.0,3240.0,3230.0,3235.0,3240.0,3205.0,3200.0,3200.0,3220.0,3195.0,3200.0,3205.0,3185.0,3210.0,3200.0],\"low\":[1949.0,1930.0,1912.0,1939.0,1935.0,1935.0,1927.0,1937.0,1921.0,1900.0,1912.0,1919.0,2050.0,2025.0,2031.0,2031.0,2011.0,2014.0,2004.0,2004.0,2020.0,2021.0,2025.0,2020.0,2055.0,2051.0,2056.0,2030.0,2070.0,2052.0,2067.0,2060.0,2062.0,2064.0,2088.0,2130.0,2137.0,2145.0,2150.0,2157.0,2160.0,2168.0,2200.0,2222.0,2241.0,2243.0,2223.0,2186.0,2179.0,2154.0,2170.0,2199.0,2225.0,2280.0,2330.0,2350.0,2340.0,2351.0,2332.0,2325.0,2332.0,2402.0,2336.0,2348.0,2311.0,2310.0,2342.0,2352.0,2330.0,2311.0,2331.0,2333.0,2399.0,2440.0,2405.0,2500.0,2625.0,2520.0,2611.0,2631.0,2550.0,2628.0,2598.0,2630.0,2607.0,2595.0,2616.0,2622.0,2672.0,2700.0,2750.0,2735.0,2756.0,2905.0,2926.0,2781.0,2850.0,2800.0,2872.0,2930.0,2965.0,3025.0,3095.0,3205.0,3365.0,3575.0,3580.0,3400.0,3255.0,3275.0,3500.0,3405.0,3375.0,3490.0,3490.0,3400.0,3335.0,3335.0,3350.0,3280.0,3110.0,3135.0,3155.0,3220.0,3135.0,3015.0,3085.0,3110.0,3095.0,3150.0,3205.0,3250.0,3245.0,3200.0,3300.0,3300.0,3300.0,3205.0,3305.0,3265.0,3245.0,3255.0,3255.0,3220.0,3260.0,3280.0,3270.0,3350.0,3290.0,3300.0,3305.0,3145.0,3250.0,3255.0,3290.0,3195.0,3105.0,3105.0,3075.0,3075.0,3080.0,3120.0,3050.0,3090.0,3200.0,3150.0,3300.0,3165.0,3110.0,3185.0,3165.0,3170.0,3315.0,3260.0,3280.0,3290.0,3385.0,3395.0,3360.0,3370.0,3485.0,3460.0,3530.0,3580.0,3575.0,3790.0,3975.0,4055.0,4015.0,3730.0,3740.0,3750.0,3785.0,3860.0,3950.0,4005.0,3960.0,3780.0,3800.0,3605.0,3700.0,3770.0,3700.0,3675.0,3685.0,3800.0,3875.0,3865.0,3900.0,3900.0,3815.0,3805.0,3810.0,3800.0,3605.0,3660.0,3685.0,3705.0,3655.0,null,3690.0,3715.0,3750.0,3755.0,3770.0,3725.0,3725.0,3725.0,3785.0,3800.0,3840.0,3885.0,3930.0,3775.0,3770.0,3845.0,3895.0,4100.0,4115.0,4080.0,3995.0,3920.0,3850.0,3885.0,3945.0,3945.0,3950.0,3900.0,3950.0,3960.0,3980.0,3940.0,3990.0,4000.0,4015.0,4060.0,4100.0,4025.0,4090.0,4055.0,4080.0,4110.0,4210.0,4200.0,4255.0,4205.0,4480.0,4575.0,4500.0,4055.0,4290.0,4355.0,4125.0,4300.0,4350.0,4355.0,4510.0,4840.0,4605.0,4655.0,4520.0,4500.0,5240.0,6240.0,5460.0,5290.0,5070.0,4950.0,4740.0,4755.0,4850.0,4880.0,4765.0,4730.0,4720.0,4720.0,4645.0,4610.0,4505.0,4500.0,4400.0,4360.0,4415.0,4450.0,4600.0,4610.0,4700.0,4655.0,4620.0,4615.0,4605.0,4540.0,4555.0,4580.0,4550.0,4555.0,4450.0,4420.0,4420.0,4430.0,4445.0,4625.0,4695.0,4710.0,4715.0,4715.0,4560.0,4605.0,4675.0,4675.0,4665.0,4700.0,4680.0,4685.0,4675.0,4650.0,4660.0,4665.0,4690.0,4695.0,4645.0,4620.0,4610.0,4615.0,4570.0,4500.0,4525.0,4515.0,4530.0,4500.0,4400.0,4460.0,4465.0,4405.0,4405.0,4390.0,4390.0,4390.0,4400.0,4360.0,4200.0,4230.0,4300.0,4315.0,4250.0,4230.0,4090.0,4140.0,4140.0,4035.0,4010.0,3820.0,3850.0,3845.0,3855.0,3800.0,3720.0,3715.0,3720.0,3705.0,3690.0,3605.0,3550.0,3565.0,3585.0,3590.0,3610.0,3680.0,3730.0,3710.0,3650.0,3610.0,3590.0,3450.0,3420.0,3420.0,3230.0,3050.0,3095.0,3130.0,2950.0,2970.0,2881.0,2850.0,2832.0,2872.0,2978.0,2993.0,3120.0,3140.0,3085.0,3100.0,3115.0,3045.0,2950.0,2858.0,2840.0,2865.0,2878.0,2851.0,2859.0,2852.0,2803.0,2810.0,2813.0,2840.0,2970.0,3050.0,3005.0,3030.0,3005.0,2960.0,2905.0,2900.0,2871.0,2850.0,2860.0,2839.0,2845.0,2871.0,2878.0,2936.0,2936.0,2944.0,2901.0,2866.0,2839.0,2711.0,2568.0,2744.0,2765.0,2836.0,2821.0,2814.0,2843.0,2832.0,2852.0,2900.0,2953.0,2992.0,2920.0,2950.0,2910.0,2900.0,2905.0,2863.0,2850.0,2853.0,2850.0,2868.0,2918.0,2881.0,2881.0,2865.0,2871.0,2838.0,2780.0,2780.0,2726.0,2705.0,2711.0,2755.0,2735.0,2653.0,2619.0,2600.0,2520.0,2388.0,2101.0,2155.0,2269.0,2270.0,2299.0,2400.0,2403.0,2400.0,2353.0,2322.0,2402.0,2447.0,2450.0,2503.0,2480.0,2493.0,2496.0,2500.0,2500.0,2213.0,2260.0,2218.0,2178.0,2178.0,2172.0,2180.0,2200.0,2217.0,2161.0,2190.0,2165.0,2211.0,2203.0,2215.0,2200.0,2211.0,2214.0,2215.0,2220.0,2247.0,2281.0,2286.0,2295.0,2296.0,2319.0,2366.0,2337.0,2312.0,2306.0,2311.0,2316.0,2316.0,2310.0,2294.0,2280.0,2255.0,2231.0,2243.0,2269.0,2232.0,2273.0,2290.0,2285.0,2286.0,2285.0,2318.0,2319.0,2322.0,2306.0,2295.0,2295.0,2298.0,2301.0,2302.0,2317.0,2344.0,2380.0,2435.0,2411.0,2413.0,2422.0,2374.0,2400.0,2458.0,2490.0,2461.0,2416.0,2395.0,2460.0,2437.0,2425.0,2427.0,2448.0,2471.0,2470.0,2465.0,2469.0,2503.0,2594.0,2590.0,2552.0,2506.0,2525.0,2520.0,2546.0,2538.0,2525.0,2504.0,2520.0,2521.0,2482.0,2468.0,2451.0,2465.0,2470.0,2511.0,2532.0,2530.0,2448.0,2436.0,2440.0,2450.0,2436.0,2435.0,2410.0,2402.0,2412.0,2412.0,2415.0,2399.0,2407.0,2449.0,2450.0,2477.0,2504.0,2474.0,2502.0,2514.0,2514.0,2536.0,2513.0,2515.0,2530.0,2480.0,2457.0,2444.0,2398.0,2460.0,2400.0,2433.0,2190.0,2210.0,2200.0,2182.0,2180.0,2199.0,2203.0,2232.0,2183.0,2190.0,2205.0,2201.0,2219.0,2210.0,2201.0,2195.0,2190.0,2182.0,2182.0,2168.0,2126.0,2157.0,2199.0,2230.0,2248.0,2268.0,2280.0,2263.0,2223.0,2220.0,2236.0,2246.0,2277.0,2259.0,2250.0,2266.0,2249.0,2251.0,2258.0,2258.0,2260.0,2260.0,2280.0,2275.0,2257.0,2249.0,2252.0,2270.0,2290.0,2298.0,2271.0,2310.0,2353.0,2375.0,2361.0,2354.0,2352.0,2357.0,2355.0,2332.0,2348.0,2327.0,2311.0,2331.0,2369.0,2370.0,2371.0,2382.0,2370.0,2369.0,2372.0,2371.0,2379.0,2374.0,2390.0,2392.0,2380.0,2376.0,2370.0,2420.0,2436.0,2444.0,2440.0,2418.0,2404.0,2367.0,2380.0,2346.0,2334.0,2330.0,2315.0,2325.0,2325.0,2322.0,2340.0,2339.0,2365.0,2355.0,2356.0,2347.0,2351.0,2330.0,2323.0,2325.0,2340.0,2328.0,2338.0,2339.0,2335.0,2343.0,2325.0,2455.0,2640.0,2721.0,2564.0,2582.0,2586.0,2576.0,2584.0,2606.0,2623.0,2565.0,2565.0,2551.0,2586.0,2601.0,2617.0,2620.0,2525.0,2500.0,2443.0,2306.0,2313.0,2370.0,2378.0,2368.0,2271.0,2151.0,2148.0,2212.0,2160.0,1861.0,2005.0,1940.0,2050.0,1800.0,1666.0,1880.0,2062.0,2100.0,2167.0,2081.0,2091.0,2086.0,2040.0,2006.0,2045.0,2147.0,2191.0,2280.0,2280.0,2250.0,2273.0,2270.0,2295.0,2350.0,2417.0,2362.0,2383.0,2395.0,2434.0,2335.0,2434.0,2450.0,2454.0,2380.0,2380.0,2381.0,2418.0,2460.0,2465.0,2465.0,2476.0,2488.0,2470.0,2438.0,2464.0,2505.0,2510.0,2500.0,2550.0,2619.0,2707.0,2707.0,2670.0,2706.0,2726.0,2750.0,2720.0,2755.0,2755.0,2650.0,2666.0,2706.0,2750.0,2750.0,2730.0,2748.0,2775.0,2780.0,2785.0,2807.0,2610.0,2707.0,2735.0,2709.0,2714.0,2702.0,2627.0,2599.0,2508.0,2533.0,2530.0,2538.0,2538.0,null,2538.0,2550.0,2501.0,2520.0,2538.0,2551.0,2607.0,2699.0,2801.0,2833.0,2820.0,2752.0,2860.0,2826.0,2910.0,2902.0,2911.0,2905.0,2850.0,2787.0,2787.0,2808.0,2811.0,2835.0,2893.0,2980.0,2926.0,2821.0,2850.0,2915.0,2915.0,2900.0,2915.0,2961.0,2980.0,2960.0,2929.0,2933.0,3000.0,2951.0,2987.0,2987.0,3035.0,3120.0,3215.0,3330.0,3385.0,3350.0,3300.0,null,3330.0,3330.0,3320.0,3300.0,3250.0,3255.0,3330.0,3300.0,3300.0,3320.0,3305.0,3330.0,3355.0,3390.0,3445.0,3490.0,3315.0,3350.0,3430.0,3400.0,3330.0,3200.0,3235.0,3230.0,3240.0,3180.0,3150.0,3150.0,3135.0,3125.0,3165.0,3160.0,3100.0,3105.0,3100.0,3115.0,3125.0,3125.0,3150.0,3200.0,3180.0,3180.0,3180.0,3190.0,3205.0,3200.0,3210.0,3220.0,3200.0,3250.0,3255.0,3290.0,3270.0,3255.0,3250.0,3250.0,3250.0,3275.0,3250.0,3320.0,3330.0,3380.0,3450.0,3430.0,3400.0,3395.0,3395.0,3345.0,3335.0,3335.0,3395.0,3375.0,3385.0,3420.0,3445.0,3385.0,3310.0,3260.0,3315.0,3300.0,3275.0,3225.0,3285.0,3240.0,3275.0,3235.0,3240.0,3275.0,3240.0,3215.0,3260.0,3280.0,3275.0,3275.0,3265.0,3280.0,3245.0,3275.0,3250.0,3270.0,3290.0,3315.0,3320.0,3345.0,3345.0,3325.0,3315.0,3320.0,3320.0,3335.0,3340.0,3360.0,3310.0,3400.0,3470.0,3460.0,3450.0,3410.0,3415.0,3435.0,3475.0,3505.0,3505.0,3500.0,3520.0,3520.0,3510.0,3500.0,3485.0,3535.0,3480.0,3520.0,3520.0,3515.0,3530.0,3530.0,3415.0,3470.0,3515.0,3500.0,3495.0,3485.0,3470.0,3475.0,3500.0,3470.0,3450.0,3360.0,3350.0,3320.0,3390.0,3295.0,3315.0,3330.0,3355.0,3385.0,3390.0,3400.0,3400.0,3405.0,3395.0,3385.0,3385.0,3400.0,3380.0,3425.0,3420.0,3425.0,3405.0,3440.0,3420.0,3410.0,3410.0,3400.0,3405.0,3355.0,3410.0,3420.0,3420.0,3405.0,3410.0,3255.0,3290.0,3270.0,3250.0,3250.0,3185.0,3215.0,3195.0,3000.0,3105.0,3235.0,3215.0,3155.0,3150.0,3135.0,3100.0,3140.0,3165.0,3170.0,3180.0,3190.0,3195.0,3130.0,3160.0,3100.0,3085.0,3085.0,3105.0,3100.0,3080.0,3100.0,3080.0,3150.0,3155.0,3130.0,3100.0,3100.0,3115.0,3105.0,3145.0,3145.0,3150.0,3135.0,3195.0,3235.0,3240.0,3210.0,3170.0,3160.0,3160.0,3180.0,3195.0,3155.0,3160.0,3155.0,3190.0,3150.0,3180.0,3160.0,3180.0,3185.0,3185.0,3220.0,3205.0,3210.0,3245.0,3250.0,3200.0,3235.0,3280.0,3300.0,3300.0,3305.0,3300.0,3265.0,3265.0,3270.0,3265.0,3305.0,3295.0,3265.0,3250.0,3255.0,3200.0,3225.0,3220.0,3225.0,3200.0,3205.0,3185.0,3190.0,3205.0,3195.0,3195.0,3205.0,3230.0,3175.0,3195.0,3200.0,3185.0,3195.0,3160.0,3150.0,3135.0,3150.0,3125.0,3125.0],\"open\":[1950.0,1995.0,1935.0,1972.0,1955.0,1950.0,1938.0,1951.0,1940.0,1900.0,1914.0,1919.0,2112.0,2060.0,2063.0,2057.0,2045.0,2048.0,2014.0,2004.0,2020.0,2038.0,2035.0,2025.0,2055.0,2105.0,2056.0,2057.0,2080.0,2094.0,2090.0,2070.0,2065.0,2064.0,2088.0,2130.0,2156.0,2160.0,2160.0,2160.0,2164.0,2168.0,2203.0,2222.0,2250.0,2243.0,2240.0,2235.0,2186.0,2218.0,2170.0,2200.0,2225.0,2280.0,2351.0,2350.0,2404.0,2399.0,2347.0,2344.0,2332.0,2539.0,2410.0,2348.0,2395.0,2330.0,2342.0,2374.0,2365.0,2323.0,2367.0,2333.0,2400.0,2490.0,2405.0,2500.0,2745.0,2628.0,2637.0,2644.0,2631.0,2630.0,2645.0,2655.0,2635.0,2621.0,2616.0,2699.0,2672.0,2700.0,2750.0,2750.0,2768.0,2951.0,3000.0,2925.0,2850.0,2880.0,2872.0,2950.0,2965.0,3025.0,3280.0,3205.0,3425.0,3585.0,3655.0,3630.0,3450.0,3275.0,3520.0,3505.0,3535.0,3490.0,3535.0,3500.0,3355.0,3495.0,3350.0,3360.0,3250.0,3245.0,3250.0,3390.0,3200.0,3095.0,3170.0,3215.0,3155.0,3190.0,3210.0,3295.0,3290.0,3300.0,3300.0,3345.0,3345.0,3300.0,3335.0,3305.0,3320.0,3255.0,3335.0,3300.0,3340.0,3280.0,3360.0,3435.0,3360.0,3325.0,3320.0,3300.0,3260.0,3275.0,3290.0,3230.0,3210.0,3150.0,3140.0,3075.0,3150.0,3155.0,3100.0,3120.0,3200.0,3330.0,3370.0,3335.0,3165.0,3195.0,3235.0,3170.0,3350.0,3415.0,3400.0,3370.0,3410.0,3460.0,3440.0,3400.0,3490.0,3560.0,3585.0,3635.0,3610.0,3800.0,3975.0,4210.0,4085.0,4065.0,3930.0,3790.0,3785.0,3860.0,3950.0,4025.0,4075.0,3975.0,3800.0,3810.0,3765.0,3840.0,3725.0,3705.0,3685.0,3800.0,3935.0,3920.0,3905.0,3920.0,3950.0,3840.0,3810.0,3825.0,3750.0,3675.0,3685.0,3720.0,3710.0,null,3700.0,3715.0,3755.0,3780.0,3770.0,3790.0,3760.0,3725.0,3795.0,3800.0,3890.0,3910.0,3990.0,4000.0,3890.0,3970.0,3895.0,4110.0,4115.0,4145.0,4060.0,4015.0,3880.0,3885.0,3995.0,3945.0,3950.0,3915.0,4025.0,4010.0,4020.0,3940.0,3990.0,4030.0,4015.0,4145.0,4150.0,4100.0,4095.0,4080.0,4140.0,4155.0,4325.0,4340.0,4395.0,4255.0,4515.0,4575.0,4780.0,4505.0,4300.0,4355.0,4290.0,4300.0,4505.0,4500.0,4510.0,4850.0,4785.0,4795.0,4715.0,4620.0,5240.0,6240.0,5840.0,5600.0,5200.0,5150.0,4915.0,4825.0,4850.0,4940.0,4930.0,4760.0,4735.0,4725.0,4780.0,4715.0,4590.0,4500.0,4500.0,4385.0,4440.0,4450.0,4600.0,4725.0,4775.0,4680.0,4680.0,4615.0,4675.0,4600.0,4595.0,4590.0,4560.0,4630.0,4640.0,4455.0,4430.0,4430.0,4490.0,4625.0,4735.0,4715.0,4765.0,4735.0,4760.0,4620.0,4700.0,4675.0,4715.0,4735.0,4745.0,4745.0,4710.0,4695.0,4720.0,4665.0,4700.0,4720.0,4695.0,4675.0,4685.0,4640.0,4600.0,4535.0,4525.0,4565.0,4535.0,4545.0,4510.0,4460.0,4495.0,4470.0,4415.0,4405.0,4395.0,4420.0,4455.0,4430.0,4305.0,4230.0,4340.0,4355.0,4265.0,4230.0,4320.0,4280.0,4220.0,4140.0,4065.0,3990.0,3900.0,3920.0,3860.0,3860.0,3825.0,3745.0,3755.0,3730.0,3705.0,3660.0,3600.0,3565.0,3620.0,3595.0,3610.0,3680.0,3750.0,3800.0,3710.0,3650.0,3600.0,3585.0,3480.0,3545.0,3495.0,3205.0,3185.0,3145.0,3115.0,3010.0,2987.0,2909.0,2849.0,2872.0,2978.0,3020.0,3130.0,3160.0,3155.0,3100.0,3210.0,3115.0,3020.0,2961.0,2944.0,2881.0,2878.0,2911.0,2874.0,2867.0,2856.0,2822.0,2815.0,2865.0,2970.0,3085.0,3050.0,3030.0,3090.0,3005.0,2961.0,2980.0,2900.0,2882.0,2860.0,2851.0,2845.0,2900.0,2884.0,2974.0,2965.0,2960.0,2961.0,2903.0,2866.0,2750.0,2736.0,2802.0,2765.0,2923.0,2821.0,2851.0,2882.0,2850.0,2900.0,2900.0,2978.0,2992.0,3000.0,2970.0,2950.0,2916.0,2905.0,2905.0,2898.0,2949.0,2873.0,2868.0,2918.0,2940.0,2881.0,2909.0,2889.0,2838.0,2840.0,2787.0,2753.0,2733.0,2711.0,2755.0,2771.0,2750.0,2675.0,2625.0,2600.0,2455.0,2188.0,2165.0,2330.0,2311.0,2306.0,2401.0,2415.0,2402.0,2402.0,2353.0,2450.0,2450.0,2450.0,2505.0,2515.0,2548.0,2525.0,2500.0,2500.0,2250.0,2296.0,2254.0,2235.0,2200.0,2209.0,2185.0,2219.0,2227.0,2203.0,2199.0,2230.0,2215.0,2205.0,2231.0,2220.0,2226.0,2220.0,2215.0,2245.0,2249.0,2300.0,2310.0,2319.0,2296.0,2398.0,2390.0,2363.0,2334.0,2357.0,2311.0,2340.0,2321.0,2316.0,2317.0,2281.0,2255.0,2255.0,2249.0,2269.0,2350.0,2299.0,2317.0,2300.0,2318.0,2290.0,2318.0,2320.0,2350.0,2306.0,2310.0,2295.0,2338.0,2315.0,2302.0,2317.0,2344.0,2380.0,2485.0,2433.0,2413.0,2438.0,2411.0,2451.0,2478.0,2519.0,2513.0,2465.0,2412.0,2460.0,2459.0,2440.0,2429.0,2448.0,2500.0,2500.0,2465.0,2469.0,2503.0,2594.0,2605.0,2576.0,2513.0,2542.0,2580.0,2559.0,2549.0,2550.0,2549.0,2544.0,2530.0,2501.0,2495.0,2472.0,2466.0,2471.0,2518.0,2574.0,2560.0,2499.0,2478.0,2440.0,2460.0,2450.0,2442.0,2435.0,2403.0,2427.0,2420.0,2416.0,2420.0,2427.0,2500.0,2460.0,2480.0,2509.0,2530.0,2525.0,2524.0,2514.0,2541.0,2514.0,2515.0,2530.0,2480.0,2480.0,2460.0,2399.0,2466.0,2430.0,2444.0,2253.0,2210.0,2209.0,2204.0,2200.0,2199.0,2203.0,2232.0,2227.0,2218.0,2205.0,2210.0,2219.0,2210.0,2211.0,2207.0,2200.0,2199.0,2200.0,2182.0,2171.0,2161.0,2200.0,2237.0,2249.0,2269.0,2280.0,2285.0,2280.0,2254.0,2236.0,2246.0,2285.0,2266.0,2250.0,2275.0,2266.0,2259.0,2276.0,2258.0,2260.0,2269.0,2284.0,2299.0,2278.0,2257.0,2252.0,2277.0,2290.0,2330.0,2277.0,2310.0,2354.0,2423.0,2394.0,2405.0,2376.0,2388.0,2363.0,2356.0,2348.0,2349.0,2325.0,2336.0,2369.0,2399.0,2417.0,2382.0,2382.0,2373.0,2385.0,2389.0,2390.0,2394.0,2390.0,2397.0,2390.0,2388.0,2372.0,2420.0,2492.0,2494.0,2451.0,2440.0,2417.0,2410.0,2420.0,2368.0,2334.0,2337.0,2330.0,2326.0,2330.0,2328.0,2341.0,2389.0,2370.0,2357.0,2360.0,2368.0,2360.0,2352.0,2333.0,2326.0,2348.0,2353.0,2338.0,2376.0,2348.0,2357.0,2351.0,2465.0,2732.0,2729.0,2673.0,2608.0,2586.0,2592.0,2626.0,2606.0,2624.0,2650.0,2565.0,2610.0,2600.0,2603.0,2634.0,2620.0,2571.0,2510.0,2539.0,2430.0,2313.0,2370.0,2378.0,2405.0,2371.0,2284.0,2216.0,2256.0,2220.0,2013.0,2005.0,1981.0,2130.0,2011.0,1801.0,1895.0,2115.0,2174.0,2167.0,2180.0,2091.0,2091.0,2071.0,2058.0,2062.0,2147.0,2191.0,2350.0,2285.0,2301.0,2314.0,2290.0,2295.0,2424.0,2417.0,2504.0,2420.0,2397.0,2498.0,2481.0,2434.0,2487.0,2454.0,2473.0,2400.0,2400.0,2418.0,2485.0,2481.0,2466.0,2497.0,2528.0,2496.0,2479.0,2465.0,2529.0,2540.0,2536.0,2599.0,2630.0,2727.0,2750.0,2712.0,2749.0,2726.0,2757.0,2780.0,2794.0,2755.0,2650.0,2691.0,2750.0,2750.0,2751.0,2750.0,2765.0,2775.0,2800.0,2799.0,2807.0,2790.0,2707.0,2756.0,2752.0,2735.0,2723.0,2708.0,2682.0,2679.0,2550.0,2540.0,2538.0,2538.0,null,2539.0,2550.0,2550.0,2520.0,2588.0,2551.0,2654.0,2699.0,2873.0,2833.0,2870.0,2815.0,2860.0,2943.0,3000.0,2929.0,2948.0,2931.0,2922.0,2850.0,2791.0,2835.0,2811.0,2835.0,2893.0,2997.0,3005.0,2877.0,2850.0,2928.0,2915.0,2959.0,2940.0,2961.0,3010.0,3000.0,2960.0,2933.0,3020.0,3000.0,3020.0,2987.0,3055.0,3140.0,3240.0,3330.0,3445.0,3395.0,3350.0,null,3420.0,3385.0,3330.0,3330.0,3290.0,3255.0,3370.0,3395.0,3320.0,3335.0,3395.0,3330.0,3360.0,3465.0,3500.0,3570.0,3440.0,3490.0,3440.0,3420.0,3415.0,3325.0,3300.0,3235.0,3295.0,3230.0,3230.0,3150.0,3165.0,3150.0,3195.0,3165.0,3110.0,3175.0,3145.0,3115.0,3150.0,3165.0,3150.0,3270.0,3260.0,3180.0,3195.0,3200.0,3245.0,3200.0,3225.0,3245.0,3250.0,3275.0,3270.0,3295.0,3290.0,3275.0,3260.0,3270.0,3270.0,3290.0,3330.0,3330.0,3375.0,3390.0,3470.0,3490.0,3435.0,3400.0,3405.0,3405.0,3350.0,3365.0,3395.0,3410.0,3420.0,3435.0,3465.0,3560.0,3385.0,3335.0,3365.0,3340.0,3300.0,3265.0,3300.0,3280.0,3285.0,3280.0,3280.0,3280.0,3275.0,3265.0,3275.0,3295.0,3290.0,3300.0,3295.0,3290.0,3295.0,3295.0,3275.0,3275.0,3290.0,3325.0,3350.0,3395.0,3405.0,3425.0,3325.0,3340.0,3350.0,3355.0,3370.0,3360.0,3350.0,3400.0,3470.0,3485.0,3460.0,3450.0,3490.0,3475.0,3475.0,3525.0,3505.0,3535.0,3540.0,3540.0,3510.0,3550.0,3525.0,3535.0,3565.0,3530.0,3540.0,3530.0,3545.0,3550.0,3530.0,3470.0,3520.0,3550.0,3540.0,3540.0,3470.0,3510.0,3520.0,3510.0,3470.0,3445.0,3360.0,3410.0,3410.0,3395.0,3315.0,3365.0,3370.0,3385.0,3420.0,3415.0,3400.0,3420.0,3400.0,3385.0,3395.0,3440.0,3395.0,3450.0,3460.0,3450.0,3445.0,3445.0,3440.0,3435.0,3415.0,3440.0,3415.0,3400.0,3435.0,3450.0,3420.0,3445.0,3410.0,3280.0,3290.0,3330.0,3255.0,3250.0,3185.0,3235.0,3210.0,3190.0,3115.0,3235.0,3290.0,3155.0,3175.0,3150.0,3140.0,3145.0,3225.0,3170.0,3210.0,3220.0,3210.0,3130.0,3180.0,3100.0,3105.0,3085.0,3105.0,3145.0,3130.0,3120.0,3090.0,3225.0,3155.0,3180.0,3145.0,3100.0,3130.0,3170.0,3190.0,3145.0,3150.0,3160.0,3195.0,3250.0,3240.0,3240.0,3220.0,3170.0,3165.0,3195.0,3195.0,3210.0,3235.0,3195.0,3190.0,3190.0,3195.0,3210.0,3180.0,3205.0,3185.0,3230.0,3230.0,3210.0,3250.0,3300.0,3250.0,3235.0,3280.0,3385.0,3330.0,3330.0,3315.0,3290.0,3265.0,3270.0,3295.0,3305.0,3380.0,3300.0,3310.0,3260.0,3255.0,3225.0,3225.0,3230.0,3220.0,3235.0,3205.0,3205.0,3205.0,3205.0,3195.0,3205.0,3230.0,3235.0,3195.0,3200.0,3200.0,3220.0,3195.0,3160.0,3200.0,3150.0,3210.0,3125.0],\"x\":[\"2017-01-04\",\"2017-01-05\",\"2017-01-06\",\"2017-01-10\",\"2017-01-11\",\"2017-01-12\",\"2017-01-13\",\"2017-01-16\",\"2017-01-17\",\"2017-01-18\",\"2017-01-19\",\"2017-01-20\",\"2017-01-23\",\"2017-01-24\",\"2017-01-25\",\"2017-01-26\",\"2017-01-27\",\"2017-01-30\",\"2017-01-31\",\"2017-02-01\",\"2017-02-02\",\"2017-02-03\",\"2017-02-06\",\"2017-02-07\",\"2017-02-08\",\"2017-02-09\",\"2017-02-10\",\"2017-02-13\",\"2017-02-14\",\"2017-02-15\",\"2017-02-16\",\"2017-02-17\",\"2017-02-20\",\"2017-02-21\",\"2017-02-22\",\"2017-02-23\",\"2017-02-24\",\"2017-02-27\",\"2017-02-28\",\"2017-03-01\",\"2017-03-02\",\"2017-03-03\",\"2017-03-06\",\"2017-03-07\",\"2017-03-08\",\"2017-03-09\",\"2017-03-10\",\"2017-03-13\",\"2017-03-14\",\"2017-03-15\",\"2017-03-16\",\"2017-03-17\",\"2017-03-21\",\"2017-03-22\",\"2017-03-23\",\"2017-03-24\",\"2017-03-27\",\"2017-03-28\",\"2017-03-29\",\"2017-03-30\",\"2017-03-31\",\"2017-04-03\",\"2017-04-04\",\"2017-04-05\",\"2017-04-06\",\"2017-04-07\",\"2017-04-10\",\"2017-04-11\",\"2017-04-12\",\"2017-04-13\",\"2017-04-14\",\"2017-04-17\",\"2017-04-18\",\"2017-04-19\",\"2017-04-20\",\"2017-04-21\",\"2017-04-24\",\"2017-04-25\",\"2017-04-26\",\"2017-04-27\",\"2017-04-28\",\"2017-05-01\",\"2017-05-02\",\"2017-05-08\",\"2017-05-09\",\"2017-05-10\",\"2017-05-11\",\"2017-05-12\",\"2017-05-15\",\"2017-05-16\",\"2017-05-17\",\"2017-05-18\",\"2017-05-19\",\"2017-05-22\",\"2017-05-23\",\"2017-05-24\",\"2017-05-25\",\"2017-05-26\",\"2017-05-29\",\"2017-05-30\",\"2017-05-31\",\"2017-06-01\",\"2017-06-02\",\"2017-06-05\",\"2017-06-06\",\"2017-06-07\",\"2017-06-08\",\"2017-06-09\",\"2017-06-12\",\"2017-06-13\",\"2017-06-14\",\"2017-06-15\",\"2017-06-16\",\"2017-06-19\",\"2017-06-20\",\"2017-06-21\",\"2017-06-22\",\"2017-06-23\",\"2017-06-26\",\"2017-06-27\",\"2017-06-28\",\"2017-06-29\",\"2017-06-30\",\"2017-07-03\",\"2017-07-04\",\"2017-07-05\",\"2017-07-06\",\"2017-07-07\",\"2017-07-10\",\"2017-07-11\",\"2017-07-12\",\"2017-07-13\",\"2017-07-14\",\"2017-07-18\",\"2017-07-19\",\"2017-07-20\",\"2017-07-21\",\"2017-07-24\",\"2017-07-25\",\"2017-07-26\",\"2017-07-27\",\"2017-07-28\",\"2017-07-31\",\"2017-08-01\",\"2017-08-02\",\"2017-08-03\",\"2017-08-04\",\"2017-08-07\",\"2017-08-08\",\"2017-08-09\",\"2017-08-10\",\"2017-08-14\",\"2017-08-15\",\"2017-08-16\",\"2017-08-17\",\"2017-08-18\",\"2017-08-21\",\"2017-08-22\",\"2017-08-23\",\"2017-08-24\",\"2017-08-25\",\"2017-08-28\",\"2017-08-29\",\"2017-08-30\",\"2017-08-31\",\"2017-09-01\",\"2017-09-04\",\"2017-09-05\",\"2017-09-06\",\"2017-09-07\",\"2017-09-08\",\"2017-09-11\",\"2017-09-12\",\"2017-09-13\",\"2017-09-14\",\"2017-09-15\",\"2017-09-19\",\"2017-09-20\",\"2017-09-21\",\"2017-09-22\",\"2017-09-25\",\"2017-09-26\",\"2017-09-27\",\"2017-09-28\",\"2017-09-29\",\"2017-10-02\",\"2017-10-03\",\"2017-10-04\",\"2017-10-05\",\"2017-10-06\",\"2017-10-10\",\"2017-10-11\",\"2017-10-12\",\"2017-10-13\",\"2017-10-16\",\"2017-10-17\",\"2017-10-18\",\"2017-10-19\",\"2017-10-20\",\"2017-10-23\",\"2017-10-24\",\"2017-10-25\",\"2017-10-26\",\"2017-10-27\",\"2017-10-30\",\"2017-10-31\",\"2017-11-01\",\"2017-11-02\",\"2017-11-06\",\"2017-11-07\",\"2017-11-08\",\"2017-11-09\",\"2017-11-10\",\"2017-11-13\",\"2017-11-14\",\"2017-11-15\",\"2017-11-16\",\"2017-11-17\",\"2017-11-20\",\"2017-11-21\",\"2017-11-22\",\"2017-11-24\",\"2017-11-27\",\"2017-11-28\",\"2017-11-29\",\"2017-11-30\",\"2017-12-01\",\"2017-12-04\",\"2017-12-05\",\"2017-12-06\",\"2017-12-07\",\"2017-12-08\",\"2017-12-11\",\"2017-12-12\",\"2017-12-13\",\"2017-12-14\",\"2017-12-15\",\"2017-12-18\",\"2017-12-19\",\"2017-12-20\",\"2017-12-21\",\"2017-12-22\",\"2017-12-25\",\"2017-12-26\",\"2017-12-27\",\"2017-12-28\",\"2017-12-29\",\"2018-01-04\",\"2018-01-05\",\"2018-01-09\",\"2018-01-10\",\"2018-01-11\",\"2018-01-12\",\"2018-01-15\",\"2018-01-16\",\"2018-01-17\",\"2018-01-18\",\"2018-01-19\",\"2018-01-22\",\"2018-01-23\",\"2018-01-24\",\"2018-01-25\",\"2018-01-26\",\"2018-01-29\",\"2018-01-30\",\"2018-01-31\",\"2018-02-01\",\"2018-02-02\",\"2018-02-05\",\"2018-02-06\",\"2018-02-07\",\"2018-02-08\",\"2018-02-09\",\"2018-02-13\",\"2018-02-14\",\"2018-02-15\",\"2018-02-16\",\"2018-02-19\",\"2018-02-20\",\"2018-02-21\",\"2018-02-22\",\"2018-02-23\",\"2018-02-26\",\"2018-02-27\",\"2018-02-28\",\"2018-03-01\",\"2018-03-02\",\"2018-03-05\",\"2018-03-06\",\"2018-03-07\",\"2018-03-08\",\"2018-03-09\",\"2018-03-12\",\"2018-03-13\",\"2018-03-14\",\"2018-03-15\",\"2018-03-16\",\"2018-03-19\",\"2018-03-20\",\"2018-03-22\",\"2018-03-23\",\"2018-03-26\",\"2018-03-27\",\"2018-03-28\",\"2018-03-29\",\"2018-03-30\",\"2018-04-02\",\"2018-04-03\",\"2018-04-04\",\"2018-04-05\",\"2018-04-06\",\"2018-04-09\",\"2018-04-10\",\"2018-04-11\",\"2018-04-12\",\"2018-04-13\",\"2018-04-16\",\"2018-04-17\",\"2018-04-18\",\"2018-04-19\",\"2018-04-20\",\"2018-04-23\",\"2018-04-24\",\"2018-04-25\",\"2018-04-26\",\"2018-04-27\",\"2018-05-01\",\"2018-05-02\",\"2018-05-07\",\"2018-05-08\",\"2018-05-09\",\"2018-05-10\",\"2018-05-11\",\"2018-05-14\",\"2018-05-15\",\"2018-05-16\",\"2018-05-17\",\"2018-05-18\",\"2018-05-21\",\"2018-05-22\",\"2018-05-23\",\"2018-05-24\",\"2018-05-25\",\"2018-05-28\",\"2018-05-29\",\"2018-05-30\",\"2018-05-31\",\"2018-06-01\",\"2018-06-04\",\"2018-06-05\",\"2018-06-06\",\"2018-06-07\",\"2018-06-08\",\"2018-06-11\",\"2018-06-12\",\"2018-06-13\",\"2018-06-14\",\"2018-06-15\",\"2018-06-18\",\"2018-06-19\",\"2018-06-20\",\"2018-06-21\",\"2018-06-22\",\"2018-06-25\",\"2018-06-26\",\"2018-06-27\",\"2018-06-28\",\"2018-06-29\",\"2018-07-02\",\"2018-07-03\",\"2018-07-04\",\"2018-07-05\",\"2018-07-06\",\"2018-07-09\",\"2018-07-10\",\"2018-07-11\",\"2018-07-12\",\"2018-07-13\",\"2018-07-17\",\"2018-07-18\",\"2018-07-19\",\"2018-07-20\",\"2018-07-23\",\"2018-07-24\",\"2018-07-25\",\"2018-07-26\",\"2018-07-27\",\"2018-07-30\",\"2018-07-31\",\"2018-08-01\",\"2018-08-02\",\"2018-08-03\",\"2018-08-06\",\"2018-08-07\",\"2018-08-08\",\"2018-08-09\",\"2018-08-10\",\"2018-08-13\",\"2018-08-14\",\"2018-08-15\",\"2018-08-16\",\"2018-08-17\",\"2018-08-20\",\"2018-08-21\",\"2018-08-22\",\"2018-08-23\",\"2018-08-24\",\"2018-08-27\",\"2018-08-28\",\"2018-08-29\",\"2018-08-30\",\"2018-08-31\",\"2018-09-03\",\"2018-09-04\",\"2018-09-05\",\"2018-09-06\",\"2018-09-07\",\"2018-09-10\",\"2018-09-11\",\"2018-09-12\",\"2018-09-13\",\"2018-09-14\",\"2018-09-18\",\"2018-09-19\",\"2018-09-20\",\"2018-09-21\",\"2018-09-25\",\"2018-09-26\",\"2018-09-27\",\"2018-09-28\",\"2018-10-01\",\"2018-10-02\",\"2018-10-03\",\"2018-10-04\",\"2018-10-05\",\"2018-10-09\",\"2018-10-10\",\"2018-10-11\",\"2018-10-12\",\"2018-10-15\",\"2018-10-16\",\"2018-10-17\",\"2018-10-18\",\"2018-10-19\",\"2018-10-22\",\"2018-10-23\",\"2018-10-24\",\"2018-10-25\",\"2018-10-26\",\"2018-10-29\",\"2018-10-30\",\"2018-10-31\",\"2018-11-01\",\"2018-11-02\",\"2018-11-05\",\"2018-11-06\",\"2018-11-07\",\"2018-11-08\",\"2018-11-09\",\"2018-11-12\",\"2018-11-13\",\"2018-11-14\",\"2018-11-15\",\"2018-11-16\",\"2018-11-19\",\"2018-11-20\",\"2018-11-21\",\"2018-11-22\",\"2018-11-26\",\"2018-11-27\",\"2018-11-28\",\"2018-11-29\",\"2018-11-30\",\"2018-12-03\",\"2018-12-04\",\"2018-12-05\",\"2018-12-06\",\"2018-12-07\",\"2018-12-10\",\"2018-12-11\",\"2018-12-12\",\"2018-12-13\",\"2018-12-14\",\"2018-12-17\",\"2018-12-18\",\"2018-12-19\",\"2018-12-20\",\"2018-12-21\",\"2018-12-25\",\"2018-12-26\",\"2018-12-27\",\"2018-12-28\",\"2019-01-04\",\"2019-01-07\",\"2019-01-08\",\"2019-01-09\",\"2019-01-10\",\"2019-01-11\",\"2019-01-15\",\"2019-01-16\",\"2019-01-17\",\"2019-01-18\",\"2019-01-21\",\"2019-01-22\",\"2019-01-23\",\"2019-01-24\",\"2019-01-25\",\"2019-01-28\",\"2019-01-29\",\"2019-01-30\",\"2019-01-31\",\"2019-02-01\",\"2019-02-04\",\"2019-02-05\",\"2019-02-06\",\"2019-02-07\",\"2019-02-08\",\"2019-02-12\",\"2019-02-13\",\"2019-02-14\",\"2019-02-15\",\"2019-02-18\",\"2019-02-19\",\"2019-02-20\",\"2019-02-21\",\"2019-02-22\",\"2019-02-25\",\"2019-02-26\",\"2019-02-27\",\"2019-02-28\",\"2019-03-01\",\"2019-03-04\",\"2019-03-05\",\"2019-03-06\",\"2019-03-07\",\"2019-03-08\",\"2019-03-11\",\"2019-03-12\",\"2019-03-13\",\"2019-03-14\",\"2019-03-15\",\"2019-03-18\",\"2019-03-19\",\"2019-03-20\",\"2019-03-22\",\"2019-03-25\",\"2019-03-26\",\"2019-03-27\",\"2019-03-28\",\"2019-03-29\",\"2019-04-01\",\"2019-04-02\",\"2019-04-03\",\"2019-04-04\",\"2019-04-05\",\"2019-04-08\",\"2019-04-09\",\"2019-04-10\",\"2019-04-11\",\"2019-04-12\",\"2019-04-15\",\"2019-04-16\",\"2019-04-17\",\"2019-04-18\",\"2019-04-19\",\"2019-04-22\",\"2019-04-23\",\"2019-04-24\",\"2019-04-25\",\"2019-04-26\",\"2019-05-07\",\"2019-05-08\",\"2019-05-09\",\"2019-05-10\",\"2019-05-13\",\"2019-05-14\",\"2019-05-15\",\"2019-05-16\",\"2019-05-17\",\"2019-05-20\",\"2019-05-21\",\"2019-05-22\",\"2019-05-23\",\"2019-05-24\",\"2019-05-27\",\"2019-05-28\",\"2019-05-29\",\"2019-05-30\",\"2019-05-31\",\"2019-06-03\",\"2019-06-04\",\"2019-06-05\",\"2019-06-06\",\"2019-06-07\",\"2019-06-10\",\"2019-06-11\",\"2019-06-12\",\"2019-06-13\",\"2019-06-14\",\"2019-06-17\",\"2019-06-18\",\"2019-06-19\",\"2019-06-20\",\"2019-06-21\",\"2019-06-24\",\"2019-06-25\",\"2019-06-26\",\"2019-06-27\",\"2019-06-28\",\"2019-07-01\",\"2019-07-02\",\"2019-07-03\",\"2019-07-04\",\"2019-07-05\",\"2019-07-08\",\"2019-07-09\",\"2019-07-10\",\"2019-07-11\",\"2019-07-12\",\"2019-07-16\",\"2019-07-17\",\"2019-07-18\",\"2019-07-19\",\"2019-07-22\",\"2019-07-23\",\"2019-07-24\",\"2019-07-25\",\"2019-07-26\",\"2019-07-29\",\"2019-07-30\",\"2019-07-31\",\"2019-08-01\",\"2019-08-02\",\"2019-08-05\",\"2019-08-06\",\"2019-08-07\",\"2019-08-08\",\"2019-08-09\",\"2019-08-13\",\"2019-08-14\",\"2019-08-15\",\"2019-08-16\",\"2019-08-19\",\"2019-08-20\",\"2019-08-21\",\"2019-08-22\",\"2019-08-23\",\"2019-08-26\",\"2019-08-27\",\"2019-08-28\",\"2019-08-29\",\"2019-08-30\",\"2019-09-02\",\"2019-09-03\",\"2019-09-04\",\"2019-09-05\",\"2019-09-06\",\"2019-09-09\",\"2019-09-10\",\"2019-09-11\",\"2019-09-12\",\"2019-09-13\",\"2019-09-17\",\"2019-09-18\",\"2019-09-19\",\"2019-09-20\",\"2019-09-24\",\"2019-09-25\",\"2019-09-26\",\"2019-09-27\",\"2019-09-30\",\"2019-10-01\",\"2019-10-02\",\"2019-10-03\",\"2019-10-04\",\"2019-10-07\",\"2019-10-08\",\"2019-10-09\",\"2019-10-10\",\"2019-10-11\",\"2019-10-15\",\"2019-10-16\",\"2019-10-17\",\"2019-10-18\",\"2019-10-21\",\"2019-10-23\",\"2019-10-24\",\"2019-10-25\",\"2019-10-28\",\"2019-10-29\",\"2019-10-30\",\"2019-10-31\",\"2019-11-01\",\"2019-11-05\",\"2019-11-06\",\"2019-11-07\",\"2019-11-08\",\"2019-11-11\",\"2019-11-12\",\"2019-11-13\",\"2019-11-14\",\"2019-11-15\",\"2019-11-18\",\"2019-11-19\",\"2019-11-20\",\"2019-11-21\",\"2019-11-22\",\"2019-11-25\",\"2019-11-26\",\"2019-11-27\",\"2019-11-28\",\"2019-11-29\",\"2019-12-02\",\"2019-12-03\",\"2019-12-04\",\"2019-12-05\",\"2019-12-06\",\"2019-12-09\",\"2019-12-10\",\"2019-12-11\",\"2019-12-12\",\"2019-12-13\",\"2019-12-16\",\"2019-12-17\",\"2019-12-18\",\"2019-12-19\",\"2019-12-20\",\"2019-12-23\",\"2019-12-24\",\"2019-12-25\",\"2019-12-26\",\"2019-12-27\",\"2019-12-30\",\"2020-01-06\",\"2020-01-07\",\"2020-01-08\",\"2020-01-09\",\"2020-01-10\",\"2020-01-14\",\"2020-01-15\",\"2020-01-16\",\"2020-01-17\",\"2020-01-20\",\"2020-01-21\",\"2020-01-22\",\"2020-01-23\",\"2020-01-24\",\"2020-01-27\",\"2020-01-28\",\"2020-01-29\",\"2020-01-30\",\"2020-01-31\",\"2020-02-03\",\"2020-02-04\",\"2020-02-05\",\"2020-02-06\",\"2020-02-07\",\"2020-02-10\",\"2020-02-12\",\"2020-02-13\",\"2020-02-14\",\"2020-02-17\",\"2020-02-18\",\"2020-02-19\",\"2020-02-20\",\"2020-02-21\",\"2020-02-25\",\"2020-02-26\",\"2020-02-27\",\"2020-02-28\",\"2020-03-02\",\"2020-03-03\",\"2020-03-04\",\"2020-03-05\",\"2020-03-06\",\"2020-03-09\",\"2020-03-10\",\"2020-03-11\",\"2020-03-12\",\"2020-03-13\",\"2020-03-16\",\"2020-03-17\",\"2020-03-18\",\"2020-03-19\",\"2020-03-23\",\"2020-03-24\",\"2020-03-25\",\"2020-03-26\",\"2020-03-27\",\"2020-03-30\",\"2020-03-31\",\"2020-04-01\",\"2020-04-02\",\"2020-04-03\",\"2020-04-06\",\"2020-04-07\",\"2020-04-08\",\"2020-04-09\",\"2020-04-10\",\"2020-04-13\",\"2020-04-14\",\"2020-04-15\",\"2020-04-16\",\"2020-04-17\",\"2020-04-20\",\"2020-04-21\",\"2020-04-22\",\"2020-04-23\",\"2020-04-24\",\"2020-04-27\",\"2020-04-28\",\"2020-04-30\",\"2020-05-01\",\"2020-05-07\",\"2020-05-08\",\"2020-05-11\",\"2020-05-12\",\"2020-05-13\",\"2020-05-14\",\"2020-05-15\",\"2020-05-18\",\"2020-05-19\",\"2020-05-20\",\"2020-05-21\",\"2020-05-22\",\"2020-05-25\",\"2020-05-26\",\"2020-05-27\",\"2020-05-28\",\"2020-05-29\",\"2020-06-01\",\"2020-06-02\",\"2020-06-03\",\"2020-06-04\",\"2020-06-05\",\"2020-06-08\",\"2020-06-09\",\"2020-06-10\",\"2020-06-11\",\"2020-06-12\",\"2020-06-15\",\"2020-06-16\",\"2020-06-17\",\"2020-06-18\",\"2020-06-19\",\"2020-06-22\",\"2020-06-23\",\"2020-06-24\",\"2020-06-25\",\"2020-06-26\",\"2020-06-29\",\"2020-06-30\",\"2020-07-01\",\"2020-07-02\",\"2020-07-03\",\"2020-07-06\",\"2020-07-07\",\"2020-07-08\",\"2020-07-09\",\"2020-07-10\",\"2020-07-13\",\"2020-07-14\",\"2020-07-15\",\"2020-07-16\",\"2020-07-17\",\"2020-07-20\",\"2020-07-21\",\"2020-07-22\",\"2020-07-27\",\"2020-07-28\",\"2020-07-29\",\"2020-07-30\",\"2020-07-31\",\"2020-08-03\",\"2020-08-04\",\"2020-08-05\",\"2020-08-06\",\"2020-08-07\",\"2020-08-11\",\"2020-08-12\",\"2020-08-13\",\"2020-08-14\",\"2020-08-17\",\"2020-08-18\",\"2020-08-19\",\"2020-08-20\",\"2020-08-21\",\"2020-08-24\",\"2020-08-25\",\"2020-08-26\",\"2020-08-27\",\"2020-08-28\",\"2020-08-31\",\"2020-09-01\",\"2020-09-02\",\"2020-09-03\",\"2020-09-04\",\"2020-09-07\",\"2020-09-08\",\"2020-09-09\",\"2020-09-10\",\"2020-09-11\",\"2020-09-14\",\"2020-09-15\",\"2020-09-16\",\"2020-09-17\",\"2020-09-18\",\"2020-09-23\",\"2020-09-24\",\"2020-09-25\",\"2020-09-28\",\"2020-09-29\",\"2020-09-30\",\"2020-10-01\",\"2020-10-02\",\"2020-10-05\",\"2020-10-06\",\"2020-10-07\",\"2020-10-08\",\"2020-10-09\",\"2020-10-12\",\"2020-10-13\",\"2020-10-14\",\"2020-10-15\",\"2020-10-16\",\"2020-10-19\",\"2020-10-20\",\"2020-10-21\",\"2020-10-22\",\"2020-10-23\",\"2020-10-26\",\"2020-10-27\",\"2020-10-28\",\"2020-10-29\",\"2020-10-30\",\"2020-11-02\",\"2020-11-04\",\"2020-11-05\",\"2020-11-06\",\"2020-11-09\",\"2020-11-10\",\"2020-11-11\",\"2020-11-12\",\"2020-11-13\",\"2020-11-16\",\"2020-11-17\",\"2020-11-18\",\"2020-11-19\",\"2020-11-20\",\"2020-11-24\",\"2020-11-25\",\"2020-11-26\",\"2020-11-27\",\"2020-11-30\",\"2020-12-01\",\"2020-12-02\",\"2020-12-03\",\"2020-12-04\",\"2020-12-07\",\"2020-12-08\",\"2020-12-09\",\"2020-12-10\",\"2020-12-11\",\"2020-12-14\",\"2020-12-15\",\"2020-12-16\",\"2020-12-17\",\"2020-12-18\",\"2020-12-21\",\"2020-12-22\",\"2020-12-23\",\"2020-12-24\",\"2020-12-25\",\"2020-12-28\",\"2020-12-29\",\"2020-12-30\",\"2021-01-04\",\"2021-01-05\",\"2021-01-06\",\"2021-01-07\",\"2021-01-08\",\"2021-01-12\",\"2021-01-13\",\"2021-01-14\",\"2021-01-15\",\"2021-01-18\",\"2021-01-19\",\"2021-01-20\",\"2021-01-21\",\"2021-01-22\",\"2021-01-25\",\"2021-01-26\",\"2021-01-27\",\"2021-01-28\",\"2021-01-29\",\"2021-02-01\",\"2021-02-02\",\"2021-02-03\",\"2021-02-04\",\"2021-02-05\",\"2021-02-08\",\"2021-02-09\",\"2021-02-10\",\"2021-02-12\",\"2021-02-15\",\"2021-02-16\",\"2021-02-17\",\"2021-02-18\",\"2021-02-19\",\"2021-02-22\",\"2021-02-24\",\"2021-02-25\",\"2021-02-26\",\"2021-03-01\",\"2021-03-02\",\"2021-03-03\",\"2021-03-04\",\"2021-03-05\",\"2021-03-08\",\"2021-03-09\",\"2021-03-10\",\"2021-03-11\",\"2021-03-12\",\"2021-03-15\",\"2021-03-16\",\"2021-03-17\",\"2021-03-18\",\"2021-03-19\",\"2021-03-22\",\"2021-03-23\",\"2021-03-24\",\"2021-03-25\",\"2021-03-26\",\"2021-03-29\",\"2021-03-30\",\"2021-03-31\",\"2021-04-01\",\"2021-04-02\",\"2021-04-05\",\"2021-04-06\",\"2021-04-07\",\"2021-04-08\",\"2021-04-09\",\"2021-04-12\",\"2021-04-13\",\"2021-04-14\",\"2021-04-15\",\"2021-04-16\",\"2021-04-19\",\"2021-04-20\",\"2021-04-21\",\"2021-04-22\",\"2021-04-23\",\"2021-04-26\",\"2021-04-27\",\"2021-04-28\",\"2021-04-30\",\"2021-05-06\",\"2021-05-07\",\"2021-05-10\",\"2021-05-11\",\"2021-05-12\",\"2021-05-13\",\"2021-05-14\",\"2021-05-17\",\"2021-05-18\",\"2021-05-19\",\"2021-05-20\",\"2021-05-21\",\"2021-05-24\",\"2021-05-25\",\"2021-05-26\",\"2021-05-27\",\"2021-05-28\",\"2021-05-31\",\"2021-06-01\",\"2021-06-02\",\"2021-06-03\",\"2021-06-04\",\"2021-06-07\",\"2021-06-08\",\"2021-06-09\",\"2021-06-10\",\"2021-06-11\",\"2021-06-14\",\"2021-06-15\",\"2021-06-16\",\"2021-06-17\",\"2021-06-18\",\"2021-06-21\",\"2021-06-22\",\"2021-06-23\",\"2021-06-24\",\"2021-06-25\",\"2021-06-28\",\"2021-06-29\",\"2021-06-30\",\"2021-07-01\",\"2021-07-02\",\"2021-07-05\",\"2021-07-06\",\"2021-07-07\",\"2021-07-08\",\"2021-07-09\",\"2021-07-12\",\"2021-07-13\",\"2021-07-14\",\"2021-07-15\",\"2021-07-16\",\"2021-07-19\",\"2021-07-20\",\"2021-07-21\",\"2021-07-26\",\"2021-07-27\",\"2021-07-28\",\"2021-07-29\",\"2021-07-30\",\"2021-08-02\",\"2021-08-03\",\"2021-08-04\",\"2021-08-05\",\"2021-08-06\",\"2021-08-10\",\"2021-08-11\",\"2021-08-12\",\"2021-08-13\",\"2021-08-16\",\"2021-08-17\",\"2021-08-18\",\"2021-08-19\",\"2021-08-20\",\"2021-08-23\",\"2021-08-24\",\"2021-08-25\",\"2021-08-26\",\"2021-08-27\",\"2021-08-30\",\"2021-08-31\",\"2021-09-01\",\"2021-09-02\",\"2021-09-03\",\"2021-09-06\",\"2021-09-07\",\"2021-09-08\",\"2021-09-09\",\"2021-09-10\",\"2021-09-13\",\"2021-09-14\",\"2021-09-15\",\"2021-09-16\",\"2021-09-17\",\"2021-09-21\",\"2021-09-22\",\"2021-09-24\",\"2021-09-27\",\"2021-09-28\",\"2021-09-29\",\"2021-09-30\",\"2021-10-01\",\"2021-10-04\",\"2021-10-05\",\"2021-10-06\",\"2021-10-07\",\"2021-10-08\",\"2021-10-11\",\"2021-10-12\",\"2021-10-13\",\"2021-10-14\",\"2021-10-15\",\"2021-10-18\",\"2021-10-19\",\"2021-10-20\",\"2021-10-21\",\"2021-10-22\",\"2021-10-25\",\"2021-10-26\",\"2021-10-27\",\"2021-10-28\",\"2021-10-29\",\"2021-11-01\",\"2021-11-02\",\"2021-11-04\",\"2021-11-05\",\"2021-11-08\",\"2021-11-09\",\"2021-11-10\",\"2021-11-11\",\"2021-11-12\",\"2021-11-15\",\"2021-11-16\",\"2021-11-17\",\"2021-11-18\",\"2021-11-19\",\"2021-11-22\",\"2021-11-24\",\"2021-11-25\",\"2021-11-26\",\"2021-11-29\",\"2021-11-30\",\"2021-12-01\",\"2021-12-02\",\"2021-12-03\"],\"type\":\"candlestick\"},{\"close\":[866.0,885.0,882.0,874.0,857.0,861.0,861.0,763.0,763.0,760.0,752.0,755.0,746.0,804.0,813.0,805.0,843.0,823.0,815.0,832.0,821.0,824.0,831.0,827.0,825.0,824.0,824.0,833.0,827.0,810.0,804.0,838.0,821.0,830.0,825.0,825.0,822.0,821.0,810.0,807.0,815.0,830.0,818.0,811.0,818.0,810.0,805.0,809.0,805.0,808.0,805.0,812.0,818.0,806.0,804.0,809.0,805.0,813.0,832.0,817.0,831.0,855.0,853.0,841.0,819.0,821.0,834.0,818.0,805.0,800.0,795.0,725.0,744.0,747.0,751.0,752.0,760.0,779.0,785.0,781.0,784.0,783.0,790.0,792.0,823.0,833.0,819.0,812.0,806.0,801.0,790.0,785.0,791.0,801.0,802.0,808.0,818.0,807.0,802.0,797.0,795.0,798.0,799.0,806.0,800.0,799.0,806.0,799.0,802.0,804.0,807.0,801.0,796.0,791.0,789.0,789.0,794.0,793.0,795.0,798.0,804.0,817.0,822.0,829.0,824.0,832.0,831.0,810.0,819.0,820.0,828.0,825.0,823.0,801.0,800.0,812.0,830.0,816.0,821.0,824.0,850.0,852.0,851.0,836.0,839.0,838.0,830.0,832.0,831.0,815.0,803.0,796.0,800.0,806.0,801.0,800.0,800.0,800.0,803.0,804.0,813.0,807.0,758.0,755.0,758.0,753.0,748.0,731.0,726.0,732.0,719.0,730.0,735.0,740.0,730.0,738.0,737.0,746.0,754.0,742.0,754.0,760.0,766.0,779.0,785.0,780.0,780.0,768.0,768.0,773.0,778.0,775.0,769.0,773.0,755.0,752.0,722.0,723.0,722.0,729.0,744.0,737.0,738.0,747.0,741.0,745.0,744.0,748.0,741.0,748.0,745.0,741.0,742.0,742.0,742.0,740.0,730.0,731.0,729.0,733.0,735.0,731.0,731.0,729.0,729.0,731.0,734.0,732.0,728.0,726.0,728.0,729.0,727.0,728.0,725.0,721.0,718.0,720.0,722.0,720.0,719.0,718.0,716.0,713.0,741.0,747.0,755.0,771.0,765.0,774.0,769.0,773.0,783.0,750.0,749.0,732.0,728.0,727.0,741.0,747.0,747.0,740.0,741.0,744.0,746.0,738.0,746.0,750.0,752.0,728.0,707.0,706.0,695.0,698.0,680.0,690.0,694.0,710.0,715.0,716.0,713.0,706.0,704.0,701.0,704.0,700.0,698.0,695.0,691.0,684.0,675.0,677.0,680.0,678.0,678.0,673.0,669.0,667.0,672.0,665.0,655.0,645.0,656.0,654.0,650.0,653.0,661.0,659.0,659.0,658.0,664.0,663.0,667.0,661.0,658.0,682.0,674.0,680.0,712.0,727.0,763.0,785.0,796.0,791.0,791.0,802.0,815.0,814.0,829.0,824.0,831.0,815.0,783.0,795.0,800.0,787.0,795.0,796.0,792.0,789.0,786.0,787.0,782.0,777.0,779.0,791.0,787.0,771.0,775.0,769.0,769.0,770.0,772.0,768.0,772.0,768.0,762.0,759.0,748.0,736.0,732.0,723.0,713.0,730.0,732.0,747.0,739.0,740.0,733.0,720.0,710.0,711.0,727.0,727.0,753.0,757.0,736.0,729.0,797.0,848.0,853.0,860.0,852.0,908.0,886.0,887.0,885.0,890.0,881.0,884.0,894.0,886.0,878.0,882.0,874.0,863.0,847.0,832.0,840.0,833.0,829.0,830.0,830.0,809.0,830.0,824.0,849.0,849.0,820.0,796.0,802.0,792.0,781.0,753.0,754.0,740.0,743.0,751.0,747.0,740.0,747.0,746.0,754.0,778.0,767.0,779.0,760.0,759.0,751.0,767.0,771.0,770.0,776.0,791.0,791.0,780.0,780.0,737.0,735.0,846.0,950.0,998.0,994.0,994.0,979.0,1019.0,1022.0,1031.0,1067.0,1207.0,1167.0,1141.0,1149.0,1154.0,1193.0,1170.0,1219.0,1244.0,1215.0,1228.0,1224.0,1252.0,1227.0,1194.0,1181.0,1300.0,1298.0,1260.0,1276.0,1318.0,1285.0,1264.0,1254.0,1345.0,1241.0,1248.0,1173.0,1246.0,1184.0,1180.0,1244.0,1246.0,1290.0,1297.0,1298.0,1309.0,1229.0,1207.0,1191.0,1256.0,1322.0,1253.0,1282.0,1292.0,1326.0,1274.0,1258.0,1326.0,1106.0,1163.0,1101.0,1233.0,1177.0,1196.0,1150.0,1133.0,1135.0,1161.0,1170.0,1097.0,1134.0,1178.0,1222.0,1221.0,1217.0,1194.0,1249.0,1275.0,1205.0,1214.0,1238.0,1214.0,1206.0,1226.0,1242.0,1224.0,1240.0,1250.0,1271.0,1236.0,1231.0,1198.0,1200.0,1150.0,1102.0,1078.0,1063.0,1094.0,1115.0,1119.0,1134.0,1117.0,1138.0,1160.0,1159.0,1129.0,1164.0,1166.0,1095.0,1108.0,1130.0,1103.0,1100.0,1231.0,1248.0,1291.0,1314.0,1311.0,1309.0,1278.0,1244.0,1310.0,1265.0,1338.0,1420.0,1345.0,1326.0,1359.0,1448.0,1467.0,1442.0,1489.0,1423.0,1427.0,1396.0,1354.0,1379.0,1353.0,1353.0,1302.0,1287.0,1299.0,1318.0,1290.0,1296.0,1281.0,1315.0,1305.0,1297.0,1249.0,1282.0,1336.0,1308.0,1341.0,1373.0,1364.0,1373.0,1214.0,1265.0,1151.0,1109.0,1123.0,1153.0,1176.0,1185.0,1134.0,1072.0,1127.0,1090.0,1126.0,1139.0,1121.0,1139.0,1148.0,1141.0,1175.0,1094.0,1166.0,1087.0,1093.0,1083.0,1039.0,1065.0,1096.0,1106.0,1095.0,1093.0,1102.0,1129.0,1130.0,1166.0,1170.0,1175.0,1193.0,1238.0,1232.0,1206.0,1186.0,1199.0,1201.0,1181.0,1162.0,1179.0,1177.0,1170.0,1170.0,1160.0,1156.0,1180.0,1199.0,1185.0,1214.0,1229.0,1217.0,1217.0,1223.0,1213.0,1202.0,1214.0,1208.0,1209.0,1215.0,1225.0,1244.0,1276.0,1274.0,1274.0,1320.0,1328.0,1315.0,1330.0,1366.0,1398.0,1350.0,1375.0,1339.0,1348.0,1374.0,1406.0,1353.0,1260.0,1251.0,1253.0,1244.0,1272.0,1318.0,1476.0,1483.0,1536.0,1572.0,1565.0,1600.0,1537.0,1538.0,1490.0,1490.0,1462.0,1459.0,1440.0,1440.0,1426.0,1455.0,1448.0,1479.0,1478.0,1471.0,1500.0,1508.0,1515.0,1501.0,1487.0,1484.0,1536.0,1588.0,1602.0,1604.0,1639.0,1574.0,1630.0,1607.0,1635.0,1647.0,1677.0,1724.0,1745.0,1780.0,1780.0,1789.0,1790.0,1790.0,1797.0,1819.0,1825.0,1810.0,1837.0,1797.0,1800.0,1752.0,1947.0,1877.0,1895.0,1873.0,1809.0,1822.0,1708.0,1666.0,1620.0,1670.0,1645.0,1625.0,1627.0,1731.0,1741.0,1720.0,1718.0,1729.0,1720.0,1746.0,1743.0,1768.0,1802.0,1776.0,1756.0,1814.0,1838.0,1828.0,1785.0,1706.0,1237.0,1197.0,1299.0,1265.0,1288.0,1290.0,1249.0,1124.0,1196.0,1203.0,1134.0,1041.0,1110.0,1261.0,1328.0,1290.0,1310.0,1282.0,1348.0,1309.0,1369.0,1415.0,1402.0,1346.0,1313.0,1302.0,1323.0,1346.0,1420.0,1430.0,1370.0,1295.0,1338.0,1377.0,1350.0,1371.0,1442.0,1477.0,1584.0,1659.0,1682.0,1723.0,1742.0,1791.0,1801.0,1798.0,1832.0,1840.0,1856.0,1888.0,1800.0,1805.0,1802.0,1801.0,1825.0,1807.0,1856.0,1865.0,1828.0,1840.0,1917.0,2005.0,1973.0,2047.0,2022.0,1915.0,1849.0,1857.0,1753.0,1848.0,1841.0,1783.0,1785.0,1821.0,1884.0,1963.0,2003.0,2254.0,2241.0,2249.0,2241.0,2269.0,2215.0,2184.0,2153.0,2117.0,2175.0,2152.0,2244.0,2152.0,2216.0,2177.0,2153.0,2014.0,2044.0,2255.0,2308.0,2283.0,2306.0,2270.0,2255.0,2254.0,2312.0,2412.0,2451.0,2474.0,2545.0,2462.0,2525.0,2434.0,2462.0,2405.0,2496.0,2598.0,2574.0,2677.0,2666.0,2677.0,2658.0,2754.0,2827.0,2965.0,2900.0,2775.0,2901.0,2895.0,2970.0,2966.0,2861.0,2785.0,2773.0,2776.0,2759.0,2731.0,2770.0,2933.0,2846.0,2779.0,2709.0,2751.0,2706.0,2775.0,2751.0,2731.0,2871.0,null,2763.0,2774.0,2864.0,2909.0,3030.0,3210.0,3225.0,3140.0,3200.0,3095.0,2879.0,2935.0,3245.0,3265.0,3255.0,3245.0,3235.0,3370.0,3615.0,3530.0,3565.0,3555.0,3225.0,3510.0,3695.0,3820.0,3615.0,3640.0,3795.0,3935.0,3980.0,4060.0,3965.0,3900.0,3960.0,4210.0,4110.0,4105.0,4025.0,4050.0,3980.0,3910.0,3780.0,3720.0,3785.0,3975.0,4015.0,4030.0,4230.0,4475.0,4305.0,4610.0,4585.0,4310.0,4290.0,4320.0,4475.0,4630.0,4850.0,4770.0,4805.0,4745.0,4760.0,4730.0,4640.0,5090.0,5320.0,5090.0,5110.0,4960.0,4620.0,4810.0,4745.0,4930.0,5020.0,5290.0,5270.0,5040.0,4875.0,4460.0,4395.0,4575.0,4555.0,4630.0,4550.0,4255.0,4220.0,4440.0,4150.0,4225.0,4195.0,4160.0,4075.0,3900.0,3870.0,3905.0,3685.0,2875.0,2986.0,2985.0,3040.0,2942.0,2983.0,2987.0,2871.0,2917.0,2924.0,3025.0,3180.0,3020.0,3130.0,3290.0,3425.0,3185.0,3250.0,3240.0,3255.0,3245.0,3280.0,3270.0,3270.0,3445.0,3540.0,3515.0,3385.0,3410.0,3565.0,3510.0,3650.0,3595.0,3570.0,3415.0,3560.0,3565.0,3485.0,3455.0,3375.0,3455.0,3515.0,3715.0,3710.0,3670.0,3570.0,3425.0,3380.0,3295.0,3145.0,3130.0,3010.0,3080.0,3015.0,3080.0,3170.0,3235.0,3395.0,3395.0,3470.0,3380.0,3495.0,3540.0,3540.0,3460.0,3375.0,3325.0,3440.0,3400.0,3515.0,3400.0,3435.0,3455.0,3595.0,3575.0,3590.0,3565.0,3630.0,3500.0,3625.0,3740.0,3730.0,3720.0,3780.0,3825.0,3925.0,3795.0,3690.0,3535.0,3610.0,3705.0,3715.0,4120.0,4300.0,4525.0,4490.0,4390.0,4265.0,4260.0,4350.0,4490.0,4630.0,4800.0,4790.0,4770.0,4915.0,4880.0,5050.0,5060.0,4860.0,4770.0,4630.0,4675.0,4470.0,4590.0,4440.0,4250.0,4360.0,4450.0,4425.0,4760.0,4730.0,4660.0,4545.0,4615.0,4615.0,4905.0,4640.0,4795.0,4900.0,5360.0,5450.0,6100.0,6040.0,6270.0,6220.0,6260.0,6050.0,5740.0,5890.0,5830.0,5600.0,5610.0,5420.0,5220.0,5090.0,4975.0,5110.0,4765.0,4795.0,4890.0,4980.0,4940.0,5050.0,5020.0,5020.0,5020.0,5480.0,5600.0,6310.0,6310.0,5970.0,6140.0,6140.0,6240.0,5990.0,6200.0,6340.0,6590.0,6500.0,6280.0,6470.0,6310.0,6170.0,6060.0,6450.0,6280.0,6280.0,6630.0,6650.0,6700.0,6700.0,6590.0,6450.0,6740.0,6550.0,6430.0,6550.0,6290.0,6070.0,6190.0],\"high\":[877.0,885.0,885.0,882.0,874.0,869.0,867.0,775.0,766.0,760.0,759.0,760.0,757.0,809.0,815.0,810.0,850.0,838.0,824.0,832.0,840.0,848.0,840.0,838.0,833.0,826.0,838.0,840.0,835.0,832.0,816.0,838.0,844.0,832.0,830.0,831.0,828.0,825.0,817.0,814.0,818.0,830.0,831.0,820.0,818.0,819.0,815.0,810.0,811.0,808.0,815.0,820.0,818.0,817.0,811.0,810.0,809.0,819.0,835.0,838.0,857.0,858.0,878.0,853.0,840.0,830.0,848.0,841.0,819.0,805.0,807.0,752.0,758.0,757.0,761.0,766.0,767.0,788.0,794.0,789.0,792.0,789.0,798.0,798.0,830.0,843.0,835.0,819.0,812.0,811.0,800.0,793.0,801.0,805.0,809.0,809.0,819.0,822.0,816.0,809.0,802.0,800.0,807.0,806.0,806.0,799.0,807.0,805.0,805.0,808.0,807.0,808.0,808.0,795.0,794.0,791.0,796.0,798.0,798.0,803.0,812.0,819.0,822.0,829.0,835.0,832.0,836.0,830.0,820.0,822.0,828.0,830.0,829.0,805.0,801.0,812.0,833.0,824.0,824.0,833.0,855.0,858.0,858.0,855.0,845.0,844.0,838.0,838.0,832.0,826.0,819.0,803.0,806.0,806.0,807.0,801.0,804.0,808.0,804.0,811.0,814.0,817.0,773.0,763.0,759.0,758.0,754.0,745.0,730.0,733.0,732.0,731.0,745.0,741.0,740.0,738.0,743.0,747.0,757.0,749.0,754.0,760.0,772.0,779.0,785.0,788.0,783.0,780.0,771.0,775.0,785.0,778.0,775.0,779.0,757.0,758.0,750.0,727.0,723.0,730.0,744.0,750.0,741.0,749.0,748.0,745.0,754.0,750.0,748.0,748.0,747.0,750.0,747.0,742.0,743.0,742.0,736.0,740.0,736.0,735.0,735.0,734.0,732.0,732.0,733.0,731.0,734.0,734.0,732.0,728.0,730.0,730.0,728.0,728.0,729.0,725.0,720.0,724.0,726.0,725.0,724.0,722.0,719.0,716.0,743.0,748.0,755.0,773.0,775.0,774.0,775.0,778.0,784.0,783.0,751.0,742.0,738.0,732.0,741.0,752.0,752.0,748.0,746.0,752.0,749.0,748.0,746.0,750.0,764.0,736.0,742.0,714.0,703.0,708.0,698.0,697.0,700.0,714.0,716.0,717.0,713.0,713.0,708.0,707.0,706.0,701.0,698.0,698.0,699.0,689.0,684.0,680.0,681.0,680.0,678.0,677.0,675.0,670.0,672.0,673.0,664.0,651.0,660.0,658.0,658.0,660.0,666.0,662.0,662.0,661.0,666.0,663.0,668.0,667.0,662.0,684.0,685.0,682.0,712.0,728.0,776.0,790.0,800.0,796.0,808.0,802.0,816.0,815.0,830.0,830.0,837.0,833.0,809.0,799.0,812.0,797.0,800.0,801.0,799.0,797.0,789.0,794.0,790.0,784.0,780.0,792.0,799.0,787.0,777.0,777.0,771.0,774.0,775.0,775.0,775.0,772.0,767.0,764.0,760.0,748.0,736.0,729.0,721.0,740.0,735.0,753.0,744.0,743.0,753.0,733.0,717.0,712.0,730.0,737.0,758.0,758.0,757.0,744.0,815.0,850.0,862.0,865.0,867.0,908.0,903.0,905.0,908.0,915.0,885.0,905.0,898.0,902.0,888.0,883.0,882.0,874.0,860.0,844.0,843.0,840.0,831.0,837.0,833.0,825.0,833.0,833.0,855.0,862.0,862.0,812.0,806.0,801.0,803.0,771.0,759.0,759.0,747.0,759.0,754.0,762.0,757.0,760.0,757.0,782.0,787.0,791.0,780.0,761.0,762.0,769.0,774.0,780.0,785.0,796.0,799.0,795.0,791.0,751.0,743.0,873.0,959.0,1006.0,1020.0,1008.0,1015.0,1020.0,1029.0,1043.0,1118.0,1223.0,1198.0,1180.0,1192.0,1163.0,1207.0,1201.0,1219.0,1264.0,1253.0,1243.0,1239.0,1268.0,1247.0,1246.0,1194.0,1313.0,1308.0,1294.0,1292.0,1331.0,1321.0,1292.0,1281.0,1348.0,1345.0,1256.0,1244.0,1260.0,1268.0,1197.0,1255.0,1251.0,1300.0,1313.0,1304.0,1344.0,1295.0,1241.0,1219.0,1282.0,1328.0,1318.0,1288.0,1337.0,1334.0,1330.0,1284.0,1329.0,1419.0,1219.0,1149.0,1264.0,1262.0,1207.0,1184.0,1165.0,1155.0,1189.0,1174.0,1175.0,1145.0,1189.0,1233.0,1240.0,1240.0,1242.0,1262.0,1288.0,1261.0,1225.0,1244.0,1248.0,1215.0,1230.0,1266.0,1248.0,1241.0,1265.0,1273.0,1259.0,1236.0,1231.0,1203.0,1202.0,1143.0,1107.0,1090.0,1115.0,1132.0,1146.0,1154.0,1153.0,1148.0,1175.0,1175.0,1149.0,1184.0,1179.0,1153.0,1132.0,1157.0,1136.0,1112.0,1260.0,1319.0,1355.0,1327.0,1322.0,1309.0,1320.0,1271.0,1314.0,1334.0,1362.0,1449.0,1402.0,1359.0,1405.0,1449.0,1474.0,1460.0,1494.0,1474.0,1443.0,1420.0,1374.0,1379.0,1390.0,1369.0,1350.0,1316.0,1312.0,1318.0,1315.0,1303.0,1305.0,1316.0,1315.0,1318.0,1284.0,1297.0,1347.0,1375.0,1362.0,1373.0,1380.0,1401.0,1268.0,1268.0,1279.0,1169.0,1128.0,1168.0,1189.0,1204.0,1205.0,1110.0,1133.0,1110.0,1136.0,1155.0,1135.0,1143.0,1154.0,1152.0,1185.0,1181.0,1232.0,1152.0,1120.0,1104.0,1089.0,1080.0,1099.0,1108.0,1117.0,1105.0,1108.0,1187.0,1137.0,1172.0,1178.0,1182.0,1218.0,1248.0,1241.0,1239.0,1207.0,1210.0,1228.0,1194.0,1181.0,1202.0,1202.0,1189.0,1179.0,1166.0,1169.0,1204.0,1221.0,1198.0,1218.0,1234.0,1224.0,1220.0,1223.0,1222.0,1219.0,1226.0,1208.0,1242.0,1221.0,1238.0,1255.0,1276.0,1304.0,1298.0,1326.0,1353.0,1326.0,1349.0,1390.0,1415.0,1381.0,1387.0,1362.0,1378.0,1394.0,1431.0,1381.0,1375.0,1293.0,1260.0,1291.0,1293.0,1322.0,1477.0,1487.0,1546.0,1584.0,1591.0,1617.0,1574.0,1538.0,1503.0,1490.0,1491.0,1486.0,1466.0,1441.0,1452.0,1465.0,1456.0,1481.0,1507.0,1488.0,1521.0,1542.0,1530.0,1521.0,1535.0,1498.0,1538.0,1595.0,1612.0,1617.0,1660.0,1649.0,1638.0,1657.0,1648.0,1687.0,1691.0,1741.0,1774.0,1797.0,1799.0,1798.0,1799.0,1818.0,1825.0,1823.0,1848.0,1825.0,1853.0,1837.0,1829.0,1782.0,2007.0,1915.0,1964.0,1898.0,1880.0,1837.0,1780.0,1700.0,1678.0,1682.0,1657.0,1700.0,1642.0,1764.0,1770.0,1787.0,1763.0,1744.0,1746.0,1759.0,1766.0,1788.0,1812.0,1800.0,1793.0,1826.0,1868.0,1874.0,1819.0,1791.0,1339.0,1222.0,1310.0,1378.0,1303.0,1338.0,1275.0,1193.0,1214.0,1267.0,1200.0,1061.0,1160.0,1276.0,1398.0,1392.0,1330.0,1350.0,1362.0,1330.0,1410.0,1474.0,1466.0,1397.0,1355.0,1373.0,1331.0,1374.0,1425.0,1449.0,1403.0,1382.0,1386.0,1387.0,1379.0,1387.0,1442.0,1485.0,1629.0,1693.0,1697.0,1747.0,1765.0,1859.0,1820.0,1844.0,1838.0,1840.0,1887.0,1904.0,1945.0,1848.0,1821.0,1840.0,1831.0,1817.0,1865.0,1906.0,1869.0,1848.0,1920.0,2057.0,2000.0,2053.0,2064.0,1990.0,1939.0,1860.0,1845.0,1862.0,1859.0,1796.0,1805.0,1835.0,1908.0,1965.0,2003.0,2322.0,2345.0,2300.0,2251.0,2270.0,2278.0,2261.0,2193.0,2141.0,2179.0,2212.0,2249.0,2261.0,2233.0,2225.0,2217.0,2148.0,2112.0,2297.0,2387.0,2349.0,2340.0,2369.0,2338.0,2300.0,2343.0,2467.0,2520.0,2499.0,2582.0,2507.0,2540.0,2519.0,2462.0,2460.0,2501.0,2611.0,2659.0,2710.0,2715.0,2723.0,2680.0,2772.0,2933.0,2984.0,3015.0,2875.0,2902.0,2915.0,2996.0,2997.0,2907.0,2850.0,2798.0,2820.0,2819.0,2789.0,2862.0,2949.0,2928.0,2823.0,2782.0,2822.0,2784.0,2785.0,2828.0,2848.0,2912.0,null,2875.0,2794.0,2875.0,2967.0,3045.0,3255.0,3280.0,3250.0,3225.0,3205.0,3000.0,2958.0,3330.0,3390.0,3375.0,3300.0,3475.0,3385.0,3620.0,3595.0,3585.0,3695.0,3650.0,3670.0,3745.0,4125.0,3820.0,3690.0,3845.0,3945.0,4120.0,4090.0,4095.0,3920.0,3970.0,4240.0,4200.0,4180.0,4125.0,4135.0,4085.0,3975.0,3885.0,3735.0,3900.0,3980.0,4030.0,4075.0,4240.0,4510.0,4560.0,4625.0,4665.0,4595.0,4395.0,4395.0,4475.0,4730.0,4860.0,4900.0,4940.0,4920.0,4855.0,4885.0,4785.0,5140.0,5400.0,5240.0,5370.0,5450.0,5020.0,4815.0,4955.0,4930.0,5150.0,5330.0,5420.0,5250.0,5030.0,4720.0,4580.0,4605.0,4640.0,4750.0,4645.0,4530.0,4260.0,4485.0,4355.0,4240.0,4230.0,4250.0,4150.0,4050.0,3915.0,3935.0,3905.0,2950.0,3085.0,3165.0,3120.0,3055.0,3020.0,2994.0,3045.0,2965.0,3005.0,3035.0,3185.0,3215.0,3140.0,3320.0,3445.0,3340.0,3275.0,3275.0,3365.0,3265.0,3310.0,3350.0,3330.0,3455.0,3585.0,3660.0,3525.0,3455.0,3605.0,3545.0,3695.0,3760.0,3605.0,3580.0,3580.0,3695.0,3625.0,3505.0,3435.0,3495.0,3580.0,3750.0,3750.0,3740.0,3650.0,3560.0,3505.0,3340.0,3260.0,3270.0,3110.0,3110.0,3125.0,3095.0,3180.0,3265.0,3430.0,3430.0,3520.0,3465.0,3495.0,3540.0,3600.0,3545.0,3520.0,3330.0,3465.0,3480.0,3555.0,3490.0,3520.0,3500.0,3610.0,3630.0,3605.0,3655.0,3650.0,3580.0,3640.0,3770.0,3820.0,3750.0,3840.0,3880.0,3940.0,3935.0,3745.0,3560.0,3660.0,3725.0,3830.0,4175.0,4360.0,4660.0,4565.0,4565.0,4430.0,4405.0,4445.0,4490.0,4755.0,4820.0,4940.0,4830.0,5010.0,5020.0,5140.0,5260.0,5160.0,5000.0,4755.0,4780.0,4680.0,4615.0,4505.0,4405.0,4415.0,4495.0,4565.0,4760.0,4830.0,4730.0,4740.0,4685.0,4640.0,4905.0,4950.0,4835.0,4945.0,5460.0,5600.0,6300.0,6170.0,6380.0,6330.0,6270.0,6190.0,5890.0,5940.0,5900.0,5810.0,5830.0,5600.0,5330.0,5280.0,5030.0,5190.0,5050.0,4930.0,5130.0,5120.0,5180.0,5070.0,5170.0,5140.0,5160.0,5690.0,5770.0,6350.0,6480.0,6340.0,6250.0,6180.0,6360.0,6190.0,6210.0,6340.0,6660.0,6750.0,6640.0,6480.0,6490.0,6370.0,6190.0,6480.0,6450.0,6510.0,6660.0,6900.0,6800.0,6940.0,6760.0,6550.0,6750.0,6760.0,6570.0,6710.0,6560.0,6290.0,6200.0],\"low\":[851.0,869.0,874.0,866.0,853.0,849.0,847.0,743.0,754.0,744.0,749.0,753.0,746.0,751.0,784.0,802.0,815.0,819.0,810.0,805.0,821.0,821.0,825.0,826.0,822.0,817.0,816.0,819.0,827.0,807.0,800.0,800.0,819.0,823.0,821.0,819.0,818.0,814.0,807.0,803.0,807.0,817.0,817.0,811.0,811.0,810.0,803.0,803.0,804.0,804.0,803.0,808.0,810.0,806.0,804.0,805.0,805.0,806.0,817.0,817.0,817.0,833.0,844.0,828.0,813.0,811.0,824.0,816.0,805.0,796.0,795.0,714.0,731.0,744.0,748.0,749.0,756.0,769.0,785.0,777.0,779.0,776.0,784.0,790.0,797.0,820.0,816.0,805.0,800.0,801.0,788.0,777.0,787.0,796.0,798.0,804.0,808.0,806.0,800.0,792.0,794.0,794.0,798.0,799.0,796.0,795.0,799.0,796.0,793.0,796.0,797.0,800.0,792.0,789.0,788.0,786.0,787.0,789.0,790.0,794.0,799.0,795.0,807.0,820.0,818.0,823.0,829.0,810.0,810.0,816.0,817.0,822.0,823.0,784.0,792.0,800.0,814.0,813.0,817.0,822.0,825.0,845.0,847.0,833.0,838.0,833.0,828.0,824.0,826.0,813.0,803.0,795.0,797.0,796.0,801.0,795.0,799.0,799.0,799.0,800.0,806.0,803.0,754.0,752.0,750.0,751.0,742.0,729.0,718.0,725.0,719.0,722.0,734.0,733.0,730.0,730.0,736.0,737.0,749.0,742.0,741.0,752.0,760.0,769.0,774.0,772.0,776.0,768.0,760.0,762.0,774.0,770.0,769.0,761.0,742.0,741.0,721.0,720.0,718.0,721.0,730.0,737.0,735.0,740.0,738.0,740.0,743.0,743.0,741.0,740.0,742.0,738.0,738.0,737.0,739.0,735.0,729.0,730.0,729.0,728.0,731.0,730.0,728.0,728.0,729.0,727.0,730.0,731.0,727.0,724.0,725.0,726.0,724.0,726.0,724.0,718.0,717.0,720.0,720.0,720.0,717.0,716.0,714.0,710.0,715.0,736.0,745.0,754.0,765.0,765.0,769.0,769.0,771.0,747.0,740.0,731.0,727.0,722.0,726.0,740.0,743.0,740.0,739.0,741.0,740.0,738.0,739.0,743.0,741.0,715.0,707.0,703.0,685.0,690.0,674.0,674.0,685.0,701.0,708.0,709.0,705.0,700.0,698.0,698.0,697.0,695.0,688.0,688.0,691.0,680.0,675.0,672.0,675.0,673.0,673.0,670.0,669.0,666.0,665.0,664.0,654.0,641.0,651.0,652.0,649.0,651.0,658.0,657.0,656.0,656.0,659.0,658.0,660.0,661.0,658.0,658.0,670.0,673.0,685.0,712.0,742.0,763.0,786.0,786.0,784.0,793.0,798.0,800.0,807.0,818.0,815.0,815.0,780.0,772.0,793.0,779.0,784.0,796.0,792.0,785.0,783.0,786.0,780.0,769.0,765.0,767.0,783.0,769.0,771.0,766.0,766.0,767.0,767.0,762.0,768.0,765.0,762.0,758.0,748.0,732.0,720.0,722.0,713.0,720.0,724.0,731.0,738.0,735.0,729.0,716.0,708.0,700.0,714.0,726.0,734.0,741.0,735.0,727.0,782.0,793.0,837.0,845.0,839.0,852.0,874.0,887.0,874.0,884.0,859.0,881.0,877.0,882.0,861.0,870.0,873.0,863.0,840.0,825.0,831.0,820.0,812.0,817.0,824.0,805.0,810.0,824.0,832.0,845.0,819.0,771.0,786.0,787.0,776.0,752.0,751.0,738.0,731.0,742.0,727.0,739.0,741.0,739.0,740.0,753.0,763.0,776.0,757.0,742.0,750.0,750.0,763.0,768.0,764.0,771.0,785.0,780.0,773.0,711.0,719.0,827.0,857.0,939.0,971.0,963.0,975.0,968.0,982.0,981.0,1049.0,1108.0,1125.0,1134.0,1129.0,1121.0,1138.0,1154.0,1185.0,1225.0,1203.0,1209.0,1215.0,1228.0,1222.0,1193.0,1127.0,1188.0,1273.0,1245.0,1236.0,1286.0,1270.0,1256.0,1245.0,1260.0,1211.0,1187.0,1138.0,1157.0,1174.0,1132.0,1198.0,1225.0,1241.0,1260.0,1262.0,1276.0,1197.0,1176.0,1137.0,1216.0,1281.0,1250.0,1216.0,1270.0,1262.0,1274.0,1246.0,1259.0,1086.0,1100.0,1071.0,1148.0,1163.0,1123.0,1141.0,1110.0,1115.0,1135.0,1126.0,1094.0,1101.0,1142.0,1175.0,1183.0,1196.0,1191.0,1181.0,1236.0,1189.0,1174.0,1201.0,1213.0,1171.0,1181.0,1216.0,1201.0,1203.0,1191.0,1238.0,1217.0,1215.0,1195.0,1172.0,1145.0,1098.0,1062.0,1046.0,1074.0,1081.0,1103.0,1127.0,1106.0,1116.0,1142.0,1153.0,1119.0,1141.0,1149.0,1086.0,1089.0,1122.0,1097.0,1077.0,1094.0,1231.0,1270.0,1283.0,1292.0,1277.0,1263.0,1217.0,1259.0,1262.0,1255.0,1349.0,1319.0,1314.0,1341.0,1349.0,1430.0,1417.0,1429.0,1394.0,1418.0,1370.0,1336.0,1324.0,1353.0,1323.0,1281.0,1275.0,1287.0,1267.0,1287.0,1280.0,1270.0,1248.0,1286.0,1270.0,1229.0,1222.0,1288.0,1287.0,1295.0,1340.0,1360.0,1357.0,1147.0,1182.0,1133.0,1060.0,1097.0,1110.0,1123.0,1155.0,1133.0,1056.0,1050.0,1080.0,1112.0,1133.0,1107.0,1120.0,1140.0,1128.0,1140.0,1085.0,1107.0,1070.0,1080.0,1073.0,1021.0,1030.0,1068.0,1094.0,1085.0,1078.0,1047.0,1111.0,1112.0,1130.0,1145.0,1148.0,1174.0,1152.0,1209.0,1178.0,1170.0,1172.0,1195.0,1174.0,1156.0,1173.0,1170.0,1170.0,1162.0,1157.0,1130.0,1172.0,1181.0,1102.0,1151.0,1197.0,1192.0,1189.0,1201.0,1194.0,1194.0,1194.0,1166.0,1205.0,1192.0,1210.0,1212.0,1232.0,1268.0,1269.0,1262.0,1303.0,1265.0,1310.0,1325.0,1345.0,1345.0,1335.0,1331.0,1333.0,1348.0,1344.0,1283.0,1242.0,1247.0,1231.0,1242.0,1250.0,1291.0,1338.0,1427.0,1447.0,1515.0,1552.0,1546.0,1504.0,1497.0,1454.0,1437.0,1439.0,1445.0,1412.0,1417.0,1421.0,1420.0,1425.0,1447.0,1463.0,1442.0,1484.0,1494.0,1501.0,1494.0,1476.0,1461.0,1465.0,1519.0,1563.0,1570.0,1605.0,1561.0,1575.0,1595.0,1578.0,1612.0,1643.0,1680.0,1717.0,1748.0,1756.0,1727.0,1750.0,1769.0,1779.0,1798.0,1811.0,1773.0,1813.0,1757.0,1787.0,1733.0,1730.0,1823.0,1867.0,1843.0,1809.0,1758.0,1677.0,1660.0,1617.0,1588.0,1623.0,1625.0,1593.0,1624.0,1716.0,1696.0,1707.0,1716.0,1715.0,1703.0,1727.0,1732.0,1780.0,1755.0,1750.0,1777.0,1816.0,1828.0,1777.0,1693.0,1179.0,1185.0,1197.0,1258.0,1243.0,1281.0,1239.0,1124.0,1080.0,1195.0,1134.0,986.0,1060.0,1093.0,1267.0,1280.0,1270.0,1255.0,1316.0,1284.0,1312.0,1326.0,1386.0,1320.0,1286.0,1286.0,1271.0,1312.0,1347.0,1394.0,1345.0,1292.0,1313.0,1316.0,1336.0,1340.0,1341.0,1418.0,1459.0,1608.0,1636.0,1677.0,1656.0,1750.0,1769.0,1764.0,1800.0,1787.0,1832.0,1855.0,1786.0,1776.0,1746.0,1757.0,1790.0,1770.0,1805.0,1837.0,1814.0,1794.0,1767.0,1886.0,1942.0,1977.0,1963.0,1871.0,1792.0,1806.0,1740.0,1752.0,1784.0,1710.0,1726.0,1748.0,1815.0,1894.0,1894.0,2065.0,2201.0,2195.0,2173.0,2210.0,2210.0,2146.0,2147.0,2067.0,2079.0,2142.0,2140.0,2147.0,2164.0,2164.0,2124.0,1975.0,2023.0,2094.0,2259.0,2260.0,2222.0,2260.0,2197.0,2230.0,2266.0,2330.0,2414.0,2384.0,2460.0,2440.0,2432.0,2421.0,2312.0,2381.0,2415.0,2459.0,2542.0,2593.0,2632.0,2668.0,2606.0,2651.0,2798.0,2871.0,2879.0,2682.0,2805.0,2854.0,2928.0,2910.0,2797.0,2748.0,2702.0,2726.0,2752.0,2714.0,2728.0,2813.0,2811.0,2738.0,2701.0,2726.0,2665.0,2655.0,2728.0,2715.0,2767.0,null,2711.0,2718.0,2773.0,2855.0,2902.0,3040.0,3155.0,3060.0,3130.0,3010.0,2780.0,2813.0,3000.0,3200.0,3140.0,3105.0,3210.0,3130.0,3345.0,3415.0,3425.0,3520.0,3180.0,3420.0,3470.0,3720.0,3550.0,3405.0,3620.0,3745.0,3915.0,3875.0,3955.0,3780.0,3855.0,4015.0,4050.0,4070.0,3960.0,4000.0,3935.0,3840.0,3715.0,3530.0,3635.0,3690.0,3835.0,3885.0,4045.0,4330.0,4220.0,4305.0,4440.0,4285.0,4230.0,4215.0,4320.0,4450.0,4520.0,4730.0,4755.0,4705.0,4620.0,4680.0,4485.0,4800.0,5130.0,4960.0,5070.0,4835.0,4575.0,4520.0,4620.0,4745.0,4960.0,5020.0,5210.0,5040.0,4825.0,4420.0,4325.0,4215.0,4460.0,4560.0,4480.0,4190.0,4080.0,4280.0,4125.0,4100.0,4120.0,4110.0,4030.0,3880.0,3755.0,3790.0,3635.0,2771.0,2812.0,2910.0,3010.0,2890.0,2900.0,2805.0,2845.0,2815.0,2893.0,2896.0,3040.0,2988.0,3010.0,3130.0,3290.0,3185.0,3210.0,3170.0,3205.0,3105.0,3210.0,3220.0,3200.0,3310.0,3480.0,3490.0,3265.0,3225.0,3370.0,3425.0,3410.0,3580.0,3525.0,3380.0,3310.0,3540.0,3460.0,3385.0,3300.0,3380.0,3480.0,3580.0,3605.0,3635.0,3530.0,3385.0,3370.0,3260.0,3120.0,3070.0,2986.0,3010.0,3000.0,2986.0,3050.0,3150.0,3340.0,3310.0,3440.0,3380.0,3380.0,3440.0,3535.0,3425.0,3370.0,3225.0,3340.0,3395.0,3420.0,3390.0,3420.0,3410.0,3395.0,3565.0,3540.0,3510.0,3515.0,3475.0,3510.0,3635.0,3700.0,3640.0,3770.0,3790.0,3740.0,3780.0,3660.0,3250.0,3415.0,3525.0,3680.0,3910.0,4150.0,4380.0,4360.0,4270.0,4250.0,4215.0,4190.0,4340.0,4575.0,4595.0,4705.0,4675.0,4785.0,4800.0,4865.0,4990.0,4835.0,4725.0,4595.0,4490.0,4390.0,4405.0,4390.0,4225.0,4205.0,4315.0,4415.0,4550.0,4670.0,4590.0,4465.0,4510.0,4430.0,4635.0,4605.0,4660.0,4675.0,4915.0,5240.0,5930.0,5910.0,6010.0,6060.0,5980.0,6020.0,5600.0,5670.0,5540.0,5540.0,5480.0,5330.0,5130.0,4925.0,4850.0,4875.0,4665.0,4615.0,4820.0,4890.0,4870.0,4735.0,4970.0,4985.0,4950.0,4830.0,5470.0,5770.0,6240.0,5940.0,5840.0,6030.0,6080.0,5950.0,6000.0,6100.0,6270.0,6440.0,6240.0,6200.0,6260.0,6120.0,6020.0,6080.0,6270.0,6210.0,6380.0,6550.0,6560.0,6670.0,6580.0,6280.0,6430.0,6450.0,6380.0,6470.0,6120.0,6010.0,5900.0],\"open\":[857.0,875.0,874.0,875.0,870.0,858.0,848.0,756.0,763.0,760.0,753.0,760.0,755.0,756.0,789.0,810.0,815.0,833.0,815.0,813.0,833.0,821.0,826.0,828.0,830.0,826.0,826.0,824.0,831.0,827.0,811.0,804.0,841.0,831.0,830.0,824.0,820.0,822.0,814.0,808.0,811.0,820.0,830.0,819.0,814.0,818.0,814.0,805.0,805.0,806.0,803.0,808.0,813.0,815.0,808.0,810.0,808.0,807.0,818.0,838.0,817.0,840.0,860.0,840.0,832.0,830.0,824.0,834.0,815.0,803.0,796.0,750.0,733.0,747.0,755.0,759.0,765.0,770.0,789.0,789.0,779.0,789.0,786.0,795.0,800.0,823.0,833.0,818.0,807.0,806.0,800.0,777.0,795.0,800.0,809.0,804.0,808.0,820.0,814.0,809.0,802.0,796.0,805.0,804.0,805.0,797.0,799.0,805.0,795.0,800.0,802.0,800.0,803.0,793.0,792.0,789.0,787.0,797.0,793.0,795.0,801.0,807.0,811.0,820.0,833.0,825.0,834.0,826.0,810.0,820.0,822.0,828.0,825.0,805.0,800.0,801.0,817.0,820.0,824.0,828.0,829.0,848.0,854.0,852.0,844.0,843.0,837.0,832.0,831.0,824.0,815.0,801.0,800.0,805.0,806.0,800.0,804.0,799.0,800.0,800.0,806.0,807.0,772.0,763.0,752.0,755.0,753.0,745.0,727.0,725.0,727.0,722.0,737.0,737.0,740.0,730.0,740.0,737.0,751.0,749.0,744.0,754.0,760.0,769.0,776.0,787.0,778.0,780.0,765.0,762.0,775.0,775.0,772.0,771.0,743.0,754.0,750.0,723.0,721.0,723.0,730.0,750.0,737.0,740.0,747.0,744.0,744.0,746.0,746.0,741.0,745.0,742.0,741.0,742.0,742.0,741.0,735.0,730.0,731.0,730.0,733.0,733.0,731.0,730.0,732.0,729.0,732.0,732.0,731.0,728.0,725.0,729.0,725.0,728.0,728.0,722.0,719.0,723.0,723.0,725.0,718.0,719.0,717.0,714.0,715.0,740.0,748.0,755.0,768.0,765.0,771.0,774.0,773.0,783.0,747.0,741.0,738.0,726.0,730.0,741.0,749.0,748.0,746.0,741.0,748.0,748.0,740.0,746.0,741.0,733.0,731.0,706.0,701.0,706.0,698.0,690.0,690.0,704.0,710.0,713.0,712.0,710.0,706.0,706.0,698.0,700.0,694.0,698.0,696.0,689.0,682.0,675.0,680.0,680.0,674.0,676.0,673.0,669.0,668.0,673.0,664.0,650.0,655.0,655.0,657.0,652.0,660.0,659.0,660.0,660.0,659.0,663.0,665.0,665.0,662.0,659.0,682.0,676.0,685.0,712.0,757.0,764.0,795.0,796.0,784.0,793.0,802.0,813.0,810.0,820.0,819.0,829.0,809.0,774.0,795.0,795.0,790.0,798.0,798.0,795.0,785.0,788.0,784.0,781.0,777.0,772.0,799.0,785.0,774.0,777.0,766.0,770.0,773.0,775.0,769.0,772.0,766.0,764.0,760.0,748.0,733.0,728.0,720.0,720.0,734.0,732.0,740.0,738.0,749.0,730.0,717.0,710.0,714.0,728.0,738.0,748.0,749.0,737.0,789.0,798.0,850.0,853.0,846.0,852.0,901.0,898.0,887.0,890.0,882.0,888.0,884.0,893.0,888.0,879.0,880.0,872.0,860.0,840.0,835.0,840.0,821.0,824.0,832.0,824.0,810.0,833.0,838.0,855.0,862.0,776.0,796.0,797.0,794.0,771.0,751.0,759.0,736.0,745.0,741.0,742.0,742.0,742.0,750.0,755.0,777.0,777.0,779.0,751.0,759.0,753.0,768.0,777.0,769.0,771.0,791.0,795.0,791.0,742.0,723.0,870.0,870.0,959.0,995.0,964.0,984.0,975.0,1012.0,990.0,1050.0,1109.0,1186.0,1168.0,1132.0,1138.0,1150.0,1180.0,1186.0,1235.0,1242.0,1215.0,1220.0,1240.0,1231.0,1234.0,1180.0,1188.0,1306.0,1292.0,1244.0,1290.0,1307.0,1285.0,1277.0,1260.0,1345.0,1200.0,1219.0,1161.0,1227.0,1187.0,1198.0,1244.0,1245.0,1274.0,1275.0,1300.0,1295.0,1212.0,1150.0,1218.0,1316.0,1303.0,1230.0,1305.0,1294.0,1327.0,1250.0,1268.0,1342.0,1100.0,1142.0,1156.0,1233.0,1172.0,1172.0,1137.0,1147.0,1140.0,1152.0,1167.0,1121.0,1142.0,1199.0,1192.0,1221.0,1221.0,1198.0,1236.0,1251.0,1212.0,1226.0,1230.0,1210.0,1206.0,1216.0,1248.0,1219.0,1235.0,1252.0,1251.0,1228.0,1231.0,1190.0,1199.0,1137.0,1099.0,1080.0,1084.0,1081.0,1113.0,1140.0,1150.0,1117.0,1142.0,1162.0,1143.0,1142.0,1150.0,1150.0,1095.0,1133.0,1134.0,1101.0,1097.0,1275.0,1278.0,1285.0,1308.0,1302.0,1309.0,1265.0,1265.0,1304.0,1275.0,1349.0,1399.0,1340.0,1341.0,1349.0,1430.0,1460.0,1437.0,1474.0,1427.0,1412.0,1357.0,1355.0,1365.0,1363.0,1341.0,1302.0,1287.0,1289.0,1291.0,1303.0,1305.0,1269.0,1301.0,1294.0,1283.0,1222.0,1294.0,1366.0,1308.0,1350.0,1373.0,1373.0,1253.0,1186.0,1258.0,1150.0,1098.0,1112.0,1155.0,1170.0,1180.0,1109.0,1086.0,1108.0,1119.0,1137.0,1130.0,1124.0,1142.0,1151.0,1146.0,1175.0,1114.0,1148.0,1080.0,1096.0,1089.0,1033.0,1071.0,1095.0,1106.0,1095.0,1076.0,1111.0,1115.0,1136.0,1165.0,1163.0,1175.0,1168.0,1233.0,1239.0,1207.0,1174.0,1209.0,1189.0,1178.0,1177.0,1186.0,1178.0,1179.0,1165.0,1141.0,1175.0,1181.0,1124.0,1181.0,1212.0,1218.0,1204.0,1209.0,1196.0,1219.0,1194.0,1199.0,1210.0,1210.0,1222.0,1218.0,1244.0,1279.0,1289.0,1274.0,1310.0,1312.0,1335.0,1339.0,1347.0,1381.0,1346.0,1351.0,1333.0,1348.0,1366.0,1376.0,1335.0,1285.0,1242.0,1261.0,1250.0,1299.0,1338.0,1451.0,1451.0,1520.0,1555.0,1546.0,1574.0,1518.0,1471.0,1451.0,1490.0,1450.0,1449.0,1440.0,1441.0,1438.0,1451.0,1456.0,1481.0,1481.0,1491.0,1520.0,1508.0,1521.0,1513.0,1498.0,1479.0,1525.0,1590.0,1608.0,1615.0,1649.0,1580.0,1630.0,1600.0,1647.0,1657.0,1680.0,1732.0,1748.0,1799.0,1770.0,1782.0,1776.0,1790.0,1810.0,1826.0,1804.0,1824.0,1837.0,1829.0,1782.0,1758.0,1907.0,1870.0,1898.0,1880.0,1800.0,1771.0,1696.0,1678.0,1600.0,1645.0,1679.0,1632.0,1647.0,1724.0,1760.0,1744.0,1738.0,1744.0,1713.0,1746.0,1761.0,1789.0,1800.0,1774.0,1780.0,1842.0,1844.0,1783.0,1756.0,1318.0,1206.0,1197.0,1368.0,1252.0,1318.0,1269.0,1180.0,1088.0,1201.0,1174.0,1021.0,1060.0,1137.0,1267.0,1328.0,1270.0,1331.0,1350.0,1322.0,1358.0,1327.0,1434.0,1392.0,1321.0,1332.0,1282.0,1341.0,1366.0,1409.0,1400.0,1382.0,1320.0,1316.0,1370.0,1340.0,1341.0,1432.0,1461.0,1608.0,1670.0,1690.0,1697.0,1750.0,1769.0,1844.0,1800.0,1832.0,1841.0,1866.0,1885.0,1782.0,1776.0,1818.0,1817.0,1816.0,1807.0,1871.0,1846.0,1826.0,1821.0,1917.0,2000.0,1992.0,2050.0,1987.0,1939.0,1860.0,1819.0,1752.0,1832.0,1715.0,1743.0,1812.0,1821.0,1910.0,1971.0,2065.0,2303.0,2241.0,2245.0,2234.0,2255.0,2238.0,2171.0,2130.0,2109.0,2180.0,2171.0,2253.0,2172.0,2225.0,2198.0,2146.0,2079.0,2144.0,2259.0,2287.0,2288.0,2306.0,2240.0,2255.0,2266.0,2330.0,2454.0,2495.0,2499.0,2500.0,2495.0,2484.0,2400.0,2425.0,2433.0,2474.0,2590.0,2608.0,2663.0,2678.0,2663.0,2669.0,2800.0,2877.0,3000.0,2855.0,2808.0,2888.0,2932.0,2997.0,2850.0,2849.0,2773.0,2764.0,2819.0,2731.0,2775.0,2850.0,2892.0,2823.0,2754.0,2745.0,2722.0,2698.0,2799.0,2801.0,2780.0,null,2813.0,2774.0,2780.0,2899.0,2946.0,3045.0,3200.0,3250.0,3200.0,3205.0,2996.0,2900.0,3000.0,3350.0,3350.0,3300.0,3385.0,3200.0,3420.0,3550.0,3500.0,3550.0,3625.0,3500.0,3595.0,3900.0,3810.0,3515.0,3685.0,3820.0,4075.0,4000.0,4090.0,3895.0,3890.0,4065.0,4185.0,4180.0,4125.0,4095.0,4080.0,3935.0,3880.0,3715.0,3800.0,3760.0,3980.0,3945.0,4045.0,4370.0,4470.0,4400.0,4600.0,4595.0,4315.0,4225.0,4390.0,4490.0,4560.0,4850.0,4760.0,4790.0,4815.0,4755.0,4675.0,4800.0,5260.0,5140.0,5190.0,5170.0,4910.0,4550.0,4925.0,4770.0,5080.0,5100.0,5370.0,5180.0,5000.0,4695.0,4565.0,4305.0,4600.0,4645.0,4600.0,4500.0,4225.0,4310.0,4320.0,4130.0,4180.0,4135.0,4100.0,4035.0,3785.0,3815.0,3825.0,2884.0,2812.0,3150.0,3105.0,3040.0,2900.0,2920.0,3020.0,2840.0,2930.0,2896.0,3075.0,3180.0,3025.0,3130.0,3340.0,3290.0,3220.0,3250.0,3240.0,3200.0,3260.0,3310.0,3270.0,3320.0,3515.0,3585.0,3525.0,3345.0,3415.0,3535.0,3480.0,3710.0,3600.0,3570.0,3375.0,3620.0,3525.0,3450.0,3385.0,3380.0,3485.0,3585.0,3705.0,3665.0,3630.0,3505.0,3415.0,3340.0,3260.0,3185.0,3010.0,3075.0,3100.0,3040.0,3100.0,3150.0,3350.0,3325.0,3465.0,3435.0,3380.0,3485.0,3555.0,3510.0,3460.0,3330.0,3390.0,3440.0,3420.0,3490.0,3435.0,3410.0,3445.0,3600.0,3585.0,3610.0,3550.0,3505.0,3565.0,3670.0,3755.0,3700.0,3780.0,3795.0,3865.0,3905.0,3735.0,3500.0,3495.0,3540.0,3685.0,3950.0,4200.0,4410.0,4420.0,4465.0,4330.0,4300.0,4235.0,4390.0,4670.0,4695.0,4850.0,4785.0,4810.0,4915.0,4880.0,5240.0,5080.0,4920.0,4725.0,4720.0,4675.0,4420.0,4495.0,4390.0,4235.0,4315.0,4490.0,4565.0,4795.0,4700.0,4730.0,4540.0,4630.0,4650.0,4905.0,4690.0,4710.0,5010.0,5550.0,6110.0,5920.0,6100.0,6330.0,6120.0,6140.0,5870.0,5680.0,5600.0,5770.0,5760.0,5520.0,5320.0,5150.0,4990.0,4885.0,4965.0,4650.0,4835.0,4890.0,5130.0,5000.0,5040.0,4995.0,5030.0,4975.0,5480.0,5840.0,6320.0,6210.0,5870.0,6040.0,6280.0,6180.0,6090.0,6150.0,6380.0,6570.0,6590.0,6280.0,6400.0,6310.0,6070.0,6160.0,6440.0,6430.0,6420.0,6700.0,6630.0,6800.0,6710.0,6530.0,6490.0,6650.0,6400.0,6580.0,6560.0,6230.0,6030.0],\"x\":[\"2017-01-04\",\"2017-01-05\",\"2017-01-06\",\"2017-01-10\",\"2017-01-11\",\"2017-01-12\",\"2017-01-13\",\"2017-01-16\",\"2017-01-17\",\"2017-01-18\",\"2017-01-19\",\"2017-01-20\",\"2017-01-23\",\"2017-01-24\",\"2017-01-25\",\"2017-01-26\",\"2017-01-27\",\"2017-01-30\",\"2017-01-31\",\"2017-02-01\",\"2017-02-02\",\"2017-02-03\",\"2017-02-06\",\"2017-02-07\",\"2017-02-08\",\"2017-02-09\",\"2017-02-10\",\"2017-02-13\",\"2017-02-14\",\"2017-02-15\",\"2017-02-16\",\"2017-02-17\",\"2017-02-20\",\"2017-02-21\",\"2017-02-22\",\"2017-02-23\",\"2017-02-24\",\"2017-02-27\",\"2017-02-28\",\"2017-03-01\",\"2017-03-02\",\"2017-03-03\",\"2017-03-06\",\"2017-03-07\",\"2017-03-08\",\"2017-03-09\",\"2017-03-10\",\"2017-03-13\",\"2017-03-14\",\"2017-03-15\",\"2017-03-16\",\"2017-03-17\",\"2017-03-21\",\"2017-03-22\",\"2017-03-23\",\"2017-03-24\",\"2017-03-27\",\"2017-03-28\",\"2017-03-29\",\"2017-03-30\",\"2017-03-31\",\"2017-04-03\",\"2017-04-04\",\"2017-04-05\",\"2017-04-06\",\"2017-04-07\",\"2017-04-10\",\"2017-04-11\",\"2017-04-12\",\"2017-04-13\",\"2017-04-14\",\"2017-04-17\",\"2017-04-18\",\"2017-04-19\",\"2017-04-20\",\"2017-04-21\",\"2017-04-24\",\"2017-04-25\",\"2017-04-26\",\"2017-04-27\",\"2017-04-28\",\"2017-05-01\",\"2017-05-02\",\"2017-05-08\",\"2017-05-09\",\"2017-05-10\",\"2017-05-11\",\"2017-05-12\",\"2017-05-15\",\"2017-05-16\",\"2017-05-17\",\"2017-05-18\",\"2017-05-19\",\"2017-05-22\",\"2017-05-23\",\"2017-05-24\",\"2017-05-25\",\"2017-05-26\",\"2017-05-29\",\"2017-05-30\",\"2017-05-31\",\"2017-06-01\",\"2017-06-02\",\"2017-06-05\",\"2017-06-06\",\"2017-06-07\",\"2017-06-08\",\"2017-06-09\",\"2017-06-12\",\"2017-06-13\",\"2017-06-14\",\"2017-06-15\",\"2017-06-16\",\"2017-06-19\",\"2017-06-20\",\"2017-06-21\",\"2017-06-22\",\"2017-06-23\",\"2017-06-26\",\"2017-06-27\",\"2017-06-28\",\"2017-06-29\",\"2017-06-30\",\"2017-07-03\",\"2017-07-04\",\"2017-07-05\",\"2017-07-06\",\"2017-07-07\",\"2017-07-10\",\"2017-07-11\",\"2017-07-12\",\"2017-07-13\",\"2017-07-14\",\"2017-07-18\",\"2017-07-19\",\"2017-07-20\",\"2017-07-21\",\"2017-07-24\",\"2017-07-25\",\"2017-07-26\",\"2017-07-27\",\"2017-07-28\",\"2017-07-31\",\"2017-08-01\",\"2017-08-02\",\"2017-08-03\",\"2017-08-04\",\"2017-08-07\",\"2017-08-08\",\"2017-08-09\",\"2017-08-10\",\"2017-08-14\",\"2017-08-15\",\"2017-08-16\",\"2017-08-17\",\"2017-08-18\",\"2017-08-21\",\"2017-08-22\",\"2017-08-23\",\"2017-08-24\",\"2017-08-25\",\"2017-08-28\",\"2017-08-29\",\"2017-08-30\",\"2017-08-31\",\"2017-09-01\",\"2017-09-04\",\"2017-09-05\",\"2017-09-06\",\"2017-09-07\",\"2017-09-08\",\"2017-09-11\",\"2017-09-12\",\"2017-09-13\",\"2017-09-14\",\"2017-09-15\",\"2017-09-19\",\"2017-09-20\",\"2017-09-21\",\"2017-09-22\",\"2017-09-25\",\"2017-09-26\",\"2017-09-27\",\"2017-09-28\",\"2017-09-29\",\"2017-10-02\",\"2017-10-03\",\"2017-10-04\",\"2017-10-05\",\"2017-10-06\",\"2017-10-10\",\"2017-10-11\",\"2017-10-12\",\"2017-10-13\",\"2017-10-16\",\"2017-10-17\",\"2017-10-18\",\"2017-10-19\",\"2017-10-20\",\"2017-10-23\",\"2017-10-24\",\"2017-10-25\",\"2017-10-26\",\"2017-10-27\",\"2017-10-30\",\"2017-10-31\",\"2017-11-01\",\"2017-11-02\",\"2017-11-06\",\"2017-11-07\",\"2017-11-08\",\"2017-11-09\",\"2017-11-10\",\"2017-11-13\",\"2017-11-14\",\"2017-11-15\",\"2017-11-16\",\"2017-11-17\",\"2017-11-20\",\"2017-11-21\",\"2017-11-22\",\"2017-11-24\",\"2017-11-27\",\"2017-11-28\",\"2017-11-29\",\"2017-11-30\",\"2017-12-01\",\"2017-12-04\",\"2017-12-05\",\"2017-12-06\",\"2017-12-07\",\"2017-12-08\",\"2017-12-11\",\"2017-12-12\",\"2017-12-13\",\"2017-12-14\",\"2017-12-15\",\"2017-12-18\",\"2017-12-19\",\"2017-12-20\",\"2017-12-21\",\"2017-12-22\",\"2017-12-25\",\"2017-12-26\",\"2017-12-27\",\"2017-12-28\",\"2017-12-29\",\"2018-01-04\",\"2018-01-05\",\"2018-01-09\",\"2018-01-10\",\"2018-01-11\",\"2018-01-12\",\"2018-01-15\",\"2018-01-16\",\"2018-01-17\",\"2018-01-18\",\"2018-01-19\",\"2018-01-22\",\"2018-01-23\",\"2018-01-24\",\"2018-01-25\",\"2018-01-26\",\"2018-01-29\",\"2018-01-30\",\"2018-01-31\",\"2018-02-01\",\"2018-02-02\",\"2018-02-05\",\"2018-02-06\",\"2018-02-07\",\"2018-02-08\",\"2018-02-09\",\"2018-02-13\",\"2018-02-14\",\"2018-02-15\",\"2018-02-16\",\"2018-02-19\",\"2018-02-20\",\"2018-02-21\",\"2018-02-22\",\"2018-02-23\",\"2018-02-26\",\"2018-02-27\",\"2018-02-28\",\"2018-03-01\",\"2018-03-02\",\"2018-03-05\",\"2018-03-06\",\"2018-03-07\",\"2018-03-08\",\"2018-03-09\",\"2018-03-12\",\"2018-03-13\",\"2018-03-14\",\"2018-03-15\",\"2018-03-16\",\"2018-03-19\",\"2018-03-20\",\"2018-03-22\",\"2018-03-23\",\"2018-03-26\",\"2018-03-27\",\"2018-03-28\",\"2018-03-29\",\"2018-03-30\",\"2018-04-02\",\"2018-04-03\",\"2018-04-04\",\"2018-04-05\",\"2018-04-06\",\"2018-04-09\",\"2018-04-10\",\"2018-04-11\",\"2018-04-12\",\"2018-04-13\",\"2018-04-16\",\"2018-04-17\",\"2018-04-18\",\"2018-04-19\",\"2018-04-20\",\"2018-04-23\",\"2018-04-24\",\"2018-04-25\",\"2018-04-26\",\"2018-04-27\",\"2018-05-01\",\"2018-05-02\",\"2018-05-07\",\"2018-05-08\",\"2018-05-09\",\"2018-05-10\",\"2018-05-11\",\"2018-05-14\",\"2018-05-15\",\"2018-05-16\",\"2018-05-17\",\"2018-05-18\",\"2018-05-21\",\"2018-05-22\",\"2018-05-23\",\"2018-05-24\",\"2018-05-25\",\"2018-05-28\",\"2018-05-29\",\"2018-05-30\",\"2018-05-31\",\"2018-06-01\",\"2018-06-04\",\"2018-06-05\",\"2018-06-06\",\"2018-06-07\",\"2018-06-08\",\"2018-06-11\",\"2018-06-12\",\"2018-06-13\",\"2018-06-14\",\"2018-06-15\",\"2018-06-18\",\"2018-06-19\",\"2018-06-20\",\"2018-06-21\",\"2018-06-22\",\"2018-06-25\",\"2018-06-26\",\"2018-06-27\",\"2018-06-28\",\"2018-06-29\",\"2018-07-02\",\"2018-07-03\",\"2018-07-04\",\"2018-07-05\",\"2018-07-06\",\"2018-07-09\",\"2018-07-10\",\"2018-07-11\",\"2018-07-12\",\"2018-07-13\",\"2018-07-17\",\"2018-07-18\",\"2018-07-19\",\"2018-07-20\",\"2018-07-23\",\"2018-07-24\",\"2018-07-25\",\"2018-07-26\",\"2018-07-27\",\"2018-07-30\",\"2018-07-31\",\"2018-08-01\",\"2018-08-02\",\"2018-08-03\",\"2018-08-06\",\"2018-08-07\",\"2018-08-08\",\"2018-08-09\",\"2018-08-10\",\"2018-08-13\",\"2018-08-14\",\"2018-08-15\",\"2018-08-16\",\"2018-08-17\",\"2018-08-20\",\"2018-08-21\",\"2018-08-22\",\"2018-08-23\",\"2018-08-24\",\"2018-08-27\",\"2018-08-28\",\"2018-08-29\",\"2018-08-30\",\"2018-08-31\",\"2018-09-03\",\"2018-09-04\",\"2018-09-05\",\"2018-09-06\",\"2018-09-07\",\"2018-09-10\",\"2018-09-11\",\"2018-09-12\",\"2018-09-13\",\"2018-09-14\",\"2018-09-18\",\"2018-09-19\",\"2018-09-20\",\"2018-09-21\",\"2018-09-25\",\"2018-09-26\",\"2018-09-27\",\"2018-09-28\",\"2018-10-01\",\"2018-10-02\",\"2018-10-03\",\"2018-10-04\",\"2018-10-05\",\"2018-10-09\",\"2018-10-10\",\"2018-10-11\",\"2018-10-12\",\"2018-10-15\",\"2018-10-16\",\"2018-10-17\",\"2018-10-18\",\"2018-10-19\",\"2018-10-22\",\"2018-10-23\",\"2018-10-24\",\"2018-10-25\",\"2018-10-26\",\"2018-10-29\",\"2018-10-30\",\"2018-10-31\",\"2018-11-01\",\"2018-11-02\",\"2018-11-05\",\"2018-11-06\",\"2018-11-07\",\"2018-11-08\",\"2018-11-09\",\"2018-11-12\",\"2018-11-13\",\"2018-11-14\",\"2018-11-15\",\"2018-11-16\",\"2018-11-19\",\"2018-11-20\",\"2018-11-21\",\"2018-11-22\",\"2018-11-26\",\"2018-11-27\",\"2018-11-28\",\"2018-11-29\",\"2018-11-30\",\"2018-12-03\",\"2018-12-04\",\"2018-12-05\",\"2018-12-06\",\"2018-12-07\",\"2018-12-10\",\"2018-12-11\",\"2018-12-12\",\"2018-12-13\",\"2018-12-14\",\"2018-12-17\",\"2018-12-18\",\"2018-12-19\",\"2018-12-20\",\"2018-12-21\",\"2018-12-25\",\"2018-12-26\",\"2018-12-27\",\"2018-12-28\",\"2019-01-04\",\"2019-01-07\",\"2019-01-08\",\"2019-01-09\",\"2019-01-10\",\"2019-01-11\",\"2019-01-15\",\"2019-01-16\",\"2019-01-17\",\"2019-01-18\",\"2019-01-21\",\"2019-01-22\",\"2019-01-23\",\"2019-01-24\",\"2019-01-25\",\"2019-01-28\",\"2019-01-29\",\"2019-01-30\",\"2019-01-31\",\"2019-02-01\",\"2019-02-04\",\"2019-02-05\",\"2019-02-06\",\"2019-02-07\",\"2019-02-08\",\"2019-02-12\",\"2019-02-13\",\"2019-02-14\",\"2019-02-15\",\"2019-02-18\",\"2019-02-19\",\"2019-02-20\",\"2019-02-21\",\"2019-02-22\",\"2019-02-25\",\"2019-02-26\",\"2019-02-27\",\"2019-02-28\",\"2019-03-01\",\"2019-03-04\",\"2019-03-05\",\"2019-03-06\",\"2019-03-07\",\"2019-03-08\",\"2019-03-11\",\"2019-03-12\",\"2019-03-13\",\"2019-03-14\",\"2019-03-15\",\"2019-03-18\",\"2019-03-19\",\"2019-03-20\",\"2019-03-22\",\"2019-03-25\",\"2019-03-26\",\"2019-03-27\",\"2019-03-28\",\"2019-03-29\",\"2019-04-01\",\"2019-04-02\",\"2019-04-03\",\"2019-04-04\",\"2019-04-05\",\"2019-04-08\",\"2019-04-09\",\"2019-04-10\",\"2019-04-11\",\"2019-04-12\",\"2019-04-15\",\"2019-04-16\",\"2019-04-17\",\"2019-04-18\",\"2019-04-19\",\"2019-04-22\",\"2019-04-23\",\"2019-04-24\",\"2019-04-25\",\"2019-04-26\",\"2019-05-07\",\"2019-05-08\",\"2019-05-09\",\"2019-05-10\",\"2019-05-13\",\"2019-05-14\",\"2019-05-15\",\"2019-05-16\",\"2019-05-17\",\"2019-05-20\",\"2019-05-21\",\"2019-05-22\",\"2019-05-23\",\"2019-05-24\",\"2019-05-27\",\"2019-05-28\",\"2019-05-29\",\"2019-05-30\",\"2019-05-31\",\"2019-06-03\",\"2019-06-04\",\"2019-06-05\",\"2019-06-06\",\"2019-06-07\",\"2019-06-10\",\"2019-06-11\",\"2019-06-12\",\"2019-06-13\",\"2019-06-14\",\"2019-06-17\",\"2019-06-18\",\"2019-06-19\",\"2019-06-20\",\"2019-06-21\",\"2019-06-24\",\"2019-06-25\",\"2019-06-26\",\"2019-06-27\",\"2019-06-28\",\"2019-07-01\",\"2019-07-02\",\"2019-07-03\",\"2019-07-04\",\"2019-07-05\",\"2019-07-08\",\"2019-07-09\",\"2019-07-10\",\"2019-07-11\",\"2019-07-12\",\"2019-07-16\",\"2019-07-17\",\"2019-07-18\",\"2019-07-19\",\"2019-07-22\",\"2019-07-23\",\"2019-07-24\",\"2019-07-25\",\"2019-07-26\",\"2019-07-29\",\"2019-07-30\",\"2019-07-31\",\"2019-08-01\",\"2019-08-02\",\"2019-08-05\",\"2019-08-06\",\"2019-08-07\",\"2019-08-08\",\"2019-08-09\",\"2019-08-13\",\"2019-08-14\",\"2019-08-15\",\"2019-08-16\",\"2019-08-19\",\"2019-08-20\",\"2019-08-21\",\"2019-08-22\",\"2019-08-23\",\"2019-08-26\",\"2019-08-27\",\"2019-08-28\",\"2019-08-29\",\"2019-08-30\",\"2019-09-02\",\"2019-09-03\",\"2019-09-04\",\"2019-09-05\",\"2019-09-06\",\"2019-09-09\",\"2019-09-10\",\"2019-09-11\",\"2019-09-12\",\"2019-09-13\",\"2019-09-17\",\"2019-09-18\",\"2019-09-19\",\"2019-09-20\",\"2019-09-24\",\"2019-09-25\",\"2019-09-26\",\"2019-09-27\",\"2019-09-30\",\"2019-10-01\",\"2019-10-02\",\"2019-10-03\",\"2019-10-04\",\"2019-10-07\",\"2019-10-08\",\"2019-10-09\",\"2019-10-10\",\"2019-10-11\",\"2019-10-15\",\"2019-10-16\",\"2019-10-17\",\"2019-10-18\",\"2019-10-21\",\"2019-10-23\",\"2019-10-24\",\"2019-10-25\",\"2019-10-28\",\"2019-10-29\",\"2019-10-30\",\"2019-10-31\",\"2019-11-01\",\"2019-11-05\",\"2019-11-06\",\"2019-11-07\",\"2019-11-08\",\"2019-11-11\",\"2019-11-12\",\"2019-11-13\",\"2019-11-14\",\"2019-11-15\",\"2019-11-18\",\"2019-11-19\",\"2019-11-20\",\"2019-11-21\",\"2019-11-22\",\"2019-11-25\",\"2019-11-26\",\"2019-11-27\",\"2019-11-28\",\"2019-11-29\",\"2019-12-02\",\"2019-12-03\",\"2019-12-04\",\"2019-12-05\",\"2019-12-06\",\"2019-12-09\",\"2019-12-10\",\"2019-12-11\",\"2019-12-12\",\"2019-12-13\",\"2019-12-16\",\"2019-12-17\",\"2019-12-18\",\"2019-12-19\",\"2019-12-20\",\"2019-12-23\",\"2019-12-24\",\"2019-12-25\",\"2019-12-26\",\"2019-12-27\",\"2019-12-30\",\"2020-01-06\",\"2020-01-07\",\"2020-01-08\",\"2020-01-09\",\"2020-01-10\",\"2020-01-14\",\"2020-01-15\",\"2020-01-16\",\"2020-01-17\",\"2020-01-20\",\"2020-01-21\",\"2020-01-22\",\"2020-01-23\",\"2020-01-24\",\"2020-01-27\",\"2020-01-28\",\"2020-01-29\",\"2020-01-30\",\"2020-01-31\",\"2020-02-03\",\"2020-02-04\",\"2020-02-05\",\"2020-02-06\",\"2020-02-07\",\"2020-02-10\",\"2020-02-12\",\"2020-02-13\",\"2020-02-14\",\"2020-02-17\",\"2020-02-18\",\"2020-02-19\",\"2020-02-20\",\"2020-02-21\",\"2020-02-25\",\"2020-02-26\",\"2020-02-27\",\"2020-02-28\",\"2020-03-02\",\"2020-03-03\",\"2020-03-04\",\"2020-03-05\",\"2020-03-06\",\"2020-03-09\",\"2020-03-10\",\"2020-03-11\",\"2020-03-12\",\"2020-03-13\",\"2020-03-16\",\"2020-03-17\",\"2020-03-18\",\"2020-03-19\",\"2020-03-23\",\"2020-03-24\",\"2020-03-25\",\"2020-03-26\",\"2020-03-27\",\"2020-03-30\",\"2020-03-31\",\"2020-04-01\",\"2020-04-02\",\"2020-04-03\",\"2020-04-06\",\"2020-04-07\",\"2020-04-08\",\"2020-04-09\",\"2020-04-10\",\"2020-04-13\",\"2020-04-14\",\"2020-04-15\",\"2020-04-16\",\"2020-04-17\",\"2020-04-20\",\"2020-04-21\",\"2020-04-22\",\"2020-04-23\",\"2020-04-24\",\"2020-04-27\",\"2020-04-28\",\"2020-04-30\",\"2020-05-01\",\"2020-05-07\",\"2020-05-08\",\"2020-05-11\",\"2020-05-12\",\"2020-05-13\",\"2020-05-14\",\"2020-05-15\",\"2020-05-18\",\"2020-05-19\",\"2020-05-20\",\"2020-05-21\",\"2020-05-22\",\"2020-05-25\",\"2020-05-26\",\"2020-05-27\",\"2020-05-28\",\"2020-05-29\",\"2020-06-01\",\"2020-06-02\",\"2020-06-03\",\"2020-06-04\",\"2020-06-05\",\"2020-06-08\",\"2020-06-09\",\"2020-06-10\",\"2020-06-11\",\"2020-06-12\",\"2020-06-15\",\"2020-06-16\",\"2020-06-17\",\"2020-06-18\",\"2020-06-19\",\"2020-06-22\",\"2020-06-23\",\"2020-06-24\",\"2020-06-25\",\"2020-06-26\",\"2020-06-29\",\"2020-06-30\",\"2020-07-01\",\"2020-07-02\",\"2020-07-03\",\"2020-07-06\",\"2020-07-07\",\"2020-07-08\",\"2020-07-09\",\"2020-07-10\",\"2020-07-13\",\"2020-07-14\",\"2020-07-15\",\"2020-07-16\",\"2020-07-17\",\"2020-07-20\",\"2020-07-21\",\"2020-07-22\",\"2020-07-27\",\"2020-07-28\",\"2020-07-29\",\"2020-07-30\",\"2020-07-31\",\"2020-08-03\",\"2020-08-04\",\"2020-08-05\",\"2020-08-06\",\"2020-08-07\",\"2020-08-11\",\"2020-08-12\",\"2020-08-13\",\"2020-08-14\",\"2020-08-17\",\"2020-08-18\",\"2020-08-19\",\"2020-08-20\",\"2020-08-21\",\"2020-08-24\",\"2020-08-25\",\"2020-08-26\",\"2020-08-27\",\"2020-08-28\",\"2020-08-31\",\"2020-09-01\",\"2020-09-02\",\"2020-09-03\",\"2020-09-04\",\"2020-09-07\",\"2020-09-08\",\"2020-09-09\",\"2020-09-10\",\"2020-09-11\",\"2020-09-14\",\"2020-09-15\",\"2020-09-16\",\"2020-09-17\",\"2020-09-18\",\"2020-09-23\",\"2020-09-24\",\"2020-09-25\",\"2020-09-28\",\"2020-09-29\",\"2020-09-30\",\"2020-10-01\",\"2020-10-02\",\"2020-10-05\",\"2020-10-06\",\"2020-10-07\",\"2020-10-08\",\"2020-10-09\",\"2020-10-12\",\"2020-10-13\",\"2020-10-14\",\"2020-10-15\",\"2020-10-16\",\"2020-10-19\",\"2020-10-20\",\"2020-10-21\",\"2020-10-22\",\"2020-10-23\",\"2020-10-26\",\"2020-10-27\",\"2020-10-28\",\"2020-10-29\",\"2020-10-30\",\"2020-11-02\",\"2020-11-04\",\"2020-11-05\",\"2020-11-06\",\"2020-11-09\",\"2020-11-10\",\"2020-11-11\",\"2020-11-12\",\"2020-11-13\",\"2020-11-16\",\"2020-11-17\",\"2020-11-18\",\"2020-11-19\",\"2020-11-20\",\"2020-11-24\",\"2020-11-25\",\"2020-11-26\",\"2020-11-27\",\"2020-11-30\",\"2020-12-01\",\"2020-12-02\",\"2020-12-03\",\"2020-12-04\",\"2020-12-07\",\"2020-12-08\",\"2020-12-09\",\"2020-12-10\",\"2020-12-11\",\"2020-12-14\",\"2020-12-15\",\"2020-12-16\",\"2020-12-17\",\"2020-12-18\",\"2020-12-21\",\"2020-12-22\",\"2020-12-23\",\"2020-12-24\",\"2020-12-25\",\"2020-12-28\",\"2020-12-29\",\"2020-12-30\",\"2021-01-04\",\"2021-01-05\",\"2021-01-06\",\"2021-01-07\",\"2021-01-08\",\"2021-01-12\",\"2021-01-13\",\"2021-01-14\",\"2021-01-15\",\"2021-01-18\",\"2021-01-19\",\"2021-01-20\",\"2021-01-21\",\"2021-01-22\",\"2021-01-25\",\"2021-01-26\",\"2021-01-27\",\"2021-01-28\",\"2021-01-29\",\"2021-02-01\",\"2021-02-02\",\"2021-02-03\",\"2021-02-04\",\"2021-02-05\",\"2021-02-08\",\"2021-02-09\",\"2021-02-10\",\"2021-02-12\",\"2021-02-15\",\"2021-02-16\",\"2021-02-17\",\"2021-02-18\",\"2021-02-19\",\"2021-02-22\",\"2021-02-24\",\"2021-02-25\",\"2021-02-26\",\"2021-03-01\",\"2021-03-02\",\"2021-03-03\",\"2021-03-04\",\"2021-03-05\",\"2021-03-08\",\"2021-03-09\",\"2021-03-10\",\"2021-03-11\",\"2021-03-12\",\"2021-03-15\",\"2021-03-16\",\"2021-03-17\",\"2021-03-18\",\"2021-03-19\",\"2021-03-22\",\"2021-03-23\",\"2021-03-24\",\"2021-03-25\",\"2021-03-26\",\"2021-03-29\",\"2021-03-30\",\"2021-03-31\",\"2021-04-01\",\"2021-04-02\",\"2021-04-05\",\"2021-04-06\",\"2021-04-07\",\"2021-04-08\",\"2021-04-09\",\"2021-04-12\",\"2021-04-13\",\"2021-04-14\",\"2021-04-15\",\"2021-04-16\",\"2021-04-19\",\"2021-04-20\",\"2021-04-21\",\"2021-04-22\",\"2021-04-23\",\"2021-04-26\",\"2021-04-27\",\"2021-04-28\",\"2021-04-30\",\"2021-05-06\",\"2021-05-07\",\"2021-05-10\",\"2021-05-11\",\"2021-05-12\",\"2021-05-13\",\"2021-05-14\",\"2021-05-17\",\"2021-05-18\",\"2021-05-19\",\"2021-05-20\",\"2021-05-21\",\"2021-05-24\",\"2021-05-25\",\"2021-05-26\",\"2021-05-27\",\"2021-05-28\",\"2021-05-31\",\"2021-06-01\",\"2021-06-02\",\"2021-06-03\",\"2021-06-04\",\"2021-06-07\",\"2021-06-08\",\"2021-06-09\",\"2021-06-10\",\"2021-06-11\",\"2021-06-14\",\"2021-06-15\",\"2021-06-16\",\"2021-06-17\",\"2021-06-18\",\"2021-06-21\",\"2021-06-22\",\"2021-06-23\",\"2021-06-24\",\"2021-06-25\",\"2021-06-28\",\"2021-06-29\",\"2021-06-30\",\"2021-07-01\",\"2021-07-02\",\"2021-07-05\",\"2021-07-06\",\"2021-07-07\",\"2021-07-08\",\"2021-07-09\",\"2021-07-12\",\"2021-07-13\",\"2021-07-14\",\"2021-07-15\",\"2021-07-16\",\"2021-07-19\",\"2021-07-20\",\"2021-07-21\",\"2021-07-26\",\"2021-07-27\",\"2021-07-28\",\"2021-07-29\",\"2021-07-30\",\"2021-08-02\",\"2021-08-03\",\"2021-08-04\",\"2021-08-05\",\"2021-08-06\",\"2021-08-10\",\"2021-08-11\",\"2021-08-12\",\"2021-08-13\",\"2021-08-16\",\"2021-08-17\",\"2021-08-18\",\"2021-08-19\",\"2021-08-20\",\"2021-08-23\",\"2021-08-24\",\"2021-08-25\",\"2021-08-26\",\"2021-08-27\",\"2021-08-30\",\"2021-08-31\",\"2021-09-01\",\"2021-09-02\",\"2021-09-03\",\"2021-09-06\",\"2021-09-07\",\"2021-09-08\",\"2021-09-09\",\"2021-09-10\",\"2021-09-13\",\"2021-09-14\",\"2021-09-15\",\"2021-09-16\",\"2021-09-17\",\"2021-09-21\",\"2021-09-22\",\"2021-09-24\",\"2021-09-27\",\"2021-09-28\",\"2021-09-29\",\"2021-09-30\",\"2021-10-01\",\"2021-10-04\",\"2021-10-05\",\"2021-10-06\",\"2021-10-07\",\"2021-10-08\",\"2021-10-11\",\"2021-10-12\",\"2021-10-13\",\"2021-10-14\",\"2021-10-15\",\"2021-10-18\",\"2021-10-19\",\"2021-10-20\",\"2021-10-21\",\"2021-10-22\",\"2021-10-25\",\"2021-10-26\",\"2021-10-27\",\"2021-10-28\",\"2021-10-29\",\"2021-11-01\",\"2021-11-02\",\"2021-11-04\",\"2021-11-05\",\"2021-11-08\",\"2021-11-09\",\"2021-11-10\",\"2021-11-11\",\"2021-11-12\",\"2021-11-15\",\"2021-11-16\",\"2021-11-17\",\"2021-11-18\",\"2021-11-19\",\"2021-11-22\",\"2021-11-24\",\"2021-11-25\",\"2021-11-26\",\"2021-11-29\",\"2021-11-30\",\"2021-12-01\",\"2021-12-02\",\"2021-12-03\"],\"type\":\"candlestick\"},{\"close\":[5050.0,5030.0,5030.0,4960.0,4985.0,4940.0,4925.0,4915.0,4845.0,4870.0,4845.0,4860.0,4815.0,4820.0,4865.0,4875.0,4870.0,4870.0,4795.0,4865.0,4750.0,4785.0,4805.0,4810.0,4825.0,4760.0,4840.0,4885.0,5020.0,5000.0,5010.0,5000.0,5000.0,4980.0,4965.0,4930.0,4895.0,4890.0,4860.0,4870.0,4965.0,4905.0,4880.0,4935.0,4965.0,4980.0,5010.0,5030.0,5010.0,5010.0,4990.0,5000.0,4990.0,4945.0,4870.0,4965.0,4950.0,5030.0,4995.0,4880.0,4895.0,4910.0,4945.0,4975.0,4905.0,4930.0,4975.0,4940.0,4915.0,4900.0,4805.0,4895.0,4965.0,4960.0,4965.0,4975.0,5020.0,5080.0,5090.0,5060.0,5100.0,5110.0,5090.0,5210.0,5190.0,5180.0,5100.0,5120.0,5180.0,5170.0,5210.0,5220.0,5180.0,5180.0,5200.0,5220.0,5300.0,5280.0,5290.0,5360.0,5330.0,5430.0,5450.0,5510.0,5530.0,5640.0,5630.0,5660.0,5810.0,5770.0,5690.0,5740.0,5710.0,5780.0,5850.0,5820.0,5810.0,5780.0,5820.0,5800.0,5680.0,5750.0,5670.0,5690.0,5670.0,5680.0,5730.0,5670.0,5660.0,5710.0,5710.0,5710.0,5660.0,5710.0,5720.0,5790.0,5810.0,5830.0,5760.0,5690.0,5730.0,5750.0,5830.0,5890.0,5840.0,5930.0,5990.0,6140.0,6120.0,6120.0,5940.0,5950.0,5960.0,5950.0,5930.0,5880.0,5910.0,5860.0,5840.0,5880.0,5900.0,5930.0,5970.0,6040.0,6090.0,6220.0,6100.0,6040.0,6070.0,6160.0,6280.0,6300.0,6300.0,6340.0,6300.0,6270.0,6350.0,6250.0,6230.0,6160.0,6160.0,6260.0,6350.0,6390.0,6410.0,6380.0,6290.0,6280.0,6270.0,6270.0,6390.0,6350.0,6340.0,6380.0,6510.0,6480.0,6390.0,6520.0,6590.0,6570.0,6670.0,6720.0,6800.0,6860.0,6950.0,6960.0,7040.0,7060.0,7100.0,7080.0,7160.0,7220.0,7070.0,7300.0,7120.0,6850.0,6640.0,6860.0,7150.0,7130.0,7040.0,7010.0,6970.0,6940.0,7250.0,7120.0,7250.0,7200.0,7290.0,7430.0,7700.0,7850.0,7820.0,7960.0,7930.0,7990.0,8050.0,8120.0,7920.0,7860.0,7820.0,7780.0,7830.0,7810.0,7990.0,7980.0,8030.0,8150.0,8350.0,8560.0,8330.0,8250.0,8270.0,8240.0,8360.0,8290.0,8320.0,8540.0,8580.0,8740.0,8670.0,8610.0,8570.0,8740.0,8920.0,8740.0,8900.0,8760.0,8600.0,8010.0,8160.0,8220.0,8060.0,7530.0,7320.0,7250.0,7240.0,7480.0,7380.0,7640.0,7480.0,7440.0,7520.0,7550.0,7710.0,7500.0,7270.0,7160.0,7350.0,7300.0,7480.0,7470.0,7540.0,7540.0,7460.0,7530.0,7460.0,7700.0,7540.0,7640.0,7400.0,7410.0,7650.0,7810.0,7840.0,7850.0,7760.0,7810.0,7950.0,8000.0,8070.0,8070.0,8150.0,8110.0,8000.0,7830.0,7850.0,7900.0,8090.0,8260.0,8180.0,8180.0,8230.0,8250.0,8290.0,8280.0,8230.0,8190.0,8270.0,8170.0,8230.0,8190.0,8160.0,8270.0,8100.0,8130.0,8020.0,8030.0,7970.0,7870.0,7790.0,7630.0,7590.0,7500.0,7360.0,7270.0,7310.0,7490.0,7570.0,7660.0,7690.0,7670.0,7700.0,7740.0,7750.0,7750.0,7680.0,7640.0,7680.0,7520.0,7530.0,7470.0,7510.0,7540.0,7570.0,7650.0,7680.0,7710.0,7590.0,7450.0,7500.0,7480.0,7560.0,8020.0,7830.0,7730.0,7730.0,7750.0,7860.0,7780.0,7880.0,7850.0,7910.0,7960.0,7930.0,7990.0,7980.0,7920.0,7810.0,7790.0,7670.0,7610.0,7580.0,7640.0,7640.0,7690.0,7630.0,7500.0,7370.0,7500.0,7500.0,7480.0,7460.0,7440.0,7530.0,7560.0,7800.0,8000.0,7990.0,7940.0,7820.0,7790.0,7840.0,7830.0,7920.0,7960.0,8150.0,8470.0,8520.0,8480.0,8670.0,8480.0,8690.0,8740.0,8910.0,8940.0,9280.0,9450.0,9210.0,9170.0,9130.0,9190.0,9120.0,8910.0,8800.0,8660.0,8570.0,8270.0,8280.0,8380.0,8480.0,8560.0,8530.0,8540.0,8510.0,8260.0,8480.0,8160.0,7990.0,7730.0,7830.0,8040.0,8130.0,8120.0,8020.0,8040.0,8080.0,8080.0,8140.0,8220.0,8370.0,8400.0,8390.0,8400.0,8320.0,8300.0,8050.0,8290.0,8350.0,8460.0,8550.0,8630.0,8700.0,8880.0,8720.0,8890.0,8850.0,8630.0,8520.0,8460.0,8750.0,8900.0,8950.0,9010.0,8730.0,8740.0,8490.0,8190.0,7760.0,7520.0,8060.0,8170.0,8150.0,8200.0,8080.0,7940.0,7650.0,7770.0,7810.0,7830.0,7760.0,7780.0,7770.0,7670.0,7600.0,7560.0,7590.0,7530.0,7510.0,7580.0,7690.0,7720.0,7860.0,7910.0,8030.0,7850.0,7760.0,8080.0,8200.0,8170.0,8010.0,8090.0,7980.0,7910.0,7800.0,7880.0,7900.0,7880.0,7950.0,7970.0,8030.0,8230.0,8000.0,8000.0,8050.0,7920.0,8160.0,8240.0,8060.0,7910.0,7660.0,7610.0,7710.0,7610.0,7430.0,7260.0,7500.0,7480.0,7360.0,7390.0,7450.0,7390.0,7560.0,7640.0,7710.0,7750.0,7720.0,7690.0,7720.0,7690.0,7770.0,7740.0,7760.0,7580.0,7500.0,7610.0,7600.0,7660.0,7620.0,7640.0,7550.0,7320.0,7160.0,7160.0,7170.0,7380.0,7540.0,7720.0,7740.0,7850.0,7850.0,7530.0,7500.0,7410.0,7500.0,7550.0,7560.0,7600.0,7530.0,7500.0,7520.0,7670.0,7650.0,7710.0,7830.0,7920.0,7900.0,7820.0,7880.0,7770.0,7670.0,7800.0,7830.0,7620.0,7710.0,7650.0,3700.0,3830.0,3800.0,3890.0,3925.0,3920.0,3950.0,3950.0,3925.0,3890.0,3845.0,3915.0,3895.0,3740.0,3685.0,3635.0,3705.0,3670.0,3690.0,3685.0,3765.0,3775.0,3775.0,3805.0,3745.0,3730.0,3655.0,3540.0,3510.0,3565.0,3510.0,3540.0,3625.0,3770.0,3755.0,3770.0,3755.0,3865.0,3795.0,3780.0,3790.0,3745.0,3715.0,3660.0,3635.0,3740.0,3670.0,3655.0,3625.0,3675.0,3660.0,3740.0,3700.0,3765.0,3800.0,3855.0,3900.0,3915.0,3970.0,3870.0,3825.0,3875.0,3890.0,3840.0,3790.0,3820.0,3885.0,3785.0,3820.0,3785.0,3820.0,3870.0,3875.0,3910.0,4080.0,4065.0,4035.0,4055.0,4090.0,4120.0,4180.0,4180.0,4125.0,4150.0,4185.0,4220.0,4220.0,4255.0,4230.0,4260.0,4265.0,4355.0,4300.0,4355.0,4300.0,4320.0,4330.0,4265.0,4275.0,4325.0,4275.0,4255.0,4255.0,4295.0,4315.0,4235.0,4260.0,4250.0,4290.0,4305.0,4540.0,4585.0,4620.0,4575.0,4530.0,4575.0,4520.0,4550.0,4570.0,4570.0,4530.0,4540.0,4575.0,4590.0,4620.0,4610.0,4540.0,4560.0,4625.0,4580.0,4650.0,4645.0,4650.0,4690.0,4610.0,4620.0,4740.0,4745.0,4705.0,4675.0,4660.0,4575.0,4520.0,4555.0,4490.0,4510.0,4450.0,4535.0,4590.0,4640.0,4655.0,4650.0,4605.0,4605.0,4550.0,4460.0,4295.0,4305.0,4235.0,4285.0,4125.0,4145.0,4050.0,3940.0,4050.0,3945.0,3900.0,3860.0,3720.0,3500.0,3550.0,3555.0,3445.0,3325.0,3290.0,3495.0,3375.0,3665.0,3755.0,3800.0,4005.0,4065.0,4290.0,4255.0,4320.0,3990.0,3995.0,3940.0,3980.0,4075.0,4200.0,4170.0,4260.0,4275.0,4290.0,4305.0,4380.0,4355.0,4260.0,4250.0,4245.0,4225.0,4320.0,4370.0,4355.0,4375.0,4370.0,4375.0,4395.0,4490.0,4540.0,4640.0,4575.0,4565.0,4660.0,4755.0,4700.0,4710.0,4725.0,4770.0,4855.0,4830.0,4815.0,4985.0,5000.0,4995.0,4985.0,4985.0,4915.0,4995.0,4990.0,4990.0,4985.0,4880.0,4815.0,4885.0,4930.0,4930.0,4970.0,4880.0,4845.0,4755.0,4785.0,4925.0,4830.0,4775.0,4760.0,4790.0,4850.0,4920.0,4815.0,4830.0,4810.0,4715.0,4800.0,4815.0,4825.0,4760.0,4710.0,4775.0,4860.0,4735.0,4790.0,4770.0,4705.0,4660.0,4530.0,4630.0,4660.0,4635.0,4670.0,4520.0,4770.0,4985.0,4955.0,5060.0,5000.0,5080.0,5160.0,5130.0,5150.0,5140.0,5120.0,5120.0,5040.0,4975.0,5010.0,5050.0,5120.0,5130.0,5150.0,5080.0,5060.0,5100.0,5130.0,5180.0,5320.0,5220.0,5110.0,5120.0,5150.0,5140.0,5190.0,5260.0,5350.0,5320.0,5220.0,null,5120.0,5130.0,5160.0,5120.0,5140.0,5080.0,5090.0,5130.0,5150.0,5160.0,5170.0,5230.0,5210.0,5310.0,5180.0,5200.0,5120.0,5100.0,5080.0,5070.0,5020.0,5130.0,5200.0,5220.0,5270.0,5360.0,5310.0,5440.0,5430.0,5330.0,5450.0,5400.0,5410.0,5340.0,5400.0,5530.0,5440.0,5380.0,5410.0,5200.0,5260.0,5200.0,5200.0,5150.0,5020.0,5010.0,5060.0,5090.0,5110.0,5100.0,5150.0,5060.0,5030.0,5010.0,5030.0,4980.0,5080.0,5010.0,5040.0,5030.0,5060.0,5010.0,4965.0,4950.0,4945.0,4995.0,5040.0,4840.0,4740.0,4715.0,4560.0,4620.0,4570.0,4545.0,4555.0,4705.0,4625.0,4605.0,4685.0,4600.0,4555.0,4520.0,4570.0,4580.0,4630.0,4600.0,4710.0,4745.0,4690.0,4825.0,4820.0,4775.0,4780.0,4745.0,4760.0,4730.0,4615.0,4735.0,4650.0,4690.0,4740.0,4705.0,4680.0,4690.0,4640.0,4625.0,4610.0,4640.0,4675.0,4770.0,4820.0,4880.0,4865.0,4885.0,4915.0,4845.0,4740.0,4820.0,4815.0,4885.0,4810.0,4770.0,4765.0,4765.0,4855.0,4890.0,4950.0,4820.0,4895.0,4945.0,4930.0,4960.0,4985.0,4945.0,4905.0,4830.0,4745.0,4775.0,4790.0,4730.0,4655.0,4605.0,4560.0,4550.0,4570.0,4660.0,4570.0,4565.0,4570.0,4665.0,4625.0,4645.0,4635.0,4690.0,4670.0,4640.0,4600.0,4610.0,4575.0,4605.0,4575.0,4585.0,4570.0,4625.0,4645.0,4640.0,4650.0,4670.0,4675.0,4680.0,4665.0,4655.0,4670.0,4685.0,4720.0,4650.0,4805.0,4710.0,4685.0,4680.0,4705.0,4640.0,4625.0,4600.0,4665.0,4680.0,4685.0,4715.0,4715.0,4650.0,4740.0,4775.0,4785.0,4750.0,4750.0,4740.0,4720.0,4725.0,4710.0,4745.0,4695.0,4690.0,4615.0,4695.0,4665.0,4660.0,4580.0,4585.0,4600.0,4655.0,4855.0,4860.0,4840.0,4805.0,4925.0,4890.0,4925.0,4900.0,4935.0,4905.0,4895.0,4890.0,4920.0,4945.0,5010.0,4955.0,4990.0,5020.0,5050.0,5100.0,5090.0,5160.0,5180.0,5210.0,5110.0,5130.0,5140.0,5060.0,5070.0,5090.0,5040.0,5020.0,4940.0,4960.0,4895.0,4915.0,4850.0,4815.0,4805.0,4880.0,4910.0,4845.0,4810.0,4765.0,4835.0,4760.0,4730.0,4785.0,4690.0,4650.0,4605.0,4650.0,4670.0,4705.0,4760.0,4825.0,4760.0,4875.0,4840.0,4815.0,4840.0,4825.0,5000.0,5080.0,5150.0,5090.0,5010.0,5020.0,5030.0,5030.0,5040.0,5080.0,5030.0,4880.0,4885.0,4955.0,4940.0,5100.0],\"high\":[5060.0,5070.0,5040.0,5030.0,5010.0,4980.0,4960.0,4930.0,4905.0,4895.0,4885.0,4860.0,4855.0,4825.0,4895.0,4890.0,4885.0,4870.0,4830.0,4875.0,4835.0,4830.0,4825.0,4820.0,4850.0,4800.0,4845.0,4890.0,5060.0,5060.0,5050.0,5010.0,5020.0,5000.0,5000.0,4970.0,4910.0,4900.0,4920.0,4890.0,4970.0,4955.0,4930.0,4945.0,4970.0,5000.0,5020.0,5040.0,5030.0,5020.0,5020.0,5040.0,5020.0,4960.0,4940.0,4980.0,4980.0,5040.0,5030.0,4995.0,4955.0,4930.0,4975.0,4985.0,4975.0,4955.0,4980.0,4990.0,4950.0,4915.0,4895.0,4900.0,4975.0,4965.0,4980.0,4980.0,5030.0,5090.0,5110.0,5090.0,5150.0,5120.0,5150.0,5220.0,5220.0,5240.0,5130.0,5140.0,5190.0,5200.0,5210.0,5220.0,5240.0,5210.0,5240.0,5250.0,5300.0,5330.0,5310.0,5370.0,5390.0,5450.0,5470.0,5520.0,5560.0,5660.0,5670.0,5670.0,5840.0,5830.0,5760.0,5770.0,5760.0,5790.0,5850.0,5860.0,5840.0,5860.0,5830.0,5830.0,5740.0,5760.0,5700.0,5720.0,5750.0,5680.0,5740.0,5710.0,5690.0,5730.0,5740.0,5740.0,5700.0,5730.0,5720.0,5800.0,5820.0,5830.0,5810.0,5750.0,5770.0,5760.0,5850.0,5890.0,5910.0,5930.0,5990.0,6150.0,6270.0,6160.0,5950.0,6130.0,6110.0,6040.0,6010.0,5900.0,5940.0,5900.0,5920.0,5930.0,5980.0,5970.0,5990.0,6060.0,6120.0,6230.0,6190.0,6140.0,6090.0,6180.0,6300.0,6360.0,6350.0,6380.0,6340.0,6300.0,6350.0,6330.0,6260.0,6200.0,6190.0,6260.0,6370.0,6390.0,6440.0,6450.0,6390.0,6350.0,6290.0,6280.0,6390.0,6380.0,6380.0,6410.0,6530.0,6540.0,6480.0,6530.0,6610.0,6660.0,6690.0,6750.0,6810.0,6870.0,6950.0,7060.0,7050.0,7080.0,7120.0,7100.0,7190.0,7300.0,7180.0,7390.0,7200.0,7020.0,6870.0,6910.0,7170.0,7210.0,7200.0,7030.0,7080.0,6990.0,7270.0,7240.0,7330.0,7360.0,7290.0,7530.0,7720.0,7900.0,7840.0,7990.0,8070.0,8040.0,8080.0,8150.0,8110.0,7930.0,7850.0,7900.0,7880.0,7890.0,8000.0,8080.0,8080.0,8200.0,8380.0,8580.0,8520.0,8250.0,8340.0,8400.0,8430.0,8350.0,8400.0,8560.0,8580.0,8740.0,8780.0,8660.0,8610.0,8770.0,8960.0,8950.0,8930.0,8900.0,8640.0,8240.0,8530.0,8340.0,8110.0,7960.0,7660.0,7370.0,7320.0,7490.0,7490.0,7720.0,7590.0,7520.0,7570.0,7620.0,7780.0,7620.0,7370.0,7250.0,7430.0,7400.0,7490.0,7560.0,7600.0,7570.0,7540.0,7590.0,7650.0,7770.0,7600.0,7670.0,7610.0,7430.0,7650.0,7830.0,7910.0,7940.0,7890.0,7840.0,7970.0,8030.0,8140.0,8090.0,8210.0,8200.0,8080.0,8040.0,7910.0,7920.0,8100.0,8300.0,8240.0,8190.0,8250.0,8280.0,8320.0,8400.0,8280.0,8260.0,8340.0,8300.0,8340.0,8270.0,8400.0,8320.0,8370.0,8220.0,8130.0,8050.0,8100.0,7970.0,7860.0,7790.0,7720.0,7600.0,7430.0,7360.0,7360.0,7530.0,7640.0,7670.0,7700.0,7770.0,7730.0,7770.0,7820.0,7800.0,7750.0,7750.0,7730.0,7700.0,7560.0,7570.0,7570.0,7650.0,7580.0,7690.0,7750.0,7770.0,7860.0,7630.0,7530.0,7580.0,7570.0,8030.0,8020.0,7800.0,7760.0,7780.0,7930.0,7900.0,7880.0,7890.0,7970.0,8030.0,7980.0,8030.0,8060.0,8050.0,7850.0,7850.0,7810.0,7680.0,7670.0,7670.0,7700.0,7720.0,7760.0,7730.0,7430.0,7540.0,7500.0,7510.0,7540.0,7600.0,7550.0,7600.0,7850.0,8030.0,8000.0,8030.0,7980.0,7890.0,7960.0,7860.0,7980.0,7970.0,8170.0,8600.0,8720.0,8580.0,8690.0,8790.0,8720.0,8750.0,8960.0,8940.0,9280.0,9460.0,9580.0,9300.0,9210.0,9340.0,9210.0,9140.0,8910.0,8790.0,8740.0,8390.0,8320.0,8400.0,8500.0,8630.0,8690.0,8590.0,8560.0,8470.0,8520.0,8390.0,8260.0,8090.0,7880.0,8050.0,8230.0,8150.0,8080.0,8130.0,8160.0,8240.0,8180.0,8350.0,8470.0,8530.0,8440.0,8450.0,8480.0,8300.0,8130.0,8290.0,8400.0,8590.0,8660.0,8660.0,8700.0,8950.0,8930.0,8960.0,8890.0,8870.0,8690.0,8540.0,8780.0,8960.0,9040.0,9090.0,8940.0,8850.0,8730.0,8380.0,7920.0,7840.0,8060.0,8200.0,8160.0,8400.0,8200.0,8090.0,7880.0,7790.0,7870.0,7930.0,7890.0,7860.0,7790.0,7790.0,7670.0,7640.0,7650.0,7620.0,7560.0,7660.0,7750.0,7780.0,7930.0,7960.0,8060.0,8000.0,7840.0,8120.0,8320.0,8270.0,8160.0,8220.0,8110.0,7980.0,7930.0,7910.0,8030.0,7950.0,7980.0,8090.0,8070.0,8240.0,8210.0,8000.0,8120.0,8010.0,8180.0,8250.0,8300.0,8120.0,7890.0,7780.0,7730.0,7750.0,7570.0,7320.0,7510.0,7530.0,7440.0,7390.0,7500.0,7540.0,7580.0,7670.0,7740.0,7810.0,7720.0,7740.0,7780.0,7810.0,7800.0,7810.0,7790.0,7750.0,7600.0,7630.0,7660.0,7720.0,7720.0,7670.0,7690.0,7500.0,7290.0,7220.0,7330.0,7390.0,7540.0,7740.0,7780.0,7880.0,7940.0,7810.0,7550.0,7440.0,7530.0,7570.0,7640.0,7610.0,7620.0,7520.0,7550.0,7690.0,7730.0,7720.0,7870.0,7930.0,7930.0,7850.0,7910.0,7900.0,7860.0,7830.0,7830.0,7830.0,7750.0,7740.0,3785.0,3835.0,3810.0,3925.0,3950.0,3940.0,3980.0,3975.0,3935.0,3960.0,3865.0,3935.0,3940.0,3900.0,3715.0,3705.0,3725.0,3710.0,3715.0,3710.0,3780.0,3795.0,3800.0,3825.0,3805.0,3755.0,3695.0,3620.0,3510.0,3585.0,3540.0,3580.0,3645.0,3780.0,3780.0,3785.0,3835.0,3870.0,3850.0,3845.0,3835.0,3760.0,3800.0,3700.0,3680.0,3750.0,3770.0,3675.0,3680.0,3725.0,3705.0,3750.0,3755.0,3765.0,3820.0,3860.0,3930.0,3975.0,3975.0,3975.0,3900.0,3890.0,3965.0,3910.0,3865.0,3835.0,3890.0,3840.0,3825.0,3855.0,3840.0,3870.0,3890.0,3920.0,4095.0,4190.0,4060.0,4110.0,4125.0,4130.0,4190.0,4185.0,4160.0,4185.0,4220.0,4260.0,4235.0,4290.0,4265.0,4260.0,4300.0,4460.0,4330.0,4380.0,4350.0,4335.0,4330.0,4370.0,4275.0,4335.0,4320.0,4325.0,4300.0,4305.0,4315.0,4305.0,4260.0,4270.0,4290.0,4340.0,4570.0,4655.0,4675.0,4615.0,4590.0,4660.0,4580.0,4550.0,4590.0,4625.0,4590.0,4575.0,4585.0,4595.0,4630.0,4630.0,4620.0,4570.0,4650.0,4595.0,4680.0,4680.0,4670.0,4740.0,4730.0,4660.0,4770.0,4790.0,4740.0,4710.0,4695.0,4640.0,4585.0,4585.0,4580.0,4585.0,4480.0,4545.0,4640.0,4665.0,4665.0,4710.0,4705.0,4660.0,4580.0,4500.0,4380.0,4340.0,4330.0,4335.0,4195.0,4160.0,4145.0,4010.0,4075.0,4120.0,3940.0,3905.0,3800.0,3600.0,3585.0,3665.0,3550.0,3435.0,3440.0,3530.0,3590.0,3680.0,3775.0,3930.0,4015.0,4110.0,4290.0,4255.0,4415.0,4205.0,4030.0,4050.0,4015.0,4105.0,4240.0,4245.0,4260.0,4295.0,4310.0,4330.0,4385.0,4440.0,4340.0,4260.0,4265.0,4270.0,4320.0,4380.0,4370.0,4455.0,4405.0,4390.0,4430.0,4490.0,4590.0,4655.0,4640.0,4575.0,4675.0,4760.0,4755.0,4730.0,4740.0,4780.0,4870.0,4890.0,4850.0,4995.0,5040.0,5030.0,5010.0,5020.0,4985.0,4995.0,4995.0,5020.0,5020.0,4915.0,4965.0,4905.0,4985.0,4935.0,4980.0,4935.0,4900.0,4795.0,4820.0,4930.0,4845.0,4880.0,4815.0,4835.0,4870.0,4945.0,4915.0,4925.0,4830.0,4795.0,4815.0,4840.0,4840.0,4805.0,4745.0,4805.0,4880.0,4840.0,4800.0,4815.0,4750.0,4725.0,4635.0,4665.0,4745.0,4650.0,4680.0,4615.0,4820.0,5020.0,4965.0,5130.0,5120.0,5100.0,5190.0,5150.0,5290.0,5150.0,5190.0,5150.0,5120.0,5110.0,5090.0,5090.0,5150.0,5190.0,5180.0,5150.0,5070.0,5100.0,5170.0,5220.0,5340.0,5320.0,5250.0,5140.0,5180.0,5210.0,5200.0,5280.0,5350.0,5350.0,5340.0,null,5230.0,5280.0,5190.0,5200.0,5150.0,5150.0,5120.0,5150.0,5170.0,5220.0,5200.0,5270.0,5250.0,5330.0,5280.0,5250.0,5240.0,5120.0,5140.0,5130.0,5090.0,5160.0,5220.0,5240.0,5290.0,5410.0,5420.0,5560.0,5460.0,5420.0,5480.0,5500.0,5420.0,5380.0,5450.0,5590.0,5630.0,5440.0,5480.0,5390.0,5270.0,5260.0,5230.0,5220.0,5170.0,5090.0,5080.0,5140.0,5110.0,5160.0,5200.0,5170.0,5040.0,5040.0,5050.0,5010.0,5090.0,5070.0,5060.0,5080.0,5060.0,5040.0,5020.0,4965.0,4955.0,5030.0,5060.0,4970.0,4785.0,4800.0,4695.0,4625.0,4615.0,4565.0,4620.0,4710.0,4685.0,4645.0,4695.0,4655.0,4600.0,4575.0,4575.0,4600.0,4685.0,4650.0,4720.0,4765.0,4765.0,4870.0,4870.0,4805.0,4815.0,4775.0,4815.0,4780.0,4700.0,4785.0,4735.0,4690.0,4745.0,4750.0,4710.0,4690.0,4725.0,4665.0,4660.0,4645.0,4695.0,4770.0,4850.0,4895.0,4930.0,4890.0,4935.0,4950.0,4825.0,4860.0,4860.0,4890.0,4885.0,4830.0,4800.0,4835.0,4865.0,4940.0,4955.0,4910.0,4910.0,4950.0,4960.0,5010.0,5040.0,5010.0,4965.0,4880.0,4780.0,4785.0,4800.0,4830.0,4710.0,4685.0,4615.0,4605.0,4610.0,4680.0,4735.0,4655.0,4650.0,4700.0,4735.0,4655.0,4635.0,4710.0,4720.0,4670.0,4635.0,4620.0,4600.0,4615.0,4635.0,4590.0,4590.0,4660.0,4650.0,4680.0,4655.0,4700.0,4700.0,4685.0,4695.0,4690.0,4680.0,4700.0,4740.0,4675.0,4805.0,4795.0,4715.0,4720.0,4725.0,4655.0,4715.0,4645.0,4675.0,4700.0,4700.0,4715.0,4775.0,4670.0,4750.0,4780.0,4815.0,4855.0,4785.0,4775.0,4750.0,4765.0,4780.0,4745.0,4720.0,4700.0,4675.0,4695.0,4705.0,4680.0,4680.0,4620.0,4620.0,4690.0,4865.0,4875.0,4880.0,4855.0,4940.0,4965.0,4935.0,4925.0,4935.0,4915.0,4925.0,4940.0,4925.0,4970.0,5020.0,4995.0,5010.0,5060.0,5060.0,5100.0,5100.0,5160.0,5190.0,5220.0,5150.0,5140.0,5180.0,5100.0,5100.0,5150.0,5130.0,5060.0,4970.0,4985.0,4955.0,4950.0,4890.0,4890.0,4850.0,4880.0,4910.0,4885.0,4845.0,4800.0,4845.0,4830.0,4785.0,4795.0,4755.0,4685.0,4635.0,4695.0,4700.0,4735.0,4760.0,4835.0,4840.0,4885.0,4895.0,4890.0,4860.0,4895.0,5080.0,5100.0,5160.0,5190.0,5080.0,5090.0,5050.0,5060.0,5120.0,5110.0,5050.0,4955.0,5020.0,4975.0,5010.0,5100.0],\"low\":[4935.0,5010.0,5000.0,4950.0,4945.0,4895.0,4900.0,4890.0,4845.0,4830.0,4800.0,4815.0,4815.0,4765.0,4825.0,4850.0,4845.0,4810.0,4780.0,4740.0,4745.0,4755.0,4775.0,4785.0,4810.0,4745.0,4775.0,4800.0,4895.0,4985.0,5000.0,4960.0,4970.0,4960.0,4940.0,4910.0,4880.0,4840.0,4860.0,4840.0,4915.0,4880.0,4875.0,4875.0,4925.0,4960.0,4990.0,4995.0,4995.0,4975.0,4970.0,4970.0,4975.0,4915.0,4865.0,4895.0,4940.0,4995.0,4960.0,4865.0,4890.0,4870.0,4915.0,4935.0,4885.0,4900.0,4925.0,4935.0,4900.0,4865.0,4790.0,4815.0,4930.0,4880.0,4920.0,4935.0,4995.0,5000.0,5050.0,5050.0,5070.0,5080.0,5090.0,5130.0,5180.0,5170.0,5050.0,5070.0,5140.0,5130.0,5110.0,5110.0,5160.0,5170.0,5150.0,5200.0,5230.0,5260.0,5240.0,5300.0,5330.0,5390.0,5430.0,5410.0,5460.0,5490.0,5590.0,5610.0,5650.0,5740.0,5680.0,5600.0,5690.0,5730.0,5760.0,5810.0,5800.0,5780.0,5720.0,5790.0,5680.0,5630.0,5660.0,5640.0,5660.0,5620.0,5680.0,5640.0,5640.0,5670.0,5690.0,5710.0,5650.0,5610.0,5640.0,5720.0,5760.0,5740.0,5750.0,5680.0,5680.0,5690.0,5660.0,5830.0,5780.0,5840.0,5870.0,6000.0,6010.0,6020.0,5720.0,5900.0,5940.0,5910.0,5930.0,5830.0,5870.0,5850.0,5820.0,5880.0,5880.0,5900.0,5920.0,5980.0,6070.0,6140.0,6070.0,6030.0,6010.0,6080.0,6170.0,6260.0,6260.0,6280.0,6250.0,6250.0,6260.0,6220.0,6210.0,6150.0,6130.0,6160.0,6210.0,6270.0,6370.0,6370.0,6280.0,6260.0,6250.0,6200.0,6310.0,6320.0,6320.0,6330.0,6390.0,6470.0,6350.0,6370.0,6470.0,6550.0,6580.0,6670.0,6760.0,6830.0,6850.0,6920.0,6930.0,6970.0,7020.0,7030.0,7050.0,7170.0,7060.0,7240.0,7090.0,6830.0,6640.0,6780.0,7030.0,7090.0,7040.0,6920.0,6960.0,6940.0,7010.0,7080.0,7190.0,7180.0,7110.0,7290.0,7440.0,7740.0,7690.0,7830.0,7890.0,7890.0,7860.0,8080.0,7920.0,7850.0,7680.0,7780.0,7810.0,7800.0,7780.0,7950.0,7940.0,7990.0,8200.0,8420.0,8320.0,8170.0,8260.0,8220.0,8140.0,8260.0,8250.0,8320.0,8420.0,8530.0,8640.0,8600.0,8540.0,8620.0,8740.0,8740.0,8790.0,8640.0,8480.0,7820.0,8160.0,8070.0,7850.0,7530.0,7290.0,7210.0,7180.0,7250.0,7350.0,7370.0,7420.0,7430.0,7470.0,7460.0,7540.0,7430.0,7260.0,7120.0,7270.0,7230.0,7220.0,7380.0,7500.0,7460.0,7420.0,7440.0,7420.0,7430.0,7450.0,7520.0,7390.0,7300.0,7520.0,7610.0,7690.0,7790.0,7760.0,7580.0,7870.0,7920.0,7990.0,7940.0,8020.0,7930.0,7970.0,7810.0,7750.0,7780.0,7940.0,8020.0,8100.0,8080.0,8140.0,8130.0,8160.0,8250.0,8080.0,8160.0,8170.0,8150.0,8220.0,8080.0,8150.0,8220.0,8100.0,8090.0,8020.0,7940.0,7950.0,7850.0,7730.0,7610.0,7580.0,7470.0,7310.0,7250.0,7240.0,7310.0,7520.0,7560.0,7630.0,7620.0,7670.0,7700.0,7670.0,7740.0,7660.0,7640.0,7650.0,7480.0,7400.0,7460.0,7430.0,7520.0,7450.0,7490.0,7600.0,7630.0,7570.0,7400.0,7360.0,7440.0,7470.0,7720.0,7650.0,7670.0,7700.0,7700.0,7810.0,7780.0,7690.0,7760.0,7810.0,7910.0,7890.0,7930.0,7910.0,7910.0,7660.0,7680.0,7640.0,7540.0,7570.0,7550.0,7620.0,7570.0,7580.0,7450.0,7220.0,7370.0,7240.0,7430.0,7420.0,7330.0,7430.0,7540.0,7600.0,7920.0,7920.0,7940.0,7810.0,7770.0,7780.0,7740.0,7850.0,7890.0,7940.0,8060.0,8470.0,8380.0,8410.0,8420.0,8450.0,8630.0,8820.0,8840.0,8970.0,9240.0,9210.0,9130.0,9030.0,9150.0,9070.0,8900.0,8780.0,8570.0,8480.0,8260.0,8110.0,8270.0,8330.0,8510.0,8470.0,8410.0,8400.0,8250.0,8320.0,8140.0,7960.0,7700.0,7680.0,7880.0,8090.0,7930.0,7940.0,8010.0,7960.0,8050.0,8050.0,8150.0,8180.0,8250.0,8330.0,8350.0,8300.0,8150.0,8000.0,7940.0,8290.0,8450.0,8460.0,8570.0,8590.0,8800.0,8700.0,8650.0,8810.0,8580.0,8510.0,8410.0,8610.0,8650.0,8900.0,8910.0,8720.0,8680.0,8480.0,8130.0,7690.0,7400.0,7870.0,8040.0,7750.0,8190.0,8060.0,7910.0,7600.0,7640.0,7670.0,7770.0,7720.0,7640.0,7720.0,7630.0,7510.0,7560.0,7510.0,7520.0,7450.0,7470.0,7600.0,7670.0,7720.0,7860.0,7880.0,7830.0,7670.0,7850.0,8110.0,8120.0,7980.0,8060.0,7930.0,7860.0,7800.0,7670.0,7880.0,7850.0,7870.0,7960.0,7950.0,8110.0,7970.0,7930.0,7970.0,7890.0,8000.0,8120.0,8050.0,7890.0,7660.0,7590.0,7590.0,7570.0,7300.0,7170.0,7320.0,7420.0,7330.0,7320.0,7410.0,7380.0,7420.0,7560.0,7650.0,7710.0,7620.0,7600.0,7690.0,7660.0,7690.0,7700.0,7640.0,7560.0,7500.0,7500.0,7590.0,7610.0,7620.0,7530.0,7550.0,7300.0,7130.0,7090.0,7070.0,7030.0,7400.0,7540.0,7680.0,7740.0,7800.0,7460.0,7410.0,7350.0,7430.0,7460.0,7470.0,7470.0,7530.0,7390.0,7430.0,7520.0,7590.0,7650.0,7760.0,7760.0,7840.0,7760.0,7740.0,7770.0,7660.0,7740.0,7760.0,7620.0,7570.0,7640.0,3685.0,3720.0,3735.0,3825.0,3885.0,3880.0,3915.0,3920.0,3910.0,3875.0,3810.0,3875.0,3890.0,3740.0,3635.0,3630.0,3630.0,3670.0,3645.0,3665.0,3715.0,3735.0,3755.0,3785.0,3745.0,3710.0,3650.0,3505.0,3385.0,3525.0,3490.0,3520.0,3455.0,3675.0,3645.0,3730.0,3750.0,3780.0,3795.0,3755.0,3765.0,3685.0,3715.0,3645.0,3585.0,3685.0,3670.0,3600.0,3620.0,3655.0,3635.0,3680.0,3685.0,3710.0,3770.0,3790.0,3835.0,3915.0,3910.0,3870.0,3815.0,3845.0,3875.0,3810.0,3770.0,3795.0,3805.0,3730.0,3740.0,3775.0,3775.0,3790.0,3805.0,3880.0,4000.0,4065.0,4010.0,4045.0,4070.0,4050.0,4135.0,4150.0,4110.0,4135.0,4140.0,4205.0,4185.0,4250.0,4200.0,4200.0,4225.0,4245.0,4260.0,4315.0,4255.0,4280.0,4285.0,4250.0,4205.0,4245.0,4270.0,4245.0,4240.0,4270.0,4235.0,4225.0,4210.0,4195.0,4240.0,4280.0,4370.0,4540.0,4580.0,4550.0,4530.0,4540.0,4520.0,4500.0,4530.0,4555.0,4515.0,4535.0,4535.0,4535.0,4575.0,4570.0,4540.0,4465.0,4605.0,4485.0,4595.0,4605.0,4630.0,4670.0,4605.0,4570.0,4670.0,4745.0,4680.0,4660.0,4635.0,4570.0,4500.0,4500.0,4465.0,4510.0,4385.0,4415.0,4580.0,4600.0,4615.0,4625.0,4585.0,4580.0,4525.0,4420.0,4295.0,4300.0,4230.0,4205.0,4095.0,4045.0,4045.0,3915.0,3870.0,3945.0,3860.0,3855.0,3680.0,3450.0,3315.0,3555.0,3425.0,3160.0,3290.0,3170.0,3350.0,3435.0,3530.0,3650.0,3860.0,3890.0,4135.0,4110.0,4235.0,3950.0,3915.0,3890.0,3910.0,3975.0,4075.0,4115.0,4080.0,4130.0,4250.0,4245.0,4240.0,4340.0,4245.0,4170.0,4165.0,4195.0,4200.0,4330.0,4290.0,4375.0,4330.0,4345.0,4365.0,4400.0,4460.0,4510.0,4575.0,4480.0,4605.0,4630.0,4680.0,4635.0,4685.0,4740.0,4745.0,4805.0,4745.0,4845.0,4980.0,4965.0,4955.0,4940.0,4870.0,4910.0,4890.0,4970.0,4960.0,4790.0,4815.0,4835.0,4895.0,4870.0,4885.0,4875.0,4830.0,4740.0,4710.0,4830.0,4790.0,4765.0,4735.0,4770.0,4780.0,4875.0,4790.0,4815.0,4730.0,4715.0,4745.0,4780.0,4790.0,4730.0,4660.0,4730.0,4730.0,4735.0,4705.0,4755.0,4685.0,4660.0,4530.0,4565.0,4655.0,4590.0,4615.0,4505.0,4590.0,4790.0,4820.0,4990.0,4995.0,4940.0,5080.0,5050.0,5130.0,5060.0,5090.0,5070.0,5040.0,4925.0,5000.0,4970.0,5060.0,5110.0,5050.0,5050.0,4985.0,4970.0,5120.0,5110.0,5230.0,5190.0,5060.0,5060.0,5080.0,5080.0,5110.0,5220.0,5210.0,5250.0,5220.0,null,5110.0,5120.0,5100.0,5110.0,5110.0,5070.0,5050.0,5060.0,5090.0,5150.0,5120.0,5210.0,5180.0,5220.0,5160.0,5180.0,5100.0,5020.0,5020.0,5040.0,5000.0,5070.0,5120.0,5130.0,5180.0,5310.0,5310.0,5390.0,5390.0,5260.0,5380.0,5340.0,5360.0,5310.0,5320.0,5480.0,5440.0,5360.0,5380.0,5200.0,5150.0,5190.0,5160.0,5150.0,5000.0,4985.0,5010.0,5070.0,5020.0,5070.0,5090.0,5040.0,4950.0,4990.0,4995.0,4955.0,5010.0,5010.0,5010.0,5020.0,5000.0,4980.0,4915.0,4930.0,4915.0,4980.0,4975.0,4810.0,4675.0,4710.0,4560.0,4515.0,4560.0,4500.0,4530.0,4530.0,4585.0,4575.0,4620.0,4565.0,4520.0,4520.0,4535.0,4530.0,4590.0,4590.0,4650.0,4705.0,4665.0,4695.0,4760.0,4740.0,4735.0,4725.0,4730.0,4715.0,4605.0,4715.0,4645.0,4610.0,4660.0,4675.0,4625.0,4610.0,4630.0,4610.0,4605.0,4570.0,4620.0,4685.0,4770.0,4840.0,4825.0,4840.0,4860.0,4845.0,4735.0,4800.0,4800.0,4825.0,4805.0,4770.0,4750.0,4765.0,4780.0,4855.0,4905.0,4815.0,4850.0,4880.0,4900.0,4935.0,4970.0,4945.0,4895.0,4825.0,4735.0,4720.0,4730.0,4720.0,4655.0,4605.0,4560.0,4535.0,4550.0,4575.0,4560.0,4530.0,4540.0,4605.0,4620.0,4620.0,4565.0,4640.0,4655.0,4635.0,4590.0,4570.0,4565.0,4580.0,4565.0,4560.0,4535.0,4580.0,4585.0,4625.0,4605.0,4645.0,4660.0,4660.0,4650.0,4650.0,4655.0,4665.0,4695.0,4615.0,4720.0,4710.0,4675.0,4675.0,4685.0,4585.0,4615.0,4600.0,4625.0,4645.0,4670.0,4650.0,4715.0,4605.0,4710.0,4745.0,4765.0,4735.0,4725.0,4720.0,4710.0,4695.0,4705.0,4705.0,4680.0,4665.0,4615.0,4650.0,4665.0,4640.0,4575.0,4575.0,4570.0,4610.0,4665.0,4790.0,4780.0,4790.0,4830.0,4865.0,4870.0,4840.0,4875.0,4875.0,4875.0,4880.0,4875.0,4895.0,4920.0,4930.0,4915.0,4985.0,5020.0,5040.0,5060.0,5060.0,5110.0,5180.0,5080.0,5060.0,5110.0,5020.0,5040.0,5080.0,5040.0,4985.0,4905.0,4920.0,4885.0,4900.0,4835.0,4790.0,4785.0,4815.0,4815.0,4840.0,4805.0,4750.0,4775.0,4750.0,4725.0,4750.0,4680.0,4640.0,4595.0,4645.0,4670.0,4675.0,4680.0,4780.0,4760.0,4795.0,4815.0,4805.0,4810.0,4825.0,4875.0,5000.0,5120.0,5090.0,5000.0,5010.0,5000.0,5010.0,5030.0,5060.0,5000.0,4880.0,4885.0,4870.0,4910.0,4965.0],\"open\":[4940.0,5060.0,5000.0,5000.0,4960.0,4975.0,4940.0,4905.0,4890.0,4880.0,4870.0,4840.0,4850.0,4800.0,4850.0,4890.0,4875.0,4845.0,4825.0,4760.0,4825.0,4780.0,4825.0,4790.0,4835.0,4795.0,4830.0,4850.0,4900.0,5060.0,5030.0,4985.0,4970.0,4965.0,5000.0,4965.0,4895.0,4865.0,4900.0,4860.0,4930.0,4945.0,4910.0,4880.0,4940.0,5000.0,5000.0,5010.0,5030.0,4995.0,4990.0,4985.0,5000.0,4920.0,4915.0,4895.0,4960.0,5020.0,5030.0,4995.0,4920.0,4925.0,4940.0,4960.0,4960.0,4910.0,4935.0,4970.0,4935.0,4885.0,4870.0,4820.0,4945.0,4900.0,4920.0,4950.0,5000.0,5020.0,5100.0,5080.0,5080.0,5090.0,5140.0,5140.0,5200.0,5210.0,5050.0,5110.0,5160.0,5200.0,5110.0,5120.0,5240.0,5180.0,5160.0,5250.0,5240.0,5300.0,5290.0,5310.0,5390.0,5410.0,5470.0,5430.0,5500.0,5590.0,5640.0,5650.0,5700.0,5800.0,5750.0,5640.0,5710.0,5730.0,5790.0,5840.0,5830.0,5860.0,5760.0,5800.0,5740.0,5680.0,5670.0,5650.0,5750.0,5660.0,5680.0,5700.0,5640.0,5700.0,5710.0,5720.0,5700.0,5650.0,5640.0,5720.0,5780.0,5780.0,5780.0,5750.0,5680.0,5710.0,5700.0,5850.0,5900.0,5840.0,5880.0,6000.0,6190.0,6160.0,5720.0,6040.0,5940.0,6000.0,5950.0,5860.0,5890.0,5900.0,5910.0,5890.0,5980.0,5900.0,5930.0,6010.0,6080.0,6180.0,6180.0,6120.0,6040.0,6080.0,6200.0,6360.0,6350.0,6300.0,6330.0,6300.0,6280.0,6330.0,6230.0,6170.0,6180.0,6190.0,6240.0,6380.0,6380.0,6440.0,6390.0,6350.0,6280.0,6270.0,6320.0,6370.0,6320.0,6350.0,6420.0,6490.0,6440.0,6380.0,6470.0,6660.0,6600.0,6730.0,6800.0,6850.0,6850.0,7000.0,7020.0,7040.0,7030.0,7070.0,7050.0,7190.0,7150.0,7280.0,7150.0,6990.0,6820.0,6840.0,7130.0,7200.0,7200.0,6940.0,7080.0,6980.0,7030.0,7240.0,7240.0,7330.0,7120.0,7300.0,7470.0,7740.0,7840.0,7920.0,7960.0,7910.0,7980.0,8080.0,8060.0,7910.0,7750.0,7820.0,7850.0,7840.0,7790.0,8010.0,8080.0,8180.0,8210.0,8500.0,8520.0,8220.0,8270.0,8370.0,8220.0,8290.0,8400.0,8320.0,8570.0,8550.0,8680.0,8630.0,8600.0,8670.0,8810.0,8900.0,8830.0,8860.0,8550.0,8240.0,8320.0,8200.0,7890.0,7760.0,7610.0,7280.0,7270.0,7250.0,7490.0,7390.0,7580.0,7460.0,7470.0,7590.0,7560.0,7610.0,7300.0,7200.0,7290.0,7330.0,7370.0,7550.0,7600.0,7500.0,7480.0,7540.0,7620.0,7430.0,7590.0,7540.0,7500.0,7410.0,7530.0,7630.0,7880.0,7930.0,7890.0,7640.0,7960.0,8000.0,8090.0,8050.0,8090.0,8200.0,8080.0,8030.0,7900.0,7820.0,7970.0,8080.0,8110.0,8180.0,8180.0,8220.0,8270.0,8330.0,8280.0,8260.0,8220.0,8250.0,8240.0,8230.0,8210.0,8250.0,8370.0,8100.0,8130.0,8010.0,7970.0,7910.0,7780.0,7760.0,7640.0,7590.0,7400.0,7270.0,7290.0,7310.0,7520.0,7670.0,7680.0,7770.0,7670.0,7760.0,7750.0,7750.0,7700.0,7750.0,7650.0,7660.0,7470.0,7510.0,7440.0,7560.0,7510.0,7500.0,7730.0,7730.0,7730.0,7590.0,7380.0,7580.0,7490.0,7720.0,8020.0,7780.0,7740.0,7720.0,7830.0,7860.0,7730.0,7890.0,7850.0,8000.0,7930.0,7930.0,7910.0,7910.0,7770.0,7830.0,7740.0,7680.0,7610.0,7560.0,7650.0,7610.0,7720.0,7460.0,7400.0,7390.0,7410.0,7500.0,7470.0,7440.0,7470.0,7570.0,7680.0,7930.0,8000.0,8000.0,7930.0,7790.0,7830.0,7840.0,7870.0,7960.0,7960.0,8250.0,8560.0,8550.0,8450.0,8690.0,8560.0,8730.0,8850.0,8910.0,9010.0,9270.0,9440.0,9280.0,9190.0,9150.0,9190.0,9120.0,8890.0,8690.0,8720.0,8370.0,8180.0,8350.0,8380.0,8550.0,8650.0,8430.0,8460.0,8470.0,8350.0,8330.0,8210.0,8030.0,7680.0,7950.0,8140.0,8050.0,8000.0,8120.0,8040.0,8190.0,8130.0,8250.0,8470.0,8290.0,8390.0,8390.0,8370.0,8230.0,8130.0,8030.0,8290.0,8500.0,8500.0,8620.0,8650.0,8800.0,8910.0,8680.0,8890.0,8790.0,8600.0,8510.0,8630.0,8790.0,9000.0,8950.0,8940.0,8780.0,8730.0,8380.0,7920.0,7770.0,7970.0,8060.0,7870.0,8300.0,8190.0,8090.0,7810.0,7720.0,7730.0,7840.0,7840.0,7650.0,7770.0,7770.0,7520.0,7590.0,7530.0,7590.0,7510.0,7490.0,7640.0,7710.0,7720.0,7900.0,7970.0,8000.0,7700.0,7910.0,8120.0,8200.0,8150.0,8220.0,8100.0,7940.0,7890.0,7700.0,7910.0,7850.0,7900.0,7990.0,7990.0,8140.0,8200.0,8000.0,7980.0,7960.0,8030.0,8150.0,8220.0,8080.0,7850.0,7760.0,7610.0,7680.0,7550.0,7300.0,7320.0,7430.0,7430.0,7370.0,7450.0,7540.0,7490.0,7630.0,7670.0,7750.0,7710.0,7640.0,7770.0,7810.0,7780.0,7780.0,7740.0,7750.0,7570.0,7520.0,7610.0,7610.0,7710.0,7610.0,7640.0,7500.0,7290.0,7090.0,7130.0,7150.0,7400.0,7550.0,7760.0,7740.0,7800.0,7810.0,7470.0,7410.0,7460.0,7480.0,7480.0,7490.0,7580.0,7410.0,7520.0,7640.0,7630.0,7670.0,7800.0,7760.0,7920.0,7850.0,7850.0,7900.0,7770.0,7780.0,7810.0,7830.0,7600.0,7710.0,3750.0,3750.0,3795.0,3860.0,3885.0,3890.0,3920.0,3960.0,3930.0,3930.0,3850.0,3875.0,3925.0,3880.0,3695.0,3660.0,3630.0,3685.0,3665.0,3710.0,3715.0,3780.0,3780.0,3810.0,3785.0,3725.0,3670.0,3620.0,3410.0,3535.0,3525.0,3520.0,3470.0,3675.0,3670.0,3730.0,3825.0,3780.0,3815.0,3825.0,3830.0,3690.0,3780.0,3700.0,3675.0,3695.0,3745.0,3670.0,3650.0,3665.0,3700.0,3690.0,3755.0,3725.0,3795.0,3830.0,3865.0,3945.0,3925.0,3970.0,3840.0,3875.0,3960.0,3910.0,3835.0,3800.0,3805.0,3800.0,3760.0,3835.0,3800.0,3800.0,3890.0,3910.0,4000.0,4140.0,4050.0,4050.0,4075.0,4095.0,4160.0,4180.0,4160.0,4160.0,4160.0,4210.0,4235.0,4260.0,4265.0,4215.0,4300.0,4245.0,4330.0,4315.0,4350.0,4305.0,4320.0,4350.0,4235.0,4250.0,4315.0,4315.0,4270.0,4270.0,4290.0,4305.0,4210.0,4205.0,4240.0,4315.0,4370.0,4610.0,4590.0,4615.0,4575.0,4620.0,4580.0,4540.0,4560.0,4600.0,4590.0,4540.0,4545.0,4535.0,4600.0,4600.0,4605.0,4485.0,4610.0,4555.0,4680.0,4675.0,4635.0,4670.0,4720.0,4645.0,4670.0,4765.0,4725.0,4670.0,4680.0,4615.0,4530.0,4500.0,4545.0,4540.0,4390.0,4430.0,4630.0,4650.0,4640.0,4675.0,4690.0,4660.0,4555.0,4500.0,4325.0,4310.0,4310.0,4215.0,4120.0,4070.0,4125.0,3930.0,3885.0,4120.0,3880.0,3895.0,3800.0,3560.0,3430.0,3585.0,3550.0,3300.0,3390.0,3195.0,3505.0,3500.0,3590.0,3910.0,3940.0,3935.0,4180.0,4220.0,4390.0,4180.0,3945.0,3940.0,3950.0,4095.0,4100.0,4225.0,4210.0,4190.0,4270.0,4295.0,4265.0,4395.0,4300.0,4170.0,4200.0,4255.0,4250.0,4380.0,4320.0,4450.0,4345.0,4365.0,4415.0,4420.0,4490.0,4510.0,4635.0,4565.0,4605.0,4705.0,4755.0,4700.0,4735.0,4780.0,4790.0,4870.0,4850.0,4875.0,5020.0,5030.0,5010.0,5000.0,4945.0,4960.0,4935.0,4985.0,4965.0,4800.0,4875.0,4900.0,4905.0,4920.0,4970.0,4935.0,4900.0,4780.0,4740.0,4845.0,4815.0,4880.0,4755.0,4790.0,4790.0,4875.0,4915.0,4815.0,4820.0,4750.0,4785.0,4825.0,4840.0,4785.0,4710.0,4735.0,4775.0,4840.0,4710.0,4785.0,4740.0,4720.0,4625.0,4580.0,4700.0,4635.0,4615.0,4600.0,4625.0,4840.0,4950.0,5000.0,5120.0,4980.0,5100.0,5150.0,5170.0,5130.0,5160.0,5150.0,5120.0,5040.0,5040.0,5050.0,5070.0,5160.0,5050.0,5140.0,5030.0,5000.0,5120.0,5170.0,5230.0,5320.0,5220.0,5110.0,5110.0,5080.0,5160.0,5230.0,5290.0,5350.0,5320.0,null,5230.0,5220.0,5140.0,5140.0,5130.0,5130.0,5110.0,5100.0,5100.0,5180.0,5160.0,5230.0,5210.0,5220.0,5280.0,5190.0,5200.0,5110.0,5090.0,5050.0,5080.0,5070.0,5200.0,5200.0,5220.0,5330.0,5380.0,5480.0,5440.0,5390.0,5430.0,5500.0,5380.0,5360.0,5330.0,5500.0,5630.0,5400.0,5400.0,5350.0,5200.0,5260.0,5200.0,5160.0,5150.0,4990.0,5050.0,5090.0,5080.0,5140.0,5100.0,5160.0,4995.0,5010.0,5010.0,4970.0,5010.0,5070.0,5020.0,5070.0,5020.0,5010.0,5020.0,4955.0,4925.0,4990.0,5020.0,4965.0,4785.0,4740.0,4675.0,4540.0,4600.0,4560.0,4550.0,4540.0,4680.0,4630.0,4625.0,4595.0,4590.0,4535.0,4545.0,4555.0,4605.0,4650.0,4655.0,4765.0,4760.0,4775.0,4870.0,4805.0,4790.0,4735.0,4735.0,4745.0,4690.0,4745.0,4700.0,4645.0,4730.0,4750.0,4680.0,4670.0,4720.0,4660.0,4645.0,4600.0,4650.0,4715.0,4790.0,4875.0,4895.0,4865.0,4895.0,4905.0,4810.0,4810.0,4860.0,4855.0,4885.0,4810.0,4780.0,4810.0,4810.0,4925.0,4955.0,4905.0,4870.0,4915.0,4915.0,4970.0,4985.0,5000.0,4955.0,4855.0,4770.0,4750.0,4750.0,4820.0,4705.0,4680.0,4615.0,4545.0,4555.0,4585.0,4660.0,4615.0,4555.0,4640.0,4720.0,4625.0,4585.0,4645.0,4720.0,4645.0,4635.0,4590.0,4585.0,4590.0,4615.0,4585.0,4575.0,4580.0,4620.0,4675.0,4615.0,4650.0,4685.0,4685.0,4685.0,4655.0,4655.0,4670.0,4705.0,4665.0,4745.0,4755.0,4700.0,4700.0,4725.0,4630.0,4675.0,4640.0,4645.0,4655.0,4695.0,4655.0,4750.0,4640.0,4720.0,4750.0,4775.0,4815.0,4730.0,4750.0,4715.0,4715.0,4780.0,4735.0,4705.0,4695.0,4670.0,4665.0,4700.0,4680.0,4630.0,4600.0,4595.0,4650.0,4680.0,4835.0,4870.0,4835.0,4855.0,4935.0,4880.0,4880.0,4900.0,4885.0,4885.0,4915.0,4920.0,4920.0,4930.0,4960.0,4980.0,5030.0,5040.0,5060.0,5070.0,5060.0,5130.0,5200.0,5140.0,5080.0,5140.0,5040.0,5070.0,5120.0,5130.0,5060.0,4950.0,4940.0,4940.0,4945.0,4850.0,4835.0,4800.0,4840.0,4855.0,4865.0,4825.0,4800.0,4800.0,4810.0,4785.0,4760.0,4750.0,4660.0,4625.0,4655.0,4685.0,4685.0,4700.0,4830.0,4825.0,4800.0,4885.0,4890.0,4845.0,4890.0,4965.0,5000.0,5130.0,5160.0,5080.0,5020.0,5000.0,5010.0,5030.0,5080.0,5050.0,4940.0,4945.0,4885.0,4935.0,4990.0],\"x\":[\"2017-01-04\",\"2017-01-05\",\"2017-01-06\",\"2017-01-10\",\"2017-01-11\",\"2017-01-12\",\"2017-01-13\",\"2017-01-16\",\"2017-01-17\",\"2017-01-18\",\"2017-01-19\",\"2017-01-20\",\"2017-01-23\",\"2017-01-24\",\"2017-01-25\",\"2017-01-26\",\"2017-01-27\",\"2017-01-30\",\"2017-01-31\",\"2017-02-01\",\"2017-02-02\",\"2017-02-03\",\"2017-02-06\",\"2017-02-07\",\"2017-02-08\",\"2017-02-09\",\"2017-02-10\",\"2017-02-13\",\"2017-02-14\",\"2017-02-15\",\"2017-02-16\",\"2017-02-17\",\"2017-02-20\",\"2017-02-21\",\"2017-02-22\",\"2017-02-23\",\"2017-02-24\",\"2017-02-27\",\"2017-02-28\",\"2017-03-01\",\"2017-03-02\",\"2017-03-03\",\"2017-03-06\",\"2017-03-07\",\"2017-03-08\",\"2017-03-09\",\"2017-03-10\",\"2017-03-13\",\"2017-03-14\",\"2017-03-15\",\"2017-03-16\",\"2017-03-17\",\"2017-03-21\",\"2017-03-22\",\"2017-03-23\",\"2017-03-24\",\"2017-03-27\",\"2017-03-28\",\"2017-03-29\",\"2017-03-30\",\"2017-03-31\",\"2017-04-03\",\"2017-04-04\",\"2017-04-05\",\"2017-04-06\",\"2017-04-07\",\"2017-04-10\",\"2017-04-11\",\"2017-04-12\",\"2017-04-13\",\"2017-04-14\",\"2017-04-17\",\"2017-04-18\",\"2017-04-19\",\"2017-04-20\",\"2017-04-21\",\"2017-04-24\",\"2017-04-25\",\"2017-04-26\",\"2017-04-27\",\"2017-04-28\",\"2017-05-01\",\"2017-05-02\",\"2017-05-08\",\"2017-05-09\",\"2017-05-10\",\"2017-05-11\",\"2017-05-12\",\"2017-05-15\",\"2017-05-16\",\"2017-05-17\",\"2017-05-18\",\"2017-05-19\",\"2017-05-22\",\"2017-05-23\",\"2017-05-24\",\"2017-05-25\",\"2017-05-26\",\"2017-05-29\",\"2017-05-30\",\"2017-05-31\",\"2017-06-01\",\"2017-06-02\",\"2017-06-05\",\"2017-06-06\",\"2017-06-07\",\"2017-06-08\",\"2017-06-09\",\"2017-06-12\",\"2017-06-13\",\"2017-06-14\",\"2017-06-15\",\"2017-06-16\",\"2017-06-19\",\"2017-06-20\",\"2017-06-21\",\"2017-06-22\",\"2017-06-23\",\"2017-06-26\",\"2017-06-27\",\"2017-06-28\",\"2017-06-29\",\"2017-06-30\",\"2017-07-03\",\"2017-07-04\",\"2017-07-05\",\"2017-07-06\",\"2017-07-07\",\"2017-07-10\",\"2017-07-11\",\"2017-07-12\",\"2017-07-13\",\"2017-07-14\",\"2017-07-18\",\"2017-07-19\",\"2017-07-20\",\"2017-07-21\",\"2017-07-24\",\"2017-07-25\",\"2017-07-26\",\"2017-07-27\",\"2017-07-28\",\"2017-07-31\",\"2017-08-01\",\"2017-08-02\",\"2017-08-03\",\"2017-08-04\",\"2017-08-07\",\"2017-08-08\",\"2017-08-09\",\"2017-08-10\",\"2017-08-14\",\"2017-08-15\",\"2017-08-16\",\"2017-08-17\",\"2017-08-18\",\"2017-08-21\",\"2017-08-22\",\"2017-08-23\",\"2017-08-24\",\"2017-08-25\",\"2017-08-28\",\"2017-08-29\",\"2017-08-30\",\"2017-08-31\",\"2017-09-01\",\"2017-09-04\",\"2017-09-05\",\"2017-09-06\",\"2017-09-07\",\"2017-09-08\",\"2017-09-11\",\"2017-09-12\",\"2017-09-13\",\"2017-09-14\",\"2017-09-15\",\"2017-09-19\",\"2017-09-20\",\"2017-09-21\",\"2017-09-22\",\"2017-09-25\",\"2017-09-26\",\"2017-09-27\",\"2017-09-28\",\"2017-09-29\",\"2017-10-02\",\"2017-10-03\",\"2017-10-04\",\"2017-10-05\",\"2017-10-06\",\"2017-10-10\",\"2017-10-11\",\"2017-10-12\",\"2017-10-13\",\"2017-10-16\",\"2017-10-17\",\"2017-10-18\",\"2017-10-19\",\"2017-10-20\",\"2017-10-23\",\"2017-10-24\",\"2017-10-25\",\"2017-10-26\",\"2017-10-27\",\"2017-10-30\",\"2017-10-31\",\"2017-11-01\",\"2017-11-02\",\"2017-11-06\",\"2017-11-07\",\"2017-11-08\",\"2017-11-09\",\"2017-11-10\",\"2017-11-13\",\"2017-11-14\",\"2017-11-15\",\"2017-11-16\",\"2017-11-17\",\"2017-11-20\",\"2017-11-21\",\"2017-11-22\",\"2017-11-24\",\"2017-11-27\",\"2017-11-28\",\"2017-11-29\",\"2017-11-30\",\"2017-12-01\",\"2017-12-04\",\"2017-12-05\",\"2017-12-06\",\"2017-12-07\",\"2017-12-08\",\"2017-12-11\",\"2017-12-12\",\"2017-12-13\",\"2017-12-14\",\"2017-12-15\",\"2017-12-18\",\"2017-12-19\",\"2017-12-20\",\"2017-12-21\",\"2017-12-22\",\"2017-12-25\",\"2017-12-26\",\"2017-12-27\",\"2017-12-28\",\"2017-12-29\",\"2018-01-04\",\"2018-01-05\",\"2018-01-09\",\"2018-01-10\",\"2018-01-11\",\"2018-01-12\",\"2018-01-15\",\"2018-01-16\",\"2018-01-17\",\"2018-01-18\",\"2018-01-19\",\"2018-01-22\",\"2018-01-23\",\"2018-01-24\",\"2018-01-25\",\"2018-01-26\",\"2018-01-29\",\"2018-01-30\",\"2018-01-31\",\"2018-02-01\",\"2018-02-02\",\"2018-02-05\",\"2018-02-06\",\"2018-02-07\",\"2018-02-08\",\"2018-02-09\",\"2018-02-13\",\"2018-02-14\",\"2018-02-15\",\"2018-02-16\",\"2018-02-19\",\"2018-02-20\",\"2018-02-21\",\"2018-02-22\",\"2018-02-23\",\"2018-02-26\",\"2018-02-27\",\"2018-02-28\",\"2018-03-01\",\"2018-03-02\",\"2018-03-05\",\"2018-03-06\",\"2018-03-07\",\"2018-03-08\",\"2018-03-09\",\"2018-03-12\",\"2018-03-13\",\"2018-03-14\",\"2018-03-15\",\"2018-03-16\",\"2018-03-19\",\"2018-03-20\",\"2018-03-22\",\"2018-03-23\",\"2018-03-26\",\"2018-03-27\",\"2018-03-28\",\"2018-03-29\",\"2018-03-30\",\"2018-04-02\",\"2018-04-03\",\"2018-04-04\",\"2018-04-05\",\"2018-04-06\",\"2018-04-09\",\"2018-04-10\",\"2018-04-11\",\"2018-04-12\",\"2018-04-13\",\"2018-04-16\",\"2018-04-17\",\"2018-04-18\",\"2018-04-19\",\"2018-04-20\",\"2018-04-23\",\"2018-04-24\",\"2018-04-25\",\"2018-04-26\",\"2018-04-27\",\"2018-05-01\",\"2018-05-02\",\"2018-05-07\",\"2018-05-08\",\"2018-05-09\",\"2018-05-10\",\"2018-05-11\",\"2018-05-14\",\"2018-05-15\",\"2018-05-16\",\"2018-05-17\",\"2018-05-18\",\"2018-05-21\",\"2018-05-22\",\"2018-05-23\",\"2018-05-24\",\"2018-05-25\",\"2018-05-28\",\"2018-05-29\",\"2018-05-30\",\"2018-05-31\",\"2018-06-01\",\"2018-06-04\",\"2018-06-05\",\"2018-06-06\",\"2018-06-07\",\"2018-06-08\",\"2018-06-11\",\"2018-06-12\",\"2018-06-13\",\"2018-06-14\",\"2018-06-15\",\"2018-06-18\",\"2018-06-19\",\"2018-06-20\",\"2018-06-21\",\"2018-06-22\",\"2018-06-25\",\"2018-06-26\",\"2018-06-27\",\"2018-06-28\",\"2018-06-29\",\"2018-07-02\",\"2018-07-03\",\"2018-07-04\",\"2018-07-05\",\"2018-07-06\",\"2018-07-09\",\"2018-07-10\",\"2018-07-11\",\"2018-07-12\",\"2018-07-13\",\"2018-07-17\",\"2018-07-18\",\"2018-07-19\",\"2018-07-20\",\"2018-07-23\",\"2018-07-24\",\"2018-07-25\",\"2018-07-26\",\"2018-07-27\",\"2018-07-30\",\"2018-07-31\",\"2018-08-01\",\"2018-08-02\",\"2018-08-03\",\"2018-08-06\",\"2018-08-07\",\"2018-08-08\",\"2018-08-09\",\"2018-08-10\",\"2018-08-13\",\"2018-08-14\",\"2018-08-15\",\"2018-08-16\",\"2018-08-17\",\"2018-08-20\",\"2018-08-21\",\"2018-08-22\",\"2018-08-23\",\"2018-08-24\",\"2018-08-27\",\"2018-08-28\",\"2018-08-29\",\"2018-08-30\",\"2018-08-31\",\"2018-09-03\",\"2018-09-04\",\"2018-09-05\",\"2018-09-06\",\"2018-09-07\",\"2018-09-10\",\"2018-09-11\",\"2018-09-12\",\"2018-09-13\",\"2018-09-14\",\"2018-09-18\",\"2018-09-19\",\"2018-09-20\",\"2018-09-21\",\"2018-09-25\",\"2018-09-26\",\"2018-09-27\",\"2018-09-28\",\"2018-10-01\",\"2018-10-02\",\"2018-10-03\",\"2018-10-04\",\"2018-10-05\",\"2018-10-09\",\"2018-10-10\",\"2018-10-11\",\"2018-10-12\",\"2018-10-15\",\"2018-10-16\",\"2018-10-17\",\"2018-10-18\",\"2018-10-19\",\"2018-10-22\",\"2018-10-23\",\"2018-10-24\",\"2018-10-25\",\"2018-10-26\",\"2018-10-29\",\"2018-10-30\",\"2018-10-31\",\"2018-11-01\",\"2018-11-02\",\"2018-11-05\",\"2018-11-06\",\"2018-11-07\",\"2018-11-08\",\"2018-11-09\",\"2018-11-12\",\"2018-11-13\",\"2018-11-14\",\"2018-11-15\",\"2018-11-16\",\"2018-11-19\",\"2018-11-20\",\"2018-11-21\",\"2018-11-22\",\"2018-11-26\",\"2018-11-27\",\"2018-11-28\",\"2018-11-29\",\"2018-11-30\",\"2018-12-03\",\"2018-12-04\",\"2018-12-05\",\"2018-12-06\",\"2018-12-07\",\"2018-12-10\",\"2018-12-11\",\"2018-12-12\",\"2018-12-13\",\"2018-12-14\",\"2018-12-17\",\"2018-12-18\",\"2018-12-19\",\"2018-12-20\",\"2018-12-21\",\"2018-12-25\",\"2018-12-26\",\"2018-12-27\",\"2018-12-28\",\"2019-01-04\",\"2019-01-07\",\"2019-01-08\",\"2019-01-09\",\"2019-01-10\",\"2019-01-11\",\"2019-01-15\",\"2019-01-16\",\"2019-01-17\",\"2019-01-18\",\"2019-01-21\",\"2019-01-22\",\"2019-01-23\",\"2019-01-24\",\"2019-01-25\",\"2019-01-28\",\"2019-01-29\",\"2019-01-30\",\"2019-01-31\",\"2019-02-01\",\"2019-02-04\",\"2019-02-05\",\"2019-02-06\",\"2019-02-07\",\"2019-02-08\",\"2019-02-12\",\"2019-02-13\",\"2019-02-14\",\"2019-02-15\",\"2019-02-18\",\"2019-02-19\",\"2019-02-20\",\"2019-02-21\",\"2019-02-22\",\"2019-02-25\",\"2019-02-26\",\"2019-02-27\",\"2019-02-28\",\"2019-03-01\",\"2019-03-04\",\"2019-03-05\",\"2019-03-06\",\"2019-03-07\",\"2019-03-08\",\"2019-03-11\",\"2019-03-12\",\"2019-03-13\",\"2019-03-14\",\"2019-03-15\",\"2019-03-18\",\"2019-03-19\",\"2019-03-20\",\"2019-03-22\",\"2019-03-25\",\"2019-03-26\",\"2019-03-27\",\"2019-03-28\",\"2019-03-29\",\"2019-04-01\",\"2019-04-02\",\"2019-04-03\",\"2019-04-04\",\"2019-04-05\",\"2019-04-08\",\"2019-04-09\",\"2019-04-10\",\"2019-04-11\",\"2019-04-12\",\"2019-04-15\",\"2019-04-16\",\"2019-04-17\",\"2019-04-18\",\"2019-04-19\",\"2019-04-22\",\"2019-04-23\",\"2019-04-24\",\"2019-04-25\",\"2019-04-26\",\"2019-05-07\",\"2019-05-08\",\"2019-05-09\",\"2019-05-10\",\"2019-05-13\",\"2019-05-14\",\"2019-05-15\",\"2019-05-16\",\"2019-05-17\",\"2019-05-20\",\"2019-05-21\",\"2019-05-22\",\"2019-05-23\",\"2019-05-24\",\"2019-05-27\",\"2019-05-28\",\"2019-05-29\",\"2019-05-30\",\"2019-05-31\",\"2019-06-03\",\"2019-06-04\",\"2019-06-05\",\"2019-06-06\",\"2019-06-07\",\"2019-06-10\",\"2019-06-11\",\"2019-06-12\",\"2019-06-13\",\"2019-06-14\",\"2019-06-17\",\"2019-06-18\",\"2019-06-19\",\"2019-06-20\",\"2019-06-21\",\"2019-06-24\",\"2019-06-25\",\"2019-06-26\",\"2019-06-27\",\"2019-06-28\",\"2019-07-01\",\"2019-07-02\",\"2019-07-03\",\"2019-07-04\",\"2019-07-05\",\"2019-07-08\",\"2019-07-09\",\"2019-07-10\",\"2019-07-11\",\"2019-07-12\",\"2019-07-16\",\"2019-07-17\",\"2019-07-18\",\"2019-07-19\",\"2019-07-22\",\"2019-07-23\",\"2019-07-24\",\"2019-07-25\",\"2019-07-26\",\"2019-07-29\",\"2019-07-30\",\"2019-07-31\",\"2019-08-01\",\"2019-08-02\",\"2019-08-05\",\"2019-08-06\",\"2019-08-07\",\"2019-08-08\",\"2019-08-09\",\"2019-08-13\",\"2019-08-14\",\"2019-08-15\",\"2019-08-16\",\"2019-08-19\",\"2019-08-20\",\"2019-08-21\",\"2019-08-22\",\"2019-08-23\",\"2019-08-26\",\"2019-08-27\",\"2019-08-28\",\"2019-08-29\",\"2019-08-30\",\"2019-09-02\",\"2019-09-03\",\"2019-09-04\",\"2019-09-05\",\"2019-09-06\",\"2019-09-09\",\"2019-09-10\",\"2019-09-11\",\"2019-09-12\",\"2019-09-13\",\"2019-09-17\",\"2019-09-18\",\"2019-09-19\",\"2019-09-20\",\"2019-09-24\",\"2019-09-25\",\"2019-09-26\",\"2019-09-27\",\"2019-09-30\",\"2019-10-01\",\"2019-10-02\",\"2019-10-03\",\"2019-10-04\",\"2019-10-07\",\"2019-10-08\",\"2019-10-09\",\"2019-10-10\",\"2019-10-11\",\"2019-10-15\",\"2019-10-16\",\"2019-10-17\",\"2019-10-18\",\"2019-10-21\",\"2019-10-23\",\"2019-10-24\",\"2019-10-25\",\"2019-10-28\",\"2019-10-29\",\"2019-10-30\",\"2019-10-31\",\"2019-11-01\",\"2019-11-05\",\"2019-11-06\",\"2019-11-07\",\"2019-11-08\",\"2019-11-11\",\"2019-11-12\",\"2019-11-13\",\"2019-11-14\",\"2019-11-15\",\"2019-11-18\",\"2019-11-19\",\"2019-11-20\",\"2019-11-21\",\"2019-11-22\",\"2019-11-25\",\"2019-11-26\",\"2019-11-27\",\"2019-11-28\",\"2019-11-29\",\"2019-12-02\",\"2019-12-03\",\"2019-12-04\",\"2019-12-05\",\"2019-12-06\",\"2019-12-09\",\"2019-12-10\",\"2019-12-11\",\"2019-12-12\",\"2019-12-13\",\"2019-12-16\",\"2019-12-17\",\"2019-12-18\",\"2019-12-19\",\"2019-12-20\",\"2019-12-23\",\"2019-12-24\",\"2019-12-25\",\"2019-12-26\",\"2019-12-27\",\"2019-12-30\",\"2020-01-06\",\"2020-01-07\",\"2020-01-08\",\"2020-01-09\",\"2020-01-10\",\"2020-01-14\",\"2020-01-15\",\"2020-01-16\",\"2020-01-17\",\"2020-01-20\",\"2020-01-21\",\"2020-01-22\",\"2020-01-23\",\"2020-01-24\",\"2020-01-27\",\"2020-01-28\",\"2020-01-29\",\"2020-01-30\",\"2020-01-31\",\"2020-02-03\",\"2020-02-04\",\"2020-02-05\",\"2020-02-06\",\"2020-02-07\",\"2020-02-10\",\"2020-02-12\",\"2020-02-13\",\"2020-02-14\",\"2020-02-17\",\"2020-02-18\",\"2020-02-19\",\"2020-02-20\",\"2020-02-21\",\"2020-02-25\",\"2020-02-26\",\"2020-02-27\",\"2020-02-28\",\"2020-03-02\",\"2020-03-03\",\"2020-03-04\",\"2020-03-05\",\"2020-03-06\",\"2020-03-09\",\"2020-03-10\",\"2020-03-11\",\"2020-03-12\",\"2020-03-13\",\"2020-03-16\",\"2020-03-17\",\"2020-03-18\",\"2020-03-19\",\"2020-03-23\",\"2020-03-24\",\"2020-03-25\",\"2020-03-26\",\"2020-03-27\",\"2020-03-30\",\"2020-03-31\",\"2020-04-01\",\"2020-04-02\",\"2020-04-03\",\"2020-04-06\",\"2020-04-07\",\"2020-04-08\",\"2020-04-09\",\"2020-04-10\",\"2020-04-13\",\"2020-04-14\",\"2020-04-15\",\"2020-04-16\",\"2020-04-17\",\"2020-04-20\",\"2020-04-21\",\"2020-04-22\",\"2020-04-23\",\"2020-04-24\",\"2020-04-27\",\"2020-04-28\",\"2020-04-30\",\"2020-05-01\",\"2020-05-07\",\"2020-05-08\",\"2020-05-11\",\"2020-05-12\",\"2020-05-13\",\"2020-05-14\",\"2020-05-15\",\"2020-05-18\",\"2020-05-19\",\"2020-05-20\",\"2020-05-21\",\"2020-05-22\",\"2020-05-25\",\"2020-05-26\",\"2020-05-27\",\"2020-05-28\",\"2020-05-29\",\"2020-06-01\",\"2020-06-02\",\"2020-06-03\",\"2020-06-04\",\"2020-06-05\",\"2020-06-08\",\"2020-06-09\",\"2020-06-10\",\"2020-06-11\",\"2020-06-12\",\"2020-06-15\",\"2020-06-16\",\"2020-06-17\",\"2020-06-18\",\"2020-06-19\",\"2020-06-22\",\"2020-06-23\",\"2020-06-24\",\"2020-06-25\",\"2020-06-26\",\"2020-06-29\",\"2020-06-30\",\"2020-07-01\",\"2020-07-02\",\"2020-07-03\",\"2020-07-06\",\"2020-07-07\",\"2020-07-08\",\"2020-07-09\",\"2020-07-10\",\"2020-07-13\",\"2020-07-14\",\"2020-07-15\",\"2020-07-16\",\"2020-07-17\",\"2020-07-20\",\"2020-07-21\",\"2020-07-22\",\"2020-07-27\",\"2020-07-28\",\"2020-07-29\",\"2020-07-30\",\"2020-07-31\",\"2020-08-03\",\"2020-08-04\",\"2020-08-05\",\"2020-08-06\",\"2020-08-07\",\"2020-08-11\",\"2020-08-12\",\"2020-08-13\",\"2020-08-14\",\"2020-08-17\",\"2020-08-18\",\"2020-08-19\",\"2020-08-20\",\"2020-08-21\",\"2020-08-24\",\"2020-08-25\",\"2020-08-26\",\"2020-08-27\",\"2020-08-28\",\"2020-08-31\",\"2020-09-01\",\"2020-09-02\",\"2020-09-03\",\"2020-09-04\",\"2020-09-07\",\"2020-09-08\",\"2020-09-09\",\"2020-09-10\",\"2020-09-11\",\"2020-09-14\",\"2020-09-15\",\"2020-09-16\",\"2020-09-17\",\"2020-09-18\",\"2020-09-23\",\"2020-09-24\",\"2020-09-25\",\"2020-09-28\",\"2020-09-29\",\"2020-09-30\",\"2020-10-01\",\"2020-10-02\",\"2020-10-05\",\"2020-10-06\",\"2020-10-07\",\"2020-10-08\",\"2020-10-09\",\"2020-10-12\",\"2020-10-13\",\"2020-10-14\",\"2020-10-15\",\"2020-10-16\",\"2020-10-19\",\"2020-10-20\",\"2020-10-21\",\"2020-10-22\",\"2020-10-23\",\"2020-10-26\",\"2020-10-27\",\"2020-10-28\",\"2020-10-29\",\"2020-10-30\",\"2020-11-02\",\"2020-11-04\",\"2020-11-05\",\"2020-11-06\",\"2020-11-09\",\"2020-11-10\",\"2020-11-11\",\"2020-11-12\",\"2020-11-13\",\"2020-11-16\",\"2020-11-17\",\"2020-11-18\",\"2020-11-19\",\"2020-11-20\",\"2020-11-24\",\"2020-11-25\",\"2020-11-26\",\"2020-11-27\",\"2020-11-30\",\"2020-12-01\",\"2020-12-02\",\"2020-12-03\",\"2020-12-04\",\"2020-12-07\",\"2020-12-08\",\"2020-12-09\",\"2020-12-10\",\"2020-12-11\",\"2020-12-14\",\"2020-12-15\",\"2020-12-16\",\"2020-12-17\",\"2020-12-18\",\"2020-12-21\",\"2020-12-22\",\"2020-12-23\",\"2020-12-24\",\"2020-12-25\",\"2020-12-28\",\"2020-12-29\",\"2020-12-30\",\"2021-01-04\",\"2021-01-05\",\"2021-01-06\",\"2021-01-07\",\"2021-01-08\",\"2021-01-12\",\"2021-01-13\",\"2021-01-14\",\"2021-01-15\",\"2021-01-18\",\"2021-01-19\",\"2021-01-20\",\"2021-01-21\",\"2021-01-22\",\"2021-01-25\",\"2021-01-26\",\"2021-01-27\",\"2021-01-28\",\"2021-01-29\",\"2021-02-01\",\"2021-02-02\",\"2021-02-03\",\"2021-02-04\",\"2021-02-05\",\"2021-02-08\",\"2021-02-09\",\"2021-02-10\",\"2021-02-12\",\"2021-02-15\",\"2021-02-16\",\"2021-02-17\",\"2021-02-18\",\"2021-02-19\",\"2021-02-22\",\"2021-02-24\",\"2021-02-25\",\"2021-02-26\",\"2021-03-01\",\"2021-03-02\",\"2021-03-03\",\"2021-03-04\",\"2021-03-05\",\"2021-03-08\",\"2021-03-09\",\"2021-03-10\",\"2021-03-11\",\"2021-03-12\",\"2021-03-15\",\"2021-03-16\",\"2021-03-17\",\"2021-03-18\",\"2021-03-19\",\"2021-03-22\",\"2021-03-23\",\"2021-03-24\",\"2021-03-25\",\"2021-03-26\",\"2021-03-29\",\"2021-03-30\",\"2021-03-31\",\"2021-04-01\",\"2021-04-02\",\"2021-04-05\",\"2021-04-06\",\"2021-04-07\",\"2021-04-08\",\"2021-04-09\",\"2021-04-12\",\"2021-04-13\",\"2021-04-14\",\"2021-04-15\",\"2021-04-16\",\"2021-04-19\",\"2021-04-20\",\"2021-04-21\",\"2021-04-22\",\"2021-04-23\",\"2021-04-26\",\"2021-04-27\",\"2021-04-28\",\"2021-04-30\",\"2021-05-06\",\"2021-05-07\",\"2021-05-10\",\"2021-05-11\",\"2021-05-12\",\"2021-05-13\",\"2021-05-14\",\"2021-05-17\",\"2021-05-18\",\"2021-05-19\",\"2021-05-20\",\"2021-05-21\",\"2021-05-24\",\"2021-05-25\",\"2021-05-26\",\"2021-05-27\",\"2021-05-28\",\"2021-05-31\",\"2021-06-01\",\"2021-06-02\",\"2021-06-03\",\"2021-06-04\",\"2021-06-07\",\"2021-06-08\",\"2021-06-09\",\"2021-06-10\",\"2021-06-11\",\"2021-06-14\",\"2021-06-15\",\"2021-06-16\",\"2021-06-17\",\"2021-06-18\",\"2021-06-21\",\"2021-06-22\",\"2021-06-23\",\"2021-06-24\",\"2021-06-25\",\"2021-06-28\",\"2021-06-29\",\"2021-06-30\",\"2021-07-01\",\"2021-07-02\",\"2021-07-05\",\"2021-07-06\",\"2021-07-07\",\"2021-07-08\",\"2021-07-09\",\"2021-07-12\",\"2021-07-13\",\"2021-07-14\",\"2021-07-15\",\"2021-07-16\",\"2021-07-19\",\"2021-07-20\",\"2021-07-21\",\"2021-07-26\",\"2021-07-27\",\"2021-07-28\",\"2021-07-29\",\"2021-07-30\",\"2021-08-02\",\"2021-08-03\",\"2021-08-04\",\"2021-08-05\",\"2021-08-06\",\"2021-08-10\",\"2021-08-11\",\"2021-08-12\",\"2021-08-13\",\"2021-08-16\",\"2021-08-17\",\"2021-08-18\",\"2021-08-19\",\"2021-08-20\",\"2021-08-23\",\"2021-08-24\",\"2021-08-25\",\"2021-08-26\",\"2021-08-27\",\"2021-08-30\",\"2021-08-31\",\"2021-09-01\",\"2021-09-02\",\"2021-09-03\",\"2021-09-06\",\"2021-09-07\",\"2021-09-08\",\"2021-09-09\",\"2021-09-10\",\"2021-09-13\",\"2021-09-14\",\"2021-09-15\",\"2021-09-16\",\"2021-09-17\",\"2021-09-21\",\"2021-09-22\",\"2021-09-24\",\"2021-09-27\",\"2021-09-28\",\"2021-09-29\",\"2021-09-30\",\"2021-10-01\",\"2021-10-04\",\"2021-10-05\",\"2021-10-06\",\"2021-10-07\",\"2021-10-08\",\"2021-10-11\",\"2021-10-12\",\"2021-10-13\",\"2021-10-14\",\"2021-10-15\",\"2021-10-18\",\"2021-10-19\",\"2021-10-20\",\"2021-10-21\",\"2021-10-22\",\"2021-10-25\",\"2021-10-26\",\"2021-10-27\",\"2021-10-28\",\"2021-10-29\",\"2021-11-01\",\"2021-11-02\",\"2021-11-04\",\"2021-11-05\",\"2021-11-08\",\"2021-11-09\",\"2021-11-10\",\"2021-11-11\",\"2021-11-12\",\"2021-11-15\",\"2021-11-16\",\"2021-11-17\",\"2021-11-18\",\"2021-11-19\",\"2021-11-22\",\"2021-11-24\",\"2021-11-25\",\"2021-11-26\",\"2021-11-29\",\"2021-11-30\",\"2021-12-01\",\"2021-12-02\",\"2021-12-03\"],\"type\":\"candlestick\"},{\"close\":[1053.0,1072.0,1064.0,1061.0,1069.0,1052.0,1053.0,1052.0,1050.0,1048.0,1055.0,1052.0,1046.0,1047.0,1052.0,1050.0,1043.0,1045.0,1030.0,1050.0,1042.0,1104.0,1092.0,1087.0,1065.0,1060.0,1062.0,1062.0,1053.0,1059.0,1049.0,1049.0,1053.0,1073.0,1083.0,1091.0,1104.0,1116.0,1116.0,1124.0,1130.0,1133.0,1131.0,1127.0,1129.0,1151.0,1166.0,1165.0,1180.0,1181.0,1191.0,1188.0,1177.0,1158.0,1144.0,1150.0,1127.0,1143.0,1121.0,1096.0,1093.0,1100.0,1085.0,1083.0,1065.0,1071.0,1074.0,1070.0,1059.0,1056.0,1043.0,1057.0,1059.0,1057.0,1057.0,1065.0,1092.0,1106.0,1130.0,1126.0,1158.0,1196.0,1171.0,1190.0,1178.0,1179.0,1190.0,1187.0,1195.0,1199.0,1174.0,1168.0,1141.0,1146.0,1144.0,1136.0,1144.0,1129.0,1127.0,1127.0,1121.0,1137.0,1156.0,1160.0,1147.0,1138.0,1147.0,1156.0,1170.0,1185.0,1186.0,1181.0,1184.0,1228.0,1259.0,1278.0,1275.0,1256.0,1257.0,1256.0,1250.0,1249.0,1261.0,1266.0,1266.0,1281.0,1285.0,1292.0,1312.0,1309.0,1283.0,1278.0,1280.0,1280.0,1279.0,1301.0,1290.0,1303.0,1290.0,1289.0,1312.0,1310.0,1294.0,1395.0,1379.0,1386.0,1422.0,1448.0,1412.0,1382.0,1395.0,1381.0,1356.0,1333.0,1332.0,1316.0,1340.0,1342.0,1336.0,1320.0,1308.0,1311.0,1314.0,1315.0,1309.0,1316.0,1297.0,1278.0,1286.0,1300.0,1292.0,1296.0,1286.0,1297.0,1298.0,1301.0,1312.0,1344.0,1343.0,1343.0,1337.0,1364.0,1344.0,1356.0,1353.0,1324.0,1338.0,1364.0,1361.0,1369.0,1386.0,1384.0,1374.0,1393.0,1390.0,1378.0,1359.0,1348.0,1351.0,1362.0,1382.0,1382.0,1392.0,1473.0,1447.0,1474.0,1431.0,1436.0,1504.0,1479.0,1464.0,1464.0,1454.0,1444.0,1445.0,1403.0,1423.0,1411.0,1438.0,1451.0,1453.0,1441.0,1435.0,1423.0,1468.0,1503.0,1495.0,1497.0,1500.0,1475.0,1502.0,1534.0,1534.0,1543.0,1533.0,1569.0,1621.0,1641.0,1628.0,1670.0,1651.0,1663.0,1660.0,1666.0,1675.0,1672.0,1677.0,1689.0,1700.0,1702.0,1712.0,1660.0,1653.0,1677.0,1686.0,1665.0,1662.0,1699.0,1708.0,1674.0,1654.0,1640.0,1638.0,1633.0,1607.0,1609.0,1651.0,1656.0,1671.0,1587.0,1599.0,1629.0,1602.0,1577.0,1553.0,1564.0,1582.0,1627.0,1645.0,1670.0,1676.0,1709.0,1715.0,1726.0,1717.0,1671.0,1653.0,1654.0,1663.0,1692.0,1660.0,1662.0,1639.0,1650.0,1661.0,1661.0,1658.0,1660.0,1661.0,1689.0,1621.0,1631.0,1672.0,1668.0,1688.0,1694.0,1647.0,1644.0,1671.0,1664.0,1692.0,1715.0,1731.0,1717.0,1712.0,1708.0,1713.0,1698.0,1723.0,1713.0,1706.0,1693.0,1712.0,1743.0,1755.0,1734.0,1588.0,1587.0,1630.0,1613.0,1675.0,1712.0,1800.0,1825.0,1840.0,1875.0,1857.0,1835.0,1863.0,1879.0,1857.0,1830.0,1804.0,1788.0,1774.0,1739.0,1707.0,1738.0,1758.0,1764.0,1798.0,1783.0,1809.0,1803.0,1806.0,1829.0,1832.0,1785.0,1792.0,1739.0,1734.0,1714.0,1728.0,1711.0,1707.0,1726.0,1714.0,1716.0,1687.0,1673.0,1652.0,1617.0,1628.0,1647.0,1631.0,1605.0,1605.0,1618.0,1648.0,1652.0,1665.0,1679.0,1682.0,1710.0,1701.0,1744.0,1749.0,1753.0,1716.0,1727.0,1738.0,1704.0,1700.0,1738.0,1716.0,1710.0,1697.0,1679.0,1672.0,1650.0,1623.0,1634.0,1637.0,1644.0,1650.0,1658.0,1667.0,1693.0,1685.0,1664.0,1706.0,1741.0,1718.0,1719.0,1727.0,1731.0,1734.0,1731.0,1716.0,1717.0,1747.0,1756.0,1804.0,1838.0,1852.0,1881.0,1946.0,1970.0,1966.0,1958.0,1959.0,1941.0,1910.0,1912.0,1882.0,1870.0,1872.0,1828.0,1798.0,1809.0,1793.0,1824.0,1838.0,1874.0,1889.0,1850.0,1858.0,1826.0,1804.0,1774.0,1810.0,1822.0,1837.0,1745.0,1651.0,1682.0,1681.0,1665.0,1678.0,1693.0,1659.0,1629.0,1639.0,1583.0,1594.0,1582.0,1563.0,1581.0,1587.0,1588.0,1600.0,1620.0,1664.0,1666.0,1636.0,1620.0,1576.0,1581.0,1537.0,1523.0,1576.0,1605.0,1587.0,1606.0,1557.0,1590.0,1589.0,1536.0,1490.0,1523.0,1595.0,1612.0,1588.0,1532.0,1546.0,1517.0,1509.0,1516.0,1518.0,1512.0,1525.0,1559.0,1571.0,1575.0,1542.0,1559.0,1536.0,1539.0,1541.0,1541.0,1571.0,1607.0,1617.0,1608.0,1610.0,1620.0,1609.0,1641.0,1636.0,1622.0,1647.0,1669.0,1705.0,1692.0,1671.0,1648.0,1679.0,1686.0,1688.0,1738.0,1716.0,1696.0,1697.0,1682.0,1669.0,1630.0,1631.0,1644.0,1609.0,1577.0,1625.0,1630.0,1615.0,1593.0,1596.0,1557.0,1601.0,1622.0,1579.0,1617.0,1617.0,1602.0,1630.0,1649.0,1635.0,1640.0,1640.0,1632.0,1646.0,1646.0,1654.0,1649.0,1635.0,1606.0,1594.0,1607.0,1609.0,1607.0,1625.0,1631.0,1613.0,1575.0,1565.0,1626.0,1608.0,1616.0,1630.0,1650.0,1674.0,1662.0,1646.0,1653.0,1660.0,1683.0,1702.0,1697.0,1687.0,1717.0,1702.0,1671.0,1666.0,1705.0,1699.0,1696.0,1698.0,1705.0,1714.0,1683.0,1679.0,1669.0,1633.0,1671.0,1674.0,1647.0,1626.0,1618.0,1590.0,1595.0,1595.0,1652.0,1663.0,1665.0,1679.0,1660.0,1639.0,1620.0,1626.0,1682.0,1664.0,1644.0,1648.0,1618.0,1638.0,1622.0,1641.0,1632.0,1639.0,1623.0,1620.0,1629.0,1617.0,1629.0,1552.0,1546.0,1541.0,1505.0,1536.0,1540.0,1517.0,1529.0,1532.0,1530.0,1542.0,1532.0,1512.0,1523.0,1537.0,1520.0,1520.0,1533.0,1538.0,1569.0,1546.0,1553.0,1537.0,1555.0,1560.0,1591.0,1593.0,1627.0,1661.0,1670.0,1655.0,1656.0,1690.0,1680.0,1685.0,1671.0,1666.0,1639.0,1629.0,1625.0,1633.0,1615.0,1610.0,1605.0,1607.0,1629.0,1620.0,1625.0,1643.0,1652.0,1658.0,1662.0,1674.0,1696.0,1693.0,1713.0,1708.0,1703.0,1715.0,1745.0,1719.0,1736.0,1734.0,1752.0,1736.0,1735.0,1720.0,1714.0,1691.0,1708.0,1722.0,1712.0,1706.0,1728.0,1719.0,1734.0,1703.0,1711.0,1701.0,1634.0,1638.0,1634.0,1661.0,1690.0,1681.0,1689.0,1677.0,1674.0,1665.0,1681.0,1682.0,1683.0,1669.0,1671.0,1677.0,1676.0,1672.0,1652.0,1660.0,1668.0,1651.0,1647.0,1680.0,1665.0,1697.0,1718.0,1706.0,1722.0,1715.0,1719.0,1726.0,1740.0,1740.0,1727.0,1721.0,1680.0,1650.0,1652.0,1634.0,1646.0,1646.0,1673.0,1590.0,1629.0,1653.0,1632.0,1609.0,1609.0,1563.0,1523.0,1496.0,1512.0,1510.0,1527.0,1481.0,1497.0,1465.0,1417.0,1434.0,1407.0,1404.0,1402.0,1380.0,1308.0,1335.0,1296.0,1266.0,1176.0,1161.0,1271.0,1264.0,1266.0,1235.0,1263.0,1325.0,1318.0,1425.0,1375.0,1347.0,1275.0,1198.0,1191.0,1236.0,1249.0,1299.0,1309.0,1355.0,1333.0,1328.0,1308.0,1331.0,1327.0,1308.0,1315.0,1330.0,1371.0,1370.0,1375.0,1390.0,1406.0,1388.0,1400.0,1433.0,1449.0,1422.0,1439.0,1429.0,1458.0,1486.0,1490.0,1512.0,1497.0,1480.0,1496.0,1511.0,1531.0,1534.0,1539.0,1520.0,1532.0,1564.0,1526.0,1521.0,1538.0,1532.0,1526.0,1489.0,1462.0,1478.0,1580.0,1600.0,1602.0,1580.0,1602.0,1600.0,1587.0,1569.0,1619.0,1595.0,1608.0,1580.0,1557.0,1568.0,1587.0,1563.0,1566.0,1560.0,1518.0,1567.0,1580.0,1601.0,1592.0,1589.0,1600.0,1614.0,1602.0,1598.0,1586.0,1555.0,1521.0,1452.0,1485.0,1478.0,1455.0,1488.0,1445.0,1548.0,1558.0,1550.0,1537.0,1515.0,1537.0,1529.0,1489.0,1490.0,1500.0,1508.0,1481.0,1488.0,1483.0,1488.0,1485.0,1485.0,1502.0,1520.0,1506.0,1527.0,1528.0,1529.0,1558.0,1569.0,1561.0,1572.0,1603.0,1635.0,1612.0,1616.0,1637.0,1668.0,1633.0,1608.0,null,1575.0,1620.0,1615.0,1600.0,1605.0,1628.0,1620.0,1616.0,1605.0,1603.0,1571.0,1585.0,1552.0,1567.0,1548.0,1535.0,1530.0,1526.0,1519.0,1514.0,1483.0,1503.0,1537.0,1553.0,1553.0,1563.0,1543.0,1558.0,1559.0,1672.0,1655.0,1650.0,1648.0,1658.0,1636.0,1664.0,1617.0,1592.0,1599.0,1565.0,1595.0,1650.0,1643.0,1631.0,1608.0,1628.0,1651.0,1665.0,1670.0,1677.0,1674.0,1665.0,1680.0,1692.0,1687.0,1659.0,1677.0,1679.0,1697.0,1713.0,1746.0,1768.0,1727.0,1733.0,1725.0,1741.0,1758.0,1769.0,1767.0,1768.0,1745.0,1743.0,1736.0,1737.0,1725.0,1708.0,1704.0,1698.0,1710.0,1673.0,1670.0,1707.0,1724.0,1709.0,1714.0,1690.0,1730.0,1724.0,1736.0,1785.0,1749.0,1734.0,1705.0,1733.0,1738.0,1712.0,1702.0,1723.0,1674.0,1687.0,1690.0,1696.0,1695.0,1717.0,1718.0,1724.0,1753.0,1777.0,1758.0,1758.0,1788.0,1823.0,1824.0,1880.0,1894.0,1847.0,1787.0,1849.0,1881.0,1882.0,1854.0,1827.0,1828.0,1811.0,1825.0,1801.0,1832.0,1823.0,1836.0,1866.0,1863.0,1851.0,1828.0,1820.0,1831.0,1816.0,1776.0,1813.0,1791.0,1772.0,1763.0,1790.0,1766.0,1758.0,1794.0,1812.0,1774.0,1761.0,1720.0,1747.0,1800.0,1826.0,1848.0,1872.0,1896.0,1985.0,1990.0,1971.0,1955.0,1961.0,1930.0,1945.0,1967.0,1981.0,1973.0,1959.0,1968.0,1944.0,1939.0,1950.0,1937.0,1943.0,1948.0,1929.0,1914.0,1878.0,1941.0,1913.0,1910.0,1913.0,1950.0,1964.0,1971.0,1959.0,2041.0,2037.0,2062.0,2074.0,2055.0,2042.0,2073.0,2099.0,2121.0,2082.0,2088.0,2053.0,2030.0,2040.0,2103.0,2142.0,2154.0,2169.0,2151.0,2181.0,2170.0,2131.0,2104.0,2119.0,2127.0,2129.0,2089.0,2070.0,2075.0,2072.0,2078.0,2079.0,2072.0,2081.0,2117.0,2113.0,2099.0,2111.0,2130.0,2191.0,2221.0,2231.0,2257.0,2285.0,2288.0,2331.0,2300.0,2302.0,2347.0,2400.0,2328.0,2327.0,2347.0,2304.0,2276.0,2303.0,2284.0,2284.0,2225.0,2224.0,2172.0,2178.0,2146.0,2147.0,2127.0,2164.0,2194.0,2169.0,2171.0,2160.0,2187.0,2158.0,2157.0,2202.0,2175.0,2192.0,2188.0,2223.0,2221.0,2206.0,2183.0,2216.0,2175.0,2224.0,2185.0,2189.0,2160.0,2122.0,2114.0,2133.0,2116.0,2070.0,2045.0,2031.0,2048.0,2040.0,2021.0,2008.0,1970.0,1935.0,1965.0,1972.0,1963.0,1990.0],\"high\":[1063.0,1075.0,1064.0,1068.0,1072.0,1069.0,1058.0,1058.0,1056.0,1051.0,1061.0,1056.0,1055.0,1057.0,1056.0,1060.0,1054.0,1045.0,1040.0,1050.0,1069.0,1127.0,1118.0,1091.0,1085.0,1067.0,1079.0,1068.0,1066.0,1059.0,1063.0,1054.0,1055.0,1076.0,1084.0,1102.0,1107.0,1134.0,1124.0,1128.0,1140.0,1141.0,1145.0,1132.0,1140.0,1166.0,1177.0,1170.0,1186.0,1190.0,1192.0,1195.0,1181.0,1171.0,1159.0,1154.0,1146.0,1143.0,1148.0,1117.0,1114.0,1114.0,1103.0,1086.0,1090.0,1079.0,1085.0,1078.0,1069.0,1057.0,1053.0,1066.0,1065.0,1065.0,1064.0,1068.0,1092.0,1110.0,1140.0,1134.0,1169.0,1211.0,1210.0,1196.0,1189.0,1184.0,1196.0,1191.0,1203.0,1200.0,1185.0,1172.0,1160.0,1150.0,1152.0,1152.0,1154.0,1143.0,1133.0,1132.0,1131.0,1161.0,1160.0,1166.0,1158.0,1148.0,1162.0,1160.0,1173.0,1192.0,1204.0,1190.0,1214.0,1239.0,1275.0,1301.0,1305.0,1283.0,1269.0,1259.0,1276.0,1270.0,1264.0,1307.0,1283.0,1289.0,1292.0,1304.0,1319.0,1311.0,1302.0,1289.0,1290.0,1284.0,1286.0,1306.0,1297.0,1304.0,1303.0,1290.0,1322.0,1323.0,1355.0,1396.0,1391.0,1389.0,1424.0,1460.0,1443.0,1399.0,1400.0,1389.0,1389.0,1360.0,1339.0,1324.0,1345.0,1361.0,1362.0,1354.0,1322.0,1322.0,1318.0,1323.0,1312.0,1317.0,1318.0,1298.0,1288.0,1311.0,1304.0,1309.0,1300.0,1308.0,1307.0,1303.0,1316.0,1348.0,1362.0,1362.0,1354.0,1367.0,1372.0,1356.0,1358.0,1352.0,1346.0,1367.0,1375.0,1378.0,1387.0,1392.0,1394.0,1395.0,1404.0,1395.0,1378.0,1362.0,1357.0,1370.0,1382.0,1404.0,1395.0,1479.0,1452.0,1479.0,1456.0,1446.0,1521.0,1494.0,1465.0,1490.0,1473.0,1454.0,1458.0,1426.0,1434.0,1431.0,1442.0,1455.0,1470.0,1452.0,1464.0,1437.0,1472.0,1515.0,1517.0,1520.0,1504.0,1504.0,1511.0,1538.0,1558.0,1552.0,1555.0,1578.0,1640.0,1651.0,1633.0,1675.0,1675.0,1670.0,1666.0,1675.0,1681.0,1685.0,1689.0,1689.0,1718.0,1728.0,1720.0,1683.0,1672.0,1689.0,1704.0,1682.0,1696.0,1703.0,1709.0,1703.0,1671.0,1645.0,1649.0,1648.0,1642.0,1640.0,1652.0,1689.0,1760.0,1595.0,1661.0,1642.0,1604.0,1620.0,1587.0,1581.0,1600.0,1630.0,1666.0,1692.0,1688.0,1719.0,1746.0,1740.0,1742.0,1713.0,1666.0,1669.0,1673.0,1706.0,1700.0,1690.0,1680.0,1650.0,1674.0,1665.0,1677.0,1665.0,1667.0,1697.0,1664.0,1631.0,1672.0,1672.0,1705.0,1717.0,1694.0,1655.0,1678.0,1686.0,1710.0,1721.0,1748.0,1750.0,1718.0,1737.0,1723.0,1722.0,1728.0,1724.0,1727.0,1708.0,1719.0,1774.0,1755.0,1744.0,1714.0,1589.0,1631.0,1640.0,1680.0,1725.0,1803.0,1829.0,1867.0,1908.0,1892.0,1877.0,1895.0,1896.0,1881.0,1886.0,1810.0,1803.0,1779.0,1769.0,1745.0,1746.0,1783.0,1778.0,1805.0,1807.0,1813.0,1808.0,1811.0,1835.0,1842.0,1849.0,1795.0,1789.0,1739.0,1739.0,1732.0,1732.0,1710.0,1739.0,1718.0,1724.0,1735.0,1698.0,1668.0,1638.0,1632.0,1651.0,1665.0,1612.0,1612.0,1622.0,1655.0,1672.0,1678.0,1679.0,1689.0,1713.0,1716.0,1752.0,1755.0,1753.0,1734.0,1735.0,1776.0,1735.0,1708.0,1743.0,1733.0,1721.0,1706.0,1693.0,1676.0,1684.0,1632.0,1637.0,1651.0,1648.0,1657.0,1661.0,1687.0,1701.0,1698.0,1677.0,1712.0,1753.0,1744.0,1729.0,1740.0,1740.0,1735.0,1736.0,1742.0,1726.0,1748.0,1759.0,1814.0,1851.0,1863.0,1885.0,1947.0,1979.0,1988.0,1980.0,1969.0,1988.0,1958.0,1938.0,1904.0,1875.0,1890.0,1851.0,1820.0,1834.0,1812.0,1827.0,1860.0,1877.0,1907.0,1874.0,1869.0,1848.0,1851.0,1849.0,1810.0,1827.0,1849.0,1890.0,1713.0,1699.0,1722.0,1710.0,1686.0,1702.0,1665.0,1662.0,1650.0,1616.0,1595.0,1592.0,1565.0,1591.0,1593.0,1608.0,1609.0,1627.0,1664.0,1690.0,1686.0,1632.0,1604.0,1583.0,1552.0,1530.0,1579.0,1609.0,1637.0,1611.0,1578.0,1594.0,1614.0,1585.0,1503.0,1541.0,1603.0,1612.0,1620.0,1616.0,1570.0,1564.0,1529.0,1522.0,1520.0,1537.0,1537.0,1572.0,1584.0,1581.0,1563.0,1559.0,1559.0,1560.0,1553.0,1544.0,1576.0,1615.0,1639.0,1609.0,1618.0,1620.0,1622.0,1641.0,1665.0,1644.0,1652.0,1681.0,1713.0,1715.0,1698.0,1668.0,1682.0,1689.0,1693.0,1755.0,1747.0,1740.0,1698.0,1696.0,1698.0,1657.0,1651.0,1661.0,1638.0,1614.0,1630.0,1646.0,1631.0,1602.0,1600.0,1582.0,1606.0,1625.0,1622.0,1623.0,1632.0,1633.0,1635.0,1656.0,1658.0,1645.0,1641.0,1636.0,1651.0,1653.0,1672.0,1662.0,1650.0,1632.0,1612.0,1608.0,1618.0,1619.0,1630.0,1637.0,1643.0,1594.0,1571.0,1646.0,1639.0,1617.0,1640.0,1650.0,1678.0,1673.0,1655.0,1659.0,1668.0,1689.0,1712.0,1718.0,1700.0,1718.0,1722.0,1688.0,1695.0,1725.0,1708.0,1702.0,1711.0,1717.0,1719.0,1725.0,1699.0,1686.0,1665.0,1675.0,1686.0,1674.0,1646.0,1636.0,1613.0,1603.0,1606.0,1652.0,1667.0,1668.0,1680.0,1681.0,1660.0,1649.0,1632.0,1692.0,1682.0,1677.0,1652.0,1650.0,1641.0,1637.0,1644.0,1637.0,1646.0,1628.0,1633.0,1633.0,1632.0,1635.0,1607.0,1557.0,1541.0,1534.0,1547.0,1552.0,1526.0,1534.0,1534.0,1535.0,1547.0,1533.0,1521.0,1524.0,1540.0,1520.0,1528.0,1539.0,1546.0,1576.0,1572.0,1558.0,1552.0,1570.0,1577.0,1592.0,1604.0,1631.0,1677.0,1671.0,1670.0,1668.0,1695.0,1709.0,1696.0,1685.0,1693.0,1666.0,1638.0,1647.0,1652.0,1617.0,1612.0,1612.0,1618.0,1630.0,1635.0,1631.0,1655.0,1676.0,1666.0,1667.0,1681.0,1699.0,1700.0,1716.0,1717.0,1718.0,1717.0,1755.0,1729.0,1779.0,1744.0,1771.0,1759.0,1752.0,1737.0,1724.0,1724.0,1719.0,1722.0,1716.0,1708.0,1729.0,1736.0,1749.0,1736.0,1717.0,1715.0,1676.0,1648.0,1647.0,1661.0,1691.0,1695.0,1692.0,1687.0,1677.0,1691.0,1701.0,1701.0,1684.0,1684.0,1680.0,1691.0,1694.0,1687.0,1679.0,1660.0,1673.0,1667.0,1653.0,1682.0,1675.0,1710.0,1729.0,1725.0,1724.0,1733.0,1723.0,1732.0,1743.0,1747.0,1742.0,1728.0,1702.0,1661.0,1652.0,1643.0,1655.0,1648.0,1673.0,1630.0,1631.0,1658.0,1652.0,1648.0,1617.0,1597.0,1560.0,1508.0,1520.0,1523.0,1535.0,1496.0,1498.0,1507.0,1439.0,1455.0,1462.0,1417.0,1420.0,1402.0,1344.0,1345.0,1346.0,1282.0,1219.0,1215.0,1285.0,1318.0,1310.0,1257.0,1283.0,1349.0,1336.0,1425.0,1375.0,1384.0,1333.0,1269.0,1227.0,1242.0,1279.0,1312.0,1317.0,1358.0,1348.0,1331.0,1331.0,1335.0,1358.0,1333.0,1318.0,1353.0,1378.0,1371.0,1394.0,1398.0,1429.0,1425.0,1403.0,1456.0,1449.0,1444.0,1451.0,1446.0,1467.0,1493.0,1524.0,1518.0,1506.0,1504.0,1503.0,1519.0,1532.0,1553.0,1549.0,1547.0,1556.0,1577.0,1577.0,1531.0,1540.0,1541.0,1539.0,1513.0,1473.0,1510.0,1589.0,1629.0,1609.0,1596.0,1613.0,1615.0,1602.0,1580.0,1621.0,1621.0,1656.0,1615.0,1589.0,1580.0,1587.0,1576.0,1594.0,1576.0,1551.0,1572.0,1584.0,1615.0,1615.0,1603.0,1604.0,1622.0,1627.0,1604.0,1603.0,1586.0,1569.0,1503.0,1491.0,1514.0,1475.0,1498.0,1470.0,1586.0,1566.0,1563.0,1545.0,1541.0,1538.0,1541.0,1508.0,1523.0,1500.0,1508.0,1499.0,1499.0,1517.0,1506.0,1492.0,1491.0,1522.0,1520.0,1521.0,1527.0,1531.0,1536.0,1561.0,1576.0,1569.0,1592.0,1609.0,1645.0,1619.0,1626.0,1645.0,1668.0,1651.0,1620.0,null,1624.0,1629.0,1622.0,1612.0,1612.0,1637.0,1636.0,1625.0,1606.0,1611.0,1603.0,1591.0,1585.0,1569.0,1554.0,1552.0,1543.0,1526.0,1522.0,1519.0,1507.0,1513.0,1549.0,1561.0,1556.0,1573.0,1571.0,1568.0,1576.0,1690.0,1688.0,1657.0,1657.0,1658.0,1646.0,1675.0,1668.0,1618.0,1617.0,1602.0,1600.0,1668.0,1670.0,1644.0,1647.0,1648.0,1651.0,1684.0,1674.0,1693.0,1683.0,1685.0,1707.0,1698.0,1695.0,1669.0,1679.0,1693.0,1698.0,1737.0,1773.0,1774.0,1769.0,1734.0,1738.0,1759.0,1761.0,1769.0,1788.0,1780.0,1768.0,1752.0,1754.0,1742.0,1754.0,1722.0,1712.0,1717.0,1719.0,1704.0,1700.0,1718.0,1726.0,1731.0,1723.0,1711.0,1735.0,1732.0,1736.0,1813.0,1778.0,1759.0,1735.0,1747.0,1742.0,1734.0,1720.0,1734.0,1712.0,1700.0,1692.0,1697.0,1700.0,1717.0,1746.0,1733.0,1755.0,1817.0,1764.0,1767.0,1790.0,1823.0,1847.0,1880.0,1898.0,1895.0,1834.0,1857.0,1892.0,1913.0,1857.0,1848.0,1857.0,1831.0,1828.0,1835.0,1833.0,1839.0,1843.0,1878.0,1885.0,1874.0,1857.0,1823.0,1845.0,1822.0,1790.0,1824.0,1806.0,1789.0,1773.0,1815.0,1797.0,1783.0,1806.0,1814.0,1793.0,1776.0,1748.0,1760.0,1844.0,1842.0,1856.0,1876.0,1910.0,1990.0,2023.0,1980.0,1967.0,1982.0,1960.0,1958.0,1968.0,1988.0,1993.0,1974.0,1983.0,1959.0,1945.0,1957.0,1957.0,1949.0,1955.0,1951.0,1933.0,1896.0,1943.0,1935.0,1919.0,1931.0,1959.0,1964.0,1991.0,1990.0,2053.0,2062.0,2067.0,2083.0,2076.0,2047.0,2086.0,2107.0,2124.0,2134.0,2096.0,2061.0,2036.0,2059.0,2126.0,2155.0,2175.0,2173.0,2171.0,2190.0,2185.0,2169.0,2121.0,2138.0,2151.0,2153.0,2146.0,2089.0,2085.0,2094.0,2085.0,2089.0,2105.0,2091.0,2125.0,2138.0,2123.0,2116.0,2134.0,2197.0,2242.0,2232.0,2259.0,2299.0,2317.0,2332.0,2334.0,2306.0,2355.0,2403.0,2366.0,2331.0,2352.0,2314.0,2299.0,2330.0,2321.0,2305.0,2240.0,2242.0,2208.0,2196.0,2169.0,2187.0,2149.0,2187.0,2194.0,2182.0,2177.0,2160.0,2202.0,2199.0,2161.0,2223.0,2209.0,2194.0,2203.0,2246.0,2238.0,2215.0,2222.0,2234.0,2207.0,2234.0,2217.0,2209.0,2183.0,2165.0,2128.0,2150.0,2194.0,2123.0,2070.0,2041.0,2052.0,2051.0,2066.0,2028.0,2000.0,1960.0,2018.0,1978.0,1976.0,1994.0],\"low\":[1048.0,1048.0,1050.0,1049.0,1052.0,1048.0,1050.0,1047.0,1045.0,1035.0,1048.0,1047.0,1033.0,1041.0,1038.0,1047.0,1041.0,1034.0,1028.0,1023.0,1036.0,1070.0,1087.0,1075.0,1056.0,1055.0,1055.0,1055.0,1051.0,1052.0,1046.0,1047.0,1045.0,1051.0,1072.0,1081.0,1086.0,1104.0,1114.0,1112.0,1130.0,1128.0,1129.0,1126.0,1127.0,1137.0,1165.0,1161.0,1167.0,1173.0,1171.0,1180.0,1160.0,1157.0,1138.0,1139.0,1125.0,1128.0,1118.0,1095.0,1093.0,1099.0,1081.0,1076.0,1060.0,1065.0,1069.0,1066.0,1054.0,1045.0,1040.0,1052.0,1055.0,1051.0,1052.0,1058.0,1072.0,1097.0,1124.0,1121.0,1135.0,1192.0,1165.0,1174.0,1176.0,1169.0,1178.0,1177.0,1181.0,1185.0,1169.0,1161.0,1128.0,1137.0,1142.0,1133.0,1141.0,1126.0,1122.0,1112.0,1116.0,1129.0,1141.0,1149.0,1142.0,1135.0,1146.0,1143.0,1146.0,1170.0,1186.0,1176.0,1184.0,1200.0,1243.0,1266.0,1273.0,1255.0,1251.0,1248.0,1250.0,1243.0,1230.0,1265.0,1265.0,1258.0,1279.0,1278.0,1295.0,1295.0,1281.0,1272.0,1274.0,1263.0,1269.0,1285.0,1286.0,1278.0,1282.0,1283.0,1298.0,1302.0,1291.0,1340.0,1362.0,1365.0,1374.0,1421.0,1406.0,1371.0,1388.0,1362.0,1356.0,1333.0,1300.0,1302.0,1322.0,1337.0,1331.0,1319.0,1302.0,1302.0,1301.0,1304.0,1293.0,1291.0,1287.0,1275.0,1267.0,1290.0,1284.0,1285.0,1278.0,1288.0,1291.0,1280.0,1296.0,1306.0,1341.0,1332.0,1334.0,1341.0,1330.0,1333.0,1333.0,1323.0,1331.0,1343.0,1359.0,1361.0,1364.0,1377.0,1371.0,1376.0,1387.0,1376.0,1349.0,1346.0,1327.0,1356.0,1356.0,1377.0,1383.0,1384.0,1402.0,1428.0,1380.0,1410.0,1455.0,1474.0,1427.0,1448.0,1443.0,1437.0,1417.0,1392.0,1391.0,1406.0,1413.0,1429.0,1452.0,1431.0,1430.0,1420.0,1407.0,1450.0,1490.0,1496.0,1482.0,1474.0,1483.0,1508.0,1528.0,1525.0,1526.0,1536.0,1575.0,1622.0,1602.0,1638.0,1648.0,1641.0,1649.0,1651.0,1658.0,1671.0,1668.0,1665.0,1669.0,1697.0,1692.0,1640.0,1649.0,1668.0,1682.0,1657.0,1662.0,1670.0,1683.0,1673.0,1645.0,1622.0,1627.0,1620.0,1606.0,1601.0,1602.0,1652.0,1655.0,1548.0,1599.0,1590.0,1555.0,1573.0,1548.0,1548.0,1570.0,1605.0,1627.0,1647.0,1668.0,1688.0,1711.0,1723.0,1717.0,1665.0,1638.0,1637.0,1647.0,1648.0,1649.0,1654.0,1628.0,1622.0,1643.0,1625.0,1657.0,1637.0,1632.0,1658.0,1620.0,1591.0,1651.0,1644.0,1672.0,1688.0,1647.0,1634.0,1644.0,1663.0,1671.0,1684.0,1711.0,1701.0,1705.0,1703.0,1704.0,1695.0,1695.0,1701.0,1705.0,1690.0,1699.0,1711.0,1691.0,1700.0,1558.0,1531.0,1573.0,1610.0,1621.0,1677.0,1714.0,1791.0,1822.0,1835.0,1846.0,1831.0,1835.0,1856.0,1844.0,1820.0,1783.0,1774.0,1749.0,1734.0,1702.0,1702.0,1749.0,1745.0,1776.0,1769.0,1782.0,1776.0,1794.0,1806.0,1818.0,1785.0,1782.0,1736.0,1714.0,1709.0,1702.0,1705.0,1687.0,1703.0,1698.0,1681.0,1686.0,1659.0,1640.0,1616.0,1605.0,1630.0,1631.0,1593.0,1593.0,1605.0,1609.0,1651.0,1648.0,1654.0,1675.0,1693.0,1695.0,1706.0,1738.0,1729.0,1709.0,1695.0,1736.0,1702.0,1683.0,1710.0,1707.0,1708.0,1684.0,1675.0,1654.0,1646.0,1610.0,1612.0,1619.0,1625.0,1631.0,1647.0,1665.0,1669.0,1679.0,1651.0,1665.0,1698.0,1711.0,1694.0,1701.0,1715.0,1695.0,1716.0,1712.0,1686.0,1706.0,1747.0,1751.0,1802.0,1842.0,1855.0,1870.0,1929.0,1942.0,1956.0,1927.0,1936.0,1908.0,1894.0,1878.0,1826.0,1855.0,1817.0,1789.0,1781.0,1773.0,1806.0,1833.0,1818.0,1854.0,1831.0,1814.0,1812.0,1791.0,1769.0,1760.0,1788.0,1801.0,1713.0,1651.0,1634.0,1675.0,1661.0,1662.0,1672.0,1639.0,1615.0,1625.0,1582.0,1579.0,1576.0,1548.0,1553.0,1571.0,1580.0,1592.0,1615.0,1623.0,1661.0,1634.0,1603.0,1560.0,1558.0,1531.0,1510.0,1518.0,1572.0,1586.0,1572.0,1542.0,1562.0,1580.0,1527.0,1481.0,1475.0,1571.0,1585.0,1565.0,1521.0,1518.0,1512.0,1501.0,1498.0,1507.0,1508.0,1517.0,1531.0,1561.0,1566.0,1538.0,1528.0,1528.0,1529.0,1524.0,1527.0,1547.0,1584.0,1611.0,1564.0,1582.0,1590.0,1590.0,1616.0,1635.0,1613.0,1614.0,1652.0,1666.0,1688.0,1668.0,1644.0,1662.0,1664.0,1667.0,1696.0,1697.0,1694.0,1666.0,1661.0,1666.0,1623.0,1625.0,1638.0,1605.0,1577.0,1600.0,1623.0,1614.0,1584.0,1583.0,1553.0,1572.0,1590.0,1576.0,1580.0,1613.0,1598.0,1602.0,1629.0,1633.0,1632.0,1627.0,1623.0,1636.0,1631.0,1653.0,1646.0,1630.0,1604.0,1590.0,1589.0,1602.0,1602.0,1603.0,1603.0,1607.0,1559.0,1556.0,1611.0,1603.0,1560.0,1590.0,1626.0,1658.0,1652.0,1641.0,1646.0,1649.0,1639.0,1693.0,1688.0,1666.0,1679.0,1698.0,1660.0,1652.0,1696.0,1693.0,1685.0,1695.0,1700.0,1699.0,1679.0,1673.0,1669.0,1630.0,1652.0,1671.0,1642.0,1617.0,1614.0,1587.0,1585.0,1582.0,1603.0,1652.0,1657.0,1669.0,1658.0,1639.0,1617.0,1599.0,1658.0,1659.0,1640.0,1634.0,1614.0,1605.0,1618.0,1614.0,1618.0,1623.0,1616.0,1620.0,1618.0,1617.0,1615.0,1537.0,1522.0,1483.0,1502.0,1509.0,1534.0,1509.0,1520.0,1508.0,1513.0,1529.0,1507.0,1509.0,1509.0,1525.0,1501.0,1514.0,1525.0,1524.0,1552.0,1539.0,1537.0,1533.0,1531.0,1558.0,1555.0,1585.0,1596.0,1633.0,1646.0,1649.0,1655.0,1670.0,1679.0,1676.0,1662.0,1661.0,1621.0,1621.0,1624.0,1618.0,1599.0,1599.0,1596.0,1603.0,1598.0,1604.0,1614.0,1639.0,1645.0,1653.0,1660.0,1661.0,1678.0,1686.0,1694.0,1707.0,1700.0,1704.0,1713.0,1700.0,1730.0,1718.0,1740.0,1733.0,1732.0,1711.0,1713.0,1683.0,1690.0,1696.0,1699.0,1690.0,1698.0,1717.0,1733.0,1697.0,1705.0,1697.0,1627.0,1623.0,1619.0,1631.0,1658.0,1676.0,1672.0,1676.0,1664.0,1665.0,1672.0,1682.0,1660.0,1661.0,1667.0,1673.0,1676.0,1671.0,1648.0,1643.0,1660.0,1651.0,1633.0,1655.0,1635.0,1687.0,1712.0,1693.0,1706.0,1707.0,1707.0,1720.0,1729.0,1736.0,1726.0,1713.0,1678.0,1646.0,1641.0,1607.0,1638.0,1619.0,1639.0,1569.0,1597.0,1625.0,1632.0,1604.0,1592.0,1553.0,1521.0,1485.0,1500.0,1509.0,1507.0,1460.0,1461.0,1458.0,1401.0,1397.0,1407.0,1384.0,1398.0,1366.0,1297.0,1250.0,1296.0,1228.0,1140.0,1152.0,1129.0,1262.0,1257.0,1196.0,1226.0,1291.0,1254.0,1348.0,1331.0,1329.0,1263.0,1196.0,1175.0,1173.0,1209.0,1240.0,1289.0,1306.0,1321.0,1304.0,1301.0,1310.0,1305.0,1305.0,1280.0,1312.0,1338.0,1345.0,1372.0,1360.0,1405.0,1374.0,1356.0,1418.0,1422.0,1417.0,1400.0,1425.0,1444.0,1464.0,1487.0,1498.0,1485.0,1475.0,1491.0,1503.0,1493.0,1514.0,1515.0,1515.0,1522.0,1557.0,1515.0,1508.0,1519.0,1513.0,1518.0,1489.0,1422.0,1478.0,1554.0,1598.0,1585.0,1564.0,1581.0,1578.0,1582.0,1551.0,1584.0,1592.0,1608.0,1571.0,1551.0,1552.0,1569.0,1554.0,1556.0,1555.0,1518.0,1533.0,1549.0,1583.0,1589.0,1580.0,1579.0,1588.0,1602.0,1586.0,1581.0,1550.0,1518.0,1452.0,1476.0,1474.0,1451.0,1458.0,1438.0,1532.0,1538.0,1536.0,1525.0,1515.0,1502.0,1525.0,1485.0,1490.0,1475.0,1489.0,1473.0,1484.0,1466.0,1483.0,1472.0,1476.0,1502.0,1485.0,1497.0,1498.0,1494.0,1518.0,1522.0,1557.0,1545.0,1557.0,1584.0,1614.0,1588.0,1607.0,1630.0,1627.0,1621.0,1603.0,null,1567.0,1590.0,1600.0,1596.0,1598.0,1604.0,1606.0,1606.0,1588.0,1594.0,1566.0,1567.0,1552.0,1552.0,1539.0,1519.0,1522.0,1492.0,1508.0,1503.0,1476.0,1489.0,1516.0,1530.0,1537.0,1537.0,1492.0,1547.0,1548.0,1615.0,1635.0,1632.0,1633.0,1626.0,1621.0,1653.0,1612.0,1552.0,1587.0,1560.0,1570.0,1624.0,1639.0,1624.0,1602.0,1620.0,1617.0,1653.0,1649.0,1673.0,1653.0,1659.0,1678.0,1667.0,1675.0,1653.0,1659.0,1660.0,1677.0,1693.0,1735.0,1729.0,1708.0,1693.0,1713.0,1734.0,1706.0,1743.0,1763.0,1746.0,1744.0,1735.0,1733.0,1721.0,1724.0,1698.0,1681.0,1691.0,1696.0,1669.0,1657.0,1663.0,1703.0,1708.0,1705.0,1690.0,1675.0,1717.0,1709.0,1778.0,1747.0,1726.0,1701.0,1717.0,1724.0,1711.0,1701.0,1715.0,1674.0,1666.0,1678.0,1679.0,1681.0,1683.0,1705.0,1709.0,1731.0,1764.0,1740.0,1745.0,1745.0,1782.0,1811.0,1810.0,1860.0,1845.0,1781.0,1811.0,1860.0,1852.0,1830.0,1815.0,1821.0,1805.0,1803.0,1785.0,1800.0,1811.0,1812.0,1840.0,1859.0,1841.0,1822.0,1807.0,1828.0,1802.0,1759.0,1790.0,1783.0,1766.0,1754.0,1785.0,1763.0,1752.0,1762.0,1782.0,1763.0,1745.0,1719.0,1730.0,1796.0,1787.0,1826.0,1835.0,1882.0,1910.0,1982.0,1950.0,1947.0,1947.0,1917.0,1926.0,1928.0,1953.0,1965.0,1947.0,1951.0,1936.0,1922.0,1923.0,1928.0,1929.0,1930.0,1927.0,1903.0,1873.0,1912.0,1908.0,1897.0,1905.0,1943.0,1940.0,1966.0,1956.0,1998.0,2026.0,2038.0,2039.0,2034.0,1995.0,2061.0,2085.0,2072.0,2075.0,2075.0,2037.0,2001.0,2038.0,2094.0,2126.0,2120.0,2149.0,2143.0,2155.0,2156.0,2131.0,2092.0,2098.0,2111.0,2123.0,2040.0,2044.0,2058.0,2056.0,2060.0,2068.0,2062.0,2073.0,2078.0,2105.0,2085.0,2078.0,2102.0,2118.0,2199.0,2193.0,2223.0,2260.0,2276.0,2281.0,2290.0,2252.0,2305.0,2360.0,2294.0,2301.0,2301.0,2261.0,2276.0,2282.0,2277.0,2261.0,2199.0,2214.0,2162.0,2165.0,2130.0,2130.0,2121.0,2128.0,2144.0,2165.0,2152.0,2136.0,2167.0,2147.0,2137.0,2191.0,2174.0,2142.0,2174.0,2202.0,2211.0,2170.0,2177.0,2191.0,2170.0,2184.0,2174.0,2182.0,2143.0,2113.0,2089.0,2112.0,2101.0,2064.0,2039.0,2015.0,2022.0,2018.0,2016.0,2003.0,1963.0,1924.0,1962.0,1950.0,1944.0,1963.0],\"open\":[1051.0,1051.0,1061.0,1055.0,1060.0,1069.0,1050.0,1050.0,1048.0,1045.0,1055.0,1051.0,1044.0,1042.0,1055.0,1059.0,1054.0,1035.0,1035.0,1023.0,1060.0,1099.0,1118.0,1082.0,1080.0,1061.0,1072.0,1065.0,1062.0,1054.0,1057.0,1049.0,1049.0,1053.0,1075.0,1092.0,1090.0,1123.0,1119.0,1115.0,1135.0,1131.0,1131.0,1130.0,1139.0,1139.0,1174.0,1166.0,1167.0,1179.0,1173.0,1192.0,1173.0,1160.0,1156.0,1142.0,1143.0,1130.0,1148.0,1115.0,1106.0,1107.0,1093.0,1079.0,1081.0,1065.0,1082.0,1072.0,1066.0,1050.0,1053.0,1052.0,1060.0,1052.0,1062.0,1063.0,1076.0,1100.0,1129.0,1130.0,1135.0,1195.0,1206.0,1190.0,1182.0,1172.0,1178.0,1188.0,1185.0,1200.0,1180.0,1161.0,1160.0,1144.0,1143.0,1152.0,1143.0,1143.0,1127.0,1121.0,1128.0,1130.0,1142.0,1159.0,1158.0,1147.0,1150.0,1145.0,1149.0,1170.0,1190.0,1184.0,1189.0,1200.0,1248.0,1272.0,1287.0,1272.0,1259.0,1257.0,1251.0,1270.0,1232.0,1280.0,1279.0,1259.0,1283.0,1278.0,1300.0,1305.0,1301.0,1281.0,1274.0,1274.0,1269.0,1288.0,1292.0,1278.0,1303.0,1289.0,1299.0,1306.0,1320.0,1348.0,1385.0,1368.0,1374.0,1423.0,1442.0,1398.0,1390.0,1362.0,1377.0,1354.0,1318.0,1302.0,1322.0,1340.0,1360.0,1334.0,1322.0,1318.0,1305.0,1323.0,1305.0,1302.0,1309.0,1291.0,1270.0,1297.0,1297.0,1302.0,1300.0,1292.0,1307.0,1291.0,1301.0,1306.0,1353.0,1348.0,1354.0,1342.0,1364.0,1350.0,1355.0,1350.0,1334.0,1346.0,1367.0,1374.0,1364.0,1377.0,1393.0,1383.0,1400.0,1394.0,1375.0,1359.0,1335.0,1367.0,1356.0,1395.0,1385.0,1392.0,1451.0,1433.0,1456.0,1436.0,1455.0,1492.0,1460.0,1468.0,1448.0,1454.0,1438.0,1424.0,1391.0,1423.0,1419.0,1446.0,1460.0,1438.0,1457.0,1435.0,1422.0,1469.0,1501.0,1515.0,1496.0,1495.0,1491.0,1510.0,1550.0,1532.0,1546.0,1573.0,1600.0,1650.0,1627.0,1647.0,1675.0,1647.0,1662.0,1651.0,1659.0,1678.0,1675.0,1677.0,1682.0,1707.0,1702.0,1678.0,1653.0,1669.0,1700.0,1675.0,1687.0,1673.0,1705.0,1701.0,1665.0,1644.0,1640.0,1630.0,1638.0,1601.0,1608.0,1671.0,1722.0,1591.0,1646.0,1599.0,1555.0,1620.0,1584.0,1553.0,1575.0,1614.0,1646.0,1660.0,1677.0,1688.0,1731.0,1735.0,1722.0,1705.0,1643.0,1660.0,1665.0,1653.0,1700.0,1674.0,1674.0,1630.0,1646.0,1656.0,1672.0,1641.0,1640.0,1658.0,1656.0,1603.0,1653.0,1648.0,1685.0,1701.0,1694.0,1640.0,1651.0,1686.0,1681.0,1692.0,1715.0,1740.0,1718.0,1720.0,1711.0,1703.0,1695.0,1720.0,1713.0,1704.0,1706.0,1752.0,1741.0,1742.0,1705.0,1581.0,1582.0,1622.0,1624.0,1693.0,1720.0,1804.0,1825.0,1840.0,1873.0,1855.0,1839.0,1870.0,1881.0,1859.0,1801.0,1803.0,1770.0,1750.0,1745.0,1702.0,1755.0,1772.0,1792.0,1800.0,1789.0,1806.0,1800.0,1808.0,1839.0,1844.0,1785.0,1776.0,1739.0,1734.0,1702.0,1732.0,1702.0,1708.0,1706.0,1697.0,1716.0,1685.0,1650.0,1630.0,1619.0,1638.0,1660.0,1600.0,1600.0,1620.0,1617.0,1656.0,1652.0,1660.0,1682.0,1700.0,1716.0,1711.0,1744.0,1738.0,1734.0,1702.0,1757.0,1735.0,1699.0,1730.0,1730.0,1719.0,1706.0,1690.0,1661.0,1671.0,1624.0,1631.0,1621.0,1633.0,1635.0,1650.0,1675.0,1675.0,1694.0,1659.0,1675.0,1700.0,1742.0,1722.0,1720.0,1725.0,1716.0,1717.0,1742.0,1722.0,1714.0,1753.0,1756.0,1807.0,1848.0,1856.0,1880.0,1950.0,1964.0,1966.0,1942.0,1963.0,1935.0,1925.0,1895.0,1858.0,1873.0,1832.0,1807.0,1789.0,1802.0,1814.0,1847.0,1820.0,1864.0,1874.0,1858.0,1825.0,1844.0,1824.0,1768.0,1807.0,1805.0,1877.0,1710.0,1637.0,1722.0,1700.0,1667.0,1672.0,1665.0,1660.0,1628.0,1613.0,1591.0,1583.0,1555.0,1583.0,1580.0,1595.0,1601.0,1616.0,1635.0,1683.0,1678.0,1608.0,1600.0,1573.0,1548.0,1520.0,1529.0,1581.0,1622.0,1596.0,1570.0,1569.0,1591.0,1585.0,1484.0,1480.0,1589.0,1594.0,1603.0,1611.0,1523.0,1551.0,1516.0,1519.0,1512.0,1530.0,1537.0,1538.0,1581.0,1580.0,1561.0,1542.0,1559.0,1547.0,1545.0,1538.0,1556.0,1598.0,1617.0,1590.0,1608.0,1619.0,1597.0,1628.0,1657.0,1632.0,1634.0,1662.0,1669.0,1715.0,1696.0,1656.0,1665.0,1679.0,1669.0,1708.0,1725.0,1738.0,1674.0,1680.0,1673.0,1653.0,1637.0,1654.0,1629.0,1611.0,1603.0,1644.0,1627.0,1600.0,1595.0,1582.0,1575.0,1601.0,1620.0,1586.0,1622.0,1630.0,1618.0,1640.0,1640.0,1635.0,1639.0,1624.0,1640.0,1636.0,1656.0,1652.0,1649.0,1626.0,1603.0,1595.0,1612.0,1604.0,1607.0,1605.0,1640.0,1594.0,1571.0,1645.0,1625.0,1560.0,1621.0,1631.0,1662.0,1662.0,1646.0,1646.0,1651.0,1641.0,1707.0,1698.0,1667.0,1687.0,1710.0,1677.0,1688.0,1699.0,1700.0,1694.0,1705.0,1705.0,1702.0,1719.0,1699.0,1685.0,1665.0,1652.0,1681.0,1674.0,1641.0,1624.0,1604.0,1596.0,1597.0,1615.0,1652.0,1664.0,1674.0,1678.0,1660.0,1642.0,1611.0,1658.0,1679.0,1674.0,1636.0,1647.0,1610.0,1633.0,1620.0,1635.0,1627.0,1620.0,1625.0,1620.0,1628.0,1625.0,1538.0,1550.0,1497.0,1534.0,1510.0,1550.0,1513.0,1528.0,1508.0,1520.0,1539.0,1513.0,1512.0,1524.0,1532.0,1502.0,1523.0,1530.0,1535.0,1555.0,1569.0,1540.0,1546.0,1535.0,1574.0,1559.0,1591.0,1617.0,1639.0,1665.0,1670.0,1665.0,1670.0,1700.0,1680.0,1685.0,1689.0,1655.0,1624.0,1629.0,1620.0,1605.0,1601.0,1612.0,1611.0,1598.0,1629.0,1626.0,1648.0,1664.0,1655.0,1663.0,1674.0,1689.0,1700.0,1702.0,1717.0,1718.0,1704.0,1720.0,1720.0,1730.0,1734.0,1744.0,1753.0,1732.0,1733.0,1724.0,1717.0,1705.0,1711.0,1707.0,1707.0,1716.0,1728.0,1744.0,1734.0,1706.0,1715.0,1676.0,1635.0,1626.0,1638.0,1668.0,1691.0,1687.0,1686.0,1670.0,1685.0,1700.0,1689.0,1665.0,1678.0,1668.0,1686.0,1693.0,1675.0,1679.0,1647.0,1660.0,1667.0,1642.0,1658.0,1662.0,1704.0,1714.0,1720.0,1719.0,1732.0,1709.0,1728.0,1737.0,1747.0,1742.0,1727.0,1702.0,1661.0,1645.0,1640.0,1645.0,1626.0,1643.0,1620.0,1612.0,1626.0,1640.0,1648.0,1600.0,1591.0,1553.0,1504.0,1514.0,1510.0,1508.0,1460.0,1466.0,1500.0,1422.0,1400.0,1459.0,1394.0,1406.0,1387.0,1333.0,1278.0,1326.0,1260.0,1185.0,1180.0,1133.0,1295.0,1289.0,1236.0,1260.0,1340.0,1300.0,1378.0,1354.0,1372.0,1301.0,1262.0,1203.0,1175.0,1255.0,1249.0,1310.0,1325.0,1343.0,1314.0,1327.0,1310.0,1357.0,1321.0,1285.0,1315.0,1356.0,1371.0,1389.0,1390.0,1425.0,1425.0,1361.0,1435.0,1422.0,1440.0,1409.0,1437.0,1459.0,1485.0,1521.0,1507.0,1501.0,1501.0,1498.0,1510.0,1510.0,1548.0,1525.0,1538.0,1549.0,1572.0,1576.0,1526.0,1540.0,1541.0,1529.0,1503.0,1440.0,1482.0,1565.0,1617.0,1600.0,1596.0,1602.0,1612.0,1597.0,1575.0,1598.0,1611.0,1640.0,1601.0,1589.0,1572.0,1570.0,1572.0,1563.0,1566.0,1539.0,1546.0,1564.0,1592.0,1613.0,1600.0,1590.0,1601.0,1615.0,1598.0,1603.0,1586.0,1567.0,1502.0,1480.0,1503.0,1475.0,1463.0,1470.0,1578.0,1551.0,1560.0,1535.0,1540.0,1508.0,1534.0,1500.0,1509.0,1490.0,1496.0,1497.0,1488.0,1499.0,1495.0,1482.0,1487.0,1506.0,1492.0,1512.0,1518.0,1496.0,1530.0,1532.0,1568.0,1562.0,1568.0,1589.0,1616.0,1595.0,1609.0,1630.0,1650.0,1651.0,1618.0,null,1609.0,1590.0,1613.0,1612.0,1605.0,1612.0,1634.0,1615.0,1594.0,1605.0,1603.0,1572.0,1585.0,1565.0,1550.0,1539.0,1536.0,1508.0,1522.0,1503.0,1507.0,1489.0,1536.0,1559.0,1547.0,1560.0,1569.0,1567.0,1572.0,1639.0,1681.0,1653.0,1647.0,1634.0,1634.0,1660.0,1668.0,1577.0,1602.0,1601.0,1579.0,1634.0,1650.0,1644.0,1647.0,1630.0,1628.0,1660.0,1663.0,1678.0,1660.0,1680.0,1700.0,1672.0,1690.0,1667.0,1675.0,1664.0,1677.0,1700.0,1753.0,1746.0,1768.0,1699.0,1720.0,1739.0,1710.0,1767.0,1769.0,1758.0,1768.0,1744.0,1754.0,1742.0,1740.0,1709.0,1704.0,1710.0,1697.0,1704.0,1680.0,1667.0,1718.0,1726.0,1705.0,1701.0,1680.0,1728.0,1718.0,1780.0,1778.0,1759.0,1731.0,1720.0,1727.0,1726.0,1713.0,1730.0,1712.0,1696.0,1687.0,1687.0,1682.0,1686.0,1729.0,1731.0,1749.0,1770.0,1760.0,1749.0,1750.0,1785.0,1835.0,1813.0,1880.0,1894.0,1827.0,1825.0,1865.0,1900.0,1851.0,1821.0,1838.0,1829.0,1822.0,1815.0,1807.0,1811.0,1813.0,1878.0,1866.0,1872.0,1853.0,1818.0,1843.0,1808.0,1784.0,1802.0,1798.0,1789.0,1771.0,1803.0,1783.0,1760.0,1762.0,1791.0,1780.0,1768.0,1734.0,1738.0,1806.0,1798.0,1829.0,1840.0,1900.0,1915.0,2000.0,1970.0,1953.0,1973.0,1960.0,1950.0,1945.0,1967.0,1990.0,1970.0,1955.0,1952.0,1938.0,1935.0,1951.0,1934.0,1931.0,1940.0,1933.0,1881.0,1923.0,1928.0,1902.0,1927.0,1949.0,1944.0,1988.0,1980.0,1999.0,2056.0,2050.0,2045.0,2042.0,2006.0,2084.0,2093.0,2079.0,2128.0,2084.0,2055.0,2006.0,2043.0,2099.0,2132.0,2124.0,2159.0,2160.0,2158.0,2178.0,2163.0,2100.0,2099.0,2141.0,2148.0,2146.0,2089.0,2067.0,2091.0,2065.0,2076.0,2089.0,2082.0,2080.0,2134.0,2118.0,2098.0,2115.0,2128.0,2201.0,2222.0,2230.0,2270.0,2299.0,2286.0,2315.0,2260.0,2315.0,2370.0,2360.0,2329.0,2318.0,2261.0,2290.0,2324.0,2310.0,2301.0,2238.0,2219.0,2200.0,2193.0,2148.0,2165.0,2140.0,2130.0,2154.0,2174.0,2158.0,2152.0,2171.0,2197.0,2155.0,2222.0,2198.0,2157.0,2175.0,2210.0,2215.0,2201.0,2205.0,2233.0,2207.0,2201.0,2217.0,2209.0,2180.0,2160.0,2106.0,2114.0,2154.0,2115.0,2064.0,2027.0,2031.0,2036.0,2039.0,2021.0,2000.0,1950.0,1966.0,1959.0,1946.0,1967.0],\"x\":[\"2017-01-04\",\"2017-01-05\",\"2017-01-06\",\"2017-01-10\",\"2017-01-11\",\"2017-01-12\",\"2017-01-13\",\"2017-01-16\",\"2017-01-17\",\"2017-01-18\",\"2017-01-19\",\"2017-01-20\",\"2017-01-23\",\"2017-01-24\",\"2017-01-25\",\"2017-01-26\",\"2017-01-27\",\"2017-01-30\",\"2017-01-31\",\"2017-02-01\",\"2017-02-02\",\"2017-02-03\",\"2017-02-06\",\"2017-02-07\",\"2017-02-08\",\"2017-02-09\",\"2017-02-10\",\"2017-02-13\",\"2017-02-14\",\"2017-02-15\",\"2017-02-16\",\"2017-02-17\",\"2017-02-20\",\"2017-02-21\",\"2017-02-22\",\"2017-02-23\",\"2017-02-24\",\"2017-02-27\",\"2017-02-28\",\"2017-03-01\",\"2017-03-02\",\"2017-03-03\",\"2017-03-06\",\"2017-03-07\",\"2017-03-08\",\"2017-03-09\",\"2017-03-10\",\"2017-03-13\",\"2017-03-14\",\"2017-03-15\",\"2017-03-16\",\"2017-03-17\",\"2017-03-21\",\"2017-03-22\",\"2017-03-23\",\"2017-03-24\",\"2017-03-27\",\"2017-03-28\",\"2017-03-29\",\"2017-03-30\",\"2017-03-31\",\"2017-04-03\",\"2017-04-04\",\"2017-04-05\",\"2017-04-06\",\"2017-04-07\",\"2017-04-10\",\"2017-04-11\",\"2017-04-12\",\"2017-04-13\",\"2017-04-14\",\"2017-04-17\",\"2017-04-18\",\"2017-04-19\",\"2017-04-20\",\"2017-04-21\",\"2017-04-24\",\"2017-04-25\",\"2017-04-26\",\"2017-04-27\",\"2017-04-28\",\"2017-05-01\",\"2017-05-02\",\"2017-05-08\",\"2017-05-09\",\"2017-05-10\",\"2017-05-11\",\"2017-05-12\",\"2017-05-15\",\"2017-05-16\",\"2017-05-17\",\"2017-05-18\",\"2017-05-19\",\"2017-05-22\",\"2017-05-23\",\"2017-05-24\",\"2017-05-25\",\"2017-05-26\",\"2017-05-29\",\"2017-05-30\",\"2017-05-31\",\"2017-06-01\",\"2017-06-02\",\"2017-06-05\",\"2017-06-06\",\"2017-06-07\",\"2017-06-08\",\"2017-06-09\",\"2017-06-12\",\"2017-06-13\",\"2017-06-14\",\"2017-06-15\",\"2017-06-16\",\"2017-06-19\",\"2017-06-20\",\"2017-06-21\",\"2017-06-22\",\"2017-06-23\",\"2017-06-26\",\"2017-06-27\",\"2017-06-28\",\"2017-06-29\",\"2017-06-30\",\"2017-07-03\",\"2017-07-04\",\"2017-07-05\",\"2017-07-06\",\"2017-07-07\",\"2017-07-10\",\"2017-07-11\",\"2017-07-12\",\"2017-07-13\",\"2017-07-14\",\"2017-07-18\",\"2017-07-19\",\"2017-07-20\",\"2017-07-21\",\"2017-07-24\",\"2017-07-25\",\"2017-07-26\",\"2017-07-27\",\"2017-07-28\",\"2017-07-31\",\"2017-08-01\",\"2017-08-02\",\"2017-08-03\",\"2017-08-04\",\"2017-08-07\",\"2017-08-08\",\"2017-08-09\",\"2017-08-10\",\"2017-08-14\",\"2017-08-15\",\"2017-08-16\",\"2017-08-17\",\"2017-08-18\",\"2017-08-21\",\"2017-08-22\",\"2017-08-23\",\"2017-08-24\",\"2017-08-25\",\"2017-08-28\",\"2017-08-29\",\"2017-08-30\",\"2017-08-31\",\"2017-09-01\",\"2017-09-04\",\"2017-09-05\",\"2017-09-06\",\"2017-09-07\",\"2017-09-08\",\"2017-09-11\",\"2017-09-12\",\"2017-09-13\",\"2017-09-14\",\"2017-09-15\",\"2017-09-19\",\"2017-09-20\",\"2017-09-21\",\"2017-09-22\",\"2017-09-25\",\"2017-09-26\",\"2017-09-27\",\"2017-09-28\",\"2017-09-29\",\"2017-10-02\",\"2017-10-03\",\"2017-10-04\",\"2017-10-05\",\"2017-10-06\",\"2017-10-10\",\"2017-10-11\",\"2017-10-12\",\"2017-10-13\",\"2017-10-16\",\"2017-10-17\",\"2017-10-18\",\"2017-10-19\",\"2017-10-20\",\"2017-10-23\",\"2017-10-24\",\"2017-10-25\",\"2017-10-26\",\"2017-10-27\",\"2017-10-30\",\"2017-10-31\",\"2017-11-01\",\"2017-11-02\",\"2017-11-06\",\"2017-11-07\",\"2017-11-08\",\"2017-11-09\",\"2017-11-10\",\"2017-11-13\",\"2017-11-14\",\"2017-11-15\",\"2017-11-16\",\"2017-11-17\",\"2017-11-20\",\"2017-11-21\",\"2017-11-22\",\"2017-11-24\",\"2017-11-27\",\"2017-11-28\",\"2017-11-29\",\"2017-11-30\",\"2017-12-01\",\"2017-12-04\",\"2017-12-05\",\"2017-12-06\",\"2017-12-07\",\"2017-12-08\",\"2017-12-11\",\"2017-12-12\",\"2017-12-13\",\"2017-12-14\",\"2017-12-15\",\"2017-12-18\",\"2017-12-19\",\"2017-12-20\",\"2017-12-21\",\"2017-12-22\",\"2017-12-25\",\"2017-12-26\",\"2017-12-27\",\"2017-12-28\",\"2017-12-29\",\"2018-01-04\",\"2018-01-05\",\"2018-01-09\",\"2018-01-10\",\"2018-01-11\",\"2018-01-12\",\"2018-01-15\",\"2018-01-16\",\"2018-01-17\",\"2018-01-18\",\"2018-01-19\",\"2018-01-22\",\"2018-01-23\",\"2018-01-24\",\"2018-01-25\",\"2018-01-26\",\"2018-01-29\",\"2018-01-30\",\"2018-01-31\",\"2018-02-01\",\"2018-02-02\",\"2018-02-05\",\"2018-02-06\",\"2018-02-07\",\"2018-02-08\",\"2018-02-09\",\"2018-02-13\",\"2018-02-14\",\"2018-02-15\",\"2018-02-16\",\"2018-02-19\",\"2018-02-20\",\"2018-02-21\",\"2018-02-22\",\"2018-02-23\",\"2018-02-26\",\"2018-02-27\",\"2018-02-28\",\"2018-03-01\",\"2018-03-02\",\"2018-03-05\",\"2018-03-06\",\"2018-03-07\",\"2018-03-08\",\"2018-03-09\",\"2018-03-12\",\"2018-03-13\",\"2018-03-14\",\"2018-03-15\",\"2018-03-16\",\"2018-03-19\",\"2018-03-20\",\"2018-03-22\",\"2018-03-23\",\"2018-03-26\",\"2018-03-27\",\"2018-03-28\",\"2018-03-29\",\"2018-03-30\",\"2018-04-02\",\"2018-04-03\",\"2018-04-04\",\"2018-04-05\",\"2018-04-06\",\"2018-04-09\",\"2018-04-10\",\"2018-04-11\",\"2018-04-12\",\"2018-04-13\",\"2018-04-16\",\"2018-04-17\",\"2018-04-18\",\"2018-04-19\",\"2018-04-20\",\"2018-04-23\",\"2018-04-24\",\"2018-04-25\",\"2018-04-26\",\"2018-04-27\",\"2018-05-01\",\"2018-05-02\",\"2018-05-07\",\"2018-05-08\",\"2018-05-09\",\"2018-05-10\",\"2018-05-11\",\"2018-05-14\",\"2018-05-15\",\"2018-05-16\",\"2018-05-17\",\"2018-05-18\",\"2018-05-21\",\"2018-05-22\",\"2018-05-23\",\"2018-05-24\",\"2018-05-25\",\"2018-05-28\",\"2018-05-29\",\"2018-05-30\",\"2018-05-31\",\"2018-06-01\",\"2018-06-04\",\"2018-06-05\",\"2018-06-06\",\"2018-06-07\",\"2018-06-08\",\"2018-06-11\",\"2018-06-12\",\"2018-06-13\",\"2018-06-14\",\"2018-06-15\",\"2018-06-18\",\"2018-06-19\",\"2018-06-20\",\"2018-06-21\",\"2018-06-22\",\"2018-06-25\",\"2018-06-26\",\"2018-06-27\",\"2018-06-28\",\"2018-06-29\",\"2018-07-02\",\"2018-07-03\",\"2018-07-04\",\"2018-07-05\",\"2018-07-06\",\"2018-07-09\",\"2018-07-10\",\"2018-07-11\",\"2018-07-12\",\"2018-07-13\",\"2018-07-17\",\"2018-07-18\",\"2018-07-19\",\"2018-07-20\",\"2018-07-23\",\"2018-07-24\",\"2018-07-25\",\"2018-07-26\",\"2018-07-27\",\"2018-07-30\",\"2018-07-31\",\"2018-08-01\",\"2018-08-02\",\"2018-08-03\",\"2018-08-06\",\"2018-08-07\",\"2018-08-08\",\"2018-08-09\",\"2018-08-10\",\"2018-08-13\",\"2018-08-14\",\"2018-08-15\",\"2018-08-16\",\"2018-08-17\",\"2018-08-20\",\"2018-08-21\",\"2018-08-22\",\"2018-08-23\",\"2018-08-24\",\"2018-08-27\",\"2018-08-28\",\"2018-08-29\",\"2018-08-30\",\"2018-08-31\",\"2018-09-03\",\"2018-09-04\",\"2018-09-05\",\"2018-09-06\",\"2018-09-07\",\"2018-09-10\",\"2018-09-11\",\"2018-09-12\",\"2018-09-13\",\"2018-09-14\",\"2018-09-18\",\"2018-09-19\",\"2018-09-20\",\"2018-09-21\",\"2018-09-25\",\"2018-09-26\",\"2018-09-27\",\"2018-09-28\",\"2018-10-01\",\"2018-10-02\",\"2018-10-03\",\"2018-10-04\",\"2018-10-05\",\"2018-10-09\",\"2018-10-10\",\"2018-10-11\",\"2018-10-12\",\"2018-10-15\",\"2018-10-16\",\"2018-10-17\",\"2018-10-18\",\"2018-10-19\",\"2018-10-22\",\"2018-10-23\",\"2018-10-24\",\"2018-10-25\",\"2018-10-26\",\"2018-10-29\",\"2018-10-30\",\"2018-10-31\",\"2018-11-01\",\"2018-11-02\",\"2018-11-05\",\"2018-11-06\",\"2018-11-07\",\"2018-11-08\",\"2018-11-09\",\"2018-11-12\",\"2018-11-13\",\"2018-11-14\",\"2018-11-15\",\"2018-11-16\",\"2018-11-19\",\"2018-11-20\",\"2018-11-21\",\"2018-11-22\",\"2018-11-26\",\"2018-11-27\",\"2018-11-28\",\"2018-11-29\",\"2018-11-30\",\"2018-12-03\",\"2018-12-04\",\"2018-12-05\",\"2018-12-06\",\"2018-12-07\",\"2018-12-10\",\"2018-12-11\",\"2018-12-12\",\"2018-12-13\",\"2018-12-14\",\"2018-12-17\",\"2018-12-18\",\"2018-12-19\",\"2018-12-20\",\"2018-12-21\",\"2018-12-25\",\"2018-12-26\",\"2018-12-27\",\"2018-12-28\",\"2019-01-04\",\"2019-01-07\",\"2019-01-08\",\"2019-01-09\",\"2019-01-10\",\"2019-01-11\",\"2019-01-15\",\"2019-01-16\",\"2019-01-17\",\"2019-01-18\",\"2019-01-21\",\"2019-01-22\",\"2019-01-23\",\"2019-01-24\",\"2019-01-25\",\"2019-01-28\",\"2019-01-29\",\"2019-01-30\",\"2019-01-31\",\"2019-02-01\",\"2019-02-04\",\"2019-02-05\",\"2019-02-06\",\"2019-02-07\",\"2019-02-08\",\"2019-02-12\",\"2019-02-13\",\"2019-02-14\",\"2019-02-15\",\"2019-02-18\",\"2019-02-19\",\"2019-02-20\",\"2019-02-21\",\"2019-02-22\",\"2019-02-25\",\"2019-02-26\",\"2019-02-27\",\"2019-02-28\",\"2019-03-01\",\"2019-03-04\",\"2019-03-05\",\"2019-03-06\",\"2019-03-07\",\"2019-03-08\",\"2019-03-11\",\"2019-03-12\",\"2019-03-13\",\"2019-03-14\",\"2019-03-15\",\"2019-03-18\",\"2019-03-19\",\"2019-03-20\",\"2019-03-22\",\"2019-03-25\",\"2019-03-26\",\"2019-03-27\",\"2019-03-28\",\"2019-03-29\",\"2019-04-01\",\"2019-04-02\",\"2019-04-03\",\"2019-04-04\",\"2019-04-05\",\"2019-04-08\",\"2019-04-09\",\"2019-04-10\",\"2019-04-11\",\"2019-04-12\",\"2019-04-15\",\"2019-04-16\",\"2019-04-17\",\"2019-04-18\",\"2019-04-19\",\"2019-04-22\",\"2019-04-23\",\"2019-04-24\",\"2019-04-25\",\"2019-04-26\",\"2019-05-07\",\"2019-05-08\",\"2019-05-09\",\"2019-05-10\",\"2019-05-13\",\"2019-05-14\",\"2019-05-15\",\"2019-05-16\",\"2019-05-17\",\"2019-05-20\",\"2019-05-21\",\"2019-05-22\",\"2019-05-23\",\"2019-05-24\",\"2019-05-27\",\"2019-05-28\",\"2019-05-29\",\"2019-05-30\",\"2019-05-31\",\"2019-06-03\",\"2019-06-04\",\"2019-06-05\",\"2019-06-06\",\"2019-06-07\",\"2019-06-10\",\"2019-06-11\",\"2019-06-12\",\"2019-06-13\",\"2019-06-14\",\"2019-06-17\",\"2019-06-18\",\"2019-06-19\",\"2019-06-20\",\"2019-06-21\",\"2019-06-24\",\"2019-06-25\",\"2019-06-26\",\"2019-06-27\",\"2019-06-28\",\"2019-07-01\",\"2019-07-02\",\"2019-07-03\",\"2019-07-04\",\"2019-07-05\",\"2019-07-08\",\"2019-07-09\",\"2019-07-10\",\"2019-07-11\",\"2019-07-12\",\"2019-07-16\",\"2019-07-17\",\"2019-07-18\",\"2019-07-19\",\"2019-07-22\",\"2019-07-23\",\"2019-07-24\",\"2019-07-25\",\"2019-07-26\",\"2019-07-29\",\"2019-07-30\",\"2019-07-31\",\"2019-08-01\",\"2019-08-02\",\"2019-08-05\",\"2019-08-06\",\"2019-08-07\",\"2019-08-08\",\"2019-08-09\",\"2019-08-13\",\"2019-08-14\",\"2019-08-15\",\"2019-08-16\",\"2019-08-19\",\"2019-08-20\",\"2019-08-21\",\"2019-08-22\",\"2019-08-23\",\"2019-08-26\",\"2019-08-27\",\"2019-08-28\",\"2019-08-29\",\"2019-08-30\",\"2019-09-02\",\"2019-09-03\",\"2019-09-04\",\"2019-09-05\",\"2019-09-06\",\"2019-09-09\",\"2019-09-10\",\"2019-09-11\",\"2019-09-12\",\"2019-09-13\",\"2019-09-17\",\"2019-09-18\",\"2019-09-19\",\"2019-09-20\",\"2019-09-24\",\"2019-09-25\",\"2019-09-26\",\"2019-09-27\",\"2019-09-30\",\"2019-10-01\",\"2019-10-02\",\"2019-10-03\",\"2019-10-04\",\"2019-10-07\",\"2019-10-08\",\"2019-10-09\",\"2019-10-10\",\"2019-10-11\",\"2019-10-15\",\"2019-10-16\",\"2019-10-17\",\"2019-10-18\",\"2019-10-21\",\"2019-10-23\",\"2019-10-24\",\"2019-10-25\",\"2019-10-28\",\"2019-10-29\",\"2019-10-30\",\"2019-10-31\",\"2019-11-01\",\"2019-11-05\",\"2019-11-06\",\"2019-11-07\",\"2019-11-08\",\"2019-11-11\",\"2019-11-12\",\"2019-11-13\",\"2019-11-14\",\"2019-11-15\",\"2019-11-18\",\"2019-11-19\",\"2019-11-20\",\"2019-11-21\",\"2019-11-22\",\"2019-11-25\",\"2019-11-26\",\"2019-11-27\",\"2019-11-28\",\"2019-11-29\",\"2019-12-02\",\"2019-12-03\",\"2019-12-04\",\"2019-12-05\",\"2019-12-06\",\"2019-12-09\",\"2019-12-10\",\"2019-12-11\",\"2019-12-12\",\"2019-12-13\",\"2019-12-16\",\"2019-12-17\",\"2019-12-18\",\"2019-12-19\",\"2019-12-20\",\"2019-12-23\",\"2019-12-24\",\"2019-12-25\",\"2019-12-26\",\"2019-12-27\",\"2019-12-30\",\"2020-01-06\",\"2020-01-07\",\"2020-01-08\",\"2020-01-09\",\"2020-01-10\",\"2020-01-14\",\"2020-01-15\",\"2020-01-16\",\"2020-01-17\",\"2020-01-20\",\"2020-01-21\",\"2020-01-22\",\"2020-01-23\",\"2020-01-24\",\"2020-01-27\",\"2020-01-28\",\"2020-01-29\",\"2020-01-30\",\"2020-01-31\",\"2020-02-03\",\"2020-02-04\",\"2020-02-05\",\"2020-02-06\",\"2020-02-07\",\"2020-02-10\",\"2020-02-12\",\"2020-02-13\",\"2020-02-14\",\"2020-02-17\",\"2020-02-18\",\"2020-02-19\",\"2020-02-20\",\"2020-02-21\",\"2020-02-25\",\"2020-02-26\",\"2020-02-27\",\"2020-02-28\",\"2020-03-02\",\"2020-03-03\",\"2020-03-04\",\"2020-03-05\",\"2020-03-06\",\"2020-03-09\",\"2020-03-10\",\"2020-03-11\",\"2020-03-12\",\"2020-03-13\",\"2020-03-16\",\"2020-03-17\",\"2020-03-18\",\"2020-03-19\",\"2020-03-23\",\"2020-03-24\",\"2020-03-25\",\"2020-03-26\",\"2020-03-27\",\"2020-03-30\",\"2020-03-31\",\"2020-04-01\",\"2020-04-02\",\"2020-04-03\",\"2020-04-06\",\"2020-04-07\",\"2020-04-08\",\"2020-04-09\",\"2020-04-10\",\"2020-04-13\",\"2020-04-14\",\"2020-04-15\",\"2020-04-16\",\"2020-04-17\",\"2020-04-20\",\"2020-04-21\",\"2020-04-22\",\"2020-04-23\",\"2020-04-24\",\"2020-04-27\",\"2020-04-28\",\"2020-04-30\",\"2020-05-01\",\"2020-05-07\",\"2020-05-08\",\"2020-05-11\",\"2020-05-12\",\"2020-05-13\",\"2020-05-14\",\"2020-05-15\",\"2020-05-18\",\"2020-05-19\",\"2020-05-20\",\"2020-05-21\",\"2020-05-22\",\"2020-05-25\",\"2020-05-26\",\"2020-05-27\",\"2020-05-28\",\"2020-05-29\",\"2020-06-01\",\"2020-06-02\",\"2020-06-03\",\"2020-06-04\",\"2020-06-05\",\"2020-06-08\",\"2020-06-09\",\"2020-06-10\",\"2020-06-11\",\"2020-06-12\",\"2020-06-15\",\"2020-06-16\",\"2020-06-17\",\"2020-06-18\",\"2020-06-19\",\"2020-06-22\",\"2020-06-23\",\"2020-06-24\",\"2020-06-25\",\"2020-06-26\",\"2020-06-29\",\"2020-06-30\",\"2020-07-01\",\"2020-07-02\",\"2020-07-03\",\"2020-07-06\",\"2020-07-07\",\"2020-07-08\",\"2020-07-09\",\"2020-07-10\",\"2020-07-13\",\"2020-07-14\",\"2020-07-15\",\"2020-07-16\",\"2020-07-17\",\"2020-07-20\",\"2020-07-21\",\"2020-07-22\",\"2020-07-27\",\"2020-07-28\",\"2020-07-29\",\"2020-07-30\",\"2020-07-31\",\"2020-08-03\",\"2020-08-04\",\"2020-08-05\",\"2020-08-06\",\"2020-08-07\",\"2020-08-11\",\"2020-08-12\",\"2020-08-13\",\"2020-08-14\",\"2020-08-17\",\"2020-08-18\",\"2020-08-19\",\"2020-08-20\",\"2020-08-21\",\"2020-08-24\",\"2020-08-25\",\"2020-08-26\",\"2020-08-27\",\"2020-08-28\",\"2020-08-31\",\"2020-09-01\",\"2020-09-02\",\"2020-09-03\",\"2020-09-04\",\"2020-09-07\",\"2020-09-08\",\"2020-09-09\",\"2020-09-10\",\"2020-09-11\",\"2020-09-14\",\"2020-09-15\",\"2020-09-16\",\"2020-09-17\",\"2020-09-18\",\"2020-09-23\",\"2020-09-24\",\"2020-09-25\",\"2020-09-28\",\"2020-09-29\",\"2020-09-30\",\"2020-10-01\",\"2020-10-02\",\"2020-10-05\",\"2020-10-06\",\"2020-10-07\",\"2020-10-08\",\"2020-10-09\",\"2020-10-12\",\"2020-10-13\",\"2020-10-14\",\"2020-10-15\",\"2020-10-16\",\"2020-10-19\",\"2020-10-20\",\"2020-10-21\",\"2020-10-22\",\"2020-10-23\",\"2020-10-26\",\"2020-10-27\",\"2020-10-28\",\"2020-10-29\",\"2020-10-30\",\"2020-11-02\",\"2020-11-04\",\"2020-11-05\",\"2020-11-06\",\"2020-11-09\",\"2020-11-10\",\"2020-11-11\",\"2020-11-12\",\"2020-11-13\",\"2020-11-16\",\"2020-11-17\",\"2020-11-18\",\"2020-11-19\",\"2020-11-20\",\"2020-11-24\",\"2020-11-25\",\"2020-11-26\",\"2020-11-27\",\"2020-11-30\",\"2020-12-01\",\"2020-12-02\",\"2020-12-03\",\"2020-12-04\",\"2020-12-07\",\"2020-12-08\",\"2020-12-09\",\"2020-12-10\",\"2020-12-11\",\"2020-12-14\",\"2020-12-15\",\"2020-12-16\",\"2020-12-17\",\"2020-12-18\",\"2020-12-21\",\"2020-12-22\",\"2020-12-23\",\"2020-12-24\",\"2020-12-25\",\"2020-12-28\",\"2020-12-29\",\"2020-12-30\",\"2021-01-04\",\"2021-01-05\",\"2021-01-06\",\"2021-01-07\",\"2021-01-08\",\"2021-01-12\",\"2021-01-13\",\"2021-01-14\",\"2021-01-15\",\"2021-01-18\",\"2021-01-19\",\"2021-01-20\",\"2021-01-21\",\"2021-01-22\",\"2021-01-25\",\"2021-01-26\",\"2021-01-27\",\"2021-01-28\",\"2021-01-29\",\"2021-02-01\",\"2021-02-02\",\"2021-02-03\",\"2021-02-04\",\"2021-02-05\",\"2021-02-08\",\"2021-02-09\",\"2021-02-10\",\"2021-02-12\",\"2021-02-15\",\"2021-02-16\",\"2021-02-17\",\"2021-02-18\",\"2021-02-19\",\"2021-02-22\",\"2021-02-24\",\"2021-02-25\",\"2021-02-26\",\"2021-03-01\",\"2021-03-02\",\"2021-03-03\",\"2021-03-04\",\"2021-03-05\",\"2021-03-08\",\"2021-03-09\",\"2021-03-10\",\"2021-03-11\",\"2021-03-12\",\"2021-03-15\",\"2021-03-16\",\"2021-03-17\",\"2021-03-18\",\"2021-03-19\",\"2021-03-22\",\"2021-03-23\",\"2021-03-24\",\"2021-03-25\",\"2021-03-26\",\"2021-03-29\",\"2021-03-30\",\"2021-03-31\",\"2021-04-01\",\"2021-04-02\",\"2021-04-05\",\"2021-04-06\",\"2021-04-07\",\"2021-04-08\",\"2021-04-09\",\"2021-04-12\",\"2021-04-13\",\"2021-04-14\",\"2021-04-15\",\"2021-04-16\",\"2021-04-19\",\"2021-04-20\",\"2021-04-21\",\"2021-04-22\",\"2021-04-23\",\"2021-04-26\",\"2021-04-27\",\"2021-04-28\",\"2021-04-30\",\"2021-05-06\",\"2021-05-07\",\"2021-05-10\",\"2021-05-11\",\"2021-05-12\",\"2021-05-13\",\"2021-05-14\",\"2021-05-17\",\"2021-05-18\",\"2021-05-19\",\"2021-05-20\",\"2021-05-21\",\"2021-05-24\",\"2021-05-25\",\"2021-05-26\",\"2021-05-27\",\"2021-05-28\",\"2021-05-31\",\"2021-06-01\",\"2021-06-02\",\"2021-06-03\",\"2021-06-04\",\"2021-06-07\",\"2021-06-08\",\"2021-06-09\",\"2021-06-10\",\"2021-06-11\",\"2021-06-14\",\"2021-06-15\",\"2021-06-16\",\"2021-06-17\",\"2021-06-18\",\"2021-06-21\",\"2021-06-22\",\"2021-06-23\",\"2021-06-24\",\"2021-06-25\",\"2021-06-28\",\"2021-06-29\",\"2021-06-30\",\"2021-07-01\",\"2021-07-02\",\"2021-07-05\",\"2021-07-06\",\"2021-07-07\",\"2021-07-08\",\"2021-07-09\",\"2021-07-12\",\"2021-07-13\",\"2021-07-14\",\"2021-07-15\",\"2021-07-16\",\"2021-07-19\",\"2021-07-20\",\"2021-07-21\",\"2021-07-26\",\"2021-07-27\",\"2021-07-28\",\"2021-07-29\",\"2021-07-30\",\"2021-08-02\",\"2021-08-03\",\"2021-08-04\",\"2021-08-05\",\"2021-08-06\",\"2021-08-10\",\"2021-08-11\",\"2021-08-12\",\"2021-08-13\",\"2021-08-16\",\"2021-08-17\",\"2021-08-18\",\"2021-08-19\",\"2021-08-20\",\"2021-08-23\",\"2021-08-24\",\"2021-08-25\",\"2021-08-26\",\"2021-08-27\",\"2021-08-30\",\"2021-08-31\",\"2021-09-01\",\"2021-09-02\",\"2021-09-03\",\"2021-09-06\",\"2021-09-07\",\"2021-09-08\",\"2021-09-09\",\"2021-09-10\",\"2021-09-13\",\"2021-09-14\",\"2021-09-15\",\"2021-09-16\",\"2021-09-17\",\"2021-09-21\",\"2021-09-22\",\"2021-09-24\",\"2021-09-27\",\"2021-09-28\",\"2021-09-29\",\"2021-09-30\",\"2021-10-01\",\"2021-10-04\",\"2021-10-05\",\"2021-10-06\",\"2021-10-07\",\"2021-10-08\",\"2021-10-11\",\"2021-10-12\",\"2021-10-13\",\"2021-10-14\",\"2021-10-15\",\"2021-10-18\",\"2021-10-19\",\"2021-10-20\",\"2021-10-21\",\"2021-10-22\",\"2021-10-25\",\"2021-10-26\",\"2021-10-27\",\"2021-10-28\",\"2021-10-29\",\"2021-11-01\",\"2021-11-02\",\"2021-11-04\",\"2021-11-05\",\"2021-11-08\",\"2021-11-09\",\"2021-11-10\",\"2021-11-11\",\"2021-11-12\",\"2021-11-15\",\"2021-11-16\",\"2021-11-17\",\"2021-11-18\",\"2021-11-19\",\"2021-11-22\",\"2021-11-24\",\"2021-11-25\",\"2021-11-26\",\"2021-11-29\",\"2021-11-30\",\"2021-12-01\",\"2021-12-02\",\"2021-12-03\"],\"type\":\"candlestick\"}],                        {\"template\":{\"data\":{\"bar\":[{\"error_x\":{\"color\":\"#2a3f5f\"},\"error_y\":{\"color\":\"#2a3f5f\"},\"marker\":{\"line\":{\"color\":\"#E5ECF6\",\"width\":0.5},\"pattern\":{\"fillmode\":\"overlay\",\"size\":10,\"solidity\":0.2}},\"type\":\"bar\"}],\"barpolar\":[{\"marker\":{\"line\":{\"color\":\"#E5ECF6\",\"width\":0.5},\"pattern\":{\"fillmode\":\"overlay\",\"size\":10,\"solidity\":0.2}},\"type\":\"barpolar\"}],\"carpet\":[{\"aaxis\":{\"endlinecolor\":\"#2a3f5f\",\"gridcolor\":\"white\",\"linecolor\":\"white\",\"minorgridcolor\":\"white\",\"startlinecolor\":\"#2a3f5f\"},\"baxis\":{\"endlinecolor\":\"#2a3f5f\",\"gridcolor\":\"white\",\"linecolor\":\"white\",\"minorgridcolor\":\"white\",\"startlinecolor\":\"#2a3f5f\"},\"type\":\"carpet\"}],\"choropleth\":[{\"colorbar\":{\"outlinewidth\":0,\"ticks\":\"\"},\"type\":\"choropleth\"}],\"contour\":[{\"colorbar\":{\"outlinewidth\":0,\"ticks\":\"\"},\"colorscale\":[[0.0,\"#0d0887\"],[0.1111111111111111,\"#46039f\"],[0.2222222222222222,\"#7201a8\"],[0.3333333333333333,\"#9c179e\"],[0.4444444444444444,\"#bd3786\"],[0.5555555555555556,\"#d8576b\"],[0.6666666666666666,\"#ed7953\"],[0.7777777777777778,\"#fb9f3a\"],[0.8888888888888888,\"#fdca26\"],[1.0,\"#f0f921\"]],\"type\":\"contour\"}],\"contourcarpet\":[{\"colorbar\":{\"outlinewidth\":0,\"ticks\":\"\"},\"type\":\"contourcarpet\"}],\"heatmap\":[{\"colorbar\":{\"outlinewidth\":0,\"ticks\":\"\"},\"colorscale\":[[0.0,\"#0d0887\"],[0.1111111111111111,\"#46039f\"],[0.2222222222222222,\"#7201a8\"],[0.3333333333333333,\"#9c179e\"],[0.4444444444444444,\"#bd3786\"],[0.5555555555555556,\"#d8576b\"],[0.6666666666666666,\"#ed7953\"],[0.7777777777777778,\"#fb9f3a\"],[0.8888888888888888,\"#fdca26\"],[1.0,\"#f0f921\"]],\"type\":\"heatmap\"}],\"heatmapgl\":[{\"colorbar\":{\"outlinewidth\":0,\"ticks\":\"\"},\"colorscale\":[[0.0,\"#0d0887\"],[0.1111111111111111,\"#46039f\"],[0.2222222222222222,\"#7201a8\"],[0.3333333333333333,\"#9c179e\"],[0.4444444444444444,\"#bd3786\"],[0.5555555555555556,\"#d8576b\"],[0.6666666666666666,\"#ed7953\"],[0.7777777777777778,\"#fb9f3a\"],[0.8888888888888888,\"#fdca26\"],[1.0,\"#f0f921\"]],\"type\":\"heatmapgl\"}],\"histogram\":[{\"marker\":{\"pattern\":{\"fillmode\":\"overlay\",\"size\":10,\"solidity\":0.2}},\"type\":\"histogram\"}],\"histogram2d\":[{\"colorbar\":{\"outlinewidth\":0,\"ticks\":\"\"},\"colorscale\":[[0.0,\"#0d0887\"],[0.1111111111111111,\"#46039f\"],[0.2222222222222222,\"#7201a8\"],[0.3333333333333333,\"#9c179e\"],[0.4444444444444444,\"#bd3786\"],[0.5555555555555556,\"#d8576b\"],[0.6666666666666666,\"#ed7953\"],[0.7777777777777778,\"#fb9f3a\"],[0.8888888888888888,\"#fdca26\"],[1.0,\"#f0f921\"]],\"type\":\"histogram2d\"}],\"histogram2dcontour\":[{\"colorbar\":{\"outlinewidth\":0,\"ticks\":\"\"},\"colorscale\":[[0.0,\"#0d0887\"],[0.1111111111111111,\"#46039f\"],[0.2222222222222222,\"#7201a8\"],[0.3333333333333333,\"#9c179e\"],[0.4444444444444444,\"#bd3786\"],[0.5555555555555556,\"#d8576b\"],[0.6666666666666666,\"#ed7953\"],[0.7777777777777778,\"#fb9f3a\"],[0.8888888888888888,\"#fdca26\"],[1.0,\"#f0f921\"]],\"type\":\"histogram2dcontour\"}],\"mesh3d\":[{\"colorbar\":{\"outlinewidth\":0,\"ticks\":\"\"},\"type\":\"mesh3d\"}],\"parcoords\":[{\"line\":{\"colorbar\":{\"outlinewidth\":0,\"ticks\":\"\"}},\"type\":\"parcoords\"}],\"pie\":[{\"automargin\":true,\"type\":\"pie\"}],\"scatter\":[{\"marker\":{\"colorbar\":{\"outlinewidth\":0,\"ticks\":\"\"}},\"type\":\"scatter\"}],\"scatter3d\":[{\"line\":{\"colorbar\":{\"outlinewidth\":0,\"ticks\":\"\"}},\"marker\":{\"colorbar\":{\"outlinewidth\":0,\"ticks\":\"\"}},\"type\":\"scatter3d\"}],\"scattercarpet\":[{\"marker\":{\"colorbar\":{\"outlinewidth\":0,\"ticks\":\"\"}},\"type\":\"scattercarpet\"}],\"scattergeo\":[{\"marker\":{\"colorbar\":{\"outlinewidth\":0,\"ticks\":\"\"}},\"type\":\"scattergeo\"}],\"scattergl\":[{\"marker\":{\"colorbar\":{\"outlinewidth\":0,\"ticks\":\"\"}},\"type\":\"scattergl\"}],\"scattermapbox\":[{\"marker\":{\"colorbar\":{\"outlinewidth\":0,\"ticks\":\"\"}},\"type\":\"scattermapbox\"}],\"scatterpolar\":[{\"marker\":{\"colorbar\":{\"outlinewidth\":0,\"ticks\":\"\"}},\"type\":\"scatterpolar\"}],\"scatterpolargl\":[{\"marker\":{\"colorbar\":{\"outlinewidth\":0,\"ticks\":\"\"}},\"type\":\"scatterpolargl\"}],\"scatterternary\":[{\"marker\":{\"colorbar\":{\"outlinewidth\":0,\"ticks\":\"\"}},\"type\":\"scatterternary\"}],\"surface\":[{\"colorbar\":{\"outlinewidth\":0,\"ticks\":\"\"},\"colorscale\":[[0.0,\"#0d0887\"],[0.1111111111111111,\"#46039f\"],[0.2222222222222222,\"#7201a8\"],[0.3333333333333333,\"#9c179e\"],[0.4444444444444444,\"#bd3786\"],[0.5555555555555556,\"#d8576b\"],[0.6666666666666666,\"#ed7953\"],[0.7777777777777778,\"#fb9f3a\"],[0.8888888888888888,\"#fdca26\"],[1.0,\"#f0f921\"]],\"type\":\"surface\"}],\"table\":[{\"cells\":{\"fill\":{\"color\":\"#EBF0F8\"},\"line\":{\"color\":\"white\"}},\"header\":{\"fill\":{\"color\":\"#C8D4E3\"},\"line\":{\"color\":\"white\"}},\"type\":\"table\"}]},\"layout\":{\"annotationdefaults\":{\"arrowcolor\":\"#2a3f5f\",\"arrowhead\":0,\"arrowwidth\":1},\"autotypenumbers\":\"strict\",\"coloraxis\":{\"colorbar\":{\"outlinewidth\":0,\"ticks\":\"\"}},\"colorscale\":{\"diverging\":[[0,\"#8e0152\"],[0.1,\"#c51b7d\"],[0.2,\"#de77ae\"],[0.3,\"#f1b6da\"],[0.4,\"#fde0ef\"],[0.5,\"#f7f7f7\"],[0.6,\"#e6f5d0\"],[0.7,\"#b8e186\"],[0.8,\"#7fbc41\"],[0.9,\"#4d9221\"],[1,\"#276419\"]],\"sequential\":[[0.0,\"#0d0887\"],[0.1111111111111111,\"#46039f\"],[0.2222222222222222,\"#7201a8\"],[0.3333333333333333,\"#9c179e\"],[0.4444444444444444,\"#bd3786\"],[0.5555555555555556,\"#d8576b\"],[0.6666666666666666,\"#ed7953\"],[0.7777777777777778,\"#fb9f3a\"],[0.8888888888888888,\"#fdca26\"],[1.0,\"#f0f921\"]],\"sequentialminus\":[[0.0,\"#0d0887\"],[0.1111111111111111,\"#46039f\"],[0.2222222222222222,\"#7201a8\"],[0.3333333333333333,\"#9c179e\"],[0.4444444444444444,\"#bd3786\"],[0.5555555555555556,\"#d8576b\"],[0.6666666666666666,\"#ed7953\"],[0.7777777777777778,\"#fb9f3a\"],[0.8888888888888888,\"#fdca26\"],[1.0,\"#f0f921\"]]},\"colorway\":[\"#636efa\",\"#EF553B\",\"#00cc96\",\"#ab63fa\",\"#FFA15A\",\"#19d3f3\",\"#FF6692\",\"#B6E880\",\"#FF97FF\",\"#FECB52\"],\"font\":{\"color\":\"#2a3f5f\"},\"geo\":{\"bgcolor\":\"white\",\"lakecolor\":\"white\",\"landcolor\":\"#E5ECF6\",\"showlakes\":true,\"showland\":true,\"subunitcolor\":\"white\"},\"hoverlabel\":{\"align\":\"left\"},\"hovermode\":\"closest\",\"mapbox\":{\"style\":\"light\"},\"paper_bgcolor\":\"white\",\"plot_bgcolor\":\"#E5ECF6\",\"polar\":{\"angularaxis\":{\"gridcolor\":\"white\",\"linecolor\":\"white\",\"ticks\":\"\"},\"bgcolor\":\"#E5ECF6\",\"radialaxis\":{\"gridcolor\":\"white\",\"linecolor\":\"white\",\"ticks\":\"\"}},\"scene\":{\"xaxis\":{\"backgroundcolor\":\"#E5ECF6\",\"gridcolor\":\"white\",\"gridwidth\":2,\"linecolor\":\"white\",\"showbackground\":true,\"ticks\":\"\",\"zerolinecolor\":\"white\"},\"yaxis\":{\"backgroundcolor\":\"#E5ECF6\",\"gridcolor\":\"white\",\"gridwidth\":2,\"linecolor\":\"white\",\"showbackground\":true,\"ticks\":\"\",\"zerolinecolor\":\"white\"},\"zaxis\":{\"backgroundcolor\":\"#E5ECF6\",\"gridcolor\":\"white\",\"gridwidth\":2,\"linecolor\":\"white\",\"showbackground\":true,\"ticks\":\"\",\"zerolinecolor\":\"white\"}},\"shapedefaults\":{\"line\":{\"color\":\"#2a3f5f\"}},\"ternary\":{\"aaxis\":{\"gridcolor\":\"white\",\"linecolor\":\"white\",\"ticks\":\"\"},\"baxis\":{\"gridcolor\":\"white\",\"linecolor\":\"white\",\"ticks\":\"\"},\"bgcolor\":\"#E5ECF6\",\"caxis\":{\"gridcolor\":\"white\",\"linecolor\":\"white\",\"ticks\":\"\"}},\"title\":{\"x\":0.05},\"xaxis\":{\"automargin\":true,\"gridcolor\":\"white\",\"linecolor\":\"white\",\"ticks\":\"\",\"title\":{\"standoff\":15},\"zerolinecolor\":\"white\",\"zerolinewidth\":2},\"yaxis\":{\"automargin\":true,\"gridcolor\":\"white\",\"linecolor\":\"white\",\"ticks\":\"\",\"title\":{\"standoff\":15},\"zerolinecolor\":\"white\",\"zerolinewidth\":2}}},\"title\":{\"text\":\"Selected securieties codes charts\"},\"updatemenus\":[{\"active\":0,\"buttons\":[{\"args\":[{\"visible\":[true,true,true,true,true,true,true,true,true,true],\"title\":\"All\",\"showlegend\":false}],\"label\":\"All_10\",\"method\":\"update\"},{\"args\":[{\"visible\":[true,false,false,false,false,false,false,false,false,false],\"title\":\"1301\",\"showlegend\":false}],\"label\":\"1301\",\"method\":\"update\"},{\"args\":[{\"visible\":[false,true,false,false,false,false,false,false,false,false],\"title\":\"1332\",\"showlegend\":false}],\"label\":\"1332\",\"method\":\"update\"},{\"args\":[{\"visible\":[false,false,true,false,false,false,false,false,false,false],\"title\":\"1333\",\"showlegend\":false}],\"label\":\"1333\",\"method\":\"update\"},{\"args\":[{\"visible\":[false,false,false,true,false,false,false,false,false,false],\"title\":\"1376\",\"showlegend\":false}],\"label\":\"1376\",\"method\":\"update\"},{\"args\":[{\"visible\":[false,false,false,false,true,false,false,false,false,false],\"title\":\"1377\",\"showlegend\":false}],\"label\":\"1377\",\"method\":\"update\"},{\"args\":[{\"visible\":[false,false,false,false,false,true,false,false,false,false],\"title\":\"1379\",\"showlegend\":false}],\"label\":\"1379\",\"method\":\"update\"},{\"args\":[{\"visible\":[false,false,false,false,false,false,true,false,false,false],\"title\":\"1381\",\"showlegend\":false}],\"label\":\"1381\",\"method\":\"update\"},{\"args\":[{\"visible\":[false,false,false,false,false,false,false,true,false,false],\"title\":\"1407\",\"showlegend\":false}],\"label\":\"1407\",\"method\":\"update\"},{\"args\":[{\"visible\":[false,false,false,false,false,false,false,false,true,false],\"title\":\"1414\",\"showlegend\":false}],\"label\":\"1414\",\"method\":\"update\"},{\"args\":[{\"visible\":[false,false,false,false,false,false,false,false,false,true],\"title\":\"1417\",\"showlegend\":false}],\"label\":\"1417\",\"method\":\"update\"}]}]},                        {\"responsive\": true}                    ).then(function(){\n",
              "                            \n",
              "var gd = document.getElementById('94a73ef3-a3d6-4fa5-b3a6-ce234dd033b3');\n",
              "var x = new MutationObserver(function (mutations, observer) {{\n",
              "        var display = window.getComputedStyle(gd).display;\n",
              "        if (!display || display === 'none') {{\n",
              "            console.log([gd, 'removed!']);\n",
              "            Plotly.purge(gd);\n",
              "            observer.disconnect();\n",
              "        }}\n",
              "}});\n",
              "\n",
              "// Listen for the removal of the full notebook cells\n",
              "var notebookContainer = gd.closest('#notebook-container');\n",
              "if (notebookContainer) {{\n",
              "    x.observe(notebookContainer, {childList: true});\n",
              "}}\n",
              "\n",
              "// Listen for the clearing of the current output cell\n",
              "var outputEl = gd.closest('.output');\n",
              "if (outputEl) {{\n",
              "    x.observe(outputEl, {childList: true});\n",
              "}}\n",
              "\n",
              "                        })                };                            </script>        </div>\n",
              "</body>\n",
              "</html>"
            ]
          },
          "metadata": {}
        }
      ],
      "source": [
        "# securieties codes list cut to first ten securieties\n",
        "securieties_codes_head: list = securieties_codes[:10]\n",
        "\n",
        "fig = go.Figure()\n",
        "\n",
        "# creating traces for figure - candelstick figures for selected securieties\n",
        "for securities_code in securieties_codes_head:\n",
        "  fig.add_trace(\n",
        "      go.Candlestick(x=data.loc[securities_code].index,\n",
        "                     open=data.loc[securities_code]['Open'],\n",
        "                     high=data.loc[securities_code]['High'],\n",
        "                     low=data.loc[securities_code]['Low'],\n",
        "                     close=data.loc[securities_code]['Close'])\n",
        "  )\n",
        "\n",
        "button_all: list = [dict(label = f'All_{len(securieties_codes_head)}',\n",
        "                  method = 'update',\n",
        "                  args = [{'visible': [True for sec_code in securieties_codes_head],\n",
        "                            'title': 'All',\n",
        "                            'showlegend':False}]),]\n",
        "\n",
        "def create_securieties_button(securieties_code: int) -> dict:\n",
        "  \"\"\"\n",
        "  Creates single button description for securieties menu.\n",
        "  \n",
        "  :param X: Securieties code\n",
        "  :return: Single button description\n",
        "  :\n",
        "  \"\"\"\n",
        "  return dict(label=str(securieties_code),\n",
        "              method='update',\n",
        "              args=[{'visible': [sec_code == securieties_code \n",
        "                                 for sec_code in securieties_codes_head],\n",
        "                     'title': str(securieties_code),\n",
        "                     'showlegend': False}])\n",
        "\n",
        "# buttons list (with 'all values' button)\n",
        "buttons: list  = [create_securieties_button(sec_code) \n",
        "                    for sec_code in securieties_codes_head]\n",
        "all_buttons: list = button_all + buttons\n",
        "\n",
        "# adding menu to plot\n",
        "fig.update_layout(title='Selected securieties codes charts',\n",
        "    updatemenus=[go.layout.Updatemenu(\n",
        "        active=0,\n",
        "        buttons= all_buttons\n",
        ")])\n",
        "\n",
        "fig.show()"
      ]
    },
    {
      "cell_type": "code",
      "source": [
        "# checking if nulls in OHLC occurs always in all OHLC at ones\n",
        "\n",
        "# df with rowids\n",
        "ohlc_nulls = data['RowId'].to_frame()\n",
        "\n",
        "# how many rows with null values in all OHLC at ones\n",
        "ohlc_nulls['all'] = data[['Open', 'High', 'Low', 'Close']].isna().all(axis=1)\n",
        "\n",
        "# how many rows where null values is in only one OHLC\n",
        "ohlc_nulls['any'] = data[['Open', 'High', 'Low', 'Close']].isna().any(axis=1)\n",
        "\n",
        "# for which RowIds nulls in any of OHLC do not overlap nulls witk all of OHLC\n",
        "ohlc_nulls['RowId'][ohlc_nulls['any'] != ohlc_nulls['all']]\n",
        "# there are non that kind of rows"
      ],
      "metadata": {
        "colab": {
          "base_uri": "https://localhost:8080/"
        },
        "id": "GkKfuIMQNJ3M",
        "outputId": "7a27eac4-51f4-41e9-abbc-43f26aa52c93"
      },
      "execution_count": 100,
      "outputs": [
        {
          "output_type": "execute_result",
          "data": {
            "text/plain": [
              "Series([], Name: RowId, dtype: object)"
            ]
          },
          "metadata": {},
          "execution_count": 100
        }
      ]
    },
    {
      "cell_type": "code",
      "source": [
        "# dates were all securieties do not have OHLC values \n",
        "# series of dates where all securieties count == securieties with all nulls in OHLC\n",
        "ohlc_nulls_all=ohlc_nulls['RowId'].groupby(['Date']).count() == ohlc_nulls['all'].groupby(['Date']).sum()\n",
        "\n",
        "# dates where this occured\n",
        "ohlc_nulls_all[ohlc_nulls_all]\n",
        "\n",
        "#there were only one date like that\n",
        "# https://www.jpx.co.jp/english/corporate/news/news-releases/0060/20201019-01.html"
      ],
      "metadata": {
        "colab": {
          "base_uri": "https://localhost:8080/"
        },
        "id": "8Tq9y1MExCqB",
        "outputId": "81c11647-4dde-4325-9826-4f84b7eab14d"
      },
      "execution_count": 101,
      "outputs": [
        {
          "output_type": "execute_result",
          "data": {
            "text/plain": [
              "Date\n",
              "2020-10-01    True\n",
              "dtype: bool"
            ]
          },
          "metadata": {},
          "execution_count": 101
        }
      ]
    },
    {
      "cell_type": "markdown",
      "source": [
        "This columns are main information for our analysis. Rows with null should be removed.\n",
        "- representing stock values in day period \n",
        "- are variety of float values \n",
        "- in time dimension creates stock chart \n",
        "- null values occur only for all OHLC values at once \n",
        "- one day (2020-10-01 ) jpx was off https://www.jpx.co.jp/english/corporate/news/news-releases/0060/20201019-01.html "
      ],
      "metadata": {
        "id": "ctiT2L33MVMA"
      }
    },
    {
      "cell_type": "markdown",
      "source": [
        "### 2.5 Volume \n",
        "- description: number of traded stocks on a day\n",
        "- type: Int64\n",
        "- sample value: 31400"
      ],
      "metadata": {
        "id": "y48BfY6MM2is"
      }
    },
    {
      "cell_type": "code",
      "source": [
        "# description of this data\n",
        "data['Volume'].describe()"
      ],
      "metadata": {
        "colab": {
          "base_uri": "https://localhost:8080/"
        },
        "id": "N2I85_c41bp0",
        "outputId": "cd4c884f-9ee0-4004-e945-f38b6511a081"
      },
      "execution_count": 102,
      "outputs": [
        {
          "output_type": "execute_result",
          "data": {
            "text/plain": [
              "count    2.332531e+06\n",
              "mean     6.919366e+05\n",
              "std      3.911256e+06\n",
              "min      0.000000e+00\n",
              "25%      3.030000e+04\n",
              "50%      1.071000e+05\n",
              "75%      4.021000e+05\n",
              "max      6.436540e+08\n",
              "Name: Volume, dtype: float64"
            ]
          },
          "metadata": {},
          "execution_count": 102
        }
      ]
    },
    {
      "cell_type": "code",
      "source": [
        "# how many null values\n",
        "data['Volume'].isna().sum()"
      ],
      "metadata": {
        "colab": {
          "base_uri": "https://localhost:8080/"
        },
        "id": "TBweqiy_1o6P",
        "outputId": "ecdffb48-e152-4f17-9151-d984beb86539"
      },
      "execution_count": 103,
      "outputs": [
        {
          "output_type": "execute_result",
          "data": {
            "text/plain": [
              "0"
            ]
          },
          "metadata": {},
          "execution_count": 103
        }
      ]
    },
    {
      "cell_type": "code",
      "source": [
        "# when null values occur\n",
        "ohlc_nulls['volume'] = data['Volume'] == 0\n",
        "\n",
        "# checking if ohlc is null then volume != 0 ? \n",
        "ohlc_nulls['RowId'][ohlc_nulls['all'] != ohlc_nulls['volume']]\n",
        "\n",
        "# in all row_ids (data-securieties): \n",
        "# when OHLC is null =>  volume == 0 \n",
        "# or \n",
        "# when OHLC is not null => volume != 0"
      ],
      "metadata": {
        "colab": {
          "base_uri": "https://localhost:8080/"
        },
        "id": "Nb4hHP5o2YS9",
        "outputId": "0555080d-1270-4d34-eab8-6b551751d7d6"
      },
      "execution_count": 104,
      "outputs": [
        {
          "output_type": "execute_result",
          "data": {
            "text/plain": [
              "Series([], Name: RowId, dtype: object)"
            ]
          },
          "metadata": {},
          "execution_count": 104
        }
      ]
    },
    {
      "cell_type": "markdown",
      "source": [
        "This column gives main information for our analysis as well. Rows should be removed when OHLC values are nulls.\n",
        "- there is variety of values in this column\n",
        "- there are no null values\n",
        "- when all OHLC are null => volume == 0 \n",
        "- when OHLC values are not null => volume > 0\n"
      ],
      "metadata": {
        "id": "zbf7TXUX1Cce"
      }
    },
    {
      "cell_type": "markdown",
      "source": [
        "### 2.6 AdjustmentFactor\n",
        "- description: to calculate theoretical price/volume when split reverse-split happens (NOT including dividend/allotment of shares/)\n",
        "- type: float\n",
        "- sample value: 1"
      ],
      "metadata": {
        "id": "rGKuJcvp5sN_"
      }
    },
    {
      "cell_type": "code",
      "source": [
        "# how many different values?\n",
        "data['AdjustmentFactor'].value_counts(dropna=False)"
      ],
      "metadata": {
        "colab": {
          "base_uri": "https://localhost:8080/"
        },
        "id": "fcP1H04l8hNv",
        "outputId": "8ef4a7cb-27a2-4c46-fe73-bedac31405be"
      },
      "execution_count": 105,
      "outputs": [
        {
          "output_type": "execute_result",
          "data": {
            "text/plain": [
              "1.000000     2331801\n",
              "0.500000         328\n",
              "5.000000         113\n",
              "10.000000        103\n",
              "0.333333          59\n",
              "2.000000          36\n",
              "0.250000          33\n",
              "0.200000          20\n",
              "0.909091          10\n",
              "0.833333           6\n",
              "0.769231           6\n",
              "0.666667           4\n",
              "0.100000           3\n",
              "0.952381           3\n",
              "0.800000           2\n",
              "0.142857           1\n",
              "0.869565           1\n",
              "4.000000           1\n",
              "20.000000          1\n",
              "Name: AdjustmentFactor, dtype: int64"
            ]
          },
          "metadata": {},
          "execution_count": 105
        }
      ]
    },
    {
      "cell_type": "code",
      "source": [
        "# no merge/split \n",
        "data['AdjustmentFactor'][data['AdjustmentFactor'] == 1].count()\n",
        "print('#:', data['AdjustmentFactor'][data['AdjustmentFactor'] == 1].count())\n",
        "print('%:', (data['AdjustmentFactor'][data['AdjustmentFactor'] == 1].count() / \n",
        "      data['AdjustmentFactor'].count())*100)"
      ],
      "metadata": {
        "colab": {
          "base_uri": "https://localhost:8080/"
        },
        "id": "f3eeSpoK-lWI",
        "outputId": "b92d62b7-1921-4ec0-a701-e65592834037"
      },
      "execution_count": 106,
      "outputs": [
        {
          "output_type": "stream",
          "name": "stdout",
          "text": [
            "#: 2331801\n",
            "%: 99.96870352419754\n"
          ]
        }
      ]
    },
    {
      "cell_type": "code",
      "source": [
        "# how many merge actions where done \n",
        "print('#:', data['AdjustmentFactor'][data['AdjustmentFactor'] > 1].count())\n",
        "print('%:', (data['AdjustmentFactor'][data['AdjustmentFactor'] > 1].count() / \n",
        "      data['AdjustmentFactor'].count())*100)"
      ],
      "metadata": {
        "colab": {
          "base_uri": "https://localhost:8080/"
        },
        "id": "hNeMf6JM8dw4",
        "outputId": "73835909-5169-44e5-ed7e-fe2366bcb9b0"
      },
      "execution_count": 107,
      "outputs": [
        {
          "output_type": "stream",
          "name": "stdout",
          "text": [
            "#: 254\n",
            "%: 0.01088945870387146\n"
          ]
        }
      ]
    },
    {
      "cell_type": "code",
      "source": [
        "# how many split actions where done \n",
        "print('#:', data['AdjustmentFactor'][data['AdjustmentFactor'] < 1].count())\n",
        "print('%:', (data['AdjustmentFactor'][data['AdjustmentFactor'] < 1].count() / \n",
        "      data['AdjustmentFactor'].count())*100)"
      ],
      "metadata": {
        "colab": {
          "base_uri": "https://localhost:8080/"
        },
        "id": "v3VcEVvK7pRo",
        "outputId": "282e4745-e85b-48dd-d0ec-eb11a00fe087"
      },
      "execution_count": 108,
      "outputs": [
        {
          "output_type": "stream",
          "name": "stdout",
          "text": [
            "#: 476\n",
            "%: 0.020407017098593758\n"
          ]
        }
      ]
    },
    {
      "cell_type": "markdown",
      "source": [
        "It will not influence our analysis because we are analysing only difference between Open and Close value in this same day. Will information that split/merge happen be useful? I think not.\n",
        "- there are no nulls \n",
        "- there where 476 splits (0,02% of all)\n",
        "- there where 254 merges (0,01% of all) "
      ],
      "metadata": {
        "id": "LSTkMO0r8-BU"
      }
    },
    {
      "cell_type": "markdown",
      "metadata": {
        "id": "4YamvQoBtWSy"
      },
      "source": [
        "### 2.7 SupervisionFlag \n",
        "- description: \"Flag of Securities Under Supervision & Securities to Be Delisted\n",
        "https://www.jpx.co.jp/english/listing/market-alerts/supervision/00-archives/index.html )\"\n",
        "- type: boolean\n",
        "- sample value: FALSE\n",
        "\n"
      ]
    },
    {
      "cell_type": "code",
      "source": [
        "# how many null values?\n",
        "data['SupervisionFlag'].isnull().sum()"
      ],
      "metadata": {
        "colab": {
          "base_uri": "https://localhost:8080/"
        },
        "id": "W56Z2dza7p4N",
        "outputId": "70f2da89-1c6b-47c7-f116-06ff1b539258"
      },
      "execution_count": 109,
      "outputs": [
        {
          "output_type": "execute_result",
          "data": {
            "text/plain": [
              "0"
            ]
          },
          "metadata": {},
          "execution_count": 109
        }
      ]
    },
    {
      "cell_type": "code",
      "source": [
        "# number of rows\n",
        "data['SupervisionFlag'].value_counts(dropna=False, normalize=False)"
      ],
      "metadata": {
        "colab": {
          "base_uri": "https://localhost:8080/"
        },
        "id": "09PDu0JODe7d",
        "outputId": "fa03b226-3747-4dd5-d11a-e70028c4dda0"
      },
      "execution_count": 110,
      "outputs": [
        {
          "output_type": "execute_result",
          "data": {
            "text/plain": [
              "False    2332001\n",
              "True         530\n",
              "Name: SupervisionFlag, dtype: int64"
            ]
          },
          "metadata": {},
          "execution_count": 110
        }
      ]
    },
    {
      "cell_type": "code",
      "source": [
        "# percentage of rows\n",
        "data['SupervisionFlag'].value_counts(dropna=False, normalize=True)"
      ],
      "metadata": {
        "colab": {
          "base_uri": "https://localhost:8080/"
        },
        "id": "bgF5se19CnNX",
        "outputId": "3931688a-68a6-48d6-f2db-01b3edda80b5"
      },
      "execution_count": 111,
      "outputs": [
        {
          "output_type": "execute_result",
          "data": {
            "text/plain": [
              "False    0.999773\n",
              "True     0.000227\n",
              "Name: SupervisionFlag, dtype: float64"
            ]
          },
          "metadata": {},
          "execution_count": 111
        }
      ]
    },
    {
      "cell_type": "markdown",
      "source": [
        "Low number of situations where stocks where under supervisioning. This information will not be usefull.\n",
        "- there are no nulls \n",
        "- there where 530 cases like that (0,02% of all) "
      ],
      "metadata": {
        "id": "mbPpZmlA_vZ-"
      }
    },
    {
      "cell_type": "markdown",
      "source": [
        "### 2.8 ExpectedDividend \n",
        "- description: Expected dividend value for ex-right date. This value is recorded 2 business days before ex-dividend date.\n",
        "- type: float\n",
        "- sample value:"
      ],
      "metadata": {
        "id": "Qmxl89GF7l_W"
      }
    },
    {
      "cell_type": "code",
      "source": [
        "# number of rows\n",
        "data['ExpectedDividend'].value_counts(dropna=False, normalize=False)"
      ],
      "metadata": {
        "colab": {
          "base_uri": "https://localhost:8080/"
        },
        "id": "XoTFu9OCCD0E",
        "outputId": "9f307585-8571-46d1-d0f3-b559afa9c200"
      },
      "execution_count": 112,
      "outputs": [
        {
          "output_type": "execute_result",
          "data": {
            "text/plain": [
              "NaN       2313666\n",
              "0.00         3551\n",
              "10.00         901\n",
              "20.00         838\n",
              "15.00         797\n",
              "           ...   \n",
              "18.80           1\n",
              "26.22           1\n",
              "325.00          1\n",
              "56.60           1\n",
              "16.37           1\n",
              "Name: ExpectedDividend, Length: 447, dtype: int64"
            ]
          },
          "metadata": {},
          "execution_count": 112
        }
      ]
    },
    {
      "cell_type": "code",
      "source": [
        "# number of cases like that\n",
        "data['ExpectedDividend'].count()"
      ],
      "metadata": {
        "colab": {
          "base_uri": "https://localhost:8080/"
        },
        "id": "wyDBrwrh7qbp",
        "outputId": "d24856c7-0599-443e-f6f3-3a00a7f17146"
      },
      "execution_count": 113,
      "outputs": [
        {
          "output_type": "execute_result",
          "data": {
            "text/plain": [
              "18865"
            ]
          },
          "metadata": {},
          "execution_count": 113
        }
      ]
    },
    {
      "cell_type": "markdown",
      "source": [
        "This columns is mostly nulls but it can be useful in this attempt. "
      ],
      "metadata": {
        "id": "r1kFhHRHEADv"
      }
    },
    {
      "cell_type": "markdown",
      "source": [
        "### 2.9 Target \n",
        "- description: Change ratio of adjusted closing price between t+2 and t+1 where t+0 is TradeDate\n",
        "- type: float\n",
        "- sample value: 0.00073\n",
        "\n",
        "New target column will have to be created. This one is inconsistent with the goals of our attempt. "
      ],
      "metadata": {
        "id": "03tYid9c6xxj"
      }
    },
    {
      "cell_type": "code",
      "execution_count": 114,
      "metadata": {
        "id": "vN5cRUAOhLkS",
        "colab": {
          "base_uri": "https://localhost:8080/"
        },
        "outputId": "008c174d-df77-4874-b0f9-978c982b39f7"
      },
      "outputs": [
        {
          "output_type": "execute_result",
          "data": {
            "text/plain": [
              "['RowId', 'Target']"
            ]
          },
          "metadata": {},
          "execution_count": 114
        }
      ],
      "source": [
        "# adding to delete\n",
        "prepering_data_remove_columns.append('Target')\n",
        "prepering_data_remove_columns"
      ]
    },
    {
      "cell_type": "markdown",
      "source": [
        "## 3. Transformers for data preparation\n",
        "Building and testing transformers for data preparation section. "
      ],
      "metadata": {
        "id": "oE8DHZIiEciI"
      }
    },
    {
      "cell_type": "code",
      "source": [
        "# copying data for testing purposes\n",
        "test_data = data.copy()"
      ],
      "metadata": {
        "id": "4A4tyXe7EvKC"
      },
      "execution_count": 115,
      "outputs": []
    },
    {
      "cell_type": "markdown",
      "source": [
        "### 3.1 DeleteRowsWithNulls "
      ],
      "metadata": {
        "id": "m-zdmTTRFuMo"
      }
    },
    {
      "cell_type": "code",
      "source": [
        "class DeleteRowsWithNulls(BaseEstimator, TransformerMixin):\n",
        "    \"\"\"\n",
        "    Transformer removing rows with null values (all/any) in specified columns.\n",
        "\n",
        "    :param subset: List of columns where null values will be searched for, if None then all columns will be used.\n",
        "    :param how: Determine if row or column is removed from DataFrame, when we have at least one NA or all NA.\n",
        "    \"\"\"\n",
        "    how: str\n",
        "    subset: list\n",
        "\n",
        "    def __init__(self, subset: list = None, how: str = 'all'):\n",
        "        self.subset = subset\n",
        "        self.how = how\n",
        "\n",
        "    def fit(self, X: pandas.DataFrame, y=None):\n",
        "        \"\"\"\n",
        "        Set which column should be considered if None was given.\n",
        "\n",
        "        :param X: Dataset to work on\n",
        "        :param y: Ignored. This parameter exists only for compatibility with :class:`~sklearn.pipeline.Pipeline`.\n",
        "        :return: Fitted transformer.\n",
        "        \"\"\"\n",
        "        if self.subset is None:\n",
        "            self.subset = X.columns.tolist()\n",
        "        return self\n",
        "\n",
        "    def transform(self, X: pandas.DataFrame, y=None) -> pandas.DataFrame:\n",
        "        \"\"\"\n",
        "        Remove rows with nulls.\n",
        "\n",
        "        :param X: Dataset to work on\n",
        "        :param y: Ignored. This parameter exists only for compatibility with :class:`~sklearn.pipeline.Pipeline`.\n",
        "        :return: Transformed input (with deleted rows).\n",
        "        \"\"\"\n",
        "        return X.dropna(subset=self.subset, how=self.how)"
      ],
      "metadata": {
        "id": "rtT68PxsGOiR"
      },
      "execution_count": 116,
      "outputs": []
    },
    {
      "cell_type": "code",
      "source": [
        "# removing rows where all OHLC values are nulls \n",
        "test_transformer = DeleteRowsWithNulls(subset=['Open', 'High', 'Low', 'Close'], how='all')\n",
        "test_transformer = test_transformer.fit(X=test_data)\n",
        "test_data = test_transformer.transform(X=test_data)\n",
        "test_data.isna().sum()"
      ],
      "metadata": {
        "colab": {
          "base_uri": "https://localhost:8080/"
        },
        "id": "3wdtmSs1GSLJ",
        "outputId": "0684302b-8ca9-4ff3-d1d5-6ef93fa17eae"
      },
      "execution_count": 117,
      "outputs": [
        {
          "output_type": "execute_result",
          "data": {
            "text/plain": [
              "RowId                     0\n",
              "Open                      0\n",
              "High                      0\n",
              "Low                       0\n",
              "Close                     0\n",
              "Volume                    0\n",
              "AdjustmentFactor          0\n",
              "ExpectedDividend    2306082\n",
              "SupervisionFlag           0\n",
              "Target                    0\n",
              "dtype: int64"
            ]
          },
          "metadata": {},
          "execution_count": 117
        }
      ]
    },
    {
      "cell_type": "markdown",
      "source": [
        "### 3.2 SortData"
      ],
      "metadata": {
        "id": "HbW7L1biGbe3"
      }
    },
    {
      "cell_type": "code",
      "source": [
        "class SortData(BaseEstimator, TransformerMixin):\n",
        "    \"\"\"\n",
        "    Transformer which sort data by columns (ascending).\n",
        "\n",
        "    :param by: List of columns by which sorting is done\n",
        "    :param axis: Axis to be sorted.\n",
        "    \"\"\"\n",
        "    by: list\n",
        "    axis: str\n",
        "\n",
        "    def __init__(self, by: list = None, axis: str = 'index'):\n",
        "        self.by = by\n",
        "        self.axis = axis\n",
        "\n",
        "    def fit(self, X: pandas.DataFrame, y=None):\n",
        "        \"\"\"\n",
        "        Set by which names sorting will be done if None were given in params.\n",
        "\n",
        "        :param X: Dataset to work on\n",
        "        :param y: Ignored. This parameter exists only for compatibility with :class:`~sklearn.pipeline.Pipeline`.\n",
        "        :return: Fitted transformer.\n",
        "        \"\"\"\n",
        "        if self.by is None:\n",
        "            self.by = list(X.index.names)\n",
        "        return self\n",
        "\n",
        "    def transform(self, X: pandas.DataFrame, y=None) -> pandas.DataFrame:\n",
        "        \"\"\"\n",
        "        Sort data by names\n",
        "\n",
        "        :param X: Dataset to work on\n",
        "        :param y: Ignored. This parameter exists only for compatibility with :class:`~sklearn.pipeline.Pipeline`.\n",
        "        :return: Sorted input.\n",
        "        \"\"\"\n",
        "        return X.sort_values(by=self.by, axis=self.axis, ascending=True, inplace=False)"
      ],
      "metadata": {
        "id": "AoOrY7_hGkU9"
      },
      "execution_count": 118,
      "outputs": []
    },
    {
      "cell_type": "code",
      "source": [
        "# sorting data by index\n",
        "test_transformer = SortData(by=['SecuritiesCode', 'Date'])\n",
        "test_transformer = test_transformer.fit(X=test_data)\n",
        "test_data = test_transformer.transform(X=test_data)\n",
        "test_data"
      ],
      "metadata": {
        "colab": {
          "base_uri": "https://localhost:8080/",
          "height": 450
        },
        "id": "NoMcvz6nGkuq",
        "outputId": "db901e55-7842-4dfe-e03e-947545980c7b"
      },
      "execution_count": 119,
      "outputs": [
        {
          "output_type": "execute_result",
          "data": {
            "text/plain": [
              "                                   RowId    Open    High     Low   Close  \\\n",
              "SecuritiesCode Date                                                        \n",
              "1301           2017-01-04  20170104_1301  2734.0  2755.0  2730.0  2742.0   \n",
              "               2017-01-05  20170105_1301  2743.0  2747.0  2735.0  2738.0   \n",
              "               2017-01-06  20170106_1301  2734.0  2744.0  2720.0  2740.0   \n",
              "               2017-01-10  20170110_1301  2745.0  2754.0  2735.0  2748.0   \n",
              "               2017-01-11  20170111_1301  2748.0  2752.0  2737.0  2745.0   \n",
              "...                                  ...     ...     ...     ...     ...   \n",
              "9997           2021-11-29  20211129_9997   678.0   679.0   665.0   668.0   \n",
              "               2021-11-30  20211130_9997   670.0   689.0   667.0   667.0   \n",
              "               2021-12-01  20211201_9997   661.0   688.0   660.0   685.0   \n",
              "               2021-12-02  20211202_9997   681.0   692.0   680.0   684.0   \n",
              "               2021-12-03  20211203_9997   690.0   711.0   686.0   696.0   \n",
              "\n",
              "                           Volume  AdjustmentFactor  ExpectedDividend  \\\n",
              "SecuritiesCode Date                                                     \n",
              "1301           2017-01-04   31400               1.0               NaN   \n",
              "               2017-01-05   17900               1.0               NaN   \n",
              "               2017-01-06   19900               1.0               NaN   \n",
              "               2017-01-10   24200               1.0               NaN   \n",
              "               2017-01-11    9300               1.0               NaN   \n",
              "...                           ...               ...               ...   \n",
              "9997           2021-11-29  320800               1.0               NaN   \n",
              "               2021-11-30  296300               1.0               NaN   \n",
              "               2021-12-01  339100               1.0               NaN   \n",
              "               2021-12-02  342900               1.0               NaN   \n",
              "               2021-12-03  381100               1.0               NaN   \n",
              "\n",
              "                           SupervisionFlag    Target  \n",
              "SecuritiesCode Date                                   \n",
              "1301           2017-01-04            False  0.000730  \n",
              "               2017-01-05            False  0.002920  \n",
              "               2017-01-06            False -0.001092  \n",
              "               2017-01-10            False -0.005100  \n",
              "               2017-01-11            False -0.003295  \n",
              "...                                    ...       ...  \n",
              "9997           2021-11-29            False  0.026987  \n",
              "               2021-11-30            False -0.001460  \n",
              "               2021-12-01            False  0.017544  \n",
              "               2021-12-02            False  0.014368  \n",
              "               2021-12-03            False  0.018414  \n",
              "\n",
              "[2324923 rows x 10 columns]"
            ],
            "text/html": [
              "\n",
              "  <div id=\"df-a7212df1-a307-42d3-b1af-788447d65b0d\">\n",
              "    <div class=\"colab-df-container\">\n",
              "      <div>\n",
              "<style scoped>\n",
              "    .dataframe tbody tr th:only-of-type {\n",
              "        vertical-align: middle;\n",
              "    }\n",
              "\n",
              "    .dataframe tbody tr th {\n",
              "        vertical-align: top;\n",
              "    }\n",
              "\n",
              "    .dataframe thead th {\n",
              "        text-align: right;\n",
              "    }\n",
              "</style>\n",
              "<table border=\"1\" class=\"dataframe\">\n",
              "  <thead>\n",
              "    <tr style=\"text-align: right;\">\n",
              "      <th></th>\n",
              "      <th></th>\n",
              "      <th>RowId</th>\n",
              "      <th>Open</th>\n",
              "      <th>High</th>\n",
              "      <th>Low</th>\n",
              "      <th>Close</th>\n",
              "      <th>Volume</th>\n",
              "      <th>AdjustmentFactor</th>\n",
              "      <th>ExpectedDividend</th>\n",
              "      <th>SupervisionFlag</th>\n",
              "      <th>Target</th>\n",
              "    </tr>\n",
              "    <tr>\n",
              "      <th>SecuritiesCode</th>\n",
              "      <th>Date</th>\n",
              "      <th></th>\n",
              "      <th></th>\n",
              "      <th></th>\n",
              "      <th></th>\n",
              "      <th></th>\n",
              "      <th></th>\n",
              "      <th></th>\n",
              "      <th></th>\n",
              "      <th></th>\n",
              "      <th></th>\n",
              "    </tr>\n",
              "  </thead>\n",
              "  <tbody>\n",
              "    <tr>\n",
              "      <th rowspan=\"5\" valign=\"top\">1301</th>\n",
              "      <th>2017-01-04</th>\n",
              "      <td>20170104_1301</td>\n",
              "      <td>2734.0</td>\n",
              "      <td>2755.0</td>\n",
              "      <td>2730.0</td>\n",
              "      <td>2742.0</td>\n",
              "      <td>31400</td>\n",
              "      <td>1.0</td>\n",
              "      <td>NaN</td>\n",
              "      <td>False</td>\n",
              "      <td>0.000730</td>\n",
              "    </tr>\n",
              "    <tr>\n",
              "      <th>2017-01-05</th>\n",
              "      <td>20170105_1301</td>\n",
              "      <td>2743.0</td>\n",
              "      <td>2747.0</td>\n",
              "      <td>2735.0</td>\n",
              "      <td>2738.0</td>\n",
              "      <td>17900</td>\n",
              "      <td>1.0</td>\n",
              "      <td>NaN</td>\n",
              "      <td>False</td>\n",
              "      <td>0.002920</td>\n",
              "    </tr>\n",
              "    <tr>\n",
              "      <th>2017-01-06</th>\n",
              "      <td>20170106_1301</td>\n",
              "      <td>2734.0</td>\n",
              "      <td>2744.0</td>\n",
              "      <td>2720.0</td>\n",
              "      <td>2740.0</td>\n",
              "      <td>19900</td>\n",
              "      <td>1.0</td>\n",
              "      <td>NaN</td>\n",
              "      <td>False</td>\n",
              "      <td>-0.001092</td>\n",
              "    </tr>\n",
              "    <tr>\n",
              "      <th>2017-01-10</th>\n",
              "      <td>20170110_1301</td>\n",
              "      <td>2745.0</td>\n",
              "      <td>2754.0</td>\n",
              "      <td>2735.0</td>\n",
              "      <td>2748.0</td>\n",
              "      <td>24200</td>\n",
              "      <td>1.0</td>\n",
              "      <td>NaN</td>\n",
              "      <td>False</td>\n",
              "      <td>-0.005100</td>\n",
              "    </tr>\n",
              "    <tr>\n",
              "      <th>2017-01-11</th>\n",
              "      <td>20170111_1301</td>\n",
              "      <td>2748.0</td>\n",
              "      <td>2752.0</td>\n",
              "      <td>2737.0</td>\n",
              "      <td>2745.0</td>\n",
              "      <td>9300</td>\n",
              "      <td>1.0</td>\n",
              "      <td>NaN</td>\n",
              "      <td>False</td>\n",
              "      <td>-0.003295</td>\n",
              "    </tr>\n",
              "    <tr>\n",
              "      <th>...</th>\n",
              "      <th>...</th>\n",
              "      <td>...</td>\n",
              "      <td>...</td>\n",
              "      <td>...</td>\n",
              "      <td>...</td>\n",
              "      <td>...</td>\n",
              "      <td>...</td>\n",
              "      <td>...</td>\n",
              "      <td>...</td>\n",
              "      <td>...</td>\n",
              "      <td>...</td>\n",
              "    </tr>\n",
              "    <tr>\n",
              "      <th rowspan=\"5\" valign=\"top\">9997</th>\n",
              "      <th>2021-11-29</th>\n",
              "      <td>20211129_9997</td>\n",
              "      <td>678.0</td>\n",
              "      <td>679.0</td>\n",
              "      <td>665.0</td>\n",
              "      <td>668.0</td>\n",
              "      <td>320800</td>\n",
              "      <td>1.0</td>\n",
              "      <td>NaN</td>\n",
              "      <td>False</td>\n",
              "      <td>0.026987</td>\n",
              "    </tr>\n",
              "    <tr>\n",
              "      <th>2021-11-30</th>\n",
              "      <td>20211130_9997</td>\n",
              "      <td>670.0</td>\n",
              "      <td>689.0</td>\n",
              "      <td>667.0</td>\n",
              "      <td>667.0</td>\n",
              "      <td>296300</td>\n",
              "      <td>1.0</td>\n",
              "      <td>NaN</td>\n",
              "      <td>False</td>\n",
              "      <td>-0.001460</td>\n",
              "    </tr>\n",
              "    <tr>\n",
              "      <th>2021-12-01</th>\n",
              "      <td>20211201_9997</td>\n",
              "      <td>661.0</td>\n",
              "      <td>688.0</td>\n",
              "      <td>660.0</td>\n",
              "      <td>685.0</td>\n",
              "      <td>339100</td>\n",
              "      <td>1.0</td>\n",
              "      <td>NaN</td>\n",
              "      <td>False</td>\n",
              "      <td>0.017544</td>\n",
              "    </tr>\n",
              "    <tr>\n",
              "      <th>2021-12-02</th>\n",
              "      <td>20211202_9997</td>\n",
              "      <td>681.0</td>\n",
              "      <td>692.0</td>\n",
              "      <td>680.0</td>\n",
              "      <td>684.0</td>\n",
              "      <td>342900</td>\n",
              "      <td>1.0</td>\n",
              "      <td>NaN</td>\n",
              "      <td>False</td>\n",
              "      <td>0.014368</td>\n",
              "    </tr>\n",
              "    <tr>\n",
              "      <th>2021-12-03</th>\n",
              "      <td>20211203_9997</td>\n",
              "      <td>690.0</td>\n",
              "      <td>711.0</td>\n",
              "      <td>686.0</td>\n",
              "      <td>696.0</td>\n",
              "      <td>381100</td>\n",
              "      <td>1.0</td>\n",
              "      <td>NaN</td>\n",
              "      <td>False</td>\n",
              "      <td>0.018414</td>\n",
              "    </tr>\n",
              "  </tbody>\n",
              "</table>\n",
              "<p>2324923 rows × 10 columns</p>\n",
              "</div>\n",
              "      <button class=\"colab-df-convert\" onclick=\"convertToInteractive('df-a7212df1-a307-42d3-b1af-788447d65b0d')\"\n",
              "              title=\"Convert this dataframe to an interactive table.\"\n",
              "              style=\"display:none;\">\n",
              "        \n",
              "  <svg xmlns=\"http://www.w3.org/2000/svg\" height=\"24px\"viewBox=\"0 0 24 24\"\n",
              "       width=\"24px\">\n",
              "    <path d=\"M0 0h24v24H0V0z\" fill=\"none\"/>\n",
              "    <path d=\"M18.56 5.44l.94 2.06.94-2.06 2.06-.94-2.06-.94-.94-2.06-.94 2.06-2.06.94zm-11 1L8.5 8.5l.94-2.06 2.06-.94-2.06-.94L8.5 2.5l-.94 2.06-2.06.94zm10 10l.94 2.06.94-2.06 2.06-.94-2.06-.94-.94-2.06-.94 2.06-2.06.94z\"/><path d=\"M17.41 7.96l-1.37-1.37c-.4-.4-.92-.59-1.43-.59-.52 0-1.04.2-1.43.59L10.3 9.45l-7.72 7.72c-.78.78-.78 2.05 0 2.83L4 21.41c.39.39.9.59 1.41.59.51 0 1.02-.2 1.41-.59l7.78-7.78 2.81-2.81c.8-.78.8-2.07 0-2.86zM5.41 20L4 18.59l7.72-7.72 1.47 1.35L5.41 20z\"/>\n",
              "  </svg>\n",
              "      </button>\n",
              "      \n",
              "  <style>\n",
              "    .colab-df-container {\n",
              "      display:flex;\n",
              "      flex-wrap:wrap;\n",
              "      gap: 12px;\n",
              "    }\n",
              "\n",
              "    .colab-df-convert {\n",
              "      background-color: #E8F0FE;\n",
              "      border: none;\n",
              "      border-radius: 50%;\n",
              "      cursor: pointer;\n",
              "      display: none;\n",
              "      fill: #1967D2;\n",
              "      height: 32px;\n",
              "      padding: 0 0 0 0;\n",
              "      width: 32px;\n",
              "    }\n",
              "\n",
              "    .colab-df-convert:hover {\n",
              "      background-color: #E2EBFA;\n",
              "      box-shadow: 0px 1px 2px rgba(60, 64, 67, 0.3), 0px 1px 3px 1px rgba(60, 64, 67, 0.15);\n",
              "      fill: #174EA6;\n",
              "    }\n",
              "\n",
              "    [theme=dark] .colab-df-convert {\n",
              "      background-color: #3B4455;\n",
              "      fill: #D2E3FC;\n",
              "    }\n",
              "\n",
              "    [theme=dark] .colab-df-convert:hover {\n",
              "      background-color: #434B5C;\n",
              "      box-shadow: 0px 1px 3px 1px rgba(0, 0, 0, 0.15);\n",
              "      filter: drop-shadow(0px 1px 2px rgba(0, 0, 0, 0.3));\n",
              "      fill: #FFFFFF;\n",
              "    }\n",
              "  </style>\n",
              "\n",
              "      <script>\n",
              "        const buttonEl =\n",
              "          document.querySelector('#df-a7212df1-a307-42d3-b1af-788447d65b0d button.colab-df-convert');\n",
              "        buttonEl.style.display =\n",
              "          google.colab.kernel.accessAllowed ? 'block' : 'none';\n",
              "\n",
              "        async function convertToInteractive(key) {\n",
              "          const element = document.querySelector('#df-a7212df1-a307-42d3-b1af-788447d65b0d');\n",
              "          const dataTable =\n",
              "            await google.colab.kernel.invokeFunction('convertToInteractive',\n",
              "                                                     [key], {});\n",
              "          if (!dataTable) return;\n",
              "\n",
              "          const docLinkHtml = 'Like what you see? Visit the ' +\n",
              "            '<a target=\"_blank\" href=https://colab.research.google.com/notebooks/data_table.ipynb>data table notebook</a>'\n",
              "            + ' to learn more about interactive tables.';\n",
              "          element.innerHTML = '';\n",
              "          dataTable['output_type'] = 'display_data';\n",
              "          await google.colab.output.renderOutput(dataTable, element);\n",
              "          const docLink = document.createElement('div');\n",
              "          docLink.innerHTML = docLinkHtml;\n",
              "          element.appendChild(docLink);\n",
              "        }\n",
              "      </script>\n",
              "    </div>\n",
              "  </div>\n",
              "  "
            ]
          },
          "metadata": {},
          "execution_count": 119
        }
      ]
    },
    {
      "cell_type": "markdown",
      "source": [
        "### 3.3 AddNewClassification"
      ],
      "metadata": {
        "id": "w_Jh8nKAGnRZ"
      }
    },
    {
      "cell_type": "code",
      "source": [
        "class AddNewClassification(BaseEstimator, TransformerMixin):\n",
        "    \"\"\"\n",
        "    Transformer which adds new target data (as column) based on next day Open and Close values.\n",
        "\n",
        "    Target value is based on a result of next day values: (Close - Open) / Open, if:\n",
        "\n",
        "    * result <= -1      => Short\n",
        "    * -1 < result < 1   => None\n",
        "    * 1 <= result       => Long\n",
        "    \"\"\"\n",
        "    new_target: pandas.Series\n",
        "    new_col_name: str\n",
        "\n",
        "    def __init__(self, new_col_name='Class'):\n",
        "\n",
        "        self.new_col_name = new_col_name\n",
        "\n",
        "    def fit(self, X: pandas.DataFrame, y=None):\n",
        "        \"\"\"\n",
        "        Calculating and categorizing new target values.\n",
        "\n",
        "        :param X: Dataset to work on\n",
        "        :param y: Ignored. This parameter exists only for compatibility with :class:`~sklearn.pipeline.Pipeline`.\n",
        "        :return: Fitted transformer.\n",
        "        \"\"\"\n",
        "\n",
        "        def categorize_result(result) -> str:\n",
        "            \"\"\"\n",
        "            Change numerical value to categorical value.\n",
        "\n",
        "            :param result: Numerical value for new target\n",
        "            :return: Categorical value for new target\n",
        "            \"\"\"\n",
        "            if result <= -0.01:\n",
        "                return 'Short'\n",
        "            elif -0.01 < result < 0.01:\n",
        "                return 'None'\n",
        "            else:\n",
        "                return 'Long'\n",
        "\n",
        "        self.new_target = (X['Close'] - X['Open']) / X['Open']\n",
        "        self.new_target = self.new_target.apply(categorize_result).groupby('SecuritiesCode').shift(-1)\n",
        "        self.new_target.rename('Class', inplace=True)\n",
        "        return self\n",
        "\n",
        "    def transform(self, X: pandas.DataFrame, y=None) -> pandas.DataFrame:\n",
        "        \"\"\"\n",
        "        Adding column with new classificator.\n",
        "\n",
        "        :param X: Dataset to work on\n",
        "        :param y: Ignored. This parameter exists only for compatibility with :class:`~sklearn.pipeline.Pipeline`.\n",
        "        :return: Input with new classificator as new column.\n",
        "        \"\"\"\n",
        "        X_out: pandas.DataFrame = X.copy()\n",
        "        return X_out.join(self.new_target)"
      ],
      "metadata": {
        "id": "TB5gla-nGzon"
      },
      "execution_count": 120,
      "outputs": []
    },
    {
      "cell_type": "code",
      "source": [
        "# creating new classification \n",
        "test_transformer = AddNewClassification()\n",
        "test_transformer = test_transformer.fit(X=test_data)\n",
        "test_data = test_transformer.transform(X=test_data)\n",
        "test_data"
      ],
      "metadata": {
        "colab": {
          "base_uri": "https://localhost:8080/",
          "height": 450
        },
        "id": "jOTFXvlFGzy6",
        "outputId": "5a0a4107-4050-447f-9850-3802d581a34a"
      },
      "execution_count": 121,
      "outputs": [
        {
          "output_type": "execute_result",
          "data": {
            "text/plain": [
              "                                   RowId    Open    High     Low   Close  \\\n",
              "SecuritiesCode Date                                                        \n",
              "1301           2017-01-04  20170104_1301  2734.0  2755.0  2730.0  2742.0   \n",
              "               2017-01-05  20170105_1301  2743.0  2747.0  2735.0  2738.0   \n",
              "               2017-01-06  20170106_1301  2734.0  2744.0  2720.0  2740.0   \n",
              "               2017-01-10  20170110_1301  2745.0  2754.0  2735.0  2748.0   \n",
              "               2017-01-11  20170111_1301  2748.0  2752.0  2737.0  2745.0   \n",
              "...                                  ...     ...     ...     ...     ...   \n",
              "9997           2021-11-29  20211129_9997   678.0   679.0   665.0   668.0   \n",
              "               2021-11-30  20211130_9997   670.0   689.0   667.0   667.0   \n",
              "               2021-12-01  20211201_9997   661.0   688.0   660.0   685.0   \n",
              "               2021-12-02  20211202_9997   681.0   692.0   680.0   684.0   \n",
              "               2021-12-03  20211203_9997   690.0   711.0   686.0   696.0   \n",
              "\n",
              "                           Volume  AdjustmentFactor  ExpectedDividend  \\\n",
              "SecuritiesCode Date                                                     \n",
              "1301           2017-01-04   31400               1.0               NaN   \n",
              "               2017-01-05   17900               1.0               NaN   \n",
              "               2017-01-06   19900               1.0               NaN   \n",
              "               2017-01-10   24200               1.0               NaN   \n",
              "               2017-01-11    9300               1.0               NaN   \n",
              "...                           ...               ...               ...   \n",
              "9997           2021-11-29  320800               1.0               NaN   \n",
              "               2021-11-30  296300               1.0               NaN   \n",
              "               2021-12-01  339100               1.0               NaN   \n",
              "               2021-12-02  342900               1.0               NaN   \n",
              "               2021-12-03  381100               1.0               NaN   \n",
              "\n",
              "                           SupervisionFlag    Target Class  \n",
              "SecuritiesCode Date                                         \n",
              "1301           2017-01-04            False  0.000730  None  \n",
              "               2017-01-05            False  0.002920  None  \n",
              "               2017-01-06            False -0.001092  None  \n",
              "               2017-01-10            False -0.005100  None  \n",
              "               2017-01-11            False -0.003295  None  \n",
              "...                                    ...       ...   ...  \n",
              "9997           2021-11-29            False  0.026987  None  \n",
              "               2021-11-30            False -0.001460  Long  \n",
              "               2021-12-01            False  0.017544  None  \n",
              "               2021-12-02            False  0.014368  None  \n",
              "               2021-12-03            False  0.018414   NaN  \n",
              "\n",
              "[2324923 rows x 11 columns]"
            ],
            "text/html": [
              "\n",
              "  <div id=\"df-1ec07829-1fdb-4062-b92f-b4d84fb40396\">\n",
              "    <div class=\"colab-df-container\">\n",
              "      <div>\n",
              "<style scoped>\n",
              "    .dataframe tbody tr th:only-of-type {\n",
              "        vertical-align: middle;\n",
              "    }\n",
              "\n",
              "    .dataframe tbody tr th {\n",
              "        vertical-align: top;\n",
              "    }\n",
              "\n",
              "    .dataframe thead th {\n",
              "        text-align: right;\n",
              "    }\n",
              "</style>\n",
              "<table border=\"1\" class=\"dataframe\">\n",
              "  <thead>\n",
              "    <tr style=\"text-align: right;\">\n",
              "      <th></th>\n",
              "      <th></th>\n",
              "      <th>RowId</th>\n",
              "      <th>Open</th>\n",
              "      <th>High</th>\n",
              "      <th>Low</th>\n",
              "      <th>Close</th>\n",
              "      <th>Volume</th>\n",
              "      <th>AdjustmentFactor</th>\n",
              "      <th>ExpectedDividend</th>\n",
              "      <th>SupervisionFlag</th>\n",
              "      <th>Target</th>\n",
              "      <th>Class</th>\n",
              "    </tr>\n",
              "    <tr>\n",
              "      <th>SecuritiesCode</th>\n",
              "      <th>Date</th>\n",
              "      <th></th>\n",
              "      <th></th>\n",
              "      <th></th>\n",
              "      <th></th>\n",
              "      <th></th>\n",
              "      <th></th>\n",
              "      <th></th>\n",
              "      <th></th>\n",
              "      <th></th>\n",
              "      <th></th>\n",
              "      <th></th>\n",
              "    </tr>\n",
              "  </thead>\n",
              "  <tbody>\n",
              "    <tr>\n",
              "      <th rowspan=\"5\" valign=\"top\">1301</th>\n",
              "      <th>2017-01-04</th>\n",
              "      <td>20170104_1301</td>\n",
              "      <td>2734.0</td>\n",
              "      <td>2755.0</td>\n",
              "      <td>2730.0</td>\n",
              "      <td>2742.0</td>\n",
              "      <td>31400</td>\n",
              "      <td>1.0</td>\n",
              "      <td>NaN</td>\n",
              "      <td>False</td>\n",
              "      <td>0.000730</td>\n",
              "      <td>None</td>\n",
              "    </tr>\n",
              "    <tr>\n",
              "      <th>2017-01-05</th>\n",
              "      <td>20170105_1301</td>\n",
              "      <td>2743.0</td>\n",
              "      <td>2747.0</td>\n",
              "      <td>2735.0</td>\n",
              "      <td>2738.0</td>\n",
              "      <td>17900</td>\n",
              "      <td>1.0</td>\n",
              "      <td>NaN</td>\n",
              "      <td>False</td>\n",
              "      <td>0.002920</td>\n",
              "      <td>None</td>\n",
              "    </tr>\n",
              "    <tr>\n",
              "      <th>2017-01-06</th>\n",
              "      <td>20170106_1301</td>\n",
              "      <td>2734.0</td>\n",
              "      <td>2744.0</td>\n",
              "      <td>2720.0</td>\n",
              "      <td>2740.0</td>\n",
              "      <td>19900</td>\n",
              "      <td>1.0</td>\n",
              "      <td>NaN</td>\n",
              "      <td>False</td>\n",
              "      <td>-0.001092</td>\n",
              "      <td>None</td>\n",
              "    </tr>\n",
              "    <tr>\n",
              "      <th>2017-01-10</th>\n",
              "      <td>20170110_1301</td>\n",
              "      <td>2745.0</td>\n",
              "      <td>2754.0</td>\n",
              "      <td>2735.0</td>\n",
              "      <td>2748.0</td>\n",
              "      <td>24200</td>\n",
              "      <td>1.0</td>\n",
              "      <td>NaN</td>\n",
              "      <td>False</td>\n",
              "      <td>-0.005100</td>\n",
              "      <td>None</td>\n",
              "    </tr>\n",
              "    <tr>\n",
              "      <th>2017-01-11</th>\n",
              "      <td>20170111_1301</td>\n",
              "      <td>2748.0</td>\n",
              "      <td>2752.0</td>\n",
              "      <td>2737.0</td>\n",
              "      <td>2745.0</td>\n",
              "      <td>9300</td>\n",
              "      <td>1.0</td>\n",
              "      <td>NaN</td>\n",
              "      <td>False</td>\n",
              "      <td>-0.003295</td>\n",
              "      <td>None</td>\n",
              "    </tr>\n",
              "    <tr>\n",
              "      <th>...</th>\n",
              "      <th>...</th>\n",
              "      <td>...</td>\n",
              "      <td>...</td>\n",
              "      <td>...</td>\n",
              "      <td>...</td>\n",
              "      <td>...</td>\n",
              "      <td>...</td>\n",
              "      <td>...</td>\n",
              "      <td>...</td>\n",
              "      <td>...</td>\n",
              "      <td>...</td>\n",
              "      <td>...</td>\n",
              "    </tr>\n",
              "    <tr>\n",
              "      <th rowspan=\"5\" valign=\"top\">9997</th>\n",
              "      <th>2021-11-29</th>\n",
              "      <td>20211129_9997</td>\n",
              "      <td>678.0</td>\n",
              "      <td>679.0</td>\n",
              "      <td>665.0</td>\n",
              "      <td>668.0</td>\n",
              "      <td>320800</td>\n",
              "      <td>1.0</td>\n",
              "      <td>NaN</td>\n",
              "      <td>False</td>\n",
              "      <td>0.026987</td>\n",
              "      <td>None</td>\n",
              "    </tr>\n",
              "    <tr>\n",
              "      <th>2021-11-30</th>\n",
              "      <td>20211130_9997</td>\n",
              "      <td>670.0</td>\n",
              "      <td>689.0</td>\n",
              "      <td>667.0</td>\n",
              "      <td>667.0</td>\n",
              "      <td>296300</td>\n",
              "      <td>1.0</td>\n",
              "      <td>NaN</td>\n",
              "      <td>False</td>\n",
              "      <td>-0.001460</td>\n",
              "      <td>Long</td>\n",
              "    </tr>\n",
              "    <tr>\n",
              "      <th>2021-12-01</th>\n",
              "      <td>20211201_9997</td>\n",
              "      <td>661.0</td>\n",
              "      <td>688.0</td>\n",
              "      <td>660.0</td>\n",
              "      <td>685.0</td>\n",
              "      <td>339100</td>\n",
              "      <td>1.0</td>\n",
              "      <td>NaN</td>\n",
              "      <td>False</td>\n",
              "      <td>0.017544</td>\n",
              "      <td>None</td>\n",
              "    </tr>\n",
              "    <tr>\n",
              "      <th>2021-12-02</th>\n",
              "      <td>20211202_9997</td>\n",
              "      <td>681.0</td>\n",
              "      <td>692.0</td>\n",
              "      <td>680.0</td>\n",
              "      <td>684.0</td>\n",
              "      <td>342900</td>\n",
              "      <td>1.0</td>\n",
              "      <td>NaN</td>\n",
              "      <td>False</td>\n",
              "      <td>0.014368</td>\n",
              "      <td>None</td>\n",
              "    </tr>\n",
              "    <tr>\n",
              "      <th>2021-12-03</th>\n",
              "      <td>20211203_9997</td>\n",
              "      <td>690.0</td>\n",
              "      <td>711.0</td>\n",
              "      <td>686.0</td>\n",
              "      <td>696.0</td>\n",
              "      <td>381100</td>\n",
              "      <td>1.0</td>\n",
              "      <td>NaN</td>\n",
              "      <td>False</td>\n",
              "      <td>0.018414</td>\n",
              "      <td>NaN</td>\n",
              "    </tr>\n",
              "  </tbody>\n",
              "</table>\n",
              "<p>2324923 rows × 11 columns</p>\n",
              "</div>\n",
              "      <button class=\"colab-df-convert\" onclick=\"convertToInteractive('df-1ec07829-1fdb-4062-b92f-b4d84fb40396')\"\n",
              "              title=\"Convert this dataframe to an interactive table.\"\n",
              "              style=\"display:none;\">\n",
              "        \n",
              "  <svg xmlns=\"http://www.w3.org/2000/svg\" height=\"24px\"viewBox=\"0 0 24 24\"\n",
              "       width=\"24px\">\n",
              "    <path d=\"M0 0h24v24H0V0z\" fill=\"none\"/>\n",
              "    <path d=\"M18.56 5.44l.94 2.06.94-2.06 2.06-.94-2.06-.94-.94-2.06-.94 2.06-2.06.94zm-11 1L8.5 8.5l.94-2.06 2.06-.94-2.06-.94L8.5 2.5l-.94 2.06-2.06.94zm10 10l.94 2.06.94-2.06 2.06-.94-2.06-.94-.94-2.06-.94 2.06-2.06.94z\"/><path d=\"M17.41 7.96l-1.37-1.37c-.4-.4-.92-.59-1.43-.59-.52 0-1.04.2-1.43.59L10.3 9.45l-7.72 7.72c-.78.78-.78 2.05 0 2.83L4 21.41c.39.39.9.59 1.41.59.51 0 1.02-.2 1.41-.59l7.78-7.78 2.81-2.81c.8-.78.8-2.07 0-2.86zM5.41 20L4 18.59l7.72-7.72 1.47 1.35L5.41 20z\"/>\n",
              "  </svg>\n",
              "      </button>\n",
              "      \n",
              "  <style>\n",
              "    .colab-df-container {\n",
              "      display:flex;\n",
              "      flex-wrap:wrap;\n",
              "      gap: 12px;\n",
              "    }\n",
              "\n",
              "    .colab-df-convert {\n",
              "      background-color: #E8F0FE;\n",
              "      border: none;\n",
              "      border-radius: 50%;\n",
              "      cursor: pointer;\n",
              "      display: none;\n",
              "      fill: #1967D2;\n",
              "      height: 32px;\n",
              "      padding: 0 0 0 0;\n",
              "      width: 32px;\n",
              "    }\n",
              "\n",
              "    .colab-df-convert:hover {\n",
              "      background-color: #E2EBFA;\n",
              "      box-shadow: 0px 1px 2px rgba(60, 64, 67, 0.3), 0px 1px 3px 1px rgba(60, 64, 67, 0.15);\n",
              "      fill: #174EA6;\n",
              "    }\n",
              "\n",
              "    [theme=dark] .colab-df-convert {\n",
              "      background-color: #3B4455;\n",
              "      fill: #D2E3FC;\n",
              "    }\n",
              "\n",
              "    [theme=dark] .colab-df-convert:hover {\n",
              "      background-color: #434B5C;\n",
              "      box-shadow: 0px 1px 3px 1px rgba(0, 0, 0, 0.15);\n",
              "      filter: drop-shadow(0px 1px 2px rgba(0, 0, 0, 0.3));\n",
              "      fill: #FFFFFF;\n",
              "    }\n",
              "  </style>\n",
              "\n",
              "      <script>\n",
              "        const buttonEl =\n",
              "          document.querySelector('#df-1ec07829-1fdb-4062-b92f-b4d84fb40396 button.colab-df-convert');\n",
              "        buttonEl.style.display =\n",
              "          google.colab.kernel.accessAllowed ? 'block' : 'none';\n",
              "\n",
              "        async function convertToInteractive(key) {\n",
              "          const element = document.querySelector('#df-1ec07829-1fdb-4062-b92f-b4d84fb40396');\n",
              "          const dataTable =\n",
              "            await google.colab.kernel.invokeFunction('convertToInteractive',\n",
              "                                                     [key], {});\n",
              "          if (!dataTable) return;\n",
              "\n",
              "          const docLinkHtml = 'Like what you see? Visit the ' +\n",
              "            '<a target=\"_blank\" href=https://colab.research.google.com/notebooks/data_table.ipynb>data table notebook</a>'\n",
              "            + ' to learn more about interactive tables.';\n",
              "          element.innerHTML = '';\n",
              "          dataTable['output_type'] = 'display_data';\n",
              "          await google.colab.output.renderOutput(dataTable, element);\n",
              "          const docLink = document.createElement('div');\n",
              "          docLink.innerHTML = docLinkHtml;\n",
              "          element.appendChild(docLink);\n",
              "        }\n",
              "      </script>\n",
              "    </div>\n",
              "  </div>\n",
              "  "
            ]
          },
          "metadata": {},
          "execution_count": 121
        }
      ]
    },
    {
      "cell_type": "markdown",
      "source": [
        "### 3.4 DropColumns"
      ],
      "metadata": {
        "id": "Oj_jw-E-Gz_O"
      }
    },
    {
      "cell_type": "code",
      "source": [
        "class DropColumns(BaseEstimator, TransformerMixin):\n",
        "    \"\"\"\n",
        "    Transformer to drop specified columns.\n",
        "    \"\"\"\n",
        "    cols_to_drop: list\n",
        "\n",
        "    def __init__(self, cols_to_drop: list = None):\n",
        "        self.cols_to_drop = cols_to_drop\n",
        "\n",
        "    def fit(self, X: pandas.DataFrame, y=None):\n",
        "        \"\"\"\n",
        "        Set columns to drop as empty list None given.\n",
        "\n",
        "        :param X: Dataset to work on\n",
        "        :param y: Ignored. This parameter exists only for compatibility with :class:`~sklearn.pipeline.Pipeline`.\n",
        "        :return: Fitted transformer.\n",
        "        \"\"\"\n",
        "        if self.cols_to_drop is None:\n",
        "            self.cols_to_drop = []\n",
        "        return self\n",
        "\n",
        "    def transform(self, X: pandas.DataFrame, y=None) -> pandas.DataFrame:\n",
        "        \"\"\"\n",
        "        Dropping columns.\n",
        "\n",
        "        :param X: Dataset to work on\n",
        "        :param y: Ignored. This parameter exists only for compatibility with :class:`~sklearn.pipeline.Pipeline`.\n",
        "        :return: Input with dropped columns.\n",
        "        \"\"\"\n",
        "        return X.drop(labels=self.cols_to_drop,\n",
        "                      axis=1,\n",
        "                      inplace=False)"
      ],
      "metadata": {
        "id": "DbKaIqzpHHKa"
      },
      "execution_count": 122,
      "outputs": []
    },
    {
      "cell_type": "code",
      "source": [
        "test_transformer = DropColumns(cols_to_drop=['RowId', 'Target'])\n",
        "test_transformer = test_transformer.fit(X=test_data)\n",
        "test_data = test_transformer.transform(X=test_data)\n",
        "test_data.info()"
      ],
      "metadata": {
        "colab": {
          "base_uri": "https://localhost:8080/"
        },
        "id": "-52ntriPHHVK",
        "outputId": "a7a2dd9d-bbf5-4117-bb2a-0307619e2c1e"
      },
      "execution_count": 123,
      "outputs": [
        {
          "output_type": "stream",
          "name": "stdout",
          "text": [
            "<class 'pandas.core.frame.DataFrame'>\n",
            "MultiIndex: 2324923 entries, (1301, '2017-01-04') to (9997, '2021-12-03')\n",
            "Data columns (total 9 columns):\n",
            " #   Column            Dtype  \n",
            "---  ------            -----  \n",
            " 0   Open              float64\n",
            " 1   High              float64\n",
            " 2   Low               float64\n",
            " 3   Close             float64\n",
            " 4   Volume            int64  \n",
            " 5   AdjustmentFactor  float64\n",
            " 6   ExpectedDividend  float64\n",
            " 7   SupervisionFlag   bool   \n",
            " 8   Class             object \n",
            "dtypes: bool(1), float64(6), int64(1), object(1)\n",
            "memory usage: 217.6+ MB\n"
          ]
        }
      ]
    },
    {
      "cell_type": "markdown",
      "source": [
        "## 4. Corelations \n",
        "Checking corelations between data. \n",
        "First we have to get rid of null values on test_data. In main pipeline it will be done differently. \n",
        "Only Adjustment Factor, Expected Divident and Supervisioning Flag should be checked this time. OHLCV are relative values."
      ],
      "metadata": {
        "id": "SvdSkSaCIL-v"
      }
    },
    {
      "cell_type": "code",
      "source": [
        "test_data.isna().sum()"
      ],
      "metadata": {
        "colab": {
          "base_uri": "https://localhost:8080/"
        },
        "id": "-umtuE-mMPX1",
        "outputId": "633b68e1-4337-4abd-b091-d4bdb7432b97"
      },
      "execution_count": 124,
      "outputs": [
        {
          "output_type": "execute_result",
          "data": {
            "text/plain": [
              "Open                      0\n",
              "High                      0\n",
              "Low                       0\n",
              "Close                     0\n",
              "Volume                    0\n",
              "AdjustmentFactor          0\n",
              "ExpectedDividend    2306082\n",
              "SupervisionFlag           0\n",
              "Class                  2000\n",
              "dtype: int64"
            ]
          },
          "metadata": {},
          "execution_count": 124
        }
      ]
    },
    {
      "cell_type": "code",
      "source": [
        "# for expected dividend column nulls will be changed to zeros \n",
        "corr_data = test_data.copy()\n",
        "corr_data['ExpectedDividend'] = corr_data['ExpectedDividend'].fillna(0)"
      ],
      "metadata": {
        "id": "LgeuTcvyMt-m"
      },
      "execution_count": 125,
      "outputs": []
    },
    {
      "cell_type": "code",
      "source": [
        "# for class column rows with nulls will be deleted\n",
        "test_transformer = DeleteRowsWithNulls(subset=['Class'], how='any')\n",
        "test_transformer = test_transformer.fit(X=corr_data)\n",
        "corr_data = test_transformer.transform(X=corr_data)\n",
        "corr_data.isna().sum()"
      ],
      "metadata": {
        "colab": {
          "base_uri": "https://localhost:8080/"
        },
        "id": "aSb1XuETMuJU",
        "outputId": "1c39c525-2199-474f-f79c-c3df5b7218a8"
      },
      "execution_count": 126,
      "outputs": [
        {
          "output_type": "execute_result",
          "data": {
            "text/plain": [
              "Open                0\n",
              "High                0\n",
              "Low                 0\n",
              "Close               0\n",
              "Volume              0\n",
              "AdjustmentFactor    0\n",
              "ExpectedDividend    0\n",
              "SupervisionFlag     0\n",
              "Class               0\n",
              "dtype: int64"
            ]
          },
          "metadata": {},
          "execution_count": 126
        }
      ]
    },
    {
      "cell_type": "code",
      "source": [
        "# Corelation as a pair of coordinates\n",
        "sns.pairplot(corr_data[['AdjustmentFactor', 'ExpectedDividend', 'Class']])#, kind=\"reg\" #,'SupervisionFlag'\n",
        "plt.show()"
      ],
      "metadata": {
        "colab": {
          "base_uri": "https://localhost:8080/",
          "height": 372
        },
        "id": "9iri8VdXIRyB",
        "outputId": "eae38fde-1743-4160-f85b-0e3f30bd1cce"
      },
      "execution_count": 127,
      "outputs": [
        {
          "output_type": "display_data",
          "data": {
            "text/plain": [
              "<Figure size 360x360 with 6 Axes>"
            ],
            "image/png": "[encoded data removed]"
          },
          "metadata": {}
        }
      ]
    },
    {
      "cell_type": "code",
      "source": [
        "sns.set(style=\"darkgrid\")\n",
        "\n",
        "corr = corr_data[['AdjustmentFactor', 'ExpectedDividend', 'Class']].corr() #,'SupervisionFlag'\n",
        "\n",
        "# Generate a mask for the upper triangle\n",
        "mask = np.zeros_like(corr, dtype=np.bool)\n",
        "mask[np.triu_indices_from(mask)] = True\n",
        "\n",
        "# Set up the matplotlib figure\n",
        "f, ax = plt.subplots(figsize=(11, 9))\n",
        "\n",
        "# Generate a custom diverging colormap\n",
        "cmap = sns.diverging_palette(220., 10., as_cmap=True)\n",
        "\n",
        "# Draw the heatmap with the mask and correct aspect ratio\n",
        "sns.heatmap(corr, mask=mask, cmap=cmap, vmin=-1, vmax=1,\n",
        "            square=True, xticklabels=5, yticklabels=5,\n",
        "            linewidths=.5, cbar_kws={\"shrink\": .5}, ax=ax)\n",
        "plt.show()\n",
        "corr"
      ],
      "metadata": {
        "colab": {
          "base_uri": "https://localhost:8080/",
          "height": 739
        },
        "id": "tGK8-t3pK-u-",
        "outputId": "ea80c897-05d9-4f85-f266-9935e032c5d5"
      },
      "execution_count": 128,
      "outputs": [
        {
          "output_type": "stream",
          "name": "stderr",
          "text": [
            "/usr/local/lib/python3.7/dist-packages/ipykernel_launcher.py:6: DeprecationWarning:\n",
            "\n",
            "`np.bool` is a deprecated alias for the builtin `bool`. To silence this warning, use `bool` by itself. Doing this will not modify any behavior and is safe. If you specifically wanted the numpy scalar type, use `np.bool_` here.\n",
            "Deprecated in NumPy 1.20; for more details and guidance: https://numpy.org/devdocs/release/1.20.0-notes.html#deprecations\n",
            "\n"
          ]
        },
        {
          "output_type": "display_data",
          "data": {
            "text/plain": [
              "<Figure size 792x648 with 2 Axes>"
            ],
            "image/png": "[encoded data removed]"
          },
          "metadata": {}
        },
        {
          "output_type": "execute_result",
          "data": {
            "text/plain": [
              "                  AdjustmentFactor  ExpectedDividend\n",
              "AdjustmentFactor          1.000000         -0.000401\n",
              "ExpectedDividend         -0.000401          1.000000"
            ],
            "text/html": [
              "\n",
              "  <div id=\"df-a9091e03-cf57-4ac1-85c0-2132c4bcb684\">\n",
              "    <div class=\"colab-df-container\">\n",
              "      <div>\n",
              "<style scoped>\n",
              "    .dataframe tbody tr th:only-of-type {\n",
              "        vertical-align: middle;\n",
              "    }\n",
              "\n",
              "    .dataframe tbody tr th {\n",
              "        vertical-align: top;\n",
              "    }\n",
              "\n",
              "    .dataframe thead th {\n",
              "        text-align: right;\n",
              "    }\n",
              "</style>\n",
              "<table border=\"1\" class=\"dataframe\">\n",
              "  <thead>\n",
              "    <tr style=\"text-align: right;\">\n",
              "      <th></th>\n",
              "      <th>AdjustmentFactor</th>\n",
              "      <th>ExpectedDividend</th>\n",
              "    </tr>\n",
              "  </thead>\n",
              "  <tbody>\n",
              "    <tr>\n",
              "      <th>AdjustmentFactor</th>\n",
              "      <td>1.000000</td>\n",
              "      <td>-0.000401</td>\n",
              "    </tr>\n",
              "    <tr>\n",
              "      <th>ExpectedDividend</th>\n",
              "      <td>-0.000401</td>\n",
              "      <td>1.000000</td>\n",
              "    </tr>\n",
              "  </tbody>\n",
              "</table>\n",
              "</div>\n",
              "      <button class=\"colab-df-convert\" onclick=\"convertToInteractive('df-a9091e03-cf57-4ac1-85c0-2132c4bcb684')\"\n",
              "              title=\"Convert this dataframe to an interactive table.\"\n",
              "              style=\"display:none;\">\n",
              "        \n",
              "  <svg xmlns=\"http://www.w3.org/2000/svg\" height=\"24px\"viewBox=\"0 0 24 24\"\n",
              "       width=\"24px\">\n",
              "    <path d=\"M0 0h24v24H0V0z\" fill=\"none\"/>\n",
              "    <path d=\"M18.56 5.44l.94 2.06.94-2.06 2.06-.94-2.06-.94-.94-2.06-.94 2.06-2.06.94zm-11 1L8.5 8.5l.94-2.06 2.06-.94-2.06-.94L8.5 2.5l-.94 2.06-2.06.94zm10 10l.94 2.06.94-2.06 2.06-.94-2.06-.94-.94-2.06-.94 2.06-2.06.94z\"/><path d=\"M17.41 7.96l-1.37-1.37c-.4-.4-.92-.59-1.43-.59-.52 0-1.04.2-1.43.59L10.3 9.45l-7.72 7.72c-.78.78-.78 2.05 0 2.83L4 21.41c.39.39.9.59 1.41.59.51 0 1.02-.2 1.41-.59l7.78-7.78 2.81-2.81c.8-.78.8-2.07 0-2.86zM5.41 20L4 18.59l7.72-7.72 1.47 1.35L5.41 20z\"/>\n",
              "  </svg>\n",
              "      </button>\n",
              "      \n",
              "  <style>\n",
              "    .colab-df-container {\n",
              "      display:flex;\n",
              "      flex-wrap:wrap;\n",
              "      gap: 12px;\n",
              "    }\n",
              "\n",
              "    .colab-df-convert {\n",
              "      background-color: #E8F0FE;\n",
              "      border: none;\n",
              "      border-radius: 50%;\n",
              "      cursor: pointer;\n",
              "      display: none;\n",
              "      fill: #1967D2;\n",
              "      height: 32px;\n",
              "      padding: 0 0 0 0;\n",
              "      width: 32px;\n",
              "    }\n",
              "\n",
              "    .colab-df-convert:hover {\n",
              "      background-color: #E2EBFA;\n",
              "      box-shadow: 0px 1px 2px rgba(60, 64, 67, 0.3), 0px 1px 3px 1px rgba(60, 64, 67, 0.15);\n",
              "      fill: #174EA6;\n",
              "    }\n",
              "\n",
              "    [theme=dark] .colab-df-convert {\n",
              "      background-color: #3B4455;\n",
              "      fill: #D2E3FC;\n",
              "    }\n",
              "\n",
              "    [theme=dark] .colab-df-convert:hover {\n",
              "      background-color: #434B5C;\n",
              "      box-shadow: 0px 1px 3px 1px rgba(0, 0, 0, 0.15);\n",
              "      filter: drop-shadow(0px 1px 2px rgba(0, 0, 0, 0.3));\n",
              "      fill: #FFFFFF;\n",
              "    }\n",
              "  </style>\n",
              "\n",
              "      <script>\n",
              "        const buttonEl =\n",
              "          document.querySelector('#df-a9091e03-cf57-4ac1-85c0-2132c4bcb684 button.colab-df-convert');\n",
              "        buttonEl.style.display =\n",
              "          google.colab.kernel.accessAllowed ? 'block' : 'none';\n",
              "\n",
              "        async function convertToInteractive(key) {\n",
              "          const element = document.querySelector('#df-a9091e03-cf57-4ac1-85c0-2132c4bcb684');\n",
              "          const dataTable =\n",
              "            await google.colab.kernel.invokeFunction('convertToInteractive',\n",
              "                                                     [key], {});\n",
              "          if (!dataTable) return;\n",
              "\n",
              "          const docLinkHtml = 'Like what you see? Visit the ' +\n",
              "            '<a target=\"_blank\" href=https://colab.research.google.com/notebooks/data_table.ipynb>data table notebook</a>'\n",
              "            + ' to learn more about interactive tables.';\n",
              "          element.innerHTML = '';\n",
              "          dataTable['output_type'] = 'display_data';\n",
              "          await google.colab.output.renderOutput(dataTable, element);\n",
              "          const docLink = document.createElement('div');\n",
              "          docLink.innerHTML = docLinkHtml;\n",
              "          element.appendChild(docLink);\n",
              "        }\n",
              "      </script>\n",
              "    </div>\n",
              "  </div>\n",
              "  "
            ]
          },
          "metadata": {},
          "execution_count": 128
        }
      ]
    },
    {
      "cell_type": "markdown",
      "source": [
        "#### ---- OPIS DO KORELACJI ---- \n",
        "lorem ipsum :) Chyba trzeba pojedynczo i wybiórcze przypadki.. \n",
        "ogólnie ze wzglęgu na małe ilości przypadkow gdy dywidenda i adjustment factor wystepują to korelacja jest niska. "
      ],
      "metadata": {
        "id": "OoXtrCVqPTaI"
      }
    },
    {
      "cell_type": "markdown",
      "source": [
        "# D. Feature Engineering \n",
        "Adding new features from prepared data. "
      ],
      "metadata": {
        "id": "2E7tZfk3HHiK"
      }
    },
    {
      "cell_type": "markdown",
      "source": [
        "## 1. Transformers \n",
        "Creating tranformers for feature engineering pipeline."
      ],
      "metadata": {
        "id": "r90g2vXJS_8A"
      }
    },
    {
      "cell_type": "markdown",
      "source": [
        "### 1.1 AddDividendInfo\n",
        "\n"
      ],
      "metadata": {
        "id": "poZ6saOTTHjg"
      }
    },
    {
      "cell_type": "code",
      "source": [
        "class AddDividendInfo(BaseEstimator, TransformerMixin):\n",
        "    \"\"\"\n",
        "    Transformer which adds information (as column) that next day will be a dividend day.\n",
        "    \"\"\"\n",
        "    dividend_info: pandas.Series\n",
        "\n",
        "    def __init__(self):\n",
        "        self.dividend_info = pd.Series(None, dtype='bool')\n",
        "\n",
        "    def fit(self, X: pandas.DataFrame, y=None):\n",
        "        \"\"\"\n",
        "        Prepare new column with dividend as True/False column.\n",
        "\n",
        "        :param X: Dataset to work on\n",
        "        :param y: Ignored. This parameter exists only for compatibility with :class:`~sklearn.pipeline.Pipeline`.\n",
        "        :return: Fitted transformer.\n",
        "        \"\"\"\n",
        "        self.dividend_info = X['ExpectedDividend'].fillna(0).where(X['ExpectedDividend'] != 0, 1).astype('bool')\n",
        "        self.dividend_info.rename('ExpectedDividendInfo', inplace=True)\n",
        "        return self\n",
        "\n",
        "    def transform(self, X: pandas.DataFrame, y=None) -> pandas.DataFrame:\n",
        "        \"\"\"\n",
        "        Adding new column with next day dividend as True/False column.\n",
        "\n",
        "        :param X: Dataset to work on\n",
        "        :param y: Ignored. This parameter exists only for compatibility with :class:`~sklearn.pipeline.Pipeline`.\n",
        "        :return: Input with additional column.\n",
        "        \"\"\"\n",
        "        X_out: pandas.DataFrame = X.copy()\n",
        "        return X_out.join(self.dividend_info)"
      ],
      "metadata": {
        "id": "AQtzV28SS36e"
      },
      "execution_count": 129,
      "outputs": []
    },
    {
      "cell_type": "code",
      "source": [
        "# adding true/false column - next day will be dividend day\n",
        "test_transformer = AddDividendInfo()\n",
        "test_transformer = test_transformer.fit(X=test_data)\n",
        "test_data = test_transformer.transform(X=test_data)\n",
        "test_data['ExpectedDividendInfo'].value_counts()"
      ],
      "metadata": {
        "colab": {
          "base_uri": "https://localhost:8080/"
        },
        "id": "nKitmQpgT9Iu",
        "outputId": "ae8e238c-bc32-4ac2-a313-6d0520c22a69"
      },
      "execution_count": 130,
      "outputs": [
        {
          "output_type": "execute_result",
          "data": {
            "text/plain": [
              "False    2306082\n",
              "True       18841\n",
              "Name: ExpectedDividendInfo, dtype: int64"
            ]
          },
          "metadata": {},
          "execution_count": 130
        }
      ]
    },
    {
      "cell_type": "markdown",
      "source": [
        "### 1.2 AddDividendValue"
      ],
      "metadata": {
        "id": "ozo9wQbJUCdl"
      }
    },
    {
      "cell_type": "code",
      "source": [
        "class AddDividendValue(BaseEstimator, TransformerMixin):\n",
        "    \"\"\"\n",
        "    Transformer which adds information (as column) about next day dividend as a percentage of Close value.\n",
        "    \"\"\"\n",
        "    dividend_info: pandas.Series\n",
        "\n",
        "    def __init__(self):\n",
        "        self.dividend_info = pd.Series(None, dtype='float64')\n",
        "\n",
        "    def fit(self, X: pandas.DataFrame, y=None):\n",
        "        \"\"\"\n",
        "        Prepare new column with dividend as a percentage of Close value.\n",
        "\n",
        "        :param X: Dataset to work on\n",
        "        :param y: Ignored. This parameter exists only for compatibility with :class:`~sklearn.pipeline.Pipeline`.\n",
        "        :return: Fitted transformer.\n",
        "        \"\"\"\n",
        "        self.dividend_info = X['ExpectedDividend'].fillna(0) / X['Close']\n",
        "        self.dividend_info.rename('ExpectedDividendAsPercentage', inplace=True)\n",
        "        return self\n",
        "\n",
        "    def transform(self, X: pandas.DataFrame, y=None) -> pandas.DataFrame:\n",
        "        \"\"\"\n",
        "        Adding new column with next day dividend as a percentage of Close value.\n",
        "\n",
        "        :param X: Dataset to work on\n",
        "        :param y: Ignored. This parameter exists only for compatibility with :class:`~sklearn.pipeline.Pipeline`.\n",
        "        :return: Input with additional column.\n",
        "        \"\"\"\n",
        "        X_out: pandas.DataFrame = X.copy()\n",
        "        return X_out.join(self.dividend_info)"
      ],
      "metadata": {
        "id": "3B2Ty-ZRUC0r"
      },
      "execution_count": 131,
      "outputs": []
    },
    {
      "cell_type": "code",
      "source": [
        "# adding a value of dividend as percentage of close value\n",
        "test_transformer = AddDividendValue()\n",
        "test_transformer = test_transformer.fit(X=test_data)\n",
        "test_data = test_transformer.transform(X=test_data)\n",
        "test_data['ExpectedDividendAsPercentage'].value_counts()"
      ],
      "metadata": {
        "colab": {
          "base_uri": "https://localhost:8080/"
        },
        "id": "rNez8XoQUDBv",
        "outputId": "a65964dc-5115-4b5b-ea4f-e46c8f4106f4"
      },
      "execution_count": 132,
      "outputs": [
        {
          "output_type": "execute_result",
          "data": {
            "text/plain": [
              "0.000000    2309622\n",
              "0.011905         19\n",
              "0.007937         18\n",
              "0.010526         17\n",
              "0.011111         15\n",
              "             ...   \n",
              "0.004139          1\n",
              "0.004019          1\n",
              "0.005800          1\n",
              "0.005931          1\n",
              "0.011098          1\n",
              "Name: ExpectedDividendAsPercentage, Length: 10713, dtype: int64"
            ]
          },
          "metadata": {},
          "execution_count": 132
        }
      ]
    },
    {
      "cell_type": "markdown",
      "source": [
        "### 1.3 AddSMA"
      ],
      "metadata": {
        "id": "2WDrrJAPerUI"
      }
    },
    {
      "cell_type": "code",
      "source": [
        "class AddSMA(BaseEstimator, TransformerMixin):\n",
        "    \"\"\"\n",
        "    Transformer which adds length from one of OHLC to Close SMA (Simple Moving Average) as Close SMA percentage.\n",
        "\n",
        "    :param ma_size: Size of SMA\n",
        "    :param ohlcv_col: OHLC choice to SMA\n",
        "    :param add_ma: Add column with SMA value\n",
        "    \"\"\"\n",
        "    ma_size: int\n",
        "    ohlcv_col: str\n",
        "    add_ma: bool\n",
        "    ma: pandas.Series\n",
        "    percentile_ma: pandas.Series\n",
        "\n",
        "    def __init__(self, ma_size: int = 30, ohlcv_col: str = 'Close', add_ma: bool = False):\n",
        "        self.ma_size = ma_size\n",
        "        self.ohlcv_col = ohlcv_col\n",
        "        self.add_ma = add_ma\n",
        "        self.ma = pd.Series(None, dtype='float64')\n",
        "        self.percentile_ma = pd.Series(None, dtype='float64')\n",
        "\n",
        "    def fit(self, X: pandas.DataFrame, y=None):\n",
        "        \"\"\"\n",
        "        Calculating values of Close SMA and len OHLC from Close SMA as Close SMA percentage.\n",
        "\n",
        "        :param X: Dataset to work on\n",
        "        :param y: Ignored. This parameter exists only for compatibility with :class:`~sklearn.pipeline.Pipeline`.\n",
        "        :return: Fitted transformer.\n",
        "        \"\"\"\n",
        "        self.ma = X \\\n",
        "            .groupby('SecuritiesCode')['Close'] \\\n",
        "            .transform(lambda row: row.rolling(self.ma_size).mean()) \\\n",
        "            .rename(f'Close_SMA{self.ma_size}_Value')\n",
        "\n",
        "        self.percentile_ma = (X[self.ohlcv_col] - self.ma) / self.ma\n",
        "        self.percentile_ma.rename(f'{self.ohlcv_col}_SMA{self.ma_size}',\n",
        "                                  inplace=True)\n",
        "        return self\n",
        "\n",
        "    def transform(self, X: pandas.DataFrame, y=None) -> pandas.DataFrame:\n",
        "        \"\"\"\n",
        "        Adding column or columns.\n",
        "\n",
        "        :param X: Dataset to work on\n",
        "        :param y: Ignored. This parameter exists only for compatibility with :class:`~sklearn.pipeline.Pipeline`.\n",
        "        :return: Input with added columns.\n",
        "        \"\"\"\n",
        "        X_out: pd.DataFrame = X.copy()\n",
        "\n",
        "        if self.add_ma:\n",
        "            X_out = X_out.join(self.ma)\n",
        "\n",
        "        return X_out.join(self.percentile_ma)"
      ],
      "metadata": {
        "id": "D1DMLD3TerkL"
      },
      "execution_count": 133,
      "outputs": []
    },
    {
      "cell_type": "code",
      "source": [
        "# Adding OHLC values as percentage values to close sma \n",
        "test_transformer = AddSMA(add_ma=True)\n",
        "test_transformer = test_transformer.fit(X=test_data)\n",
        "test_data = test_transformer.transform(X=test_data)\n",
        "\n",
        "test_transformer = AddSMA(ma_size=10, add_ma=True)\n",
        "test_transformer = test_transformer.fit(X=test_data)\n",
        "test_data = test_transformer.transform(X=test_data)\n",
        "\n",
        "test_data.info()"
      ],
      "metadata": {
        "colab": {
          "base_uri": "https://localhost:8080/"
        },
        "id": "EuDkdtjXervV",
        "outputId": "26d89efb-76e7-4328-8d3a-d21eb9c40df2"
      },
      "execution_count": 134,
      "outputs": [
        {
          "output_type": "stream",
          "name": "stdout",
          "text": [
            "<class 'pandas.core.frame.DataFrame'>\n",
            "MultiIndex: 2324923 entries, (1301, '2017-01-04') to (9997, '2021-12-03')\n",
            "Data columns (total 15 columns):\n",
            " #   Column                        Dtype  \n",
            "---  ------                        -----  \n",
            " 0   Open                          float64\n",
            " 1   High                          float64\n",
            " 2   Low                           float64\n",
            " 3   Close                         float64\n",
            " 4   Volume                        int64  \n",
            " 5   AdjustmentFactor              float64\n",
            " 6   ExpectedDividend              float64\n",
            " 7   SupervisionFlag               bool   \n",
            " 8   Class                         object \n",
            " 9   ExpectedDividendInfo          bool   \n",
            " 10  ExpectedDividendAsPercentage  float64\n",
            " 11  Close_SMA30_Value             float64\n",
            " 12  Close_SMA30                   float64\n",
            " 13  Close_SMA10_Value             float64\n",
            " 14  Close_SMA10                   float64\n",
            "dtypes: bool(2), float64(11), int64(1), object(1)\n",
            "memory usage: 308.5+ MB\n"
          ]
        }
      ]
    },
    {
      "cell_type": "markdown",
      "source": [
        "### 1.4 AddEMA"
      ],
      "metadata": {
        "id": "D-rqaZyjesOd"
      }
    },
    {
      "cell_type": "code",
      "source": [
        "class AddEMA(BaseEstimator, TransformerMixin):\n",
        "    \"\"\"\n",
        "    Transformer which adds length from one of OHLC to Close EMA (Exponential Moving Average) as Close EMA percentage.\n",
        "\n",
        "    :param ma_size: Size of EMA\n",
        "    :param ohlcv_col: OHLC choice to EMA\n",
        "    :param add_ma: Add column with EMA value\n",
        "    \"\"\"\n",
        "    ma_size: int\n",
        "    ohlcv_col: str\n",
        "    add_ma: bool\n",
        "    ma: pandas.Series\n",
        "    percentile_ma: pandas.Series\n",
        "\n",
        "    def __init__(self, ma_size: int = 30, ohlcv_col: str = 'Close', add_ma: bool = False):\n",
        "        self.ma_size = ma_size\n",
        "        self.ohlcv_col = ohlcv_col\n",
        "        self.add_ma = add_ma\n",
        "        self.ma = pd.Series(None, dtype='float64')\n",
        "        self.percentile_ma = pd.Series(None, dtype='float64')\n",
        "\n",
        "    def fit(self, X: pandas.DataFrame, y=None):\n",
        "        \"\"\"\n",
        "        Calculating values of Close EMA and len OHLC from Close EMA as Close EMA percentage.\n",
        "\n",
        "        :param X: Dataset to work on\n",
        "        :param y: Ignored. This parameter exists only for compatibility with :class:`~sklearn.pipeline.Pipeline`.\n",
        "        :return: Fitted transformer.\n",
        "        \"\"\"\n",
        "        self.ma = X \\\n",
        "            .groupby('SecuritiesCode')['Close'] \\\n",
        "            .transform(lambda row: row.ewm(self.ma_size).mean()) \\\n",
        "            .rename(f'Close_EMA{self.ma_size}_Value')\n",
        "\n",
        "        self.percentile_ma = (X[self.ohlcv_col] - self.ma) / self.ma\n",
        "        self.percentile_ma.rename(f'{self.ohlcv_col}_EMA{self.ma_size}',\n",
        "                                  inplace=True)\n",
        "        return self\n",
        "\n",
        "    def transform(self, X: pandas.DataFrame, y=None) -> pandas.DataFrame:\n",
        "        \"\"\"\n",
        "        Adding column or columns.\n",
        "\n",
        "        :param X: Dataset to work on\n",
        "        :param y: Ignored. This parameter exists only for compatibility with :class:`~sklearn.pipeline.Pipeline`.\n",
        "        :return: Input with added columns.\n",
        "        \"\"\"\n",
        "        X_out: pd.DataFrame = X.copy()\n",
        "\n",
        "        if self.add_ma:\n",
        "            X_out = X_out.join(self.ma)\n",
        "\n",
        "        return X_out.join(self.percentile_ma)"
      ],
      "metadata": {
        "id": "ScMs05x7gYyW"
      },
      "execution_count": 135,
      "outputs": []
    },
    {
      "cell_type": "code",
      "source": [
        "# Adding OHLC values as percentage values to close ema \n",
        "\n",
        "test_transformer = AddEMA(add_ma=True)\n",
        "test_transformer = test_transformer.fit(X=test_data)\n",
        "test_data = test_transformer.transform(X=test_data)\n",
        "test_data\n",
        "test_data.info()"
      ],
      "metadata": {
        "colab": {
          "base_uri": "https://localhost:8080/"
        },
        "id": "iOWeIIcFgeE4",
        "outputId": "24703d11-12e8-47f9-8069-ebc6b1358573"
      },
      "execution_count": 136,
      "outputs": [
        {
          "output_type": "stream",
          "name": "stdout",
          "text": [
            "<class 'pandas.core.frame.DataFrame'>\n",
            "MultiIndex: 2324923 entries, (1301, '2017-01-04') to (9997, '2021-12-03')\n",
            "Data columns (total 17 columns):\n",
            " #   Column                        Dtype  \n",
            "---  ------                        -----  \n",
            " 0   Open                          float64\n",
            " 1   High                          float64\n",
            " 2   Low                           float64\n",
            " 3   Close                         float64\n",
            " 4   Volume                        int64  \n",
            " 5   AdjustmentFactor              float64\n",
            " 6   ExpectedDividend              float64\n",
            " 7   SupervisionFlag               bool   \n",
            " 8   Class                         object \n",
            " 9   ExpectedDividendInfo          bool   \n",
            " 10  ExpectedDividendAsPercentage  float64\n",
            " 11  Close_SMA30_Value             float64\n",
            " 12  Close_SMA30                   float64\n",
            " 13  Close_SMA10_Value             float64\n",
            " 14  Close_SMA10                   float64\n",
            " 15  Close_EMA30_Value             float64\n",
            " 16  Close_EMA30                   float64\n",
            "dtypes: bool(2), float64(13), int64(1), object(1)\n",
            "memory usage: 344.0+ MB\n"
          ]
        }
      ]
    },
    {
      "cell_type": "markdown",
      "source": [
        "### 1.5 AddVolumeSMA"
      ],
      "metadata": {
        "id": "xQHDPgRJjeaZ"
      }
    },
    {
      "cell_type": "code",
      "source": [
        "class AddVolumeSMA(BaseEstimator, TransformerMixin):\n",
        "    \"\"\"\n",
        "    Transformer which adds length from one of Volume to its SMA (Simple Moving Average) as SMA percentage.\n",
        "\n",
        "    :param ma_size: Size of SMA\n",
        "    :param add_ma: Add column with SMA value\n",
        "    \"\"\"\n",
        "    ma_size: int\n",
        "    ohlcv_col: str\n",
        "    add_ma: bool\n",
        "    ma: pandas.Series\n",
        "    percentile_ma: pandas.Series\n",
        "\n",
        "    def __init__(self, ma_size: int = 30, add_ma: bool = False):\n",
        "        self.ma_size = ma_size\n",
        "        self.ohlcv_col = 'Volume'\n",
        "        self.add_ma = add_ma\n",
        "        self.ma = pd.Series(None, dtype='float64')\n",
        "        self.percentile_ma = pd.Series(None, dtype='float64')\n",
        "\n",
        "    def fit(self, X: pandas.DataFrame, y=None):\n",
        "        \"\"\"\n",
        "        Calculating values of SMA and len Volume from SMA as SMA percentage.\n",
        "\n",
        "        :param X: Dataset to work on\n",
        "        :param y: Ignored. This parameter exists only for compatibility with :class:`~sklearn.pipeline.Pipeline`.\n",
        "        :return: Fitted transformer.\n",
        "        \"\"\"\n",
        "        self.ma = X \\\n",
        "            .groupby('SecuritiesCode')[self.ohlcv_col] \\\n",
        "            .transform(lambda row: row.rolling(self.ma_size).mean()) \\\n",
        "            .rename(f'{self.ohlcv_col}_SMA{self.ma_size}_Value')\n",
        "\n",
        "        self.percentile_ma = (X[self.ohlcv_col] - self.ma) / self.ma\n",
        "        self.percentile_ma.rename(f'{self.ohlcv_col}_SMA{self.ma_size}',\n",
        "                                  inplace=True)\n",
        "        return self\n",
        "\n",
        "    def transform(self, X: pandas.DataFrame, y=None) -> pandas.DataFrame:\n",
        "        \"\"\"\n",
        "        Adding column or columns.\n",
        "\n",
        "        :param X: Dataset to work on\n",
        "        :param y: Ignored. This parameter exists only for compatibility with :class:`~sklearn.pipeline.Pipeline`.\n",
        "        :return: Input with added columns.\n",
        "        \"\"\"\n",
        "        X_out: pd.DataFrame = X.copy()\n",
        "\n",
        "        if self.add_ma:\n",
        "            X_out = X_out.join(self.ma)\n",
        "\n",
        "        return X_out.join(self.percentile_ma)"
      ],
      "metadata": {
        "id": "ttbDVjqPjeKV"
      },
      "execution_count": 137,
      "outputs": []
    },
    {
      "cell_type": "code",
      "source": [
        "test_transformer = AddVolumeSMA(add_ma=True)\n",
        "test_transformer = test_transformer.fit(X=test_data)\n",
        "test_data = test_transformer.transform(X=test_data)\n",
        "test_data\n",
        "test_data.info()"
      ],
      "metadata": {
        "colab": {
          "base_uri": "https://localhost:8080/"
        },
        "id": "E-Z1hMPkjgMo",
        "outputId": "b4ef76fd-4045-47bb-8a85-0b2aab74f654"
      },
      "execution_count": 138,
      "outputs": [
        {
          "output_type": "stream",
          "name": "stdout",
          "text": [
            "<class 'pandas.core.frame.DataFrame'>\n",
            "MultiIndex: 2324923 entries, (1301, '2017-01-04') to (9997, '2021-12-03')\n",
            "Data columns (total 19 columns):\n",
            " #   Column                        Dtype  \n",
            "---  ------                        -----  \n",
            " 0   Open                          float64\n",
            " 1   High                          float64\n",
            " 2   Low                           float64\n",
            " 3   Close                         float64\n",
            " 4   Volume                        int64  \n",
            " 5   AdjustmentFactor              float64\n",
            " 6   ExpectedDividend              float64\n",
            " 7   SupervisionFlag               bool   \n",
            " 8   Class                         object \n",
            " 9   ExpectedDividendInfo          bool   \n",
            " 10  ExpectedDividendAsPercentage  float64\n",
            " 11  Close_SMA30_Value             float64\n",
            " 12  Close_SMA30                   float64\n",
            " 13  Close_SMA10_Value             float64\n",
            " 14  Close_SMA10                   float64\n",
            " 15  Close_EMA30_Value             float64\n",
            " 16  Close_EMA30                   float64\n",
            " 17  Volume_SMA30_Value            float64\n",
            " 18  Volume_SMA30                  float64\n",
            "dtypes: bool(2), float64(15), int64(1), object(1)\n",
            "memory usage: 379.5+ MB\n"
          ]
        }
      ]
    },
    {
      "cell_type": "markdown",
      "source": [
        "### 1.6 AddVolumeEMA"
      ],
      "metadata": {
        "id": "py9kZJqcjeoV"
      }
    },
    {
      "cell_type": "code",
      "source": [
        "class AddVolumeEMA(BaseEstimator, TransformerMixin):\n",
        "    \"\"\"\n",
        "    Transformer which adds length from Volume to its EMA (Exponential Moving Average) as EMA percentage.\n",
        "\n",
        "    :param ma_size: Size of EMA\n",
        "    :param add_ma: Add column with EMA value\n",
        "    \"\"\"\n",
        "    ma_size: int\n",
        "    ohlcv_col: str\n",
        "    add_ma: bool\n",
        "    ma: pandas.Series\n",
        "    percentile_ma: pandas.Series\n",
        "\n",
        "    def __init__(self, ma_size: int = 30,  add_ma: bool = False):\n",
        "        self.ma_size = ma_size\n",
        "        self.ohlcv_col = 'Volume'\n",
        "        self.add_ma = add_ma\n",
        "        self.ma = pd.Series(None, dtype='float64')\n",
        "        self.percentile_ma = pd.Series(None, dtype='float64')\n",
        "\n",
        "    def fit(self, X: pandas.DataFrame, y=None):\n",
        "        \"\"\"\n",
        "        Calculating values of EMA and len Volume from EMA as EMA percentage.\n",
        "\n",
        "        :param X: Dataset to work on\n",
        "        :param y: Ignored. This parameter exists only for compatibility with :class:`~sklearn.pipeline.Pipeline`.\n",
        "        :return: Fitted transformer.\n",
        "        \"\"\"\n",
        "        self.ma = X \\\n",
        "            .groupby('SecuritiesCode')[self.ohlcv_col] \\\n",
        "            .transform(lambda row: row.ewm(self.ma_size).mean()) \\\n",
        "            .rename(f'{self.ohlcv_col}_EMA{self.ma_size}_Value')\n",
        "\n",
        "        self.percentile_ma = (X[self.ohlcv_col] - self.ma) / self.ma\n",
        "        self.percentile_ma.rename(f'{self.ohlcv_col}_EMA{self.ma_size}',\n",
        "                                  inplace=True)\n",
        "        return self\n",
        "\n",
        "    def transform(self, X: pandas.DataFrame, y=None) -> pandas.DataFrame:\n",
        "        \"\"\"\n",
        "        Adding column or columns.\n",
        "\n",
        "        :param X: Dataset to work on\n",
        "        :param y: Ignored. This parameter exists only for compatibility with :class:`~sklearn.pipeline.Pipeline`.\n",
        "        :return: Input with added columns.\n",
        "        \"\"\"\n",
        "        X_out: pd.DataFrame = X.copy()\n",
        "\n",
        "        if self.add_ma:\n",
        "            X_out = X_out.join(self.ma)\n",
        "\n",
        "        return X_out.join(self.percentile_ma)"
      ],
      "metadata": {
        "id": "8g4asxwujhIV"
      },
      "execution_count": 139,
      "outputs": []
    },
    {
      "cell_type": "code",
      "source": [
        "test_transformer = AddVolumeEMA(add_ma=True)\n",
        "test_transformer = test_transformer.fit(X=test_data)\n",
        "test_data = test_transformer.transform(X=test_data)\n",
        "test_data"
      ],
      "metadata": {
        "colab": {
          "base_uri": "https://localhost:8080/",
          "height": 684
        },
        "id": "WJu9s5O4jhXd",
        "outputId": "3222bd12-23ac-4503-e66f-1a7da1f0cd17"
      },
      "execution_count": 140,
      "outputs": [
        {
          "output_type": "execute_result",
          "data": {
            "text/plain": [
              "                             Open    High     Low   Close  Volume  \\\n",
              "SecuritiesCode Date                                                 \n",
              "1301           2017-01-04  2734.0  2755.0  2730.0  2742.0   31400   \n",
              "               2017-01-05  2743.0  2747.0  2735.0  2738.0   17900   \n",
              "               2017-01-06  2734.0  2744.0  2720.0  2740.0   19900   \n",
              "               2017-01-10  2745.0  2754.0  2735.0  2748.0   24200   \n",
              "               2017-01-11  2748.0  2752.0  2737.0  2745.0    9300   \n",
              "...                           ...     ...     ...     ...     ...   \n",
              "9997           2021-11-29   678.0   679.0   665.0   668.0  320800   \n",
              "               2021-11-30   670.0   689.0   667.0   667.0  296300   \n",
              "               2021-12-01   661.0   688.0   660.0   685.0  339100   \n",
              "               2021-12-02   681.0   692.0   680.0   684.0  342900   \n",
              "               2021-12-03   690.0   711.0   686.0   696.0  381100   \n",
              "\n",
              "                           AdjustmentFactor  ExpectedDividend  \\\n",
              "SecuritiesCode Date                                             \n",
              "1301           2017-01-04               1.0               NaN   \n",
              "               2017-01-05               1.0               NaN   \n",
              "               2017-01-06               1.0               NaN   \n",
              "               2017-01-10               1.0               NaN   \n",
              "               2017-01-11               1.0               NaN   \n",
              "...                                     ...               ...   \n",
              "9997           2021-11-29               1.0               NaN   \n",
              "               2021-11-30               1.0               NaN   \n",
              "               2021-12-01               1.0               NaN   \n",
              "               2021-12-02               1.0               NaN   \n",
              "               2021-12-03               1.0               NaN   \n",
              "\n",
              "                           SupervisionFlag Class  ExpectedDividendInfo  ...  \\\n",
              "SecuritiesCode Date                                                     ...   \n",
              "1301           2017-01-04            False  None                 False  ...   \n",
              "               2017-01-05            False  None                 False  ...   \n",
              "               2017-01-06            False  None                 False  ...   \n",
              "               2017-01-10            False  None                 False  ...   \n",
              "               2017-01-11            False  None                 False  ...   \n",
              "...                                    ...   ...                   ...  ...   \n",
              "9997           2021-11-29            False  None                 False  ...   \n",
              "               2021-11-30            False  Long                 False  ...   \n",
              "               2021-12-01            False  None                 False  ...   \n",
              "               2021-12-02            False  None                 False  ...   \n",
              "               2021-12-03            False   NaN                 False  ...   \n",
              "\n",
              "                           Close_SMA30_Value  Close_SMA30  Close_SMA10_Value  \\\n",
              "SecuritiesCode Date                                                            \n",
              "1301           2017-01-04                NaN          NaN                NaN   \n",
              "               2017-01-05                NaN          NaN                NaN   \n",
              "               2017-01-06                NaN          NaN                NaN   \n",
              "               2017-01-10                NaN          NaN                NaN   \n",
              "               2017-01-11                NaN          NaN                NaN   \n",
              "...                                      ...          ...                ...   \n",
              "9997           2021-11-29         764.766667    -0.126531              712.1   \n",
              "               2021-11-30         759.233333    -0.121482              704.1   \n",
              "               2021-12-01         754.266667    -0.091833              699.5   \n",
              "               2021-12-02         749.433333    -0.087310              694.5   \n",
              "               2021-12-03         745.333333    -0.066190              692.5   \n",
              "\n",
              "                           Close_SMA10  Close_EMA30_Value  Close_EMA30  \\\n",
              "SecuritiesCode Date                                                      \n",
              "1301           2017-01-04          NaN        2742.000000     0.000000   \n",
              "               2017-01-05          NaN        2739.967213    -0.000718   \n",
              "               2017-01-06          NaN        2739.978502     0.000008   \n",
              "               2017-01-10          NaN        2742.083562     0.002158   \n",
              "               2017-01-11          NaN        2742.705714     0.000837   \n",
              "...                                ...                ...          ...   \n",
              "9997           2021-11-29    -0.061930         797.799623    -0.162697   \n",
              "               2021-11-30    -0.052691         793.580280    -0.159505   \n",
              "               2021-12-01    -0.020729         790.077690    -0.132997   \n",
              "               2021-12-02    -0.015119         786.655829    -0.130496   \n",
              "               2021-12-03     0.005054         783.731448    -0.111941   \n",
              "\n",
              "                           Volume_SMA30_Value  Volume_SMA30  \\\n",
              "SecuritiesCode Date                                           \n",
              "1301           2017-01-04                 NaN           NaN   \n",
              "               2017-01-05                 NaN           NaN   \n",
              "               2017-01-06                 NaN           NaN   \n",
              "               2017-01-10                 NaN           NaN   \n",
              "               2017-01-11                 NaN           NaN   \n",
              "...                                       ...           ...   \n",
              "9997           2021-11-29       238233.333333      0.346579   \n",
              "               2021-11-30       244930.000000      0.209733   \n",
              "               2021-12-01       250670.000000      0.352775   \n",
              "               2021-12-02       255733.333333      0.340850   \n",
              "               2021-12-03       261393.333333      0.457956   \n",
              "\n",
              "                           Volume_EMA30_Value  Volume_EMA30  \n",
              "SecuritiesCode Date                                          \n",
              "1301           2017-01-04        31400.000000      0.000000  \n",
              "               2017-01-05        24539.344262     -0.270559  \n",
              "               2017-01-06        22941.920459     -0.132592  \n",
              "               2017-01-10        23272.074770      0.039873  \n",
              "               2017-01-11        20291.466225     -0.541679  \n",
              "...                                       ...           ...  \n",
              "9997           2021-11-29       270363.742816      0.186550  \n",
              "               2021-11-30       271200.396274      0.092550  \n",
              "               2021-12-01       273390.706071      0.240349  \n",
              "               2021-12-02       275632.941359      0.244046  \n",
              "               2021-12-03       279035.104541      0.365778  \n",
              "\n",
              "[2324923 rows x 21 columns]"
            ],
            "text/html": [
              "\n",
              "  <div id=\"df-a412fcbe-3e2d-4e02-ba5e-50a3c40d8de8\">\n",
              "    <div class=\"colab-df-container\">\n",
              "      <div>\n",
              "<style scoped>\n",
              "    .dataframe tbody tr th:only-of-type {\n",
              "        vertical-align: middle;\n",
              "    }\n",
              "\n",
              "    .dataframe tbody tr th {\n",
              "        vertical-align: top;\n",
              "    }\n",
              "\n",
              "    .dataframe thead th {\n",
              "        text-align: right;\n",
              "    }\n",
              "</style>\n",
              "<table border=\"1\" class=\"dataframe\">\n",
              "  <thead>\n",
              "    <tr style=\"text-align: right;\">\n",
              "      <th></th>\n",
              "      <th></th>\n",
              "      <th>Open</th>\n",
              "      <th>High</th>\n",
              "      <th>Low</th>\n",
              "      <th>Close</th>\n",
              "      <th>Volume</th>\n",
              "      <th>AdjustmentFactor</th>\n",
              "      <th>ExpectedDividend</th>\n",
              "      <th>SupervisionFlag</th>\n",
              "      <th>Class</th>\n",
              "      <th>ExpectedDividendInfo</th>\n",
              "      <th>...</th>\n",
              "      <th>Close_SMA30_Value</th>\n",
              "      <th>Close_SMA30</th>\n",
              "      <th>Close_SMA10_Value</th>\n",
              "      <th>Close_SMA10</th>\n",
              "      <th>Close_EMA30_Value</th>\n",
              "      <th>Close_EMA30</th>\n",
              "      <th>Volume_SMA30_Value</th>\n",
              "      <th>Volume_SMA30</th>\n",
              "      <th>Volume_EMA30_Value</th>\n",
              "      <th>Volume_EMA30</th>\n",
              "    </tr>\n",
              "    <tr>\n",
              "      <th>SecuritiesCode</th>\n",
              "      <th>Date</th>\n",
              "      <th></th>\n",
              "      <th></th>\n",
              "      <th></th>\n",
              "      <th></th>\n",
              "      <th></th>\n",
              "      <th></th>\n",
              "      <th></th>\n",
              "      <th></th>\n",
              "      <th></th>\n",
              "      <th></th>\n",
              "      <th></th>\n",
              "      <th></th>\n",
              "      <th></th>\n",
              "      <th></th>\n",
              "      <th></th>\n",
              "      <th></th>\n",
              "      <th></th>\n",
              "      <th></th>\n",
              "      <th></th>\n",
              "      <th></th>\n",
              "      <th></th>\n",
              "    </tr>\n",
              "  </thead>\n",
              "  <tbody>\n",
              "    <tr>\n",
              "      <th rowspan=\"5\" valign=\"top\">1301</th>\n",
              "      <th>2017-01-04</th>\n",
              "      <td>2734.0</td>\n",
              "      <td>2755.0</td>\n",
              "      <td>2730.0</td>\n",
              "      <td>2742.0</td>\n",
              "      <td>31400</td>\n",
              "      <td>1.0</td>\n",
              "      <td>NaN</td>\n",
              "      <td>False</td>\n",
              "      <td>None</td>\n",
              "      <td>False</td>\n",
              "      <td>...</td>\n",
              "      <td>NaN</td>\n",
              "      <td>NaN</td>\n",
              "      <td>NaN</td>\n",
              "      <td>NaN</td>\n",
              "      <td>2742.000000</td>\n",
              "      <td>0.000000</td>\n",
              "      <td>NaN</td>\n",
              "      <td>NaN</td>\n",
              "      <td>31400.000000</td>\n",
              "      <td>0.000000</td>\n",
              "    </tr>\n",
              "    <tr>\n",
              "      <th>2017-01-05</th>\n",
              "      <td>2743.0</td>\n",
              "      <td>2747.0</td>\n",
              "      <td>2735.0</td>\n",
              "      <td>2738.0</td>\n",
              "      <td>17900</td>\n",
              "      <td>1.0</td>\n",
              "      <td>NaN</td>\n",
              "      <td>False</td>\n",
              "      <td>None</td>\n",
              "      <td>False</td>\n",
              "      <td>...</td>\n",
              "      <td>NaN</td>\n",
              "      <td>NaN</td>\n",
              "      <td>NaN</td>\n",
              "      <td>NaN</td>\n",
              "      <td>2739.967213</td>\n",
              "      <td>-0.000718</td>\n",
              "      <td>NaN</td>\n",
              "      <td>NaN</td>\n",
              "      <td>24539.344262</td>\n",
              "      <td>-0.270559</td>\n",
              "    </tr>\n",
              "    <tr>\n",
              "      <th>2017-01-06</th>\n",
              "      <td>2734.0</td>\n",
              "      <td>2744.0</td>\n",
              "      <td>2720.0</td>\n",
              "      <td>2740.0</td>\n",
              "      <td>19900</td>\n",
              "      <td>1.0</td>\n",
              "      <td>NaN</td>\n",
              "      <td>False</td>\n",
              "      <td>None</td>\n",
              "      <td>False</td>\n",
              "      <td>...</td>\n",
              "      <td>NaN</td>\n",
              "      <td>NaN</td>\n",
              "      <td>NaN</td>\n",
              "      <td>NaN</td>\n",
              "      <td>2739.978502</td>\n",
              "      <td>0.000008</td>\n",
              "      <td>NaN</td>\n",
              "      <td>NaN</td>\n",
              "      <td>22941.920459</td>\n",
              "      <td>-0.132592</td>\n",
              "    </tr>\n",
              "    <tr>\n",
              "      <th>2017-01-10</th>\n",
              "      <td>2745.0</td>\n",
              "      <td>2754.0</td>\n",
              "      <td>2735.0</td>\n",
              "      <td>2748.0</td>\n",
              "      <td>24200</td>\n",
              "      <td>1.0</td>\n",
              "      <td>NaN</td>\n",
              "      <td>False</td>\n",
              "      <td>None</td>\n",
              "      <td>False</td>\n",
              "      <td>...</td>\n",
              "      <td>NaN</td>\n",
              "      <td>NaN</td>\n",
              "      <td>NaN</td>\n",
              "      <td>NaN</td>\n",
              "      <td>2742.083562</td>\n",
              "      <td>0.002158</td>\n",
              "      <td>NaN</td>\n",
              "      <td>NaN</td>\n",
              "      <td>23272.074770</td>\n",
              "      <td>0.039873</td>\n",
              "    </tr>\n",
              "    <tr>\n",
              "      <th>2017-01-11</th>\n",
              "      <td>2748.0</td>\n",
              "      <td>2752.0</td>\n",
              "      <td>2737.0</td>\n",
              "      <td>2745.0</td>\n",
              "      <td>9300</td>\n",
              "      <td>1.0</td>\n",
              "      <td>NaN</td>\n",
              "      <td>False</td>\n",
              "      <td>None</td>\n",
              "      <td>False</td>\n",
              "      <td>...</td>\n",
              "      <td>NaN</td>\n",
              "      <td>NaN</td>\n",
              "      <td>NaN</td>\n",
              "      <td>NaN</td>\n",
              "      <td>2742.705714</td>\n",
              "      <td>0.000837</td>\n",
              "      <td>NaN</td>\n",
              "      <td>NaN</td>\n",
              "      <td>20291.466225</td>\n",
              "      <td>-0.541679</td>\n",
              "    </tr>\n",
              "    <tr>\n",
              "      <th>...</th>\n",
              "      <th>...</th>\n",
              "      <td>...</td>\n",
              "      <td>...</td>\n",
              "      <td>...</td>\n",
              "      <td>...</td>\n",
              "      <td>...</td>\n",
              "      <td>...</td>\n",
              "      <td>...</td>\n",
              "      <td>...</td>\n",
              "      <td>...</td>\n",
              "      <td>...</td>\n",
              "      <td>...</td>\n",
              "      <td>...</td>\n",
              "      <td>...</td>\n",
              "      <td>...</td>\n",
              "      <td>...</td>\n",
              "      <td>...</td>\n",
              "      <td>...</td>\n",
              "      <td>...</td>\n",
              "      <td>...</td>\n",
              "      <td>...</td>\n",
              "      <td>...</td>\n",
              "    </tr>\n",
              "    <tr>\n",
              "      <th rowspan=\"5\" valign=\"top\">9997</th>\n",
              "      <th>2021-11-29</th>\n",
              "      <td>678.0</td>\n",
              "      <td>679.0</td>\n",
              "      <td>665.0</td>\n",
              "      <td>668.0</td>\n",
              "      <td>320800</td>\n",
              "      <td>1.0</td>\n",
              "      <td>NaN</td>\n",
              "      <td>False</td>\n",
              "      <td>None</td>\n",
              "      <td>False</td>\n",
              "      <td>...</td>\n",
              "      <td>764.766667</td>\n",
              "      <td>-0.126531</td>\n",
              "      <td>712.1</td>\n",
              "      <td>-0.061930</td>\n",
              "      <td>797.799623</td>\n",
              "      <td>-0.162697</td>\n",
              "      <td>238233.333333</td>\n",
              "      <td>0.346579</td>\n",
              "      <td>270363.742816</td>\n",
              "      <td>0.186550</td>\n",
              "    </tr>\n",
              "    <tr>\n",
              "      <th>2021-11-30</th>\n",
              "      <td>670.0</td>\n",
              "      <td>689.0</td>\n",
              "      <td>667.0</td>\n",
              "      <td>667.0</td>\n",
              "      <td>296300</td>\n",
              "      <td>1.0</td>\n",
              "      <td>NaN</td>\n",
              "      <td>False</td>\n",
              "      <td>Long</td>\n",
              "      <td>False</td>\n",
              "      <td>...</td>\n",
              "      <td>759.233333</td>\n",
              "      <td>-0.121482</td>\n",
              "      <td>704.1</td>\n",
              "      <td>-0.052691</td>\n",
              "      <td>793.580280</td>\n",
              "      <td>-0.159505</td>\n",
              "      <td>244930.000000</td>\n",
              "      <td>0.209733</td>\n",
              "      <td>271200.396274</td>\n",
              "      <td>0.092550</td>\n",
              "    </tr>\n",
              "    <tr>\n",
              "      <th>2021-12-01</th>\n",
              "      <td>661.0</td>\n",
              "      <td>688.0</td>\n",
              "      <td>660.0</td>\n",
              "      <td>685.0</td>\n",
              "      <td>339100</td>\n",
              "      <td>1.0</td>\n",
              "      <td>NaN</td>\n",
              "      <td>False</td>\n",
              "      <td>None</td>\n",
              "      <td>False</td>\n",
              "      <td>...</td>\n",
              "      <td>754.266667</td>\n",
              "      <td>-0.091833</td>\n",
              "      <td>699.5</td>\n",
              "      <td>-0.020729</td>\n",
              "      <td>790.077690</td>\n",
              "      <td>-0.132997</td>\n",
              "      <td>250670.000000</td>\n",
              "      <td>0.352775</td>\n",
              "      <td>273390.706071</td>\n",
              "      <td>0.240349</td>\n",
              "    </tr>\n",
              "    <tr>\n",
              "      <th>2021-12-02</th>\n",
              "      <td>681.0</td>\n",
              "      <td>692.0</td>\n",
              "      <td>680.0</td>\n",
              "      <td>684.0</td>\n",
              "      <td>342900</td>\n",
              "      <td>1.0</td>\n",
              "      <td>NaN</td>\n",
              "      <td>False</td>\n",
              "      <td>None</td>\n",
              "      <td>False</td>\n",
              "      <td>...</td>\n",
              "      <td>749.433333</td>\n",
              "      <td>-0.087310</td>\n",
              "      <td>694.5</td>\n",
              "      <td>-0.015119</td>\n",
              "      <td>786.655829</td>\n",
              "      <td>-0.130496</td>\n",
              "      <td>255733.333333</td>\n",
              "      <td>0.340850</td>\n",
              "      <td>275632.941359</td>\n",
              "      <td>0.244046</td>\n",
              "    </tr>\n",
              "    <tr>\n",
              "      <th>2021-12-03</th>\n",
              "      <td>690.0</td>\n",
              "      <td>711.0</td>\n",
              "      <td>686.0</td>\n",
              "      <td>696.0</td>\n",
              "      <td>381100</td>\n",
              "      <td>1.0</td>\n",
              "      <td>NaN</td>\n",
              "      <td>False</td>\n",
              "      <td>NaN</td>\n",
              "      <td>False</td>\n",
              "      <td>...</td>\n",
              "      <td>745.333333</td>\n",
              "      <td>-0.066190</td>\n",
              "      <td>692.5</td>\n",
              "      <td>0.005054</td>\n",
              "      <td>783.731448</td>\n",
              "      <td>-0.111941</td>\n",
              "      <td>261393.333333</td>\n",
              "      <td>0.457956</td>\n",
              "      <td>279035.104541</td>\n",
              "      <td>0.365778</td>\n",
              "    </tr>\n",
              "  </tbody>\n",
              "</table>\n",
              "<p>2324923 rows × 21 columns</p>\n",
              "</div>\n",
              "      <button class=\"colab-df-convert\" onclick=\"convertToInteractive('df-a412fcbe-3e2d-4e02-ba5e-50a3c40d8de8')\"\n",
              "              title=\"Convert this dataframe to an interactive table.\"\n",
              "              style=\"display:none;\">\n",
              "        \n",
              "  <svg xmlns=\"http://www.w3.org/2000/svg\" height=\"24px\"viewBox=\"0 0 24 24\"\n",
              "       width=\"24px\">\n",
              "    <path d=\"M0 0h24v24H0V0z\" fill=\"none\"/>\n",
              "    <path d=\"M18.56 5.44l.94 2.06.94-2.06 2.06-.94-2.06-.94-.94-2.06-.94 2.06-2.06.94zm-11 1L8.5 8.5l.94-2.06 2.06-.94-2.06-.94L8.5 2.5l-.94 2.06-2.06.94zm10 10l.94 2.06.94-2.06 2.06-.94-2.06-.94-.94-2.06-.94 2.06-2.06.94z\"/><path d=\"M17.41 7.96l-1.37-1.37c-.4-.4-.92-.59-1.43-.59-.52 0-1.04.2-1.43.59L10.3 9.45l-7.72 7.72c-.78.78-.78 2.05 0 2.83L4 21.41c.39.39.9.59 1.41.59.51 0 1.02-.2 1.41-.59l7.78-7.78 2.81-2.81c.8-.78.8-2.07 0-2.86zM5.41 20L4 18.59l7.72-7.72 1.47 1.35L5.41 20z\"/>\n",
              "  </svg>\n",
              "      </button>\n",
              "      \n",
              "  <style>\n",
              "    .colab-df-container {\n",
              "      display:flex;\n",
              "      flex-wrap:wrap;\n",
              "      gap: 12px;\n",
              "    }\n",
              "\n",
              "    .colab-df-convert {\n",
              "      background-color: #E8F0FE;\n",
              "      border: none;\n",
              "      border-radius: 50%;\n",
              "      cursor: pointer;\n",
              "      display: none;\n",
              "      fill: #1967D2;\n",
              "      height: 32px;\n",
              "      padding: 0 0 0 0;\n",
              "      width: 32px;\n",
              "    }\n",
              "\n",
              "    .colab-df-convert:hover {\n",
              "      background-color: #E2EBFA;\n",
              "      box-shadow: 0px 1px 2px rgba(60, 64, 67, 0.3), 0px 1px 3px 1px rgba(60, 64, 67, 0.15);\n",
              "      fill: #174EA6;\n",
              "    }\n",
              "\n",
              "    [theme=dark] .colab-df-convert {\n",
              "      background-color: #3B4455;\n",
              "      fill: #D2E3FC;\n",
              "    }\n",
              "\n",
              "    [theme=dark] .colab-df-convert:hover {\n",
              "      background-color: #434B5C;\n",
              "      box-shadow: 0px 1px 3px 1px rgba(0, 0, 0, 0.15);\n",
              "      filter: drop-shadow(0px 1px 2px rgba(0, 0, 0, 0.3));\n",
              "      fill: #FFFFFF;\n",
              "    }\n",
              "  </style>\n",
              "\n",
              "      <script>\n",
              "        const buttonEl =\n",
              "          document.querySelector('#df-a412fcbe-3e2d-4e02-ba5e-50a3c40d8de8 button.colab-df-convert');\n",
              "        buttonEl.style.display =\n",
              "          google.colab.kernel.accessAllowed ? 'block' : 'none';\n",
              "\n",
              "        async function convertToInteractive(key) {\n",
              "          const element = document.querySelector('#df-a412fcbe-3e2d-4e02-ba5e-50a3c40d8de8');\n",
              "          const dataTable =\n",
              "            await google.colab.kernel.invokeFunction('convertToInteractive',\n",
              "                                                     [key], {});\n",
              "          if (!dataTable) return;\n",
              "\n",
              "          const docLinkHtml = 'Like what you see? Visit the ' +\n",
              "            '<a target=\"_blank\" href=https://colab.research.google.com/notebooks/data_table.ipynb>data table notebook</a>'\n",
              "            + ' to learn more about interactive tables.';\n",
              "          element.innerHTML = '';\n",
              "          dataTable['output_type'] = 'display_data';\n",
              "          await google.colab.output.renderOutput(dataTable, element);\n",
              "          const docLink = document.createElement('div');\n",
              "          docLink.innerHTML = docLinkHtml;\n",
              "          element.appendChild(docLink);\n",
              "        }\n",
              "      </script>\n",
              "    </div>\n",
              "  </div>\n",
              "  "
            ]
          },
          "metadata": {},
          "execution_count": 140
        }
      ]
    },
    {
      "cell_type": "markdown",
      "source": [
        "### 1.7 AddSmaEmaRelation"
      ],
      "metadata": {
        "id": "ViK1tUDVjho4"
      }
    },
    {
      "cell_type": "code",
      "source": [
        "class AddSmaEmaRelation(BaseEstimator, TransformerMixin):\n",
        "    \"\"\"\n",
        "    Transformer which adds relation between SMA and EMA of given size.\n",
        "\n",
        "    Transformer dodający zależność pomiędzy średnimi SMA i EWM\n",
        "    dla tych samych rozmiarów średniej i tego samego OHLCV\n",
        "    Exponential Moving Average\n",
        "\n",
        "    :param ma_size: Size of SMA and EMA\n",
        "    :param ohlcv_col: Choice from OHLCV value\n",
        "    \"\"\"\n",
        "    ohlcv_col: str\n",
        "    ma_size: int\n",
        "    relation: pandas.Series\n",
        "\n",
        "    def __init__(self, ma_size: int = 30, ohlcv_col: str = 'Close'):\n",
        "        self.ohlcv_col = ohlcv_col\n",
        "        self.ma_size = ma_size\n",
        "        self.relation = pd.Series(None, dtype='float64')\n",
        "\n",
        "    def fit(self, X: pandas.DataFrame, y=None):\n",
        "        \"\"\"\n",
        "        Calculating SMA to EMA relation as EMA percentage for given MA size.\n",
        "\n",
        "        :param X: Dataset to work on\n",
        "        :param y: Ignored. This parameter exists only for compatibility with :class:`~sklearn.pipeline.Pipeline`.\n",
        "        :return: Fitted transformer.\n",
        "        \"\"\"\n",
        "        ema = X \\\n",
        "            .groupby('SecuritiesCode')[self.ohlcv_col] \\\n",
        "            .transform(lambda row: row.ewm(self.ma_size).mean()) \\\n",
        "            .rename('ema')\n",
        "\n",
        "        sma = X \\\n",
        "            .groupby('SecuritiesCode')[self.ohlcv_col] \\\n",
        "            .transform(lambda row: row.rolling(self.ma_size).mean()) \\\n",
        "            .rename('sma')\n",
        "\n",
        "        self.relation = (ema - sma) / ema\n",
        "        self.relation.rename(f'{self.ohlcv_col}_SMA{self.ma_size}vsEWM{self.ma_size}',\n",
        "                             inplace=True)\n",
        "        return self\n",
        "\n",
        "    def transform(self, X: pandas.DataFrame, y=None) -> pandas.DataFrame:\n",
        "        \"\"\"\n",
        "        Adding column.\n",
        "\n",
        "        :param X: Dataset to work on\n",
        "        :param y: Ignored. This parameter exists only for compatibility with :class:`~sklearn.pipeline.Pipeline`.\n",
        "        :return: Input with added column.\n",
        "        \"\"\"\n",
        "        X_out: pd.DataFrame = X.copy()\n",
        "        return X_out.join(self.relation)"
      ],
      "metadata": {
        "id": "R6qLFB-LlKt3"
      },
      "execution_count": 141,
      "outputs": []
    },
    {
      "cell_type": "code",
      "source": [
        "# comparing SMA to EMA for this same MA sizes\n",
        "test_transformer = AddSmaEmaRelation()\n",
        "test_transformer = test_transformer.fit(X=test_data)\n",
        "test_data = test_transformer.transform(X=test_data)\n",
        "test_data[['Close_SMA30_Value', 'Close_EMA30_Value', 'Close_SMA30vsEWM30']]\n",
        "test_data.info()"
      ],
      "metadata": {
        "colab": {
          "base_uri": "https://localhost:8080/"
        },
        "id": "tm2SKT_hlK8N",
        "outputId": "6c2fe77f-cb0e-4cff-fb4b-50b768e96d24"
      },
      "execution_count": 142,
      "outputs": [
        {
          "output_type": "stream",
          "name": "stdout",
          "text": [
            "<class 'pandas.core.frame.DataFrame'>\n",
            "MultiIndex: 2324923 entries, (1301, '2017-01-04') to (9997, '2021-12-03')\n",
            "Data columns (total 22 columns):\n",
            " #   Column                        Dtype  \n",
            "---  ------                        -----  \n",
            " 0   Open                          float64\n",
            " 1   High                          float64\n",
            " 2   Low                           float64\n",
            " 3   Close                         float64\n",
            " 4   Volume                        int64  \n",
            " 5   AdjustmentFactor              float64\n",
            " 6   ExpectedDividend              float64\n",
            " 7   SupervisionFlag               bool   \n",
            " 8   Class                         object \n",
            " 9   ExpectedDividendInfo          bool   \n",
            " 10  ExpectedDividendAsPercentage  float64\n",
            " 11  Close_SMA30_Value             float64\n",
            " 12  Close_SMA30                   float64\n",
            " 13  Close_SMA10_Value             float64\n",
            " 14  Close_SMA10                   float64\n",
            " 15  Close_EMA30_Value             float64\n",
            " 16  Close_EMA30                   float64\n",
            " 17  Volume_SMA30_Value            float64\n",
            " 18  Volume_SMA30                  float64\n",
            " 19  Volume_EMA30_Value            float64\n",
            " 20  Volume_EMA30                  float64\n",
            " 21  Close_SMA30vsEWM30            float64\n",
            "dtypes: bool(2), float64(18), int64(1), object(1)\n",
            "memory usage: 432.7+ MB\n"
          ]
        }
      ]
    },
    {
      "cell_type": "markdown",
      "source": [
        "### 1.8 AddShortLongMaRelation"
      ],
      "metadata": {
        "id": "Bn01rjdNlcSc"
      }
    },
    {
      "cell_type": "code",
      "source": [
        "class AddShortLongMaRelation(BaseEstimator, TransformerMixin):\n",
        "    \"\"\"\n",
        "    Transformer which adds relation between long and short MA of given type and sizes.\n",
        "\n",
        "    :param short_ma_size: Size of short MA\n",
        "    :param long_ma_size: Size of long MA\n",
        "    :param ma_type: Type of MA (SMA or EMA)\n",
        "    :param ohlcv_col: Choice from OHLCV value\n",
        "    \"\"\"\n",
        "    short_ma_size: int\n",
        "    long_ma_size: int\n",
        "    ma_type: str\n",
        "    ohlcv_col: str\n",
        "    relation: pandas.Series\n",
        "\n",
        "    def __init__(self, short_ma_size: int = 10, long_ma_size: int = 30, ma_type: str = 'sma', ohlcv_col: str = 'Close'):\n",
        "        self.short_ma_size = short_ma_size\n",
        "        self.long_ma_size = long_ma_size\n",
        "        self.ma_type = ma_type\n",
        "        self.ohlcv_col = ohlcv_col\n",
        "        self.relation = pd.Series(None, dtype='float64')\n",
        "\n",
        "    def fit(self, X: pandas.DataFrame, y=None):\n",
        "        \"\"\"\n",
        "        Calculating long MA to short MA relation as percentage of long MA.\n",
        "\n",
        "        :param X: Dataset to work on\n",
        "        :param y: Ignored. This parameter exists only for compatibility with :class:`~sklearn.pipeline.Pipeline`.\n",
        "        :return: Fitted transformer.\n",
        "        \"\"\"\n",
        "        if self.ma_type == 'sma':\n",
        "            long_ma_lambda = lambda row: row.rolling(self.long_ma_size).mean()\n",
        "            short_ma_lambda = lambda row: row.rolling(self.short_ma_size).mean()\n",
        "        elif self.ma_type == 'ema':\n",
        "            long_ma_lambda = lambda row: row.ewm(self.long_ma_size).mean()\n",
        "            short_ma_lambda = lambda row: row.ewm(self.short_ma_size).mean()\n",
        "        else:\n",
        "            long_ma_lambda = short_ma_lambda = None\n",
        "\n",
        "        long_ma = X \\\n",
        "            .groupby('SecuritiesCode')[self.ohlcv_col] \\\n",
        "            .transform(long_ma_lambda) \\\n",
        "            .rename('long_ma')\n",
        "\n",
        "        short_ma = X \\\n",
        "            .groupby('SecuritiesCode')[self.ohlcv_col] \\\n",
        "            .transform(short_ma_lambda) \\\n",
        "            .rename('short_ma')\n",
        "\n",
        "        relation_col_name: str = f'{self.ohlcv_col}_{self.ma_type.upper() + str(self.short_ma_size)}' + \\\n",
        "                                 f'vs{self.ma_type.upper() + str(self.long_ma_size)}'\n",
        "\n",
        "        self.relation = (long_ma - short_ma) / long_ma\n",
        "        self.relation.rename(relation_col_name, inplace=True)\n",
        "        return self\n",
        "\n",
        "    def transform(self, X: pandas.DataFrame, y=None) -> pandas.DataFrame:\n",
        "        \"\"\"\n",
        "        Adding column.\n",
        "\n",
        "        :param X: Dataset to work on\n",
        "        :param y: Ignored. This parameter exists only for compatibility with :class:`~sklearn.pipeline.Pipeline`.\n",
        "        :return: Input with added column.\n",
        "        \"\"\"\n",
        "        X_out: pd.DataFrame = X.copy()\n",
        "        return X_out.join(self.relation)"
      ],
      "metadata": {
        "id": "5fRgFryTlhWo"
      },
      "execution_count": 143,
      "outputs": []
    },
    {
      "cell_type": "code",
      "source": [
        "# Comparing short and long MA (SMA or EMA)\n",
        "\n",
        "test_transformer = AddShortLongMaRelation()\n",
        "test_transformer = test_transformer.fit(X=test_data)\n",
        "test_data = test_transformer.transform(X=test_data)\n",
        "test_data[['Close_SMA10_Value', 'Close_SMA30_Value', 'Close_SMA10vsSMA30']]\n",
        "test_data.info()"
      ],
      "metadata": {
        "colab": {
          "base_uri": "https://localhost:8080/"
        },
        "id": "mmbVD3INlhj6",
        "outputId": "1f22fd42-87d1-45ac-8c17-2f8abe8c420b"
      },
      "execution_count": 144,
      "outputs": [
        {
          "output_type": "stream",
          "name": "stdout",
          "text": [
            "<class 'pandas.core.frame.DataFrame'>\n",
            "MultiIndex: 2324923 entries, (1301, '2017-01-04') to (9997, '2021-12-03')\n",
            "Data columns (total 23 columns):\n",
            " #   Column                        Dtype  \n",
            "---  ------                        -----  \n",
            " 0   Open                          float64\n",
            " 1   High                          float64\n",
            " 2   Low                           float64\n",
            " 3   Close                         float64\n",
            " 4   Volume                        int64  \n",
            " 5   AdjustmentFactor              float64\n",
            " 6   ExpectedDividend              float64\n",
            " 7   SupervisionFlag               bool   \n",
            " 8   Class                         object \n",
            " 9   ExpectedDividendInfo          bool   \n",
            " 10  ExpectedDividendAsPercentage  float64\n",
            " 11  Close_SMA30_Value             float64\n",
            " 12  Close_SMA30                   float64\n",
            " 13  Close_SMA10_Value             float64\n",
            " 14  Close_SMA10                   float64\n",
            " 15  Close_EMA30_Value             float64\n",
            " 16  Close_EMA30                   float64\n",
            " 17  Volume_SMA30_Value            float64\n",
            " 18  Volume_SMA30                  float64\n",
            " 19  Volume_EMA30_Value            float64\n",
            " 20  Volume_EMA30                  float64\n",
            " 21  Close_SMA30vsEWM30            float64\n",
            " 22  Close_SMA10vsSMA30            float64\n",
            "dtypes: bool(2), float64(19), int64(1), object(1)\n",
            "memory usage: 450.4+ MB\n"
          ]
        }
      ]
    },
    {
      "cell_type": "markdown",
      "source": [
        "## 2. Corelation\n",
        "Checking corelation of new features"
      ],
      "metadata": {
        "id": "zqyY_V4clvJJ"
      }
    },
    {
      "cell_type": "code",
      "source": [
        ""
      ],
      "metadata": {
        "id": "5_LPCrOyl65f"
      },
      "execution_count": 144,
      "outputs": []
    },
    {
      "cell_type": "code",
      "source": [
        ""
      ],
      "metadata": {
        "id": "81zTYIAul7EC"
      },
      "execution_count": 144,
      "outputs": []
    },
    {
      "cell_type": "markdown",
      "source": [
        "# E. Proccessing dataset\n",
        "Let's process this data\n",
        "\n",
        "## 1. Tranformers for preprocessing\n",
        "Creating tranformers for preprocessing pipeline."
      ],
      "metadata": {
        "id": "0r7sIgqhl7rn"
      }
    },
    {
      "cell_type": "markdown",
      "source": [
        "### 1.1 ResetIndex"
      ],
      "metadata": {
        "id": "oW0TsW_UnaSk"
      }
    },
    {
      "cell_type": "code",
      "source": [
        "class ResetIndex(BaseEstimator, TransformerMixin):\n",
        "    \"\"\"\n",
        "    Reset (drop) dataframe index.\n",
        "    \"\"\"\n",
        "\n",
        "    def __init__(self):\n",
        "        pass\n",
        "\n",
        "    def fit(self, X=None, y=None):\n",
        "        \"\"\"\n",
        "        Doing nothing.\n",
        "\n",
        "        :param X: Ignored. This parameter exists only for compatibility with :class:`~sklearn.pipeline.Pipeline`.\n",
        "        :param y: Ignored. This parameter exists only for compatibility with :class:`~sklearn.pipeline.Pipeline`.\n",
        "        :return: Fitted transformer.\n",
        "        \"\"\"\n",
        "        return self\n",
        "\n",
        "    def transform(self, X: pandas.DataFrame, y=None) -> pandas.DataFrame:\n",
        "        \"\"\"\n",
        "        Droping index of dataframe\n",
        "\n",
        "        :param X: Dataset to work on\n",
        "        :param y: Ignored. This parameter exists only for compatibility with :class:`~sklearn.pipeline.Pipeline`.\n",
        "        :return: Input with added column.\n",
        "        \"\"\"\n",
        "        X_out: pd.DataFrame = X.copy()\n",
        "        return X_out.reset_index(drop=True)"
      ],
      "metadata": {
        "id": "8E4yeQ2RorgM"
      },
      "execution_count": 145,
      "outputs": []
    },
    {
      "cell_type": "code",
      "source": [
        "# removing index\n",
        "test_transformer = ResetIndex()\n",
        "test_transformer = test_transformer.fit(X=test_data)\n",
        "test_data = test_transformer.transform(X=test_data)\n",
        "test_data"
      ],
      "metadata": {
        "colab": {
          "base_uri": "https://localhost:8080/",
          "height": 483
        },
        "id": "mu3dMpvporwG",
        "outputId": "9eabd292-a02a-4b9c-ecbb-1ac9eeb58b73"
      },
      "execution_count": 146,
      "outputs": [
        {
          "output_type": "execute_result",
          "data": {
            "text/plain": [
              "           Open    High     Low   Close  Volume  AdjustmentFactor  \\\n",
              "0        2734.0  2755.0  2730.0  2742.0   31400               1.0   \n",
              "1        2743.0  2747.0  2735.0  2738.0   17900               1.0   \n",
              "2        2734.0  2744.0  2720.0  2740.0   19900               1.0   \n",
              "3        2745.0  2754.0  2735.0  2748.0   24200               1.0   \n",
              "4        2748.0  2752.0  2737.0  2745.0    9300               1.0   \n",
              "...         ...     ...     ...     ...     ...               ...   \n",
              "2324918   678.0   679.0   665.0   668.0  320800               1.0   \n",
              "2324919   670.0   689.0   667.0   667.0  296300               1.0   \n",
              "2324920   661.0   688.0   660.0   685.0  339100               1.0   \n",
              "2324921   681.0   692.0   680.0   684.0  342900               1.0   \n",
              "2324922   690.0   711.0   686.0   696.0  381100               1.0   \n",
              "\n",
              "         ExpectedDividend  SupervisionFlag Class  ExpectedDividendInfo  ...  \\\n",
              "0                     NaN            False  None                 False  ...   \n",
              "1                     NaN            False  None                 False  ...   \n",
              "2                     NaN            False  None                 False  ...   \n",
              "3                     NaN            False  None                 False  ...   \n",
              "4                     NaN            False  None                 False  ...   \n",
              "...                   ...              ...   ...                   ...  ...   \n",
              "2324918               NaN            False  None                 False  ...   \n",
              "2324919               NaN            False  Long                 False  ...   \n",
              "2324920               NaN            False  None                 False  ...   \n",
              "2324921               NaN            False  None                 False  ...   \n",
              "2324922               NaN            False   NaN                 False  ...   \n",
              "\n",
              "         Close_SMA10_Value  Close_SMA10  Close_EMA30_Value  Close_EMA30  \\\n",
              "0                      NaN          NaN        2742.000000     0.000000   \n",
              "1                      NaN          NaN        2739.967213    -0.000718   \n",
              "2                      NaN          NaN        2739.978502     0.000008   \n",
              "3                      NaN          NaN        2742.083562     0.002158   \n",
              "4                      NaN          NaN        2742.705714     0.000837   \n",
              "...                    ...          ...                ...          ...   \n",
              "2324918              712.1    -0.061930         797.799623    -0.162697   \n",
              "2324919              704.1    -0.052691         793.580280    -0.159505   \n",
              "2324920              699.5    -0.020729         790.077690    -0.132997   \n",
              "2324921              694.5    -0.015119         786.655829    -0.130496   \n",
              "2324922              692.5     0.005054         783.731448    -0.111941   \n",
              "\n",
              "         Volume_SMA30_Value  Volume_SMA30  Volume_EMA30_Value  Volume_EMA30  \\\n",
              "0                       NaN           NaN        31400.000000      0.000000   \n",
              "1                       NaN           NaN        24539.344262     -0.270559   \n",
              "2                       NaN           NaN        22941.920459     -0.132592   \n",
              "3                       NaN           NaN        23272.074770      0.039873   \n",
              "4                       NaN           NaN        20291.466225     -0.541679   \n",
              "...                     ...           ...                 ...           ...   \n",
              "2324918       238233.333333      0.346579       270363.742816      0.186550   \n",
              "2324919       244930.000000      0.209733       271200.396274      0.092550   \n",
              "2324920       250670.000000      0.352775       273390.706071      0.240349   \n",
              "2324921       255733.333333      0.340850       275632.941359      0.244046   \n",
              "2324922       261393.333333      0.457956       279035.104541      0.365778   \n",
              "\n",
              "         Close_SMA30vsEWM30  Close_SMA10vsSMA30  \n",
              "0                       NaN                 NaN  \n",
              "1                       NaN                 NaN  \n",
              "2                       NaN                 NaN  \n",
              "3                       NaN                 NaN  \n",
              "4                       NaN                 NaN  \n",
              "...                     ...                 ...  \n",
              "2324918            0.041405            0.068866  \n",
              "2324919            0.043281            0.072617  \n",
              "2324920            0.045326            0.072609  \n",
              "2324921            0.047317            0.073300  \n",
              "2324922            0.048994            0.070886  \n",
              "\n",
              "[2324923 rows x 23 columns]"
            ],
            "text/html": [
              "\n",
              "  <div id=\"df-f8d55b62-ff0b-4431-8354-976154a23a53\">\n",
              "    <div class=\"colab-df-container\">\n",
              "      <div>\n",
              "<style scoped>\n",
              "    .dataframe tbody tr th:only-of-type {\n",
              "        vertical-align: middle;\n",
              "    }\n",
              "\n",
              "    .dataframe tbody tr th {\n",
              "        vertical-align: top;\n",
              "    }\n",
              "\n",
              "    .dataframe thead th {\n",
              "        text-align: right;\n",
              "    }\n",
              "</style>\n",
              "<table border=\"1\" class=\"dataframe\">\n",
              "  <thead>\n",
              "    <tr style=\"text-align: right;\">\n",
              "      <th></th>\n",
              "      <th>Open</th>\n",
              "      <th>High</th>\n",
              "      <th>Low</th>\n",
              "      <th>Close</th>\n",
              "      <th>Volume</th>\n",
              "      <th>AdjustmentFactor</th>\n",
              "      <th>ExpectedDividend</th>\n",
              "      <th>SupervisionFlag</th>\n",
              "      <th>Class</th>\n",
              "      <th>ExpectedDividendInfo</th>\n",
              "      <th>...</th>\n",
              "      <th>Close_SMA10_Value</th>\n",
              "      <th>Close_SMA10</th>\n",
              "      <th>Close_EMA30_Value</th>\n",
              "      <th>Close_EMA30</th>\n",
              "      <th>Volume_SMA30_Value</th>\n",
              "      <th>Volume_SMA30</th>\n",
              "      <th>Volume_EMA30_Value</th>\n",
              "      <th>Volume_EMA30</th>\n",
              "      <th>Close_SMA30vsEWM30</th>\n",
              "      <th>Close_SMA10vsSMA30</th>\n",
              "    </tr>\n",
              "  </thead>\n",
              "  <tbody>\n",
              "    <tr>\n",
              "      <th>0</th>\n",
              "      <td>2734.0</td>\n",
              "      <td>2755.0</td>\n",
              "      <td>2730.0</td>\n",
              "      <td>2742.0</td>\n",
              "      <td>31400</td>\n",
              "      <td>1.0</td>\n",
              "      <td>NaN</td>\n",
              "      <td>False</td>\n",
              "      <td>None</td>\n",
              "      <td>False</td>\n",
              "      <td>...</td>\n",
              "      <td>NaN</td>\n",
              "      <td>NaN</td>\n",
              "      <td>2742.000000</td>\n",
              "      <td>0.000000</td>\n",
              "      <td>NaN</td>\n",
              "      <td>NaN</td>\n",
              "      <td>31400.000000</td>\n",
              "      <td>0.000000</td>\n",
              "      <td>NaN</td>\n",
              "      <td>NaN</td>\n",
              "    </tr>\n",
              "    <tr>\n",
              "      <th>1</th>\n",
              "      <td>2743.0</td>\n",
              "      <td>2747.0</td>\n",
              "      <td>2735.0</td>\n",
              "      <td>2738.0</td>\n",
              "      <td>17900</td>\n",
              "      <td>1.0</td>\n",
              "      <td>NaN</td>\n",
              "      <td>False</td>\n",
              "      <td>None</td>\n",
              "      <td>False</td>\n",
              "      <td>...</td>\n",
              "      <td>NaN</td>\n",
              "      <td>NaN</td>\n",
              "      <td>2739.967213</td>\n",
              "      <td>-0.000718</td>\n",
              "      <td>NaN</td>\n",
              "      <td>NaN</td>\n",
              "      <td>24539.344262</td>\n",
              "      <td>-0.270559</td>\n",
              "      <td>NaN</td>\n",
              "      <td>NaN</td>\n",
              "    </tr>\n",
              "    <tr>\n",
              "      <th>2</th>\n",
              "      <td>2734.0</td>\n",
              "      <td>2744.0</td>\n",
              "      <td>2720.0</td>\n",
              "      <td>2740.0</td>\n",
              "      <td>19900</td>\n",
              "      <td>1.0</td>\n",
              "      <td>NaN</td>\n",
              "      <td>False</td>\n",
              "      <td>None</td>\n",
              "      <td>False</td>\n",
              "      <td>...</td>\n",
              "      <td>NaN</td>\n",
              "      <td>NaN</td>\n",
              "      <td>2739.978502</td>\n",
              "      <td>0.000008</td>\n",
              "      <td>NaN</td>\n",
              "      <td>NaN</td>\n",
              "      <td>22941.920459</td>\n",
              "      <td>-0.132592</td>\n",
              "      <td>NaN</td>\n",
              "      <td>NaN</td>\n",
              "    </tr>\n",
              "    <tr>\n",
              "      <th>3</th>\n",
              "      <td>2745.0</td>\n",
              "      <td>2754.0</td>\n",
              "      <td>2735.0</td>\n",
              "      <td>2748.0</td>\n",
              "      <td>24200</td>\n",
              "      <td>1.0</td>\n",
              "      <td>NaN</td>\n",
              "      <td>False</td>\n",
              "      <td>None</td>\n",
              "      <td>False</td>\n",
              "      <td>...</td>\n",
              "      <td>NaN</td>\n",
              "      <td>NaN</td>\n",
              "      <td>2742.083562</td>\n",
              "      <td>0.002158</td>\n",
              "      <td>NaN</td>\n",
              "      <td>NaN</td>\n",
              "      <td>23272.074770</td>\n",
              "      <td>0.039873</td>\n",
              "      <td>NaN</td>\n",
              "      <td>NaN</td>\n",
              "    </tr>\n",
              "    <tr>\n",
              "      <th>4</th>\n",
              "      <td>2748.0</td>\n",
              "      <td>2752.0</td>\n",
              "      <td>2737.0</td>\n",
              "      <td>2745.0</td>\n",
              "      <td>9300</td>\n",
              "      <td>1.0</td>\n",
              "      <td>NaN</td>\n",
              "      <td>False</td>\n",
              "      <td>None</td>\n",
              "      <td>False</td>\n",
              "      <td>...</td>\n",
              "      <td>NaN</td>\n",
              "      <td>NaN</td>\n",
              "      <td>2742.705714</td>\n",
              "      <td>0.000837</td>\n",
              "      <td>NaN</td>\n",
              "      <td>NaN</td>\n",
              "      <td>20291.466225</td>\n",
              "      <td>-0.541679</td>\n",
              "      <td>NaN</td>\n",
              "      <td>NaN</td>\n",
              "    </tr>\n",
              "    <tr>\n",
              "      <th>...</th>\n",
              "      <td>...</td>\n",
              "      <td>...</td>\n",
              "      <td>...</td>\n",
              "      <td>...</td>\n",
              "      <td>...</td>\n",
              "      <td>...</td>\n",
              "      <td>...</td>\n",
              "      <td>...</td>\n",
              "      <td>...</td>\n",
              "      <td>...</td>\n",
              "      <td>...</td>\n",
              "      <td>...</td>\n",
              "      <td>...</td>\n",
              "      <td>...</td>\n",
              "      <td>...</td>\n",
              "      <td>...</td>\n",
              "      <td>...</td>\n",
              "      <td>...</td>\n",
              "      <td>...</td>\n",
              "      <td>...</td>\n",
              "      <td>...</td>\n",
              "    </tr>\n",
              "    <tr>\n",
              "      <th>2324918</th>\n",
              "      <td>678.0</td>\n",
              "      <td>679.0</td>\n",
              "      <td>665.0</td>\n",
              "      <td>668.0</td>\n",
              "      <td>320800</td>\n",
              "      <td>1.0</td>\n",
              "      <td>NaN</td>\n",
              "      <td>False</td>\n",
              "      <td>None</td>\n",
              "      <td>False</td>\n",
              "      <td>...</td>\n",
              "      <td>712.1</td>\n",
              "      <td>-0.061930</td>\n",
              "      <td>797.799623</td>\n",
              "      <td>-0.162697</td>\n",
              "      <td>238233.333333</td>\n",
              "      <td>0.346579</td>\n",
              "      <td>270363.742816</td>\n",
              "      <td>0.186550</td>\n",
              "      <td>0.041405</td>\n",
              "      <td>0.068866</td>\n",
              "    </tr>\n",
              "    <tr>\n",
              "      <th>2324919</th>\n",
              "      <td>670.0</td>\n",
              "      <td>689.0</td>\n",
              "      <td>667.0</td>\n",
              "      <td>667.0</td>\n",
              "      <td>296300</td>\n",
              "      <td>1.0</td>\n",
              "      <td>NaN</td>\n",
              "      <td>False</td>\n",
              "      <td>Long</td>\n",
              "      <td>False</td>\n",
              "      <td>...</td>\n",
              "      <td>704.1</td>\n",
              "      <td>-0.052691</td>\n",
              "      <td>793.580280</td>\n",
              "      <td>-0.159505</td>\n",
              "      <td>244930.000000</td>\n",
              "      <td>0.209733</td>\n",
              "      <td>271200.396274</td>\n",
              "      <td>0.092550</td>\n",
              "      <td>0.043281</td>\n",
              "      <td>0.072617</td>\n",
              "    </tr>\n",
              "    <tr>\n",
              "      <th>2324920</th>\n",
              "      <td>661.0</td>\n",
              "      <td>688.0</td>\n",
              "      <td>660.0</td>\n",
              "      <td>685.0</td>\n",
              "      <td>339100</td>\n",
              "      <td>1.0</td>\n",
              "      <td>NaN</td>\n",
              "      <td>False</td>\n",
              "      <td>None</td>\n",
              "      <td>False</td>\n",
              "      <td>...</td>\n",
              "      <td>699.5</td>\n",
              "      <td>-0.020729</td>\n",
              "      <td>790.077690</td>\n",
              "      <td>-0.132997</td>\n",
              "      <td>250670.000000</td>\n",
              "      <td>0.352775</td>\n",
              "      <td>273390.706071</td>\n",
              "      <td>0.240349</td>\n",
              "      <td>0.045326</td>\n",
              "      <td>0.072609</td>\n",
              "    </tr>\n",
              "    <tr>\n",
              "      <th>2324921</th>\n",
              "      <td>681.0</td>\n",
              "      <td>692.0</td>\n",
              "      <td>680.0</td>\n",
              "      <td>684.0</td>\n",
              "      <td>342900</td>\n",
              "      <td>1.0</td>\n",
              "      <td>NaN</td>\n",
              "      <td>False</td>\n",
              "      <td>None</td>\n",
              "      <td>False</td>\n",
              "      <td>...</td>\n",
              "      <td>694.5</td>\n",
              "      <td>-0.015119</td>\n",
              "      <td>786.655829</td>\n",
              "      <td>-0.130496</td>\n",
              "      <td>255733.333333</td>\n",
              "      <td>0.340850</td>\n",
              "      <td>275632.941359</td>\n",
              "      <td>0.244046</td>\n",
              "      <td>0.047317</td>\n",
              "      <td>0.073300</td>\n",
              "    </tr>\n",
              "    <tr>\n",
              "      <th>2324922</th>\n",
              "      <td>690.0</td>\n",
              "      <td>711.0</td>\n",
              "      <td>686.0</td>\n",
              "      <td>696.0</td>\n",
              "      <td>381100</td>\n",
              "      <td>1.0</td>\n",
              "      <td>NaN</td>\n",
              "      <td>False</td>\n",
              "      <td>NaN</td>\n",
              "      <td>False</td>\n",
              "      <td>...</td>\n",
              "      <td>692.5</td>\n",
              "      <td>0.005054</td>\n",
              "      <td>783.731448</td>\n",
              "      <td>-0.111941</td>\n",
              "      <td>261393.333333</td>\n",
              "      <td>0.457956</td>\n",
              "      <td>279035.104541</td>\n",
              "      <td>0.365778</td>\n",
              "      <td>0.048994</td>\n",
              "      <td>0.070886</td>\n",
              "    </tr>\n",
              "  </tbody>\n",
              "</table>\n",
              "<p>2324923 rows × 23 columns</p>\n",
              "</div>\n",
              "      <button class=\"colab-df-convert\" onclick=\"convertToInteractive('df-f8d55b62-ff0b-4431-8354-976154a23a53')\"\n",
              "              title=\"Convert this dataframe to an interactive table.\"\n",
              "              style=\"display:none;\">\n",
              "        \n",
              "  <svg xmlns=\"http://www.w3.org/2000/svg\" height=\"24px\"viewBox=\"0 0 24 24\"\n",
              "       width=\"24px\">\n",
              "    <path d=\"M0 0h24v24H0V0z\" fill=\"none\"/>\n",
              "    <path d=\"M18.56 5.44l.94 2.06.94-2.06 2.06-.94-2.06-.94-.94-2.06-.94 2.06-2.06.94zm-11 1L8.5 8.5l.94-2.06 2.06-.94-2.06-.94L8.5 2.5l-.94 2.06-2.06.94zm10 10l.94 2.06.94-2.06 2.06-.94-2.06-.94-.94-2.06-.94 2.06-2.06.94z\"/><path d=\"M17.41 7.96l-1.37-1.37c-.4-.4-.92-.59-1.43-.59-.52 0-1.04.2-1.43.59L10.3 9.45l-7.72 7.72c-.78.78-.78 2.05 0 2.83L4 21.41c.39.39.9.59 1.41.59.51 0 1.02-.2 1.41-.59l7.78-7.78 2.81-2.81c.8-.78.8-2.07 0-2.86zM5.41 20L4 18.59l7.72-7.72 1.47 1.35L5.41 20z\"/>\n",
              "  </svg>\n",
              "      </button>\n",
              "      \n",
              "  <style>\n",
              "    .colab-df-container {\n",
              "      display:flex;\n",
              "      flex-wrap:wrap;\n",
              "      gap: 12px;\n",
              "    }\n",
              "\n",
              "    .colab-df-convert {\n",
              "      background-color: #E8F0FE;\n",
              "      border: none;\n",
              "      border-radius: 50%;\n",
              "      cursor: pointer;\n",
              "      display: none;\n",
              "      fill: #1967D2;\n",
              "      height: 32px;\n",
              "      padding: 0 0 0 0;\n",
              "      width: 32px;\n",
              "    }\n",
              "\n",
              "    .colab-df-convert:hover {\n",
              "      background-color: #E2EBFA;\n",
              "      box-shadow: 0px 1px 2px rgba(60, 64, 67, 0.3), 0px 1px 3px 1px rgba(60, 64, 67, 0.15);\n",
              "      fill: #174EA6;\n",
              "    }\n",
              "\n",
              "    [theme=dark] .colab-df-convert {\n",
              "      background-color: #3B4455;\n",
              "      fill: #D2E3FC;\n",
              "    }\n",
              "\n",
              "    [theme=dark] .colab-df-convert:hover {\n",
              "      background-color: #434B5C;\n",
              "      box-shadow: 0px 1px 3px 1px rgba(0, 0, 0, 0.15);\n",
              "      filter: drop-shadow(0px 1px 2px rgba(0, 0, 0, 0.3));\n",
              "      fill: #FFFFFF;\n",
              "    }\n",
              "  </style>\n",
              "\n",
              "      <script>\n",
              "        const buttonEl =\n",
              "          document.querySelector('#df-f8d55b62-ff0b-4431-8354-976154a23a53 button.colab-df-convert');\n",
              "        buttonEl.style.display =\n",
              "          google.colab.kernel.accessAllowed ? 'block' : 'none';\n",
              "\n",
              "        async function convertToInteractive(key) {\n",
              "          const element = document.querySelector('#df-f8d55b62-ff0b-4431-8354-976154a23a53');\n",
              "          const dataTable =\n",
              "            await google.colab.kernel.invokeFunction('convertToInteractive',\n",
              "                                                     [key], {});\n",
              "          if (!dataTable) return;\n",
              "\n",
              "          const docLinkHtml = 'Like what you see? Visit the ' +\n",
              "            '<a target=\"_blank\" href=https://colab.research.google.com/notebooks/data_table.ipynb>data table notebook</a>'\n",
              "            + ' to learn more about interactive tables.';\n",
              "          element.innerHTML = '';\n",
              "          dataTable['output_type'] = 'display_data';\n",
              "          await google.colab.output.renderOutput(dataTable, element);\n",
              "          const docLink = document.createElement('div');\n",
              "          docLink.innerHTML = docLinkHtml;\n",
              "          element.appendChild(docLink);\n",
              "        }\n",
              "      </script>\n",
              "    </div>\n",
              "  </div>\n",
              "  "
            ]
          },
          "metadata": {},
          "execution_count": 146
        }
      ]
    },
    {
      "cell_type": "markdown",
      "source": [
        "### 1.2 ColumnSelectorByType"
      ],
      "metadata": {
        "id": "W967A9H3ozmk"
      }
    },
    {
      "cell_type": "code",
      "source": [
        "class ColumnsSelectorByType(BaseEstimator, TransformerMixin):\n",
        "    \"\"\"\n",
        "    Transformer to select columns of specified types.\n",
        "\n",
        "    :param column_type: List of types of columns to select.\n",
        "    \"\"\"\n",
        "    column_type: list\n",
        "\n",
        "    def __init__(self, column_type: list):\n",
        "        self.column_type = column_type\n",
        "\n",
        "    def fit(self, X=None, y=None):\n",
        "        \"\"\"\n",
        "        Doing nothing.\n",
        "\n",
        "        :param X: Ignored. This parameter exists only for compatibility with :class:`~sklearn.pipeline.Pipeline`.\n",
        "        :param y: Ignored. This parameter exists only for compatibility with :class:`~sklearn.pipeline.Pipeline`.\n",
        "        :return: Fitted transformer.\n",
        "        \"\"\"\n",
        "        return self\n",
        "\n",
        "    def transform(self, X: pandas.DataFrame, y=None) -> pandas.DataFrame:\n",
        "        \"\"\"\n",
        "        Selecting column of specified types.\n",
        "\n",
        "        :param X: Dataset to work on\n",
        "        :param y: Ignored. This parameter exists only for compatibility with :class:`~sklearn.pipeline.Pipeline`.\n",
        "        :return: Input with added column.\n",
        "        \"\"\"\n",
        "        return X.select_dtypes(include=self.column_type)"
      ],
      "metadata": {
        "id": "uEJUafNpo3oq"
      },
      "execution_count": 147,
      "outputs": []
    },
    {
      "cell_type": "code",
      "source": [
        "# well it looks like i dont need it :) \n",
        "test_data.info()"
      ],
      "metadata": {
        "colab": {
          "base_uri": "https://localhost:8080/"
        },
        "id": "fE4MPAKRo32A",
        "outputId": "08904f36-f1b3-4185-86f0-4b601fec7073"
      },
      "execution_count": 148,
      "outputs": [
        {
          "output_type": "stream",
          "name": "stdout",
          "text": [
            "<class 'pandas.core.frame.DataFrame'>\n",
            "RangeIndex: 2324923 entries, 0 to 2324922\n",
            "Data columns (total 23 columns):\n",
            " #   Column                        Dtype  \n",
            "---  ------                        -----  \n",
            " 0   Open                          float64\n",
            " 1   High                          float64\n",
            " 2   Low                           float64\n",
            " 3   Close                         float64\n",
            " 4   Volume                        int64  \n",
            " 5   AdjustmentFactor              float64\n",
            " 6   ExpectedDividend              float64\n",
            " 7   SupervisionFlag               bool   \n",
            " 8   Class                         object \n",
            " 9   ExpectedDividendInfo          bool   \n",
            " 10  ExpectedDividendAsPercentage  float64\n",
            " 11  Close_SMA30_Value             float64\n",
            " 12  Close_SMA30                   float64\n",
            " 13  Close_SMA10_Value             float64\n",
            " 14  Close_SMA10                   float64\n",
            " 15  Close_EMA30_Value             float64\n",
            " 16  Close_EMA30                   float64\n",
            " 17  Volume_SMA30_Value            float64\n",
            " 18  Volume_SMA30                  float64\n",
            " 19  Volume_EMA30_Value            float64\n",
            " 20  Volume_EMA30                  float64\n",
            " 21  Close_SMA30vsEWM30            float64\n",
            " 22  Close_SMA10vsSMA30            float64\n",
            "dtypes: bool(2), float64(19), int64(1), object(1)\n",
            "memory usage: 376.9+ MB\n"
          ]
        }
      ]
    },
    {
      "cell_type": "markdown",
      "source": [
        "### 1.3 MyStandardScaler"
      ],
      "metadata": {
        "id": "L0yQ2Zw5wnpH"
      }
    },
    {
      "cell_type": "code",
      "source": [
        "class MyStandardScaler(BaseEstimator, TransformerMixin):\n",
        "    \"\"\"\n",
        "    Transformer which is scaling data\n",
        "\n",
        "    :param with_mean: using mean, set False when mean is close to zero\n",
        "    :param with_std: using standard deviation, set False when it's close to 1\n",
        "    \"\"\"\n",
        "    with_mean: bool\n",
        "    with_std: bool\n",
        "    stds: pandas.Series\n",
        "    means: pandas.Series\n",
        "\n",
        "    def __init__(self, with_mean: bool = True, with_std: bool = True):\n",
        "\n",
        "        self.with_mean = with_mean\n",
        "        self.with_std = with_std\n",
        "        self.stds = pd.Series(None, dtype='float64')\n",
        "        self.means = pd.Series(None, dtype='float64')\n",
        "\n",
        "    def fit(self, X: pandas.DataFrame, y=None):\n",
        "        \"\"\"\n",
        "        Calculating means and stds.\n",
        "\n",
        "        :param X: Dataset to work on\n",
        "        :param y: Ignored. This parameter exists only for compatibility with :class:`~sklearn.pipeline.Pipeline`.\n",
        "        :return: Fitted transformer.\n",
        "        \"\"\"\n",
        "        if self.with_mean:\n",
        "            self.means = X.mean(axis=0)\n",
        "        if self.with_std:\n",
        "            self.stds = X.std(axis=0)\n",
        "        return self\n",
        "\n",
        "    def transform(self, X: pandas.DataFrame, y=None) -> pandas.DataFrame:\n",
        "        \"\"\"\n",
        "        Adding column or columns.\n",
        "\n",
        "        :param X: Dataset to work on\n",
        "        :param y: Ignored. This parameter exists only for compatibility with :class:`~sklearn.pipeline.Pipeline`.\n",
        "        :return: Input with added columns.\n",
        "        \"\"\"\n",
        "        X_out = X.copy()  # robię kopię tej ramki\n",
        "        if self.with_mean:\n",
        "            X_out -= self.means\n",
        "        if self.with_std:\n",
        "            X_out /= self.stds\n",
        "        return X_out"
      ],
      "metadata": {
        "id": "IvII_hLxwsZH"
      },
      "execution_count": 149,
      "outputs": []
    },
    {
      "cell_type": "code",
      "source": [
        ""
      ],
      "metadata": {
        "id": "Qb6DXumlwspx"
      },
      "execution_count": 149,
      "outputs": []
    },
    {
      "cell_type": "markdown",
      "source": [
        "### 1.4 DataResampling"
      ],
      "metadata": {
        "id": "Sk07E7viwt8l"
      }
    },
    {
      "cell_type": "code",
      "source": [
        ""
      ],
      "metadata": {
        "id": "M2v35_OLwzcC"
      },
      "execution_count": 149,
      "outputs": []
    },
    {
      "cell_type": "code",
      "source": [
        ""
      ],
      "metadata": {
        "id": "VXRUmJa0wzr5"
      },
      "execution_count": 149,
      "outputs": []
    },
    {
      "cell_type": "code",
      "execution_count": 150,
      "metadata": {
        "id": "vw0KTVoDkpFz"
      },
      "outputs": [],
      "source": [
        "# Housekeeping - deleting objects i don't need any more.. \n",
        "del test_data\n",
        "del test_transformer\n",
        "del corr_data"
      ]
    },
    {
      "cell_type": "markdown",
      "source": [
        "## 2. Pipelines"
      ],
      "metadata": {
        "id": "v40Aq-4HpPnv"
      }
    },
    {
      "cell_type": "code",
      "source": [
        "# data preparation pipeline\n",
        "data_preparation_pipeline = Pipeline(steps=[\n",
        "    ('removing_null_values', DeleteRowsWithNulls(subset=['Open', 'High', 'Low', 'Close'], how='all')),\n",
        "    ('sort_dataset', SortData(by=['SecuritiesCode', 'Date'])),\n",
        "    ('add_new_target', AddNewClassification()),\n",
        "    ('drop_columns', DropColumns(cols_to_drop=['RowId', 'Target']))\n",
        "])"
      ],
      "metadata": {
        "id": "w6WK1C8xqDmc"
      },
      "execution_count": 151,
      "outputs": []
    },
    {
      "cell_type": "code",
      "source": [
        "# feature engineering pipeline\n",
        "feature_engineering_pipeline = Pipeline(steps=[\n",
        "    # sma10 for all OHLC\n",
        "    ('add_sma10_open', AddSMA(ma_size=10, ohlcv_col='Open', add_ma=False)),\n",
        "    ('add_sma10_high', AddSMA(ma_size=10, ohlcv_col='High', add_ma=False)),\n",
        "    ('add_sma10_low', AddSMA(ma_size=10, ohlcv_col='Low', add_ma=False)),\n",
        "    ('add_sma10_close', AddSMA(ma_size=10, ohlcv_col='Close', add_ma=False)),\n",
        "\n",
        "    # sma30 for all OHLC\n",
        "    ('add_sma30_open', AddSMA(ma_size=30, ohlcv_col='Open', add_ma=False)),\n",
        "    ('add_sma30_high', AddSMA(ma_size=30, ohlcv_col='High', add_ma=False)),\n",
        "    ('add_sma30_low', AddSMA(ma_size=30, ohlcv_col='Low', add_ma=False)),\n",
        "    ('add_sma30_close', AddSMA(ma_size=30, ohlcv_col='Close', add_ma=False)),\n",
        "    \n",
        "    # ema10 for all OHLCV\n",
        "    ('add_ema10_open', AddEMA(ma_size=10, ohlcv_col='Open', add_ma=False)),\n",
        "    ('add_ema10_high', AddEMA(ma_size=10, ohlcv_col='High', add_ma=False)),\n",
        "    ('add_ema10_low', AddEMA(ma_size=10, ohlcv_col='Low', add_ma=False)),\n",
        "    ('add_ema10_close', AddEMA(ma_size=10, ohlcv_col='Close', add_ma=False)),\n",
        "\n",
        "    # ema30 for all OHLCV\n",
        "    ('add_ema30_open', AddEMA(ma_size=30, ohlcv_col='Open', add_ma=False)),\n",
        "    ('add_ema30_high', AddEMA(ma_size=30, ohlcv_col='High', add_ma=False)),\n",
        "    ('add_ema30_low', AddEMA(ma_size=30, ohlcv_col='Low', add_ma=False)),\n",
        "    ('add_ema30_close', AddEMA(ma_size=30, ohlcv_col='Close', add_ma=False)),\n",
        "\n",
        "    # SMA & EMA for Volume\n",
        "    ('add_sma10_volume', AddVolumeSMA(ma_size=10, add_ma=False)),\n",
        "    ('add_sma30_volume', AddVolumeSMA(ma_size=30, add_ma=False)),\n",
        "    ('add_ema10_volume', AddVolumeEMA(ma_size=10, add_ma=False)),\n",
        "    ('add_ema30_volume', AddVolumeEMA(ma_size=30, add_ma=False)),\n",
        "\n",
        "    # sma10 vs ema10 for all OHLCV\n",
        "    ('add_sma_ema_10_relation_open', AddSmaEmaRelation(ma_size=10, ohlcv_col='Open')),\n",
        "    ('add_sma_ema_10_relation_high', AddSmaEmaRelation(ma_size=10, ohlcv_col='High')),\n",
        "    ('add_sma_ema_10_relation_low', AddSmaEmaRelation(ma_size=10, ohlcv_col='Low')),\n",
        "    ('add_sma_ema_10_relation_close', AddSmaEmaRelation(ma_size=10, ohlcv_col='Close')),\n",
        "    ('add_sma_ema_10_relation_volume', AddSmaEmaRelation(ma_size=10, ohlcv_col='Volume')),\n",
        "\n",
        "    # sma30 vs ema30 for all OHLCV\n",
        "    ('add_sma_ema_30_relation_open', AddSmaEmaRelation(ma_size=30, ohlcv_col='Open')),\n",
        "    ('add_sma_ema_30_relation_high', AddSmaEmaRelation(ma_size=30, ohlcv_col='High')),\n",
        "    ('add_sma_ema_30_relation_low', AddSmaEmaRelation(ma_size=30, ohlcv_col='Low')),\n",
        "    ('add_sma_ema_30_relation_close', AddSmaEmaRelation(ma_size=30, ohlcv_col='Close')),\n",
        "    ('add_sma_ema_30_relation_volume', AddSmaEmaRelation(ma_size=30, ohlcv_col='Volume')),\n",
        "\n",
        "    # sma10 vs sma30 for all OHLCV\n",
        "    ('add_sma10_sma30_relation_open', AddShortLongMaRelation(short_ma_size=10, long_ma_size=30,\n",
        "                                                             ma_type='sma', ohlcv_col='Open')),\n",
        "    ('add_sma10_sma30_relation_high', AddShortLongMaRelation(short_ma_size=10, long_ma_size=30,\n",
        "                                                             ma_type='sma', ohlcv_col='High')),\n",
        "    ('add_sma10_sma30_relation_low', AddShortLongMaRelation(short_ma_size=10, long_ma_size=30,\n",
        "                                                            ma_type='sma', ohlcv_col='Low')),\n",
        "    ('add_sma10_sma30_relation_close', AddShortLongMaRelation(short_ma_size=10, long_ma_size=30,\n",
        "                                                              ma_type='sma', ohlcv_col='Close')),\n",
        "    ('add_sma10_sma30_relation_volume', AddShortLongMaRelation(short_ma_size=10, long_ma_size=30,\n",
        "                                                               ma_type='sma', ohlcv_col='Volume')),\n",
        "\n",
        "    # ema10 vs ema30 for all OHLCV\n",
        "    ('add_ema10_ema30_relation_open', AddShortLongMaRelation(short_ma_size=10, long_ma_size=30,\n",
        "                                                             ma_type='ema', ohlcv_col='Open')),\n",
        "    ('add_ema10_ema30_relation_high', AddShortLongMaRelation(short_ma_size=10, long_ma_size=30,\n",
        "                                                             ma_type='ema', ohlcv_col='High')),\n",
        "    ('add_ema10_ema30_relation_low', AddShortLongMaRelation(short_ma_size=10, long_ma_size=30,\n",
        "                                                            ma_type='ema', ohlcv_col='Low')),\n",
        "    ('add_ema10_ema30_relation_close', AddShortLongMaRelation(short_ma_size=10, long_ma_size=30,\n",
        "                                                              ma_type='ema', ohlcv_col='Close')),\n",
        "    ('add_ema10_ema30_relation_volume', AddShortLongMaRelation(short_ma_size=10, long_ma_size=30,\n",
        "                                                               ma_type='ema', ohlcv_col='Volume')),\n",
        "    # other\n",
        "    ('add_dividend_information', AddDividendInfo()),\n",
        "    ('add_dividend_value', AddDividendValue()),\n",
        "\n",
        "        # cleanup\n",
        "    ('drop_columns', DropColumns(cols_to_drop=['Open', 'High', 'Low', 'Close', 'Volume', 'ExpectedDividend'])),\n",
        "    ('drop_nulls', DeleteRowsWithNulls(how='any')),\n",
        "    ('drop_index', ResetIndex())\n",
        "])"
      ],
      "metadata": {
        "id": "HB9eyUyWqD6a"
      },
      "execution_count": 152,
      "outputs": []
    },
    {
      "cell_type": "code",
      "source": [
        "# preprocessing pipeline\n",
        "data_preprocessing_pipeline = Pipeline(steps=[\n",
        "    # std\n",
        "    ('standarize_data', MyStandardScaler()),\n",
        "])"
      ],
      "metadata": {
        "id": "md5UKjcvrPH7"
      },
      "execution_count": 153,
      "outputs": []
    },
    {
      "cell_type": "markdown",
      "source": [
        "## 3. Processing data and modeling"
      ],
      "metadata": {
        "id": "SEzXPALHtM-4"
      }
    },
    {
      "cell_type": "code",
      "source": [
        "# fit & tranform - do połączenia w jeden pipe ale jak dodam jeszcze\n",
        "\n",
        "X_data = data_preparation_pipeline.fit_transform(X=data)\n",
        "\n"
      ],
      "metadata": {
        "id": "V078Udrw6BAb"
      },
      "execution_count": 154,
      "outputs": []
    },
    {
      "cell_type": "code",
      "source": [
        "# rozbicie na categorical i numerical \n",
        "X_data = feature_engineering_pipeline.fit_transform(X=X_data)"
      ],
      "metadata": {
        "id": "snsjUrLUC552"
      },
      "execution_count": 157,
      "outputs": []
    },
    {
      "cell_type": "code",
      "source": [
        "X_data.info()"
      ],
      "metadata": {
        "colab": {
          "base_uri": "https://localhost:8080/"
        },
        "id": "DgNAyCnc6sPt",
        "outputId": "bf543753-8fbf-4d41-eae8-ee85917dd17c"
      },
      "execution_count": 158,
      "outputs": [
        {
          "output_type": "stream",
          "name": "stdout",
          "text": [
            "<class 'pandas.core.frame.DataFrame'>\n",
            "RangeIndex: 2264923 entries, 0 to 2264922\n",
            "Data columns (total 45 columns):\n",
            " #   Column                        Dtype  \n",
            "---  ------                        -----  \n",
            " 0   AdjustmentFactor              float64\n",
            " 1   SupervisionFlag               bool   \n",
            " 2   Class                         object \n",
            " 3   Open_SMA10                    float64\n",
            " 4   High_SMA10                    float64\n",
            " 5   Low_SMA10                     float64\n",
            " 6   Close_SMA10                   float64\n",
            " 7   Open_SMA30                    float64\n",
            " 8   High_SMA30                    float64\n",
            " 9   Low_SMA30                     float64\n",
            " 10  Close_SMA30                   float64\n",
            " 11  Open_EMA10                    float64\n",
            " 12  High_EMA10                    float64\n",
            " 13  Low_EMA10                     float64\n",
            " 14  Close_EMA10                   float64\n",
            " 15  Open_EMA30                    float64\n",
            " 16  High_EMA30                    float64\n",
            " 17  Low_EMA30                     float64\n",
            " 18  Close_EMA30                   float64\n",
            " 19  Volume_SMA10                  float64\n",
            " 20  Volume_SMA30                  float64\n",
            " 21  Volume_EMA10                  float64\n",
            " 22  Volume_EMA30                  float64\n",
            " 23  Open_SMA10vsEWM10             float64\n",
            " 24  High_SMA10vsEWM10             float64\n",
            " 25  Low_SMA10vsEWM10              float64\n",
            " 26  Close_SMA10vsEWM10            float64\n",
            " 27  Volume_SMA10vsEWM10           float64\n",
            " 28  Open_SMA30vsEWM30             float64\n",
            " 29  High_SMA30vsEWM30             float64\n",
            " 30  Low_SMA30vsEWM30              float64\n",
            " 31  Close_SMA30vsEWM30            float64\n",
            " 32  Volume_SMA30vsEWM30           float64\n",
            " 33  Open_SMA10vsSMA30             float64\n",
            " 34  High_SMA10vsSMA30             float64\n",
            " 35  Low_SMA10vsSMA30              float64\n",
            " 36  Close_SMA10vsSMA30            float64\n",
            " 37  Volume_SMA10vsSMA30           float64\n",
            " 38  Open_EMA10vsEMA30             float64\n",
            " 39  High_EMA10vsEMA30             float64\n",
            " 40  Low_EMA10vsEMA30              float64\n",
            " 41  Close_EMA10vsEMA30            float64\n",
            " 42  Volume_EMA10vsEMA30           float64\n",
            " 43  ExpectedDividendInfo          bool   \n",
            " 44  ExpectedDividendAsPercentage  float64\n",
            "dtypes: bool(2), float64(42), object(1)\n",
            "memory usage: 747.4+ MB\n"
          ]
        }
      ]
    },
    {
      "cell_type": "code",
      "source": [
        "X_data"
      ],
      "metadata": {
        "colab": {
          "base_uri": "https://localhost:8080/",
          "height": 483
        },
        "id": "Tw7EY8qd9up9",
        "outputId": "9626068f-1009-41c3-b98f-cb3d608ad85f"
      },
      "execution_count": 159,
      "outputs": [
        {
          "output_type": "execute_result",
          "data": {
            "text/plain": [
              "         AdjustmentFactor  SupervisionFlag  Class  Open_SMA10  High_SMA10  \\\n",
              "0                     1.0            False   None    0.024300    0.026479   \n",
              "1                     1.0            False   None    0.023998    0.028342   \n",
              "2                     1.0            False   None    0.018642    0.021527   \n",
              "3                     1.0            False   Long    0.018701    0.024803   \n",
              "4                     1.0            False   None    0.018565    0.029275   \n",
              "...                   ...              ...    ...         ...         ...   \n",
              "2264918               1.0            False  Short   -0.027604   -0.026217   \n",
              "2264919               1.0            False   None   -0.047887   -0.046482   \n",
              "2264920               1.0            False   Long   -0.048431   -0.021446   \n",
              "2264921               1.0            False   None   -0.055039   -0.016440   \n",
              "2264922               1.0            False   None   -0.019438   -0.003600   \n",
              "\n",
              "         Low_SMA10  Close_SMA10  Open_SMA30  High_SMA30  Low_SMA30  ...  \\\n",
              "0         0.019578     0.025753    0.031129    0.033323   0.026375  ...   \n",
              "1         0.022550     0.022550    0.033374    0.037758   0.031913  ...   \n",
              "2         0.013594     0.019003    0.030809    0.033728   0.025700  ...   \n",
              "3         0.016189     0.023368    0.034156    0.040351   0.031605  ...   \n",
              "4         0.017494     0.028918    0.037933    0.048847   0.036841  ...   \n",
              "...            ...          ...         ...         ...        ...  ...   \n",
              "2264918  -0.052573    -0.045637   -0.089926   -0.088627  -0.113294  ...   \n",
              "2264919  -0.066142    -0.061930   -0.113455   -0.112147  -0.130454  ...   \n",
              "2264920  -0.052691    -0.052691   -0.117531   -0.092506  -0.121482  ...   \n",
              "2264921  -0.056469    -0.020729   -0.123652   -0.087856  -0.124978  ...   \n",
              "2264922  -0.020878    -0.015119   -0.091313   -0.076636  -0.092648  ...   \n",
              "\n",
              "         Low_SMA10vsSMA30  Close_SMA10vsSMA30  Volume_SMA10vsSMA30  \\\n",
              "0               -0.006548           -0.006667            -0.203170   \n",
              "1               -0.009047           -0.009156            -0.262039   \n",
              "2               -0.011444           -0.011944            -0.293679   \n",
              "3               -0.014210           -0.015171            -0.345212   \n",
              "4               -0.017393           -0.019015            -0.400243   \n",
              "...                   ...                 ...                  ...   \n",
              "2264918          0.065475            0.064090            -0.046931   \n",
              "2264919          0.069992            0.068866            -0.075584   \n",
              "2264920          0.073463            0.072617            -0.060344   \n",
              "2264921          0.075761            0.072609            -0.079148   \n",
              "2264922          0.074863            0.073300            -0.061731   \n",
              "\n",
              "         Open_EMA10vsEMA30  High_EMA10vsEMA30  Low_EMA10vsEMA30  \\\n",
              "0                -0.002824          -0.003532         -0.003361   \n",
              "1                -0.004089          -0.004740         -0.004652   \n",
              "2                -0.005100          -0.005634         -0.005517   \n",
              "3                -0.006174          -0.006753         -0.006581   \n",
              "4                -0.007334          -0.008166         -0.007798   \n",
              "...                    ...                ...               ...   \n",
              "2264918           0.070194           0.070750          0.071662   \n",
              "2264919           0.073418           0.074293          0.075166   \n",
              "2264920           0.076713           0.076498          0.077940   \n",
              "2264921           0.080148           0.078340          0.080758   \n",
              "2264922           0.081450           0.079468          0.081490   \n",
              "\n",
              "         Close_EMA10vsEMA30  Volume_EMA10vsEMA30  ExpectedDividendInfo  \\\n",
              "0                 -0.003682            -0.109960                 False   \n",
              "1                 -0.004744            -0.110409                 False   \n",
              "2                 -0.005661            -0.108312                 False   \n",
              "3                 -0.006851            -0.122394                 False   \n",
              "4                 -0.008376            -0.133661                 False   \n",
              "...                     ...                  ...                   ...   \n",
              "2264918            0.071922             0.094060                 False   \n",
              "2264919            0.075599             0.073672                 False   \n",
              "2264920            0.078759             0.061158                 False   \n",
              "2264921            0.079977             0.040587                 False   \n",
              "2264922            0.080931             0.021806                 False   \n",
              "\n",
              "         ExpectedDividendAsPercentage  \n",
              "0                                 0.0  \n",
              "1                                 0.0  \n",
              "2                                 0.0  \n",
              "3                                 0.0  \n",
              "4                                 0.0  \n",
              "...                               ...  \n",
              "2264918                           0.0  \n",
              "2264919                           0.0  \n",
              "2264920                           0.0  \n",
              "2264921                           0.0  \n",
              "2264922                           0.0  \n",
              "\n",
              "[2264923 rows x 45 columns]"
            ],
            "text/html": [
              "\n",
              "  <div id=\"df-2b42ae4f-7c82-430e-b6ad-18cd75323723\">\n",
              "    <div class=\"colab-df-container\">\n",
              "      <div>\n",
              "<style scoped>\n",
              "    .dataframe tbody tr th:only-of-type {\n",
              "        vertical-align: middle;\n",
              "    }\n",
              "\n",
              "    .dataframe tbody tr th {\n",
              "        vertical-align: top;\n",
              "    }\n",
              "\n",
              "    .dataframe thead th {\n",
              "        text-align: right;\n",
              "    }\n",
              "</style>\n",
              "<table border=\"1\" class=\"dataframe\">\n",
              "  <thead>\n",
              "    <tr style=\"text-align: right;\">\n",
              "      <th></th>\n",
              "      <th>AdjustmentFactor</th>\n",
              "      <th>SupervisionFlag</th>\n",
              "      <th>Class</th>\n",
              "      <th>Open_SMA10</th>\n",
              "      <th>High_SMA10</th>\n",
              "      <th>Low_SMA10</th>\n",
              "      <th>Close_SMA10</th>\n",
              "      <th>Open_SMA30</th>\n",
              "      <th>High_SMA30</th>\n",
              "      <th>Low_SMA30</th>\n",
              "      <th>...</th>\n",
              "      <th>Low_SMA10vsSMA30</th>\n",
              "      <th>Close_SMA10vsSMA30</th>\n",
              "      <th>Volume_SMA10vsSMA30</th>\n",
              "      <th>Open_EMA10vsEMA30</th>\n",
              "      <th>High_EMA10vsEMA30</th>\n",
              "      <th>Low_EMA10vsEMA30</th>\n",
              "      <th>Close_EMA10vsEMA30</th>\n",
              "      <th>Volume_EMA10vsEMA30</th>\n",
              "      <th>ExpectedDividendInfo</th>\n",
              "      <th>ExpectedDividendAsPercentage</th>\n",
              "    </tr>\n",
              "  </thead>\n",
              "  <tbody>\n",
              "    <tr>\n",
              "      <th>0</th>\n",
              "      <td>1.0</td>\n",
              "      <td>False</td>\n",
              "      <td>None</td>\n",
              "      <td>0.024300</td>\n",
              "      <td>0.026479</td>\n",
              "      <td>0.019578</td>\n",
              "      <td>0.025753</td>\n",
              "      <td>0.031129</td>\n",
              "      <td>0.033323</td>\n",
              "      <td>0.026375</td>\n",
              "      <td>...</td>\n",
              "      <td>-0.006548</td>\n",
              "      <td>-0.006667</td>\n",
              "      <td>-0.203170</td>\n",
              "      <td>-0.002824</td>\n",
              "      <td>-0.003532</td>\n",
              "      <td>-0.003361</td>\n",
              "      <td>-0.003682</td>\n",
              "      <td>-0.109960</td>\n",
              "      <td>False</td>\n",
              "      <td>0.0</td>\n",
              "    </tr>\n",
              "    <tr>\n",
              "      <th>1</th>\n",
              "      <td>1.0</td>\n",
              "      <td>False</td>\n",
              "      <td>None</td>\n",
              "      <td>0.023998</td>\n",
              "      <td>0.028342</td>\n",
              "      <td>0.022550</td>\n",
              "      <td>0.022550</td>\n",
              "      <td>0.033374</td>\n",
              "      <td>0.037758</td>\n",
              "      <td>0.031913</td>\n",
              "      <td>...</td>\n",
              "      <td>-0.009047</td>\n",
              "      <td>-0.009156</td>\n",
              "      <td>-0.262039</td>\n",
              "      <td>-0.004089</td>\n",
              "      <td>-0.004740</td>\n",
              "      <td>-0.004652</td>\n",
              "      <td>-0.004744</td>\n",
              "      <td>-0.110409</td>\n",
              "      <td>False</td>\n",
              "      <td>0.0</td>\n",
              "    </tr>\n",
              "    <tr>\n",
              "      <th>2</th>\n",
              "      <td>1.0</td>\n",
              "      <td>False</td>\n",
              "      <td>None</td>\n",
              "      <td>0.018642</td>\n",
              "      <td>0.021527</td>\n",
              "      <td>0.013594</td>\n",
              "      <td>0.019003</td>\n",
              "      <td>0.030809</td>\n",
              "      <td>0.033728</td>\n",
              "      <td>0.025700</td>\n",
              "      <td>...</td>\n",
              "      <td>-0.011444</td>\n",
              "      <td>-0.011944</td>\n",
              "      <td>-0.293679</td>\n",
              "      <td>-0.005100</td>\n",
              "      <td>-0.005634</td>\n",
              "      <td>-0.005517</td>\n",
              "      <td>-0.005661</td>\n",
              "      <td>-0.108312</td>\n",
              "      <td>False</td>\n",
              "      <td>0.0</td>\n",
              "    </tr>\n",
              "    <tr>\n",
              "      <th>3</th>\n",
              "      <td>1.0</td>\n",
              "      <td>False</td>\n",
              "      <td>Long</td>\n",
              "      <td>0.018701</td>\n",
              "      <td>0.024803</td>\n",
              "      <td>0.016189</td>\n",
              "      <td>0.023368</td>\n",
              "      <td>0.034156</td>\n",
              "      <td>0.040351</td>\n",
              "      <td>0.031605</td>\n",
              "      <td>...</td>\n",
              "      <td>-0.014210</td>\n",
              "      <td>-0.015171</td>\n",
              "      <td>-0.345212</td>\n",
              "      <td>-0.006174</td>\n",
              "      <td>-0.006753</td>\n",
              "      <td>-0.006581</td>\n",
              "      <td>-0.006851</td>\n",
              "      <td>-0.122394</td>\n",
              "      <td>False</td>\n",
              "      <td>0.0</td>\n",
              "    </tr>\n",
              "    <tr>\n",
              "      <th>4</th>\n",
              "      <td>1.0</td>\n",
              "      <td>False</td>\n",
              "      <td>None</td>\n",
              "      <td>0.018565</td>\n",
              "      <td>0.029275</td>\n",
              "      <td>0.017494</td>\n",
              "      <td>0.028918</td>\n",
              "      <td>0.037933</td>\n",
              "      <td>0.048847</td>\n",
              "      <td>0.036841</td>\n",
              "      <td>...</td>\n",
              "      <td>-0.017393</td>\n",
              "      <td>-0.019015</td>\n",
              "      <td>-0.400243</td>\n",
              "      <td>-0.007334</td>\n",
              "      <td>-0.008166</td>\n",
              "      <td>-0.007798</td>\n",
              "      <td>-0.008376</td>\n",
              "      <td>-0.133661</td>\n",
              "      <td>False</td>\n",
              "      <td>0.0</td>\n",
              "    </tr>\n",
              "    <tr>\n",
              "      <th>...</th>\n",
              "      <td>...</td>\n",
              "      <td>...</td>\n",
              "      <td>...</td>\n",
              "      <td>...</td>\n",
              "      <td>...</td>\n",
              "      <td>...</td>\n",
              "      <td>...</td>\n",
              "      <td>...</td>\n",
              "      <td>...</td>\n",
              "      <td>...</td>\n",
              "      <td>...</td>\n",
              "      <td>...</td>\n",
              "      <td>...</td>\n",
              "      <td>...</td>\n",
              "      <td>...</td>\n",
              "      <td>...</td>\n",
              "      <td>...</td>\n",
              "      <td>...</td>\n",
              "      <td>...</td>\n",
              "      <td>...</td>\n",
              "      <td>...</td>\n",
              "    </tr>\n",
              "    <tr>\n",
              "      <th>2264918</th>\n",
              "      <td>1.0</td>\n",
              "      <td>False</td>\n",
              "      <td>Short</td>\n",
              "      <td>-0.027604</td>\n",
              "      <td>-0.026217</td>\n",
              "      <td>-0.052573</td>\n",
              "      <td>-0.045637</td>\n",
              "      <td>-0.089926</td>\n",
              "      <td>-0.088627</td>\n",
              "      <td>-0.113294</td>\n",
              "      <td>...</td>\n",
              "      <td>0.065475</td>\n",
              "      <td>0.064090</td>\n",
              "      <td>-0.046931</td>\n",
              "      <td>0.070194</td>\n",
              "      <td>0.070750</td>\n",
              "      <td>0.071662</td>\n",
              "      <td>0.071922</td>\n",
              "      <td>0.094060</td>\n",
              "      <td>False</td>\n",
              "      <td>0.0</td>\n",
              "    </tr>\n",
              "    <tr>\n",
              "      <th>2264919</th>\n",
              "      <td>1.0</td>\n",
              "      <td>False</td>\n",
              "      <td>None</td>\n",
              "      <td>-0.047887</td>\n",
              "      <td>-0.046482</td>\n",
              "      <td>-0.066142</td>\n",
              "      <td>-0.061930</td>\n",
              "      <td>-0.113455</td>\n",
              "      <td>-0.112147</td>\n",
              "      <td>-0.130454</td>\n",
              "      <td>...</td>\n",
              "      <td>0.069992</td>\n",
              "      <td>0.068866</td>\n",
              "      <td>-0.075584</td>\n",
              "      <td>0.073418</td>\n",
              "      <td>0.074293</td>\n",
              "      <td>0.075166</td>\n",
              "      <td>0.075599</td>\n",
              "      <td>0.073672</td>\n",
              "      <td>False</td>\n",
              "      <td>0.0</td>\n",
              "    </tr>\n",
              "    <tr>\n",
              "      <th>2264920</th>\n",
              "      <td>1.0</td>\n",
              "      <td>False</td>\n",
              "      <td>Long</td>\n",
              "      <td>-0.048431</td>\n",
              "      <td>-0.021446</td>\n",
              "      <td>-0.052691</td>\n",
              "      <td>-0.052691</td>\n",
              "      <td>-0.117531</td>\n",
              "      <td>-0.092506</td>\n",
              "      <td>-0.121482</td>\n",
              "      <td>...</td>\n",
              "      <td>0.073463</td>\n",
              "      <td>0.072617</td>\n",
              "      <td>-0.060344</td>\n",
              "      <td>0.076713</td>\n",
              "      <td>0.076498</td>\n",
              "      <td>0.077940</td>\n",
              "      <td>0.078759</td>\n",
              "      <td>0.061158</td>\n",
              "      <td>False</td>\n",
              "      <td>0.0</td>\n",
              "    </tr>\n",
              "    <tr>\n",
              "      <th>2264921</th>\n",
              "      <td>1.0</td>\n",
              "      <td>False</td>\n",
              "      <td>None</td>\n",
              "      <td>-0.055039</td>\n",
              "      <td>-0.016440</td>\n",
              "      <td>-0.056469</td>\n",
              "      <td>-0.020729</td>\n",
              "      <td>-0.123652</td>\n",
              "      <td>-0.087856</td>\n",
              "      <td>-0.124978</td>\n",
              "      <td>...</td>\n",
              "      <td>0.075761</td>\n",
              "      <td>0.072609</td>\n",
              "      <td>-0.079148</td>\n",
              "      <td>0.080148</td>\n",
              "      <td>0.078340</td>\n",
              "      <td>0.080758</td>\n",
              "      <td>0.079977</td>\n",
              "      <td>0.040587</td>\n",
              "      <td>False</td>\n",
              "      <td>0.0</td>\n",
              "    </tr>\n",
              "    <tr>\n",
              "      <th>2264922</th>\n",
              "      <td>1.0</td>\n",
              "      <td>False</td>\n",
              "      <td>None</td>\n",
              "      <td>-0.019438</td>\n",
              "      <td>-0.003600</td>\n",
              "      <td>-0.020878</td>\n",
              "      <td>-0.015119</td>\n",
              "      <td>-0.091313</td>\n",
              "      <td>-0.076636</td>\n",
              "      <td>-0.092648</td>\n",
              "      <td>...</td>\n",
              "      <td>0.074863</td>\n",
              "      <td>0.073300</td>\n",
              "      <td>-0.061731</td>\n",
              "      <td>0.081450</td>\n",
              "      <td>0.079468</td>\n",
              "      <td>0.081490</td>\n",
              "      <td>0.080931</td>\n",
              "      <td>0.021806</td>\n",
              "      <td>False</td>\n",
              "      <td>0.0</td>\n",
              "    </tr>\n",
              "  </tbody>\n",
              "</table>\n",
              "<p>2264923 rows × 45 columns</p>\n",
              "</div>\n",
              "      <button class=\"colab-df-convert\" onclick=\"convertToInteractive('df-2b42ae4f-7c82-430e-b6ad-18cd75323723')\"\n",
              "              title=\"Convert this dataframe to an interactive table.\"\n",
              "              style=\"display:none;\">\n",
              "        \n",
              "  <svg xmlns=\"http://www.w3.org/2000/svg\" height=\"24px\"viewBox=\"0 0 24 24\"\n",
              "       width=\"24px\">\n",
              "    <path d=\"M0 0h24v24H0V0z\" fill=\"none\"/>\n",
              "    <path d=\"M18.56 5.44l.94 2.06.94-2.06 2.06-.94-2.06-.94-.94-2.06-.94 2.06-2.06.94zm-11 1L8.5 8.5l.94-2.06 2.06-.94-2.06-.94L8.5 2.5l-.94 2.06-2.06.94zm10 10l.94 2.06.94-2.06 2.06-.94-2.06-.94-.94-2.06-.94 2.06-2.06.94z\"/><path d=\"M17.41 7.96l-1.37-1.37c-.4-.4-.92-.59-1.43-.59-.52 0-1.04.2-1.43.59L10.3 9.45l-7.72 7.72c-.78.78-.78 2.05 0 2.83L4 21.41c.39.39.9.59 1.41.59.51 0 1.02-.2 1.41-.59l7.78-7.78 2.81-2.81c.8-.78.8-2.07 0-2.86zM5.41 20L4 18.59l7.72-7.72 1.47 1.35L5.41 20z\"/>\n",
              "  </svg>\n",
              "      </button>\n",
              "      \n",
              "  <style>\n",
              "    .colab-df-container {\n",
              "      display:flex;\n",
              "      flex-wrap:wrap;\n",
              "      gap: 12px;\n",
              "    }\n",
              "\n",
              "    .colab-df-convert {\n",
              "      background-color: #E8F0FE;\n",
              "      border: none;\n",
              "      border-radius: 50%;\n",
              "      cursor: pointer;\n",
              "      display: none;\n",
              "      fill: #1967D2;\n",
              "      height: 32px;\n",
              "      padding: 0 0 0 0;\n",
              "      width: 32px;\n",
              "    }\n",
              "\n",
              "    .colab-df-convert:hover {\n",
              "      background-color: #E2EBFA;\n",
              "      box-shadow: 0px 1px 2px rgba(60, 64, 67, 0.3), 0px 1px 3px 1px rgba(60, 64, 67, 0.15);\n",
              "      fill: #174EA6;\n",
              "    }\n",
              "\n",
              "    [theme=dark] .colab-df-convert {\n",
              "      background-color: #3B4455;\n",
              "      fill: #D2E3FC;\n",
              "    }\n",
              "\n",
              "    [theme=dark] .colab-df-convert:hover {\n",
              "      background-color: #434B5C;\n",
              "      box-shadow: 0px 1px 3px 1px rgba(0, 0, 0, 0.15);\n",
              "      filter: drop-shadow(0px 1px 2px rgba(0, 0, 0, 0.3));\n",
              "      fill: #FFFFFF;\n",
              "    }\n",
              "  </style>\n",
              "\n",
              "      <script>\n",
              "        const buttonEl =\n",
              "          document.querySelector('#df-2b42ae4f-7c82-430e-b6ad-18cd75323723 button.colab-df-convert');\n",
              "        buttonEl.style.display =\n",
              "          google.colab.kernel.accessAllowed ? 'block' : 'none';\n",
              "\n",
              "        async function convertToInteractive(key) {\n",
              "          const element = document.querySelector('#df-2b42ae4f-7c82-430e-b6ad-18cd75323723');\n",
              "          const dataTable =\n",
              "            await google.colab.kernel.invokeFunction('convertToInteractive',\n",
              "                                                     [key], {});\n",
              "          if (!dataTable) return;\n",
              "\n",
              "          const docLinkHtml = 'Like what you see? Visit the ' +\n",
              "            '<a target=\"_blank\" href=https://colab.research.google.com/notebooks/data_table.ipynb>data table notebook</a>'\n",
              "            + ' to learn more about interactive tables.';\n",
              "          element.innerHTML = '';\n",
              "          dataTable['output_type'] = 'display_data';\n",
              "          await google.colab.output.renderOutput(dataTable, element);\n",
              "          const docLink = document.createElement('div');\n",
              "          docLink.innerHTML = docLinkHtml;\n",
              "          element.appendChild(docLink);\n",
              "        }\n",
              "      </script>\n",
              "    </div>\n",
              "  </div>\n",
              "  "
            ]
          },
          "metadata": {},
          "execution_count": 159
        }
      ]
    },
    {
      "cell_type": "code",
      "source": [
        "# trzeba zbalansować zbiory \n",
        "X_data['Class'].value_counts(dropna=False)\n",
        "# ale dopiero po podziale "
      ],
      "metadata": {
        "colab": {
          "base_uri": "https://localhost:8080/"
        },
        "id": "kBe99Qd07DG9",
        "outputId": "e16807fa-5189-4d01-f232-847248119ddc"
      },
      "execution_count": 160,
      "outputs": [
        {
          "output_type": "execute_result",
          "data": {
            "text/plain": [
              "None     1212418\n",
              "Short     544992\n",
              "Long      507513\n",
              "Name: Class, dtype: int64"
            ]
          },
          "metadata": {},
          "execution_count": 160
        }
      ]
    },
    {
      "cell_type": "code",
      "source": [
        "# y oddzielnie funkcji celu\n",
        "y_data = X_data.pop(item='Class')\n",
        "\n",
        "# i zmiana na categorical\n",
        "y_data_new = y_data.to_frame().copy()\n",
        "y_data_new['NewClass']=None\n",
        "y_data_new['NewClass'][y_data_new['Class'] == 'None'] = 0\n",
        "y_data_new['NewClass'][y_data_new['Class'] == 'Short'] = 1\n",
        "y_data_new['NewClass'][y_data_new['Class'] == 'Long'] = 2\n",
        "\n",
        "y_data = y_data_new['NewClass'].astype('category').rename('Class')\n",
        "y_data"
      ],
      "metadata": {
        "colab": {
          "base_uri": "https://localhost:8080/"
        },
        "id": "mW6hdVeb7IEc",
        "outputId": "72cf795f-20db-4797-8cca-30a56b083413"
      },
      "execution_count": 161,
      "outputs": [
        {
          "output_type": "execute_result",
          "data": {
            "text/plain": [
              "0          0\n",
              "1          0\n",
              "2          0\n",
              "3          2\n",
              "4          0\n",
              "          ..\n",
              "2264918    1\n",
              "2264919    0\n",
              "2264920    2\n",
              "2264921    0\n",
              "2264922    0\n",
              "Name: Class, Length: 2264923, dtype: category\n",
              "Categories (3, int64): [0, 1, 2]"
            ]
          },
          "metadata": {},
          "execution_count": 161
        }
      ]
    },
    {
      "cell_type": "code",
      "source": [
        "# # removing rows where all OHLC values are nulls \n",
        "# test_transformer = DeleteRowsWithNulls(subset=['Open', 'High', 'Low', 'Close'], how='all')\n",
        "# test_transformer = test_transformer.fit(X=test_data)\n",
        "# test_data = test_transformer.transform(X=test_data)\n",
        "# test_data.isna().sum()\n",
        "y_data.value_counts(dropna=False)"
      ],
      "metadata": {
        "colab": {
          "base_uri": "https://localhost:8080/"
        },
        "id": "0-tEKPf9B1eY",
        "outputId": "69e11a3c-fc0d-4ace-9720-151e4c0eb9f7"
      },
      "execution_count": 162,
      "outputs": [
        {
          "output_type": "execute_result",
          "data": {
            "text/plain": [
              "0    1212418\n",
              "1     544992\n",
              "2     507513\n",
              "Name: Class, dtype: int64"
            ]
          },
          "metadata": {},
          "execution_count": 162
        }
      ]
    },
    {
      "cell_type": "code",
      "source": [
        "# podział na test / train\n",
        "X_train, X_test, y_train, y_test = train_test_split(X_data, y_data,\n",
        "                                                    test_size=0.20,\n",
        "                                                    stratify=y_data,\n",
        "                                                    random_state=42\n",
        "                                                    )"
      ],
      "metadata": {
        "id": "Ghafs0DwCMXl"
      },
      "execution_count": 163,
      "outputs": []
    },
    {
      "cell_type": "code",
      "execution_count": 164,
      "metadata": {
        "id": "3vUIZV3szbPi",
        "colab": {
          "base_uri": "https://localhost:8080/"
        },
        "outputId": "86a84ace-3b07-4309-f597-991e4c4d4bcb"
      },
      "outputs": [
        {
          "output_type": "stream",
          "name": "stdout",
          "text": [
            "<class 'pandas.core.frame.DataFrame'>\n",
            "Int64Index: 1811938 entries, 432138 to 472231\n",
            "Data columns (total 45 columns):\n",
            " #   Column                        Dtype   \n",
            "---  ------                        -----   \n",
            " 0   AdjustmentFactor              float64 \n",
            " 1   SupervisionFlag               bool    \n",
            " 2   Open_SMA10                    float64 \n",
            " 3   High_SMA10                    float64 \n",
            " 4   Low_SMA10                     float64 \n",
            " 5   Close_SMA10                   float64 \n",
            " 6   Open_SMA30                    float64 \n",
            " 7   High_SMA30                    float64 \n",
            " 8   Low_SMA30                     float64 \n",
            " 9   Close_SMA30                   float64 \n",
            " 10  Open_EMA10                    float64 \n",
            " 11  High_EMA10                    float64 \n",
            " 12  Low_EMA10                     float64 \n",
            " 13  Close_EMA10                   float64 \n",
            " 14  Open_EMA30                    float64 \n",
            " 15  High_EMA30                    float64 \n",
            " 16  Low_EMA30                     float64 \n",
            " 17  Close_EMA30                   float64 \n",
            " 18  Volume_SMA10                  float64 \n",
            " 19  Volume_SMA30                  float64 \n",
            " 20  Volume_EMA10                  float64 \n",
            " 21  Volume_EMA30                  float64 \n",
            " 22  Open_SMA10vsEWM10             float64 \n",
            " 23  High_SMA10vsEWM10             float64 \n",
            " 24  Low_SMA10vsEWM10              float64 \n",
            " 25  Close_SMA10vsEWM10            float64 \n",
            " 26  Volume_SMA10vsEWM10           float64 \n",
            " 27  Open_SMA30vsEWM30             float64 \n",
            " 28  High_SMA30vsEWM30             float64 \n",
            " 29  Low_SMA30vsEWM30              float64 \n",
            " 30  Close_SMA30vsEWM30            float64 \n",
            " 31  Volume_SMA30vsEWM30           float64 \n",
            " 32  Open_SMA10vsSMA30             float64 \n",
            " 33  High_SMA10vsSMA30             float64 \n",
            " 34  Low_SMA10vsSMA30              float64 \n",
            " 35  Close_SMA10vsSMA30            float64 \n",
            " 36  Volume_SMA10vsSMA30           float64 \n",
            " 37  Open_EMA10vsEMA30             float64 \n",
            " 38  High_EMA10vsEMA30             float64 \n",
            " 39  Low_EMA10vsEMA30              float64 \n",
            " 40  Close_EMA10vsEMA30            float64 \n",
            " 41  Volume_EMA10vsEMA30           float64 \n",
            " 42  ExpectedDividendInfo          bool    \n",
            " 43  ExpectedDividendAsPercentage  float64 \n",
            " 44  Class                         category\n",
            "dtypes: bool(2), category(1), float64(42)\n",
            "memory usage: 664.1 MB\n"
          ]
        }
      ],
      "source": [
        "# resampling \n",
        "\n",
        "X_train = X_train.join(y_train)\n",
        "X_train.info()"
      ]
    },
    {
      "cell_type": "code",
      "source": [
        "X_train['Class'].value_counts(dropna=False)"
      ],
      "metadata": {
        "colab": {
          "base_uri": "https://localhost:8080/"
        },
        "id": "KM4hqs_l_Obj",
        "outputId": "8be061da-146a-4718-f293-738568c231b5"
      },
      "execution_count": 165,
      "outputs": [
        {
          "output_type": "execute_result",
          "data": {
            "text/plain": [
              "0    969934\n",
              "1    435994\n",
              "2    406010\n",
              "Name: Class, dtype: int64"
            ]
          },
          "metadata": {},
          "execution_count": 165
        }
      ]
    },
    {
      "cell_type": "code",
      "source": [
        "from sklearn.utils import resample\n",
        "\n",
        "df_none = X_train[X_train['Class'] == 0]\n",
        "df_short = X_train[X_train['Class'] == 1]\n",
        "df_long= X_train[X_train['Class'] == 2]\n",
        "\n",
        "\n",
        "# Upsample\n",
        "df_short_upsampled = resample(df_short, \n",
        "                              replace=True,\n",
        "                              n_samples=60000,\n",
        "                              random_state=42)\n",
        "\n",
        "df_long_upsampled = resample(df_long, \n",
        "                             replace=True,\n",
        "                             n_samples=56000,\n",
        "                             random_state=42)\n",
        "# Downsample\n",
        "df_none_downsampled = resample(df_none, \n",
        "                               replace=False,\n",
        "                               n_samples=80000,\n",
        "                               random_state=42)\n",
        " \n",
        " \n",
        "# Combine majority class with upsampled minority class\n",
        "df_resampled = pd.concat([df_short_upsampled, \n",
        "                          df_long_upsampled, \n",
        "                          df_none_downsampled])\n",
        " \n",
        "# Display new class counts\n",
        "df_resampled['Class'].value_counts()"
      ],
      "metadata": {
        "colab": {
          "base_uri": "https://localhost:8080/"
        },
        "id": "K_TH_Ul5_VAH",
        "outputId": "9e93d677-307d-405c-cdeb-8fa38133032c"
      },
      "execution_count": 166,
      "outputs": [
        {
          "output_type": "execute_result",
          "data": {
            "text/plain": [
              "0    80000\n",
              "1    60000\n",
              "2    56000\n",
              "Name: Class, dtype: int64"
            ]
          },
          "metadata": {},
          "execution_count": 166
        }
      ]
    },
    {
      "cell_type": "code",
      "execution_count": null,
      "metadata": {
        "colab": {
          "base_uri": "https://localhost:8080/"
        },
        "id": "7yGBGgfG3KH6",
        "outputId": "4a4f2a8d-de0c-432a-9c20-b213c69037a8"
      },
      "outputs": [
        {
          "data": {
            "text/plain": [
              "None     1212418\n",
              "Short     544992\n",
              "Long      507513\n",
              "Name: Class, dtype: int64"
            ]
          },
          "execution_count": 21,
          "metadata": {},
          "output_type": "execute_result"
        }
      ],
      "source": [
        "# ------------------------------ TUTAJ SKONCZYŁEM ------------------------------\n",
        "# i modelowanie danych + wyniki + gridsearch "
      ]
    },
    {
      "cell_type": "code",
      "execution_count": 168,
      "metadata": {
        "id": "xbH21q8T0sNc"
      },
      "outputs": [],
      "source": [
        "# y oddzielnie funkcji celu\n",
        "y_train = X_train.pop(item='Class')"
      ]
    },
    {
      "cell_type": "code",
      "execution_count": 169,
      "metadata": {
        "colab": {
          "base_uri": "https://localhost:8080/"
        },
        "id": "rQAgCqaZ14Vt",
        "outputId": "6c7a786c-9d14-4dcd-9f02-a292bdfa5488"
      },
      "outputs": [
        {
          "output_type": "stream",
          "name": "stdout",
          "text": [
            "              precision    recall  f1-score   support\n",
            "\n",
            "           0       0.95      0.57      0.71    406093\n",
            "           1       0.12      0.40      0.19     33256\n",
            "           2       0.06      0.43      0.10     13636\n",
            "\n",
            "    accuracy                           0.55    452985\n",
            "   macro avg       0.38      0.46      0.33    452985\n",
            "weighted avg       0.86      0.55      0.65    452985\n",
            "\n"
          ]
        }
      ],
      "source": [
        "import xgboost as xgb\n",
        "model = xgb.XGBClassifier(tree_method='gpu_hist')\n",
        "\n",
        "model.fit(X_train, y_train)\n",
        "\n"
      ]
    },
    {
      "cell_type": "code",
      "source": [
        "accuracy_score(model.predict(X_test), y_test)"
      ],
      "metadata": {
        "colab": {
          "base_uri": "https://localhost:8080/"
        },
        "id": "34Cd5KQtEGnu",
        "outputId": "aeb6328a-ce63-405a-9f63-19c7a8ccc550"
      },
      "execution_count": 170,
      "outputs": [
        {
          "output_type": "execute_result",
          "data": {
            "text/plain": [
              "0.5494464496616885"
            ]
          },
          "metadata": {},
          "execution_count": 170
        }
      ]
    },
    {
      "cell_type": "code",
      "source": [
        "print(classification_report(model.predict(X_test), y_test))"
      ],
      "metadata": {
        "id": "lBbyZabkEG4i"
      },
      "execution_count": null,
      "outputs": []
    },
    {
      "cell_type": "code",
      "execution_count": null,
      "metadata": {
        "id": "fDLaxhLH0mfT"
      },
      "outputs": [],
      "source": [
        "model = LogisticRegression(max_iter=100000)\n",
        "\n",
        "model.fit(X_train, y_train)\n",
        "accuracy_score(model.predict(X_test), y_test)\n",
        "print(classification_report(model.predict(X_test), y_test))"
      ]
    },
    {
      "cell_type": "code",
      "source": [
        "# Wnioski: \n",
        "# - niezbalansowany zbiór danych \n",
        "#    - SMOTE ?\n",
        "#    - undersampling\n",
        "#    - overspampling (może jak smote to już nie)\n",
        "\n",
        "\n",
        "# - PCA + wybór feature'ów \n",
        "# - gridsearch (dla którego modelu? all ? )\n",
        "# - funkcja ważona \n",
        "# - zabawa tresholdem"
      ],
      "metadata": {
        "id": "M_VYEXaarbYT"
      },
      "execution_count": null,
      "outputs": []
    }
  ],
  "metadata": {
    "colab": {
      "machine_shape": "hm",
      "name": "jpx_prediction.ipynb",
      "provenance": [],
      "collapsed_sections": [],
      "authorship_tag": "ABX9TyMYK/r4i8VOo3/cdnKsHu6A",
      "include_colab_link": true
    },
    "gpuClass": "standard",
    "kernelspec": {
      "display_name": "Python 3",
      "name": "python3"
    },
    "language_info": {
      "name": "python"
    },
    "accelerator": "GPU"
  },
  "nbformat": 4,
  "nbformat_minor": 0
}